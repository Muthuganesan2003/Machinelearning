{
  "nbformat": 4,
  "nbformat_minor": 0,
  "metadata": {
    "colab": {
      "provenance": []
    },
    "kernelspec": {
      "name": "python3",
      "display_name": "Python 3"
    },
    "language_info": {
      "name": "python"
    }
  },
  "cells": [
    {
      "cell_type": "markdown",
      "source": [
        "## Predicting Zomato cost using Random forest Regression"
      ],
      "metadata": {
        "id": "0Pu463ytEobU"
      }
    },
    {
      "cell_type": "code",
      "source": [
        "import numpy as np\n",
        "import matplotlib.pyplot as plt\n",
        "import pandas as pd\n",
        "import seaborn as sns"
      ],
      "metadata": {
        "id": "Ubywr7lSEwoM"
      },
      "execution_count": 154,
      "outputs": []
    },
    {
      "cell_type": "code",
      "source": [
        "dataset=pd.read_csv('zomatocleaned.csv')"
      ],
      "metadata": {
        "id": "7RWZrx-g4GBe"
      },
      "execution_count": 155,
      "outputs": []
    },
    {
      "cell_type": "code",
      "source": [
        "dataset.head()"
      ],
      "metadata": {
        "colab": {
          "base_uri": "https://localhost:8080/",
          "height": 206
        },
        "id": "xrkIR_hA4MCv",
        "outputId": "19f26991-ea77-47e7-9ae5-2864c5a46099"
      },
      "execution_count": 156,
      "outputs": [
        {
          "output_type": "execute_result",
          "data": {
            "text/plain": [
              "   Unnamed: 0                   name online_order book_table  rating  votes  \\\n",
              "0           0                  Jalsa          Yes        Yes     4.1    775   \n",
              "1           1         Spice Elephant          Yes         No     4.1    787   \n",
              "2           2        San Churro Cafe          Yes         No     3.8    918   \n",
              "3           3  Addhuri Udupi Bhojana           No         No     3.7     88   \n",
              "4           4          Grand Village           No         No     3.8    166   \n",
              "\n",
              "       location            rest_type  \\\n",
              "0  Banashankari        Casual Dining   \n",
              "1  Banashankari        Casual Dining   \n",
              "2  Banashankari  Cafe, Casual Dining   \n",
              "3  Banashankari          Quick Bites   \n",
              "4  Basavanagudi        Casual Dining   \n",
              "\n",
              "                                          dish_liked  \\\n",
              "0  Pasta, Lunch Buffet, Masala Papad, Paneer Laja...   \n",
              "1  Momos, Lunch Buffet, Chocolate Nirvana, Thai G...   \n",
              "2  Churros, Cannelloni, Minestrone Soup, Hot Choc...   \n",
              "3                                        Masala Dosa   \n",
              "4                                Panipuri, Gol Gappe   \n",
              "\n",
              "                         cuisines approx_cost    type  \n",
              "0  North Indian, Mughlai, Chinese         800  Buffet  \n",
              "1     Chinese, North Indian, Thai         800  Buffet  \n",
              "2          Cafe, Mexican, Italian         800  Buffet  \n",
              "3      South Indian, North Indian         300  Buffet  \n",
              "4        North Indian, Rajasthani         600  Buffet  "
            ],
            "text/html": [
              "\n",
              "\n",
              "  <div id=\"df-1b90f639-954f-4ff1-8c99-df1cc0460cb0\">\n",
              "    <div class=\"colab-df-container\">\n",
              "      <div>\n",
              "<style scoped>\n",
              "    .dataframe tbody tr th:only-of-type {\n",
              "        vertical-align: middle;\n",
              "    }\n",
              "\n",
              "    .dataframe tbody tr th {\n",
              "        vertical-align: top;\n",
              "    }\n",
              "\n",
              "    .dataframe thead th {\n",
              "        text-align: right;\n",
              "    }\n",
              "</style>\n",
              "<table border=\"1\" class=\"dataframe\">\n",
              "  <thead>\n",
              "    <tr style=\"text-align: right;\">\n",
              "      <th></th>\n",
              "      <th>Unnamed: 0</th>\n",
              "      <th>name</th>\n",
              "      <th>online_order</th>\n",
              "      <th>book_table</th>\n",
              "      <th>rating</th>\n",
              "      <th>votes</th>\n",
              "      <th>location</th>\n",
              "      <th>rest_type</th>\n",
              "      <th>dish_liked</th>\n",
              "      <th>cuisines</th>\n",
              "      <th>approx_cost</th>\n",
              "      <th>type</th>\n",
              "    </tr>\n",
              "  </thead>\n",
              "  <tbody>\n",
              "    <tr>\n",
              "      <th>0</th>\n",
              "      <td>0</td>\n",
              "      <td>Jalsa</td>\n",
              "      <td>Yes</td>\n",
              "      <td>Yes</td>\n",
              "      <td>4.1</td>\n",
              "      <td>775</td>\n",
              "      <td>Banashankari</td>\n",
              "      <td>Casual Dining</td>\n",
              "      <td>Pasta, Lunch Buffet, Masala Papad, Paneer Laja...</td>\n",
              "      <td>North Indian, Mughlai, Chinese</td>\n",
              "      <td>800</td>\n",
              "      <td>Buffet</td>\n",
              "    </tr>\n",
              "    <tr>\n",
              "      <th>1</th>\n",
              "      <td>1</td>\n",
              "      <td>Spice Elephant</td>\n",
              "      <td>Yes</td>\n",
              "      <td>No</td>\n",
              "      <td>4.1</td>\n",
              "      <td>787</td>\n",
              "      <td>Banashankari</td>\n",
              "      <td>Casual Dining</td>\n",
              "      <td>Momos, Lunch Buffet, Chocolate Nirvana, Thai G...</td>\n",
              "      <td>Chinese, North Indian, Thai</td>\n",
              "      <td>800</td>\n",
              "      <td>Buffet</td>\n",
              "    </tr>\n",
              "    <tr>\n",
              "      <th>2</th>\n",
              "      <td>2</td>\n",
              "      <td>San Churro Cafe</td>\n",
              "      <td>Yes</td>\n",
              "      <td>No</td>\n",
              "      <td>3.8</td>\n",
              "      <td>918</td>\n",
              "      <td>Banashankari</td>\n",
              "      <td>Cafe, Casual Dining</td>\n",
              "      <td>Churros, Cannelloni, Minestrone Soup, Hot Choc...</td>\n",
              "      <td>Cafe, Mexican, Italian</td>\n",
              "      <td>800</td>\n",
              "      <td>Buffet</td>\n",
              "    </tr>\n",
              "    <tr>\n",
              "      <th>3</th>\n",
              "      <td>3</td>\n",
              "      <td>Addhuri Udupi Bhojana</td>\n",
              "      <td>No</td>\n",
              "      <td>No</td>\n",
              "      <td>3.7</td>\n",
              "      <td>88</td>\n",
              "      <td>Banashankari</td>\n",
              "      <td>Quick Bites</td>\n",
              "      <td>Masala Dosa</td>\n",
              "      <td>South Indian, North Indian</td>\n",
              "      <td>300</td>\n",
              "      <td>Buffet</td>\n",
              "    </tr>\n",
              "    <tr>\n",
              "      <th>4</th>\n",
              "      <td>4</td>\n",
              "      <td>Grand Village</td>\n",
              "      <td>No</td>\n",
              "      <td>No</td>\n",
              "      <td>3.8</td>\n",
              "      <td>166</td>\n",
              "      <td>Basavanagudi</td>\n",
              "      <td>Casual Dining</td>\n",
              "      <td>Panipuri, Gol Gappe</td>\n",
              "      <td>North Indian, Rajasthani</td>\n",
              "      <td>600</td>\n",
              "      <td>Buffet</td>\n",
              "    </tr>\n",
              "  </tbody>\n",
              "</table>\n",
              "</div>\n",
              "      <button class=\"colab-df-convert\" onclick=\"convertToInteractive('df-1b90f639-954f-4ff1-8c99-df1cc0460cb0')\"\n",
              "              title=\"Convert this dataframe to an interactive table.\"\n",
              "              style=\"display:none;\">\n",
              "\n",
              "  <svg xmlns=\"http://www.w3.org/2000/svg\" height=\"24px\"viewBox=\"0 0 24 24\"\n",
              "       width=\"24px\">\n",
              "    <path d=\"M0 0h24v24H0V0z\" fill=\"none\"/>\n",
              "    <path d=\"M18.56 5.44l.94 2.06.94-2.06 2.06-.94-2.06-.94-.94-2.06-.94 2.06-2.06.94zm-11 1L8.5 8.5l.94-2.06 2.06-.94-2.06-.94L8.5 2.5l-.94 2.06-2.06.94zm10 10l.94 2.06.94-2.06 2.06-.94-2.06-.94-.94-2.06-.94 2.06-2.06.94z\"/><path d=\"M17.41 7.96l-1.37-1.37c-.4-.4-.92-.59-1.43-.59-.52 0-1.04.2-1.43.59L10.3 9.45l-7.72 7.72c-.78.78-.78 2.05 0 2.83L4 21.41c.39.39.9.59 1.41.59.51 0 1.02-.2 1.41-.59l7.78-7.78 2.81-2.81c.8-.78.8-2.07 0-2.86zM5.41 20L4 18.59l7.72-7.72 1.47 1.35L5.41 20z\"/>\n",
              "  </svg>\n",
              "      </button>\n",
              "\n",
              "\n",
              "\n",
              "    <div id=\"df-31e01497-b4fb-41d9-ad69-abfa3e699b91\">\n",
              "      <button class=\"colab-df-quickchart\" onclick=\"quickchart('df-31e01497-b4fb-41d9-ad69-abfa3e699b91')\"\n",
              "              title=\"Suggest charts.\"\n",
              "              style=\"display:none;\">\n",
              "\n",
              "<svg xmlns=\"http://www.w3.org/2000/svg\" height=\"24px\"viewBox=\"0 0 24 24\"\n",
              "     width=\"24px\">\n",
              "    <g>\n",
              "        <path d=\"M19 3H5c-1.1 0-2 .9-2 2v14c0 1.1.9 2 2 2h14c1.1 0 2-.9 2-2V5c0-1.1-.9-2-2-2zM9 17H7v-7h2v7zm4 0h-2V7h2v10zm4 0h-2v-4h2v4z\"/>\n",
              "    </g>\n",
              "</svg>\n",
              "      </button>\n",
              "    </div>\n",
              "\n",
              "<style>\n",
              "  .colab-df-quickchart {\n",
              "    background-color: #E8F0FE;\n",
              "    border: none;\n",
              "    border-radius: 50%;\n",
              "    cursor: pointer;\n",
              "    display: none;\n",
              "    fill: #1967D2;\n",
              "    height: 32px;\n",
              "    padding: 0 0 0 0;\n",
              "    width: 32px;\n",
              "  }\n",
              "\n",
              "  .colab-df-quickchart:hover {\n",
              "    background-color: #E2EBFA;\n",
              "    box-shadow: 0px 1px 2px rgba(60, 64, 67, 0.3), 0px 1px 3px 1px rgba(60, 64, 67, 0.15);\n",
              "    fill: #174EA6;\n",
              "  }\n",
              "\n",
              "  [theme=dark] .colab-df-quickchart {\n",
              "    background-color: #3B4455;\n",
              "    fill: #D2E3FC;\n",
              "  }\n",
              "\n",
              "  [theme=dark] .colab-df-quickchart:hover {\n",
              "    background-color: #434B5C;\n",
              "    box-shadow: 0px 1px 3px 1px rgba(0, 0, 0, 0.15);\n",
              "    filter: drop-shadow(0px 1px 2px rgba(0, 0, 0, 0.3));\n",
              "    fill: #FFFFFF;\n",
              "  }\n",
              "</style>\n",
              "\n",
              "    <script>\n",
              "      async function quickchart(key) {\n",
              "        const containerElement = document.querySelector('#' + key);\n",
              "        const charts = await google.colab.kernel.invokeFunction(\n",
              "            'suggestCharts', [key], {});\n",
              "      }\n",
              "    </script>\n",
              "\n",
              "      <script>\n",
              "\n",
              "function displayQuickchartButton(domScope) {\n",
              "  let quickchartButtonEl =\n",
              "    domScope.querySelector('#df-31e01497-b4fb-41d9-ad69-abfa3e699b91 button.colab-df-quickchart');\n",
              "  quickchartButtonEl.style.display =\n",
              "    google.colab.kernel.accessAllowed ? 'block' : 'none';\n",
              "}\n",
              "\n",
              "        displayQuickchartButton(document);\n",
              "      </script>\n",
              "      <style>\n",
              "    .colab-df-container {\n",
              "      display:flex;\n",
              "      flex-wrap:wrap;\n",
              "      gap: 12px;\n",
              "    }\n",
              "\n",
              "    .colab-df-convert {\n",
              "      background-color: #E8F0FE;\n",
              "      border: none;\n",
              "      border-radius: 50%;\n",
              "      cursor: pointer;\n",
              "      display: none;\n",
              "      fill: #1967D2;\n",
              "      height: 32px;\n",
              "      padding: 0 0 0 0;\n",
              "      width: 32px;\n",
              "    }\n",
              "\n",
              "    .colab-df-convert:hover {\n",
              "      background-color: #E2EBFA;\n",
              "      box-shadow: 0px 1px 2px rgba(60, 64, 67, 0.3), 0px 1px 3px 1px rgba(60, 64, 67, 0.15);\n",
              "      fill: #174EA6;\n",
              "    }\n",
              "\n",
              "    [theme=dark] .colab-df-convert {\n",
              "      background-color: #3B4455;\n",
              "      fill: #D2E3FC;\n",
              "    }\n",
              "\n",
              "    [theme=dark] .colab-df-convert:hover {\n",
              "      background-color: #434B5C;\n",
              "      box-shadow: 0px 1px 3px 1px rgba(0, 0, 0, 0.15);\n",
              "      filter: drop-shadow(0px 1px 2px rgba(0, 0, 0, 0.3));\n",
              "      fill: #FFFFFF;\n",
              "    }\n",
              "  </style>\n",
              "\n",
              "      <script>\n",
              "        const buttonEl =\n",
              "          document.querySelector('#df-1b90f639-954f-4ff1-8c99-df1cc0460cb0 button.colab-df-convert');\n",
              "        buttonEl.style.display =\n",
              "          google.colab.kernel.accessAllowed ? 'block' : 'none';\n",
              "\n",
              "        async function convertToInteractive(key) {\n",
              "          const element = document.querySelector('#df-1b90f639-954f-4ff1-8c99-df1cc0460cb0');\n",
              "          const dataTable =\n",
              "            await google.colab.kernel.invokeFunction('convertToInteractive',\n",
              "                                                     [key], {});\n",
              "          if (!dataTable) return;\n",
              "\n",
              "          const docLinkHtml = 'Like what you see? Visit the ' +\n",
              "            '<a target=\"_blank\" href=https://colab.research.google.com/notebooks/data_table.ipynb>data table notebook</a>'\n",
              "            + ' to learn more about interactive tables.';\n",
              "          element.innerHTML = '';\n",
              "          dataTable['output_type'] = 'display_data';\n",
              "          await google.colab.output.renderOutput(dataTable, element);\n",
              "          const docLink = document.createElement('div');\n",
              "          docLink.innerHTML = docLinkHtml;\n",
              "          element.appendChild(docLink);\n",
              "        }\n",
              "      </script>\n",
              "    </div>\n",
              "  </div>\n"
            ]
          },
          "metadata": {},
          "execution_count": 156
        }
      ]
    },
    {
      "cell_type": "code",
      "source": [
        "dataset.tail()"
      ],
      "metadata": {
        "colab": {
          "base_uri": "https://localhost:8080/",
          "height": 206
        },
        "id": "qUvT_ErbCWA9",
        "outputId": "db3d0408-b2ba-4020-8096-c81ace35088f"
      },
      "execution_count": 157,
      "outputs": [
        {
          "output_type": "execute_result",
          "data": {
            "text/plain": [
              "       Unnamed: 0                                               name  \\\n",
              "30331       56244                         The Farm House Bar n Grill   \n",
              "30332       56246                                            Bhagini   \n",
              "30333       56247  Best Brews - Four Points by Sheraton Bengaluru...   \n",
              "30334       56250  Chime - Sheraton Grand Bengaluru Whitefield Ho...   \n",
              "30335       56251                       The Nest - The Den Bengaluru   \n",
              "\n",
              "      online_order book_table  rating  votes                    location  \\\n",
              "30331           No         No     3.7     34                  Whitefield   \n",
              "30332           No         No     2.5     81                  Whitefield   \n",
              "30333           No         No     3.6     27                  Whitefield   \n",
              "30334           No        Yes     4.3    236  ITPL Main Road, Whitefield   \n",
              "30335           No         No     3.4     13  ITPL Main Road, Whitefield   \n",
              "\n",
              "                rest_type                    dish_liked  \\\n",
              "30331  Casual Dining, Bar                           NaN   \n",
              "30332  Casual Dining, Bar          Biryani, Andhra Meal   \n",
              "30333                 Bar                           NaN   \n",
              "30334                 Bar  Cocktails, Pizza, Buttermilk   \n",
              "30335  Bar, Casual Dining                           NaN   \n",
              "\n",
              "                                          cuisines approx_cost           type  \n",
              "30331                    North Indian, Continental         800  Pubs and bars  \n",
              "30332  Andhra, South Indian, Chinese, North Indian         800  Pubs and bars  \n",
              "30333                                  Continental       1,500  Pubs and bars  \n",
              "30334                                  Finger Food       2,500  Pubs and bars  \n",
              "30335       Finger Food, North Indian, Continental       1,500  Pubs and bars  "
            ],
            "text/html": [
              "\n",
              "\n",
              "  <div id=\"df-631e5d02-8244-48ed-9925-8e5a6d2e88a7\">\n",
              "    <div class=\"colab-df-container\">\n",
              "      <div>\n",
              "<style scoped>\n",
              "    .dataframe tbody tr th:only-of-type {\n",
              "        vertical-align: middle;\n",
              "    }\n",
              "\n",
              "    .dataframe tbody tr th {\n",
              "        vertical-align: top;\n",
              "    }\n",
              "\n",
              "    .dataframe thead th {\n",
              "        text-align: right;\n",
              "    }\n",
              "</style>\n",
              "<table border=\"1\" class=\"dataframe\">\n",
              "  <thead>\n",
              "    <tr style=\"text-align: right;\">\n",
              "      <th></th>\n",
              "      <th>Unnamed: 0</th>\n",
              "      <th>name</th>\n",
              "      <th>online_order</th>\n",
              "      <th>book_table</th>\n",
              "      <th>rating</th>\n",
              "      <th>votes</th>\n",
              "      <th>location</th>\n",
              "      <th>rest_type</th>\n",
              "      <th>dish_liked</th>\n",
              "      <th>cuisines</th>\n",
              "      <th>approx_cost</th>\n",
              "      <th>type</th>\n",
              "    </tr>\n",
              "  </thead>\n",
              "  <tbody>\n",
              "    <tr>\n",
              "      <th>30331</th>\n",
              "      <td>56244</td>\n",
              "      <td>The Farm House Bar n Grill</td>\n",
              "      <td>No</td>\n",
              "      <td>No</td>\n",
              "      <td>3.7</td>\n",
              "      <td>34</td>\n",
              "      <td>Whitefield</td>\n",
              "      <td>Casual Dining, Bar</td>\n",
              "      <td>NaN</td>\n",
              "      <td>North Indian, Continental</td>\n",
              "      <td>800</td>\n",
              "      <td>Pubs and bars</td>\n",
              "    </tr>\n",
              "    <tr>\n",
              "      <th>30332</th>\n",
              "      <td>56246</td>\n",
              "      <td>Bhagini</td>\n",
              "      <td>No</td>\n",
              "      <td>No</td>\n",
              "      <td>2.5</td>\n",
              "      <td>81</td>\n",
              "      <td>Whitefield</td>\n",
              "      <td>Casual Dining, Bar</td>\n",
              "      <td>Biryani, Andhra Meal</td>\n",
              "      <td>Andhra, South Indian, Chinese, North Indian</td>\n",
              "      <td>800</td>\n",
              "      <td>Pubs and bars</td>\n",
              "    </tr>\n",
              "    <tr>\n",
              "      <th>30333</th>\n",
              "      <td>56247</td>\n",
              "      <td>Best Brews - Four Points by Sheraton Bengaluru...</td>\n",
              "      <td>No</td>\n",
              "      <td>No</td>\n",
              "      <td>3.6</td>\n",
              "      <td>27</td>\n",
              "      <td>Whitefield</td>\n",
              "      <td>Bar</td>\n",
              "      <td>NaN</td>\n",
              "      <td>Continental</td>\n",
              "      <td>1,500</td>\n",
              "      <td>Pubs and bars</td>\n",
              "    </tr>\n",
              "    <tr>\n",
              "      <th>30334</th>\n",
              "      <td>56250</td>\n",
              "      <td>Chime - Sheraton Grand Bengaluru Whitefield Ho...</td>\n",
              "      <td>No</td>\n",
              "      <td>Yes</td>\n",
              "      <td>4.3</td>\n",
              "      <td>236</td>\n",
              "      <td>ITPL Main Road, Whitefield</td>\n",
              "      <td>Bar</td>\n",
              "      <td>Cocktails, Pizza, Buttermilk</td>\n",
              "      <td>Finger Food</td>\n",
              "      <td>2,500</td>\n",
              "      <td>Pubs and bars</td>\n",
              "    </tr>\n",
              "    <tr>\n",
              "      <th>30335</th>\n",
              "      <td>56251</td>\n",
              "      <td>The Nest - The Den Bengaluru</td>\n",
              "      <td>No</td>\n",
              "      <td>No</td>\n",
              "      <td>3.4</td>\n",
              "      <td>13</td>\n",
              "      <td>ITPL Main Road, Whitefield</td>\n",
              "      <td>Bar, Casual Dining</td>\n",
              "      <td>NaN</td>\n",
              "      <td>Finger Food, North Indian, Continental</td>\n",
              "      <td>1,500</td>\n",
              "      <td>Pubs and bars</td>\n",
              "    </tr>\n",
              "  </tbody>\n",
              "</table>\n",
              "</div>\n",
              "      <button class=\"colab-df-convert\" onclick=\"convertToInteractive('df-631e5d02-8244-48ed-9925-8e5a6d2e88a7')\"\n",
              "              title=\"Convert this dataframe to an interactive table.\"\n",
              "              style=\"display:none;\">\n",
              "\n",
              "  <svg xmlns=\"http://www.w3.org/2000/svg\" height=\"24px\"viewBox=\"0 0 24 24\"\n",
              "       width=\"24px\">\n",
              "    <path d=\"M0 0h24v24H0V0z\" fill=\"none\"/>\n",
              "    <path d=\"M18.56 5.44l.94 2.06.94-2.06 2.06-.94-2.06-.94-.94-2.06-.94 2.06-2.06.94zm-11 1L8.5 8.5l.94-2.06 2.06-.94-2.06-.94L8.5 2.5l-.94 2.06-2.06.94zm10 10l.94 2.06.94-2.06 2.06-.94-2.06-.94-.94-2.06-.94 2.06-2.06.94z\"/><path d=\"M17.41 7.96l-1.37-1.37c-.4-.4-.92-.59-1.43-.59-.52 0-1.04.2-1.43.59L10.3 9.45l-7.72 7.72c-.78.78-.78 2.05 0 2.83L4 21.41c.39.39.9.59 1.41.59.51 0 1.02-.2 1.41-.59l7.78-7.78 2.81-2.81c.8-.78.8-2.07 0-2.86zM5.41 20L4 18.59l7.72-7.72 1.47 1.35L5.41 20z\"/>\n",
              "  </svg>\n",
              "      </button>\n",
              "\n",
              "\n",
              "\n",
              "    <div id=\"df-4d4b09c3-d10d-4004-9422-f43e0d9c84b4\">\n",
              "      <button class=\"colab-df-quickchart\" onclick=\"quickchart('df-4d4b09c3-d10d-4004-9422-f43e0d9c84b4')\"\n",
              "              title=\"Suggest charts.\"\n",
              "              style=\"display:none;\">\n",
              "\n",
              "<svg xmlns=\"http://www.w3.org/2000/svg\" height=\"24px\"viewBox=\"0 0 24 24\"\n",
              "     width=\"24px\">\n",
              "    <g>\n",
              "        <path d=\"M19 3H5c-1.1 0-2 .9-2 2v14c0 1.1.9 2 2 2h14c1.1 0 2-.9 2-2V5c0-1.1-.9-2-2-2zM9 17H7v-7h2v7zm4 0h-2V7h2v10zm4 0h-2v-4h2v4z\"/>\n",
              "    </g>\n",
              "</svg>\n",
              "      </button>\n",
              "    </div>\n",
              "\n",
              "<style>\n",
              "  .colab-df-quickchart {\n",
              "    background-color: #E8F0FE;\n",
              "    border: none;\n",
              "    border-radius: 50%;\n",
              "    cursor: pointer;\n",
              "    display: none;\n",
              "    fill: #1967D2;\n",
              "    height: 32px;\n",
              "    padding: 0 0 0 0;\n",
              "    width: 32px;\n",
              "  }\n",
              "\n",
              "  .colab-df-quickchart:hover {\n",
              "    background-color: #E2EBFA;\n",
              "    box-shadow: 0px 1px 2px rgba(60, 64, 67, 0.3), 0px 1px 3px 1px rgba(60, 64, 67, 0.15);\n",
              "    fill: #174EA6;\n",
              "  }\n",
              "\n",
              "  [theme=dark] .colab-df-quickchart {\n",
              "    background-color: #3B4455;\n",
              "    fill: #D2E3FC;\n",
              "  }\n",
              "\n",
              "  [theme=dark] .colab-df-quickchart:hover {\n",
              "    background-color: #434B5C;\n",
              "    box-shadow: 0px 1px 3px 1px rgba(0, 0, 0, 0.15);\n",
              "    filter: drop-shadow(0px 1px 2px rgba(0, 0, 0, 0.3));\n",
              "    fill: #FFFFFF;\n",
              "  }\n",
              "</style>\n",
              "\n",
              "    <script>\n",
              "      async function quickchart(key) {\n",
              "        const containerElement = document.querySelector('#' + key);\n",
              "        const charts = await google.colab.kernel.invokeFunction(\n",
              "            'suggestCharts', [key], {});\n",
              "      }\n",
              "    </script>\n",
              "\n",
              "      <script>\n",
              "\n",
              "function displayQuickchartButton(domScope) {\n",
              "  let quickchartButtonEl =\n",
              "    domScope.querySelector('#df-4d4b09c3-d10d-4004-9422-f43e0d9c84b4 button.colab-df-quickchart');\n",
              "  quickchartButtonEl.style.display =\n",
              "    google.colab.kernel.accessAllowed ? 'block' : 'none';\n",
              "}\n",
              "\n",
              "        displayQuickchartButton(document);\n",
              "      </script>\n",
              "      <style>\n",
              "    .colab-df-container {\n",
              "      display:flex;\n",
              "      flex-wrap:wrap;\n",
              "      gap: 12px;\n",
              "    }\n",
              "\n",
              "    .colab-df-convert {\n",
              "      background-color: #E8F0FE;\n",
              "      border: none;\n",
              "      border-radius: 50%;\n",
              "      cursor: pointer;\n",
              "      display: none;\n",
              "      fill: #1967D2;\n",
              "      height: 32px;\n",
              "      padding: 0 0 0 0;\n",
              "      width: 32px;\n",
              "    }\n",
              "\n",
              "    .colab-df-convert:hover {\n",
              "      background-color: #E2EBFA;\n",
              "      box-shadow: 0px 1px 2px rgba(60, 64, 67, 0.3), 0px 1px 3px 1px rgba(60, 64, 67, 0.15);\n",
              "      fill: #174EA6;\n",
              "    }\n",
              "\n",
              "    [theme=dark] .colab-df-convert {\n",
              "      background-color: #3B4455;\n",
              "      fill: #D2E3FC;\n",
              "    }\n",
              "\n",
              "    [theme=dark] .colab-df-convert:hover {\n",
              "      background-color: #434B5C;\n",
              "      box-shadow: 0px 1px 3px 1px rgba(0, 0, 0, 0.15);\n",
              "      filter: drop-shadow(0px 1px 2px rgba(0, 0, 0, 0.3));\n",
              "      fill: #FFFFFF;\n",
              "    }\n",
              "  </style>\n",
              "\n",
              "      <script>\n",
              "        const buttonEl =\n",
              "          document.querySelector('#df-631e5d02-8244-48ed-9925-8e5a6d2e88a7 button.colab-df-convert');\n",
              "        buttonEl.style.display =\n",
              "          google.colab.kernel.accessAllowed ? 'block' : 'none';\n",
              "\n",
              "        async function convertToInteractive(key) {\n",
              "          const element = document.querySelector('#df-631e5d02-8244-48ed-9925-8e5a6d2e88a7');\n",
              "          const dataTable =\n",
              "            await google.colab.kernel.invokeFunction('convertToInteractive',\n",
              "                                                     [key], {});\n",
              "          if (!dataTable) return;\n",
              "\n",
              "          const docLinkHtml = 'Like what you see? Visit the ' +\n",
              "            '<a target=\"_blank\" href=https://colab.research.google.com/notebooks/data_table.ipynb>data table notebook</a>'\n",
              "            + ' to learn more about interactive tables.';\n",
              "          element.innerHTML = '';\n",
              "          dataTable['output_type'] = 'display_data';\n",
              "          await google.colab.output.renderOutput(dataTable, element);\n",
              "          const docLink = document.createElement('div');\n",
              "          docLink.innerHTML = docLinkHtml;\n",
              "          element.appendChild(docLink);\n",
              "        }\n",
              "      </script>\n",
              "    </div>\n",
              "  </div>\n"
            ]
          },
          "metadata": {},
          "execution_count": 157
        }
      ]
    },
    {
      "cell_type": "code",
      "source": [
        "dataset.isnull().sum()"
      ],
      "metadata": {
        "colab": {
          "base_uri": "https://localhost:8080/"
        },
        "id": "U2gHV-G94OXZ",
        "outputId": "9608f465-7edc-41e2-ecf2-1bade873b63a"
      },
      "execution_count": 158,
      "outputs": [
        {
          "output_type": "execute_result",
          "data": {
            "text/plain": [
              "Unnamed: 0          0\n",
              "name                0\n",
              "online_order        0\n",
              "book_table          0\n",
              "rating              0\n",
              "votes               0\n",
              "location            0\n",
              "rest_type         107\n",
              "dish_liked      13213\n",
              "cuisines            6\n",
              "approx_cost         0\n",
              "type             2584\n",
              "dtype: int64"
            ]
          },
          "metadata": {},
          "execution_count": 158
        }
      ]
    },
    {
      "cell_type": "code",
      "source": [
        "dataset.fillna('',inplace=True)"
      ],
      "metadata": {
        "id": "iZT1H2gm5Ob0"
      },
      "execution_count": 159,
      "outputs": []
    },
    {
      "cell_type": "code",
      "source": [
        "dataset.isnull().sum()"
      ],
      "metadata": {
        "colab": {
          "base_uri": "https://localhost:8080/"
        },
        "id": "YlyrkCZH5Vll",
        "outputId": "1d9a083a-f3d6-44cf-c088-83c0f4c8bdfc"
      },
      "execution_count": 160,
      "outputs": [
        {
          "output_type": "execute_result",
          "data": {
            "text/plain": [
              "Unnamed: 0      0\n",
              "name            0\n",
              "online_order    0\n",
              "book_table      0\n",
              "rating          0\n",
              "votes           0\n",
              "location        0\n",
              "rest_type       0\n",
              "dish_liked      0\n",
              "cuisines        0\n",
              "approx_cost     0\n",
              "type            0\n",
              "dtype: int64"
            ]
          },
          "metadata": {},
          "execution_count": 160
        }
      ]
    },
    {
      "cell_type": "code",
      "source": [
        "dataset.info()"
      ],
      "metadata": {
        "colab": {
          "base_uri": "https://localhost:8080/"
        },
        "id": "GMRr6b4CE10j",
        "outputId": "9ddd0421-dcab-45e1-8f00-08b22c4325db"
      },
      "execution_count": 161,
      "outputs": [
        {
          "output_type": "stream",
          "name": "stdout",
          "text": [
            "<class 'pandas.core.frame.DataFrame'>\n",
            "RangeIndex: 30336 entries, 0 to 30335\n",
            "Data columns (total 12 columns):\n",
            " #   Column        Non-Null Count  Dtype  \n",
            "---  ------        --------------  -----  \n",
            " 0   Unnamed: 0    30336 non-null  int64  \n",
            " 1   name          30336 non-null  object \n",
            " 2   online_order  30336 non-null  object \n",
            " 3   book_table    30336 non-null  object \n",
            " 4   rating        30336 non-null  float64\n",
            " 5   votes         30336 non-null  int64  \n",
            " 6   location      30336 non-null  object \n",
            " 7   rest_type     30336 non-null  object \n",
            " 8   dish_liked    30336 non-null  object \n",
            " 9   cuisines      30336 non-null  object \n",
            " 10  approx_cost   30336 non-null  object \n",
            " 11  type          30336 non-null  object \n",
            "dtypes: float64(1), int64(2), object(9)\n",
            "memory usage: 2.8+ MB\n"
          ]
        }
      ]
    },
    {
      "cell_type": "code",
      "source": [
        "dataset.describe()"
      ],
      "metadata": {
        "colab": {
          "base_uri": "https://localhost:8080/",
          "height": 300
        },
        "id": "nskDVKLnE4DL",
        "outputId": "aec49625-71bb-4ddb-8a58-1fc1e2633d54"
      },
      "execution_count": 162,
      "outputs": [
        {
          "output_type": "execute_result",
          "data": {
            "text/plain": [
              "         Unnamed: 0        rating         votes\n",
              "count  30336.000000  30336.000000  30336.000000\n",
              "mean   26538.803435      3.549364    352.687994\n",
              "std    17168.088370      0.879905    865.065354\n",
              "min        0.000000      0.000000      0.000000\n",
              "25%    10576.500000      3.400000     19.000000\n",
              "50%    25595.000000      3.700000     74.000000\n",
              "75%    42797.250000      4.000000    291.000000\n",
              "max    56251.000000      4.900000  16832.000000"
            ],
            "text/html": [
              "\n",
              "\n",
              "  <div id=\"df-73685a6b-5ff7-4e3d-a3cf-93f5dd06212e\">\n",
              "    <div class=\"colab-df-container\">\n",
              "      <div>\n",
              "<style scoped>\n",
              "    .dataframe tbody tr th:only-of-type {\n",
              "        vertical-align: middle;\n",
              "    }\n",
              "\n",
              "    .dataframe tbody tr th {\n",
              "        vertical-align: top;\n",
              "    }\n",
              "\n",
              "    .dataframe thead th {\n",
              "        text-align: right;\n",
              "    }\n",
              "</style>\n",
              "<table border=\"1\" class=\"dataframe\">\n",
              "  <thead>\n",
              "    <tr style=\"text-align: right;\">\n",
              "      <th></th>\n",
              "      <th>Unnamed: 0</th>\n",
              "      <th>rating</th>\n",
              "      <th>votes</th>\n",
              "    </tr>\n",
              "  </thead>\n",
              "  <tbody>\n",
              "    <tr>\n",
              "      <th>count</th>\n",
              "      <td>30336.000000</td>\n",
              "      <td>30336.000000</td>\n",
              "      <td>30336.000000</td>\n",
              "    </tr>\n",
              "    <tr>\n",
              "      <th>mean</th>\n",
              "      <td>26538.803435</td>\n",
              "      <td>3.549364</td>\n",
              "      <td>352.687994</td>\n",
              "    </tr>\n",
              "    <tr>\n",
              "      <th>std</th>\n",
              "      <td>17168.088370</td>\n",
              "      <td>0.879905</td>\n",
              "      <td>865.065354</td>\n",
              "    </tr>\n",
              "    <tr>\n",
              "      <th>min</th>\n",
              "      <td>0.000000</td>\n",
              "      <td>0.000000</td>\n",
              "      <td>0.000000</td>\n",
              "    </tr>\n",
              "    <tr>\n",
              "      <th>25%</th>\n",
              "      <td>10576.500000</td>\n",
              "      <td>3.400000</td>\n",
              "      <td>19.000000</td>\n",
              "    </tr>\n",
              "    <tr>\n",
              "      <th>50%</th>\n",
              "      <td>25595.000000</td>\n",
              "      <td>3.700000</td>\n",
              "      <td>74.000000</td>\n",
              "    </tr>\n",
              "    <tr>\n",
              "      <th>75%</th>\n",
              "      <td>42797.250000</td>\n",
              "      <td>4.000000</td>\n",
              "      <td>291.000000</td>\n",
              "    </tr>\n",
              "    <tr>\n",
              "      <th>max</th>\n",
              "      <td>56251.000000</td>\n",
              "      <td>4.900000</td>\n",
              "      <td>16832.000000</td>\n",
              "    </tr>\n",
              "  </tbody>\n",
              "</table>\n",
              "</div>\n",
              "      <button class=\"colab-df-convert\" onclick=\"convertToInteractive('df-73685a6b-5ff7-4e3d-a3cf-93f5dd06212e')\"\n",
              "              title=\"Convert this dataframe to an interactive table.\"\n",
              "              style=\"display:none;\">\n",
              "\n",
              "  <svg xmlns=\"http://www.w3.org/2000/svg\" height=\"24px\"viewBox=\"0 0 24 24\"\n",
              "       width=\"24px\">\n",
              "    <path d=\"M0 0h24v24H0V0z\" fill=\"none\"/>\n",
              "    <path d=\"M18.56 5.44l.94 2.06.94-2.06 2.06-.94-2.06-.94-.94-2.06-.94 2.06-2.06.94zm-11 1L8.5 8.5l.94-2.06 2.06-.94-2.06-.94L8.5 2.5l-.94 2.06-2.06.94zm10 10l.94 2.06.94-2.06 2.06-.94-2.06-.94-.94-2.06-.94 2.06-2.06.94z\"/><path d=\"M17.41 7.96l-1.37-1.37c-.4-.4-.92-.59-1.43-.59-.52 0-1.04.2-1.43.59L10.3 9.45l-7.72 7.72c-.78.78-.78 2.05 0 2.83L4 21.41c.39.39.9.59 1.41.59.51 0 1.02-.2 1.41-.59l7.78-7.78 2.81-2.81c.8-.78.8-2.07 0-2.86zM5.41 20L4 18.59l7.72-7.72 1.47 1.35L5.41 20z\"/>\n",
              "  </svg>\n",
              "      </button>\n",
              "\n",
              "\n",
              "\n",
              "    <div id=\"df-ac8a01fc-1d9e-40a2-872e-0b6b03854824\">\n",
              "      <button class=\"colab-df-quickchart\" onclick=\"quickchart('df-ac8a01fc-1d9e-40a2-872e-0b6b03854824')\"\n",
              "              title=\"Suggest charts.\"\n",
              "              style=\"display:none;\">\n",
              "\n",
              "<svg xmlns=\"http://www.w3.org/2000/svg\" height=\"24px\"viewBox=\"0 0 24 24\"\n",
              "     width=\"24px\">\n",
              "    <g>\n",
              "        <path d=\"M19 3H5c-1.1 0-2 .9-2 2v14c0 1.1.9 2 2 2h14c1.1 0 2-.9 2-2V5c0-1.1-.9-2-2-2zM9 17H7v-7h2v7zm4 0h-2V7h2v10zm4 0h-2v-4h2v4z\"/>\n",
              "    </g>\n",
              "</svg>\n",
              "      </button>\n",
              "    </div>\n",
              "\n",
              "<style>\n",
              "  .colab-df-quickchart {\n",
              "    background-color: #E8F0FE;\n",
              "    border: none;\n",
              "    border-radius: 50%;\n",
              "    cursor: pointer;\n",
              "    display: none;\n",
              "    fill: #1967D2;\n",
              "    height: 32px;\n",
              "    padding: 0 0 0 0;\n",
              "    width: 32px;\n",
              "  }\n",
              "\n",
              "  .colab-df-quickchart:hover {\n",
              "    background-color: #E2EBFA;\n",
              "    box-shadow: 0px 1px 2px rgba(60, 64, 67, 0.3), 0px 1px 3px 1px rgba(60, 64, 67, 0.15);\n",
              "    fill: #174EA6;\n",
              "  }\n",
              "\n",
              "  [theme=dark] .colab-df-quickchart {\n",
              "    background-color: #3B4455;\n",
              "    fill: #D2E3FC;\n",
              "  }\n",
              "\n",
              "  [theme=dark] .colab-df-quickchart:hover {\n",
              "    background-color: #434B5C;\n",
              "    box-shadow: 0px 1px 3px 1px rgba(0, 0, 0, 0.15);\n",
              "    filter: drop-shadow(0px 1px 2px rgba(0, 0, 0, 0.3));\n",
              "    fill: #FFFFFF;\n",
              "  }\n",
              "</style>\n",
              "\n",
              "    <script>\n",
              "      async function quickchart(key) {\n",
              "        const containerElement = document.querySelector('#' + key);\n",
              "        const charts = await google.colab.kernel.invokeFunction(\n",
              "            'suggestCharts', [key], {});\n",
              "      }\n",
              "    </script>\n",
              "\n",
              "      <script>\n",
              "\n",
              "function displayQuickchartButton(domScope) {\n",
              "  let quickchartButtonEl =\n",
              "    domScope.querySelector('#df-ac8a01fc-1d9e-40a2-872e-0b6b03854824 button.colab-df-quickchart');\n",
              "  quickchartButtonEl.style.display =\n",
              "    google.colab.kernel.accessAllowed ? 'block' : 'none';\n",
              "}\n",
              "\n",
              "        displayQuickchartButton(document);\n",
              "      </script>\n",
              "      <style>\n",
              "    .colab-df-container {\n",
              "      display:flex;\n",
              "      flex-wrap:wrap;\n",
              "      gap: 12px;\n",
              "    }\n",
              "\n",
              "    .colab-df-convert {\n",
              "      background-color: #E8F0FE;\n",
              "      border: none;\n",
              "      border-radius: 50%;\n",
              "      cursor: pointer;\n",
              "      display: none;\n",
              "      fill: #1967D2;\n",
              "      height: 32px;\n",
              "      padding: 0 0 0 0;\n",
              "      width: 32px;\n",
              "    }\n",
              "\n",
              "    .colab-df-convert:hover {\n",
              "      background-color: #E2EBFA;\n",
              "      box-shadow: 0px 1px 2px rgba(60, 64, 67, 0.3), 0px 1px 3px 1px rgba(60, 64, 67, 0.15);\n",
              "      fill: #174EA6;\n",
              "    }\n",
              "\n",
              "    [theme=dark] .colab-df-convert {\n",
              "      background-color: #3B4455;\n",
              "      fill: #D2E3FC;\n",
              "    }\n",
              "\n",
              "    [theme=dark] .colab-df-convert:hover {\n",
              "      background-color: #434B5C;\n",
              "      box-shadow: 0px 1px 3px 1px rgba(0, 0, 0, 0.15);\n",
              "      filter: drop-shadow(0px 1px 2px rgba(0, 0, 0, 0.3));\n",
              "      fill: #FFFFFF;\n",
              "    }\n",
              "  </style>\n",
              "\n",
              "      <script>\n",
              "        const buttonEl =\n",
              "          document.querySelector('#df-73685a6b-5ff7-4e3d-a3cf-93f5dd06212e button.colab-df-convert');\n",
              "        buttonEl.style.display =\n",
              "          google.colab.kernel.accessAllowed ? 'block' : 'none';\n",
              "\n",
              "        async function convertToInteractive(key) {\n",
              "          const element = document.querySelector('#df-73685a6b-5ff7-4e3d-a3cf-93f5dd06212e');\n",
              "          const dataTable =\n",
              "            await google.colab.kernel.invokeFunction('convertToInteractive',\n",
              "                                                     [key], {});\n",
              "          if (!dataTable) return;\n",
              "\n",
              "          const docLinkHtml = 'Like what you see? Visit the ' +\n",
              "            '<a target=\"_blank\" href=https://colab.research.google.com/notebooks/data_table.ipynb>data table notebook</a>'\n",
              "            + ' to learn more about interactive tables.';\n",
              "          element.innerHTML = '';\n",
              "          dataTable['output_type'] = 'display_data';\n",
              "          await google.colab.output.renderOutput(dataTable, element);\n",
              "          const docLink = document.createElement('div');\n",
              "          docLink.innerHTML = docLinkHtml;\n",
              "          element.appendChild(docLink);\n",
              "        }\n",
              "      </script>\n",
              "    </div>\n",
              "  </div>\n"
            ]
          },
          "metadata": {},
          "execution_count": 162
        }
      ]
    },
    {
      "cell_type": "code",
      "source": [
        "sns.set()"
      ],
      "metadata": {
        "id": "mABTstZwFCnV"
      },
      "execution_count": 163,
      "outputs": []
    },
    {
      "cell_type": "code",
      "source": [
        "sns.countplot(x='online_order',data=dataset)\n",
        "plt.show()"
      ],
      "metadata": {
        "colab": {
          "base_uri": "https://localhost:8080/",
          "height": 458
        },
        "id": "H7eqdckNFFH1",
        "outputId": "9fc6c067-e098-4687-a668-bb2a25fefbfa"
      },
      "execution_count": 164,
      "outputs": [
        {
          "output_type": "display_data",
          "data": {
            "text/plain": [
              "<Figure size 640x480 with 1 Axes>"
            ],
            "image/png": "[encoded data removed]"
          },
          "metadata": {}
        }
      ]
    },
    {
      "cell_type": "code",
      "source": [
        "plt.figure(figsize=(20,20))\n",
        "sns.countplot(x='type',data=dataset)\n",
        "plt.show()"
      ],
      "metadata": {
        "colab": {
          "base_uri": "https://localhost:8080/",
          "height": 1000
        },
        "id": "yBpbR4kBFPi_",
        "outputId": "7de57822-3482-400c-d12e-5d131105a70b"
      },
      "execution_count": 188,
      "outputs": [
        {
          "output_type": "display_data",
          "data": {
            "text/plain": [
              "<Figure size 2000x2000 with 1 Axes>"
            ],
            "image/png": "[encoded data removed]"
          },
          "metadata": {}
        }
      ]
    },
    {
      "cell_type": "code",
      "source": [
        "combined_features=dataset['location']+' '+dataset['rest_type']+' '+dataset['dish_liked']+' '+dataset['cuisines']+' '+ dataset['type']+' '+dataset['online_order']+' '+dataset['book_table']"
      ],
      "metadata": {
        "id": "fbv7iINt49ch"
      },
      "execution_count": 166,
      "outputs": []
    },
    {
      "cell_type": "code",
      "source": [
        "print(combined_features)"
      ],
      "metadata": {
        "colab": {
          "base_uri": "https://localhost:8080/"
        },
        "id": "lAFXQlCF5pv1",
        "outputId": "2f4b4cd7-15d8-4c7e-df84-9daae61e6ccf"
      },
      "execution_count": 167,
      "outputs": [
        {
          "output_type": "stream",
          "name": "stdout",
          "text": [
            "0        Banashankari Casual Dining Pasta, Lunch Buffet...\n",
            "1        Banashankari Casual Dining Momos, Lunch Buffet...\n",
            "2        Banashankari Cafe, Casual Dining Churros, Cann...\n",
            "3        Banashankari Quick Bites Masala Dosa South Ind...\n",
            "4        Basavanagudi Casual Dining Panipuri, Gol Gappe...\n",
            "                               ...                        \n",
            "30331    Whitefield Casual Dining, Bar  North Indian, C...\n",
            "30332    Whitefield Casual Dining, Bar Biryani, Andhra ...\n",
            "30333      Whitefield Bar  Continental Pubs and bars No No\n",
            "30334    ITPL Main Road, Whitefield Bar Cocktails, Pizz...\n",
            "30335    ITPL Main Road, Whitefield Bar, Casual Dining ...\n",
            "Length: 30336, dtype: object\n"
          ]
        }
      ]
    },
    {
      "cell_type": "code",
      "source": [
        "dataset['approx_cost']=dataset['approx_cost'].str.replace(\",\",\"\")"
      ],
      "metadata": {
        "id": "wfZn1ggMCmPl"
      },
      "execution_count": 168,
      "outputs": []
    },
    {
      "cell_type": "code",
      "source": [
        "print(dataset['approx_cost'])"
      ],
      "metadata": {
        "colab": {
          "base_uri": "https://localhost:8080/"
        },
        "id": "GioK4D3zDG9l",
        "outputId": "0a92ce31-2c83-4c5a-cb13-d7b3b86720c6"
      },
      "execution_count": 169,
      "outputs": [
        {
          "output_type": "stream",
          "name": "stdout",
          "text": [
            "0         800\n",
            "1         800\n",
            "2         800\n",
            "3         300\n",
            "4         600\n",
            "         ... \n",
            "30331     800\n",
            "30332     800\n",
            "30333    1500\n",
            "30334    2500\n",
            "30335    1500\n",
            "Name: approx_cost, Length: 30336, dtype: object\n"
          ]
        }
      ]
    },
    {
      "cell_type": "code",
      "source": [
        "from sklearn.feature_extraction.text import TfidfVectorizer\n",
        "vectorizer=TfidfVectorizer()\n",
        "feature_extracted=vectorizer.fit_transform(combined_features)\n"
      ],
      "metadata": {
        "id": "GyQcHpq85tLa"
      },
      "execution_count": 170,
      "outputs": []
    },
    {
      "cell_type": "code",
      "source": [
        "print(feature_extracted)"
      ],
      "metadata": {
        "colab": {
          "base_uri": "https://localhost:8080/"
        },
        "id": "Fmg2_zUJ6CkC",
        "outputId": "2e24f4db-337a-4728-d752-77ec54151498"
      },
      "execution_count": 171,
      "outputs": [
        {
          "output_type": "stream",
          "name": "stdout",
          "text": [
            "  (0, 1568)\t0.114243533845267\n",
            "  (0, 294)\t0.09218815005470504\n",
            "  (0, 965)\t0.1840215515086939\n",
            "  (0, 643)\t0.07284118410522541\n",
            "  (0, 1006)\t0.07911484920262286\n",
            "  (0, 1366)\t0.18172247867018482\n",
            "  (0, 346)\t0.2230300966570826\n",
            "  (0, 1418)\t0.19882665693587764\n",
            "  (0, 163)\t0.10977976461457796\n",
            "  (0, 462)\t0.23362091340909139\n",
            "  (0, 1331)\t0.323282358511688\n",
            "  (0, 1483)\t0.2673365229552753\n",
            "  (0, 791)\t0.3766946417177534\n",
            "  (0, 1050)\t0.16254532721256193\n",
            "  (0, 1059)\t0.2818465131020008\n",
            "  (0, 885)\t0.1596287434803775\n",
            "  (0, 218)\t0.3921363392623232\n",
            "  (0, 826)\t0.23710594123663734\n",
            "  (0, 1074)\t0.1427293327584017\n",
            "  (0, 431)\t0.09251741884528093\n",
            "  (0, 259)\t0.09395408855030522\n",
            "  (0, 86)\t0.21708387656482878\n",
            "  (1, 1001)\t0.046718023902691724\n",
            "  (1, 290)\t0.10572723009737259\n",
            "  (1, 1473)\t0.18249130222508372\n",
            "  :\t:\n",
            "  (30334, 513)\t0.2685607824178034\n",
            "  (30334, 327)\t0.21521667016924215\n",
            "  (30334, 97)\t0.2285509747577478\n",
            "  (30334, 231)\t0.32440006146632533\n",
            "  (30334, 526)\t0.13493442031317002\n",
            "  (30334, 1232)\t0.15699809830052713\n",
            "  (30334, 1130)\t0.18663014571482747\n",
            "  (30334, 1001)\t0.06420503197372295\n",
            "  (30334, 1568)\t0.07854741859072428\n",
            "  (30335, 845)\t0.3811344334491373\n",
            "  (30335, 654)\t0.4241771669401313\n",
            "  (30335, 103)\t0.32656717149431236\n",
            "  (30335, 37)\t0.32656717149431236\n",
            "  (30335, 1166)\t0.32656717149431236\n",
            "  (30335, 1547)\t0.23756823143942546\n",
            "  (30335, 513)\t0.2820407427931498\n",
            "  (30335, 97)\t0.24002270959462474\n",
            "  (30335, 526)\t0.14170722840047356\n",
            "  (30335, 340)\t0.18827126371705588\n",
            "  (30335, 1232)\t0.16487835589079378\n",
            "  (30335, 1001)\t0.1348553928529686\n",
            "  (30335, 643)\t0.10519050433415736\n",
            "  (30335, 1006)\t0.11425035150338393\n",
            "  (30335, 431)\t0.13360510359044855\n",
            "  (30335, 259)\t0.13567980916655228\n"
          ]
        }
      ]
    },
    {
      "cell_type": "code",
      "source": [
        "feature_extracted.shape"
      ],
      "metadata": {
        "colab": {
          "base_uri": "https://localhost:8080/"
        },
        "id": "xxKRwfIB8cpM",
        "outputId": "fd35ce9c-4c1a-4f55-e2f8-8ca857deb7d1"
      },
      "execution_count": 172,
      "outputs": [
        {
          "output_type": "execute_result",
          "data": {
            "text/plain": [
              "(30336, 1578)"
            ]
          },
          "metadata": {},
          "execution_count": 172
        }
      ]
    },
    {
      "cell_type": "code",
      "source": [
        "dataset.shape"
      ],
      "metadata": {
        "colab": {
          "base_uri": "https://localhost:8080/"
        },
        "id": "GRhZzSj0-RPP",
        "outputId": "a552cf9d-153d-4cf2-dabb-bb3574ac12a3"
      },
      "execution_count": 173,
      "outputs": [
        {
          "output_type": "execute_result",
          "data": {
            "text/plain": [
              "(30336, 12)"
            ]
          },
          "metadata": {},
          "execution_count": 173
        }
      ]
    },
    {
      "cell_type": "code",
      "source": [
        "x=feature_extracted\n",
        "y=dataset['approx_cost'].values"
      ],
      "metadata": {
        "id": "jds2XZXU-Tvs"
      },
      "execution_count": 174,
      "outputs": []
    },
    {
      "cell_type": "code",
      "source": [
        "print(x)"
      ],
      "metadata": {
        "colab": {
          "base_uri": "https://localhost:8080/"
        },
        "id": "MvRC8dXR_UKe",
        "outputId": "e2cf5774-8482-40e3-c59a-221b477df8b6"
      },
      "execution_count": 175,
      "outputs": [
        {
          "output_type": "stream",
          "name": "stdout",
          "text": [
            "  (0, 1568)\t0.114243533845267\n",
            "  (0, 294)\t0.09218815005470504\n",
            "  (0, 965)\t0.1840215515086939\n",
            "  (0, 643)\t0.07284118410522541\n",
            "  (0, 1006)\t0.07911484920262286\n",
            "  (0, 1366)\t0.18172247867018482\n",
            "  (0, 346)\t0.2230300966570826\n",
            "  (0, 1418)\t0.19882665693587764\n",
            "  (0, 163)\t0.10977976461457796\n",
            "  (0, 462)\t0.23362091340909139\n",
            "  (0, 1331)\t0.323282358511688\n",
            "  (0, 1483)\t0.2673365229552753\n",
            "  (0, 791)\t0.3766946417177534\n",
            "  (0, 1050)\t0.16254532721256193\n",
            "  (0, 1059)\t0.2818465131020008\n",
            "  (0, 885)\t0.1596287434803775\n",
            "  (0, 218)\t0.3921363392623232\n",
            "  (0, 826)\t0.23710594123663734\n",
            "  (0, 1074)\t0.1427293327584017\n",
            "  (0, 431)\t0.09251741884528093\n",
            "  (0, 259)\t0.09395408855030522\n",
            "  (0, 86)\t0.21708387656482878\n",
            "  (1, 1001)\t0.046718023902691724\n",
            "  (1, 290)\t0.10572723009737259\n",
            "  (1, 1473)\t0.18249130222508372\n",
            "  :\t:\n",
            "  (30334, 513)\t0.2685607824178034\n",
            "  (30334, 327)\t0.21521667016924215\n",
            "  (30334, 97)\t0.2285509747577478\n",
            "  (30334, 231)\t0.32440006146632533\n",
            "  (30334, 526)\t0.13493442031317002\n",
            "  (30334, 1232)\t0.15699809830052713\n",
            "  (30334, 1130)\t0.18663014571482747\n",
            "  (30334, 1001)\t0.06420503197372295\n",
            "  (30334, 1568)\t0.07854741859072428\n",
            "  (30335, 845)\t0.3811344334491373\n",
            "  (30335, 654)\t0.4241771669401313\n",
            "  (30335, 103)\t0.32656717149431236\n",
            "  (30335, 37)\t0.32656717149431236\n",
            "  (30335, 1166)\t0.32656717149431236\n",
            "  (30335, 1547)\t0.23756823143942546\n",
            "  (30335, 513)\t0.2820407427931498\n",
            "  (30335, 97)\t0.24002270959462474\n",
            "  (30335, 526)\t0.14170722840047356\n",
            "  (30335, 340)\t0.18827126371705588\n",
            "  (30335, 1232)\t0.16487835589079378\n",
            "  (30335, 1001)\t0.1348553928529686\n",
            "  (30335, 643)\t0.10519050433415736\n",
            "  (30335, 1006)\t0.11425035150338393\n",
            "  (30335, 431)\t0.13360510359044855\n",
            "  (30335, 259)\t0.13567980916655228\n"
          ]
        }
      ]
    },
    {
      "cell_type": "code",
      "source": [
        "print(y)"
      ],
      "metadata": {
        "colab": {
          "base_uri": "https://localhost:8080/"
        },
        "id": "s2LlNYn__Vn_",
        "outputId": "e7941063-b26b-4f40-c91f-f30f8f1d1ed4"
      },
      "execution_count": 176,
      "outputs": [
        {
          "output_type": "stream",
          "name": "stdout",
          "text": [
            "['800' '800' '800' ... '1500' '2500' '1500']\n"
          ]
        }
      ]
    },
    {
      "cell_type": "code",
      "source": [
        "from sklearn.model_selection import train_test_split\n",
        "x_train,x_test,y_train,y_test=train_test_split(x,y,test_size=0.2,random_state=0)\n"
      ],
      "metadata": {
        "id": "29YY-dhR_Wa8"
      },
      "execution_count": 177,
      "outputs": []
    },
    {
      "cell_type": "code",
      "source": [
        "from sklearn.ensemble import RandomForestRegressor\n",
        "regressor=RandomForestRegressor(n_estimators=10)\n",
        "regressor.fit(x_train,y_train)\n",
        "y_pred=regressor.predict(x_test)"
      ],
      "metadata": {
        "id": "8Ilm4ZsO_m7p"
      },
      "execution_count": 178,
      "outputs": []
    },
    {
      "cell_type": "code",
      "source": [
        "print(y_pred)"
      ],
      "metadata": {
        "colab": {
          "base_uri": "https://localhost:8080/"
        },
        "id": "e6GWIC_H_woh",
        "outputId": "d622e85f-dd5b-4032-e286-0fe419fb31d5"
      },
      "execution_count": 179,
      "outputs": [
        {
          "output_type": "stream",
          "name": "stdout",
          "text": [
            "[ 650.         2710.          375.         ...  463.5         226.875\n",
            "  160.16666667]\n"
          ]
        }
      ]
    },
    {
      "cell_type": "code",
      "source": [
        "from sklearn.metrics import r2_score\n",
        "print(r2_score(y_test,y_pred))"
      ],
      "metadata": {
        "colab": {
          "base_uri": "https://localhost:8080/"
        },
        "id": "MhzTS1a6EQo-",
        "outputId": "de44f558-12d5-436e-9722-4f6a0acd84fe"
      },
      "execution_count": 180,
      "outputs": [
        {
          "output_type": "stream",
          "name": "stdout",
          "text": [
            "0.9475123077892537\n"
          ]
        }
      ]
    },
    {
      "cell_type": "code",
      "source": [],
      "metadata": {
        "id": "ie9psFC9EYal"
      },
      "execution_count": 180,
      "outputs": []
    }
  ]
}