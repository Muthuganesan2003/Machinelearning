{
 "cells": [
  {
   "cell_type": "code",
   "execution_count": 64,
   "id": "1d60f2b0",
   "metadata": {},
   "outputs": [],
   "source": [
    "from plotly.offline import iplot\n",
    "import plotly as py\n",
    "import plotly.tools as tls\n",
    "import cufflinks as cf\n",
    "import pandas as pd\n",
    "import numpy as np\n",
    "import seaborn as sns\n",
    "import matplotlib.pyplot as plt\n",
    "%matplotlib inline\n"
   ]
  },
  {
   "cell_type": "code",
   "execution_count": 66,
   "id": "0b4d4ded",
   "metadata": {},
   "outputs": [
    {
     "name": "stdout",
     "output_type": "stream",
     "text": [
      "Help on method _iplot in module cufflinks.plotlytools:\n",
      "\n",
      "_iplot(kind='scatter', data=None, layout=None, filename='', sharing=None, title='', xTitle='', yTitle='', zTitle='', theme=None, colors=None, colorscale=None, fill=False, width=None, dash='solid', mode='', interpolation='linear', symbol='circle', size=12, barmode='', sortbars=False, bargap=None, bargroupgap=None, bins=None, histnorm='', histfunc='count', orientation='v', boxpoints=False, annotations=None, keys=False, bestfit=False, bestfit_colors=None, mean=False, mean_colors=None, categories='', x='', y='', z='', text='', gridcolor=None, zerolinecolor=None, margin=None, labels=None, values=None, secondary_y='', secondary_y_title='', subplots=False, shape=None, error_x=None, error_y=None, error_type='data', locations=None, lon=None, lat=None, asFrame=False, asDates=False, asFigure=False, asImage=False, dimensions=None, asPlot=False, asUrl=False, online=None, **kwargs) method of pandas.core.frame.DataFrame instance\n",
      "           Returns a plotly chart either as inline chart, image of Figure object\n",
      "    \n",
      "           Parameters:\n",
      "           -----------\n",
      "                   kind : string\n",
      "                           Kind of chart\n",
      "                                   scatter\n",
      "                                   bar\n",
      "                                   box\n",
      "                                   spread\n",
      "                                   ratio\n",
      "                                   heatmap\n",
      "                                   surface\n",
      "                                   histogram\n",
      "                                   bubble\n",
      "                                   bubble3d\n",
      "                                   scatter3d       \n",
      "                                   scattergeo\n",
      "                                   ohlc\n",
      "                                   candle\n",
      "                                   pie\n",
      "                                   choroplet       \n",
      "                   data : Data\n",
      "                           Plotly Data Object.\n",
      "                           If not entered then the Data object will be automatically\n",
      "                           generated from the DataFrame.\n",
      "                   layout : Layout\n",
      "                           Plotly layout Object\n",
      "                           If not entered then the Layout objet will be automatically\n",
      "                           generated from the DataFrame.\n",
      "                   filename : string\n",
      "                           Filename to be saved as in plotly account\n",
      "                   sharing : string\n",
      "                           Sets the sharing level permission\n",
      "                                   public - anyone can see this chart\n",
      "                                   private - only you can see this chart\n",
      "                                   secret - only people with the link can see the chart\n",
      "                   title : string\n",
      "                           Chart Title                             \n",
      "                   xTitle : string\n",
      "                           X Axis Title\n",
      "                   yTitle : string\n",
      "                           Y Axis Title\n",
      "                                   zTitle : string\n",
      "                   zTitle : string\n",
      "                           Z Axis Title\n",
      "                           Applicable only for 3d charts\n",
      "                   theme : string\n",
      "                           Layout Theme\n",
      "                                   solar\n",
      "                                   pearl\n",
      "                                   white           \n",
      "                           see cufflinks.getThemes() for all \n",
      "                           available themes\n",
      "                   colors : dict, list or string\n",
      "                           {key:color} to specify the color for each column\n",
      "                           [colors] to use the colors in the defined order\n",
      "                   colorscale : string\n",
      "                           Color scale name\n",
      "                           If the color name is preceded by a minus (-) \n",
      "                           then the scale is inversed\n",
      "                           Only valid if 'colors' is null\n",
      "                           See cufflinks.colors.scales() for available scales\n",
      "                   fill : bool\n",
      "                           Filled Traces           \n",
      "                   width : dict, list or int\n",
      "                                   int : applies to all traces\n",
      "                                   list : applies to each trace in the order \n",
      "                                                   specified\n",
      "                                   dict: {column:value} for each column in \n",
      "                                                   the dataframe\n",
      "                           Line width      \n",
      "                   dash : dict, list or string\n",
      "                                   string : applies to all traces\n",
      "                                   list : applies to each trace in the order \n",
      "                                                   specified\n",
      "                                   dict: {column:value} for each column in \n",
      "                                                   the dataframe\n",
      "                           Drawing style of lines\n",
      "                                   solid\n",
      "                                   dash\n",
      "                                   dashdot\n",
      "                                   dot\n",
      "                   mode : dict, list or string\n",
      "                                   string : applies to all traces\n",
      "                                   list : applies to each trace in the order \n",
      "                                                   specified\n",
      "                                   dict: {column:value} for each column in \n",
      "                                                   the dataframe\n",
      "                           Plotting mode for scatter trace\n",
      "                                   lines\n",
      "                                   markers\n",
      "                                   lines+markers\n",
      "                                   lines+text\n",
      "                                   markers+text\n",
      "                                   lines+markers+text\n",
      "                   interpolation : dict, list, or string\n",
      "                                   string : applies to all traces\n",
      "                                   list : applies to each trace in the order \n",
      "                                                   specified\n",
      "                                   dict: {column:value} for each column in \n",
      "                                                   the dataframe\n",
      "                           Positioning of the connecting lines\n",
      "                                   linear\n",
      "                                   spline\n",
      "                                   vhv\n",
      "                                   hvh\n",
      "                                   vh\n",
      "                                   hv              \n",
      "                   symbol : dict, list or string\n",
      "                                   string : applies to all traces\n",
      "                                   list : applies to each trace in the order \n",
      "                                                   specified\n",
      "                                   dict: {column:value} for each column in \n",
      "                                                   the dataframe\n",
      "                           The symbol that is drawn on the plot for each marker\n",
      "                           Valid only when mode includes markers\n",
      "                                   circle\n",
      "                                   circle-dot\n",
      "                                   diamond\n",
      "                                   square\n",
      "                                   and many more...(see plotly.validators.scatter.marker.SymbolValidator.values)\n",
      "                   size : string or int \n",
      "                           Size of marker \n",
      "                           Valid only if marker in mode\n",
      "                   barmode : string\n",
      "                           Mode when displaying bars\n",
      "                                   group\n",
      "                                   stack\n",
      "                                   overlay\n",
      "                           * Only valid when kind='bar'\n",
      "                   sortbars : bool\n",
      "                           Sort bars in descending order\n",
      "                           * Only valid when kind='bar'\n",
      "                   bargap : float\n",
      "                           Sets the gap between bars\n",
      "                                   [0,1)\n",
      "                           * Only valid when kind is 'histogram' or 'bar'\n",
      "                   bargroupgap : float\n",
      "                           Set the gap between groups\n",
      "                                   [0,1)\n",
      "                           * Only valid when kind is 'histogram' or 'bar'          \n",
      "                   bins : int or tuple \n",
      "                           if int:\n",
      "                                   Specifies the number of bins \n",
      "                           if tuple:\n",
      "                                   (start, end, size)\n",
      "                                   start : starting value\n",
      "                                   end: end value\n",
      "                                   size: bin size\n",
      "                           * Only valid when kind='histogram'\n",
      "    \n",
      "                   histnorm : string\n",
      "                                   '' (frequency)\n",
      "                                   percent\n",
      "                                   probability\n",
      "                                   density\n",
      "                                   probability density\n",
      "                           Sets the type of normalization for an histogram trace. By default\n",
      "                           the height of each bar displays the frequency of occurrence, i.e., \n",
      "                           the number of times this value was found in the\n",
      "                           corresponding bin. If set to 'percent', the height of each bar\n",
      "                           displays the percentage of total occurrences found within the\n",
      "                           corresponding bin. If set to 'probability', the height of each bar\n",
      "                           displays the probability that an event will fall into the\n",
      "                           corresponding bin. If set to 'density', the height of each bar is\n",
      "                           equal to the number of occurrences in a bin divided by the size of\n",
      "                           the bin interval such that summing the area of all bins will yield\n",
      "                           the total number of occurrences. If set to 'probability density',\n",
      "                           the height of each bar is equal to the number of probability that an\n",
      "                           event will fall into the corresponding bin divided by the size of\n",
      "                           the bin interval such that summing the area of all bins will yield\n",
      "                           1.\n",
      "                           * Only valid when kind='histogram'\n",
      "                   histfunc : string\n",
      "                                   count\n",
      "                                   sum\n",
      "                                   avg\n",
      "                                   min\n",
      "                                   max\n",
      "                      Sets the binning function used for an histogram trace. \n",
      "                           * Only valid when kind='histogram'           \n",
      "                   orientation : string\n",
      "                                   h \n",
      "                                   v\n",
      "                           Sets the orientation of the bars. If set to 'v', the length of each\n",
      "    |          bar will run vertically. If set to 'h', the length of each bar will\n",
      "    |          run horizontally\n",
      "                           * Only valid when kind is 'histogram','bar' or 'box'\n",
      "                   boxpoints : string\n",
      "                           Displays data points in a box plot\n",
      "                                   outliers\n",
      "                                   all\n",
      "                                   suspectedoutliers\n",
      "                                   False\n",
      "                   annotations : dictionary\n",
      "                           Dictionary of annotations\n",
      "                           {x_point : text}\n",
      "                   keys : list of columns\n",
      "                           List of columns to chart.\n",
      "                           Also can be used for custom sorting.\n",
      "                   bestfit : boolean or list\n",
      "                           If True then a best fit line will be generated for\n",
      "                           all columns.\n",
      "                           If list then a best fit line will be generated for\n",
      "                           each key on the list.\n",
      "                   bestfit_colors : list or dict\n",
      "                           {key:color} to specify the color for each column\n",
      "                           [colors] to use the colors in the defined order \n",
      "                   categories : string\n",
      "                           Name of the column that contains the categories\n",
      "                   x : string\n",
      "                           Name of the column that contains the x axis values              \n",
      "                   y : string\n",
      "                           Name of the column that contains the y axis values\n",
      "                   z : string\n",
      "                           Name of the column that contains the z axis values                                      \n",
      "                   text : string\n",
      "                           Name of the column that contains the text values        \n",
      "                   gridcolor : string\n",
      "                           Grid color      \n",
      "                   zerolinecolor : string\n",
      "                           Zero line color\n",
      "                   margin : dict or tuple\n",
      "                           Dictionary (l,r,b,t) or\n",
      "                           Tuple containing the left,\n",
      "                           right, bottom and top margins\n",
      "                   labels : string\n",
      "                           Name of the column that contains the labels.\n",
      "                           * Only valid when kind='pie' \n",
      "                   values : string\n",
      "                           Name of the column that contains the values.\n",
      "                           * Only valid when kind='pie'\n",
      "                   secondary_y : string or list(string)\n",
      "                           Name(s) of the column to be charted on the \n",
      "                           right hand side axis\n",
      "                   secondary_y_title : string\n",
      "                           Title of the secondary axis\n",
      "                   subplots : bool\n",
      "                           If true then each trace is placed in \n",
      "                           subplot layout\n",
      "                   shape : (rows,cols)\n",
      "                           Tuple indicating the size of rows and columns\n",
      "                           If omitted then the layout is automatically set\n",
      "                           * Only valid when subplots=True\n",
      "                   error_x : int or float or [int or float]\n",
      "                           error values for the x axis\n",
      "                   error_y : int or float or [int or float]\n",
      "                           error values for the y axis\n",
      "                   error_type : string\n",
      "                           type of error bars\n",
      "                                   'data' \n",
      "                                   'constant'\n",
      "                                   'percent'\n",
      "                                   'sqrt'\n",
      "                                   'continuous'\n",
      "                                   'continuous_percent'\n",
      "                   asFrame : bool\n",
      "                           If true then the data component of Figure will\n",
      "                           be of Pandas form (Series) otherwise they will \n",
      "                           be index values\n",
      "                   asDates : bool\n",
      "                           If true it truncates times from a DatetimeIndex\n",
      "                   asFigure : bool\n",
      "                           If True returns plotly Figure\n",
      "                   asImage : bool\n",
      "                           If True it returns an Image (png)\n",
      "                           In ONLINE mode:\n",
      "                                   Image file is saved in the working directory                            \n",
      "                                           Accepts:\n",
      "                                                   filename\n",
      "                                                   dimensions\n",
      "                                                   scale\n",
      "                                                   display_image\n",
      "                           In OFFLINE mode:\n",
      "                                   Image file is downloaded (downloads folder) and a \n",
      "                                   regular plotly chart is displayed in Jupyter\n",
      "                                           Accepts:\n",
      "                                                   filename\n",
      "                                                   dimensions\n",
      "                   dimensions : tuple(int,int)\n",
      "                           Dimensions for image / chart\n",
      "                                   (width,height)          \n",
      "                   asPlot : bool\n",
      "                           If True the chart opens in browser\n",
      "                   asUrl : bool\n",
      "                           If True the chart url/path is returned. No chart is displayed. \n",
      "                                   If Online : the URL is returned\n",
      "                                   If Offline : the local path is returned\n",
      "                   online : bool\n",
      "                           If True then the chart/image is rendered on the server \n",
      "                           even when running in offline mode. \n",
      "    \n",
      "                   Other Kwargs\n",
      "                   ============\n",
      "                   Line, Scatter\n",
      "                           connectgaps : bool\n",
      "                                   If True, empty values are connected \n",
      "                   Pie charts\n",
      "                           sort : bool\n",
      "                                   If True it sorts the labels by value\n",
      "                           pull : float [0-1]\n",
      "                                   Pulls the slices from the centre \n",
      "                           hole : float [0-1]\n",
      "                                   Sets the size of the inner hole\n",
      "                           linecolor : string\n",
      "                                   Sets the color for the contour line of the slices\n",
      "                           linewidth : string\n",
      "                                   Sets the width for the contour line of the slices       \n",
      "                           textcolor : string\n",
      "                                   Sets the color for the text in the slices\n",
      "                           textposition : string \n",
      "                                   Sets the position of the legends for each slice\n",
      "                                           outside\n",
      "                                           inner\n",
      "                           textinfo : string \n",
      "                                   Sets the information to be displayed on \n",
      "                                   the legends \n",
      "                                           label\n",
      "                                           percent\n",
      "                                           value\n",
      "                                           * or ony combination of the above using \n",
      "                                             '+' between each item\n",
      "                                             ie 'label+percent'\n",
      "    \n",
      "                   Histogram\n",
      "                           linecolor : string\n",
      "                                   specifies the line color of the histogram\n",
      "    \n",
      "                   Heatmap and Surface\n",
      "                           center_scale : float\n",
      "                                   Centers the colorscale at a specific value\n",
      "                                   Automatically sets the (zmin,zmax) values\n",
      "                           zmin : float\n",
      "                                   Defines the minimum range for the z values. \n",
      "                                   This affects the range for the colorscale\n",
      "                           zmax : float\n",
      "                                   Defines the maximum range for the z values. \n",
      "                                   This affects the range for the colorscale\n",
      "    \n",
      "                   Error Bars\n",
      "                           error_trace : string\n",
      "                                   Name of the column for which error should be \n",
      "                                   plotted. If omitted then errors apply to all \n",
      "                                   traces.\n",
      "                           error_values_minus : int or float or [int or float]\n",
      "                                   Values corresponding to the span of the error bars \n",
      "                                   below the trace coordinates\n",
      "                           error_color : string\n",
      "                                   Color for error bars\n",
      "                           error_thickness : float \n",
      "                                   Sets the line thickness of the error bars\n",
      "                           error_width :  float\n",
      "                                   Sets the width (in pixels) of the cross-bar at both \n",
      "                                   ends of the error bars\n",
      "                           error_opacity : float [0,1]\n",
      "                                   Opacity for the error bars\n",
      "    \n",
      "                   Subplots\n",
      "                           horizontal_spacing : float [0,1]\n",
      "                                   Space between subplot columns.\n",
      "                           vertical_spacing : float [0,1]\n",
      "                                   Space between subplot rows.\n",
      "                           subplot_titles : bool\n",
      "                                   If True, chart titles are plotted\n",
      "                                   at the top of each subplot\n",
      "                           shared_xaxes : bool\n",
      "                                   Assign shared x axes.\n",
      "                                   If True, subplots in the same grid column have one common\n",
      "                                   shared x-axis at the bottom of the grid.\n",
      "                           shared_yaxes : bool\n",
      "                                   Assign shared y axes.\n",
      "                                   If True, subplots in the same grid row have one common\n",
      "                                   shared y-axis on the left-hand side of the grid.\n",
      "    \n",
      "                   Shapes\n",
      "                           hline : float, list or dict\n",
      "                                   Draws a horizontal line at the \n",
      "                                   indicated y position(s)\n",
      "                                   Extra parameters can be passed in\n",
      "                                   the form of a dictionary (see shapes)\n",
      "                           vline : float, list or dict\n",
      "                                   Draws a vertical line at the \n",
      "                                   indicated x position(s)\n",
      "                                   Extra parameters can be passed in\n",
      "                                   the form of a dictionary (see shapes)\n",
      "                           hpsan : (y0,y1)\n",
      "                                   Draws a horizontal rectangle at the \n",
      "                                   indicated (y0,y1) positions.\n",
      "                                   Extra parameters can be passed in\n",
      "                                   the form of a dictionary (see shapes)\n",
      "                           vspan : (x0,x1)\n",
      "                                   Draws a vertical rectangle at the \n",
      "                                   indicated (x0,x1) positions.\n",
      "                                   Extra parameters can be passed in\n",
      "                                   the form of a dictionary (see shapes)\n",
      "                           shapes : dict or list(dict)\n",
      "                                   List of dictionaries with the \n",
      "                                   specifications of a given shape.\n",
      "                                   See help(cufflinks.tools.get_shape)\n",
      "                                   for more information\n",
      "                   \n",
      "                   Axis Ranges\n",
      "                           xrange : [lower_bound,upper_bound]\n",
      "                                   Sets the range for the x axis\n",
      "                           yrange : [lower_bound,upper_bound]\n",
      "                                   Sets the range for the y axis\n",
      "                           zrange : [lower_bound,upper_bound]\n",
      "                                   Sets the range for the z axis\n",
      "                                   \n",
      "                   Explicit Layout Updates\n",
      "                           layout_update : dict\n",
      "                                   The layout will be modified with all \n",
      "                                   the explicit values stated in the \n",
      "                                   dictionary. \n",
      "                                   It will not apply if layout is passed\n",
      "                                   as parameter.\n",
      "    \n",
      "    \n",
      "                   Range Selector\n",
      "                           rangeselector : dict\n",
      "                                   Defines a rangeselector object\n",
      "                                   see help(cf.tools.get_range_selector) for more information\n",
      "                                   Example:\n",
      "                                           {'steps':['1y','2 months','5 weeks','ytd','2mtd'],\n",
      "                                            'axis':'xaxis', 'bgcolor' : ('blue',.3),\n",
      "                                            'x': 0.2 , 'y' : 0.9}\n",
      "    \n",
      "                   Range Slider\n",
      "                           rangeslider : bool or dict\n",
      "                                   Defines if a rangeslider is displayed\n",
      "                                   If bool: \n",
      "                                           True : Makes it visible\n",
      "                                   if dict:\n",
      "                                           Rangeslider object\n",
      "                                   Example:\n",
      "                                           {'bgcolor':('blue',.3),'autorange':True}\n",
      "    \n",
      "                   Annotations\n",
      "                           fontcolor : str\n",
      "                                   Text color for annotations\n",
      "                           fontsize : int\n",
      "                                   Text size for annotations\n",
      "                           textangle : int\n",
      "                                   Text angle \n",
      "                           See https://plot.ly/python/reference/#layout-annotations \n",
      "                           for a complete list of valid parameters.\n",
      "    \n",
      "                   Exports\n",
      "                           display_image : bool\n",
      "                                   If True then the image if displayed after being saved\n",
      "                                   ** only valid if asImage=True\n",
      "                           scale : integer\n",
      "                                   Increase the resolution of the image by `scale` amount\n",
      "                                   Only valid when asImage=True\n",
      "\n"
     ]
    }
   ],
   "source": [
    "df=pd.DataFrame()\n",
    "help(df.iplot)"
   ]
  },
  {
   "cell_type": "code",
   "execution_count": 67,
   "id": "470376a0",
   "metadata": {},
   "outputs": [
    {
     "data": {
      "text/html": [
       "        <script type=\"text/javascript\">\n",
       "        window.PlotlyConfig = {MathJaxConfig: 'local'};\n",
       "        if (window.MathJax && window.MathJax.Hub && window.MathJax.Hub.Config) {window.MathJax.Hub.Config({SVG: {font: \"STIX-Web\"}});}\n",
       "        if (typeof require !== 'undefined') {\n",
       "        require.undef(\"plotly\");\n",
       "        requirejs.config({\n",
       "            paths: {\n",
       "                'plotly': ['https://cdn.plot.ly/plotly-2.12.1.min']\n",
       "            }\n",
       "        });\n",
       "        require(['plotly'], function(Plotly) {\n",
       "            window._Plotly = Plotly;\n",
       "        });\n",
       "        }\n",
       "        </script>\n",
       "        "
      ]
     },
     "metadata": {},
     "output_type": "display_data"
    }
   ],
   "source": [
    "py.offline.init_notebook_mode(connected=True)"
   ]
  },
  {
   "cell_type": "code",
   "execution_count": 68,
   "id": "f93cdc79",
   "metadata": {},
   "outputs": [
    {
     "data": {
      "text/html": [
       "        <script type=\"text/javascript\">\n",
       "        window.PlotlyConfig = {MathJaxConfig: 'local'};\n",
       "        if (window.MathJax && window.MathJax.Hub && window.MathJax.Hub.Config) {window.MathJax.Hub.Config({SVG: {font: \"STIX-Web\"}});}\n",
       "        if (typeof require !== 'undefined') {\n",
       "        require.undef(\"plotly\");\n",
       "        requirejs.config({\n",
       "            paths: {\n",
       "                'plotly': ['https://cdn.plot.ly/plotly-2.12.1.min']\n",
       "            }\n",
       "        });\n",
       "        require(['plotly'], function(Plotly) {\n",
       "            window._Plotly = Plotly;\n",
       "        });\n",
       "        }\n",
       "        </script>\n",
       "        "
      ]
     },
     "metadata": {},
     "output_type": "display_data"
    }
   ],
   "source": [
    "cf.go_offline()"
   ]
  },
  {
   "cell_type": "code",
   "execution_count": 69,
   "id": "c31053c3",
   "metadata": {},
   "outputs": [],
   "source": [
    " dataset=pd.DataFrame(np.random.randn(100,3),columns=['A','B','C'])"
   ]
  },
  {
   "cell_type": "code",
   "execution_count": 88,
   "id": "8ff559af",
   "metadata": {},
   "outputs": [],
   "source": [
    "dataset.head()\n",
    "dataset['A']=dataset['A'].cumsum()+150\n",
    "dataset['B']=dataset['B'].cumsum()+12\n",
    "dataset['C']=dataset['C'].cumsum()+12"
   ]
  },
  {
   "cell_type": "code",
   "execution_count": 89,
   "id": "5a032b5f",
   "metadata": {},
   "outputs": [
    {
     "data": {
      "application/vnd.plotly.v1+json": {
       "config": {
        "linkText": "Export to plot.ly",
        "plotlyServerURL": "https://plot.ly",
        "showLink": true
       },
       "data": [
        {
         "line": {
          "color": "rgba(255, 153, 51, 1.0)",
          "dash": "solid",
          "shape": "linear",
          "width": 1.3
         },
         "mode": "lines",
         "name": "A",
         "text": "",
         "type": "scatter",
         "x": [
          0,
          1,
          2,
          3,
          4,
          5,
          6,
          7,
          8,
          9,
          10,
          11,
          12,
          13,
          14,
          15,
          16,
          17,
          18,
          19,
          20,
          21,
          22,
          23,
          24,
          25,
          26,
          27,
          28,
          29,
          30,
          31,
          32,
          33,
          34,
          35,
          36,
          37,
          38,
          39,
          40,
          41,
          42,
          43,
          44,
          45,
          46,
          47,
          48,
          49,
          50,
          51,
          52,
          53,
          54,
          55,
          56,
          57,
          58,
          59,
          60,
          61,
          62,
          63,
          64,
          65,
          66,
          67,
          68,
          69,
          70,
          71,
          72,
          73,
          74,
          75,
          76,
          77,
          78,
          79,
          80,
          81,
          82,
          83,
          84,
          85,
          86,
          87,
          88,
          89,
          90,
          91,
          92,
          93,
          94,
          95,
          96,
          97,
          98,
          99
         ],
         "y": [
          161.8737274377388,
          173.77306149948808,
          188.73812582456767,
          207.0321568867123,
          229.78742652737577,
          259.0797255248952,
          294.31283293771753,
          337.1839498825344,
          387.7020812043336,
          446.5834864263468,
          515.1134059097271,
          591.5512309646191,
          675.2902173390262,
          765.1840557674842,
          861.8153748835009,
          963.5162470644855,
          1070.7250857053696,
          1183.5866013219897,
          1302.5273421455745,
          1428.4215729854307,
          1561.447972626071,
          1701.7047901950295,
          1849.141231442883,
          2003.6481698689167,
          2165.2621686015264,
          2334.6005645298424,
          2511.4272175788606,
          2693.780923721283,
          2881.453097121142,
          3074.4951063361063,
          3271.708793675398,
          3473.2659149889364,
          3678.591481320759,
          3886.759868274675,
          4097.6743909614515,
          4310.731431184611,
          4526.935306407223,
          4746.453415622421,
          4967.021492508257,
          5189.450645872972,
          5413.5339682871,
          5637.5444417373465,
          5861.0007205737975,
          6084.154855426379,
          6308.178463873976,
          6533.154565439401,
          6758.463688902214,
          6984.192101137421,
          7209.473458832503,
          7435.754442038169,
          7663.136875401055,
          7889.691370533818,
          8113.1743867257655,
          8333.066989560579,
          8548.239953381519,
          8757.582924982908,
          8962.137331346812,
          9161.47890196411,
          9356.701633987901,
          9548.128320696947,
          9735.29237458757,
          9918.404642810172,
          10097.0758054278,
          10270.293890960651,
          10437.129939217564,
          10597.555889337878,
          10752.505928772103,
          10902.131539730675,
          11045.909561156946,
          11182.12938035177,
          11310.437397937809,
          11429.835802284315,
          11539.217313741667,
          11637.93699488431,
          11726.583092161307,
          11804.912045077004,
          11872.371659112745,
          11929.742058823262,
          11976.216769595057,
          12011.091959399115,
          12034.22419846311,
          12047.64779766643,
          12050.39840135786,
          12042.76492803371,
          12024.232817777442,
          11994.602454961358,
          11954.445491428709,
          11905.614653798439,
          11848.61047092312,
          11783.985523219659,
          11712.880365193165,
          11633.894617537771,
          11547.19722225406,
          11451.845923969988,
          11345.750539727716,
          11228.364193636075,
          11099.760594643112,
          10959.672478025324,
          10808.204574298878,
          10644.85404460801
         ]
        },
        {
         "line": {
          "color": "rgba(55, 128, 191, 1.0)",
          "dash": "solid",
          "shape": "linear",
          "width": 1.3
         },
         "mode": "lines",
         "name": "B",
         "text": "",
         "type": "scatter",
         "x": [
          0,
          1,
          2,
          3,
          4,
          5,
          6,
          7,
          8,
          9,
          10,
          11,
          12,
          13,
          14,
          15,
          16,
          17,
          18,
          19,
          20,
          21,
          22,
          23,
          24,
          25,
          26,
          27,
          28,
          29,
          30,
          31,
          32,
          33,
          34,
          35,
          36,
          37,
          38,
          39,
          40,
          41,
          42,
          43,
          44,
          45,
          46,
          47,
          48,
          49,
          50,
          51,
          52,
          53,
          54,
          55,
          56,
          57,
          58,
          59,
          60,
          61,
          62,
          63,
          64,
          65,
          66,
          67,
          68,
          69,
          70,
          71,
          72,
          73,
          74,
          75,
          76,
          77,
          78,
          79,
          80,
          81,
          82,
          83,
          84,
          85,
          86,
          87,
          88,
          89,
          90,
          91,
          92,
          93,
          94,
          95,
          96,
          97,
          98,
          99
         ],
         "y": [
          23.728703888477526,
          35.207183221012215,
          45.28613835073767,
          55.12054742905936,
          64.20056627733551,
          71.48805679182621,
          76.1765455878959,
          79.4652424137038,
          81.61879556017526,
          83.23495664398685,
          84.53061470240289,
          86.59792101542737,
          89.93186556863535,
          96.3026786865344,
          105.73153036932116,
          117.20092183736978,
          131.18965651347403,
          148.39310175966673,
          169.26895952585863,
          194.2117128576578,
          223.23665036573615,
          256.714852688475,
          294.7285881209717,
          336.79898717094227,
          382.45811204264055,
          430.5236165060302,
          481.36535151785813,
          536.5707498158955,
          595.7915185317379,
          659.0455091660682,
          726.1923341416838,
          797.4464849969092,
          872.9797889462998,
          951.4893527259707,
          1032.4837968074128,
          1115.784080840345,
          1201.527844213797,
          1288.2614244926344,
          1375.434971197887,
          1463.145318695829,
          1551.826170244301,
          1642.3088054655411,
          1733.861795262467,
          1827.1676503896954,
          1924.4719511397868,
          2026.46642708565,
          2133.4879725848505,
          2245.7766940642223,
          2363.3247381075803,
          2486.7324734067133,
          2615.836340846681,
          2751.6907500383245,
          2896.9813877818524,
          3050.404386110024,
          3211.271932062074,
          3380.1243306084584,
          3556.2283740870052,
          3739.968217694251,
          3930.127460551706,
          4125.179090220145,
          4326.867290025446,
          4535.756426361007,
          4751.941470938887,
          4975.216897012485,
          5206.114156025499,
          5443.49755369908,
          5688.181996109726,
          5940.387667144062,
          6201.808554330184,
          6471.9191215507135,
          6750.426930824511,
          7036.768163539758,
          7330.0609936252595,
          7629.992213497042,
          7939.15943805383,
          8257.404836238593,
          8583.706654235839,
          8916.860081459321,
          9255.016887315713,
          9597.737934778987,
          9946.852460989698,
          10300.459915081788,
          10657.652264884002,
          11018.317150405073,
          11382.2592584994,
          11749.502834423993,
          12119.811052358553,
          12491.891956848365,
          12866.666366992045,
          13243.751860065007,
          13624.213761377105,
          14007.764701804184,
          14396.255859887558,
          14791.358932373321,
          15193.10250609442,
          15601.55675703879,
          16015.750594266765,
          16436.96861260134,
          16865.049591258663,
          17299.814309356883
         ]
        },
        {
         "line": {
          "color": "rgba(50, 171, 96, 1.0)",
          "dash": "solid",
          "shape": "linear",
          "width": 1.3
         },
         "mode": "lines",
         "name": "C",
         "text": "",
         "type": "scatter",
         "x": [
          0,
          1,
          2,
          3,
          4,
          5,
          6,
          7,
          8,
          9,
          10,
          11,
          12,
          13,
          14,
          15,
          16,
          17,
          18,
          19,
          20,
          21,
          22,
          23,
          24,
          25,
          26,
          27,
          28,
          29,
          30,
          31,
          32,
          33,
          34,
          35,
          36,
          37,
          38,
          39,
          40,
          41,
          42,
          43,
          44,
          45,
          46,
          47,
          48,
          49,
          50,
          51,
          52,
          53,
          54,
          55,
          56,
          57,
          58,
          59,
          60,
          61,
          62,
          63,
          64,
          65,
          66,
          67,
          68,
          69,
          70,
          71,
          72,
          73,
          74,
          75,
          76,
          77,
          78,
          79,
          80,
          81,
          82,
          83,
          84,
          85,
          86,
          87,
          88,
          89,
          90,
          91,
          92,
          93,
          94,
          95,
          96,
          97,
          98,
          99
         ],
         "y": [
          24.769122157610195,
          37.11353232970618,
          48.4092204884142,
          59.80222785050689,
          72.9139298091745,
          87.03169977498563,
          102.45404393999281,
          118.86296885455305,
          136.37314403317595,
          153.40381973835878,
          170.00511679483475,
          185.4802149044954,
          199.2838007450214,
          212.68974925317218,
          226.3232528869502,
          239.8105669560966,
          252.93852213367379,
          265.9440130000927,
          278.9766549088862,
          292.6875349259099,
          305.89199360031097,
          319.58360671055834,
          333.98518222778995,
          348.43508578495295,
          361.28405113797913,
          374.0444007056392,
          387.82821584025305,
          401.6905717281031,
          415.16009241988814,
          428.3757211875387,
          440.7266633955635,
          451.8401009543749,
          463.3596240600635,
          476.39301497370775,
          490.4193032148183,
          505.06333343282887,
          520.2799683893818,
          536.0524616417365,
          553.0152581420837,
          571.605837328957,
          590.2398993092312,
          609.0708821680313,
          628.5387892863286,
          648.2578793491633,
          669.3391596378362,
          693.0479463027767,
          721.1044186481723,
          753.2172430299504,
          790.6471872678181,
          833.7365094734242,
          882.0557323564348,
          935.6727125032453,
          994.3530023433918,
          1057.814329242135,
          1125.0496915602928,
          1196.882436359273,
          1273.856728758431,
          1355.1494488529438,
          1441.584715434937,
          1531.444870014771,
          1625.2165592490344,
          1722.859357007738,
          1823.5141183816631,
          1929.6521981817536,
          2041.7650515927241,
          2160.69109652611,
          2285.142743585601,
          2414.0412508680997,
          2546.7636083004845,
          2684.1960156732825,
          2826.511148729673,
          2973.7467185218225,
          3127.008956465984,
          3283.4054707148507,
          3443.393067360236,
          3606.151718821839,
          3769.5366465152288,
          3932.9231265858016,
          4096.738565326757,
          4261.353175628401,
          4426.735519992744,
          4592.910827180095,
          4758.515351305534,
          4924.588399293109,
          5091.46823616808,
          5258.784286518065,
          5427.609816772379,
          5596.125545680034,
          5764.475737734378,
          5931.448149598467,
          6096.716941656965,
          6260.292403875678,
          6422.457633328964,
          6582.5327440061765,
          6741.197516403608,
          6899.012874069892,
          7057.280167064445,
          7217.08425332689,
          7379.215027189796,
          7543.123742097635
         ]
        }
       ],
       "layout": {
        "legend": {
         "bgcolor": "#151516",
         "font": {
          "color": "#D9D9D9"
         }
        },
        "paper_bgcolor": "#151516",
        "plot_bgcolor": "#151516",
        "template": {
         "data": {
          "bar": [
           {
            "error_x": {
             "color": "#2a3f5f"
            },
            "error_y": {
             "color": "#2a3f5f"
            },
            "marker": {
             "line": {
              "color": "#E5ECF6",
              "width": 0.5
             },
             "pattern": {
              "fillmode": "overlay",
              "size": 10,
              "solidity": 0.2
             }
            },
            "type": "bar"
           }
          ],
          "barpolar": [
           {
            "marker": {
             "line": {
              "color": "#E5ECF6",
              "width": 0.5
             },
             "pattern": {
              "fillmode": "overlay",
              "size": 10,
              "solidity": 0.2
             }
            },
            "type": "barpolar"
           }
          ],
          "carpet": [
           {
            "aaxis": {
             "endlinecolor": "#2a3f5f",
             "gridcolor": "white",
             "linecolor": "white",
             "minorgridcolor": "white",
             "startlinecolor": "#2a3f5f"
            },
            "baxis": {
             "endlinecolor": "#2a3f5f",
             "gridcolor": "white",
             "linecolor": "white",
             "minorgridcolor": "white",
             "startlinecolor": "#2a3f5f"
            },
            "type": "carpet"
           }
          ],
          "choropleth": [
           {
            "colorbar": {
             "outlinewidth": 0,
             "ticks": ""
            },
            "type": "choropleth"
           }
          ],
          "contour": [
           {
            "colorbar": {
             "outlinewidth": 0,
             "ticks": ""
            },
            "colorscale": [
             [
              0,
              "#0d0887"
             ],
             [
              0.1111111111111111,
              "#46039f"
             ],
             [
              0.2222222222222222,
              "#7201a8"
             ],
             [
              0.3333333333333333,
              "#9c179e"
             ],
             [
              0.4444444444444444,
              "#bd3786"
             ],
             [
              0.5555555555555556,
              "#d8576b"
             ],
             [
              0.6666666666666666,
              "#ed7953"
             ],
             [
              0.7777777777777778,
              "#fb9f3a"
             ],
             [
              0.8888888888888888,
              "#fdca26"
             ],
             [
              1,
              "#f0f921"
             ]
            ],
            "type": "contour"
           }
          ],
          "contourcarpet": [
           {
            "colorbar": {
             "outlinewidth": 0,
             "ticks": ""
            },
            "type": "contourcarpet"
           }
          ],
          "heatmap": [
           {
            "colorbar": {
             "outlinewidth": 0,
             "ticks": ""
            },
            "colorscale": [
             [
              0,
              "#0d0887"
             ],
             [
              0.1111111111111111,
              "#46039f"
             ],
             [
              0.2222222222222222,
              "#7201a8"
             ],
             [
              0.3333333333333333,
              "#9c179e"
             ],
             [
              0.4444444444444444,
              "#bd3786"
             ],
             [
              0.5555555555555556,
              "#d8576b"
             ],
             [
              0.6666666666666666,
              "#ed7953"
             ],
             [
              0.7777777777777778,
              "#fb9f3a"
             ],
             [
              0.8888888888888888,
              "#fdca26"
             ],
             [
              1,
              "#f0f921"
             ]
            ],
            "type": "heatmap"
           }
          ],
          "heatmapgl": [
           {
            "colorbar": {
             "outlinewidth": 0,
             "ticks": ""
            },
            "colorscale": [
             [
              0,
              "#0d0887"
             ],
             [
              0.1111111111111111,
              "#46039f"
             ],
             [
              0.2222222222222222,
              "#7201a8"
             ],
             [
              0.3333333333333333,
              "#9c179e"
             ],
             [
              0.4444444444444444,
              "#bd3786"
             ],
             [
              0.5555555555555556,
              "#d8576b"
             ],
             [
              0.6666666666666666,
              "#ed7953"
             ],
             [
              0.7777777777777778,
              "#fb9f3a"
             ],
             [
              0.8888888888888888,
              "#fdca26"
             ],
             [
              1,
              "#f0f921"
             ]
            ],
            "type": "heatmapgl"
           }
          ],
          "histogram": [
           {
            "marker": {
             "pattern": {
              "fillmode": "overlay",
              "size": 10,
              "solidity": 0.2
             }
            },
            "type": "histogram"
           }
          ],
          "histogram2d": [
           {
            "colorbar": {
             "outlinewidth": 0,
             "ticks": ""
            },
            "colorscale": [
             [
              0,
              "#0d0887"
             ],
             [
              0.1111111111111111,
              "#46039f"
             ],
             [
              0.2222222222222222,
              "#7201a8"
             ],
             [
              0.3333333333333333,
              "#9c179e"
             ],
             [
              0.4444444444444444,
              "#bd3786"
             ],
             [
              0.5555555555555556,
              "#d8576b"
             ],
             [
              0.6666666666666666,
              "#ed7953"
             ],
             [
              0.7777777777777778,
              "#fb9f3a"
             ],
             [
              0.8888888888888888,
              "#fdca26"
             ],
             [
              1,
              "#f0f921"
             ]
            ],
            "type": "histogram2d"
           }
          ],
          "histogram2dcontour": [
           {
            "colorbar": {
             "outlinewidth": 0,
             "ticks": ""
            },
            "colorscale": [
             [
              0,
              "#0d0887"
             ],
             [
              0.1111111111111111,
              "#46039f"
             ],
             [
              0.2222222222222222,
              "#7201a8"
             ],
             [
              0.3333333333333333,
              "#9c179e"
             ],
             [
              0.4444444444444444,
              "#bd3786"
             ],
             [
              0.5555555555555556,
              "#d8576b"
             ],
             [
              0.6666666666666666,
              "#ed7953"
             ],
             [
              0.7777777777777778,
              "#fb9f3a"
             ],
             [
              0.8888888888888888,
              "#fdca26"
             ],
             [
              1,
              "#f0f921"
             ]
            ],
            "type": "histogram2dcontour"
           }
          ],
          "mesh3d": [
           {
            "colorbar": {
             "outlinewidth": 0,
             "ticks": ""
            },
            "type": "mesh3d"
           }
          ],
          "parcoords": [
           {
            "line": {
             "colorbar": {
              "outlinewidth": 0,
              "ticks": ""
             }
            },
            "type": "parcoords"
           }
          ],
          "pie": [
           {
            "automargin": true,
            "type": "pie"
           }
          ],
          "scatter": [
           {
            "fillpattern": {
             "fillmode": "overlay",
             "size": 10,
             "solidity": 0.2
            },
            "type": "scatter"
           }
          ],
          "scatter3d": [
           {
            "line": {
             "colorbar": {
              "outlinewidth": 0,
              "ticks": ""
             }
            },
            "marker": {
             "colorbar": {
              "outlinewidth": 0,
              "ticks": ""
             }
            },
            "type": "scatter3d"
           }
          ],
          "scattercarpet": [
           {
            "marker": {
             "colorbar": {
              "outlinewidth": 0,
              "ticks": ""
             }
            },
            "type": "scattercarpet"
           }
          ],
          "scattergeo": [
           {
            "marker": {
             "colorbar": {
              "outlinewidth": 0,
              "ticks": ""
             }
            },
            "type": "scattergeo"
           }
          ],
          "scattergl": [
           {
            "marker": {
             "colorbar": {
              "outlinewidth": 0,
              "ticks": ""
             }
            },
            "type": "scattergl"
           }
          ],
          "scattermapbox": [
           {
            "marker": {
             "colorbar": {
              "outlinewidth": 0,
              "ticks": ""
             }
            },
            "type": "scattermapbox"
           }
          ],
          "scatterpolar": [
           {
            "marker": {
             "colorbar": {
              "outlinewidth": 0,
              "ticks": ""
             }
            },
            "type": "scatterpolar"
           }
          ],
          "scatterpolargl": [
           {
            "marker": {
             "colorbar": {
              "outlinewidth": 0,
              "ticks": ""
             }
            },
            "type": "scatterpolargl"
           }
          ],
          "scatterternary": [
           {
            "marker": {
             "colorbar": {
              "outlinewidth": 0,
              "ticks": ""
             }
            },
            "type": "scatterternary"
           }
          ],
          "surface": [
           {
            "colorbar": {
             "outlinewidth": 0,
             "ticks": ""
            },
            "colorscale": [
             [
              0,
              "#0d0887"
             ],
             [
              0.1111111111111111,
              "#46039f"
             ],
             [
              0.2222222222222222,
              "#7201a8"
             ],
             [
              0.3333333333333333,
              "#9c179e"
             ],
             [
              0.4444444444444444,
              "#bd3786"
             ],
             [
              0.5555555555555556,
              "#d8576b"
             ],
             [
              0.6666666666666666,
              "#ed7953"
             ],
             [
              0.7777777777777778,
              "#fb9f3a"
             ],
             [
              0.8888888888888888,
              "#fdca26"
             ],
             [
              1,
              "#f0f921"
             ]
            ],
            "type": "surface"
           }
          ],
          "table": [
           {
            "cells": {
             "fill": {
              "color": "#EBF0F8"
             },
             "line": {
              "color": "white"
             }
            },
            "header": {
             "fill": {
              "color": "#C8D4E3"
             },
             "line": {
              "color": "white"
             }
            },
            "type": "table"
           }
          ]
         },
         "layout": {
          "annotationdefaults": {
           "arrowcolor": "#2a3f5f",
           "arrowhead": 0,
           "arrowwidth": 1
          },
          "autotypenumbers": "strict",
          "coloraxis": {
           "colorbar": {
            "outlinewidth": 0,
            "ticks": ""
           }
          },
          "colorscale": {
           "diverging": [
            [
             0,
             "#8e0152"
            ],
            [
             0.1,
             "#c51b7d"
            ],
            [
             0.2,
             "#de77ae"
            ],
            [
             0.3,
             "#f1b6da"
            ],
            [
             0.4,
             "#fde0ef"
            ],
            [
             0.5,
             "#f7f7f7"
            ],
            [
             0.6,
             "#e6f5d0"
            ],
            [
             0.7,
             "#b8e186"
            ],
            [
             0.8,
             "#7fbc41"
            ],
            [
             0.9,
             "#4d9221"
            ],
            [
             1,
             "#276419"
            ]
           ],
           "sequential": [
            [
             0,
             "#0d0887"
            ],
            [
             0.1111111111111111,
             "#46039f"
            ],
            [
             0.2222222222222222,
             "#7201a8"
            ],
            [
             0.3333333333333333,
             "#9c179e"
            ],
            [
             0.4444444444444444,
             "#bd3786"
            ],
            [
             0.5555555555555556,
             "#d8576b"
            ],
            [
             0.6666666666666666,
             "#ed7953"
            ],
            [
             0.7777777777777778,
             "#fb9f3a"
            ],
            [
             0.8888888888888888,
             "#fdca26"
            ],
            [
             1,
             "#f0f921"
            ]
           ],
           "sequentialminus": [
            [
             0,
             "#0d0887"
            ],
            [
             0.1111111111111111,
             "#46039f"
            ],
            [
             0.2222222222222222,
             "#7201a8"
            ],
            [
             0.3333333333333333,
             "#9c179e"
            ],
            [
             0.4444444444444444,
             "#bd3786"
            ],
            [
             0.5555555555555556,
             "#d8576b"
            ],
            [
             0.6666666666666666,
             "#ed7953"
            ],
            [
             0.7777777777777778,
             "#fb9f3a"
            ],
            [
             0.8888888888888888,
             "#fdca26"
            ],
            [
             1,
             "#f0f921"
            ]
           ]
          },
          "colorway": [
           "#636efa",
           "#EF553B",
           "#00cc96",
           "#ab63fa",
           "#FFA15A",
           "#19d3f3",
           "#FF6692",
           "#B6E880",
           "#FF97FF",
           "#FECB52"
          ],
          "font": {
           "color": "#2a3f5f"
          },
          "geo": {
           "bgcolor": "white",
           "lakecolor": "white",
           "landcolor": "#E5ECF6",
           "showlakes": true,
           "showland": true,
           "subunitcolor": "white"
          },
          "hoverlabel": {
           "align": "left"
          },
          "hovermode": "closest",
          "mapbox": {
           "style": "light"
          },
          "paper_bgcolor": "white",
          "plot_bgcolor": "#E5ECF6",
          "polar": {
           "angularaxis": {
            "gridcolor": "white",
            "linecolor": "white",
            "ticks": ""
           },
           "bgcolor": "#E5ECF6",
           "radialaxis": {
            "gridcolor": "white",
            "linecolor": "white",
            "ticks": ""
           }
          },
          "scene": {
           "xaxis": {
            "backgroundcolor": "#E5ECF6",
            "gridcolor": "white",
            "gridwidth": 2,
            "linecolor": "white",
            "showbackground": true,
            "ticks": "",
            "zerolinecolor": "white"
           },
           "yaxis": {
            "backgroundcolor": "#E5ECF6",
            "gridcolor": "white",
            "gridwidth": 2,
            "linecolor": "white",
            "showbackground": true,
            "ticks": "",
            "zerolinecolor": "white"
           },
           "zaxis": {
            "backgroundcolor": "#E5ECF6",
            "gridcolor": "white",
            "gridwidth": 2,
            "linecolor": "white",
            "showbackground": true,
            "ticks": "",
            "zerolinecolor": "white"
           }
          },
          "shapedefaults": {
           "line": {
            "color": "#2a3f5f"
           }
          },
          "ternary": {
           "aaxis": {
            "gridcolor": "white",
            "linecolor": "white",
            "ticks": ""
           },
           "baxis": {
            "gridcolor": "white",
            "linecolor": "white",
            "ticks": ""
           },
           "bgcolor": "#E5ECF6",
           "caxis": {
            "gridcolor": "white",
            "linecolor": "white",
            "ticks": ""
           }
          },
          "title": {
           "x": 0.05
          },
          "xaxis": {
           "automargin": true,
           "gridcolor": "white",
           "linecolor": "white",
           "ticks": "",
           "title": {
            "standoff": 15
           },
           "zerolinecolor": "white",
           "zerolinewidth": 2
          },
          "yaxis": {
           "automargin": true,
           "gridcolor": "white",
           "linecolor": "white",
           "ticks": "",
           "title": {
            "standoff": 15
           },
           "zerolinecolor": "white",
           "zerolinewidth": 2
          }
         }
        },
        "title": {
         "font": {
          "color": "#D9D9D9"
         }
        },
        "xaxis": {
         "gridcolor": "#434343",
         "showgrid": true,
         "tickfont": {
          "color": "#C2C2C2"
         },
         "title": {
          "font": {
           "color": "#D9D9D9"
          },
          "text": ""
         },
         "zerolinecolor": "#666570"
        },
        "yaxis": {
         "gridcolor": "#434343",
         "showgrid": true,
         "tickfont": {
          "color": "#C2C2C2"
         },
         "title": {
          "font": {
           "color": "#D9D9D9"
          },
          "text": ""
         },
         "zerolinecolor": "#666570"
        }
       }
      },
      "text/html": [
       "<div>                            <div id=\"a1c0c7a6-c8be-4227-ab39-f454d691d0f9\" class=\"plotly-graph-div\" style=\"height:525px; width:100%;\"></div>            <script type=\"text/javascript\">                require([\"plotly\"], function(Plotly) {                    window.PLOTLYENV=window.PLOTLYENV || {};\n",
       "                    window.PLOTLYENV.BASE_URL='https://plot.ly';                                    if (document.getElementById(\"a1c0c7a6-c8be-4227-ab39-f454d691d0f9\")) {                    Plotly.newPlot(                        \"a1c0c7a6-c8be-4227-ab39-f454d691d0f9\",                        [{\"line\":{\"color\":\"rgba(255, 153, 51, 1.0)\",\"dash\":\"solid\",\"shape\":\"linear\",\"width\":1.3},\"mode\":\"lines\",\"name\":\"A\",\"text\":\"\",\"x\":[0,1,2,3,4,5,6,7,8,9,10,11,12,13,14,15,16,17,18,19,20,21,22,23,24,25,26,27,28,29,30,31,32,33,34,35,36,37,38,39,40,41,42,43,44,45,46,47,48,49,50,51,52,53,54,55,56,57,58,59,60,61,62,63,64,65,66,67,68,69,70,71,72,73,74,75,76,77,78,79,80,81,82,83,84,85,86,87,88,89,90,91,92,93,94,95,96,97,98,99],\"y\":[161.8737274377388,173.77306149948808,188.73812582456767,207.0321568867123,229.78742652737577,259.0797255248952,294.31283293771753,337.1839498825344,387.7020812043336,446.5834864263468,515.1134059097271,591.5512309646191,675.2902173390262,765.1840557674842,861.8153748835009,963.5162470644855,1070.7250857053696,1183.5866013219897,1302.5273421455745,1428.4215729854307,1561.447972626071,1701.7047901950295,1849.141231442883,2003.6481698689167,2165.2621686015264,2334.6005645298424,2511.4272175788606,2693.780923721283,2881.453097121142,3074.4951063361063,3271.708793675398,3473.2659149889364,3678.591481320759,3886.759868274675,4097.6743909614515,4310.731431184611,4526.935306407223,4746.453415622421,4967.021492508257,5189.450645872972,5413.5339682871,5637.5444417373465,5861.0007205737975,6084.154855426379,6308.178463873976,6533.154565439401,6758.463688902214,6984.192101137421,7209.473458832503,7435.754442038169,7663.136875401055,7889.691370533818,8113.1743867257655,8333.066989560579,8548.239953381519,8757.582924982908,8962.137331346812,9161.47890196411,9356.701633987901,9548.128320696947,9735.29237458757,9918.404642810172,10097.0758054278,10270.293890960651,10437.129939217564,10597.555889337878,10752.505928772103,10902.131539730675,11045.909561156946,11182.12938035177,11310.437397937809,11429.835802284315,11539.217313741667,11637.93699488431,11726.583092161307,11804.912045077004,11872.371659112745,11929.742058823262,11976.216769595057,12011.091959399115,12034.22419846311,12047.64779766643,12050.39840135786,12042.76492803371,12024.232817777442,11994.602454961358,11954.445491428709,11905.614653798439,11848.61047092312,11783.985523219659,11712.880365193165,11633.894617537771,11547.19722225406,11451.845923969988,11345.750539727716,11228.364193636075,11099.760594643112,10959.672478025324,10808.204574298878,10644.85404460801],\"type\":\"scatter\"},{\"line\":{\"color\":\"rgba(55, 128, 191, 1.0)\",\"dash\":\"solid\",\"shape\":\"linear\",\"width\":1.3},\"mode\":\"lines\",\"name\":\"B\",\"text\":\"\",\"x\":[0,1,2,3,4,5,6,7,8,9,10,11,12,13,14,15,16,17,18,19,20,21,22,23,24,25,26,27,28,29,30,31,32,33,34,35,36,37,38,39,40,41,42,43,44,45,46,47,48,49,50,51,52,53,54,55,56,57,58,59,60,61,62,63,64,65,66,67,68,69,70,71,72,73,74,75,76,77,78,79,80,81,82,83,84,85,86,87,88,89,90,91,92,93,94,95,96,97,98,99],\"y\":[23.728703888477526,35.207183221012215,45.28613835073767,55.12054742905936,64.20056627733551,71.48805679182621,76.1765455878959,79.4652424137038,81.61879556017526,83.23495664398685,84.53061470240289,86.59792101542737,89.93186556863535,96.3026786865344,105.73153036932116,117.20092183736978,131.18965651347403,148.39310175966673,169.26895952585863,194.2117128576578,223.23665036573615,256.714852688475,294.7285881209717,336.79898717094227,382.45811204264055,430.5236165060302,481.36535151785813,536.5707498158955,595.7915185317379,659.0455091660682,726.1923341416838,797.4464849969092,872.9797889462998,951.4893527259707,1032.4837968074128,1115.784080840345,1201.527844213797,1288.2614244926344,1375.434971197887,1463.145318695829,1551.826170244301,1642.3088054655411,1733.861795262467,1827.1676503896954,1924.4719511397868,2026.46642708565,2133.4879725848505,2245.7766940642223,2363.3247381075803,2486.7324734067133,2615.836340846681,2751.6907500383245,2896.9813877818524,3050.404386110024,3211.271932062074,3380.1243306084584,3556.2283740870052,3739.968217694251,3930.127460551706,4125.179090220145,4326.867290025446,4535.756426361007,4751.941470938887,4975.216897012485,5206.114156025499,5443.49755369908,5688.181996109726,5940.387667144062,6201.808554330184,6471.9191215507135,6750.426930824511,7036.768163539758,7330.0609936252595,7629.992213497042,7939.15943805383,8257.404836238593,8583.706654235839,8916.860081459321,9255.016887315713,9597.737934778987,9946.852460989698,10300.459915081788,10657.652264884002,11018.317150405073,11382.2592584994,11749.502834423993,12119.811052358553,12491.891956848365,12866.666366992045,13243.751860065007,13624.213761377105,14007.764701804184,14396.255859887558,14791.358932373321,15193.10250609442,15601.55675703879,16015.750594266765,16436.96861260134,16865.049591258663,17299.814309356883],\"type\":\"scatter\"},{\"line\":{\"color\":\"rgba(50, 171, 96, 1.0)\",\"dash\":\"solid\",\"shape\":\"linear\",\"width\":1.3},\"mode\":\"lines\",\"name\":\"C\",\"text\":\"\",\"x\":[0,1,2,3,4,5,6,7,8,9,10,11,12,13,14,15,16,17,18,19,20,21,22,23,24,25,26,27,28,29,30,31,32,33,34,35,36,37,38,39,40,41,42,43,44,45,46,47,48,49,50,51,52,53,54,55,56,57,58,59,60,61,62,63,64,65,66,67,68,69,70,71,72,73,74,75,76,77,78,79,80,81,82,83,84,85,86,87,88,89,90,91,92,93,94,95,96,97,98,99],\"y\":[24.769122157610195,37.11353232970618,48.4092204884142,59.80222785050689,72.9139298091745,87.03169977498563,102.45404393999281,118.86296885455305,136.37314403317595,153.40381973835878,170.00511679483475,185.4802149044954,199.2838007450214,212.68974925317218,226.3232528869502,239.8105669560966,252.93852213367379,265.9440130000927,278.9766549088862,292.6875349259099,305.89199360031097,319.58360671055834,333.98518222778995,348.43508578495295,361.28405113797913,374.0444007056392,387.82821584025305,401.6905717281031,415.16009241988814,428.3757211875387,440.7266633955635,451.8401009543749,463.3596240600635,476.39301497370775,490.4193032148183,505.06333343282887,520.2799683893818,536.0524616417365,553.0152581420837,571.605837328957,590.2398993092312,609.0708821680313,628.5387892863286,648.2578793491633,669.3391596378362,693.0479463027767,721.1044186481723,753.2172430299504,790.6471872678181,833.7365094734242,882.0557323564348,935.6727125032453,994.3530023433918,1057.814329242135,1125.0496915602928,1196.882436359273,1273.856728758431,1355.1494488529438,1441.584715434937,1531.444870014771,1625.2165592490344,1722.859357007738,1823.5141183816631,1929.6521981817536,2041.7650515927241,2160.69109652611,2285.142743585601,2414.0412508680997,2546.7636083004845,2684.1960156732825,2826.511148729673,2973.7467185218225,3127.008956465984,3283.4054707148507,3443.393067360236,3606.151718821839,3769.5366465152288,3932.9231265858016,4096.738565326757,4261.353175628401,4426.735519992744,4592.910827180095,4758.515351305534,4924.588399293109,5091.46823616808,5258.784286518065,5427.609816772379,5596.125545680034,5764.475737734378,5931.448149598467,6096.716941656965,6260.292403875678,6422.457633328964,6582.5327440061765,6741.197516403608,6899.012874069892,7057.280167064445,7217.08425332689,7379.215027189796,7543.123742097635],\"type\":\"scatter\"}],                        {\"legend\":{\"bgcolor\":\"#151516\",\"font\":{\"color\":\"#D9D9D9\"}},\"paper_bgcolor\":\"#151516\",\"plot_bgcolor\":\"#151516\",\"template\":{\"data\":{\"barpolar\":[{\"marker\":{\"line\":{\"color\":\"#E5ECF6\",\"width\":0.5},\"pattern\":{\"fillmode\":\"overlay\",\"size\":10,\"solidity\":0.2}},\"type\":\"barpolar\"}],\"bar\":[{\"error_x\":{\"color\":\"#2a3f5f\"},\"error_y\":{\"color\":\"#2a3f5f\"},\"marker\":{\"line\":{\"color\":\"#E5ECF6\",\"width\":0.5},\"pattern\":{\"fillmode\":\"overlay\",\"size\":10,\"solidity\":0.2}},\"type\":\"bar\"}],\"carpet\":[{\"aaxis\":{\"endlinecolor\":\"#2a3f5f\",\"gridcolor\":\"white\",\"linecolor\":\"white\",\"minorgridcolor\":\"white\",\"startlinecolor\":\"#2a3f5f\"},\"baxis\":{\"endlinecolor\":\"#2a3f5f\",\"gridcolor\":\"white\",\"linecolor\":\"white\",\"minorgridcolor\":\"white\",\"startlinecolor\":\"#2a3f5f\"},\"type\":\"carpet\"}],\"choropleth\":[{\"colorbar\":{\"outlinewidth\":0,\"ticks\":\"\"},\"type\":\"choropleth\"}],\"contourcarpet\":[{\"colorbar\":{\"outlinewidth\":0,\"ticks\":\"\"},\"type\":\"contourcarpet\"}],\"contour\":[{\"colorbar\":{\"outlinewidth\":0,\"ticks\":\"\"},\"colorscale\":[[0.0,\"#0d0887\"],[0.1111111111111111,\"#46039f\"],[0.2222222222222222,\"#7201a8\"],[0.3333333333333333,\"#9c179e\"],[0.4444444444444444,\"#bd3786\"],[0.5555555555555556,\"#d8576b\"],[0.6666666666666666,\"#ed7953\"],[0.7777777777777778,\"#fb9f3a\"],[0.8888888888888888,\"#fdca26\"],[1.0,\"#f0f921\"]],\"type\":\"contour\"}],\"heatmapgl\":[{\"colorbar\":{\"outlinewidth\":0,\"ticks\":\"\"},\"colorscale\":[[0.0,\"#0d0887\"],[0.1111111111111111,\"#46039f\"],[0.2222222222222222,\"#7201a8\"],[0.3333333333333333,\"#9c179e\"],[0.4444444444444444,\"#bd3786\"],[0.5555555555555556,\"#d8576b\"],[0.6666666666666666,\"#ed7953\"],[0.7777777777777778,\"#fb9f3a\"],[0.8888888888888888,\"#fdca26\"],[1.0,\"#f0f921\"]],\"type\":\"heatmapgl\"}],\"heatmap\":[{\"colorbar\":{\"outlinewidth\":0,\"ticks\":\"\"},\"colorscale\":[[0.0,\"#0d0887\"],[0.1111111111111111,\"#46039f\"],[0.2222222222222222,\"#7201a8\"],[0.3333333333333333,\"#9c179e\"],[0.4444444444444444,\"#bd3786\"],[0.5555555555555556,\"#d8576b\"],[0.6666666666666666,\"#ed7953\"],[0.7777777777777778,\"#fb9f3a\"],[0.8888888888888888,\"#fdca26\"],[1.0,\"#f0f921\"]],\"type\":\"heatmap\"}],\"histogram2dcontour\":[{\"colorbar\":{\"outlinewidth\":0,\"ticks\":\"\"},\"colorscale\":[[0.0,\"#0d0887\"],[0.1111111111111111,\"#46039f\"],[0.2222222222222222,\"#7201a8\"],[0.3333333333333333,\"#9c179e\"],[0.4444444444444444,\"#bd3786\"],[0.5555555555555556,\"#d8576b\"],[0.6666666666666666,\"#ed7953\"],[0.7777777777777778,\"#fb9f3a\"],[0.8888888888888888,\"#fdca26\"],[1.0,\"#f0f921\"]],\"type\":\"histogram2dcontour\"}],\"histogram2d\":[{\"colorbar\":{\"outlinewidth\":0,\"ticks\":\"\"},\"colorscale\":[[0.0,\"#0d0887\"],[0.1111111111111111,\"#46039f\"],[0.2222222222222222,\"#7201a8\"],[0.3333333333333333,\"#9c179e\"],[0.4444444444444444,\"#bd3786\"],[0.5555555555555556,\"#d8576b\"],[0.6666666666666666,\"#ed7953\"],[0.7777777777777778,\"#fb9f3a\"],[0.8888888888888888,\"#fdca26\"],[1.0,\"#f0f921\"]],\"type\":\"histogram2d\"}],\"histogram\":[{\"marker\":{\"pattern\":{\"fillmode\":\"overlay\",\"size\":10,\"solidity\":0.2}},\"type\":\"histogram\"}],\"mesh3d\":[{\"colorbar\":{\"outlinewidth\":0,\"ticks\":\"\"},\"type\":\"mesh3d\"}],\"parcoords\":[{\"line\":{\"colorbar\":{\"outlinewidth\":0,\"ticks\":\"\"}},\"type\":\"parcoords\"}],\"pie\":[{\"automargin\":true,\"type\":\"pie\"}],\"scatter3d\":[{\"line\":{\"colorbar\":{\"outlinewidth\":0,\"ticks\":\"\"}},\"marker\":{\"colorbar\":{\"outlinewidth\":0,\"ticks\":\"\"}},\"type\":\"scatter3d\"}],\"scattercarpet\":[{\"marker\":{\"colorbar\":{\"outlinewidth\":0,\"ticks\":\"\"}},\"type\":\"scattercarpet\"}],\"scattergeo\":[{\"marker\":{\"colorbar\":{\"outlinewidth\":0,\"ticks\":\"\"}},\"type\":\"scattergeo\"}],\"scattergl\":[{\"marker\":{\"colorbar\":{\"outlinewidth\":0,\"ticks\":\"\"}},\"type\":\"scattergl\"}],\"scattermapbox\":[{\"marker\":{\"colorbar\":{\"outlinewidth\":0,\"ticks\":\"\"}},\"type\":\"scattermapbox\"}],\"scatterpolargl\":[{\"marker\":{\"colorbar\":{\"outlinewidth\":0,\"ticks\":\"\"}},\"type\":\"scatterpolargl\"}],\"scatterpolar\":[{\"marker\":{\"colorbar\":{\"outlinewidth\":0,\"ticks\":\"\"}},\"type\":\"scatterpolar\"}],\"scatter\":[{\"fillpattern\":{\"fillmode\":\"overlay\",\"size\":10,\"solidity\":0.2},\"type\":\"scatter\"}],\"scatterternary\":[{\"marker\":{\"colorbar\":{\"outlinewidth\":0,\"ticks\":\"\"}},\"type\":\"scatterternary\"}],\"surface\":[{\"colorbar\":{\"outlinewidth\":0,\"ticks\":\"\"},\"colorscale\":[[0.0,\"#0d0887\"],[0.1111111111111111,\"#46039f\"],[0.2222222222222222,\"#7201a8\"],[0.3333333333333333,\"#9c179e\"],[0.4444444444444444,\"#bd3786\"],[0.5555555555555556,\"#d8576b\"],[0.6666666666666666,\"#ed7953\"],[0.7777777777777778,\"#fb9f3a\"],[0.8888888888888888,\"#fdca26\"],[1.0,\"#f0f921\"]],\"type\":\"surface\"}],\"table\":[{\"cells\":{\"fill\":{\"color\":\"#EBF0F8\"},\"line\":{\"color\":\"white\"}},\"header\":{\"fill\":{\"color\":\"#C8D4E3\"},\"line\":{\"color\":\"white\"}},\"type\":\"table\"}]},\"layout\":{\"annotationdefaults\":{\"arrowcolor\":\"#2a3f5f\",\"arrowhead\":0,\"arrowwidth\":1},\"autotypenumbers\":\"strict\",\"coloraxis\":{\"colorbar\":{\"outlinewidth\":0,\"ticks\":\"\"}},\"colorscale\":{\"diverging\":[[0,\"#8e0152\"],[0.1,\"#c51b7d\"],[0.2,\"#de77ae\"],[0.3,\"#f1b6da\"],[0.4,\"#fde0ef\"],[0.5,\"#f7f7f7\"],[0.6,\"#e6f5d0\"],[0.7,\"#b8e186\"],[0.8,\"#7fbc41\"],[0.9,\"#4d9221\"],[1,\"#276419\"]],\"sequential\":[[0.0,\"#0d0887\"],[0.1111111111111111,\"#46039f\"],[0.2222222222222222,\"#7201a8\"],[0.3333333333333333,\"#9c179e\"],[0.4444444444444444,\"#bd3786\"],[0.5555555555555556,\"#d8576b\"],[0.6666666666666666,\"#ed7953\"],[0.7777777777777778,\"#fb9f3a\"],[0.8888888888888888,\"#fdca26\"],[1.0,\"#f0f921\"]],\"sequentialminus\":[[0.0,\"#0d0887\"],[0.1111111111111111,\"#46039f\"],[0.2222222222222222,\"#7201a8\"],[0.3333333333333333,\"#9c179e\"],[0.4444444444444444,\"#bd3786\"],[0.5555555555555556,\"#d8576b\"],[0.6666666666666666,\"#ed7953\"],[0.7777777777777778,\"#fb9f3a\"],[0.8888888888888888,\"#fdca26\"],[1.0,\"#f0f921\"]]},\"colorway\":[\"#636efa\",\"#EF553B\",\"#00cc96\",\"#ab63fa\",\"#FFA15A\",\"#19d3f3\",\"#FF6692\",\"#B6E880\",\"#FF97FF\",\"#FECB52\"],\"font\":{\"color\":\"#2a3f5f\"},\"geo\":{\"bgcolor\":\"white\",\"lakecolor\":\"white\",\"landcolor\":\"#E5ECF6\",\"showlakes\":true,\"showland\":true,\"subunitcolor\":\"white\"},\"hoverlabel\":{\"align\":\"left\"},\"hovermode\":\"closest\",\"mapbox\":{\"style\":\"light\"},\"paper_bgcolor\":\"white\",\"plot_bgcolor\":\"#E5ECF6\",\"polar\":{\"angularaxis\":{\"gridcolor\":\"white\",\"linecolor\":\"white\",\"ticks\":\"\"},\"bgcolor\":\"#E5ECF6\",\"radialaxis\":{\"gridcolor\":\"white\",\"linecolor\":\"white\",\"ticks\":\"\"}},\"scene\":{\"xaxis\":{\"backgroundcolor\":\"#E5ECF6\",\"gridcolor\":\"white\",\"gridwidth\":2,\"linecolor\":\"white\",\"showbackground\":true,\"ticks\":\"\",\"zerolinecolor\":\"white\"},\"yaxis\":{\"backgroundcolor\":\"#E5ECF6\",\"gridcolor\":\"white\",\"gridwidth\":2,\"linecolor\":\"white\",\"showbackground\":true,\"ticks\":\"\",\"zerolinecolor\":\"white\"},\"zaxis\":{\"backgroundcolor\":\"#E5ECF6\",\"gridcolor\":\"white\",\"gridwidth\":2,\"linecolor\":\"white\",\"showbackground\":true,\"ticks\":\"\",\"zerolinecolor\":\"white\"}},\"shapedefaults\":{\"line\":{\"color\":\"#2a3f5f\"}},\"ternary\":{\"aaxis\":{\"gridcolor\":\"white\",\"linecolor\":\"white\",\"ticks\":\"\"},\"baxis\":{\"gridcolor\":\"white\",\"linecolor\":\"white\",\"ticks\":\"\"},\"bgcolor\":\"#E5ECF6\",\"caxis\":{\"gridcolor\":\"white\",\"linecolor\":\"white\",\"ticks\":\"\"}},\"title\":{\"x\":0.05},\"xaxis\":{\"automargin\":true,\"gridcolor\":\"white\",\"linecolor\":\"white\",\"ticks\":\"\",\"title\":{\"standoff\":15},\"zerolinecolor\":\"white\",\"zerolinewidth\":2},\"yaxis\":{\"automargin\":true,\"gridcolor\":\"white\",\"linecolor\":\"white\",\"ticks\":\"\",\"title\":{\"standoff\":15},\"zerolinecolor\":\"white\",\"zerolinewidth\":2}}},\"title\":{\"font\":{\"color\":\"#D9D9D9\"}},\"xaxis\":{\"gridcolor\":\"#434343\",\"showgrid\":true,\"tickfont\":{\"color\":\"#C2C2C2\"},\"title\":{\"font\":{\"color\":\"#D9D9D9\"},\"text\":\"\"},\"zerolinecolor\":\"#666570\"},\"yaxis\":{\"gridcolor\":\"#434343\",\"showgrid\":true,\"tickfont\":{\"color\":\"#C2C2C2\"},\"title\":{\"font\":{\"color\":\"#D9D9D9\"},\"text\":\"\"},\"zerolinecolor\":\"#666570\"}},                        {\"showLink\": true, \"linkText\": \"Export to plot.ly\", \"plotlyServerURL\": \"https://plot.ly\", \"responsive\": true}                    ).then(function(){\n",
       "                            \n",
       "var gd = document.getElementById('a1c0c7a6-c8be-4227-ab39-f454d691d0f9');\n",
       "var x = new MutationObserver(function (mutations, observer) {{\n",
       "        var display = window.getComputedStyle(gd).display;\n",
       "        if (!display || display === 'none') {{\n",
       "            console.log([gd, 'removed!']);\n",
       "            Plotly.purge(gd);\n",
       "            observer.disconnect();\n",
       "        }}\n",
       "}});\n",
       "\n",
       "// Listen for the removal of the full notebook cells\n",
       "var notebookContainer = gd.closest('#notebook-container');\n",
       "if (notebookContainer) {{\n",
       "    x.observe(notebookContainer, {childList: true});\n",
       "}}\n",
       "\n",
       "// Listen for the clearing of the current output cell\n",
       "var outputEl = gd.closest('.output');\n",
       "if (outputEl) {{\n",
       "    x.observe(outputEl, {childList: true});\n",
       "}}\n",
       "\n",
       "                        })                };                });            </script>        </div>"
      ]
     },
     "metadata": {},
     "output_type": "display_data"
    }
   ],
   "source": [
    "dataset.iplot()"
   ]
  },
  {
   "cell_type": "code",
   "execution_count": 72,
   "id": "91921515",
   "metadata": {},
   "outputs": [
    {
     "data": {
      "text/plain": [
       "[<matplotlib.lines.Line2D at 0x1f78378dc40>,\n",
       " <matplotlib.lines.Line2D at 0x1f78378dca0>,\n",
       " <matplotlib.lines.Line2D at 0x1f78378dd90>]"
      ]
     },
     "execution_count": 72,
     "metadata": {},
     "output_type": "execute_result"
    },
    {
     "data": {
      "image/png": "[encoded data removed]",
      "text/plain": [
       "<Figure size 640x480 with 1 Axes>"
      ]
     },
     "metadata": {},
     "output_type": "display_data"
    }
   ],
   "source": [
    "plt.plot(dataset)"
   ]
  },
  {
   "cell_type": "code",
   "execution_count": 73,
   "id": "f5704a91",
   "metadata": {},
   "outputs": [
    {
     "data": {
      "application/vnd.plotly.v1+json": {
       "config": {
        "linkText": "Export to plot.ly",
        "plotlyServerURL": "https://plot.ly",
        "showLink": true
       },
       "data": [
        {
         "line": {
          "color": "rgba(255, 153, 51, 1.0)",
          "dash": "solid",
          "shape": "linear",
          "width": 1.3
         },
         "marker": {
          "size": 12,
          "symbol": "circle"
         },
         "mode": "markers",
         "name": "B",
         "text": "",
         "type": "scatter",
         "x": [
          -0.12627256226118797,
          0.025606624010454854,
          3.065730263330319,
          3.32896673706503,
          4.461238578518885,
          6.537029356855921,
          5.940808415302912,
          7.638009531994542,
          7.6470143769823125,
          8.36327390021397,
          9.648514261367183,
          7.907905571511596,
          7.301161319515139,
          6.154852054050967,
          6.7374806875586595,
          5.069553064967825,
          5.507966459899727,
          5.652676975735775,
          6.07922520696484,
          6.953490016271326,
          7.132168800784202,
          7.2304179283181185,
          7.1796236788949095,
          7.070497178180281,
          7.107060306575759,
          7.724397195706817,
          7.4882571207019435,
          5.527053093404296,
          5.318467257436424,
          5.369835815105286,
          4.171678124327362,
          4.343433974246941,
          3.7684450182841593,
          2.8428206220927494,
          2.7461357328613913,
          2.1425175363831617,
          3.146834999451727,
          3.3142339925865056,
          1.0499676706379573,
          1.8610764788785337,
          1.654169049413177,
          -0.07284896388128481,
          -0.5541946137955078,
          -0.3021439838699185,
          0.869473595015825,
          0.9524931178282492,
          0.33302189738744614,
          0.4192887723935974,
          -0.44705454012398604,
          0.9996255105843994,
          1.1014501572188966,
          -0.8279382301217242,
          -3.0714789408168075,
          -3.5904133571348686,
          -4.719639013871417,
          -5.829992219551759,
          -4.788565237484889,
          -5.212835746606832,
          -4.1188385935066,
          -3.7960453147438806,
          -4.262632818424328,
          -4.05178566802199,
          -4.4411056049737665,
          -5.453077084774983,
          -6.382037275938691,
          -6.410098136599652,
          -5.47591068608909,
          -5.324428475652727,
          -5.847589532300322,
          -7.55820223144921,
          -7.911801608782982,
          -8.909613239533321,
          -10.016892889154601,
          -10.661830314708133,
          -10.073583865646441,
          -10.317144361299084,
          -10.869338879956938,
          -10.089214325223532,
          -10.895688938720408,
          -11.599520967739167,
          -11.74295074006286,
          -9.708639860673637,
          -10.672995511891294,
          -10.384077015579395,
          -10.898636932119196,
          -11.098252559814275,
          -10.526600716566056,
          -8.673874097620258,
          -8.17334524504906,
          -7.620764828142287,
          -6.4802103230323045,
          -7.880589628899648,
          -7.711647628317355,
          -8.653903000362794,
          -10.74408595819843,
          -11.290961849370401,
          -11.217252901320984,
          -11.484517624825168,
          -11.37978710865799,
          -11.882625964422013
         ],
         "y": [
          -0.27129611152247624,
          -0.2502245559428359,
          -1.399524202809225,
          -0.24454605140377783,
          -0.7543902300455322,
          -1.792528333785453,
          -2.599001718421008,
          -1.3997919702617854,
          -1.1351436793364575,
          -0.5373920626598583,
          -0.3205030253955489,
          0.7716482546084507,
          1.2666382401834808,
          3.0368685646910927,
          3.058038564887697,
          2.040539785261851,
          2.5193432080556484,
          3.2147105700884495,
          3.6724125199991904,
          4.066895565607277,
          4.082184176279169,
          4.453264814660484,
          4.5355331097579175,
          4.05666361747378,
          3.588725821727749,
          2.4063795916913713,
          2.7762305484383085,
          4.363663286209432,
          4.015370417804958,
          4.033221918487979,
          3.892834341285231,
          4.107325879609956,
          4.2791530941650215,
          2.9762598302803207,
          2.4848803017712937,
          2.3058399514900225,
          2.443479340519666,
          0.9898169053856956,
          0.43996642641508565,
          0.5368007926892626,
          0.9705040505300099,
          1.8017836727682057,
          1.0703545756857529,
          1.7528653303025576,
          3.998445622863027,
          4.69017519577158,
          5.027069553337588,
          5.267175980171139,
          5.259322563986125,
          5.859691255775256,
          5.696132140834876,
          6.750541751675067,
          9.43622855188457,
          8.132360584643724,
          7.444547623878633,
          7.984852594334152,
          7.251644932162583,
          7.63580012869902,
          6.419399250208989,
          4.892386810984044,
          6.636570136862678,
          7.200936530259268,
          7.2959082423192685,
          7.090381495717816,
          7.621832939416083,
          6.486138660566596,
          7.301044737066225,
          7.521228623689537,
          9.215216151785592,
          8.68968003440774,
          8.397242053267957,
          7.833423441448771,
          6.951597370255165,
          6.638389786280617,
          9.236004685005827,
          9.078173627974852,
          8.056419812483782,
          6.851609226235013,
          5.003378632910842,
          4.564241606881642,
          6.393478747437478,
          4.492927881378583,
          3.5848957101222574,
          3.4725357188596973,
          3.277222573254782,
          3.3014678302664375,
          3.064642009965995,
          1.7726865552530717,
          2.6935056538683813,
          2.3110829292804214,
          3.3764082391364503,
          3.089039114982135,
          4.940217656293949,
          6.611914402388031,
          6.640501235337066,
          6.710677223272412,
          5.739586283602748,
          7.024181106602022,
          6.862960322745562,
          6.683739440898184
         ]
        }
       ],
       "layout": {
        "legend": {
         "bgcolor": "#151516",
         "font": {
          "color": "#D9D9D9"
         }
        },
        "paper_bgcolor": "#151516",
        "plot_bgcolor": "#151516",
        "template": {
         "data": {
          "bar": [
           {
            "error_x": {
             "color": "#2a3f5f"
            },
            "error_y": {
             "color": "#2a3f5f"
            },
            "marker": {
             "line": {
              "color": "#E5ECF6",
              "width": 0.5
             },
             "pattern": {
              "fillmode": "overlay",
              "size": 10,
              "solidity": 0.2
             }
            },
            "type": "bar"
           }
          ],
          "barpolar": [
           {
            "marker": {
             "line": {
              "color": "#E5ECF6",
              "width": 0.5
             },
             "pattern": {
              "fillmode": "overlay",
              "size": 10,
              "solidity": 0.2
             }
            },
            "type": "barpolar"
           }
          ],
          "carpet": [
           {
            "aaxis": {
             "endlinecolor": "#2a3f5f",
             "gridcolor": "white",
             "linecolor": "white",
             "minorgridcolor": "white",
             "startlinecolor": "#2a3f5f"
            },
            "baxis": {
             "endlinecolor": "#2a3f5f",
             "gridcolor": "white",
             "linecolor": "white",
             "minorgridcolor": "white",
             "startlinecolor": "#2a3f5f"
            },
            "type": "carpet"
           }
          ],
          "choropleth": [
           {
            "colorbar": {
             "outlinewidth": 0,
             "ticks": ""
            },
            "type": "choropleth"
           }
          ],
          "contour": [
           {
            "colorbar": {
             "outlinewidth": 0,
             "ticks": ""
            },
            "colorscale": [
             [
              0,
              "#0d0887"
             ],
             [
              0.1111111111111111,
              "#46039f"
             ],
             [
              0.2222222222222222,
              "#7201a8"
             ],
             [
              0.3333333333333333,
              "#9c179e"
             ],
             [
              0.4444444444444444,
              "#bd3786"
             ],
             [
              0.5555555555555556,
              "#d8576b"
             ],
             [
              0.6666666666666666,
              "#ed7953"
             ],
             [
              0.7777777777777778,
              "#fb9f3a"
             ],
             [
              0.8888888888888888,
              "#fdca26"
             ],
             [
              1,
              "#f0f921"
             ]
            ],
            "type": "contour"
           }
          ],
          "contourcarpet": [
           {
            "colorbar": {
             "outlinewidth": 0,
             "ticks": ""
            },
            "type": "contourcarpet"
           }
          ],
          "heatmap": [
           {
            "colorbar": {
             "outlinewidth": 0,
             "ticks": ""
            },
            "colorscale": [
             [
              0,
              "#0d0887"
             ],
             [
              0.1111111111111111,
              "#46039f"
             ],
             [
              0.2222222222222222,
              "#7201a8"
             ],
             [
              0.3333333333333333,
              "#9c179e"
             ],
             [
              0.4444444444444444,
              "#bd3786"
             ],
             [
              0.5555555555555556,
              "#d8576b"
             ],
             [
              0.6666666666666666,
              "#ed7953"
             ],
             [
              0.7777777777777778,
              "#fb9f3a"
             ],
             [
              0.8888888888888888,
              "#fdca26"
             ],
             [
              1,
              "#f0f921"
             ]
            ],
            "type": "heatmap"
           }
          ],
          "heatmapgl": [
           {
            "colorbar": {
             "outlinewidth": 0,
             "ticks": ""
            },
            "colorscale": [
             [
              0,
              "#0d0887"
             ],
             [
              0.1111111111111111,
              "#46039f"
             ],
             [
              0.2222222222222222,
              "#7201a8"
             ],
             [
              0.3333333333333333,
              "#9c179e"
             ],
             [
              0.4444444444444444,
              "#bd3786"
             ],
             [
              0.5555555555555556,
              "#d8576b"
             ],
             [
              0.6666666666666666,
              "#ed7953"
             ],
             [
              0.7777777777777778,
              "#fb9f3a"
             ],
             [
              0.8888888888888888,
              "#fdca26"
             ],
             [
              1,
              "#f0f921"
             ]
            ],
            "type": "heatmapgl"
           }
          ],
          "histogram": [
           {
            "marker": {
             "pattern": {
              "fillmode": "overlay",
              "size": 10,
              "solidity": 0.2
             }
            },
            "type": "histogram"
           }
          ],
          "histogram2d": [
           {
            "colorbar": {
             "outlinewidth": 0,
             "ticks": ""
            },
            "colorscale": [
             [
              0,
              "#0d0887"
             ],
             [
              0.1111111111111111,
              "#46039f"
             ],
             [
              0.2222222222222222,
              "#7201a8"
             ],
             [
              0.3333333333333333,
              "#9c179e"
             ],
             [
              0.4444444444444444,
              "#bd3786"
             ],
             [
              0.5555555555555556,
              "#d8576b"
             ],
             [
              0.6666666666666666,
              "#ed7953"
             ],
             [
              0.7777777777777778,
              "#fb9f3a"
             ],
             [
              0.8888888888888888,
              "#fdca26"
             ],
             [
              1,
              "#f0f921"
             ]
            ],
            "type": "histogram2d"
           }
          ],
          "histogram2dcontour": [
           {
            "colorbar": {
             "outlinewidth": 0,
             "ticks": ""
            },
            "colorscale": [
             [
              0,
              "#0d0887"
             ],
             [
              0.1111111111111111,
              "#46039f"
             ],
             [
              0.2222222222222222,
              "#7201a8"
             ],
             [
              0.3333333333333333,
              "#9c179e"
             ],
             [
              0.4444444444444444,
              "#bd3786"
             ],
             [
              0.5555555555555556,
              "#d8576b"
             ],
             [
              0.6666666666666666,
              "#ed7953"
             ],
             [
              0.7777777777777778,
              "#fb9f3a"
             ],
             [
              0.8888888888888888,
              "#fdca26"
             ],
             [
              1,
              "#f0f921"
             ]
            ],
            "type": "histogram2dcontour"
           }
          ],
          "mesh3d": [
           {
            "colorbar": {
             "outlinewidth": 0,
             "ticks": ""
            },
            "type": "mesh3d"
           }
          ],
          "parcoords": [
           {
            "line": {
             "colorbar": {
              "outlinewidth": 0,
              "ticks": ""
             }
            },
            "type": "parcoords"
           }
          ],
          "pie": [
           {
            "automargin": true,
            "type": "pie"
           }
          ],
          "scatter": [
           {
            "fillpattern": {
             "fillmode": "overlay",
             "size": 10,
             "solidity": 0.2
            },
            "type": "scatter"
           }
          ],
          "scatter3d": [
           {
            "line": {
             "colorbar": {
              "outlinewidth": 0,
              "ticks": ""
             }
            },
            "marker": {
             "colorbar": {
              "outlinewidth": 0,
              "ticks": ""
             }
            },
            "type": "scatter3d"
           }
          ],
          "scattercarpet": [
           {
            "marker": {
             "colorbar": {
              "outlinewidth": 0,
              "ticks": ""
             }
            },
            "type": "scattercarpet"
           }
          ],
          "scattergeo": [
           {
            "marker": {
             "colorbar": {
              "outlinewidth": 0,
              "ticks": ""
             }
            },
            "type": "scattergeo"
           }
          ],
          "scattergl": [
           {
            "marker": {
             "colorbar": {
              "outlinewidth": 0,
              "ticks": ""
             }
            },
            "type": "scattergl"
           }
          ],
          "scattermapbox": [
           {
            "marker": {
             "colorbar": {
              "outlinewidth": 0,
              "ticks": ""
             }
            },
            "type": "scattermapbox"
           }
          ],
          "scatterpolar": [
           {
            "marker": {
             "colorbar": {
              "outlinewidth": 0,
              "ticks": ""
             }
            },
            "type": "scatterpolar"
           }
          ],
          "scatterpolargl": [
           {
            "marker": {
             "colorbar": {
              "outlinewidth": 0,
              "ticks": ""
             }
            },
            "type": "scatterpolargl"
           }
          ],
          "scatterternary": [
           {
            "marker": {
             "colorbar": {
              "outlinewidth": 0,
              "ticks": ""
             }
            },
            "type": "scatterternary"
           }
          ],
          "surface": [
           {
            "colorbar": {
             "outlinewidth": 0,
             "ticks": ""
            },
            "colorscale": [
             [
              0,
              "#0d0887"
             ],
             [
              0.1111111111111111,
              "#46039f"
             ],
             [
              0.2222222222222222,
              "#7201a8"
             ],
             [
              0.3333333333333333,
              "#9c179e"
             ],
             [
              0.4444444444444444,
              "#bd3786"
             ],
             [
              0.5555555555555556,
              "#d8576b"
             ],
             [
              0.6666666666666666,
              "#ed7953"
             ],
             [
              0.7777777777777778,
              "#fb9f3a"
             ],
             [
              0.8888888888888888,
              "#fdca26"
             ],
             [
              1,
              "#f0f921"
             ]
            ],
            "type": "surface"
           }
          ],
          "table": [
           {
            "cells": {
             "fill": {
              "color": "#EBF0F8"
             },
             "line": {
              "color": "white"
             }
            },
            "header": {
             "fill": {
              "color": "#C8D4E3"
             },
             "line": {
              "color": "white"
             }
            },
            "type": "table"
           }
          ]
         },
         "layout": {
          "annotationdefaults": {
           "arrowcolor": "#2a3f5f",
           "arrowhead": 0,
           "arrowwidth": 1
          },
          "autotypenumbers": "strict",
          "coloraxis": {
           "colorbar": {
            "outlinewidth": 0,
            "ticks": ""
           }
          },
          "colorscale": {
           "diverging": [
            [
             0,
             "#8e0152"
            ],
            [
             0.1,
             "#c51b7d"
            ],
            [
             0.2,
             "#de77ae"
            ],
            [
             0.3,
             "#f1b6da"
            ],
            [
             0.4,
             "#fde0ef"
            ],
            [
             0.5,
             "#f7f7f7"
            ],
            [
             0.6,
             "#e6f5d0"
            ],
            [
             0.7,
             "#b8e186"
            ],
            [
             0.8,
             "#7fbc41"
            ],
            [
             0.9,
             "#4d9221"
            ],
            [
             1,
             "#276419"
            ]
           ],
           "sequential": [
            [
             0,
             "#0d0887"
            ],
            [
             0.1111111111111111,
             "#46039f"
            ],
            [
             0.2222222222222222,
             "#7201a8"
            ],
            [
             0.3333333333333333,
             "#9c179e"
            ],
            [
             0.4444444444444444,
             "#bd3786"
            ],
            [
             0.5555555555555556,
             "#d8576b"
            ],
            [
             0.6666666666666666,
             "#ed7953"
            ],
            [
             0.7777777777777778,
             "#fb9f3a"
            ],
            [
             0.8888888888888888,
             "#fdca26"
            ],
            [
             1,
             "#f0f921"
            ]
           ],
           "sequentialminus": [
            [
             0,
             "#0d0887"
            ],
            [
             0.1111111111111111,
             "#46039f"
            ],
            [
             0.2222222222222222,
             "#7201a8"
            ],
            [
             0.3333333333333333,
             "#9c179e"
            ],
            [
             0.4444444444444444,
             "#bd3786"
            ],
            [
             0.5555555555555556,
             "#d8576b"
            ],
            [
             0.6666666666666666,
             "#ed7953"
            ],
            [
             0.7777777777777778,
             "#fb9f3a"
            ],
            [
             0.8888888888888888,
             "#fdca26"
            ],
            [
             1,
             "#f0f921"
            ]
           ]
          },
          "colorway": [
           "#636efa",
           "#EF553B",
           "#00cc96",
           "#ab63fa",
           "#FFA15A",
           "#19d3f3",
           "#FF6692",
           "#B6E880",
           "#FF97FF",
           "#FECB52"
          ],
          "font": {
           "color": "#2a3f5f"
          },
          "geo": {
           "bgcolor": "white",
           "lakecolor": "white",
           "landcolor": "#E5ECF6",
           "showlakes": true,
           "showland": true,
           "subunitcolor": "white"
          },
          "hoverlabel": {
           "align": "left"
          },
          "hovermode": "closest",
          "mapbox": {
           "style": "light"
          },
          "paper_bgcolor": "white",
          "plot_bgcolor": "#E5ECF6",
          "polar": {
           "angularaxis": {
            "gridcolor": "white",
            "linecolor": "white",
            "ticks": ""
           },
           "bgcolor": "#E5ECF6",
           "radialaxis": {
            "gridcolor": "white",
            "linecolor": "white",
            "ticks": ""
           }
          },
          "scene": {
           "xaxis": {
            "backgroundcolor": "#E5ECF6",
            "gridcolor": "white",
            "gridwidth": 2,
            "linecolor": "white",
            "showbackground": true,
            "ticks": "",
            "zerolinecolor": "white"
           },
           "yaxis": {
            "backgroundcolor": "#E5ECF6",
            "gridcolor": "white",
            "gridwidth": 2,
            "linecolor": "white",
            "showbackground": true,
            "ticks": "",
            "zerolinecolor": "white"
           },
           "zaxis": {
            "backgroundcolor": "#E5ECF6",
            "gridcolor": "white",
            "gridwidth": 2,
            "linecolor": "white",
            "showbackground": true,
            "ticks": "",
            "zerolinecolor": "white"
           }
          },
          "shapedefaults": {
           "line": {
            "color": "#2a3f5f"
           }
          },
          "ternary": {
           "aaxis": {
            "gridcolor": "white",
            "linecolor": "white",
            "ticks": ""
           },
           "baxis": {
            "gridcolor": "white",
            "linecolor": "white",
            "ticks": ""
           },
           "bgcolor": "#E5ECF6",
           "caxis": {
            "gridcolor": "white",
            "linecolor": "white",
            "ticks": ""
           }
          },
          "title": {
           "x": 0.05
          },
          "xaxis": {
           "automargin": true,
           "gridcolor": "white",
           "linecolor": "white",
           "ticks": "",
           "title": {
            "standoff": 15
           },
           "zerolinecolor": "white",
           "zerolinewidth": 2
          },
          "yaxis": {
           "automargin": true,
           "gridcolor": "white",
           "linecolor": "white",
           "ticks": "",
           "title": {
            "standoff": 15
           },
           "zerolinecolor": "white",
           "zerolinewidth": 2
          }
         }
        },
        "title": {
         "font": {
          "color": "#D9D9D9"
         }
        },
        "xaxis": {
         "gridcolor": "#434343",
         "showgrid": true,
         "tickfont": {
          "color": "#C2C2C2"
         },
         "title": {
          "font": {
           "color": "#D9D9D9"
          },
          "text": ""
         },
         "zerolinecolor": "#666570"
        },
        "yaxis": {
         "gridcolor": "#434343",
         "showgrid": true,
         "tickfont": {
          "color": "#C2C2C2"
         },
         "title": {
          "font": {
           "color": "#D9D9D9"
          },
          "text": ""
         },
         "zerolinecolor": "#666570"
        }
       }
      },
      "text/html": [
       "<div>                            <div id=\"0adcd2b8-389d-4352-816e-e84e0758ad6e\" class=\"plotly-graph-div\" style=\"height:525px; width:100%;\"></div>            <script type=\"text/javascript\">                require([\"plotly\"], function(Plotly) {                    window.PLOTLYENV=window.PLOTLYENV || {};\n",
       "                    window.PLOTLYENV.BASE_URL='https://plot.ly';                                    if (document.getElementById(\"0adcd2b8-389d-4352-816e-e84e0758ad6e\")) {                    Plotly.newPlot(                        \"0adcd2b8-389d-4352-816e-e84e0758ad6e\",                        [{\"line\":{\"color\":\"rgba(255, 153, 51, 1.0)\",\"dash\":\"solid\",\"shape\":\"linear\",\"width\":1.3},\"marker\":{\"size\":12,\"symbol\":\"circle\"},\"mode\":\"markers\",\"name\":\"B\",\"text\":\"\",\"x\":[-0.12627256226118797,0.025606624010454854,3.065730263330319,3.32896673706503,4.461238578518885,6.537029356855921,5.940808415302912,7.638009531994542,7.6470143769823125,8.36327390021397,9.648514261367183,7.907905571511596,7.301161319515139,6.154852054050967,6.7374806875586595,5.069553064967825,5.507966459899727,5.652676975735775,6.07922520696484,6.953490016271326,7.132168800784202,7.2304179283181185,7.1796236788949095,7.070497178180281,7.107060306575759,7.724397195706817,7.4882571207019435,5.527053093404296,5.318467257436424,5.369835815105286,4.171678124327362,4.343433974246941,3.7684450182841593,2.8428206220927494,2.7461357328613913,2.1425175363831617,3.146834999451727,3.3142339925865056,1.0499676706379573,1.8610764788785337,1.654169049413177,-0.07284896388128481,-0.5541946137955078,-0.3021439838699185,0.869473595015825,0.9524931178282492,0.33302189738744614,0.4192887723935974,-0.44705454012398604,0.9996255105843994,1.1014501572188966,-0.8279382301217242,-3.0714789408168075,-3.5904133571348686,-4.719639013871417,-5.829992219551759,-4.788565237484889,-5.212835746606832,-4.1188385935066,-3.7960453147438806,-4.262632818424328,-4.05178566802199,-4.4411056049737665,-5.453077084774983,-6.382037275938691,-6.410098136599652,-5.47591068608909,-5.324428475652727,-5.847589532300322,-7.55820223144921,-7.911801608782982,-8.909613239533321,-10.016892889154601,-10.661830314708133,-10.073583865646441,-10.317144361299084,-10.869338879956938,-10.089214325223532,-10.895688938720408,-11.599520967739167,-11.74295074006286,-9.708639860673637,-10.672995511891294,-10.384077015579395,-10.898636932119196,-11.098252559814275,-10.526600716566056,-8.673874097620258,-8.17334524504906,-7.620764828142287,-6.4802103230323045,-7.880589628899648,-7.711647628317355,-8.653903000362794,-10.74408595819843,-11.290961849370401,-11.217252901320984,-11.484517624825168,-11.37978710865799,-11.882625964422013],\"y\":[-0.27129611152247624,-0.2502245559428359,-1.399524202809225,-0.24454605140377783,-0.7543902300455322,-1.792528333785453,-2.599001718421008,-1.3997919702617854,-1.1351436793364575,-0.5373920626598583,-0.3205030253955489,0.7716482546084507,1.2666382401834808,3.0368685646910927,3.058038564887697,2.040539785261851,2.5193432080556484,3.2147105700884495,3.6724125199991904,4.066895565607277,4.082184176279169,4.453264814660484,4.5355331097579175,4.05666361747378,3.588725821727749,2.4063795916913713,2.7762305484383085,4.363663286209432,4.015370417804958,4.033221918487979,3.892834341285231,4.107325879609956,4.2791530941650215,2.9762598302803207,2.4848803017712937,2.3058399514900225,2.443479340519666,0.9898169053856956,0.43996642641508565,0.5368007926892626,0.9705040505300099,1.8017836727682057,1.0703545756857529,1.7528653303025576,3.998445622863027,4.69017519577158,5.027069553337588,5.267175980171139,5.259322563986125,5.859691255775256,5.696132140834876,6.750541751675067,9.43622855188457,8.132360584643724,7.444547623878633,7.984852594334152,7.251644932162583,7.63580012869902,6.419399250208989,4.892386810984044,6.636570136862678,7.200936530259268,7.2959082423192685,7.090381495717816,7.621832939416083,6.486138660566596,7.301044737066225,7.521228623689537,9.215216151785592,8.68968003440774,8.397242053267957,7.833423441448771,6.951597370255165,6.638389786280617,9.236004685005827,9.078173627974852,8.056419812483782,6.851609226235013,5.003378632910842,4.564241606881642,6.393478747437478,4.492927881378583,3.5848957101222574,3.4725357188596973,3.277222573254782,3.3014678302664375,3.064642009965995,1.7726865552530717,2.6935056538683813,2.3110829292804214,3.3764082391364503,3.089039114982135,4.940217656293949,6.611914402388031,6.640501235337066,6.710677223272412,5.739586283602748,7.024181106602022,6.862960322745562,6.683739440898184],\"type\":\"scatter\"}],                        {\"legend\":{\"bgcolor\":\"#151516\",\"font\":{\"color\":\"#D9D9D9\"}},\"paper_bgcolor\":\"#151516\",\"plot_bgcolor\":\"#151516\",\"template\":{\"data\":{\"barpolar\":[{\"marker\":{\"line\":{\"color\":\"#E5ECF6\",\"width\":0.5},\"pattern\":{\"fillmode\":\"overlay\",\"size\":10,\"solidity\":0.2}},\"type\":\"barpolar\"}],\"bar\":[{\"error_x\":{\"color\":\"#2a3f5f\"},\"error_y\":{\"color\":\"#2a3f5f\"},\"marker\":{\"line\":{\"color\":\"#E5ECF6\",\"width\":0.5},\"pattern\":{\"fillmode\":\"overlay\",\"size\":10,\"solidity\":0.2}},\"type\":\"bar\"}],\"carpet\":[{\"aaxis\":{\"endlinecolor\":\"#2a3f5f\",\"gridcolor\":\"white\",\"linecolor\":\"white\",\"minorgridcolor\":\"white\",\"startlinecolor\":\"#2a3f5f\"},\"baxis\":{\"endlinecolor\":\"#2a3f5f\",\"gridcolor\":\"white\",\"linecolor\":\"white\",\"minorgridcolor\":\"white\",\"startlinecolor\":\"#2a3f5f\"},\"type\":\"carpet\"}],\"choropleth\":[{\"colorbar\":{\"outlinewidth\":0,\"ticks\":\"\"},\"type\":\"choropleth\"}],\"contourcarpet\":[{\"colorbar\":{\"outlinewidth\":0,\"ticks\":\"\"},\"type\":\"contourcarpet\"}],\"contour\":[{\"colorbar\":{\"outlinewidth\":0,\"ticks\":\"\"},\"colorscale\":[[0.0,\"#0d0887\"],[0.1111111111111111,\"#46039f\"],[0.2222222222222222,\"#7201a8\"],[0.3333333333333333,\"#9c179e\"],[0.4444444444444444,\"#bd3786\"],[0.5555555555555556,\"#d8576b\"],[0.6666666666666666,\"#ed7953\"],[0.7777777777777778,\"#fb9f3a\"],[0.8888888888888888,\"#fdca26\"],[1.0,\"#f0f921\"]],\"type\":\"contour\"}],\"heatmapgl\":[{\"colorbar\":{\"outlinewidth\":0,\"ticks\":\"\"},\"colorscale\":[[0.0,\"#0d0887\"],[0.1111111111111111,\"#46039f\"],[0.2222222222222222,\"#7201a8\"],[0.3333333333333333,\"#9c179e\"],[0.4444444444444444,\"#bd3786\"],[0.5555555555555556,\"#d8576b\"],[0.6666666666666666,\"#ed7953\"],[0.7777777777777778,\"#fb9f3a\"],[0.8888888888888888,\"#fdca26\"],[1.0,\"#f0f921\"]],\"type\":\"heatmapgl\"}],\"heatmap\":[{\"colorbar\":{\"outlinewidth\":0,\"ticks\":\"\"},\"colorscale\":[[0.0,\"#0d0887\"],[0.1111111111111111,\"#46039f\"],[0.2222222222222222,\"#7201a8\"],[0.3333333333333333,\"#9c179e\"],[0.4444444444444444,\"#bd3786\"],[0.5555555555555556,\"#d8576b\"],[0.6666666666666666,\"#ed7953\"],[0.7777777777777778,\"#fb9f3a\"],[0.8888888888888888,\"#fdca26\"],[1.0,\"#f0f921\"]],\"type\":\"heatmap\"}],\"histogram2dcontour\":[{\"colorbar\":{\"outlinewidth\":0,\"ticks\":\"\"},\"colorscale\":[[0.0,\"#0d0887\"],[0.1111111111111111,\"#46039f\"],[0.2222222222222222,\"#7201a8\"],[0.3333333333333333,\"#9c179e\"],[0.4444444444444444,\"#bd3786\"],[0.5555555555555556,\"#d8576b\"],[0.6666666666666666,\"#ed7953\"],[0.7777777777777778,\"#fb9f3a\"],[0.8888888888888888,\"#fdca26\"],[1.0,\"#f0f921\"]],\"type\":\"histogram2dcontour\"}],\"histogram2d\":[{\"colorbar\":{\"outlinewidth\":0,\"ticks\":\"\"},\"colorscale\":[[0.0,\"#0d0887\"],[0.1111111111111111,\"#46039f\"],[0.2222222222222222,\"#7201a8\"],[0.3333333333333333,\"#9c179e\"],[0.4444444444444444,\"#bd3786\"],[0.5555555555555556,\"#d8576b\"],[0.6666666666666666,\"#ed7953\"],[0.7777777777777778,\"#fb9f3a\"],[0.8888888888888888,\"#fdca26\"],[1.0,\"#f0f921\"]],\"type\":\"histogram2d\"}],\"histogram\":[{\"marker\":{\"pattern\":{\"fillmode\":\"overlay\",\"size\":10,\"solidity\":0.2}},\"type\":\"histogram\"}],\"mesh3d\":[{\"colorbar\":{\"outlinewidth\":0,\"ticks\":\"\"},\"type\":\"mesh3d\"}],\"parcoords\":[{\"line\":{\"colorbar\":{\"outlinewidth\":0,\"ticks\":\"\"}},\"type\":\"parcoords\"}],\"pie\":[{\"automargin\":true,\"type\":\"pie\"}],\"scatter3d\":[{\"line\":{\"colorbar\":{\"outlinewidth\":0,\"ticks\":\"\"}},\"marker\":{\"colorbar\":{\"outlinewidth\":0,\"ticks\":\"\"}},\"type\":\"scatter3d\"}],\"scattercarpet\":[{\"marker\":{\"colorbar\":{\"outlinewidth\":0,\"ticks\":\"\"}},\"type\":\"scattercarpet\"}],\"scattergeo\":[{\"marker\":{\"colorbar\":{\"outlinewidth\":0,\"ticks\":\"\"}},\"type\":\"scattergeo\"}],\"scattergl\":[{\"marker\":{\"colorbar\":{\"outlinewidth\":0,\"ticks\":\"\"}},\"type\":\"scattergl\"}],\"scattermapbox\":[{\"marker\":{\"colorbar\":{\"outlinewidth\":0,\"ticks\":\"\"}},\"type\":\"scattermapbox\"}],\"scatterpolargl\":[{\"marker\":{\"colorbar\":{\"outlinewidth\":0,\"ticks\":\"\"}},\"type\":\"scatterpolargl\"}],\"scatterpolar\":[{\"marker\":{\"colorbar\":{\"outlinewidth\":0,\"ticks\":\"\"}},\"type\":\"scatterpolar\"}],\"scatter\":[{\"fillpattern\":{\"fillmode\":\"overlay\",\"size\":10,\"solidity\":0.2},\"type\":\"scatter\"}],\"scatterternary\":[{\"marker\":{\"colorbar\":{\"outlinewidth\":0,\"ticks\":\"\"}},\"type\":\"scatterternary\"}],\"surface\":[{\"colorbar\":{\"outlinewidth\":0,\"ticks\":\"\"},\"colorscale\":[[0.0,\"#0d0887\"],[0.1111111111111111,\"#46039f\"],[0.2222222222222222,\"#7201a8\"],[0.3333333333333333,\"#9c179e\"],[0.4444444444444444,\"#bd3786\"],[0.5555555555555556,\"#d8576b\"],[0.6666666666666666,\"#ed7953\"],[0.7777777777777778,\"#fb9f3a\"],[0.8888888888888888,\"#fdca26\"],[1.0,\"#f0f921\"]],\"type\":\"surface\"}],\"table\":[{\"cells\":{\"fill\":{\"color\":\"#EBF0F8\"},\"line\":{\"color\":\"white\"}},\"header\":{\"fill\":{\"color\":\"#C8D4E3\"},\"line\":{\"color\":\"white\"}},\"type\":\"table\"}]},\"layout\":{\"annotationdefaults\":{\"arrowcolor\":\"#2a3f5f\",\"arrowhead\":0,\"arrowwidth\":1},\"autotypenumbers\":\"strict\",\"coloraxis\":{\"colorbar\":{\"outlinewidth\":0,\"ticks\":\"\"}},\"colorscale\":{\"diverging\":[[0,\"#8e0152\"],[0.1,\"#c51b7d\"],[0.2,\"#de77ae\"],[0.3,\"#f1b6da\"],[0.4,\"#fde0ef\"],[0.5,\"#f7f7f7\"],[0.6,\"#e6f5d0\"],[0.7,\"#b8e186\"],[0.8,\"#7fbc41\"],[0.9,\"#4d9221\"],[1,\"#276419\"]],\"sequential\":[[0.0,\"#0d0887\"],[0.1111111111111111,\"#46039f\"],[0.2222222222222222,\"#7201a8\"],[0.3333333333333333,\"#9c179e\"],[0.4444444444444444,\"#bd3786\"],[0.5555555555555556,\"#d8576b\"],[0.6666666666666666,\"#ed7953\"],[0.7777777777777778,\"#fb9f3a\"],[0.8888888888888888,\"#fdca26\"],[1.0,\"#f0f921\"]],\"sequentialminus\":[[0.0,\"#0d0887\"],[0.1111111111111111,\"#46039f\"],[0.2222222222222222,\"#7201a8\"],[0.3333333333333333,\"#9c179e\"],[0.4444444444444444,\"#bd3786\"],[0.5555555555555556,\"#d8576b\"],[0.6666666666666666,\"#ed7953\"],[0.7777777777777778,\"#fb9f3a\"],[0.8888888888888888,\"#fdca26\"],[1.0,\"#f0f921\"]]},\"colorway\":[\"#636efa\",\"#EF553B\",\"#00cc96\",\"#ab63fa\",\"#FFA15A\",\"#19d3f3\",\"#FF6692\",\"#B6E880\",\"#FF97FF\",\"#FECB52\"],\"font\":{\"color\":\"#2a3f5f\"},\"geo\":{\"bgcolor\":\"white\",\"lakecolor\":\"white\",\"landcolor\":\"#E5ECF6\",\"showlakes\":true,\"showland\":true,\"subunitcolor\":\"white\"},\"hoverlabel\":{\"align\":\"left\"},\"hovermode\":\"closest\",\"mapbox\":{\"style\":\"light\"},\"paper_bgcolor\":\"white\",\"plot_bgcolor\":\"#E5ECF6\",\"polar\":{\"angularaxis\":{\"gridcolor\":\"white\",\"linecolor\":\"white\",\"ticks\":\"\"},\"bgcolor\":\"#E5ECF6\",\"radialaxis\":{\"gridcolor\":\"white\",\"linecolor\":\"white\",\"ticks\":\"\"}},\"scene\":{\"xaxis\":{\"backgroundcolor\":\"#E5ECF6\",\"gridcolor\":\"white\",\"gridwidth\":2,\"linecolor\":\"white\",\"showbackground\":true,\"ticks\":\"\",\"zerolinecolor\":\"white\"},\"yaxis\":{\"backgroundcolor\":\"#E5ECF6\",\"gridcolor\":\"white\",\"gridwidth\":2,\"linecolor\":\"white\",\"showbackground\":true,\"ticks\":\"\",\"zerolinecolor\":\"white\"},\"zaxis\":{\"backgroundcolor\":\"#E5ECF6\",\"gridcolor\":\"white\",\"gridwidth\":2,\"linecolor\":\"white\",\"showbackground\":true,\"ticks\":\"\",\"zerolinecolor\":\"white\"}},\"shapedefaults\":{\"line\":{\"color\":\"#2a3f5f\"}},\"ternary\":{\"aaxis\":{\"gridcolor\":\"white\",\"linecolor\":\"white\",\"ticks\":\"\"},\"baxis\":{\"gridcolor\":\"white\",\"linecolor\":\"white\",\"ticks\":\"\"},\"bgcolor\":\"#E5ECF6\",\"caxis\":{\"gridcolor\":\"white\",\"linecolor\":\"white\",\"ticks\":\"\"}},\"title\":{\"x\":0.05},\"xaxis\":{\"automargin\":true,\"gridcolor\":\"white\",\"linecolor\":\"white\",\"ticks\":\"\",\"title\":{\"standoff\":15},\"zerolinecolor\":\"white\",\"zerolinewidth\":2},\"yaxis\":{\"automargin\":true,\"gridcolor\":\"white\",\"linecolor\":\"white\",\"ticks\":\"\",\"title\":{\"standoff\":15},\"zerolinecolor\":\"white\",\"zerolinewidth\":2}}},\"title\":{\"font\":{\"color\":\"#D9D9D9\"}},\"xaxis\":{\"gridcolor\":\"#434343\",\"showgrid\":true,\"tickfont\":{\"color\":\"#C2C2C2\"},\"title\":{\"font\":{\"color\":\"#D9D9D9\"},\"text\":\"\"},\"zerolinecolor\":\"#666570\"},\"yaxis\":{\"gridcolor\":\"#434343\",\"showgrid\":true,\"tickfont\":{\"color\":\"#C2C2C2\"},\"title\":{\"font\":{\"color\":\"#D9D9D9\"},\"text\":\"\"},\"zerolinecolor\":\"#666570\"}},                        {\"showLink\": true, \"linkText\": \"Export to plot.ly\", \"plotlyServerURL\": \"https://plot.ly\", \"responsive\": true}                    ).then(function(){\n",
       "                            \n",
       "var gd = document.getElementById('0adcd2b8-389d-4352-816e-e84e0758ad6e');\n",
       "var x = new MutationObserver(function (mutations, observer) {{\n",
       "        var display = window.getComputedStyle(gd).display;\n",
       "        if (!display || display === 'none') {{\n",
       "            console.log([gd, 'removed!']);\n",
       "            Plotly.purge(gd);\n",
       "            observer.disconnect();\n",
       "        }}\n",
       "}});\n",
       "\n",
       "// Listen for the removal of the full notebook cells\n",
       "var notebookContainer = gd.closest('#notebook-container');\n",
       "if (notebookContainer) {{\n",
       "    x.observe(notebookContainer, {childList: true});\n",
       "}}\n",
       "\n",
       "// Listen for the clearing of the current output cell\n",
       "var outputEl = gd.closest('.output');\n",
       "if (outputEl) {{\n",
       "    x.observe(outputEl, {childList: true});\n",
       "}}\n",
       "\n",
       "                        })                };                });            </script>        </div>"
      ]
     },
     "metadata": {},
     "output_type": "display_data"
    }
   ],
   "source": [
    "dataset.iplot(x='A',y='B',mode='markers')"
   ]
  },
  {
   "cell_type": "code",
   "execution_count": 74,
   "id": "76a5cc59",
   "metadata": {},
   "outputs": [],
   "source": [
    "tips=sns.load_dataset(\"tips\")"
   ]
  },
  {
   "cell_type": "code",
   "execution_count": 75,
   "id": "bb82c91c",
   "metadata": {},
   "outputs": [
    {
     "data": {
      "text/html": [
       "<div>\n",
       "<style scoped>\n",
       "    .dataframe tbody tr th:only-of-type {\n",
       "        vertical-align: middle;\n",
       "    }\n",
       "\n",
       "    .dataframe tbody tr th {\n",
       "        vertical-align: top;\n",
       "    }\n",
       "\n",
       "    .dataframe thead th {\n",
       "        text-align: right;\n",
       "    }\n",
       "</style>\n",
       "<table border=\"1\" class=\"dataframe\">\n",
       "  <thead>\n",
       "    <tr style=\"text-align: right;\">\n",
       "      <th></th>\n",
       "      <th>total_bill</th>\n",
       "      <th>tip</th>\n",
       "      <th>sex</th>\n",
       "      <th>smoker</th>\n",
       "      <th>day</th>\n",
       "      <th>time</th>\n",
       "      <th>size</th>\n",
       "    </tr>\n",
       "  </thead>\n",
       "  <tbody>\n",
       "    <tr>\n",
       "      <th>0</th>\n",
       "      <td>16.99</td>\n",
       "      <td>1.01</td>\n",
       "      <td>Female</td>\n",
       "      <td>No</td>\n",
       "      <td>Sun</td>\n",
       "      <td>Dinner</td>\n",
       "      <td>2</td>\n",
       "    </tr>\n",
       "    <tr>\n",
       "      <th>1</th>\n",
       "      <td>10.34</td>\n",
       "      <td>1.66</td>\n",
       "      <td>Male</td>\n",
       "      <td>No</td>\n",
       "      <td>Sun</td>\n",
       "      <td>Dinner</td>\n",
       "      <td>3</td>\n",
       "    </tr>\n",
       "    <tr>\n",
       "      <th>2</th>\n",
       "      <td>21.01</td>\n",
       "      <td>3.50</td>\n",
       "      <td>Male</td>\n",
       "      <td>No</td>\n",
       "      <td>Sun</td>\n",
       "      <td>Dinner</td>\n",
       "      <td>3</td>\n",
       "    </tr>\n",
       "    <tr>\n",
       "      <th>3</th>\n",
       "      <td>23.68</td>\n",
       "      <td>3.31</td>\n",
       "      <td>Male</td>\n",
       "      <td>No</td>\n",
       "      <td>Sun</td>\n",
       "      <td>Dinner</td>\n",
       "      <td>2</td>\n",
       "    </tr>\n",
       "    <tr>\n",
       "      <th>4</th>\n",
       "      <td>24.59</td>\n",
       "      <td>3.61</td>\n",
       "      <td>Female</td>\n",
       "      <td>No</td>\n",
       "      <td>Sun</td>\n",
       "      <td>Dinner</td>\n",
       "      <td>4</td>\n",
       "    </tr>\n",
       "  </tbody>\n",
       "</table>\n",
       "</div>"
      ],
      "text/plain": [
       "   total_bill   tip     sex smoker  day    time  size\n",
       "0       16.99  1.01  Female     No  Sun  Dinner     2\n",
       "1       10.34  1.66    Male     No  Sun  Dinner     3\n",
       "2       21.01  3.50    Male     No  Sun  Dinner     3\n",
       "3       23.68  3.31    Male     No  Sun  Dinner     2\n",
       "4       24.59  3.61  Female     No  Sun  Dinner     4"
      ]
     },
     "execution_count": 75,
     "metadata": {},
     "output_type": "execute_result"
    }
   ],
   "source": [
    "tips.head()"
   ]
  },
  {
   "cell_type": "code",
   "execution_count": 76,
   "id": "e1fe3381",
   "metadata": {},
   "outputs": [
    {
     "data": {
      "text/plain": [
       "Sat     87\n",
       "Sun     76\n",
       "Thur    62\n",
       "Fri     19\n",
       "Name: day, dtype: int64"
      ]
     },
     "execution_count": 76,
     "metadata": {},
     "output_type": "execute_result"
    }
   ],
   "source": [
    "tips['day'].value_counts()"
   ]
  },
  {
   "cell_type": "code",
   "execution_count": 77,
   "id": "09155404",
   "metadata": {},
   "outputs": [
    {
     "data": {
      "text/plain": [
       "(244, 7)"
      ]
     },
     "execution_count": 77,
     "metadata": {},
     "output_type": "execute_result"
    }
   ],
   "source": [
    "tips.shape\n"
   ]
  },
  {
   "cell_type": "code",
   "execution_count": 78,
   "id": "7818168d",
   "metadata": {},
   "outputs": [
    {
     "name": "stdout",
     "output_type": "stream",
     "text": [
      "<class 'pandas.core.frame.DataFrame'>\n",
      "RangeIndex: 244 entries, 0 to 243\n",
      "Data columns (total 7 columns):\n",
      " #   Column      Non-Null Count  Dtype   \n",
      "---  ------      --------------  -----   \n",
      " 0   total_bill  244 non-null    float64 \n",
      " 1   tip         244 non-null    float64 \n",
      " 2   sex         244 non-null    category\n",
      " 3   smoker      244 non-null    category\n",
      " 4   day         244 non-null    category\n",
      " 5   time        244 non-null    category\n",
      " 6   size        244 non-null    int64   \n",
      "dtypes: category(4), float64(2), int64(1)\n",
      "memory usage: 7.4 KB\n"
     ]
    }
   ],
   "source": [
    "tips.info()"
   ]
  },
  {
   "cell_type": "code",
   "execution_count": 79,
   "id": "0ccbbe27",
   "metadata": {},
   "outputs": [
    {
     "data": {
      "text/plain": [
       "total_bill    0\n",
       "tip           0\n",
       "sex           0\n",
       "smoker        0\n",
       "day           0\n",
       "time          0\n",
       "size          0\n",
       "dtype: int64"
      ]
     },
     "execution_count": 79,
     "metadata": {},
     "output_type": "execute_result"
    }
   ],
   "source": [
    "tips.isnull().sum()"
   ]
  },
  {
   "cell_type": "code",
   "execution_count": 80,
   "id": "b673104f",
   "metadata": {},
   "outputs": [
    {
     "data": {
      "text/plain": [
       "['ggplot', 'pearl', 'solar', 'space', 'white', 'polar', 'henanigans']"
      ]
     },
     "execution_count": 80,
     "metadata": {},
     "output_type": "execute_result"
    }
   ],
   "source": [
    "cf.getThemes()"
   ]
  },
  {
   "cell_type": "code",
   "execution_count": 81,
   "id": "731a9085",
   "metadata": {},
   "outputs": [],
   "source": [
    "cf.set_config_file(theme='solar')"
   ]
  },
  {
   "cell_type": "code",
   "execution_count": 82,
   "id": "b50672b4",
   "metadata": {},
   "outputs": [
    {
     "data": {
      "application/vnd.plotly.v1+json": {
       "config": {
        "linkText": "Export to plot.ly",
        "plotlyServerURL": "https://plot.ly",
        "showLink": true
       },
       "data": [
        {
         "marker": {
          "color": "rgba(255, 153, 51, 0.6)",
          "line": {
           "color": "rgba(255, 153, 51, 1.0)",
           "width": 1
          }
         },
         "name": "tip",
         "orientation": "v",
         "text": "",
         "type": "bar",
         "x": [
          "Female",
          "Male",
          "Male",
          "Male",
          "Female",
          "Male",
          "Male",
          "Male",
          "Male",
          "Male",
          "Male",
          "Female",
          "Male",
          "Male",
          "Female",
          "Male",
          "Female",
          "Male",
          "Female",
          "Male",
          "Male",
          "Female",
          "Female",
          "Male",
          "Male",
          "Male",
          "Male",
          "Male",
          "Male",
          "Female",
          "Male",
          "Male",
          "Female",
          "Female",
          "Male",
          "Male",
          "Male",
          "Female",
          "Male",
          "Male",
          "Male",
          "Male",
          "Male",
          "Male",
          "Male",
          "Male",
          "Male",
          "Male",
          "Male",
          "Male",
          "Male",
          "Female",
          "Female",
          "Male",
          "Male",
          "Male",
          "Male",
          "Female",
          "Male",
          "Male",
          "Male",
          "Male",
          "Male",
          "Male",
          "Male",
          "Male",
          "Female",
          "Female",
          "Male",
          "Male",
          "Male",
          "Female",
          "Female",
          "Female",
          "Female",
          "Male",
          "Male",
          "Male",
          "Male",
          "Male",
          "Male",
          "Male",
          "Female",
          "Male",
          "Male",
          "Female",
          "Male",
          "Male",
          "Male",
          "Male",
          "Male",
          "Male",
          "Female",
          "Female",
          "Female",
          "Male",
          "Male",
          "Male",
          "Male",
          "Male",
          "Female",
          "Female",
          "Female",
          "Female",
          "Female",
          "Male",
          "Male",
          "Male",
          "Male",
          "Female",
          "Male",
          "Female",
          "Male",
          "Male",
          "Female",
          "Female",
          "Male",
          "Female",
          "Female",
          "Female",
          "Male",
          "Female",
          "Male",
          "Male",
          "Female",
          "Female",
          "Male",
          "Female",
          "Female",
          "Male",
          "Male",
          "Female",
          "Female",
          "Female",
          "Female",
          "Female",
          "Female",
          "Female",
          "Male",
          "Female",
          "Female",
          "Male",
          "Male",
          "Female",
          "Female",
          "Female",
          "Female",
          "Female",
          "Male",
          "Male",
          "Male",
          "Male",
          "Male",
          "Male",
          "Male",
          "Female",
          "Male",
          "Female",
          "Female",
          "Male",
          "Male",
          "Male",
          "Female",
          "Male",
          "Female",
          "Male",
          "Male",
          "Male",
          "Female",
          "Female",
          "Male",
          "Male",
          "Male",
          "Male",
          "Male",
          "Male",
          "Male",
          "Male",
          "Female",
          "Male",
          "Male",
          "Male",
          "Male",
          "Male",
          "Male",
          "Male",
          "Female",
          "Male",
          "Female",
          "Male",
          "Male",
          "Female",
          "Male",
          "Male",
          "Male",
          "Male",
          "Male",
          "Female",
          "Female",
          "Male",
          "Male",
          "Female",
          "Female",
          "Female",
          "Male",
          "Female",
          "Male",
          "Male",
          "Male",
          "Female",
          "Male",
          "Male",
          "Male",
          "Female",
          "Female",
          "Female",
          "Male",
          "Male",
          "Male",
          "Female",
          "Male",
          "Female",
          "Male",
          "Female",
          "Male",
          "Female",
          "Female",
          "Male",
          "Male",
          "Female",
          "Male",
          "Male",
          "Male",
          "Male",
          "Male",
          "Male",
          "Male",
          "Male",
          "Female",
          "Male",
          "Female",
          "Male",
          "Male",
          "Female"
         ],
         "y": [
          1.01,
          1.66,
          3.5,
          3.31,
          3.61,
          4.71,
          2,
          3.12,
          1.96,
          3.23,
          1.71,
          5,
          1.57,
          3,
          3.02,
          3.92,
          1.67,
          3.71,
          3.5,
          3.35,
          4.08,
          2.75,
          2.23,
          7.58,
          3.18,
          2.34,
          2,
          2,
          4.3,
          3,
          1.45,
          2.5,
          3,
          2.45,
          3.27,
          3.6,
          2,
          3.07,
          2.31,
          5,
          2.24,
          2.54,
          3.06,
          1.32,
          5.6,
          3,
          5,
          6,
          2.05,
          3,
          2.5,
          2.6,
          5.2,
          1.56,
          4.34,
          3.51,
          3,
          1.5,
          1.76,
          6.73,
          3.21,
          2,
          1.98,
          3.76,
          2.64,
          3.15,
          2.47,
          1,
          2.01,
          2.09,
          1.97,
          3,
          3.14,
          5,
          2.2,
          1.25,
          3.08,
          4,
          3,
          2.71,
          3,
          3.4,
          1.83,
          5,
          2.03,
          5.17,
          2,
          4,
          5.85,
          3,
          3,
          3.5,
          1,
          4.3,
          3.25,
          4.73,
          4,
          1.5,
          3,
          1.5,
          2.5,
          3,
          2.5,
          3.48,
          4.08,
          1.64,
          4.06,
          4.29,
          3.76,
          4,
          3,
          1,
          4,
          2.55,
          4,
          3.5,
          5.07,
          1.5,
          1.8,
          2.92,
          2.31,
          1.68,
          2.5,
          2,
          2.52,
          4.2,
          1.48,
          2,
          2,
          2.18,
          1.5,
          2.83,
          1.5,
          2,
          3.25,
          1.25,
          2,
          2,
          2,
          2.75,
          3.5,
          6.7,
          5,
          5,
          2.3,
          1.5,
          1.36,
          1.63,
          1.73,
          2,
          2.5,
          2,
          2.74,
          2,
          2,
          5.14,
          5,
          3.75,
          2.61,
          2,
          3.5,
          2.5,
          2,
          2,
          3,
          3.48,
          2.24,
          4.5,
          1.61,
          2,
          10,
          3.16,
          5.15,
          3.18,
          4,
          3.11,
          2,
          2,
          4,
          3.55,
          3.68,
          5.65,
          3.5,
          6.5,
          3,
          5,
          3.5,
          2,
          3.5,
          4,
          1.5,
          4.19,
          2.56,
          2.02,
          4,
          1.44,
          2,
          5,
          2,
          2,
          4,
          2.01,
          2,
          2.5,
          4,
          3.23,
          3.41,
          3,
          2.03,
          2.23,
          2,
          5.16,
          9,
          2.5,
          6.5,
          1.1,
          3,
          1.5,
          1.44,
          3.09,
          2.2,
          3.48,
          1.92,
          3,
          1.58,
          2.5,
          2,
          3,
          2.72,
          2.88,
          2,
          3,
          3.39,
          1.47,
          3,
          1.25,
          1,
          1.17,
          4.67,
          5.92,
          2,
          2,
          1.75,
          3
         ]
        }
       ],
       "layout": {
        "legend": {
         "bgcolor": "#151516",
         "font": {
          "color": "#D9D9D9"
         }
        },
        "paper_bgcolor": "#151516",
        "plot_bgcolor": "#151516",
        "template": {
         "data": {
          "bar": [
           {
            "error_x": {
             "color": "#2a3f5f"
            },
            "error_y": {
             "color": "#2a3f5f"
            },
            "marker": {
             "line": {
              "color": "#E5ECF6",
              "width": 0.5
             },
             "pattern": {
              "fillmode": "overlay",
              "size": 10,
              "solidity": 0.2
             }
            },
            "type": "bar"
           }
          ],
          "barpolar": [
           {
            "marker": {
             "line": {
              "color": "#E5ECF6",
              "width": 0.5
             },
             "pattern": {
              "fillmode": "overlay",
              "size": 10,
              "solidity": 0.2
             }
            },
            "type": "barpolar"
           }
          ],
          "carpet": [
           {
            "aaxis": {
             "endlinecolor": "#2a3f5f",
             "gridcolor": "white",
             "linecolor": "white",
             "minorgridcolor": "white",
             "startlinecolor": "#2a3f5f"
            },
            "baxis": {
             "endlinecolor": "#2a3f5f",
             "gridcolor": "white",
             "linecolor": "white",
             "minorgridcolor": "white",
             "startlinecolor": "#2a3f5f"
            },
            "type": "carpet"
           }
          ],
          "choropleth": [
           {
            "colorbar": {
             "outlinewidth": 0,
             "ticks": ""
            },
            "type": "choropleth"
           }
          ],
          "contour": [
           {
            "colorbar": {
             "outlinewidth": 0,
             "ticks": ""
            },
            "colorscale": [
             [
              0,
              "#0d0887"
             ],
             [
              0.1111111111111111,
              "#46039f"
             ],
             [
              0.2222222222222222,
              "#7201a8"
             ],
             [
              0.3333333333333333,
              "#9c179e"
             ],
             [
              0.4444444444444444,
              "#bd3786"
             ],
             [
              0.5555555555555556,
              "#d8576b"
             ],
             [
              0.6666666666666666,
              "#ed7953"
             ],
             [
              0.7777777777777778,
              "#fb9f3a"
             ],
             [
              0.8888888888888888,
              "#fdca26"
             ],
             [
              1,
              "#f0f921"
             ]
            ],
            "type": "contour"
           }
          ],
          "contourcarpet": [
           {
            "colorbar": {
             "outlinewidth": 0,
             "ticks": ""
            },
            "type": "contourcarpet"
           }
          ],
          "heatmap": [
           {
            "colorbar": {
             "outlinewidth": 0,
             "ticks": ""
            },
            "colorscale": [
             [
              0,
              "#0d0887"
             ],
             [
              0.1111111111111111,
              "#46039f"
             ],
             [
              0.2222222222222222,
              "#7201a8"
             ],
             [
              0.3333333333333333,
              "#9c179e"
             ],
             [
              0.4444444444444444,
              "#bd3786"
             ],
             [
              0.5555555555555556,
              "#d8576b"
             ],
             [
              0.6666666666666666,
              "#ed7953"
             ],
             [
              0.7777777777777778,
              "#fb9f3a"
             ],
             [
              0.8888888888888888,
              "#fdca26"
             ],
             [
              1,
              "#f0f921"
             ]
            ],
            "type": "heatmap"
           }
          ],
          "heatmapgl": [
           {
            "colorbar": {
             "outlinewidth": 0,
             "ticks": ""
            },
            "colorscale": [
             [
              0,
              "#0d0887"
             ],
             [
              0.1111111111111111,
              "#46039f"
             ],
             [
              0.2222222222222222,
              "#7201a8"
             ],
             [
              0.3333333333333333,
              "#9c179e"
             ],
             [
              0.4444444444444444,
              "#bd3786"
             ],
             [
              0.5555555555555556,
              "#d8576b"
             ],
             [
              0.6666666666666666,
              "#ed7953"
             ],
             [
              0.7777777777777778,
              "#fb9f3a"
             ],
             [
              0.8888888888888888,
              "#fdca26"
             ],
             [
              1,
              "#f0f921"
             ]
            ],
            "type": "heatmapgl"
           }
          ],
          "histogram": [
           {
            "marker": {
             "pattern": {
              "fillmode": "overlay",
              "size": 10,
              "solidity": 0.2
             }
            },
            "type": "histogram"
           }
          ],
          "histogram2d": [
           {
            "colorbar": {
             "outlinewidth": 0,
             "ticks": ""
            },
            "colorscale": [
             [
              0,
              "#0d0887"
             ],
             [
              0.1111111111111111,
              "#46039f"
             ],
             [
              0.2222222222222222,
              "#7201a8"
             ],
             [
              0.3333333333333333,
              "#9c179e"
             ],
             [
              0.4444444444444444,
              "#bd3786"
             ],
             [
              0.5555555555555556,
              "#d8576b"
             ],
             [
              0.6666666666666666,
              "#ed7953"
             ],
             [
              0.7777777777777778,
              "#fb9f3a"
             ],
             [
              0.8888888888888888,
              "#fdca26"
             ],
             [
              1,
              "#f0f921"
             ]
            ],
            "type": "histogram2d"
           }
          ],
          "histogram2dcontour": [
           {
            "colorbar": {
             "outlinewidth": 0,
             "ticks": ""
            },
            "colorscale": [
             [
              0,
              "#0d0887"
             ],
             [
              0.1111111111111111,
              "#46039f"
             ],
             [
              0.2222222222222222,
              "#7201a8"
             ],
             [
              0.3333333333333333,
              "#9c179e"
             ],
             [
              0.4444444444444444,
              "#bd3786"
             ],
             [
              0.5555555555555556,
              "#d8576b"
             ],
             [
              0.6666666666666666,
              "#ed7953"
             ],
             [
              0.7777777777777778,
              "#fb9f3a"
             ],
             [
              0.8888888888888888,
              "#fdca26"
             ],
             [
              1,
              "#f0f921"
             ]
            ],
            "type": "histogram2dcontour"
           }
          ],
          "mesh3d": [
           {
            "colorbar": {
             "outlinewidth": 0,
             "ticks": ""
            },
            "type": "mesh3d"
           }
          ],
          "parcoords": [
           {
            "line": {
             "colorbar": {
              "outlinewidth": 0,
              "ticks": ""
             }
            },
            "type": "parcoords"
           }
          ],
          "pie": [
           {
            "automargin": true,
            "type": "pie"
           }
          ],
          "scatter": [
           {
            "fillpattern": {
             "fillmode": "overlay",
             "size": 10,
             "solidity": 0.2
            },
            "type": "scatter"
           }
          ],
          "scatter3d": [
           {
            "line": {
             "colorbar": {
              "outlinewidth": 0,
              "ticks": ""
             }
            },
            "marker": {
             "colorbar": {
              "outlinewidth": 0,
              "ticks": ""
             }
            },
            "type": "scatter3d"
           }
          ],
          "scattercarpet": [
           {
            "marker": {
             "colorbar": {
              "outlinewidth": 0,
              "ticks": ""
             }
            },
            "type": "scattercarpet"
           }
          ],
          "scattergeo": [
           {
            "marker": {
             "colorbar": {
              "outlinewidth": 0,
              "ticks": ""
             }
            },
            "type": "scattergeo"
           }
          ],
          "scattergl": [
           {
            "marker": {
             "colorbar": {
              "outlinewidth": 0,
              "ticks": ""
             }
            },
            "type": "scattergl"
           }
          ],
          "scattermapbox": [
           {
            "marker": {
             "colorbar": {
              "outlinewidth": 0,
              "ticks": ""
             }
            },
            "type": "scattermapbox"
           }
          ],
          "scatterpolar": [
           {
            "marker": {
             "colorbar": {
              "outlinewidth": 0,
              "ticks": ""
             }
            },
            "type": "scatterpolar"
           }
          ],
          "scatterpolargl": [
           {
            "marker": {
             "colorbar": {
              "outlinewidth": 0,
              "ticks": ""
             }
            },
            "type": "scatterpolargl"
           }
          ],
          "scatterternary": [
           {
            "marker": {
             "colorbar": {
              "outlinewidth": 0,
              "ticks": ""
             }
            },
            "type": "scatterternary"
           }
          ],
          "surface": [
           {
            "colorbar": {
             "outlinewidth": 0,
             "ticks": ""
            },
            "colorscale": [
             [
              0,
              "#0d0887"
             ],
             [
              0.1111111111111111,
              "#46039f"
             ],
             [
              0.2222222222222222,
              "#7201a8"
             ],
             [
              0.3333333333333333,
              "#9c179e"
             ],
             [
              0.4444444444444444,
              "#bd3786"
             ],
             [
              0.5555555555555556,
              "#d8576b"
             ],
             [
              0.6666666666666666,
              "#ed7953"
             ],
             [
              0.7777777777777778,
              "#fb9f3a"
             ],
             [
              0.8888888888888888,
              "#fdca26"
             ],
             [
              1,
              "#f0f921"
             ]
            ],
            "type": "surface"
           }
          ],
          "table": [
           {
            "cells": {
             "fill": {
              "color": "#EBF0F8"
             },
             "line": {
              "color": "white"
             }
            },
            "header": {
             "fill": {
              "color": "#C8D4E3"
             },
             "line": {
              "color": "white"
             }
            },
            "type": "table"
           }
          ]
         },
         "layout": {
          "annotationdefaults": {
           "arrowcolor": "#2a3f5f",
           "arrowhead": 0,
           "arrowwidth": 1
          },
          "autotypenumbers": "strict",
          "coloraxis": {
           "colorbar": {
            "outlinewidth": 0,
            "ticks": ""
           }
          },
          "colorscale": {
           "diverging": [
            [
             0,
             "#8e0152"
            ],
            [
             0.1,
             "#c51b7d"
            ],
            [
             0.2,
             "#de77ae"
            ],
            [
             0.3,
             "#f1b6da"
            ],
            [
             0.4,
             "#fde0ef"
            ],
            [
             0.5,
             "#f7f7f7"
            ],
            [
             0.6,
             "#e6f5d0"
            ],
            [
             0.7,
             "#b8e186"
            ],
            [
             0.8,
             "#7fbc41"
            ],
            [
             0.9,
             "#4d9221"
            ],
            [
             1,
             "#276419"
            ]
           ],
           "sequential": [
            [
             0,
             "#0d0887"
            ],
            [
             0.1111111111111111,
             "#46039f"
            ],
            [
             0.2222222222222222,
             "#7201a8"
            ],
            [
             0.3333333333333333,
             "#9c179e"
            ],
            [
             0.4444444444444444,
             "#bd3786"
            ],
            [
             0.5555555555555556,
             "#d8576b"
            ],
            [
             0.6666666666666666,
             "#ed7953"
            ],
            [
             0.7777777777777778,
             "#fb9f3a"
            ],
            [
             0.8888888888888888,
             "#fdca26"
            ],
            [
             1,
             "#f0f921"
            ]
           ],
           "sequentialminus": [
            [
             0,
             "#0d0887"
            ],
            [
             0.1111111111111111,
             "#46039f"
            ],
            [
             0.2222222222222222,
             "#7201a8"
            ],
            [
             0.3333333333333333,
             "#9c179e"
            ],
            [
             0.4444444444444444,
             "#bd3786"
            ],
            [
             0.5555555555555556,
             "#d8576b"
            ],
            [
             0.6666666666666666,
             "#ed7953"
            ],
            [
             0.7777777777777778,
             "#fb9f3a"
            ],
            [
             0.8888888888888888,
             "#fdca26"
            ],
            [
             1,
             "#f0f921"
            ]
           ]
          },
          "colorway": [
           "#636efa",
           "#EF553B",
           "#00cc96",
           "#ab63fa",
           "#FFA15A",
           "#19d3f3",
           "#FF6692",
           "#B6E880",
           "#FF97FF",
           "#FECB52"
          ],
          "font": {
           "color": "#2a3f5f"
          },
          "geo": {
           "bgcolor": "white",
           "lakecolor": "white",
           "landcolor": "#E5ECF6",
           "showlakes": true,
           "showland": true,
           "subunitcolor": "white"
          },
          "hoverlabel": {
           "align": "left"
          },
          "hovermode": "closest",
          "mapbox": {
           "style": "light"
          },
          "paper_bgcolor": "white",
          "plot_bgcolor": "#E5ECF6",
          "polar": {
           "angularaxis": {
            "gridcolor": "white",
            "linecolor": "white",
            "ticks": ""
           },
           "bgcolor": "#E5ECF6",
           "radialaxis": {
            "gridcolor": "white",
            "linecolor": "white",
            "ticks": ""
           }
          },
          "scene": {
           "xaxis": {
            "backgroundcolor": "#E5ECF6",
            "gridcolor": "white",
            "gridwidth": 2,
            "linecolor": "white",
            "showbackground": true,
            "ticks": "",
            "zerolinecolor": "white"
           },
           "yaxis": {
            "backgroundcolor": "#E5ECF6",
            "gridcolor": "white",
            "gridwidth": 2,
            "linecolor": "white",
            "showbackground": true,
            "ticks": "",
            "zerolinecolor": "white"
           },
           "zaxis": {
            "backgroundcolor": "#E5ECF6",
            "gridcolor": "white",
            "gridwidth": 2,
            "linecolor": "white",
            "showbackground": true,
            "ticks": "",
            "zerolinecolor": "white"
           }
          },
          "shapedefaults": {
           "line": {
            "color": "#2a3f5f"
           }
          },
          "ternary": {
           "aaxis": {
            "gridcolor": "white",
            "linecolor": "white",
            "ticks": ""
           },
           "baxis": {
            "gridcolor": "white",
            "linecolor": "white",
            "ticks": ""
           },
           "bgcolor": "#E5ECF6",
           "caxis": {
            "gridcolor": "white",
            "linecolor": "white",
            "ticks": ""
           }
          },
          "title": {
           "x": 0.05
          },
          "xaxis": {
           "automargin": true,
           "gridcolor": "white",
           "linecolor": "white",
           "ticks": "",
           "title": {
            "standoff": 15
           },
           "zerolinecolor": "white",
           "zerolinewidth": 2
          },
          "yaxis": {
           "automargin": true,
           "gridcolor": "white",
           "linecolor": "white",
           "ticks": "",
           "title": {
            "standoff": 15
           },
           "zerolinecolor": "white",
           "zerolinewidth": 2
          }
         }
        },
        "title": {
         "font": {
          "color": "#D9D9D9"
         },
         "text": "Tip paid"
        },
        "xaxis": {
         "gridcolor": "#434343",
         "showgrid": true,
         "tickfont": {
          "color": "#C2C2C2"
         },
         "title": {
          "font": {
           "color": "#D9D9D9"
          },
          "text": "Gender"
         },
         "zerolinecolor": "#666570"
        },
        "yaxis": {
         "gridcolor": "#434343",
         "showgrid": true,
         "tickfont": {
          "color": "#C2C2C2"
         },
         "title": {
          "font": {
           "color": "#D9D9D9"
          },
          "text": "Tips"
         },
         "zerolinecolor": "#666570"
        }
       }
      },
      "text/html": [
       "<div>                            <div id=\"c628b913-844b-4255-8040-792567a8d201\" class=\"plotly-graph-div\" style=\"height:525px; width:100%;\"></div>            <script type=\"text/javascript\">                require([\"plotly\"], function(Plotly) {                    window.PLOTLYENV=window.PLOTLYENV || {};\n",
       "                    window.PLOTLYENV.BASE_URL='https://plot.ly';                                    if (document.getElementById(\"c628b913-844b-4255-8040-792567a8d201\")) {                    Plotly.newPlot(                        \"c628b913-844b-4255-8040-792567a8d201\",                        [{\"marker\":{\"color\":\"rgba(255, 153, 51, 0.6)\",\"line\":{\"color\":\"rgba(255, 153, 51, 1.0)\",\"width\":1}},\"name\":\"tip\",\"orientation\":\"v\",\"text\":\"\",\"x\":[\"Female\",\"Male\",\"Male\",\"Male\",\"Female\",\"Male\",\"Male\",\"Male\",\"Male\",\"Male\",\"Male\",\"Female\",\"Male\",\"Male\",\"Female\",\"Male\",\"Female\",\"Male\",\"Female\",\"Male\",\"Male\",\"Female\",\"Female\",\"Male\",\"Male\",\"Male\",\"Male\",\"Male\",\"Male\",\"Female\",\"Male\",\"Male\",\"Female\",\"Female\",\"Male\",\"Male\",\"Male\",\"Female\",\"Male\",\"Male\",\"Male\",\"Male\",\"Male\",\"Male\",\"Male\",\"Male\",\"Male\",\"Male\",\"Male\",\"Male\",\"Male\",\"Female\",\"Female\",\"Male\",\"Male\",\"Male\",\"Male\",\"Female\",\"Male\",\"Male\",\"Male\",\"Male\",\"Male\",\"Male\",\"Male\",\"Male\",\"Female\",\"Female\",\"Male\",\"Male\",\"Male\",\"Female\",\"Female\",\"Female\",\"Female\",\"Male\",\"Male\",\"Male\",\"Male\",\"Male\",\"Male\",\"Male\",\"Female\",\"Male\",\"Male\",\"Female\",\"Male\",\"Male\",\"Male\",\"Male\",\"Male\",\"Male\",\"Female\",\"Female\",\"Female\",\"Male\",\"Male\",\"Male\",\"Male\",\"Male\",\"Female\",\"Female\",\"Female\",\"Female\",\"Female\",\"Male\",\"Male\",\"Male\",\"Male\",\"Female\",\"Male\",\"Female\",\"Male\",\"Male\",\"Female\",\"Female\",\"Male\",\"Female\",\"Female\",\"Female\",\"Male\",\"Female\",\"Male\",\"Male\",\"Female\",\"Female\",\"Male\",\"Female\",\"Female\",\"Male\",\"Male\",\"Female\",\"Female\",\"Female\",\"Female\",\"Female\",\"Female\",\"Female\",\"Male\",\"Female\",\"Female\",\"Male\",\"Male\",\"Female\",\"Female\",\"Female\",\"Female\",\"Female\",\"Male\",\"Male\",\"Male\",\"Male\",\"Male\",\"Male\",\"Male\",\"Female\",\"Male\",\"Female\",\"Female\",\"Male\",\"Male\",\"Male\",\"Female\",\"Male\",\"Female\",\"Male\",\"Male\",\"Male\",\"Female\",\"Female\",\"Male\",\"Male\",\"Male\",\"Male\",\"Male\",\"Male\",\"Male\",\"Male\",\"Female\",\"Male\",\"Male\",\"Male\",\"Male\",\"Male\",\"Male\",\"Male\",\"Female\",\"Male\",\"Female\",\"Male\",\"Male\",\"Female\",\"Male\",\"Male\",\"Male\",\"Male\",\"Male\",\"Female\",\"Female\",\"Male\",\"Male\",\"Female\",\"Female\",\"Female\",\"Male\",\"Female\",\"Male\",\"Male\",\"Male\",\"Female\",\"Male\",\"Male\",\"Male\",\"Female\",\"Female\",\"Female\",\"Male\",\"Male\",\"Male\",\"Female\",\"Male\",\"Female\",\"Male\",\"Female\",\"Male\",\"Female\",\"Female\",\"Male\",\"Male\",\"Female\",\"Male\",\"Male\",\"Male\",\"Male\",\"Male\",\"Male\",\"Male\",\"Male\",\"Female\",\"Male\",\"Female\",\"Male\",\"Male\",\"Female\"],\"y\":[1.01,1.66,3.5,3.31,3.61,4.71,2.0,3.12,1.96,3.23,1.71,5.0,1.57,3.0,3.02,3.92,1.67,3.71,3.5,3.35,4.08,2.75,2.23,7.58,3.18,2.34,2.0,2.0,4.3,3.0,1.45,2.5,3.0,2.45,3.27,3.6,2.0,3.07,2.31,5.0,2.24,2.54,3.06,1.32,5.6,3.0,5.0,6.0,2.05,3.0,2.5,2.6,5.2,1.56,4.34,3.51,3.0,1.5,1.76,6.73,3.21,2.0,1.98,3.76,2.64,3.15,2.47,1.0,2.01,2.09,1.97,3.0,3.14,5.0,2.2,1.25,3.08,4.0,3.0,2.71,3.0,3.4,1.83,5.0,2.03,5.17,2.0,4.0,5.85,3.0,3.0,3.5,1.0,4.3,3.25,4.73,4.0,1.5,3.0,1.5,2.5,3.0,2.5,3.48,4.08,1.64,4.06,4.29,3.76,4.0,3.0,1.0,4.0,2.55,4.0,3.5,5.07,1.5,1.8,2.92,2.31,1.68,2.5,2.0,2.52,4.2,1.48,2.0,2.0,2.18,1.5,2.83,1.5,2.0,3.25,1.25,2.0,2.0,2.0,2.75,3.5,6.7,5.0,5.0,2.3,1.5,1.36,1.63,1.73,2.0,2.5,2.0,2.74,2.0,2.0,5.14,5.0,3.75,2.61,2.0,3.5,2.5,2.0,2.0,3.0,3.48,2.24,4.5,1.61,2.0,10.0,3.16,5.15,3.18,4.0,3.11,2.0,2.0,4.0,3.55,3.68,5.65,3.5,6.5,3.0,5.0,3.5,2.0,3.5,4.0,1.5,4.19,2.56,2.02,4.0,1.44,2.0,5.0,2.0,2.0,4.0,2.01,2.0,2.5,4.0,3.23,3.41,3.0,2.03,2.23,2.0,5.16,9.0,2.5,6.5,1.1,3.0,1.5,1.44,3.09,2.2,3.48,1.92,3.0,1.58,2.5,2.0,3.0,2.72,2.88,2.0,3.0,3.39,1.47,3.0,1.25,1.0,1.17,4.67,5.92,2.0,2.0,1.75,3.0],\"type\":\"bar\"}],                        {\"legend\":{\"bgcolor\":\"#151516\",\"font\":{\"color\":\"#D9D9D9\"}},\"paper_bgcolor\":\"#151516\",\"plot_bgcolor\":\"#151516\",\"template\":{\"data\":{\"barpolar\":[{\"marker\":{\"line\":{\"color\":\"#E5ECF6\",\"width\":0.5},\"pattern\":{\"fillmode\":\"overlay\",\"size\":10,\"solidity\":0.2}},\"type\":\"barpolar\"}],\"bar\":[{\"error_x\":{\"color\":\"#2a3f5f\"},\"error_y\":{\"color\":\"#2a3f5f\"},\"marker\":{\"line\":{\"color\":\"#E5ECF6\",\"width\":0.5},\"pattern\":{\"fillmode\":\"overlay\",\"size\":10,\"solidity\":0.2}},\"type\":\"bar\"}],\"carpet\":[{\"aaxis\":{\"endlinecolor\":\"#2a3f5f\",\"gridcolor\":\"white\",\"linecolor\":\"white\",\"minorgridcolor\":\"white\",\"startlinecolor\":\"#2a3f5f\"},\"baxis\":{\"endlinecolor\":\"#2a3f5f\",\"gridcolor\":\"white\",\"linecolor\":\"white\",\"minorgridcolor\":\"white\",\"startlinecolor\":\"#2a3f5f\"},\"type\":\"carpet\"}],\"choropleth\":[{\"colorbar\":{\"outlinewidth\":0,\"ticks\":\"\"},\"type\":\"choropleth\"}],\"contourcarpet\":[{\"colorbar\":{\"outlinewidth\":0,\"ticks\":\"\"},\"type\":\"contourcarpet\"}],\"contour\":[{\"colorbar\":{\"outlinewidth\":0,\"ticks\":\"\"},\"colorscale\":[[0.0,\"#0d0887\"],[0.1111111111111111,\"#46039f\"],[0.2222222222222222,\"#7201a8\"],[0.3333333333333333,\"#9c179e\"],[0.4444444444444444,\"#bd3786\"],[0.5555555555555556,\"#d8576b\"],[0.6666666666666666,\"#ed7953\"],[0.7777777777777778,\"#fb9f3a\"],[0.8888888888888888,\"#fdca26\"],[1.0,\"#f0f921\"]],\"type\":\"contour\"}],\"heatmapgl\":[{\"colorbar\":{\"outlinewidth\":0,\"ticks\":\"\"},\"colorscale\":[[0.0,\"#0d0887\"],[0.1111111111111111,\"#46039f\"],[0.2222222222222222,\"#7201a8\"],[0.3333333333333333,\"#9c179e\"],[0.4444444444444444,\"#bd3786\"],[0.5555555555555556,\"#d8576b\"],[0.6666666666666666,\"#ed7953\"],[0.7777777777777778,\"#fb9f3a\"],[0.8888888888888888,\"#fdca26\"],[1.0,\"#f0f921\"]],\"type\":\"heatmapgl\"}],\"heatmap\":[{\"colorbar\":{\"outlinewidth\":0,\"ticks\":\"\"},\"colorscale\":[[0.0,\"#0d0887\"],[0.1111111111111111,\"#46039f\"],[0.2222222222222222,\"#7201a8\"],[0.3333333333333333,\"#9c179e\"],[0.4444444444444444,\"#bd3786\"],[0.5555555555555556,\"#d8576b\"],[0.6666666666666666,\"#ed7953\"],[0.7777777777777778,\"#fb9f3a\"],[0.8888888888888888,\"#fdca26\"],[1.0,\"#f0f921\"]],\"type\":\"heatmap\"}],\"histogram2dcontour\":[{\"colorbar\":{\"outlinewidth\":0,\"ticks\":\"\"},\"colorscale\":[[0.0,\"#0d0887\"],[0.1111111111111111,\"#46039f\"],[0.2222222222222222,\"#7201a8\"],[0.3333333333333333,\"#9c179e\"],[0.4444444444444444,\"#bd3786\"],[0.5555555555555556,\"#d8576b\"],[0.6666666666666666,\"#ed7953\"],[0.7777777777777778,\"#fb9f3a\"],[0.8888888888888888,\"#fdca26\"],[1.0,\"#f0f921\"]],\"type\":\"histogram2dcontour\"}],\"histogram2d\":[{\"colorbar\":{\"outlinewidth\":0,\"ticks\":\"\"},\"colorscale\":[[0.0,\"#0d0887\"],[0.1111111111111111,\"#46039f\"],[0.2222222222222222,\"#7201a8\"],[0.3333333333333333,\"#9c179e\"],[0.4444444444444444,\"#bd3786\"],[0.5555555555555556,\"#d8576b\"],[0.6666666666666666,\"#ed7953\"],[0.7777777777777778,\"#fb9f3a\"],[0.8888888888888888,\"#fdca26\"],[1.0,\"#f0f921\"]],\"type\":\"histogram2d\"}],\"histogram\":[{\"marker\":{\"pattern\":{\"fillmode\":\"overlay\",\"size\":10,\"solidity\":0.2}},\"type\":\"histogram\"}],\"mesh3d\":[{\"colorbar\":{\"outlinewidth\":0,\"ticks\":\"\"},\"type\":\"mesh3d\"}],\"parcoords\":[{\"line\":{\"colorbar\":{\"outlinewidth\":0,\"ticks\":\"\"}},\"type\":\"parcoords\"}],\"pie\":[{\"automargin\":true,\"type\":\"pie\"}],\"scatter3d\":[{\"line\":{\"colorbar\":{\"outlinewidth\":0,\"ticks\":\"\"}},\"marker\":{\"colorbar\":{\"outlinewidth\":0,\"ticks\":\"\"}},\"type\":\"scatter3d\"}],\"scattercarpet\":[{\"marker\":{\"colorbar\":{\"outlinewidth\":0,\"ticks\":\"\"}},\"type\":\"scattercarpet\"}],\"scattergeo\":[{\"marker\":{\"colorbar\":{\"outlinewidth\":0,\"ticks\":\"\"}},\"type\":\"scattergeo\"}],\"scattergl\":[{\"marker\":{\"colorbar\":{\"outlinewidth\":0,\"ticks\":\"\"}},\"type\":\"scattergl\"}],\"scattermapbox\":[{\"marker\":{\"colorbar\":{\"outlinewidth\":0,\"ticks\":\"\"}},\"type\":\"scattermapbox\"}],\"scatterpolargl\":[{\"marker\":{\"colorbar\":{\"outlinewidth\":0,\"ticks\":\"\"}},\"type\":\"scatterpolargl\"}],\"scatterpolar\":[{\"marker\":{\"colorbar\":{\"outlinewidth\":0,\"ticks\":\"\"}},\"type\":\"scatterpolar\"}],\"scatter\":[{\"fillpattern\":{\"fillmode\":\"overlay\",\"size\":10,\"solidity\":0.2},\"type\":\"scatter\"}],\"scatterternary\":[{\"marker\":{\"colorbar\":{\"outlinewidth\":0,\"ticks\":\"\"}},\"type\":\"scatterternary\"}],\"surface\":[{\"colorbar\":{\"outlinewidth\":0,\"ticks\":\"\"},\"colorscale\":[[0.0,\"#0d0887\"],[0.1111111111111111,\"#46039f\"],[0.2222222222222222,\"#7201a8\"],[0.3333333333333333,\"#9c179e\"],[0.4444444444444444,\"#bd3786\"],[0.5555555555555556,\"#d8576b\"],[0.6666666666666666,\"#ed7953\"],[0.7777777777777778,\"#fb9f3a\"],[0.8888888888888888,\"#fdca26\"],[1.0,\"#f0f921\"]],\"type\":\"surface\"}],\"table\":[{\"cells\":{\"fill\":{\"color\":\"#EBF0F8\"},\"line\":{\"color\":\"white\"}},\"header\":{\"fill\":{\"color\":\"#C8D4E3\"},\"line\":{\"color\":\"white\"}},\"type\":\"table\"}]},\"layout\":{\"annotationdefaults\":{\"arrowcolor\":\"#2a3f5f\",\"arrowhead\":0,\"arrowwidth\":1},\"autotypenumbers\":\"strict\",\"coloraxis\":{\"colorbar\":{\"outlinewidth\":0,\"ticks\":\"\"}},\"colorscale\":{\"diverging\":[[0,\"#8e0152\"],[0.1,\"#c51b7d\"],[0.2,\"#de77ae\"],[0.3,\"#f1b6da\"],[0.4,\"#fde0ef\"],[0.5,\"#f7f7f7\"],[0.6,\"#e6f5d0\"],[0.7,\"#b8e186\"],[0.8,\"#7fbc41\"],[0.9,\"#4d9221\"],[1,\"#276419\"]],\"sequential\":[[0.0,\"#0d0887\"],[0.1111111111111111,\"#46039f\"],[0.2222222222222222,\"#7201a8\"],[0.3333333333333333,\"#9c179e\"],[0.4444444444444444,\"#bd3786\"],[0.5555555555555556,\"#d8576b\"],[0.6666666666666666,\"#ed7953\"],[0.7777777777777778,\"#fb9f3a\"],[0.8888888888888888,\"#fdca26\"],[1.0,\"#f0f921\"]],\"sequentialminus\":[[0.0,\"#0d0887\"],[0.1111111111111111,\"#46039f\"],[0.2222222222222222,\"#7201a8\"],[0.3333333333333333,\"#9c179e\"],[0.4444444444444444,\"#bd3786\"],[0.5555555555555556,\"#d8576b\"],[0.6666666666666666,\"#ed7953\"],[0.7777777777777778,\"#fb9f3a\"],[0.8888888888888888,\"#fdca26\"],[1.0,\"#f0f921\"]]},\"colorway\":[\"#636efa\",\"#EF553B\",\"#00cc96\",\"#ab63fa\",\"#FFA15A\",\"#19d3f3\",\"#FF6692\",\"#B6E880\",\"#FF97FF\",\"#FECB52\"],\"font\":{\"color\":\"#2a3f5f\"},\"geo\":{\"bgcolor\":\"white\",\"lakecolor\":\"white\",\"landcolor\":\"#E5ECF6\",\"showlakes\":true,\"showland\":true,\"subunitcolor\":\"white\"},\"hoverlabel\":{\"align\":\"left\"},\"hovermode\":\"closest\",\"mapbox\":{\"style\":\"light\"},\"paper_bgcolor\":\"white\",\"plot_bgcolor\":\"#E5ECF6\",\"polar\":{\"angularaxis\":{\"gridcolor\":\"white\",\"linecolor\":\"white\",\"ticks\":\"\"},\"bgcolor\":\"#E5ECF6\",\"radialaxis\":{\"gridcolor\":\"white\",\"linecolor\":\"white\",\"ticks\":\"\"}},\"scene\":{\"xaxis\":{\"backgroundcolor\":\"#E5ECF6\",\"gridcolor\":\"white\",\"gridwidth\":2,\"linecolor\":\"white\",\"showbackground\":true,\"ticks\":\"\",\"zerolinecolor\":\"white\"},\"yaxis\":{\"backgroundcolor\":\"#E5ECF6\",\"gridcolor\":\"white\",\"gridwidth\":2,\"linecolor\":\"white\",\"showbackground\":true,\"ticks\":\"\",\"zerolinecolor\":\"white\"},\"zaxis\":{\"backgroundcolor\":\"#E5ECF6\",\"gridcolor\":\"white\",\"gridwidth\":2,\"linecolor\":\"white\",\"showbackground\":true,\"ticks\":\"\",\"zerolinecolor\":\"white\"}},\"shapedefaults\":{\"line\":{\"color\":\"#2a3f5f\"}},\"ternary\":{\"aaxis\":{\"gridcolor\":\"white\",\"linecolor\":\"white\",\"ticks\":\"\"},\"baxis\":{\"gridcolor\":\"white\",\"linecolor\":\"white\",\"ticks\":\"\"},\"bgcolor\":\"#E5ECF6\",\"caxis\":{\"gridcolor\":\"white\",\"linecolor\":\"white\",\"ticks\":\"\"}},\"title\":{\"x\":0.05},\"xaxis\":{\"automargin\":true,\"gridcolor\":\"white\",\"linecolor\":\"white\",\"ticks\":\"\",\"title\":{\"standoff\":15},\"zerolinecolor\":\"white\",\"zerolinewidth\":2},\"yaxis\":{\"automargin\":true,\"gridcolor\":\"white\",\"linecolor\":\"white\",\"ticks\":\"\",\"title\":{\"standoff\":15},\"zerolinecolor\":\"white\",\"zerolinewidth\":2}}},\"title\":{\"font\":{\"color\":\"#D9D9D9\"},\"text\":\"Tip paid\"},\"xaxis\":{\"gridcolor\":\"#434343\",\"showgrid\":true,\"tickfont\":{\"color\":\"#C2C2C2\"},\"title\":{\"font\":{\"color\":\"#D9D9D9\"},\"text\":\"Gender\"},\"zerolinecolor\":\"#666570\"},\"yaxis\":{\"gridcolor\":\"#434343\",\"showgrid\":true,\"tickfont\":{\"color\":\"#C2C2C2\"},\"title\":{\"font\":{\"color\":\"#D9D9D9\"},\"text\":\"Tips\"},\"zerolinecolor\":\"#666570\"}},                        {\"showLink\": true, \"linkText\": \"Export to plot.ly\", \"plotlyServerURL\": \"https://plot.ly\", \"responsive\": true}                    ).then(function(){\n",
       "                            \n",
       "var gd = document.getElementById('c628b913-844b-4255-8040-792567a8d201');\n",
       "var x = new MutationObserver(function (mutations, observer) {{\n",
       "        var display = window.getComputedStyle(gd).display;\n",
       "        if (!display || display === 'none') {{\n",
       "            console.log([gd, 'removed!']);\n",
       "            Plotly.purge(gd);\n",
       "            observer.disconnect();\n",
       "        }}\n",
       "}});\n",
       "\n",
       "// Listen for the removal of the full notebook cells\n",
       "var notebookContainer = gd.closest('#notebook-container');\n",
       "if (notebookContainer) {{\n",
       "    x.observe(notebookContainer, {childList: true});\n",
       "}}\n",
       "\n",
       "// Listen for the clearing of the current output cell\n",
       "var outputEl = gd.closest('.output');\n",
       "if (outputEl) {{\n",
       "    x.observe(outputEl, {childList: true});\n",
       "}}\n",
       "\n",
       "                        })                };                });            </script>        </div>"
      ]
     },
     "metadata": {},
     "output_type": "display_data"
    }
   ],
   "source": [
    "tips.iplot(kind='bar',x='sex',y='tip',title='Tip paid',xTitle='Gender',yTitle='Tips')"
   ]
  },
  {
   "cell_type": "code",
   "execution_count": 83,
   "id": "9e9c01d5",
   "metadata": {},
   "outputs": [
    {
     "data": {
      "application/vnd.plotly.v1+json": {
       "config": {
        "linkText": "Export to plot.ly",
        "plotlyServerURL": "https://plot.ly",
        "showLink": true
       },
       "data": [
        {
         "line": {
          "color": "rgba(255, 153, 51, 1.0)",
          "dash": "solid",
          "shape": "linear",
          "width": 1.3
         },
         "marker": {
          "size": 12,
          "symbol": "circle"
         },
         "mode": "markers",
         "name": "total_bill",
         "text": "",
         "type": "scatter",
         "x": [
          1.01,
          1.66,
          3.5,
          3.31,
          3.61,
          4.71,
          2,
          3.12,
          1.96,
          3.23,
          1.71,
          5,
          1.57,
          3,
          3.02,
          3.92,
          1.67,
          3.71,
          3.5,
          3.35,
          4.08,
          2.75,
          2.23,
          7.58,
          3.18,
          2.34,
          2,
          2,
          4.3,
          3,
          1.45,
          2.5,
          3,
          2.45,
          3.27,
          3.6,
          2,
          3.07,
          2.31,
          5,
          2.24,
          2.54,
          3.06,
          1.32,
          5.6,
          3,
          5,
          6,
          2.05,
          3,
          2.5,
          2.6,
          5.2,
          1.56,
          4.34,
          3.51,
          3,
          1.5,
          1.76,
          6.73,
          3.21,
          2,
          1.98,
          3.76,
          2.64,
          3.15,
          2.47,
          1,
          2.01,
          2.09,
          1.97,
          3,
          3.14,
          5,
          2.2,
          1.25,
          3.08,
          4,
          3,
          2.71,
          3,
          3.4,
          1.83,
          5,
          2.03,
          5.17,
          2,
          4,
          5.85,
          3,
          3,
          3.5,
          1,
          4.3,
          3.25,
          4.73,
          4,
          1.5,
          3,
          1.5,
          2.5,
          3,
          2.5,
          3.48,
          4.08,
          1.64,
          4.06,
          4.29,
          3.76,
          4,
          3,
          1,
          4,
          2.55,
          4,
          3.5,
          5.07,
          1.5,
          1.8,
          2.92,
          2.31,
          1.68,
          2.5,
          2,
          2.52,
          4.2,
          1.48,
          2,
          2,
          2.18,
          1.5,
          2.83,
          1.5,
          2,
          3.25,
          1.25,
          2,
          2,
          2,
          2.75,
          3.5,
          6.7,
          5,
          5,
          2.3,
          1.5,
          1.36,
          1.63,
          1.73,
          2,
          2.5,
          2,
          2.74,
          2,
          2,
          5.14,
          5,
          3.75,
          2.61,
          2,
          3.5,
          2.5,
          2,
          2,
          3,
          3.48,
          2.24,
          4.5,
          1.61,
          2,
          10,
          3.16,
          5.15,
          3.18,
          4,
          3.11,
          2,
          2,
          4,
          3.55,
          3.68,
          5.65,
          3.5,
          6.5,
          3,
          5,
          3.5,
          2,
          3.5,
          4,
          1.5,
          4.19,
          2.56,
          2.02,
          4,
          1.44,
          2,
          5,
          2,
          2,
          4,
          2.01,
          2,
          2.5,
          4,
          3.23,
          3.41,
          3,
          2.03,
          2.23,
          2,
          5.16,
          9,
          2.5,
          6.5,
          1.1,
          3,
          1.5,
          1.44,
          3.09,
          2.2,
          3.48,
          1.92,
          3,
          1.58,
          2.5,
          2,
          3,
          2.72,
          2.88,
          2,
          3,
          3.39,
          1.47,
          3,
          1.25,
          1,
          1.17,
          4.67,
          5.92,
          2,
          2,
          1.75,
          3
         ],
         "y": [
          16.99,
          10.34,
          21.01,
          23.68,
          24.59,
          25.29,
          8.77,
          26.88,
          15.04,
          14.78,
          10.27,
          35.26,
          15.42,
          18.43,
          14.83,
          21.58,
          10.33,
          16.29,
          16.97,
          20.65,
          17.92,
          20.29,
          15.77,
          39.42,
          19.82,
          17.81,
          13.37,
          12.69,
          21.7,
          19.65,
          9.55,
          18.35,
          15.06,
          20.69,
          17.78,
          24.06,
          16.31,
          16.93,
          18.69,
          31.27,
          16.04,
          17.46,
          13.94,
          9.68,
          30.4,
          18.29,
          22.23,
          32.4,
          28.55,
          18.04,
          12.54,
          10.29,
          34.81,
          9.94,
          25.56,
          19.49,
          38.01,
          26.41,
          11.24,
          48.27,
          20.29,
          13.81,
          11.02,
          18.29,
          17.59,
          20.08,
          16.45,
          3.07,
          20.23,
          15.01,
          12.02,
          17.07,
          26.86,
          25.28,
          14.73,
          10.51,
          17.92,
          27.2,
          22.76,
          17.29,
          19.44,
          16.66,
          10.07,
          32.68,
          15.98,
          34.83,
          13.03,
          18.28,
          24.71,
          21.16,
          28.97,
          22.49,
          5.75,
          16.32,
          22.75,
          40.17,
          27.28,
          12.03,
          21.01,
          12.46,
          11.35,
          15.38,
          44.3,
          22.42,
          20.92,
          15.36,
          20.49,
          25.21,
          18.24,
          14.31,
          14,
          7.25,
          38.07,
          23.95,
          25.71,
          17.31,
          29.93,
          10.65,
          12.43,
          24.08,
          11.69,
          13.42,
          14.26,
          15.95,
          12.48,
          29.8,
          8.52,
          14.52,
          11.38,
          22.82,
          19.08,
          20.27,
          11.17,
          12.26,
          18.26,
          8.51,
          10.33,
          14.15,
          16,
          13.16,
          17.47,
          34.3,
          41.19,
          27.05,
          16.43,
          8.35,
          18.64,
          11.87,
          9.78,
          7.51,
          14.07,
          13.13,
          17.26,
          24.55,
          19.77,
          29.85,
          48.17,
          25,
          13.39,
          16.49,
          21.5,
          12.66,
          16.21,
          13.81,
          17.51,
          24.52,
          20.76,
          31.71,
          10.59,
          10.63,
          50.81,
          15.81,
          7.25,
          31.85,
          16.82,
          32.9,
          17.89,
          14.48,
          9.6,
          34.63,
          34.65,
          23.33,
          45.35,
          23.17,
          40.55,
          20.69,
          20.9,
          30.46,
          18.15,
          23.1,
          15.69,
          19.81,
          28.44,
          15.48,
          16.58,
          7.56,
          10.34,
          43.11,
          13,
          13.51,
          18.71,
          12.74,
          13,
          16.4,
          20.53,
          16.47,
          26.59,
          38.73,
          24.27,
          12.76,
          30.06,
          25.89,
          48.33,
          13.27,
          28.17,
          12.9,
          28.15,
          11.59,
          7.74,
          30.14,
          12.16,
          13.42,
          8.58,
          15.98,
          13.42,
          16.27,
          10.09,
          20.45,
          13.28,
          22.12,
          24.01,
          15.69,
          11.61,
          10.77,
          15.53,
          10.07,
          12.6,
          32.83,
          35.83,
          29.03,
          27.18,
          22.67,
          17.82,
          18.78
         ]
        }
       ],
       "layout": {
        "legend": {
         "bgcolor": "#151516",
         "font": {
          "color": "#D9D9D9"
         }
        },
        "paper_bgcolor": "#151516",
        "plot_bgcolor": "#151516",
        "template": {
         "data": {
          "bar": [
           {
            "error_x": {
             "color": "#2a3f5f"
            },
            "error_y": {
             "color": "#2a3f5f"
            },
            "marker": {
             "line": {
              "color": "#E5ECF6",
              "width": 0.5
             },
             "pattern": {
              "fillmode": "overlay",
              "size": 10,
              "solidity": 0.2
             }
            },
            "type": "bar"
           }
          ],
          "barpolar": [
           {
            "marker": {
             "line": {
              "color": "#E5ECF6",
              "width": 0.5
             },
             "pattern": {
              "fillmode": "overlay",
              "size": 10,
              "solidity": 0.2
             }
            },
            "type": "barpolar"
           }
          ],
          "carpet": [
           {
            "aaxis": {
             "endlinecolor": "#2a3f5f",
             "gridcolor": "white",
             "linecolor": "white",
             "minorgridcolor": "white",
             "startlinecolor": "#2a3f5f"
            },
            "baxis": {
             "endlinecolor": "#2a3f5f",
             "gridcolor": "white",
             "linecolor": "white",
             "minorgridcolor": "white",
             "startlinecolor": "#2a3f5f"
            },
            "type": "carpet"
           }
          ],
          "choropleth": [
           {
            "colorbar": {
             "outlinewidth": 0,
             "ticks": ""
            },
            "type": "choropleth"
           }
          ],
          "contour": [
           {
            "colorbar": {
             "outlinewidth": 0,
             "ticks": ""
            },
            "colorscale": [
             [
              0,
              "#0d0887"
             ],
             [
              0.1111111111111111,
              "#46039f"
             ],
             [
              0.2222222222222222,
              "#7201a8"
             ],
             [
              0.3333333333333333,
              "#9c179e"
             ],
             [
              0.4444444444444444,
              "#bd3786"
             ],
             [
              0.5555555555555556,
              "#d8576b"
             ],
             [
              0.6666666666666666,
              "#ed7953"
             ],
             [
              0.7777777777777778,
              "#fb9f3a"
             ],
             [
              0.8888888888888888,
              "#fdca26"
             ],
             [
              1,
              "#f0f921"
             ]
            ],
            "type": "contour"
           }
          ],
          "contourcarpet": [
           {
            "colorbar": {
             "outlinewidth": 0,
             "ticks": ""
            },
            "type": "contourcarpet"
           }
          ],
          "heatmap": [
           {
            "colorbar": {
             "outlinewidth": 0,
             "ticks": ""
            },
            "colorscale": [
             [
              0,
              "#0d0887"
             ],
             [
              0.1111111111111111,
              "#46039f"
             ],
             [
              0.2222222222222222,
              "#7201a8"
             ],
             [
              0.3333333333333333,
              "#9c179e"
             ],
             [
              0.4444444444444444,
              "#bd3786"
             ],
             [
              0.5555555555555556,
              "#d8576b"
             ],
             [
              0.6666666666666666,
              "#ed7953"
             ],
             [
              0.7777777777777778,
              "#fb9f3a"
             ],
             [
              0.8888888888888888,
              "#fdca26"
             ],
             [
              1,
              "#f0f921"
             ]
            ],
            "type": "heatmap"
           }
          ],
          "heatmapgl": [
           {
            "colorbar": {
             "outlinewidth": 0,
             "ticks": ""
            },
            "colorscale": [
             [
              0,
              "#0d0887"
             ],
             [
              0.1111111111111111,
              "#46039f"
             ],
             [
              0.2222222222222222,
              "#7201a8"
             ],
             [
              0.3333333333333333,
              "#9c179e"
             ],
             [
              0.4444444444444444,
              "#bd3786"
             ],
             [
              0.5555555555555556,
              "#d8576b"
             ],
             [
              0.6666666666666666,
              "#ed7953"
             ],
             [
              0.7777777777777778,
              "#fb9f3a"
             ],
             [
              0.8888888888888888,
              "#fdca26"
             ],
             [
              1,
              "#f0f921"
             ]
            ],
            "type": "heatmapgl"
           }
          ],
          "histogram": [
           {
            "marker": {
             "pattern": {
              "fillmode": "overlay",
              "size": 10,
              "solidity": 0.2
             }
            },
            "type": "histogram"
           }
          ],
          "histogram2d": [
           {
            "colorbar": {
             "outlinewidth": 0,
             "ticks": ""
            },
            "colorscale": [
             [
              0,
              "#0d0887"
             ],
             [
              0.1111111111111111,
              "#46039f"
             ],
             [
              0.2222222222222222,
              "#7201a8"
             ],
             [
              0.3333333333333333,
              "#9c179e"
             ],
             [
              0.4444444444444444,
              "#bd3786"
             ],
             [
              0.5555555555555556,
              "#d8576b"
             ],
             [
              0.6666666666666666,
              "#ed7953"
             ],
             [
              0.7777777777777778,
              "#fb9f3a"
             ],
             [
              0.8888888888888888,
              "#fdca26"
             ],
             [
              1,
              "#f0f921"
             ]
            ],
            "type": "histogram2d"
           }
          ],
          "histogram2dcontour": [
           {
            "colorbar": {
             "outlinewidth": 0,
             "ticks": ""
            },
            "colorscale": [
             [
              0,
              "#0d0887"
             ],
             [
              0.1111111111111111,
              "#46039f"
             ],
             [
              0.2222222222222222,
              "#7201a8"
             ],
             [
              0.3333333333333333,
              "#9c179e"
             ],
             [
              0.4444444444444444,
              "#bd3786"
             ],
             [
              0.5555555555555556,
              "#d8576b"
             ],
             [
              0.6666666666666666,
              "#ed7953"
             ],
             [
              0.7777777777777778,
              "#fb9f3a"
             ],
             [
              0.8888888888888888,
              "#fdca26"
             ],
             [
              1,
              "#f0f921"
             ]
            ],
            "type": "histogram2dcontour"
           }
          ],
          "mesh3d": [
           {
            "colorbar": {
             "outlinewidth": 0,
             "ticks": ""
            },
            "type": "mesh3d"
           }
          ],
          "parcoords": [
           {
            "line": {
             "colorbar": {
              "outlinewidth": 0,
              "ticks": ""
             }
            },
            "type": "parcoords"
           }
          ],
          "pie": [
           {
            "automargin": true,
            "type": "pie"
           }
          ],
          "scatter": [
           {
            "fillpattern": {
             "fillmode": "overlay",
             "size": 10,
             "solidity": 0.2
            },
            "type": "scatter"
           }
          ],
          "scatter3d": [
           {
            "line": {
             "colorbar": {
              "outlinewidth": 0,
              "ticks": ""
             }
            },
            "marker": {
             "colorbar": {
              "outlinewidth": 0,
              "ticks": ""
             }
            },
            "type": "scatter3d"
           }
          ],
          "scattercarpet": [
           {
            "marker": {
             "colorbar": {
              "outlinewidth": 0,
              "ticks": ""
             }
            },
            "type": "scattercarpet"
           }
          ],
          "scattergeo": [
           {
            "marker": {
             "colorbar": {
              "outlinewidth": 0,
              "ticks": ""
             }
            },
            "type": "scattergeo"
           }
          ],
          "scattergl": [
           {
            "marker": {
             "colorbar": {
              "outlinewidth": 0,
              "ticks": ""
             }
            },
            "type": "scattergl"
           }
          ],
          "scattermapbox": [
           {
            "marker": {
             "colorbar": {
              "outlinewidth": 0,
              "ticks": ""
             }
            },
            "type": "scattermapbox"
           }
          ],
          "scatterpolar": [
           {
            "marker": {
             "colorbar": {
              "outlinewidth": 0,
              "ticks": ""
             }
            },
            "type": "scatterpolar"
           }
          ],
          "scatterpolargl": [
           {
            "marker": {
             "colorbar": {
              "outlinewidth": 0,
              "ticks": ""
             }
            },
            "type": "scatterpolargl"
           }
          ],
          "scatterternary": [
           {
            "marker": {
             "colorbar": {
              "outlinewidth": 0,
              "ticks": ""
             }
            },
            "type": "scatterternary"
           }
          ],
          "surface": [
           {
            "colorbar": {
             "outlinewidth": 0,
             "ticks": ""
            },
            "colorscale": [
             [
              0,
              "#0d0887"
             ],
             [
              0.1111111111111111,
              "#46039f"
             ],
             [
              0.2222222222222222,
              "#7201a8"
             ],
             [
              0.3333333333333333,
              "#9c179e"
             ],
             [
              0.4444444444444444,
              "#bd3786"
             ],
             [
              0.5555555555555556,
              "#d8576b"
             ],
             [
              0.6666666666666666,
              "#ed7953"
             ],
             [
              0.7777777777777778,
              "#fb9f3a"
             ],
             [
              0.8888888888888888,
              "#fdca26"
             ],
             [
              1,
              "#f0f921"
             ]
            ],
            "type": "surface"
           }
          ],
          "table": [
           {
            "cells": {
             "fill": {
              "color": "#EBF0F8"
             },
             "line": {
              "color": "white"
             }
            },
            "header": {
             "fill": {
              "color": "#C8D4E3"
             },
             "line": {
              "color": "white"
             }
            },
            "type": "table"
           }
          ]
         },
         "layout": {
          "annotationdefaults": {
           "arrowcolor": "#2a3f5f",
           "arrowhead": 0,
           "arrowwidth": 1
          },
          "autotypenumbers": "strict",
          "coloraxis": {
           "colorbar": {
            "outlinewidth": 0,
            "ticks": ""
           }
          },
          "colorscale": {
           "diverging": [
            [
             0,
             "#8e0152"
            ],
            [
             0.1,
             "#c51b7d"
            ],
            [
             0.2,
             "#de77ae"
            ],
            [
             0.3,
             "#f1b6da"
            ],
            [
             0.4,
             "#fde0ef"
            ],
            [
             0.5,
             "#f7f7f7"
            ],
            [
             0.6,
             "#e6f5d0"
            ],
            [
             0.7,
             "#b8e186"
            ],
            [
             0.8,
             "#7fbc41"
            ],
            [
             0.9,
             "#4d9221"
            ],
            [
             1,
             "#276419"
            ]
           ],
           "sequential": [
            [
             0,
             "#0d0887"
            ],
            [
             0.1111111111111111,
             "#46039f"
            ],
            [
             0.2222222222222222,
             "#7201a8"
            ],
            [
             0.3333333333333333,
             "#9c179e"
            ],
            [
             0.4444444444444444,
             "#bd3786"
            ],
            [
             0.5555555555555556,
             "#d8576b"
            ],
            [
             0.6666666666666666,
             "#ed7953"
            ],
            [
             0.7777777777777778,
             "#fb9f3a"
            ],
            [
             0.8888888888888888,
             "#fdca26"
            ],
            [
             1,
             "#f0f921"
            ]
           ],
           "sequentialminus": [
            [
             0,
             "#0d0887"
            ],
            [
             0.1111111111111111,
             "#46039f"
            ],
            [
             0.2222222222222222,
             "#7201a8"
            ],
            [
             0.3333333333333333,
             "#9c179e"
            ],
            [
             0.4444444444444444,
             "#bd3786"
            ],
            [
             0.5555555555555556,
             "#d8576b"
            ],
            [
             0.6666666666666666,
             "#ed7953"
            ],
            [
             0.7777777777777778,
             "#fb9f3a"
            ],
            [
             0.8888888888888888,
             "#fdca26"
            ],
            [
             1,
             "#f0f921"
            ]
           ]
          },
          "colorway": [
           "#636efa",
           "#EF553B",
           "#00cc96",
           "#ab63fa",
           "#FFA15A",
           "#19d3f3",
           "#FF6692",
           "#B6E880",
           "#FF97FF",
           "#FECB52"
          ],
          "font": {
           "color": "#2a3f5f"
          },
          "geo": {
           "bgcolor": "white",
           "lakecolor": "white",
           "landcolor": "#E5ECF6",
           "showlakes": true,
           "showland": true,
           "subunitcolor": "white"
          },
          "hoverlabel": {
           "align": "left"
          },
          "hovermode": "closest",
          "mapbox": {
           "style": "light"
          },
          "paper_bgcolor": "white",
          "plot_bgcolor": "#E5ECF6",
          "polar": {
           "angularaxis": {
            "gridcolor": "white",
            "linecolor": "white",
            "ticks": ""
           },
           "bgcolor": "#E5ECF6",
           "radialaxis": {
            "gridcolor": "white",
            "linecolor": "white",
            "ticks": ""
           }
          },
          "scene": {
           "xaxis": {
            "backgroundcolor": "#E5ECF6",
            "gridcolor": "white",
            "gridwidth": 2,
            "linecolor": "white",
            "showbackground": true,
            "ticks": "",
            "zerolinecolor": "white"
           },
           "yaxis": {
            "backgroundcolor": "#E5ECF6",
            "gridcolor": "white",
            "gridwidth": 2,
            "linecolor": "white",
            "showbackground": true,
            "ticks": "",
            "zerolinecolor": "white"
           },
           "zaxis": {
            "backgroundcolor": "#E5ECF6",
            "gridcolor": "white",
            "gridwidth": 2,
            "linecolor": "white",
            "showbackground": true,
            "ticks": "",
            "zerolinecolor": "white"
           }
          },
          "shapedefaults": {
           "line": {
            "color": "#2a3f5f"
           }
          },
          "ternary": {
           "aaxis": {
            "gridcolor": "white",
            "linecolor": "white",
            "ticks": ""
           },
           "baxis": {
            "gridcolor": "white",
            "linecolor": "white",
            "ticks": ""
           },
           "bgcolor": "#E5ECF6",
           "caxis": {
            "gridcolor": "white",
            "linecolor": "white",
            "ticks": ""
           }
          },
          "title": {
           "x": 0.05
          },
          "xaxis": {
           "automargin": true,
           "gridcolor": "white",
           "linecolor": "white",
           "ticks": "",
           "title": {
            "standoff": 15
           },
           "zerolinecolor": "white",
           "zerolinewidth": 2
          },
          "yaxis": {
           "automargin": true,
           "gridcolor": "white",
           "linecolor": "white",
           "ticks": "",
           "title": {
            "standoff": 15
           },
           "zerolinecolor": "white",
           "zerolinewidth": 2
          }
         }
        },
        "title": {
         "font": {
          "color": "#D9D9D9"
         }
        },
        "xaxis": {
         "gridcolor": "#434343",
         "showgrid": true,
         "tickfont": {
          "color": "#C2C2C2"
         },
         "title": {
          "font": {
           "color": "#D9D9D9"
          },
          "text": ""
         },
         "zerolinecolor": "#666570"
        },
        "yaxis": {
         "gridcolor": "#434343",
         "showgrid": true,
         "tickfont": {
          "color": "#C2C2C2"
         },
         "title": {
          "font": {
           "color": "#D9D9D9"
          },
          "text": ""
         },
         "zerolinecolor": "#666570"
        }
       }
      },
      "text/html": [
       "<div>                            <div id=\"b7ad3a14-4b8c-497e-87ec-1674ec8ff734\" class=\"plotly-graph-div\" style=\"height:525px; width:100%;\"></div>            <script type=\"text/javascript\">                require([\"plotly\"], function(Plotly) {                    window.PLOTLYENV=window.PLOTLYENV || {};\n",
       "                    window.PLOTLYENV.BASE_URL='https://plot.ly';                                    if (document.getElementById(\"b7ad3a14-4b8c-497e-87ec-1674ec8ff734\")) {                    Plotly.newPlot(                        \"b7ad3a14-4b8c-497e-87ec-1674ec8ff734\",                        [{\"line\":{\"color\":\"rgba(255, 153, 51, 1.0)\",\"dash\":\"solid\",\"shape\":\"linear\",\"width\":1.3},\"marker\":{\"size\":12,\"symbol\":\"circle\"},\"mode\":\"markers\",\"name\":\"total_bill\",\"text\":\"\",\"x\":[1.01,1.66,3.5,3.31,3.61,4.71,2.0,3.12,1.96,3.23,1.71,5.0,1.57,3.0,3.02,3.92,1.67,3.71,3.5,3.35,4.08,2.75,2.23,7.58,3.18,2.34,2.0,2.0,4.3,3.0,1.45,2.5,3.0,2.45,3.27,3.6,2.0,3.07,2.31,5.0,2.24,2.54,3.06,1.32,5.6,3.0,5.0,6.0,2.05,3.0,2.5,2.6,5.2,1.56,4.34,3.51,3.0,1.5,1.76,6.73,3.21,2.0,1.98,3.76,2.64,3.15,2.47,1.0,2.01,2.09,1.97,3.0,3.14,5.0,2.2,1.25,3.08,4.0,3.0,2.71,3.0,3.4,1.83,5.0,2.03,5.17,2.0,4.0,5.85,3.0,3.0,3.5,1.0,4.3,3.25,4.73,4.0,1.5,3.0,1.5,2.5,3.0,2.5,3.48,4.08,1.64,4.06,4.29,3.76,4.0,3.0,1.0,4.0,2.55,4.0,3.5,5.07,1.5,1.8,2.92,2.31,1.68,2.5,2.0,2.52,4.2,1.48,2.0,2.0,2.18,1.5,2.83,1.5,2.0,3.25,1.25,2.0,2.0,2.0,2.75,3.5,6.7,5.0,5.0,2.3,1.5,1.36,1.63,1.73,2.0,2.5,2.0,2.74,2.0,2.0,5.14,5.0,3.75,2.61,2.0,3.5,2.5,2.0,2.0,3.0,3.48,2.24,4.5,1.61,2.0,10.0,3.16,5.15,3.18,4.0,3.11,2.0,2.0,4.0,3.55,3.68,5.65,3.5,6.5,3.0,5.0,3.5,2.0,3.5,4.0,1.5,4.19,2.56,2.02,4.0,1.44,2.0,5.0,2.0,2.0,4.0,2.01,2.0,2.5,4.0,3.23,3.41,3.0,2.03,2.23,2.0,5.16,9.0,2.5,6.5,1.1,3.0,1.5,1.44,3.09,2.2,3.48,1.92,3.0,1.58,2.5,2.0,3.0,2.72,2.88,2.0,3.0,3.39,1.47,3.0,1.25,1.0,1.17,4.67,5.92,2.0,2.0,1.75,3.0],\"y\":[16.99,10.34,21.01,23.68,24.59,25.29,8.77,26.88,15.04,14.78,10.27,35.26,15.42,18.43,14.83,21.58,10.33,16.29,16.97,20.65,17.92,20.29,15.77,39.42,19.82,17.81,13.37,12.69,21.7,19.65,9.55,18.35,15.06,20.69,17.78,24.06,16.31,16.93,18.69,31.27,16.04,17.46,13.94,9.68,30.4,18.29,22.23,32.4,28.55,18.04,12.54,10.29,34.81,9.94,25.56,19.49,38.01,26.41,11.24,48.27,20.29,13.81,11.02,18.29,17.59,20.08,16.45,3.07,20.23,15.01,12.02,17.07,26.86,25.28,14.73,10.51,17.92,27.2,22.76,17.29,19.44,16.66,10.07,32.68,15.98,34.83,13.03,18.28,24.71,21.16,28.97,22.49,5.75,16.32,22.75,40.17,27.28,12.03,21.01,12.46,11.35,15.38,44.3,22.42,20.92,15.36,20.49,25.21,18.24,14.31,14.0,7.25,38.07,23.95,25.71,17.31,29.93,10.65,12.43,24.08,11.69,13.42,14.26,15.95,12.48,29.8,8.52,14.52,11.38,22.82,19.08,20.27,11.17,12.26,18.26,8.51,10.33,14.15,16.0,13.16,17.47,34.3,41.19,27.05,16.43,8.35,18.64,11.87,9.78,7.51,14.07,13.13,17.26,24.55,19.77,29.85,48.17,25.0,13.39,16.49,21.5,12.66,16.21,13.81,17.51,24.52,20.76,31.71,10.59,10.63,50.81,15.81,7.25,31.85,16.82,32.9,17.89,14.48,9.6,34.63,34.65,23.33,45.35,23.17,40.55,20.69,20.9,30.46,18.15,23.1,15.69,19.81,28.44,15.48,16.58,7.56,10.34,43.11,13.0,13.51,18.71,12.74,13.0,16.4,20.53,16.47,26.59,38.73,24.27,12.76,30.06,25.89,48.33,13.27,28.17,12.9,28.15,11.59,7.74,30.14,12.16,13.42,8.58,15.98,13.42,16.27,10.09,20.45,13.28,22.12,24.01,15.69,11.61,10.77,15.53,10.07,12.6,32.83,35.83,29.03,27.18,22.67,17.82,18.78],\"type\":\"scatter\"}],                        {\"legend\":{\"bgcolor\":\"#151516\",\"font\":{\"color\":\"#D9D9D9\"}},\"paper_bgcolor\":\"#151516\",\"plot_bgcolor\":\"#151516\",\"template\":{\"data\":{\"barpolar\":[{\"marker\":{\"line\":{\"color\":\"#E5ECF6\",\"width\":0.5},\"pattern\":{\"fillmode\":\"overlay\",\"size\":10,\"solidity\":0.2}},\"type\":\"barpolar\"}],\"bar\":[{\"error_x\":{\"color\":\"#2a3f5f\"},\"error_y\":{\"color\":\"#2a3f5f\"},\"marker\":{\"line\":{\"color\":\"#E5ECF6\",\"width\":0.5},\"pattern\":{\"fillmode\":\"overlay\",\"size\":10,\"solidity\":0.2}},\"type\":\"bar\"}],\"carpet\":[{\"aaxis\":{\"endlinecolor\":\"#2a3f5f\",\"gridcolor\":\"white\",\"linecolor\":\"white\",\"minorgridcolor\":\"white\",\"startlinecolor\":\"#2a3f5f\"},\"baxis\":{\"endlinecolor\":\"#2a3f5f\",\"gridcolor\":\"white\",\"linecolor\":\"white\",\"minorgridcolor\":\"white\",\"startlinecolor\":\"#2a3f5f\"},\"type\":\"carpet\"}],\"choropleth\":[{\"colorbar\":{\"outlinewidth\":0,\"ticks\":\"\"},\"type\":\"choropleth\"}],\"contourcarpet\":[{\"colorbar\":{\"outlinewidth\":0,\"ticks\":\"\"},\"type\":\"contourcarpet\"}],\"contour\":[{\"colorbar\":{\"outlinewidth\":0,\"ticks\":\"\"},\"colorscale\":[[0.0,\"#0d0887\"],[0.1111111111111111,\"#46039f\"],[0.2222222222222222,\"#7201a8\"],[0.3333333333333333,\"#9c179e\"],[0.4444444444444444,\"#bd3786\"],[0.5555555555555556,\"#d8576b\"],[0.6666666666666666,\"#ed7953\"],[0.7777777777777778,\"#fb9f3a\"],[0.8888888888888888,\"#fdca26\"],[1.0,\"#f0f921\"]],\"type\":\"contour\"}],\"heatmapgl\":[{\"colorbar\":{\"outlinewidth\":0,\"ticks\":\"\"},\"colorscale\":[[0.0,\"#0d0887\"],[0.1111111111111111,\"#46039f\"],[0.2222222222222222,\"#7201a8\"],[0.3333333333333333,\"#9c179e\"],[0.4444444444444444,\"#bd3786\"],[0.5555555555555556,\"#d8576b\"],[0.6666666666666666,\"#ed7953\"],[0.7777777777777778,\"#fb9f3a\"],[0.8888888888888888,\"#fdca26\"],[1.0,\"#f0f921\"]],\"type\":\"heatmapgl\"}],\"heatmap\":[{\"colorbar\":{\"outlinewidth\":0,\"ticks\":\"\"},\"colorscale\":[[0.0,\"#0d0887\"],[0.1111111111111111,\"#46039f\"],[0.2222222222222222,\"#7201a8\"],[0.3333333333333333,\"#9c179e\"],[0.4444444444444444,\"#bd3786\"],[0.5555555555555556,\"#d8576b\"],[0.6666666666666666,\"#ed7953\"],[0.7777777777777778,\"#fb9f3a\"],[0.8888888888888888,\"#fdca26\"],[1.0,\"#f0f921\"]],\"type\":\"heatmap\"}],\"histogram2dcontour\":[{\"colorbar\":{\"outlinewidth\":0,\"ticks\":\"\"},\"colorscale\":[[0.0,\"#0d0887\"],[0.1111111111111111,\"#46039f\"],[0.2222222222222222,\"#7201a8\"],[0.3333333333333333,\"#9c179e\"],[0.4444444444444444,\"#bd3786\"],[0.5555555555555556,\"#d8576b\"],[0.6666666666666666,\"#ed7953\"],[0.7777777777777778,\"#fb9f3a\"],[0.8888888888888888,\"#fdca26\"],[1.0,\"#f0f921\"]],\"type\":\"histogram2dcontour\"}],\"histogram2d\":[{\"colorbar\":{\"outlinewidth\":0,\"ticks\":\"\"},\"colorscale\":[[0.0,\"#0d0887\"],[0.1111111111111111,\"#46039f\"],[0.2222222222222222,\"#7201a8\"],[0.3333333333333333,\"#9c179e\"],[0.4444444444444444,\"#bd3786\"],[0.5555555555555556,\"#d8576b\"],[0.6666666666666666,\"#ed7953\"],[0.7777777777777778,\"#fb9f3a\"],[0.8888888888888888,\"#fdca26\"],[1.0,\"#f0f921\"]],\"type\":\"histogram2d\"}],\"histogram\":[{\"marker\":{\"pattern\":{\"fillmode\":\"overlay\",\"size\":10,\"solidity\":0.2}},\"type\":\"histogram\"}],\"mesh3d\":[{\"colorbar\":{\"outlinewidth\":0,\"ticks\":\"\"},\"type\":\"mesh3d\"}],\"parcoords\":[{\"line\":{\"colorbar\":{\"outlinewidth\":0,\"ticks\":\"\"}},\"type\":\"parcoords\"}],\"pie\":[{\"automargin\":true,\"type\":\"pie\"}],\"scatter3d\":[{\"line\":{\"colorbar\":{\"outlinewidth\":0,\"ticks\":\"\"}},\"marker\":{\"colorbar\":{\"outlinewidth\":0,\"ticks\":\"\"}},\"type\":\"scatter3d\"}],\"scattercarpet\":[{\"marker\":{\"colorbar\":{\"outlinewidth\":0,\"ticks\":\"\"}},\"type\":\"scattercarpet\"}],\"scattergeo\":[{\"marker\":{\"colorbar\":{\"outlinewidth\":0,\"ticks\":\"\"}},\"type\":\"scattergeo\"}],\"scattergl\":[{\"marker\":{\"colorbar\":{\"outlinewidth\":0,\"ticks\":\"\"}},\"type\":\"scattergl\"}],\"scattermapbox\":[{\"marker\":{\"colorbar\":{\"outlinewidth\":0,\"ticks\":\"\"}},\"type\":\"scattermapbox\"}],\"scatterpolargl\":[{\"marker\":{\"colorbar\":{\"outlinewidth\":0,\"ticks\":\"\"}},\"type\":\"scatterpolargl\"}],\"scatterpolar\":[{\"marker\":{\"colorbar\":{\"outlinewidth\":0,\"ticks\":\"\"}},\"type\":\"scatterpolar\"}],\"scatter\":[{\"fillpattern\":{\"fillmode\":\"overlay\",\"size\":10,\"solidity\":0.2},\"type\":\"scatter\"}],\"scatterternary\":[{\"marker\":{\"colorbar\":{\"outlinewidth\":0,\"ticks\":\"\"}},\"type\":\"scatterternary\"}],\"surface\":[{\"colorbar\":{\"outlinewidth\":0,\"ticks\":\"\"},\"colorscale\":[[0.0,\"#0d0887\"],[0.1111111111111111,\"#46039f\"],[0.2222222222222222,\"#7201a8\"],[0.3333333333333333,\"#9c179e\"],[0.4444444444444444,\"#bd3786\"],[0.5555555555555556,\"#d8576b\"],[0.6666666666666666,\"#ed7953\"],[0.7777777777777778,\"#fb9f3a\"],[0.8888888888888888,\"#fdca26\"],[1.0,\"#f0f921\"]],\"type\":\"surface\"}],\"table\":[{\"cells\":{\"fill\":{\"color\":\"#EBF0F8\"},\"line\":{\"color\":\"white\"}},\"header\":{\"fill\":{\"color\":\"#C8D4E3\"},\"line\":{\"color\":\"white\"}},\"type\":\"table\"}]},\"layout\":{\"annotationdefaults\":{\"arrowcolor\":\"#2a3f5f\",\"arrowhead\":0,\"arrowwidth\":1},\"autotypenumbers\":\"strict\",\"coloraxis\":{\"colorbar\":{\"outlinewidth\":0,\"ticks\":\"\"}},\"colorscale\":{\"diverging\":[[0,\"#8e0152\"],[0.1,\"#c51b7d\"],[0.2,\"#de77ae\"],[0.3,\"#f1b6da\"],[0.4,\"#fde0ef\"],[0.5,\"#f7f7f7\"],[0.6,\"#e6f5d0\"],[0.7,\"#b8e186\"],[0.8,\"#7fbc41\"],[0.9,\"#4d9221\"],[1,\"#276419\"]],\"sequential\":[[0.0,\"#0d0887\"],[0.1111111111111111,\"#46039f\"],[0.2222222222222222,\"#7201a8\"],[0.3333333333333333,\"#9c179e\"],[0.4444444444444444,\"#bd3786\"],[0.5555555555555556,\"#d8576b\"],[0.6666666666666666,\"#ed7953\"],[0.7777777777777778,\"#fb9f3a\"],[0.8888888888888888,\"#fdca26\"],[1.0,\"#f0f921\"]],\"sequentialminus\":[[0.0,\"#0d0887\"],[0.1111111111111111,\"#46039f\"],[0.2222222222222222,\"#7201a8\"],[0.3333333333333333,\"#9c179e\"],[0.4444444444444444,\"#bd3786\"],[0.5555555555555556,\"#d8576b\"],[0.6666666666666666,\"#ed7953\"],[0.7777777777777778,\"#fb9f3a\"],[0.8888888888888888,\"#fdca26\"],[1.0,\"#f0f921\"]]},\"colorway\":[\"#636efa\",\"#EF553B\",\"#00cc96\",\"#ab63fa\",\"#FFA15A\",\"#19d3f3\",\"#FF6692\",\"#B6E880\",\"#FF97FF\",\"#FECB52\"],\"font\":{\"color\":\"#2a3f5f\"},\"geo\":{\"bgcolor\":\"white\",\"lakecolor\":\"white\",\"landcolor\":\"#E5ECF6\",\"showlakes\":true,\"showland\":true,\"subunitcolor\":\"white\"},\"hoverlabel\":{\"align\":\"left\"},\"hovermode\":\"closest\",\"mapbox\":{\"style\":\"light\"},\"paper_bgcolor\":\"white\",\"plot_bgcolor\":\"#E5ECF6\",\"polar\":{\"angularaxis\":{\"gridcolor\":\"white\",\"linecolor\":\"white\",\"ticks\":\"\"},\"bgcolor\":\"#E5ECF6\",\"radialaxis\":{\"gridcolor\":\"white\",\"linecolor\":\"white\",\"ticks\":\"\"}},\"scene\":{\"xaxis\":{\"backgroundcolor\":\"#E5ECF6\",\"gridcolor\":\"white\",\"gridwidth\":2,\"linecolor\":\"white\",\"showbackground\":true,\"ticks\":\"\",\"zerolinecolor\":\"white\"},\"yaxis\":{\"backgroundcolor\":\"#E5ECF6\",\"gridcolor\":\"white\",\"gridwidth\":2,\"linecolor\":\"white\",\"showbackground\":true,\"ticks\":\"\",\"zerolinecolor\":\"white\"},\"zaxis\":{\"backgroundcolor\":\"#E5ECF6\",\"gridcolor\":\"white\",\"gridwidth\":2,\"linecolor\":\"white\",\"showbackground\":true,\"ticks\":\"\",\"zerolinecolor\":\"white\"}},\"shapedefaults\":{\"line\":{\"color\":\"#2a3f5f\"}},\"ternary\":{\"aaxis\":{\"gridcolor\":\"white\",\"linecolor\":\"white\",\"ticks\":\"\"},\"baxis\":{\"gridcolor\":\"white\",\"linecolor\":\"white\",\"ticks\":\"\"},\"bgcolor\":\"#E5ECF6\",\"caxis\":{\"gridcolor\":\"white\",\"linecolor\":\"white\",\"ticks\":\"\"}},\"title\":{\"x\":0.05},\"xaxis\":{\"automargin\":true,\"gridcolor\":\"white\",\"linecolor\":\"white\",\"ticks\":\"\",\"title\":{\"standoff\":15},\"zerolinecolor\":\"white\",\"zerolinewidth\":2},\"yaxis\":{\"automargin\":true,\"gridcolor\":\"white\",\"linecolor\":\"white\",\"ticks\":\"\",\"title\":{\"standoff\":15},\"zerolinecolor\":\"white\",\"zerolinewidth\":2}}},\"title\":{\"font\":{\"color\":\"#D9D9D9\"}},\"xaxis\":{\"gridcolor\":\"#434343\",\"showgrid\":true,\"tickfont\":{\"color\":\"#C2C2C2\"},\"title\":{\"font\":{\"color\":\"#D9D9D9\"},\"text\":\"\"},\"zerolinecolor\":\"#666570\"},\"yaxis\":{\"gridcolor\":\"#434343\",\"showgrid\":true,\"tickfont\":{\"color\":\"#C2C2C2\"},\"title\":{\"font\":{\"color\":\"#D9D9D9\"},\"text\":\"\"},\"zerolinecolor\":\"#666570\"}},                        {\"showLink\": true, \"linkText\": \"Export to plot.ly\", \"plotlyServerURL\": \"https://plot.ly\", \"responsive\": true}                    ).then(function(){\n",
       "                            \n",
       "var gd = document.getElementById('b7ad3a14-4b8c-497e-87ec-1674ec8ff734');\n",
       "var x = new MutationObserver(function (mutations, observer) {{\n",
       "        var display = window.getComputedStyle(gd).display;\n",
       "        if (!display || display === 'none') {{\n",
       "            console.log([gd, 'removed!']);\n",
       "            Plotly.purge(gd);\n",
       "            observer.disconnect();\n",
       "        }}\n",
       "}});\n",
       "\n",
       "// Listen for the removal of the full notebook cells\n",
       "var notebookContainer = gd.closest('#notebook-container');\n",
       "if (notebookContainer) {{\n",
       "    x.observe(notebookContainer, {childList: true});\n",
       "}}\n",
       "\n",
       "// Listen for the clearing of the current output cell\n",
       "var outputEl = gd.closest('.output');\n",
       "if (outputEl) {{\n",
       "    x.observe(outputEl, {childList: true});\n",
       "}}\n",
       "\n",
       "                        })                };                });            </script>        </div>"
      ]
     },
     "metadata": {},
     "output_type": "display_data"
    }
   ],
   "source": [
    "tips.iplot(x=\"tip\",y=\"total_bill\",mode=\"markers\")"
   ]
  },
  {
   "cell_type": "code",
   "execution_count": 84,
   "id": "3bc6b368",
   "metadata": {},
   "outputs": [
    {
     "data": {
      "application/vnd.plotly.v1+json": {
       "config": {
        "linkText": "Export to plot.ly",
        "plotlyServerURL": "https://plot.ly",
        "showLink": true
       },
       "data": [
        {
         "boxpoints": false,
         "line": {
          "width": 1.3
         },
         "marker": {
          "color": "rgba(255, 153, 51, 1.0)"
         },
         "name": "total_bill",
         "orientation": "v",
         "type": "box",
         "y": [
          16.99,
          10.34,
          21.01,
          23.68,
          24.59,
          25.29,
          8.77,
          26.88,
          15.04,
          14.78,
          10.27,
          35.26,
          15.42,
          18.43,
          14.83,
          21.58,
          10.33,
          16.29,
          16.97,
          20.65,
          17.92,
          20.29,
          15.77,
          39.42,
          19.82,
          17.81,
          13.37,
          12.69,
          21.7,
          19.65,
          9.55,
          18.35,
          15.06,
          20.69,
          17.78,
          24.06,
          16.31,
          16.93,
          18.69,
          31.27,
          16.04,
          17.46,
          13.94,
          9.68,
          30.4,
          18.29,
          22.23,
          32.4,
          28.55,
          18.04,
          12.54,
          10.29,
          34.81,
          9.94,
          25.56,
          19.49,
          38.01,
          26.41,
          11.24,
          48.27,
          20.29,
          13.81,
          11.02,
          18.29,
          17.59,
          20.08,
          16.45,
          3.07,
          20.23,
          15.01,
          12.02,
          17.07,
          26.86,
          25.28,
          14.73,
          10.51,
          17.92,
          27.2,
          22.76,
          17.29,
          19.44,
          16.66,
          10.07,
          32.68,
          15.98,
          34.83,
          13.03,
          18.28,
          24.71,
          21.16,
          28.97,
          22.49,
          5.75,
          16.32,
          22.75,
          40.17,
          27.28,
          12.03,
          21.01,
          12.46,
          11.35,
          15.38,
          44.3,
          22.42,
          20.92,
          15.36,
          20.49,
          25.21,
          18.24,
          14.31,
          14,
          7.25,
          38.07,
          23.95,
          25.71,
          17.31,
          29.93,
          10.65,
          12.43,
          24.08,
          11.69,
          13.42,
          14.26,
          15.95,
          12.48,
          29.8,
          8.52,
          14.52,
          11.38,
          22.82,
          19.08,
          20.27,
          11.17,
          12.26,
          18.26,
          8.51,
          10.33,
          14.15,
          16,
          13.16,
          17.47,
          34.3,
          41.19,
          27.05,
          16.43,
          8.35,
          18.64,
          11.87,
          9.78,
          7.51,
          14.07,
          13.13,
          17.26,
          24.55,
          19.77,
          29.85,
          48.17,
          25,
          13.39,
          16.49,
          21.5,
          12.66,
          16.21,
          13.81,
          17.51,
          24.52,
          20.76,
          31.71,
          10.59,
          10.63,
          50.81,
          15.81,
          7.25,
          31.85,
          16.82,
          32.9,
          17.89,
          14.48,
          9.6,
          34.63,
          34.65,
          23.33,
          45.35,
          23.17,
          40.55,
          20.69,
          20.9,
          30.46,
          18.15,
          23.1,
          15.69,
          19.81,
          28.44,
          15.48,
          16.58,
          7.56,
          10.34,
          43.11,
          13,
          13.51,
          18.71,
          12.74,
          13,
          16.4,
          20.53,
          16.47,
          26.59,
          38.73,
          24.27,
          12.76,
          30.06,
          25.89,
          48.33,
          13.27,
          28.17,
          12.9,
          28.15,
          11.59,
          7.74,
          30.14,
          12.16,
          13.42,
          8.58,
          15.98,
          13.42,
          16.27,
          10.09,
          20.45,
          13.28,
          22.12,
          24.01,
          15.69,
          11.61,
          10.77,
          15.53,
          10.07,
          12.6,
          32.83,
          35.83,
          29.03,
          27.18,
          22.67,
          17.82,
          18.78
         ]
        },
        {
         "boxpoints": false,
         "line": {
          "width": 1.3
         },
         "marker": {
          "color": "rgba(55, 128, 191, 1.0)"
         },
         "name": "tip",
         "orientation": "v",
         "type": "box",
         "y": [
          1.01,
          1.66,
          3.5,
          3.31,
          3.61,
          4.71,
          2,
          3.12,
          1.96,
          3.23,
          1.71,
          5,
          1.57,
          3,
          3.02,
          3.92,
          1.67,
          3.71,
          3.5,
          3.35,
          4.08,
          2.75,
          2.23,
          7.58,
          3.18,
          2.34,
          2,
          2,
          4.3,
          3,
          1.45,
          2.5,
          3,
          2.45,
          3.27,
          3.6,
          2,
          3.07,
          2.31,
          5,
          2.24,
          2.54,
          3.06,
          1.32,
          5.6,
          3,
          5,
          6,
          2.05,
          3,
          2.5,
          2.6,
          5.2,
          1.56,
          4.34,
          3.51,
          3,
          1.5,
          1.76,
          6.73,
          3.21,
          2,
          1.98,
          3.76,
          2.64,
          3.15,
          2.47,
          1,
          2.01,
          2.09,
          1.97,
          3,
          3.14,
          5,
          2.2,
          1.25,
          3.08,
          4,
          3,
          2.71,
          3,
          3.4,
          1.83,
          5,
          2.03,
          5.17,
          2,
          4,
          5.85,
          3,
          3,
          3.5,
          1,
          4.3,
          3.25,
          4.73,
          4,
          1.5,
          3,
          1.5,
          2.5,
          3,
          2.5,
          3.48,
          4.08,
          1.64,
          4.06,
          4.29,
          3.76,
          4,
          3,
          1,
          4,
          2.55,
          4,
          3.5,
          5.07,
          1.5,
          1.8,
          2.92,
          2.31,
          1.68,
          2.5,
          2,
          2.52,
          4.2,
          1.48,
          2,
          2,
          2.18,
          1.5,
          2.83,
          1.5,
          2,
          3.25,
          1.25,
          2,
          2,
          2,
          2.75,
          3.5,
          6.7,
          5,
          5,
          2.3,
          1.5,
          1.36,
          1.63,
          1.73,
          2,
          2.5,
          2,
          2.74,
          2,
          2,
          5.14,
          5,
          3.75,
          2.61,
          2,
          3.5,
          2.5,
          2,
          2,
          3,
          3.48,
          2.24,
          4.5,
          1.61,
          2,
          10,
          3.16,
          5.15,
          3.18,
          4,
          3.11,
          2,
          2,
          4,
          3.55,
          3.68,
          5.65,
          3.5,
          6.5,
          3,
          5,
          3.5,
          2,
          3.5,
          4,
          1.5,
          4.19,
          2.56,
          2.02,
          4,
          1.44,
          2,
          5,
          2,
          2,
          4,
          2.01,
          2,
          2.5,
          4,
          3.23,
          3.41,
          3,
          2.03,
          2.23,
          2,
          5.16,
          9,
          2.5,
          6.5,
          1.1,
          3,
          1.5,
          1.44,
          3.09,
          2.2,
          3.48,
          1.92,
          3,
          1.58,
          2.5,
          2,
          3,
          2.72,
          2.88,
          2,
          3,
          3.39,
          1.47,
          3,
          1.25,
          1,
          1.17,
          4.67,
          5.92,
          2,
          2,
          1.75,
          3
         ]
        },
        {
         "boxpoints": false,
         "line": {
          "width": 1.3
         },
         "marker": {
          "color": "rgba(50, 171, 96, 1.0)"
         },
         "name": "sex",
         "orientation": "v",
         "type": "box",
         "y": [
          "Female",
          "Male",
          "Male",
          "Male",
          "Female",
          "Male",
          "Male",
          "Male",
          "Male",
          "Male",
          "Male",
          "Female",
          "Male",
          "Male",
          "Female",
          "Male",
          "Female",
          "Male",
          "Female",
          "Male",
          "Male",
          "Female",
          "Female",
          "Male",
          "Male",
          "Male",
          "Male",
          "Male",
          "Male",
          "Female",
          "Male",
          "Male",
          "Female",
          "Female",
          "Male",
          "Male",
          "Male",
          "Female",
          "Male",
          "Male",
          "Male",
          "Male",
          "Male",
          "Male",
          "Male",
          "Male",
          "Male",
          "Male",
          "Male",
          "Male",
          "Male",
          "Female",
          "Female",
          "Male",
          "Male",
          "Male",
          "Male",
          "Female",
          "Male",
          "Male",
          "Male",
          "Male",
          "Male",
          "Male",
          "Male",
          "Male",
          "Female",
          "Female",
          "Male",
          "Male",
          "Male",
          "Female",
          "Female",
          "Female",
          "Female",
          "Male",
          "Male",
          "Male",
          "Male",
          "Male",
          "Male",
          "Male",
          "Female",
          "Male",
          "Male",
          "Female",
          "Male",
          "Male",
          "Male",
          "Male",
          "Male",
          "Male",
          "Female",
          "Female",
          "Female",
          "Male",
          "Male",
          "Male",
          "Male",
          "Male",
          "Female",
          "Female",
          "Female",
          "Female",
          "Female",
          "Male",
          "Male",
          "Male",
          "Male",
          "Female",
          "Male",
          "Female",
          "Male",
          "Male",
          "Female",
          "Female",
          "Male",
          "Female",
          "Female",
          "Female",
          "Male",
          "Female",
          "Male",
          "Male",
          "Female",
          "Female",
          "Male",
          "Female",
          "Female",
          "Male",
          "Male",
          "Female",
          "Female",
          "Female",
          "Female",
          "Female",
          "Female",
          "Female",
          "Male",
          "Female",
          "Female",
          "Male",
          "Male",
          "Female",
          "Female",
          "Female",
          "Female",
          "Female",
          "Male",
          "Male",
          "Male",
          "Male",
          "Male",
          "Male",
          "Male",
          "Female",
          "Male",
          "Female",
          "Female",
          "Male",
          "Male",
          "Male",
          "Female",
          "Male",
          "Female",
          "Male",
          "Male",
          "Male",
          "Female",
          "Female",
          "Male",
          "Male",
          "Male",
          "Male",
          "Male",
          "Male",
          "Male",
          "Male",
          "Female",
          "Male",
          "Male",
          "Male",
          "Male",
          "Male",
          "Male",
          "Male",
          "Female",
          "Male",
          "Female",
          "Male",
          "Male",
          "Female",
          "Male",
          "Male",
          "Male",
          "Male",
          "Male",
          "Female",
          "Female",
          "Male",
          "Male",
          "Female",
          "Female",
          "Female",
          "Male",
          "Female",
          "Male",
          "Male",
          "Male",
          "Female",
          "Male",
          "Male",
          "Male",
          "Female",
          "Female",
          "Female",
          "Male",
          "Male",
          "Male",
          "Female",
          "Male",
          "Female",
          "Male",
          "Female",
          "Male",
          "Female",
          "Female",
          "Male",
          "Male",
          "Female",
          "Male",
          "Male",
          "Male",
          "Male",
          "Male",
          "Male",
          "Male",
          "Male",
          "Female",
          "Male",
          "Female",
          "Male",
          "Male",
          "Female"
         ]
        },
        {
         "boxpoints": false,
         "line": {
          "width": 1.3
         },
         "marker": {
          "color": "rgba(128, 0, 128, 1.0)"
         },
         "name": "smoker",
         "orientation": "v",
         "type": "box",
         "y": [
          "No",
          "No",
          "No",
          "No",
          "No",
          "No",
          "No",
          "No",
          "No",
          "No",
          "No",
          "No",
          "No",
          "No",
          "No",
          "No",
          "No",
          "No",
          "No",
          "No",
          "No",
          "No",
          "No",
          "No",
          "No",
          "No",
          "No",
          "No",
          "No",
          "No",
          "No",
          "No",
          "No",
          "No",
          "No",
          "No",
          "No",
          "No",
          "No",
          "No",
          "No",
          "No",
          "No",
          "No",
          "No",
          "No",
          "No",
          "No",
          "No",
          "No",
          "No",
          "No",
          "No",
          "No",
          "No",
          "No",
          "Yes",
          "No",
          "Yes",
          "No",
          "Yes",
          "Yes",
          "Yes",
          "Yes",
          "No",
          "No",
          "No",
          "Yes",
          "No",
          "Yes",
          "No",
          "No",
          "Yes",
          "Yes",
          "No",
          "No",
          "Yes",
          "No",
          "No",
          "No",
          "Yes",
          "No",
          "No",
          "Yes",
          "No",
          "No",
          "No",
          "No",
          "No",
          "No",
          "Yes",
          "No",
          "Yes",
          "Yes",
          "No",
          "Yes",
          "Yes",
          "Yes",
          "Yes",
          "No",
          "Yes",
          "Yes",
          "Yes",
          "Yes",
          "No",
          "Yes",
          "Yes",
          "Yes",
          "No",
          "Yes",
          "No",
          "No",
          "No",
          "No",
          "No",
          "No",
          "No",
          "No",
          "No",
          "No",
          "No",
          "No",
          "No",
          "No",
          "No",
          "No",
          "No",
          "No",
          "No",
          "No",
          "No",
          "No",
          "No",
          "No",
          "No",
          "No",
          "No",
          "No",
          "Yes",
          "No",
          "No",
          "No",
          "No",
          "No",
          "No",
          "No",
          "No",
          "No",
          "No",
          "No",
          "No",
          "No",
          "No",
          "No",
          "No",
          "No",
          "No",
          "No",
          "No",
          "No",
          "No",
          "No",
          "No",
          "No",
          "Yes",
          "No",
          "No",
          "No",
          "Yes",
          "Yes",
          "Yes",
          "Yes",
          "Yes",
          "Yes",
          "Yes",
          "Yes",
          "Yes",
          "Yes",
          "Yes",
          "Yes",
          "Yes",
          "Yes",
          "Yes",
          "Yes",
          "Yes",
          "No",
          "Yes",
          "Yes",
          "Yes",
          "Yes",
          "Yes",
          "Yes",
          "Yes",
          "Yes",
          "Yes",
          "No",
          "Yes",
          "Yes",
          "Yes",
          "Yes",
          "Yes",
          "Yes",
          "Yes",
          "Yes",
          "Yes",
          "Yes",
          "Yes",
          "Yes",
          "Yes",
          "Yes",
          "Yes",
          "Yes",
          "No",
          "Yes",
          "Yes",
          "Yes",
          "Yes",
          "Yes",
          "Yes",
          "Yes",
          "Yes",
          "Yes",
          "Yes",
          "No",
          "Yes",
          "Yes",
          "Yes",
          "No",
          "No",
          "Yes",
          "Yes",
          "Yes",
          "No",
          "No",
          "Yes",
          "No",
          "Yes",
          "Yes",
          "No",
          "No",
          "Yes",
          "Yes",
          "No",
          "No"
         ]
        },
        {
         "boxpoints": false,
         "line": {
          "width": 1.3
         },
         "marker": {
          "color": "rgba(219, 64, 82, 1.0)"
         },
         "name": "day",
         "orientation": "v",
         "type": "box",
         "y": [
          "Sun",
          "Sun",
          "Sun",
          "Sun",
          "Sun",
          "Sun",
          "Sun",
          "Sun",
          "Sun",
          "Sun",
          "Sun",
          "Sun",
          "Sun",
          "Sun",
          "Sun",
          "Sun",
          "Sun",
          "Sun",
          "Sun",
          "Sat",
          "Sat",
          "Sat",
          "Sat",
          "Sat",
          "Sat",
          "Sat",
          "Sat",
          "Sat",
          "Sat",
          "Sat",
          "Sat",
          "Sat",
          "Sat",
          "Sat",
          "Sat",
          "Sat",
          "Sat",
          "Sat",
          "Sat",
          "Sat",
          "Sat",
          "Sun",
          "Sun",
          "Sun",
          "Sun",
          "Sun",
          "Sun",
          "Sun",
          "Sun",
          "Sun",
          "Sun",
          "Sun",
          "Sun",
          "Sun",
          "Sun",
          "Sun",
          "Sat",
          "Sat",
          "Sat",
          "Sat",
          "Sat",
          "Sat",
          "Sat",
          "Sat",
          "Sat",
          "Sat",
          "Sat",
          "Sat",
          "Sat",
          "Sat",
          "Sat",
          "Sat",
          "Sat",
          "Sat",
          "Sat",
          "Sat",
          "Sat",
          "Thur",
          "Thur",
          "Thur",
          "Thur",
          "Thur",
          "Thur",
          "Thur",
          "Thur",
          "Thur",
          "Thur",
          "Thur",
          "Thur",
          "Thur",
          "Fri",
          "Fri",
          "Fri",
          "Fri",
          "Fri",
          "Fri",
          "Fri",
          "Fri",
          "Fri",
          "Fri",
          "Fri",
          "Fri",
          "Sat",
          "Sat",
          "Sat",
          "Sat",
          "Sat",
          "Sat",
          "Sat",
          "Sat",
          "Sat",
          "Sat",
          "Sun",
          "Sun",
          "Sun",
          "Sun",
          "Sun",
          "Thur",
          "Thur",
          "Thur",
          "Thur",
          "Thur",
          "Thur",
          "Thur",
          "Thur",
          "Thur",
          "Thur",
          "Thur",
          "Thur",
          "Thur",
          "Thur",
          "Thur",
          "Thur",
          "Thur",
          "Thur",
          "Thur",
          "Thur",
          "Thur",
          "Thur",
          "Thur",
          "Thur",
          "Thur",
          "Thur",
          "Thur",
          "Thur",
          "Thur",
          "Thur",
          "Thur",
          "Thur",
          "Thur",
          "Sun",
          "Sun",
          "Sun",
          "Sun",
          "Sun",
          "Sun",
          "Sun",
          "Sun",
          "Sun",
          "Sun",
          "Sun",
          "Sun",
          "Sun",
          "Sun",
          "Sun",
          "Sun",
          "Sun",
          "Sun",
          "Sat",
          "Sat",
          "Sat",
          "Sat",
          "Sun",
          "Sun",
          "Sun",
          "Sun",
          "Sun",
          "Sun",
          "Sun",
          "Sun",
          "Sun",
          "Sun",
          "Sun",
          "Sun",
          "Sun",
          "Sun",
          "Sun",
          "Sun",
          "Sun",
          "Sun",
          "Sun",
          "Thur",
          "Thur",
          "Thur",
          "Thur",
          "Thur",
          "Thur",
          "Thur",
          "Thur",
          "Thur",
          "Thur",
          "Thur",
          "Thur",
          "Thur",
          "Thur",
          "Thur",
          "Sat",
          "Sat",
          "Sat",
          "Sat",
          "Sat",
          "Sat",
          "Sat",
          "Sat",
          "Sat",
          "Sat",
          "Sat",
          "Sat",
          "Sat",
          "Sat",
          "Fri",
          "Fri",
          "Fri",
          "Fri",
          "Fri",
          "Fri",
          "Fri",
          "Sat",
          "Sat",
          "Sat",
          "Sat",
          "Sat",
          "Sat",
          "Sat",
          "Sat",
          "Sat",
          "Sat",
          "Sat",
          "Sat",
          "Sat",
          "Sat",
          "Sat",
          "Sat",
          "Thur"
         ]
        },
        {
         "boxpoints": false,
         "line": {
          "width": 1.3
         },
         "marker": {
          "color": "rgba(0, 128, 128, 1.0)"
         },
         "name": "time",
         "orientation": "v",
         "type": "box",
         "y": [
          "Dinner",
          "Dinner",
          "Dinner",
          "Dinner",
          "Dinner",
          "Dinner",
          "Dinner",
          "Dinner",
          "Dinner",
          "Dinner",
          "Dinner",
          "Dinner",
          "Dinner",
          "Dinner",
          "Dinner",
          "Dinner",
          "Dinner",
          "Dinner",
          "Dinner",
          "Dinner",
          "Dinner",
          "Dinner",
          "Dinner",
          "Dinner",
          "Dinner",
          "Dinner",
          "Dinner",
          "Dinner",
          "Dinner",
          "Dinner",
          "Dinner",
          "Dinner",
          "Dinner",
          "Dinner",
          "Dinner",
          "Dinner",
          "Dinner",
          "Dinner",
          "Dinner",
          "Dinner",
          "Dinner",
          "Dinner",
          "Dinner",
          "Dinner",
          "Dinner",
          "Dinner",
          "Dinner",
          "Dinner",
          "Dinner",
          "Dinner",
          "Dinner",
          "Dinner",
          "Dinner",
          "Dinner",
          "Dinner",
          "Dinner",
          "Dinner",
          "Dinner",
          "Dinner",
          "Dinner",
          "Dinner",
          "Dinner",
          "Dinner",
          "Dinner",
          "Dinner",
          "Dinner",
          "Dinner",
          "Dinner",
          "Dinner",
          "Dinner",
          "Dinner",
          "Dinner",
          "Dinner",
          "Dinner",
          "Dinner",
          "Dinner",
          "Dinner",
          "Lunch",
          "Lunch",
          "Lunch",
          "Lunch",
          "Lunch",
          "Lunch",
          "Lunch",
          "Lunch",
          "Lunch",
          "Lunch",
          "Lunch",
          "Lunch",
          "Lunch",
          "Dinner",
          "Dinner",
          "Dinner",
          "Dinner",
          "Dinner",
          "Dinner",
          "Dinner",
          "Dinner",
          "Dinner",
          "Dinner",
          "Dinner",
          "Dinner",
          "Dinner",
          "Dinner",
          "Dinner",
          "Dinner",
          "Dinner",
          "Dinner",
          "Dinner",
          "Dinner",
          "Dinner",
          "Dinner",
          "Dinner",
          "Dinner",
          "Dinner",
          "Dinner",
          "Dinner",
          "Lunch",
          "Lunch",
          "Lunch",
          "Lunch",
          "Lunch",
          "Lunch",
          "Lunch",
          "Lunch",
          "Lunch",
          "Lunch",
          "Lunch",
          "Lunch",
          "Lunch",
          "Lunch",
          "Lunch",
          "Lunch",
          "Lunch",
          "Lunch",
          "Lunch",
          "Lunch",
          "Lunch",
          "Lunch",
          "Lunch",
          "Lunch",
          "Lunch",
          "Lunch",
          "Lunch",
          "Lunch",
          "Lunch",
          "Lunch",
          "Lunch",
          "Lunch",
          "Lunch",
          "Dinner",
          "Dinner",
          "Dinner",
          "Dinner",
          "Dinner",
          "Dinner",
          "Dinner",
          "Dinner",
          "Dinner",
          "Dinner",
          "Dinner",
          "Dinner",
          "Dinner",
          "Dinner",
          "Dinner",
          "Dinner",
          "Dinner",
          "Dinner",
          "Dinner",
          "Dinner",
          "Dinner",
          "Dinner",
          "Dinner",
          "Dinner",
          "Dinner",
          "Dinner",
          "Dinner",
          "Dinner",
          "Dinner",
          "Dinner",
          "Dinner",
          "Dinner",
          "Dinner",
          "Dinner",
          "Dinner",
          "Dinner",
          "Dinner",
          "Dinner",
          "Dinner",
          "Dinner",
          "Dinner",
          "Lunch",
          "Lunch",
          "Lunch",
          "Lunch",
          "Lunch",
          "Lunch",
          "Lunch",
          "Lunch",
          "Lunch",
          "Lunch",
          "Lunch",
          "Lunch",
          "Lunch",
          "Lunch",
          "Lunch",
          "Dinner",
          "Dinner",
          "Dinner",
          "Dinner",
          "Dinner",
          "Dinner",
          "Dinner",
          "Dinner",
          "Dinner",
          "Dinner",
          "Dinner",
          "Dinner",
          "Dinner",
          "Dinner",
          "Lunch",
          "Lunch",
          "Lunch",
          "Lunch",
          "Lunch",
          "Lunch",
          "Lunch",
          "Dinner",
          "Dinner",
          "Dinner",
          "Dinner",
          "Dinner",
          "Dinner",
          "Dinner",
          "Dinner",
          "Dinner",
          "Dinner",
          "Dinner",
          "Dinner",
          "Dinner",
          "Dinner",
          "Dinner",
          "Dinner",
          "Dinner"
         ]
        },
        {
         "boxpoints": false,
         "line": {
          "width": 1.3
         },
         "marker": {
          "color": "rgba(255, 255, 51, 1.0)"
         },
         "name": "size",
         "orientation": "v",
         "type": "box",
         "y": [
          2,
          3,
          3,
          2,
          4,
          4,
          2,
          4,
          2,
          2,
          2,
          4,
          2,
          4,
          2,
          2,
          3,
          3,
          3,
          3,
          2,
          2,
          2,
          4,
          2,
          4,
          2,
          2,
          2,
          2,
          2,
          4,
          2,
          4,
          2,
          3,
          3,
          3,
          3,
          3,
          3,
          2,
          2,
          2,
          4,
          2,
          2,
          4,
          3,
          2,
          2,
          2,
          4,
          2,
          4,
          2,
          4,
          2,
          2,
          4,
          2,
          2,
          2,
          4,
          3,
          3,
          2,
          1,
          2,
          2,
          2,
          3,
          2,
          2,
          2,
          2,
          2,
          4,
          2,
          2,
          2,
          2,
          1,
          2,
          2,
          4,
          2,
          2,
          2,
          2,
          2,
          2,
          2,
          2,
          2,
          4,
          2,
          2,
          2,
          2,
          2,
          2,
          3,
          2,
          2,
          2,
          2,
          2,
          2,
          2,
          2,
          1,
          3,
          2,
          3,
          2,
          4,
          2,
          2,
          4,
          2,
          2,
          2,
          2,
          2,
          6,
          2,
          2,
          2,
          3,
          2,
          2,
          2,
          2,
          2,
          2,
          2,
          2,
          2,
          2,
          2,
          6,
          5,
          6,
          2,
          2,
          3,
          2,
          2,
          2,
          2,
          2,
          3,
          4,
          4,
          5,
          6,
          4,
          2,
          4,
          4,
          2,
          3,
          2,
          2,
          3,
          2,
          4,
          2,
          2,
          3,
          2,
          2,
          2,
          2,
          2,
          2,
          2,
          2,
          2,
          4,
          2,
          3,
          4,
          2,
          5,
          3,
          5,
          3,
          3,
          2,
          2,
          2,
          2,
          2,
          2,
          2,
          4,
          2,
          2,
          3,
          2,
          2,
          2,
          4,
          3,
          3,
          4,
          2,
          2,
          3,
          4,
          4,
          2,
          3,
          2,
          5,
          2,
          2,
          4,
          2,
          2,
          1,
          3,
          2,
          2,
          2,
          4,
          2,
          2,
          4,
          3,
          2,
          2,
          2,
          2,
          2,
          2,
          3,
          3,
          2,
          2,
          2,
          2
         ]
        }
       ],
       "layout": {
        "legend": {
         "bgcolor": "#151516",
         "font": {
          "color": "#D9D9D9"
         }
        },
        "paper_bgcolor": "#151516",
        "plot_bgcolor": "#151516",
        "template": {
         "data": {
          "bar": [
           {
            "error_x": {
             "color": "#2a3f5f"
            },
            "error_y": {
             "color": "#2a3f5f"
            },
            "marker": {
             "line": {
              "color": "#E5ECF6",
              "width": 0.5
             },
             "pattern": {
              "fillmode": "overlay",
              "size": 10,
              "solidity": 0.2
             }
            },
            "type": "bar"
           }
          ],
          "barpolar": [
           {
            "marker": {
             "line": {
              "color": "#E5ECF6",
              "width": 0.5
             },
             "pattern": {
              "fillmode": "overlay",
              "size": 10,
              "solidity": 0.2
             }
            },
            "type": "barpolar"
           }
          ],
          "carpet": [
           {
            "aaxis": {
             "endlinecolor": "#2a3f5f",
             "gridcolor": "white",
             "linecolor": "white",
             "minorgridcolor": "white",
             "startlinecolor": "#2a3f5f"
            },
            "baxis": {
             "endlinecolor": "#2a3f5f",
             "gridcolor": "white",
             "linecolor": "white",
             "minorgridcolor": "white",
             "startlinecolor": "#2a3f5f"
            },
            "type": "carpet"
           }
          ],
          "choropleth": [
           {
            "colorbar": {
             "outlinewidth": 0,
             "ticks": ""
            },
            "type": "choropleth"
           }
          ],
          "contour": [
           {
            "colorbar": {
             "outlinewidth": 0,
             "ticks": ""
            },
            "colorscale": [
             [
              0,
              "#0d0887"
             ],
             [
              0.1111111111111111,
              "#46039f"
             ],
             [
              0.2222222222222222,
              "#7201a8"
             ],
             [
              0.3333333333333333,
              "#9c179e"
             ],
             [
              0.4444444444444444,
              "#bd3786"
             ],
             [
              0.5555555555555556,
              "#d8576b"
             ],
             [
              0.6666666666666666,
              "#ed7953"
             ],
             [
              0.7777777777777778,
              "#fb9f3a"
             ],
             [
              0.8888888888888888,
              "#fdca26"
             ],
             [
              1,
              "#f0f921"
             ]
            ],
            "type": "contour"
           }
          ],
          "contourcarpet": [
           {
            "colorbar": {
             "outlinewidth": 0,
             "ticks": ""
            },
            "type": "contourcarpet"
           }
          ],
          "heatmap": [
           {
            "colorbar": {
             "outlinewidth": 0,
             "ticks": ""
            },
            "colorscale": [
             [
              0,
              "#0d0887"
             ],
             [
              0.1111111111111111,
              "#46039f"
             ],
             [
              0.2222222222222222,
              "#7201a8"
             ],
             [
              0.3333333333333333,
              "#9c179e"
             ],
             [
              0.4444444444444444,
              "#bd3786"
             ],
             [
              0.5555555555555556,
              "#d8576b"
             ],
             [
              0.6666666666666666,
              "#ed7953"
             ],
             [
              0.7777777777777778,
              "#fb9f3a"
             ],
             [
              0.8888888888888888,
              "#fdca26"
             ],
             [
              1,
              "#f0f921"
             ]
            ],
            "type": "heatmap"
           }
          ],
          "heatmapgl": [
           {
            "colorbar": {
             "outlinewidth": 0,
             "ticks": ""
            },
            "colorscale": [
             [
              0,
              "#0d0887"
             ],
             [
              0.1111111111111111,
              "#46039f"
             ],
             [
              0.2222222222222222,
              "#7201a8"
             ],
             [
              0.3333333333333333,
              "#9c179e"
             ],
             [
              0.4444444444444444,
              "#bd3786"
             ],
             [
              0.5555555555555556,
              "#d8576b"
             ],
             [
              0.6666666666666666,
              "#ed7953"
             ],
             [
              0.7777777777777778,
              "#fb9f3a"
             ],
             [
              0.8888888888888888,
              "#fdca26"
             ],
             [
              1,
              "#f0f921"
             ]
            ],
            "type": "heatmapgl"
           }
          ],
          "histogram": [
           {
            "marker": {
             "pattern": {
              "fillmode": "overlay",
              "size": 10,
              "solidity": 0.2
             }
            },
            "type": "histogram"
           }
          ],
          "histogram2d": [
           {
            "colorbar": {
             "outlinewidth": 0,
             "ticks": ""
            },
            "colorscale": [
             [
              0,
              "#0d0887"
             ],
             [
              0.1111111111111111,
              "#46039f"
             ],
             [
              0.2222222222222222,
              "#7201a8"
             ],
             [
              0.3333333333333333,
              "#9c179e"
             ],
             [
              0.4444444444444444,
              "#bd3786"
             ],
             [
              0.5555555555555556,
              "#d8576b"
             ],
             [
              0.6666666666666666,
              "#ed7953"
             ],
             [
              0.7777777777777778,
              "#fb9f3a"
             ],
             [
              0.8888888888888888,
              "#fdca26"
             ],
             [
              1,
              "#f0f921"
             ]
            ],
            "type": "histogram2d"
           }
          ],
          "histogram2dcontour": [
           {
            "colorbar": {
             "outlinewidth": 0,
             "ticks": ""
            },
            "colorscale": [
             [
              0,
              "#0d0887"
             ],
             [
              0.1111111111111111,
              "#46039f"
             ],
             [
              0.2222222222222222,
              "#7201a8"
             ],
             [
              0.3333333333333333,
              "#9c179e"
             ],
             [
              0.4444444444444444,
              "#bd3786"
             ],
             [
              0.5555555555555556,
              "#d8576b"
             ],
             [
              0.6666666666666666,
              "#ed7953"
             ],
             [
              0.7777777777777778,
              "#fb9f3a"
             ],
             [
              0.8888888888888888,
              "#fdca26"
             ],
             [
              1,
              "#f0f921"
             ]
            ],
            "type": "histogram2dcontour"
           }
          ],
          "mesh3d": [
           {
            "colorbar": {
             "outlinewidth": 0,
             "ticks": ""
            },
            "type": "mesh3d"
           }
          ],
          "parcoords": [
           {
            "line": {
             "colorbar": {
              "outlinewidth": 0,
              "ticks": ""
             }
            },
            "type": "parcoords"
           }
          ],
          "pie": [
           {
            "automargin": true,
            "type": "pie"
           }
          ],
          "scatter": [
           {
            "fillpattern": {
             "fillmode": "overlay",
             "size": 10,
             "solidity": 0.2
            },
            "type": "scatter"
           }
          ],
          "scatter3d": [
           {
            "line": {
             "colorbar": {
              "outlinewidth": 0,
              "ticks": ""
             }
            },
            "marker": {
             "colorbar": {
              "outlinewidth": 0,
              "ticks": ""
             }
            },
            "type": "scatter3d"
           }
          ],
          "scattercarpet": [
           {
            "marker": {
             "colorbar": {
              "outlinewidth": 0,
              "ticks": ""
             }
            },
            "type": "scattercarpet"
           }
          ],
          "scattergeo": [
           {
            "marker": {
             "colorbar": {
              "outlinewidth": 0,
              "ticks": ""
             }
            },
            "type": "scattergeo"
           }
          ],
          "scattergl": [
           {
            "marker": {
             "colorbar": {
              "outlinewidth": 0,
              "ticks": ""
             }
            },
            "type": "scattergl"
           }
          ],
          "scattermapbox": [
           {
            "marker": {
             "colorbar": {
              "outlinewidth": 0,
              "ticks": ""
             }
            },
            "type": "scattermapbox"
           }
          ],
          "scatterpolar": [
           {
            "marker": {
             "colorbar": {
              "outlinewidth": 0,
              "ticks": ""
             }
            },
            "type": "scatterpolar"
           }
          ],
          "scatterpolargl": [
           {
            "marker": {
             "colorbar": {
              "outlinewidth": 0,
              "ticks": ""
             }
            },
            "type": "scatterpolargl"
           }
          ],
          "scatterternary": [
           {
            "marker": {
             "colorbar": {
              "outlinewidth": 0,
              "ticks": ""
             }
            },
            "type": "scatterternary"
           }
          ],
          "surface": [
           {
            "colorbar": {
             "outlinewidth": 0,
             "ticks": ""
            },
            "colorscale": [
             [
              0,
              "#0d0887"
             ],
             [
              0.1111111111111111,
              "#46039f"
             ],
             [
              0.2222222222222222,
              "#7201a8"
             ],
             [
              0.3333333333333333,
              "#9c179e"
             ],
             [
              0.4444444444444444,
              "#bd3786"
             ],
             [
              0.5555555555555556,
              "#d8576b"
             ],
             [
              0.6666666666666666,
              "#ed7953"
             ],
             [
              0.7777777777777778,
              "#fb9f3a"
             ],
             [
              0.8888888888888888,
              "#fdca26"
             ],
             [
              1,
              "#f0f921"
             ]
            ],
            "type": "surface"
           }
          ],
          "table": [
           {
            "cells": {
             "fill": {
              "color": "#EBF0F8"
             },
             "line": {
              "color": "white"
             }
            },
            "header": {
             "fill": {
              "color": "#C8D4E3"
             },
             "line": {
              "color": "white"
             }
            },
            "type": "table"
           }
          ]
         },
         "layout": {
          "annotationdefaults": {
           "arrowcolor": "#2a3f5f",
           "arrowhead": 0,
           "arrowwidth": 1
          },
          "autotypenumbers": "strict",
          "coloraxis": {
           "colorbar": {
            "outlinewidth": 0,
            "ticks": ""
           }
          },
          "colorscale": {
           "diverging": [
            [
             0,
             "#8e0152"
            ],
            [
             0.1,
             "#c51b7d"
            ],
            [
             0.2,
             "#de77ae"
            ],
            [
             0.3,
             "#f1b6da"
            ],
            [
             0.4,
             "#fde0ef"
            ],
            [
             0.5,
             "#f7f7f7"
            ],
            [
             0.6,
             "#e6f5d0"
            ],
            [
             0.7,
             "#b8e186"
            ],
            [
             0.8,
             "#7fbc41"
            ],
            [
             0.9,
             "#4d9221"
            ],
            [
             1,
             "#276419"
            ]
           ],
           "sequential": [
            [
             0,
             "#0d0887"
            ],
            [
             0.1111111111111111,
             "#46039f"
            ],
            [
             0.2222222222222222,
             "#7201a8"
            ],
            [
             0.3333333333333333,
             "#9c179e"
            ],
            [
             0.4444444444444444,
             "#bd3786"
            ],
            [
             0.5555555555555556,
             "#d8576b"
            ],
            [
             0.6666666666666666,
             "#ed7953"
            ],
            [
             0.7777777777777778,
             "#fb9f3a"
            ],
            [
             0.8888888888888888,
             "#fdca26"
            ],
            [
             1,
             "#f0f921"
            ]
           ],
           "sequentialminus": [
            [
             0,
             "#0d0887"
            ],
            [
             0.1111111111111111,
             "#46039f"
            ],
            [
             0.2222222222222222,
             "#7201a8"
            ],
            [
             0.3333333333333333,
             "#9c179e"
            ],
            [
             0.4444444444444444,
             "#bd3786"
            ],
            [
             0.5555555555555556,
             "#d8576b"
            ],
            [
             0.6666666666666666,
             "#ed7953"
            ],
            [
             0.7777777777777778,
             "#fb9f3a"
            ],
            [
             0.8888888888888888,
             "#fdca26"
            ],
            [
             1,
             "#f0f921"
            ]
           ]
          },
          "colorway": [
           "#636efa",
           "#EF553B",
           "#00cc96",
           "#ab63fa",
           "#FFA15A",
           "#19d3f3",
           "#FF6692",
           "#B6E880",
           "#FF97FF",
           "#FECB52"
          ],
          "font": {
           "color": "#2a3f5f"
          },
          "geo": {
           "bgcolor": "white",
           "lakecolor": "white",
           "landcolor": "#E5ECF6",
           "showlakes": true,
           "showland": true,
           "subunitcolor": "white"
          },
          "hoverlabel": {
           "align": "left"
          },
          "hovermode": "closest",
          "mapbox": {
           "style": "light"
          },
          "paper_bgcolor": "white",
          "plot_bgcolor": "#E5ECF6",
          "polar": {
           "angularaxis": {
            "gridcolor": "white",
            "linecolor": "white",
            "ticks": ""
           },
           "bgcolor": "#E5ECF6",
           "radialaxis": {
            "gridcolor": "white",
            "linecolor": "white",
            "ticks": ""
           }
          },
          "scene": {
           "xaxis": {
            "backgroundcolor": "#E5ECF6",
            "gridcolor": "white",
            "gridwidth": 2,
            "linecolor": "white",
            "showbackground": true,
            "ticks": "",
            "zerolinecolor": "white"
           },
           "yaxis": {
            "backgroundcolor": "#E5ECF6",
            "gridcolor": "white",
            "gridwidth": 2,
            "linecolor": "white",
            "showbackground": true,
            "ticks": "",
            "zerolinecolor": "white"
           },
           "zaxis": {
            "backgroundcolor": "#E5ECF6",
            "gridcolor": "white",
            "gridwidth": 2,
            "linecolor": "white",
            "showbackground": true,
            "ticks": "",
            "zerolinecolor": "white"
           }
          },
          "shapedefaults": {
           "line": {
            "color": "#2a3f5f"
           }
          },
          "ternary": {
           "aaxis": {
            "gridcolor": "white",
            "linecolor": "white",
            "ticks": ""
           },
           "baxis": {
            "gridcolor": "white",
            "linecolor": "white",
            "ticks": ""
           },
           "bgcolor": "#E5ECF6",
           "caxis": {
            "gridcolor": "white",
            "linecolor": "white",
            "ticks": ""
           }
          },
          "title": {
           "x": 0.05
          },
          "xaxis": {
           "automargin": true,
           "gridcolor": "white",
           "linecolor": "white",
           "ticks": "",
           "title": {
            "standoff": 15
           },
           "zerolinecolor": "white",
           "zerolinewidth": 2
          },
          "yaxis": {
           "automargin": true,
           "gridcolor": "white",
           "linecolor": "white",
           "ticks": "",
           "title": {
            "standoff": 15
           },
           "zerolinecolor": "white",
           "zerolinewidth": 2
          }
         }
        },
        "title": {
         "font": {
          "color": "#D9D9D9"
         }
        },
        "xaxis": {
         "gridcolor": "#434343",
         "showgrid": true,
         "tickfont": {
          "color": "#C2C2C2"
         },
         "title": {
          "font": {
           "color": "#D9D9D9"
          },
          "text": ""
         },
         "zerolinecolor": "#666570"
        },
        "yaxis": {
         "gridcolor": "#434343",
         "showgrid": true,
         "tickfont": {
          "color": "#C2C2C2"
         },
         "title": {
          "font": {
           "color": "#D9D9D9"
          },
          "text": ""
         },
         "zerolinecolor": "#666570"
        }
       }
      },
      "text/html": [
       "<div>                            <div id=\"e3d1f4c5-9219-4796-939e-8f56be53c759\" class=\"plotly-graph-div\" style=\"height:525px; width:100%;\"></div>            <script type=\"text/javascript\">                require([\"plotly\"], function(Plotly) {                    window.PLOTLYENV=window.PLOTLYENV || {};\n",
       "                    window.PLOTLYENV.BASE_URL='https://plot.ly';                                    if (document.getElementById(\"e3d1f4c5-9219-4796-939e-8f56be53c759\")) {                    Plotly.newPlot(                        \"e3d1f4c5-9219-4796-939e-8f56be53c759\",                        [{\"boxpoints\":false,\"line\":{\"width\":1.3},\"marker\":{\"color\":\"rgba(255, 153, 51, 1.0)\"},\"name\":\"total_bill\",\"orientation\":\"v\",\"y\":[16.99,10.34,21.01,23.68,24.59,25.29,8.77,26.88,15.04,14.78,10.27,35.26,15.42,18.43,14.83,21.58,10.33,16.29,16.97,20.65,17.92,20.29,15.77,39.42,19.82,17.81,13.37,12.69,21.7,19.65,9.55,18.35,15.06,20.69,17.78,24.06,16.31,16.93,18.69,31.27,16.04,17.46,13.94,9.68,30.4,18.29,22.23,32.4,28.55,18.04,12.54,10.29,34.81,9.94,25.56,19.49,38.01,26.41,11.24,48.27,20.29,13.81,11.02,18.29,17.59,20.08,16.45,3.07,20.23,15.01,12.02,17.07,26.86,25.28,14.73,10.51,17.92,27.2,22.76,17.29,19.44,16.66,10.07,32.68,15.98,34.83,13.03,18.28,24.71,21.16,28.97,22.49,5.75,16.32,22.75,40.17,27.28,12.03,21.01,12.46,11.35,15.38,44.3,22.42,20.92,15.36,20.49,25.21,18.24,14.31,14.0,7.25,38.07,23.95,25.71,17.31,29.93,10.65,12.43,24.08,11.69,13.42,14.26,15.95,12.48,29.8,8.52,14.52,11.38,22.82,19.08,20.27,11.17,12.26,18.26,8.51,10.33,14.15,16.0,13.16,17.47,34.3,41.19,27.05,16.43,8.35,18.64,11.87,9.78,7.51,14.07,13.13,17.26,24.55,19.77,29.85,48.17,25.0,13.39,16.49,21.5,12.66,16.21,13.81,17.51,24.52,20.76,31.71,10.59,10.63,50.81,15.81,7.25,31.85,16.82,32.9,17.89,14.48,9.6,34.63,34.65,23.33,45.35,23.17,40.55,20.69,20.9,30.46,18.15,23.1,15.69,19.81,28.44,15.48,16.58,7.56,10.34,43.11,13.0,13.51,18.71,12.74,13.0,16.4,20.53,16.47,26.59,38.73,24.27,12.76,30.06,25.89,48.33,13.27,28.17,12.9,28.15,11.59,7.74,30.14,12.16,13.42,8.58,15.98,13.42,16.27,10.09,20.45,13.28,22.12,24.01,15.69,11.61,10.77,15.53,10.07,12.6,32.83,35.83,29.03,27.18,22.67,17.82,18.78],\"type\":\"box\"},{\"boxpoints\":false,\"line\":{\"width\":1.3},\"marker\":{\"color\":\"rgba(55, 128, 191, 1.0)\"},\"name\":\"tip\",\"orientation\":\"v\",\"y\":[1.01,1.66,3.5,3.31,3.61,4.71,2.0,3.12,1.96,3.23,1.71,5.0,1.57,3.0,3.02,3.92,1.67,3.71,3.5,3.35,4.08,2.75,2.23,7.58,3.18,2.34,2.0,2.0,4.3,3.0,1.45,2.5,3.0,2.45,3.27,3.6,2.0,3.07,2.31,5.0,2.24,2.54,3.06,1.32,5.6,3.0,5.0,6.0,2.05,3.0,2.5,2.6,5.2,1.56,4.34,3.51,3.0,1.5,1.76,6.73,3.21,2.0,1.98,3.76,2.64,3.15,2.47,1.0,2.01,2.09,1.97,3.0,3.14,5.0,2.2,1.25,3.08,4.0,3.0,2.71,3.0,3.4,1.83,5.0,2.03,5.17,2.0,4.0,5.85,3.0,3.0,3.5,1.0,4.3,3.25,4.73,4.0,1.5,3.0,1.5,2.5,3.0,2.5,3.48,4.08,1.64,4.06,4.29,3.76,4.0,3.0,1.0,4.0,2.55,4.0,3.5,5.07,1.5,1.8,2.92,2.31,1.68,2.5,2.0,2.52,4.2,1.48,2.0,2.0,2.18,1.5,2.83,1.5,2.0,3.25,1.25,2.0,2.0,2.0,2.75,3.5,6.7,5.0,5.0,2.3,1.5,1.36,1.63,1.73,2.0,2.5,2.0,2.74,2.0,2.0,5.14,5.0,3.75,2.61,2.0,3.5,2.5,2.0,2.0,3.0,3.48,2.24,4.5,1.61,2.0,10.0,3.16,5.15,3.18,4.0,3.11,2.0,2.0,4.0,3.55,3.68,5.65,3.5,6.5,3.0,5.0,3.5,2.0,3.5,4.0,1.5,4.19,2.56,2.02,4.0,1.44,2.0,5.0,2.0,2.0,4.0,2.01,2.0,2.5,4.0,3.23,3.41,3.0,2.03,2.23,2.0,5.16,9.0,2.5,6.5,1.1,3.0,1.5,1.44,3.09,2.2,3.48,1.92,3.0,1.58,2.5,2.0,3.0,2.72,2.88,2.0,3.0,3.39,1.47,3.0,1.25,1.0,1.17,4.67,5.92,2.0,2.0,1.75,3.0],\"type\":\"box\"},{\"boxpoints\":false,\"line\":{\"width\":1.3},\"marker\":{\"color\":\"rgba(50, 171, 96, 1.0)\"},\"name\":\"sex\",\"orientation\":\"v\",\"y\":[\"Female\",\"Male\",\"Male\",\"Male\",\"Female\",\"Male\",\"Male\",\"Male\",\"Male\",\"Male\",\"Male\",\"Female\",\"Male\",\"Male\",\"Female\",\"Male\",\"Female\",\"Male\",\"Female\",\"Male\",\"Male\",\"Female\",\"Female\",\"Male\",\"Male\",\"Male\",\"Male\",\"Male\",\"Male\",\"Female\",\"Male\",\"Male\",\"Female\",\"Female\",\"Male\",\"Male\",\"Male\",\"Female\",\"Male\",\"Male\",\"Male\",\"Male\",\"Male\",\"Male\",\"Male\",\"Male\",\"Male\",\"Male\",\"Male\",\"Male\",\"Male\",\"Female\",\"Female\",\"Male\",\"Male\",\"Male\",\"Male\",\"Female\",\"Male\",\"Male\",\"Male\",\"Male\",\"Male\",\"Male\",\"Male\",\"Male\",\"Female\",\"Female\",\"Male\",\"Male\",\"Male\",\"Female\",\"Female\",\"Female\",\"Female\",\"Male\",\"Male\",\"Male\",\"Male\",\"Male\",\"Male\",\"Male\",\"Female\",\"Male\",\"Male\",\"Female\",\"Male\",\"Male\",\"Male\",\"Male\",\"Male\",\"Male\",\"Female\",\"Female\",\"Female\",\"Male\",\"Male\",\"Male\",\"Male\",\"Male\",\"Female\",\"Female\",\"Female\",\"Female\",\"Female\",\"Male\",\"Male\",\"Male\",\"Male\",\"Female\",\"Male\",\"Female\",\"Male\",\"Male\",\"Female\",\"Female\",\"Male\",\"Female\",\"Female\",\"Female\",\"Male\",\"Female\",\"Male\",\"Male\",\"Female\",\"Female\",\"Male\",\"Female\",\"Female\",\"Male\",\"Male\",\"Female\",\"Female\",\"Female\",\"Female\",\"Female\",\"Female\",\"Female\",\"Male\",\"Female\",\"Female\",\"Male\",\"Male\",\"Female\",\"Female\",\"Female\",\"Female\",\"Female\",\"Male\",\"Male\",\"Male\",\"Male\",\"Male\",\"Male\",\"Male\",\"Female\",\"Male\",\"Female\",\"Female\",\"Male\",\"Male\",\"Male\",\"Female\",\"Male\",\"Female\",\"Male\",\"Male\",\"Male\",\"Female\",\"Female\",\"Male\",\"Male\",\"Male\",\"Male\",\"Male\",\"Male\",\"Male\",\"Male\",\"Female\",\"Male\",\"Male\",\"Male\",\"Male\",\"Male\",\"Male\",\"Male\",\"Female\",\"Male\",\"Female\",\"Male\",\"Male\",\"Female\",\"Male\",\"Male\",\"Male\",\"Male\",\"Male\",\"Female\",\"Female\",\"Male\",\"Male\",\"Female\",\"Female\",\"Female\",\"Male\",\"Female\",\"Male\",\"Male\",\"Male\",\"Female\",\"Male\",\"Male\",\"Male\",\"Female\",\"Female\",\"Female\",\"Male\",\"Male\",\"Male\",\"Female\",\"Male\",\"Female\",\"Male\",\"Female\",\"Male\",\"Female\",\"Female\",\"Male\",\"Male\",\"Female\",\"Male\",\"Male\",\"Male\",\"Male\",\"Male\",\"Male\",\"Male\",\"Male\",\"Female\",\"Male\",\"Female\",\"Male\",\"Male\",\"Female\"],\"type\":\"box\"},{\"boxpoints\":false,\"line\":{\"width\":1.3},\"marker\":{\"color\":\"rgba(128, 0, 128, 1.0)\"},\"name\":\"smoker\",\"orientation\":\"v\",\"y\":[\"No\",\"No\",\"No\",\"No\",\"No\",\"No\",\"No\",\"No\",\"No\",\"No\",\"No\",\"No\",\"No\",\"No\",\"No\",\"No\",\"No\",\"No\",\"No\",\"No\",\"No\",\"No\",\"No\",\"No\",\"No\",\"No\",\"No\",\"No\",\"No\",\"No\",\"No\",\"No\",\"No\",\"No\",\"No\",\"No\",\"No\",\"No\",\"No\",\"No\",\"No\",\"No\",\"No\",\"No\",\"No\",\"No\",\"No\",\"No\",\"No\",\"No\",\"No\",\"No\",\"No\",\"No\",\"No\",\"No\",\"Yes\",\"No\",\"Yes\",\"No\",\"Yes\",\"Yes\",\"Yes\",\"Yes\",\"No\",\"No\",\"No\",\"Yes\",\"No\",\"Yes\",\"No\",\"No\",\"Yes\",\"Yes\",\"No\",\"No\",\"Yes\",\"No\",\"No\",\"No\",\"Yes\",\"No\",\"No\",\"Yes\",\"No\",\"No\",\"No\",\"No\",\"No\",\"No\",\"Yes\",\"No\",\"Yes\",\"Yes\",\"No\",\"Yes\",\"Yes\",\"Yes\",\"Yes\",\"No\",\"Yes\",\"Yes\",\"Yes\",\"Yes\",\"No\",\"Yes\",\"Yes\",\"Yes\",\"No\",\"Yes\",\"No\",\"No\",\"No\",\"No\",\"No\",\"No\",\"No\",\"No\",\"No\",\"No\",\"No\",\"No\",\"No\",\"No\",\"No\",\"No\",\"No\",\"No\",\"No\",\"No\",\"No\",\"No\",\"No\",\"No\",\"No\",\"No\",\"No\",\"No\",\"Yes\",\"No\",\"No\",\"No\",\"No\",\"No\",\"No\",\"No\",\"No\",\"No\",\"No\",\"No\",\"No\",\"No\",\"No\",\"No\",\"No\",\"No\",\"No\",\"No\",\"No\",\"No\",\"No\",\"No\",\"No\",\"No\",\"Yes\",\"No\",\"No\",\"No\",\"Yes\",\"Yes\",\"Yes\",\"Yes\",\"Yes\",\"Yes\",\"Yes\",\"Yes\",\"Yes\",\"Yes\",\"Yes\",\"Yes\",\"Yes\",\"Yes\",\"Yes\",\"Yes\",\"Yes\",\"No\",\"Yes\",\"Yes\",\"Yes\",\"Yes\",\"Yes\",\"Yes\",\"Yes\",\"Yes\",\"Yes\",\"No\",\"Yes\",\"Yes\",\"Yes\",\"Yes\",\"Yes\",\"Yes\",\"Yes\",\"Yes\",\"Yes\",\"Yes\",\"Yes\",\"Yes\",\"Yes\",\"Yes\",\"Yes\",\"Yes\",\"No\",\"Yes\",\"Yes\",\"Yes\",\"Yes\",\"Yes\",\"Yes\",\"Yes\",\"Yes\",\"Yes\",\"Yes\",\"No\",\"Yes\",\"Yes\",\"Yes\",\"No\",\"No\",\"Yes\",\"Yes\",\"Yes\",\"No\",\"No\",\"Yes\",\"No\",\"Yes\",\"Yes\",\"No\",\"No\",\"Yes\",\"Yes\",\"No\",\"No\"],\"type\":\"box\"},{\"boxpoints\":false,\"line\":{\"width\":1.3},\"marker\":{\"color\":\"rgba(219, 64, 82, 1.0)\"},\"name\":\"day\",\"orientation\":\"v\",\"y\":[\"Sun\",\"Sun\",\"Sun\",\"Sun\",\"Sun\",\"Sun\",\"Sun\",\"Sun\",\"Sun\",\"Sun\",\"Sun\",\"Sun\",\"Sun\",\"Sun\",\"Sun\",\"Sun\",\"Sun\",\"Sun\",\"Sun\",\"Sat\",\"Sat\",\"Sat\",\"Sat\",\"Sat\",\"Sat\",\"Sat\",\"Sat\",\"Sat\",\"Sat\",\"Sat\",\"Sat\",\"Sat\",\"Sat\",\"Sat\",\"Sat\",\"Sat\",\"Sat\",\"Sat\",\"Sat\",\"Sat\",\"Sat\",\"Sun\",\"Sun\",\"Sun\",\"Sun\",\"Sun\",\"Sun\",\"Sun\",\"Sun\",\"Sun\",\"Sun\",\"Sun\",\"Sun\",\"Sun\",\"Sun\",\"Sun\",\"Sat\",\"Sat\",\"Sat\",\"Sat\",\"Sat\",\"Sat\",\"Sat\",\"Sat\",\"Sat\",\"Sat\",\"Sat\",\"Sat\",\"Sat\",\"Sat\",\"Sat\",\"Sat\",\"Sat\",\"Sat\",\"Sat\",\"Sat\",\"Sat\",\"Thur\",\"Thur\",\"Thur\",\"Thur\",\"Thur\",\"Thur\",\"Thur\",\"Thur\",\"Thur\",\"Thur\",\"Thur\",\"Thur\",\"Thur\",\"Fri\",\"Fri\",\"Fri\",\"Fri\",\"Fri\",\"Fri\",\"Fri\",\"Fri\",\"Fri\",\"Fri\",\"Fri\",\"Fri\",\"Sat\",\"Sat\",\"Sat\",\"Sat\",\"Sat\",\"Sat\",\"Sat\",\"Sat\",\"Sat\",\"Sat\",\"Sun\",\"Sun\",\"Sun\",\"Sun\",\"Sun\",\"Thur\",\"Thur\",\"Thur\",\"Thur\",\"Thur\",\"Thur\",\"Thur\",\"Thur\",\"Thur\",\"Thur\",\"Thur\",\"Thur\",\"Thur\",\"Thur\",\"Thur\",\"Thur\",\"Thur\",\"Thur\",\"Thur\",\"Thur\",\"Thur\",\"Thur\",\"Thur\",\"Thur\",\"Thur\",\"Thur\",\"Thur\",\"Thur\",\"Thur\",\"Thur\",\"Thur\",\"Thur\",\"Thur\",\"Sun\",\"Sun\",\"Sun\",\"Sun\",\"Sun\",\"Sun\",\"Sun\",\"Sun\",\"Sun\",\"Sun\",\"Sun\",\"Sun\",\"Sun\",\"Sun\",\"Sun\",\"Sun\",\"Sun\",\"Sun\",\"Sat\",\"Sat\",\"Sat\",\"Sat\",\"Sun\",\"Sun\",\"Sun\",\"Sun\",\"Sun\",\"Sun\",\"Sun\",\"Sun\",\"Sun\",\"Sun\",\"Sun\",\"Sun\",\"Sun\",\"Sun\",\"Sun\",\"Sun\",\"Sun\",\"Sun\",\"Sun\",\"Thur\",\"Thur\",\"Thur\",\"Thur\",\"Thur\",\"Thur\",\"Thur\",\"Thur\",\"Thur\",\"Thur\",\"Thur\",\"Thur\",\"Thur\",\"Thur\",\"Thur\",\"Sat\",\"Sat\",\"Sat\",\"Sat\",\"Sat\",\"Sat\",\"Sat\",\"Sat\",\"Sat\",\"Sat\",\"Sat\",\"Sat\",\"Sat\",\"Sat\",\"Fri\",\"Fri\",\"Fri\",\"Fri\",\"Fri\",\"Fri\",\"Fri\",\"Sat\",\"Sat\",\"Sat\",\"Sat\",\"Sat\",\"Sat\",\"Sat\",\"Sat\",\"Sat\",\"Sat\",\"Sat\",\"Sat\",\"Sat\",\"Sat\",\"Sat\",\"Sat\",\"Thur\"],\"type\":\"box\"},{\"boxpoints\":false,\"line\":{\"width\":1.3},\"marker\":{\"color\":\"rgba(0, 128, 128, 1.0)\"},\"name\":\"time\",\"orientation\":\"v\",\"y\":[\"Dinner\",\"Dinner\",\"Dinner\",\"Dinner\",\"Dinner\",\"Dinner\",\"Dinner\",\"Dinner\",\"Dinner\",\"Dinner\",\"Dinner\",\"Dinner\",\"Dinner\",\"Dinner\",\"Dinner\",\"Dinner\",\"Dinner\",\"Dinner\",\"Dinner\",\"Dinner\",\"Dinner\",\"Dinner\",\"Dinner\",\"Dinner\",\"Dinner\",\"Dinner\",\"Dinner\",\"Dinner\",\"Dinner\",\"Dinner\",\"Dinner\",\"Dinner\",\"Dinner\",\"Dinner\",\"Dinner\",\"Dinner\",\"Dinner\",\"Dinner\",\"Dinner\",\"Dinner\",\"Dinner\",\"Dinner\",\"Dinner\",\"Dinner\",\"Dinner\",\"Dinner\",\"Dinner\",\"Dinner\",\"Dinner\",\"Dinner\",\"Dinner\",\"Dinner\",\"Dinner\",\"Dinner\",\"Dinner\",\"Dinner\",\"Dinner\",\"Dinner\",\"Dinner\",\"Dinner\",\"Dinner\",\"Dinner\",\"Dinner\",\"Dinner\",\"Dinner\",\"Dinner\",\"Dinner\",\"Dinner\",\"Dinner\",\"Dinner\",\"Dinner\",\"Dinner\",\"Dinner\",\"Dinner\",\"Dinner\",\"Dinner\",\"Dinner\",\"Lunch\",\"Lunch\",\"Lunch\",\"Lunch\",\"Lunch\",\"Lunch\",\"Lunch\",\"Lunch\",\"Lunch\",\"Lunch\",\"Lunch\",\"Lunch\",\"Lunch\",\"Dinner\",\"Dinner\",\"Dinner\",\"Dinner\",\"Dinner\",\"Dinner\",\"Dinner\",\"Dinner\",\"Dinner\",\"Dinner\",\"Dinner\",\"Dinner\",\"Dinner\",\"Dinner\",\"Dinner\",\"Dinner\",\"Dinner\",\"Dinner\",\"Dinner\",\"Dinner\",\"Dinner\",\"Dinner\",\"Dinner\",\"Dinner\",\"Dinner\",\"Dinner\",\"Dinner\",\"Lunch\",\"Lunch\",\"Lunch\",\"Lunch\",\"Lunch\",\"Lunch\",\"Lunch\",\"Lunch\",\"Lunch\",\"Lunch\",\"Lunch\",\"Lunch\",\"Lunch\",\"Lunch\",\"Lunch\",\"Lunch\",\"Lunch\",\"Lunch\",\"Lunch\",\"Lunch\",\"Lunch\",\"Lunch\",\"Lunch\",\"Lunch\",\"Lunch\",\"Lunch\",\"Lunch\",\"Lunch\",\"Lunch\",\"Lunch\",\"Lunch\",\"Lunch\",\"Lunch\",\"Dinner\",\"Dinner\",\"Dinner\",\"Dinner\",\"Dinner\",\"Dinner\",\"Dinner\",\"Dinner\",\"Dinner\",\"Dinner\",\"Dinner\",\"Dinner\",\"Dinner\",\"Dinner\",\"Dinner\",\"Dinner\",\"Dinner\",\"Dinner\",\"Dinner\",\"Dinner\",\"Dinner\",\"Dinner\",\"Dinner\",\"Dinner\",\"Dinner\",\"Dinner\",\"Dinner\",\"Dinner\",\"Dinner\",\"Dinner\",\"Dinner\",\"Dinner\",\"Dinner\",\"Dinner\",\"Dinner\",\"Dinner\",\"Dinner\",\"Dinner\",\"Dinner\",\"Dinner\",\"Dinner\",\"Lunch\",\"Lunch\",\"Lunch\",\"Lunch\",\"Lunch\",\"Lunch\",\"Lunch\",\"Lunch\",\"Lunch\",\"Lunch\",\"Lunch\",\"Lunch\",\"Lunch\",\"Lunch\",\"Lunch\",\"Dinner\",\"Dinner\",\"Dinner\",\"Dinner\",\"Dinner\",\"Dinner\",\"Dinner\",\"Dinner\",\"Dinner\",\"Dinner\",\"Dinner\",\"Dinner\",\"Dinner\",\"Dinner\",\"Lunch\",\"Lunch\",\"Lunch\",\"Lunch\",\"Lunch\",\"Lunch\",\"Lunch\",\"Dinner\",\"Dinner\",\"Dinner\",\"Dinner\",\"Dinner\",\"Dinner\",\"Dinner\",\"Dinner\",\"Dinner\",\"Dinner\",\"Dinner\",\"Dinner\",\"Dinner\",\"Dinner\",\"Dinner\",\"Dinner\",\"Dinner\"],\"type\":\"box\"},{\"boxpoints\":false,\"line\":{\"width\":1.3},\"marker\":{\"color\":\"rgba(255, 255, 51, 1.0)\"},\"name\":\"size\",\"orientation\":\"v\",\"y\":[2,3,3,2,4,4,2,4,2,2,2,4,2,4,2,2,3,3,3,3,2,2,2,4,2,4,2,2,2,2,2,4,2,4,2,3,3,3,3,3,3,2,2,2,4,2,2,4,3,2,2,2,4,2,4,2,4,2,2,4,2,2,2,4,3,3,2,1,2,2,2,3,2,2,2,2,2,4,2,2,2,2,1,2,2,4,2,2,2,2,2,2,2,2,2,4,2,2,2,2,2,2,3,2,2,2,2,2,2,2,2,1,3,2,3,2,4,2,2,4,2,2,2,2,2,6,2,2,2,3,2,2,2,2,2,2,2,2,2,2,2,6,5,6,2,2,3,2,2,2,2,2,3,4,4,5,6,4,2,4,4,2,3,2,2,3,2,4,2,2,3,2,2,2,2,2,2,2,2,2,4,2,3,4,2,5,3,5,3,3,2,2,2,2,2,2,2,4,2,2,3,2,2,2,4,3,3,4,2,2,3,4,4,2,3,2,5,2,2,4,2,2,1,3,2,2,2,4,2,2,4,3,2,2,2,2,2,2,3,3,2,2,2,2],\"type\":\"box\"}],                        {\"legend\":{\"bgcolor\":\"#151516\",\"font\":{\"color\":\"#D9D9D9\"}},\"paper_bgcolor\":\"#151516\",\"plot_bgcolor\":\"#151516\",\"template\":{\"data\":{\"barpolar\":[{\"marker\":{\"line\":{\"color\":\"#E5ECF6\",\"width\":0.5},\"pattern\":{\"fillmode\":\"overlay\",\"size\":10,\"solidity\":0.2}},\"type\":\"barpolar\"}],\"bar\":[{\"error_x\":{\"color\":\"#2a3f5f\"},\"error_y\":{\"color\":\"#2a3f5f\"},\"marker\":{\"line\":{\"color\":\"#E5ECF6\",\"width\":0.5},\"pattern\":{\"fillmode\":\"overlay\",\"size\":10,\"solidity\":0.2}},\"type\":\"bar\"}],\"carpet\":[{\"aaxis\":{\"endlinecolor\":\"#2a3f5f\",\"gridcolor\":\"white\",\"linecolor\":\"white\",\"minorgridcolor\":\"white\",\"startlinecolor\":\"#2a3f5f\"},\"baxis\":{\"endlinecolor\":\"#2a3f5f\",\"gridcolor\":\"white\",\"linecolor\":\"white\",\"minorgridcolor\":\"white\",\"startlinecolor\":\"#2a3f5f\"},\"type\":\"carpet\"}],\"choropleth\":[{\"colorbar\":{\"outlinewidth\":0,\"ticks\":\"\"},\"type\":\"choropleth\"}],\"contourcarpet\":[{\"colorbar\":{\"outlinewidth\":0,\"ticks\":\"\"},\"type\":\"contourcarpet\"}],\"contour\":[{\"colorbar\":{\"outlinewidth\":0,\"ticks\":\"\"},\"colorscale\":[[0.0,\"#0d0887\"],[0.1111111111111111,\"#46039f\"],[0.2222222222222222,\"#7201a8\"],[0.3333333333333333,\"#9c179e\"],[0.4444444444444444,\"#bd3786\"],[0.5555555555555556,\"#d8576b\"],[0.6666666666666666,\"#ed7953\"],[0.7777777777777778,\"#fb9f3a\"],[0.8888888888888888,\"#fdca26\"],[1.0,\"#f0f921\"]],\"type\":\"contour\"}],\"heatmapgl\":[{\"colorbar\":{\"outlinewidth\":0,\"ticks\":\"\"},\"colorscale\":[[0.0,\"#0d0887\"],[0.1111111111111111,\"#46039f\"],[0.2222222222222222,\"#7201a8\"],[0.3333333333333333,\"#9c179e\"],[0.4444444444444444,\"#bd3786\"],[0.5555555555555556,\"#d8576b\"],[0.6666666666666666,\"#ed7953\"],[0.7777777777777778,\"#fb9f3a\"],[0.8888888888888888,\"#fdca26\"],[1.0,\"#f0f921\"]],\"type\":\"heatmapgl\"}],\"heatmap\":[{\"colorbar\":{\"outlinewidth\":0,\"ticks\":\"\"},\"colorscale\":[[0.0,\"#0d0887\"],[0.1111111111111111,\"#46039f\"],[0.2222222222222222,\"#7201a8\"],[0.3333333333333333,\"#9c179e\"],[0.4444444444444444,\"#bd3786\"],[0.5555555555555556,\"#d8576b\"],[0.6666666666666666,\"#ed7953\"],[0.7777777777777778,\"#fb9f3a\"],[0.8888888888888888,\"#fdca26\"],[1.0,\"#f0f921\"]],\"type\":\"heatmap\"}],\"histogram2dcontour\":[{\"colorbar\":{\"outlinewidth\":0,\"ticks\":\"\"},\"colorscale\":[[0.0,\"#0d0887\"],[0.1111111111111111,\"#46039f\"],[0.2222222222222222,\"#7201a8\"],[0.3333333333333333,\"#9c179e\"],[0.4444444444444444,\"#bd3786\"],[0.5555555555555556,\"#d8576b\"],[0.6666666666666666,\"#ed7953\"],[0.7777777777777778,\"#fb9f3a\"],[0.8888888888888888,\"#fdca26\"],[1.0,\"#f0f921\"]],\"type\":\"histogram2dcontour\"}],\"histogram2d\":[{\"colorbar\":{\"outlinewidth\":0,\"ticks\":\"\"},\"colorscale\":[[0.0,\"#0d0887\"],[0.1111111111111111,\"#46039f\"],[0.2222222222222222,\"#7201a8\"],[0.3333333333333333,\"#9c179e\"],[0.4444444444444444,\"#bd3786\"],[0.5555555555555556,\"#d8576b\"],[0.6666666666666666,\"#ed7953\"],[0.7777777777777778,\"#fb9f3a\"],[0.8888888888888888,\"#fdca26\"],[1.0,\"#f0f921\"]],\"type\":\"histogram2d\"}],\"histogram\":[{\"marker\":{\"pattern\":{\"fillmode\":\"overlay\",\"size\":10,\"solidity\":0.2}},\"type\":\"histogram\"}],\"mesh3d\":[{\"colorbar\":{\"outlinewidth\":0,\"ticks\":\"\"},\"type\":\"mesh3d\"}],\"parcoords\":[{\"line\":{\"colorbar\":{\"outlinewidth\":0,\"ticks\":\"\"}},\"type\":\"parcoords\"}],\"pie\":[{\"automargin\":true,\"type\":\"pie\"}],\"scatter3d\":[{\"line\":{\"colorbar\":{\"outlinewidth\":0,\"ticks\":\"\"}},\"marker\":{\"colorbar\":{\"outlinewidth\":0,\"ticks\":\"\"}},\"type\":\"scatter3d\"}],\"scattercarpet\":[{\"marker\":{\"colorbar\":{\"outlinewidth\":0,\"ticks\":\"\"}},\"type\":\"scattercarpet\"}],\"scattergeo\":[{\"marker\":{\"colorbar\":{\"outlinewidth\":0,\"ticks\":\"\"}},\"type\":\"scattergeo\"}],\"scattergl\":[{\"marker\":{\"colorbar\":{\"outlinewidth\":0,\"ticks\":\"\"}},\"type\":\"scattergl\"}],\"scattermapbox\":[{\"marker\":{\"colorbar\":{\"outlinewidth\":0,\"ticks\":\"\"}},\"type\":\"scattermapbox\"}],\"scatterpolargl\":[{\"marker\":{\"colorbar\":{\"outlinewidth\":0,\"ticks\":\"\"}},\"type\":\"scatterpolargl\"}],\"scatterpolar\":[{\"marker\":{\"colorbar\":{\"outlinewidth\":0,\"ticks\":\"\"}},\"type\":\"scatterpolar\"}],\"scatter\":[{\"fillpattern\":{\"fillmode\":\"overlay\",\"size\":10,\"solidity\":0.2},\"type\":\"scatter\"}],\"scatterternary\":[{\"marker\":{\"colorbar\":{\"outlinewidth\":0,\"ticks\":\"\"}},\"type\":\"scatterternary\"}],\"surface\":[{\"colorbar\":{\"outlinewidth\":0,\"ticks\":\"\"},\"colorscale\":[[0.0,\"#0d0887\"],[0.1111111111111111,\"#46039f\"],[0.2222222222222222,\"#7201a8\"],[0.3333333333333333,\"#9c179e\"],[0.4444444444444444,\"#bd3786\"],[0.5555555555555556,\"#d8576b\"],[0.6666666666666666,\"#ed7953\"],[0.7777777777777778,\"#fb9f3a\"],[0.8888888888888888,\"#fdca26\"],[1.0,\"#f0f921\"]],\"type\":\"surface\"}],\"table\":[{\"cells\":{\"fill\":{\"color\":\"#EBF0F8\"},\"line\":{\"color\":\"white\"}},\"header\":{\"fill\":{\"color\":\"#C8D4E3\"},\"line\":{\"color\":\"white\"}},\"type\":\"table\"}]},\"layout\":{\"annotationdefaults\":{\"arrowcolor\":\"#2a3f5f\",\"arrowhead\":0,\"arrowwidth\":1},\"autotypenumbers\":\"strict\",\"coloraxis\":{\"colorbar\":{\"outlinewidth\":0,\"ticks\":\"\"}},\"colorscale\":{\"diverging\":[[0,\"#8e0152\"],[0.1,\"#c51b7d\"],[0.2,\"#de77ae\"],[0.3,\"#f1b6da\"],[0.4,\"#fde0ef\"],[0.5,\"#f7f7f7\"],[0.6,\"#e6f5d0\"],[0.7,\"#b8e186\"],[0.8,\"#7fbc41\"],[0.9,\"#4d9221\"],[1,\"#276419\"]],\"sequential\":[[0.0,\"#0d0887\"],[0.1111111111111111,\"#46039f\"],[0.2222222222222222,\"#7201a8\"],[0.3333333333333333,\"#9c179e\"],[0.4444444444444444,\"#bd3786\"],[0.5555555555555556,\"#d8576b\"],[0.6666666666666666,\"#ed7953\"],[0.7777777777777778,\"#fb9f3a\"],[0.8888888888888888,\"#fdca26\"],[1.0,\"#f0f921\"]],\"sequentialminus\":[[0.0,\"#0d0887\"],[0.1111111111111111,\"#46039f\"],[0.2222222222222222,\"#7201a8\"],[0.3333333333333333,\"#9c179e\"],[0.4444444444444444,\"#bd3786\"],[0.5555555555555556,\"#d8576b\"],[0.6666666666666666,\"#ed7953\"],[0.7777777777777778,\"#fb9f3a\"],[0.8888888888888888,\"#fdca26\"],[1.0,\"#f0f921\"]]},\"colorway\":[\"#636efa\",\"#EF553B\",\"#00cc96\",\"#ab63fa\",\"#FFA15A\",\"#19d3f3\",\"#FF6692\",\"#B6E880\",\"#FF97FF\",\"#FECB52\"],\"font\":{\"color\":\"#2a3f5f\"},\"geo\":{\"bgcolor\":\"white\",\"lakecolor\":\"white\",\"landcolor\":\"#E5ECF6\",\"showlakes\":true,\"showland\":true,\"subunitcolor\":\"white\"},\"hoverlabel\":{\"align\":\"left\"},\"hovermode\":\"closest\",\"mapbox\":{\"style\":\"light\"},\"paper_bgcolor\":\"white\",\"plot_bgcolor\":\"#E5ECF6\",\"polar\":{\"angularaxis\":{\"gridcolor\":\"white\",\"linecolor\":\"white\",\"ticks\":\"\"},\"bgcolor\":\"#E5ECF6\",\"radialaxis\":{\"gridcolor\":\"white\",\"linecolor\":\"white\",\"ticks\":\"\"}},\"scene\":{\"xaxis\":{\"backgroundcolor\":\"#E5ECF6\",\"gridcolor\":\"white\",\"gridwidth\":2,\"linecolor\":\"white\",\"showbackground\":true,\"ticks\":\"\",\"zerolinecolor\":\"white\"},\"yaxis\":{\"backgroundcolor\":\"#E5ECF6\",\"gridcolor\":\"white\",\"gridwidth\":2,\"linecolor\":\"white\",\"showbackground\":true,\"ticks\":\"\",\"zerolinecolor\":\"white\"},\"zaxis\":{\"backgroundcolor\":\"#E5ECF6\",\"gridcolor\":\"white\",\"gridwidth\":2,\"linecolor\":\"white\",\"showbackground\":true,\"ticks\":\"\",\"zerolinecolor\":\"white\"}},\"shapedefaults\":{\"line\":{\"color\":\"#2a3f5f\"}},\"ternary\":{\"aaxis\":{\"gridcolor\":\"white\",\"linecolor\":\"white\",\"ticks\":\"\"},\"baxis\":{\"gridcolor\":\"white\",\"linecolor\":\"white\",\"ticks\":\"\"},\"bgcolor\":\"#E5ECF6\",\"caxis\":{\"gridcolor\":\"white\",\"linecolor\":\"white\",\"ticks\":\"\"}},\"title\":{\"x\":0.05},\"xaxis\":{\"automargin\":true,\"gridcolor\":\"white\",\"linecolor\":\"white\",\"ticks\":\"\",\"title\":{\"standoff\":15},\"zerolinecolor\":\"white\",\"zerolinewidth\":2},\"yaxis\":{\"automargin\":true,\"gridcolor\":\"white\",\"linecolor\":\"white\",\"ticks\":\"\",\"title\":{\"standoff\":15},\"zerolinecolor\":\"white\",\"zerolinewidth\":2}}},\"title\":{\"font\":{\"color\":\"#D9D9D9\"}},\"xaxis\":{\"gridcolor\":\"#434343\",\"showgrid\":true,\"tickfont\":{\"color\":\"#C2C2C2\"},\"title\":{\"font\":{\"color\":\"#D9D9D9\"},\"text\":\"\"},\"zerolinecolor\":\"#666570\"},\"yaxis\":{\"gridcolor\":\"#434343\",\"showgrid\":true,\"tickfont\":{\"color\":\"#C2C2C2\"},\"title\":{\"font\":{\"color\":\"#D9D9D9\"},\"text\":\"\"},\"zerolinecolor\":\"#666570\"}},                        {\"showLink\": true, \"linkText\": \"Export to plot.ly\", \"plotlyServerURL\": \"https://plot.ly\", \"responsive\": true}                    ).then(function(){\n",
       "                            \n",
       "var gd = document.getElementById('e3d1f4c5-9219-4796-939e-8f56be53c759');\n",
       "var x = new MutationObserver(function (mutations, observer) {{\n",
       "        var display = window.getComputedStyle(gd).display;\n",
       "        if (!display || display === 'none') {{\n",
       "            console.log([gd, 'removed!']);\n",
       "            Plotly.purge(gd);\n",
       "            observer.disconnect();\n",
       "        }}\n",
       "}});\n",
       "\n",
       "// Listen for the removal of the full notebook cells\n",
       "var notebookContainer = gd.closest('#notebook-container');\n",
       "if (notebookContainer) {{\n",
       "    x.observe(notebookContainer, {childList: true});\n",
       "}}\n",
       "\n",
       "// Listen for the clearing of the current output cell\n",
       "var outputEl = gd.closest('.output');\n",
       "if (outputEl) {{\n",
       "    x.observe(outputEl, {childList: true});\n",
       "}}\n",
       "\n",
       "                        })                };                });            </script>        </div>"
      ]
     },
     "metadata": {},
     "output_type": "display_data"
    }
   ],
   "source": [
    "tips.iplot(kind='box',x='day',y='total_bill')"
   ]
  },
  {
   "cell_type": "code",
   "execution_count": 91,
   "id": "19220e0d",
   "metadata": {},
   "outputs": [
    {
     "data": {
      "application/vnd.plotly.v1+json": {
       "config": {
        "linkText": "Export to plot.ly",
        "plotlyServerURL": "https://plot.ly",
        "showLink": true
       },
       "data": [
        {
         "fill": "tonexty",
         "fillcolor": "rgba(255, 153, 51, 0.3)",
         "line": {
          "color": "rgba(255, 153, 51, 1.0)",
          "dash": "solid",
          "shape": "linear",
          "width": 1.3
         },
         "mode": "lines",
         "name": "A",
         "text": "",
         "type": "scatter",
         "x": [
          0,
          1,
          2,
          3,
          4,
          5,
          6,
          7,
          8,
          9,
          10,
          11,
          12,
          13,
          14,
          15,
          16,
          17,
          18,
          19,
          20,
          21,
          22,
          23,
          24,
          25,
          26,
          27,
          28,
          29,
          30,
          31,
          32,
          33,
          34,
          35,
          36,
          37,
          38,
          39,
          40,
          41,
          42,
          43,
          44,
          45,
          46,
          47,
          48,
          49,
          50,
          51,
          52,
          53,
          54,
          55,
          56,
          57,
          58,
          59,
          60,
          61,
          62,
          63,
          64,
          65,
          66,
          67,
          68,
          69,
          70,
          71,
          72,
          73,
          74,
          75,
          76,
          77,
          78,
          79,
          80,
          81,
          82,
          83,
          84,
          85,
          86,
          87,
          88,
          89,
          90,
          91,
          92,
          93,
          94,
          95,
          96,
          97,
          98,
          99
         ],
         "y": [
          161.8737274377388,
          173.77306149948808,
          188.73812582456767,
          207.0321568867123,
          229.78742652737577,
          259.0797255248952,
          294.31283293771753,
          337.1839498825344,
          387.7020812043336,
          446.5834864263468,
          515.1134059097271,
          591.5512309646191,
          675.2902173390262,
          765.1840557674842,
          861.8153748835009,
          963.5162470644855,
          1070.7250857053696,
          1183.5866013219897,
          1302.5273421455745,
          1428.4215729854307,
          1561.447972626071,
          1701.7047901950295,
          1849.141231442883,
          2003.6481698689167,
          2165.2621686015264,
          2334.6005645298424,
          2511.4272175788606,
          2693.780923721283,
          2881.453097121142,
          3074.4951063361063,
          3271.708793675398,
          3473.2659149889364,
          3678.591481320759,
          3886.759868274675,
          4097.6743909614515,
          4310.731431184611,
          4526.935306407223,
          4746.453415622421,
          4967.021492508257,
          5189.450645872972,
          5413.5339682871,
          5637.5444417373465,
          5861.0007205737975,
          6084.154855426379,
          6308.178463873976,
          6533.154565439401,
          6758.463688902214,
          6984.192101137421,
          7209.473458832503,
          7435.754442038169,
          7663.136875401055,
          7889.691370533818,
          8113.1743867257655,
          8333.066989560579,
          8548.239953381519,
          8757.582924982908,
          8962.137331346812,
          9161.47890196411,
          9356.701633987901,
          9548.128320696947,
          9735.29237458757,
          9918.404642810172,
          10097.0758054278,
          10270.293890960651,
          10437.129939217564,
          10597.555889337878,
          10752.505928772103,
          10902.131539730675,
          11045.909561156946,
          11182.12938035177,
          11310.437397937809,
          11429.835802284315,
          11539.217313741667,
          11637.93699488431,
          11726.583092161307,
          11804.912045077004,
          11872.371659112745,
          11929.742058823262,
          11976.216769595057,
          12011.091959399115,
          12034.22419846311,
          12047.64779766643,
          12050.39840135786,
          12042.76492803371,
          12024.232817777442,
          11994.602454961358,
          11954.445491428709,
          11905.614653798439,
          11848.61047092312,
          11783.985523219659,
          11712.880365193165,
          11633.894617537771,
          11547.19722225406,
          11451.845923969988,
          11345.750539727716,
          11228.364193636075,
          11099.760594643112,
          10959.672478025324,
          10808.204574298878,
          10644.85404460801
         ]
        },
        {
         "fill": "tonexty",
         "fillcolor": "rgba(55, 128, 191, 0.3)",
         "line": {
          "color": "rgba(55, 128, 191, 1.0)",
          "dash": "solid",
          "shape": "linear",
          "width": 1.3
         },
         "mode": "lines",
         "name": "B",
         "text": "",
         "type": "scatter",
         "x": [
          0,
          1,
          2,
          3,
          4,
          5,
          6,
          7,
          8,
          9,
          10,
          11,
          12,
          13,
          14,
          15,
          16,
          17,
          18,
          19,
          20,
          21,
          22,
          23,
          24,
          25,
          26,
          27,
          28,
          29,
          30,
          31,
          32,
          33,
          34,
          35,
          36,
          37,
          38,
          39,
          40,
          41,
          42,
          43,
          44,
          45,
          46,
          47,
          48,
          49,
          50,
          51,
          52,
          53,
          54,
          55,
          56,
          57,
          58,
          59,
          60,
          61,
          62,
          63,
          64,
          65,
          66,
          67,
          68,
          69,
          70,
          71,
          72,
          73,
          74,
          75,
          76,
          77,
          78,
          79,
          80,
          81,
          82,
          83,
          84,
          85,
          86,
          87,
          88,
          89,
          90,
          91,
          92,
          93,
          94,
          95,
          96,
          97,
          98,
          99
         ],
         "y": [
          185.60243132621633,
          208.9802447205003,
          234.02426417530535,
          262.15270431577164,
          293.98799280471127,
          330.5677823167214,
          370.48937852561346,
          416.6491922962382,
          469.32087676450885,
          529.8184430703336,
          599.64402061213,
          678.1491519800464,
          765.2220829076615,
          861.4867344540186,
          967.5469052528221,
          1080.7171689018553,
          1201.9147422188437,
          1331.9797030816565,
          1471.7963016714332,
          1622.6332858430885,
          1784.6846229918071,
          1958.4196428835046,
          2143.869819563855,
          2340.447157039859,
          2547.720280644167,
          2765.1241810358724,
          2992.7925690967186,
          3230.3516735371786,
          3477.24461565288,
          3733.5406155021747,
          3997.9011278170815,
          4270.712399985846,
          4551.571270267059,
          4838.249221000646,
          5130.158187768864,
          5426.5155120249565,
          5728.46315062102,
          6034.714840115055,
          6342.456463706145,
          6652.595964568801,
          6965.360138531401,
          7279.853247202887,
          7594.862515836265,
          7911.322505816074,
          8232.650415013763,
          8559.620992525051,
          8891.951661487064,
          9229.968795201643,
          9572.798196940083,
          9922.486915444882,
          10278.973216247736,
          10641.382120572143,
          11010.155774507617,
          11383.471375670602,
          11759.511885443593,
          12137.707255591366,
          12518.365705433818,
          12901.447119658362,
          13286.829094539607,
          13673.307410917092,
          14062.159664613017,
          14454.16106917118,
          14849.017276366685,
          15245.510787973137,
          15643.244095243062,
          16041.053443036959,
          16440.68792488183,
          16842.51920687474,
          17247.71811548713,
          17654.04850190248,
          18060.86432876232,
          18466.603965824073,
          18869.278307366927,
          19267.929208381353,
          19665.74253021514,
          20062.316881315597,
          20456.078313348582,
          20846.602140282583,
          21231.233656910772,
          21608.829894178103,
          21981.076659452807,
          22348.10771274822,
          22708.050666241863,
          23061.082078438783,
          23406.49207627684,
          23744.10528938535,
          24074.25654378726,
          24397.506610646804,
          24715.276837915168,
          25027.737383284664,
          25337.09412657027,
          25641.659319341954,
          25943.45308214162,
          26243.20485634331,
          26538.853045822136,
          26829.920950674867,
          27115.511188909877,
          27396.641090626665,
          27673.25416555754,
          27944.668353964895
         ]
        },
        {
         "fill": "tonexty",
         "fillcolor": "rgba(50, 171, 96, 0.3)",
         "line": {
          "color": "rgba(50, 171, 96, 1.0)",
          "dash": "solid",
          "shape": "linear",
          "width": 1.3
         },
         "mode": "lines",
         "name": "C",
         "text": "",
         "type": "scatter",
         "x": [
          0,
          1,
          2,
          3,
          4,
          5,
          6,
          7,
          8,
          9,
          10,
          11,
          12,
          13,
          14,
          15,
          16,
          17,
          18,
          19,
          20,
          21,
          22,
          23,
          24,
          25,
          26,
          27,
          28,
          29,
          30,
          31,
          32,
          33,
          34,
          35,
          36,
          37,
          38,
          39,
          40,
          41,
          42,
          43,
          44,
          45,
          46,
          47,
          48,
          49,
          50,
          51,
          52,
          53,
          54,
          55,
          56,
          57,
          58,
          59,
          60,
          61,
          62,
          63,
          64,
          65,
          66,
          67,
          68,
          69,
          70,
          71,
          72,
          73,
          74,
          75,
          76,
          77,
          78,
          79,
          80,
          81,
          82,
          83,
          84,
          85,
          86,
          87,
          88,
          89,
          90,
          91,
          92,
          93,
          94,
          95,
          96,
          97,
          98,
          99
         ],
         "y": [
          210.37155348382652,
          246.09377705020648,
          282.4334846637195,
          321.9549321662785,
          366.90192261388574,
          417.599482091707,
          472.94342246560626,
          535.5121611507913,
          605.6940207976847,
          683.2222628086924,
          769.6491374069648,
          863.6293668845418,
          964.5058836526829,
          1074.1764837071908,
          1193.8701581397722,
          1320.527735857952,
          1454.8532643525175,
          1597.9237160817493,
          1750.7729565803193,
          1915.3208207689984,
          2090.576616592118,
          2278.003249594063,
          2477.855001791645,
          2688.8822428248122,
          2909.004331782146,
          3139.168581741512,
          3380.6207849369716,
          3632.042245265282,
          3892.4047080727682,
          4161.916336689714,
          4438.627791212645,
          4722.552500940221,
          5014.930894327123,
          5314.642235974354,
          5620.577490983683,
          5931.578845457785,
          6248.743119010402,
          6570.767301756792,
          6895.471721848228,
          7224.201801897758,
          7555.6000378406325,
          7888.924129370918,
          8223.401305122594,
          8559.580385165238,
          8901.9895746516,
          9252.668938827828,
          9613.056080135237,
          9983.186038231594,
          10363.4453842079,
          10756.223424918308,
          11161.028948604171,
          11577.054833075388,
          12004.50877685101,
          12441.285704912738,
          12884.561577003886,
          13334.589691950638,
          13792.222434192248,
          14256.596568511306,
          14728.413809974545,
          15204.752280931863,
          15687.376223862051,
          16177.020426178917,
          16672.53139474835,
          17175.16298615489,
          17685.009146835786,
          18201.744539563068,
          18725.83066846743,
          19256.56045774284,
          19794.481723787612,
          20338.244517575764,
          20887.375477491994,
          21440.350684345896,
          21996.28726383291,
          22551.334679096202,
          23109.135597575376,
          23668.468600137436,
          24225.61495986381,
          24779.525266868382,
          25327.972222237528,
          25870.183069806502,
          26407.81217944555,
          26941.018539928315,
          27466.566017547397,
          27985.670477731892,
          28497.96031244492,
          29002.889575903413,
          29501.86636055964,
          29993.632156326836,
          30479.752575649545,
          30959.18553288313,
          31433.811068227238,
          31901.951723217633,
          32365.910715470585,
          32825.73760034949,
          33280.05056222574,
          33728.93382474476,
          34172.791355974325,
          34613.725343953556,
          35052.46919274734,
          35487.79209606253
         ]
        }
       ],
       "layout": {
        "legend": {
         "bgcolor": "#151516",
         "font": {
          "color": "#D9D9D9"
         }
        },
        "paper_bgcolor": "#151516",
        "plot_bgcolor": "#151516",
        "template": {
         "data": {
          "bar": [
           {
            "error_x": {
             "color": "#2a3f5f"
            },
            "error_y": {
             "color": "#2a3f5f"
            },
            "marker": {
             "line": {
              "color": "#E5ECF6",
              "width": 0.5
             },
             "pattern": {
              "fillmode": "overlay",
              "size": 10,
              "solidity": 0.2
             }
            },
            "type": "bar"
           }
          ],
          "barpolar": [
           {
            "marker": {
             "line": {
              "color": "#E5ECF6",
              "width": 0.5
             },
             "pattern": {
              "fillmode": "overlay",
              "size": 10,
              "solidity": 0.2
             }
            },
            "type": "barpolar"
           }
          ],
          "carpet": [
           {
            "aaxis": {
             "endlinecolor": "#2a3f5f",
             "gridcolor": "white",
             "linecolor": "white",
             "minorgridcolor": "white",
             "startlinecolor": "#2a3f5f"
            },
            "baxis": {
             "endlinecolor": "#2a3f5f",
             "gridcolor": "white",
             "linecolor": "white",
             "minorgridcolor": "white",
             "startlinecolor": "#2a3f5f"
            },
            "type": "carpet"
           }
          ],
          "choropleth": [
           {
            "colorbar": {
             "outlinewidth": 0,
             "ticks": ""
            },
            "type": "choropleth"
           }
          ],
          "contour": [
           {
            "colorbar": {
             "outlinewidth": 0,
             "ticks": ""
            },
            "colorscale": [
             [
              0,
              "#0d0887"
             ],
             [
              0.1111111111111111,
              "#46039f"
             ],
             [
              0.2222222222222222,
              "#7201a8"
             ],
             [
              0.3333333333333333,
              "#9c179e"
             ],
             [
              0.4444444444444444,
              "#bd3786"
             ],
             [
              0.5555555555555556,
              "#d8576b"
             ],
             [
              0.6666666666666666,
              "#ed7953"
             ],
             [
              0.7777777777777778,
              "#fb9f3a"
             ],
             [
              0.8888888888888888,
              "#fdca26"
             ],
             [
              1,
              "#f0f921"
             ]
            ],
            "type": "contour"
           }
          ],
          "contourcarpet": [
           {
            "colorbar": {
             "outlinewidth": 0,
             "ticks": ""
            },
            "type": "contourcarpet"
           }
          ],
          "heatmap": [
           {
            "colorbar": {
             "outlinewidth": 0,
             "ticks": ""
            },
            "colorscale": [
             [
              0,
              "#0d0887"
             ],
             [
              0.1111111111111111,
              "#46039f"
             ],
             [
              0.2222222222222222,
              "#7201a8"
             ],
             [
              0.3333333333333333,
              "#9c179e"
             ],
             [
              0.4444444444444444,
              "#bd3786"
             ],
             [
              0.5555555555555556,
              "#d8576b"
             ],
             [
              0.6666666666666666,
              "#ed7953"
             ],
             [
              0.7777777777777778,
              "#fb9f3a"
             ],
             [
              0.8888888888888888,
              "#fdca26"
             ],
             [
              1,
              "#f0f921"
             ]
            ],
            "type": "heatmap"
           }
          ],
          "heatmapgl": [
           {
            "colorbar": {
             "outlinewidth": 0,
             "ticks": ""
            },
            "colorscale": [
             [
              0,
              "#0d0887"
             ],
             [
              0.1111111111111111,
              "#46039f"
             ],
             [
              0.2222222222222222,
              "#7201a8"
             ],
             [
              0.3333333333333333,
              "#9c179e"
             ],
             [
              0.4444444444444444,
              "#bd3786"
             ],
             [
              0.5555555555555556,
              "#d8576b"
             ],
             [
              0.6666666666666666,
              "#ed7953"
             ],
             [
              0.7777777777777778,
              "#fb9f3a"
             ],
             [
              0.8888888888888888,
              "#fdca26"
             ],
             [
              1,
              "#f0f921"
             ]
            ],
            "type": "heatmapgl"
           }
          ],
          "histogram": [
           {
            "marker": {
             "pattern": {
              "fillmode": "overlay",
              "size": 10,
              "solidity": 0.2
             }
            },
            "type": "histogram"
           }
          ],
          "histogram2d": [
           {
            "colorbar": {
             "outlinewidth": 0,
             "ticks": ""
            },
            "colorscale": [
             [
              0,
              "#0d0887"
             ],
             [
              0.1111111111111111,
              "#46039f"
             ],
             [
              0.2222222222222222,
              "#7201a8"
             ],
             [
              0.3333333333333333,
              "#9c179e"
             ],
             [
              0.4444444444444444,
              "#bd3786"
             ],
             [
              0.5555555555555556,
              "#d8576b"
             ],
             [
              0.6666666666666666,
              "#ed7953"
             ],
             [
              0.7777777777777778,
              "#fb9f3a"
             ],
             [
              0.8888888888888888,
              "#fdca26"
             ],
             [
              1,
              "#f0f921"
             ]
            ],
            "type": "histogram2d"
           }
          ],
          "histogram2dcontour": [
           {
            "colorbar": {
             "outlinewidth": 0,
             "ticks": ""
            },
            "colorscale": [
             [
              0,
              "#0d0887"
             ],
             [
              0.1111111111111111,
              "#46039f"
             ],
             [
              0.2222222222222222,
              "#7201a8"
             ],
             [
              0.3333333333333333,
              "#9c179e"
             ],
             [
              0.4444444444444444,
              "#bd3786"
             ],
             [
              0.5555555555555556,
              "#d8576b"
             ],
             [
              0.6666666666666666,
              "#ed7953"
             ],
             [
              0.7777777777777778,
              "#fb9f3a"
             ],
             [
              0.8888888888888888,
              "#fdca26"
             ],
             [
              1,
              "#f0f921"
             ]
            ],
            "type": "histogram2dcontour"
           }
          ],
          "mesh3d": [
           {
            "colorbar": {
             "outlinewidth": 0,
             "ticks": ""
            },
            "type": "mesh3d"
           }
          ],
          "parcoords": [
           {
            "line": {
             "colorbar": {
              "outlinewidth": 0,
              "ticks": ""
             }
            },
            "type": "parcoords"
           }
          ],
          "pie": [
           {
            "automargin": true,
            "type": "pie"
           }
          ],
          "scatter": [
           {
            "fillpattern": {
             "fillmode": "overlay",
             "size": 10,
             "solidity": 0.2
            },
            "type": "scatter"
           }
          ],
          "scatter3d": [
           {
            "line": {
             "colorbar": {
              "outlinewidth": 0,
              "ticks": ""
             }
            },
            "marker": {
             "colorbar": {
              "outlinewidth": 0,
              "ticks": ""
             }
            },
            "type": "scatter3d"
           }
          ],
          "scattercarpet": [
           {
            "marker": {
             "colorbar": {
              "outlinewidth": 0,
              "ticks": ""
             }
            },
            "type": "scattercarpet"
           }
          ],
          "scattergeo": [
           {
            "marker": {
             "colorbar": {
              "outlinewidth": 0,
              "ticks": ""
             }
            },
            "type": "scattergeo"
           }
          ],
          "scattergl": [
           {
            "marker": {
             "colorbar": {
              "outlinewidth": 0,
              "ticks": ""
             }
            },
            "type": "scattergl"
           }
          ],
          "scattermapbox": [
           {
            "marker": {
             "colorbar": {
              "outlinewidth": 0,
              "ticks": ""
             }
            },
            "type": "scattermapbox"
           }
          ],
          "scatterpolar": [
           {
            "marker": {
             "colorbar": {
              "outlinewidth": 0,
              "ticks": ""
             }
            },
            "type": "scatterpolar"
           }
          ],
          "scatterpolargl": [
           {
            "marker": {
             "colorbar": {
              "outlinewidth": 0,
              "ticks": ""
             }
            },
            "type": "scatterpolargl"
           }
          ],
          "scatterternary": [
           {
            "marker": {
             "colorbar": {
              "outlinewidth": 0,
              "ticks": ""
             }
            },
            "type": "scatterternary"
           }
          ],
          "surface": [
           {
            "colorbar": {
             "outlinewidth": 0,
             "ticks": ""
            },
            "colorscale": [
             [
              0,
              "#0d0887"
             ],
             [
              0.1111111111111111,
              "#46039f"
             ],
             [
              0.2222222222222222,
              "#7201a8"
             ],
             [
              0.3333333333333333,
              "#9c179e"
             ],
             [
              0.4444444444444444,
              "#bd3786"
             ],
             [
              0.5555555555555556,
              "#d8576b"
             ],
             [
              0.6666666666666666,
              "#ed7953"
             ],
             [
              0.7777777777777778,
              "#fb9f3a"
             ],
             [
              0.8888888888888888,
              "#fdca26"
             ],
             [
              1,
              "#f0f921"
             ]
            ],
            "type": "surface"
           }
          ],
          "table": [
           {
            "cells": {
             "fill": {
              "color": "#EBF0F8"
             },
             "line": {
              "color": "white"
             }
            },
            "header": {
             "fill": {
              "color": "#C8D4E3"
             },
             "line": {
              "color": "white"
             }
            },
            "type": "table"
           }
          ]
         },
         "layout": {
          "annotationdefaults": {
           "arrowcolor": "#2a3f5f",
           "arrowhead": 0,
           "arrowwidth": 1
          },
          "autotypenumbers": "strict",
          "coloraxis": {
           "colorbar": {
            "outlinewidth": 0,
            "ticks": ""
           }
          },
          "colorscale": {
           "diverging": [
            [
             0,
             "#8e0152"
            ],
            [
             0.1,
             "#c51b7d"
            ],
            [
             0.2,
             "#de77ae"
            ],
            [
             0.3,
             "#f1b6da"
            ],
            [
             0.4,
             "#fde0ef"
            ],
            [
             0.5,
             "#f7f7f7"
            ],
            [
             0.6,
             "#e6f5d0"
            ],
            [
             0.7,
             "#b8e186"
            ],
            [
             0.8,
             "#7fbc41"
            ],
            [
             0.9,
             "#4d9221"
            ],
            [
             1,
             "#276419"
            ]
           ],
           "sequential": [
            [
             0,
             "#0d0887"
            ],
            [
             0.1111111111111111,
             "#46039f"
            ],
            [
             0.2222222222222222,
             "#7201a8"
            ],
            [
             0.3333333333333333,
             "#9c179e"
            ],
            [
             0.4444444444444444,
             "#bd3786"
            ],
            [
             0.5555555555555556,
             "#d8576b"
            ],
            [
             0.6666666666666666,
             "#ed7953"
            ],
            [
             0.7777777777777778,
             "#fb9f3a"
            ],
            [
             0.8888888888888888,
             "#fdca26"
            ],
            [
             1,
             "#f0f921"
            ]
           ],
           "sequentialminus": [
            [
             0,
             "#0d0887"
            ],
            [
             0.1111111111111111,
             "#46039f"
            ],
            [
             0.2222222222222222,
             "#7201a8"
            ],
            [
             0.3333333333333333,
             "#9c179e"
            ],
            [
             0.4444444444444444,
             "#bd3786"
            ],
            [
             0.5555555555555556,
             "#d8576b"
            ],
            [
             0.6666666666666666,
             "#ed7953"
            ],
            [
             0.7777777777777778,
             "#fb9f3a"
            ],
            [
             0.8888888888888888,
             "#fdca26"
            ],
            [
             1,
             "#f0f921"
            ]
           ]
          },
          "colorway": [
           "#636efa",
           "#EF553B",
           "#00cc96",
           "#ab63fa",
           "#FFA15A",
           "#19d3f3",
           "#FF6692",
           "#B6E880",
           "#FF97FF",
           "#FECB52"
          ],
          "font": {
           "color": "#2a3f5f"
          },
          "geo": {
           "bgcolor": "white",
           "lakecolor": "white",
           "landcolor": "#E5ECF6",
           "showlakes": true,
           "showland": true,
           "subunitcolor": "white"
          },
          "hoverlabel": {
           "align": "left"
          },
          "hovermode": "closest",
          "mapbox": {
           "style": "light"
          },
          "paper_bgcolor": "white",
          "plot_bgcolor": "#E5ECF6",
          "polar": {
           "angularaxis": {
            "gridcolor": "white",
            "linecolor": "white",
            "ticks": ""
           },
           "bgcolor": "#E5ECF6",
           "radialaxis": {
            "gridcolor": "white",
            "linecolor": "white",
            "ticks": ""
           }
          },
          "scene": {
           "xaxis": {
            "backgroundcolor": "#E5ECF6",
            "gridcolor": "white",
            "gridwidth": 2,
            "linecolor": "white",
            "showbackground": true,
            "ticks": "",
            "zerolinecolor": "white"
           },
           "yaxis": {
            "backgroundcolor": "#E5ECF6",
            "gridcolor": "white",
            "gridwidth": 2,
            "linecolor": "white",
            "showbackground": true,
            "ticks": "",
            "zerolinecolor": "white"
           },
           "zaxis": {
            "backgroundcolor": "#E5ECF6",
            "gridcolor": "white",
            "gridwidth": 2,
            "linecolor": "white",
            "showbackground": true,
            "ticks": "",
            "zerolinecolor": "white"
           }
          },
          "shapedefaults": {
           "line": {
            "color": "#2a3f5f"
           }
          },
          "ternary": {
           "aaxis": {
            "gridcolor": "white",
            "linecolor": "white",
            "ticks": ""
           },
           "baxis": {
            "gridcolor": "white",
            "linecolor": "white",
            "ticks": ""
           },
           "bgcolor": "#E5ECF6",
           "caxis": {
            "gridcolor": "white",
            "linecolor": "white",
            "ticks": ""
           }
          },
          "title": {
           "x": 0.05
          },
          "xaxis": {
           "automargin": true,
           "gridcolor": "white",
           "linecolor": "white",
           "ticks": "",
           "title": {
            "standoff": 15
           },
           "zerolinecolor": "white",
           "zerolinewidth": 2
          },
          "yaxis": {
           "automargin": true,
           "gridcolor": "white",
           "linecolor": "white",
           "ticks": "",
           "title": {
            "standoff": 15
           },
           "zerolinecolor": "white",
           "zerolinewidth": 2
          }
         }
        },
        "title": {
         "font": {
          "color": "#D9D9D9"
         }
        },
        "xaxis": {
         "gridcolor": "#434343",
         "showgrid": true,
         "tickfont": {
          "color": "#C2C2C2"
         },
         "title": {
          "font": {
           "color": "#D9D9D9"
          },
          "text": ""
         },
         "zerolinecolor": "#666570"
        },
        "yaxis": {
         "gridcolor": "#434343",
         "showgrid": true,
         "tickfont": {
          "color": "#C2C2C2"
         },
         "title": {
          "font": {
           "color": "#D9D9D9"
          },
          "text": ""
         },
         "zerolinecolor": "#666570"
        }
       }
      },
      "text/html": [
       "<div>                            <div id=\"3a48e4cc-7042-4549-8de2-1487f7b3fbe3\" class=\"plotly-graph-div\" style=\"height:525px; width:100%;\"></div>            <script type=\"text/javascript\">                require([\"plotly\"], function(Plotly) {                    window.PLOTLYENV=window.PLOTLYENV || {};\n",
       "                    window.PLOTLYENV.BASE_URL='https://plot.ly';                                    if (document.getElementById(\"3a48e4cc-7042-4549-8de2-1487f7b3fbe3\")) {                    Plotly.newPlot(                        \"3a48e4cc-7042-4549-8de2-1487f7b3fbe3\",                        [{\"fill\":\"tonexty\",\"fillcolor\":\"rgba(255, 153, 51, 0.3)\",\"line\":{\"color\":\"rgba(255, 153, 51, 1.0)\",\"dash\":\"solid\",\"shape\":\"linear\",\"width\":1.3},\"mode\":\"lines\",\"name\":\"A\",\"text\":\"\",\"x\":[0,1,2,3,4,5,6,7,8,9,10,11,12,13,14,15,16,17,18,19,20,21,22,23,24,25,26,27,28,29,30,31,32,33,34,35,36,37,38,39,40,41,42,43,44,45,46,47,48,49,50,51,52,53,54,55,56,57,58,59,60,61,62,63,64,65,66,67,68,69,70,71,72,73,74,75,76,77,78,79,80,81,82,83,84,85,86,87,88,89,90,91,92,93,94,95,96,97,98,99],\"y\":[161.8737274377388,173.77306149948808,188.73812582456767,207.0321568867123,229.78742652737577,259.0797255248952,294.31283293771753,337.1839498825344,387.7020812043336,446.5834864263468,515.1134059097271,591.5512309646191,675.2902173390262,765.1840557674842,861.8153748835009,963.5162470644855,1070.7250857053696,1183.5866013219897,1302.5273421455745,1428.4215729854307,1561.447972626071,1701.7047901950295,1849.141231442883,2003.6481698689167,2165.2621686015264,2334.6005645298424,2511.4272175788606,2693.780923721283,2881.453097121142,3074.4951063361063,3271.708793675398,3473.2659149889364,3678.591481320759,3886.759868274675,4097.6743909614515,4310.731431184611,4526.935306407223,4746.453415622421,4967.021492508257,5189.450645872972,5413.5339682871,5637.5444417373465,5861.0007205737975,6084.154855426379,6308.178463873976,6533.154565439401,6758.463688902214,6984.192101137421,7209.473458832503,7435.754442038169,7663.136875401055,7889.691370533818,8113.1743867257655,8333.066989560579,8548.239953381519,8757.582924982908,8962.137331346812,9161.47890196411,9356.701633987901,9548.128320696947,9735.29237458757,9918.404642810172,10097.0758054278,10270.293890960651,10437.129939217564,10597.555889337878,10752.505928772103,10902.131539730675,11045.909561156946,11182.12938035177,11310.437397937809,11429.835802284315,11539.217313741667,11637.93699488431,11726.583092161307,11804.912045077004,11872.371659112745,11929.742058823262,11976.216769595057,12011.091959399115,12034.22419846311,12047.64779766643,12050.39840135786,12042.76492803371,12024.232817777442,11994.602454961358,11954.445491428709,11905.614653798439,11848.61047092312,11783.985523219659,11712.880365193165,11633.894617537771,11547.19722225406,11451.845923969988,11345.750539727716,11228.364193636075,11099.760594643112,10959.672478025324,10808.204574298878,10644.85404460801],\"type\":\"scatter\"},{\"fill\":\"tonexty\",\"fillcolor\":\"rgba(55, 128, 191, 0.3)\",\"line\":{\"color\":\"rgba(55, 128, 191, 1.0)\",\"dash\":\"solid\",\"shape\":\"linear\",\"width\":1.3},\"mode\":\"lines\",\"name\":\"B\",\"text\":\"\",\"x\":[0,1,2,3,4,5,6,7,8,9,10,11,12,13,14,15,16,17,18,19,20,21,22,23,24,25,26,27,28,29,30,31,32,33,34,35,36,37,38,39,40,41,42,43,44,45,46,47,48,49,50,51,52,53,54,55,56,57,58,59,60,61,62,63,64,65,66,67,68,69,70,71,72,73,74,75,76,77,78,79,80,81,82,83,84,85,86,87,88,89,90,91,92,93,94,95,96,97,98,99],\"y\":[185.60243132621633,208.9802447205003,234.02426417530535,262.15270431577164,293.98799280471127,330.5677823167214,370.48937852561346,416.6491922962382,469.32087676450885,529.8184430703336,599.64402061213,678.1491519800464,765.2220829076615,861.4867344540186,967.5469052528221,1080.7171689018553,1201.9147422188437,1331.9797030816565,1471.7963016714332,1622.6332858430885,1784.6846229918071,1958.4196428835046,2143.869819563855,2340.447157039859,2547.720280644167,2765.1241810358724,2992.7925690967186,3230.3516735371786,3477.24461565288,3733.5406155021747,3997.9011278170815,4270.712399985846,4551.571270267059,4838.249221000646,5130.158187768864,5426.5155120249565,5728.46315062102,6034.714840115055,6342.456463706145,6652.595964568801,6965.360138531401,7279.853247202887,7594.862515836265,7911.322505816074,8232.650415013763,8559.620992525051,8891.951661487064,9229.968795201643,9572.798196940083,9922.486915444882,10278.973216247736,10641.382120572143,11010.155774507617,11383.471375670602,11759.511885443593,12137.707255591366,12518.365705433818,12901.447119658362,13286.829094539607,13673.307410917092,14062.159664613017,14454.16106917118,14849.017276366685,15245.510787973137,15643.244095243062,16041.053443036959,16440.68792488183,16842.51920687474,17247.71811548713,17654.04850190248,18060.86432876232,18466.603965824073,18869.278307366927,19267.929208381353,19665.74253021514,20062.316881315597,20456.078313348582,20846.602140282583,21231.233656910772,21608.829894178103,21981.076659452807,22348.10771274822,22708.050666241863,23061.082078438783,23406.49207627684,23744.10528938535,24074.25654378726,24397.506610646804,24715.276837915168,25027.737383284664,25337.09412657027,25641.659319341954,25943.45308214162,26243.20485634331,26538.853045822136,26829.920950674867,27115.511188909877,27396.641090626665,27673.25416555754,27944.668353964895],\"type\":\"scatter\"},{\"fill\":\"tonexty\",\"fillcolor\":\"rgba(50, 171, 96, 0.3)\",\"line\":{\"color\":\"rgba(50, 171, 96, 1.0)\",\"dash\":\"solid\",\"shape\":\"linear\",\"width\":1.3},\"mode\":\"lines\",\"name\":\"C\",\"text\":\"\",\"x\":[0,1,2,3,4,5,6,7,8,9,10,11,12,13,14,15,16,17,18,19,20,21,22,23,24,25,26,27,28,29,30,31,32,33,34,35,36,37,38,39,40,41,42,43,44,45,46,47,48,49,50,51,52,53,54,55,56,57,58,59,60,61,62,63,64,65,66,67,68,69,70,71,72,73,74,75,76,77,78,79,80,81,82,83,84,85,86,87,88,89,90,91,92,93,94,95,96,97,98,99],\"y\":[210.37155348382652,246.09377705020648,282.4334846637195,321.9549321662785,366.90192261388574,417.599482091707,472.94342246560626,535.5121611507913,605.6940207976847,683.2222628086924,769.6491374069648,863.6293668845418,964.5058836526829,1074.1764837071908,1193.8701581397722,1320.527735857952,1454.8532643525175,1597.9237160817493,1750.7729565803193,1915.3208207689984,2090.576616592118,2278.003249594063,2477.855001791645,2688.8822428248122,2909.004331782146,3139.168581741512,3380.6207849369716,3632.042245265282,3892.4047080727682,4161.916336689714,4438.627791212645,4722.552500940221,5014.930894327123,5314.642235974354,5620.577490983683,5931.578845457785,6248.743119010402,6570.767301756792,6895.471721848228,7224.201801897758,7555.6000378406325,7888.924129370918,8223.401305122594,8559.580385165238,8901.9895746516,9252.668938827828,9613.056080135237,9983.186038231594,10363.4453842079,10756.223424918308,11161.028948604171,11577.054833075388,12004.50877685101,12441.285704912738,12884.561577003886,13334.589691950638,13792.222434192248,14256.596568511306,14728.413809974545,15204.752280931863,15687.376223862051,16177.020426178917,16672.53139474835,17175.16298615489,17685.009146835786,18201.744539563068,18725.83066846743,19256.56045774284,19794.481723787612,20338.244517575764,20887.375477491994,21440.350684345896,21996.28726383291,22551.334679096202,23109.135597575376,23668.468600137436,24225.61495986381,24779.525266868382,25327.972222237528,25870.183069806502,26407.81217944555,26941.018539928315,27466.566017547397,27985.670477731892,28497.96031244492,29002.889575903413,29501.86636055964,29993.632156326836,30479.752575649545,30959.18553288313,31433.811068227238,31901.951723217633,32365.910715470585,32825.73760034949,33280.05056222574,33728.93382474476,34172.791355974325,34613.725343953556,35052.46919274734,35487.79209606253],\"type\":\"scatter\"}],                        {\"legend\":{\"bgcolor\":\"#151516\",\"font\":{\"color\":\"#D9D9D9\"}},\"paper_bgcolor\":\"#151516\",\"plot_bgcolor\":\"#151516\",\"template\":{\"data\":{\"barpolar\":[{\"marker\":{\"line\":{\"color\":\"#E5ECF6\",\"width\":0.5},\"pattern\":{\"fillmode\":\"overlay\",\"size\":10,\"solidity\":0.2}},\"type\":\"barpolar\"}],\"bar\":[{\"error_x\":{\"color\":\"#2a3f5f\"},\"error_y\":{\"color\":\"#2a3f5f\"},\"marker\":{\"line\":{\"color\":\"#E5ECF6\",\"width\":0.5},\"pattern\":{\"fillmode\":\"overlay\",\"size\":10,\"solidity\":0.2}},\"type\":\"bar\"}],\"carpet\":[{\"aaxis\":{\"endlinecolor\":\"#2a3f5f\",\"gridcolor\":\"white\",\"linecolor\":\"white\",\"minorgridcolor\":\"white\",\"startlinecolor\":\"#2a3f5f\"},\"baxis\":{\"endlinecolor\":\"#2a3f5f\",\"gridcolor\":\"white\",\"linecolor\":\"white\",\"minorgridcolor\":\"white\",\"startlinecolor\":\"#2a3f5f\"},\"type\":\"carpet\"}],\"choropleth\":[{\"colorbar\":{\"outlinewidth\":0,\"ticks\":\"\"},\"type\":\"choropleth\"}],\"contourcarpet\":[{\"colorbar\":{\"outlinewidth\":0,\"ticks\":\"\"},\"type\":\"contourcarpet\"}],\"contour\":[{\"colorbar\":{\"outlinewidth\":0,\"ticks\":\"\"},\"colorscale\":[[0.0,\"#0d0887\"],[0.1111111111111111,\"#46039f\"],[0.2222222222222222,\"#7201a8\"],[0.3333333333333333,\"#9c179e\"],[0.4444444444444444,\"#bd3786\"],[0.5555555555555556,\"#d8576b\"],[0.6666666666666666,\"#ed7953\"],[0.7777777777777778,\"#fb9f3a\"],[0.8888888888888888,\"#fdca26\"],[1.0,\"#f0f921\"]],\"type\":\"contour\"}],\"heatmapgl\":[{\"colorbar\":{\"outlinewidth\":0,\"ticks\":\"\"},\"colorscale\":[[0.0,\"#0d0887\"],[0.1111111111111111,\"#46039f\"],[0.2222222222222222,\"#7201a8\"],[0.3333333333333333,\"#9c179e\"],[0.4444444444444444,\"#bd3786\"],[0.5555555555555556,\"#d8576b\"],[0.6666666666666666,\"#ed7953\"],[0.7777777777777778,\"#fb9f3a\"],[0.8888888888888888,\"#fdca26\"],[1.0,\"#f0f921\"]],\"type\":\"heatmapgl\"}],\"heatmap\":[{\"colorbar\":{\"outlinewidth\":0,\"ticks\":\"\"},\"colorscale\":[[0.0,\"#0d0887\"],[0.1111111111111111,\"#46039f\"],[0.2222222222222222,\"#7201a8\"],[0.3333333333333333,\"#9c179e\"],[0.4444444444444444,\"#bd3786\"],[0.5555555555555556,\"#d8576b\"],[0.6666666666666666,\"#ed7953\"],[0.7777777777777778,\"#fb9f3a\"],[0.8888888888888888,\"#fdca26\"],[1.0,\"#f0f921\"]],\"type\":\"heatmap\"}],\"histogram2dcontour\":[{\"colorbar\":{\"outlinewidth\":0,\"ticks\":\"\"},\"colorscale\":[[0.0,\"#0d0887\"],[0.1111111111111111,\"#46039f\"],[0.2222222222222222,\"#7201a8\"],[0.3333333333333333,\"#9c179e\"],[0.4444444444444444,\"#bd3786\"],[0.5555555555555556,\"#d8576b\"],[0.6666666666666666,\"#ed7953\"],[0.7777777777777778,\"#fb9f3a\"],[0.8888888888888888,\"#fdca26\"],[1.0,\"#f0f921\"]],\"type\":\"histogram2dcontour\"}],\"histogram2d\":[{\"colorbar\":{\"outlinewidth\":0,\"ticks\":\"\"},\"colorscale\":[[0.0,\"#0d0887\"],[0.1111111111111111,\"#46039f\"],[0.2222222222222222,\"#7201a8\"],[0.3333333333333333,\"#9c179e\"],[0.4444444444444444,\"#bd3786\"],[0.5555555555555556,\"#d8576b\"],[0.6666666666666666,\"#ed7953\"],[0.7777777777777778,\"#fb9f3a\"],[0.8888888888888888,\"#fdca26\"],[1.0,\"#f0f921\"]],\"type\":\"histogram2d\"}],\"histogram\":[{\"marker\":{\"pattern\":{\"fillmode\":\"overlay\",\"size\":10,\"solidity\":0.2}},\"type\":\"histogram\"}],\"mesh3d\":[{\"colorbar\":{\"outlinewidth\":0,\"ticks\":\"\"},\"type\":\"mesh3d\"}],\"parcoords\":[{\"line\":{\"colorbar\":{\"outlinewidth\":0,\"ticks\":\"\"}},\"type\":\"parcoords\"}],\"pie\":[{\"automargin\":true,\"type\":\"pie\"}],\"scatter3d\":[{\"line\":{\"colorbar\":{\"outlinewidth\":0,\"ticks\":\"\"}},\"marker\":{\"colorbar\":{\"outlinewidth\":0,\"ticks\":\"\"}},\"type\":\"scatter3d\"}],\"scattercarpet\":[{\"marker\":{\"colorbar\":{\"outlinewidth\":0,\"ticks\":\"\"}},\"type\":\"scattercarpet\"}],\"scattergeo\":[{\"marker\":{\"colorbar\":{\"outlinewidth\":0,\"ticks\":\"\"}},\"type\":\"scattergeo\"}],\"scattergl\":[{\"marker\":{\"colorbar\":{\"outlinewidth\":0,\"ticks\":\"\"}},\"type\":\"scattergl\"}],\"scattermapbox\":[{\"marker\":{\"colorbar\":{\"outlinewidth\":0,\"ticks\":\"\"}},\"type\":\"scattermapbox\"}],\"scatterpolargl\":[{\"marker\":{\"colorbar\":{\"outlinewidth\":0,\"ticks\":\"\"}},\"type\":\"scatterpolargl\"}],\"scatterpolar\":[{\"marker\":{\"colorbar\":{\"outlinewidth\":0,\"ticks\":\"\"}},\"type\":\"scatterpolar\"}],\"scatter\":[{\"fillpattern\":{\"fillmode\":\"overlay\",\"size\":10,\"solidity\":0.2},\"type\":\"scatter\"}],\"scatterternary\":[{\"marker\":{\"colorbar\":{\"outlinewidth\":0,\"ticks\":\"\"}},\"type\":\"scatterternary\"}],\"surface\":[{\"colorbar\":{\"outlinewidth\":0,\"ticks\":\"\"},\"colorscale\":[[0.0,\"#0d0887\"],[0.1111111111111111,\"#46039f\"],[0.2222222222222222,\"#7201a8\"],[0.3333333333333333,\"#9c179e\"],[0.4444444444444444,\"#bd3786\"],[0.5555555555555556,\"#d8576b\"],[0.6666666666666666,\"#ed7953\"],[0.7777777777777778,\"#fb9f3a\"],[0.8888888888888888,\"#fdca26\"],[1.0,\"#f0f921\"]],\"type\":\"surface\"}],\"table\":[{\"cells\":{\"fill\":{\"color\":\"#EBF0F8\"},\"line\":{\"color\":\"white\"}},\"header\":{\"fill\":{\"color\":\"#C8D4E3\"},\"line\":{\"color\":\"white\"}},\"type\":\"table\"}]},\"layout\":{\"annotationdefaults\":{\"arrowcolor\":\"#2a3f5f\",\"arrowhead\":0,\"arrowwidth\":1},\"autotypenumbers\":\"strict\",\"coloraxis\":{\"colorbar\":{\"outlinewidth\":0,\"ticks\":\"\"}},\"colorscale\":{\"diverging\":[[0,\"#8e0152\"],[0.1,\"#c51b7d\"],[0.2,\"#de77ae\"],[0.3,\"#f1b6da\"],[0.4,\"#fde0ef\"],[0.5,\"#f7f7f7\"],[0.6,\"#e6f5d0\"],[0.7,\"#b8e186\"],[0.8,\"#7fbc41\"],[0.9,\"#4d9221\"],[1,\"#276419\"]],\"sequential\":[[0.0,\"#0d0887\"],[0.1111111111111111,\"#46039f\"],[0.2222222222222222,\"#7201a8\"],[0.3333333333333333,\"#9c179e\"],[0.4444444444444444,\"#bd3786\"],[0.5555555555555556,\"#d8576b\"],[0.6666666666666666,\"#ed7953\"],[0.7777777777777778,\"#fb9f3a\"],[0.8888888888888888,\"#fdca26\"],[1.0,\"#f0f921\"]],\"sequentialminus\":[[0.0,\"#0d0887\"],[0.1111111111111111,\"#46039f\"],[0.2222222222222222,\"#7201a8\"],[0.3333333333333333,\"#9c179e\"],[0.4444444444444444,\"#bd3786\"],[0.5555555555555556,\"#d8576b\"],[0.6666666666666666,\"#ed7953\"],[0.7777777777777778,\"#fb9f3a\"],[0.8888888888888888,\"#fdca26\"],[1.0,\"#f0f921\"]]},\"colorway\":[\"#636efa\",\"#EF553B\",\"#00cc96\",\"#ab63fa\",\"#FFA15A\",\"#19d3f3\",\"#FF6692\",\"#B6E880\",\"#FF97FF\",\"#FECB52\"],\"font\":{\"color\":\"#2a3f5f\"},\"geo\":{\"bgcolor\":\"white\",\"lakecolor\":\"white\",\"landcolor\":\"#E5ECF6\",\"showlakes\":true,\"showland\":true,\"subunitcolor\":\"white\"},\"hoverlabel\":{\"align\":\"left\"},\"hovermode\":\"closest\",\"mapbox\":{\"style\":\"light\"},\"paper_bgcolor\":\"white\",\"plot_bgcolor\":\"#E5ECF6\",\"polar\":{\"angularaxis\":{\"gridcolor\":\"white\",\"linecolor\":\"white\",\"ticks\":\"\"},\"bgcolor\":\"#E5ECF6\",\"radialaxis\":{\"gridcolor\":\"white\",\"linecolor\":\"white\",\"ticks\":\"\"}},\"scene\":{\"xaxis\":{\"backgroundcolor\":\"#E5ECF6\",\"gridcolor\":\"white\",\"gridwidth\":2,\"linecolor\":\"white\",\"showbackground\":true,\"ticks\":\"\",\"zerolinecolor\":\"white\"},\"yaxis\":{\"backgroundcolor\":\"#E5ECF6\",\"gridcolor\":\"white\",\"gridwidth\":2,\"linecolor\":\"white\",\"showbackground\":true,\"ticks\":\"\",\"zerolinecolor\":\"white\"},\"zaxis\":{\"backgroundcolor\":\"#E5ECF6\",\"gridcolor\":\"white\",\"gridwidth\":2,\"linecolor\":\"white\",\"showbackground\":true,\"ticks\":\"\",\"zerolinecolor\":\"white\"}},\"shapedefaults\":{\"line\":{\"color\":\"#2a3f5f\"}},\"ternary\":{\"aaxis\":{\"gridcolor\":\"white\",\"linecolor\":\"white\",\"ticks\":\"\"},\"baxis\":{\"gridcolor\":\"white\",\"linecolor\":\"white\",\"ticks\":\"\"},\"bgcolor\":\"#E5ECF6\",\"caxis\":{\"gridcolor\":\"white\",\"linecolor\":\"white\",\"ticks\":\"\"}},\"title\":{\"x\":0.05},\"xaxis\":{\"automargin\":true,\"gridcolor\":\"white\",\"linecolor\":\"white\",\"ticks\":\"\",\"title\":{\"standoff\":15},\"zerolinecolor\":\"white\",\"zerolinewidth\":2},\"yaxis\":{\"automargin\":true,\"gridcolor\":\"white\",\"linecolor\":\"white\",\"ticks\":\"\",\"title\":{\"standoff\":15},\"zerolinecolor\":\"white\",\"zerolinewidth\":2}}},\"title\":{\"font\":{\"color\":\"#D9D9D9\"}},\"xaxis\":{\"gridcolor\":\"#434343\",\"showgrid\":true,\"tickfont\":{\"color\":\"#C2C2C2\"},\"title\":{\"font\":{\"color\":\"#D9D9D9\"},\"text\":\"\"},\"zerolinecolor\":\"#666570\"},\"yaxis\":{\"gridcolor\":\"#434343\",\"showgrid\":true,\"tickfont\":{\"color\":\"#C2C2C2\"},\"title\":{\"font\":{\"color\":\"#D9D9D9\"},\"text\":\"\"},\"zerolinecolor\":\"#666570\"}},                        {\"showLink\": true, \"linkText\": \"Export to plot.ly\", \"plotlyServerURL\": \"https://plot.ly\", \"responsive\": true}                    ).then(function(){\n",
       "                            \n",
       "var gd = document.getElementById('3a48e4cc-7042-4549-8de2-1487f7b3fbe3');\n",
       "var x = new MutationObserver(function (mutations, observer) {{\n",
       "        var display = window.getComputedStyle(gd).display;\n",
       "        if (!display || display === 'none') {{\n",
       "            console.log([gd, 'removed!']);\n",
       "            Plotly.purge(gd);\n",
       "            observer.disconnect();\n",
       "        }}\n",
       "}});\n",
       "\n",
       "// Listen for the removal of the full notebook cells\n",
       "var notebookContainer = gd.closest('#notebook-container');\n",
       "if (notebookContainer) {{\n",
       "    x.observe(notebookContainer, {childList: true});\n",
       "}}\n",
       "\n",
       "// Listen for the clearing of the current output cell\n",
       "var outputEl = gd.closest('.output');\n",
       "if (outputEl) {{\n",
       "    x.observe(outputEl, {childList: true});\n",
       "}}\n",
       "\n",
       "                        })                };                });            </script>        </div>"
      ]
     },
     "metadata": {},
     "output_type": "display_data"
    }
   ],
   "source": [
    "dataset.iplot(kind='area',fill=True)"
   ]
  },
  {
   "cell_type": "code",
   "execution_count": 92,
   "id": "e84dc752",
   "metadata": {},
   "outputs": [],
   "source": [
    "df2=pd.DataFrame({'X':[10,20,30,40],'Y':[10,20,30,40],'Z':[10,20,30,40]})"
   ]
  },
  {
   "cell_type": "code",
   "execution_count": 93,
   "id": "e9ad8e67",
   "metadata": {},
   "outputs": [
    {
     "data": {
      "text/html": [
       "<div>\n",
       "<style scoped>\n",
       "    .dataframe tbody tr th:only-of-type {\n",
       "        vertical-align: middle;\n",
       "    }\n",
       "\n",
       "    .dataframe tbody tr th {\n",
       "        vertical-align: top;\n",
       "    }\n",
       "\n",
       "    .dataframe thead th {\n",
       "        text-align: right;\n",
       "    }\n",
       "</style>\n",
       "<table border=\"1\" class=\"dataframe\">\n",
       "  <thead>\n",
       "    <tr style=\"text-align: right;\">\n",
       "      <th></th>\n",
       "      <th>X</th>\n",
       "      <th>Y</th>\n",
       "      <th>Z</th>\n",
       "    </tr>\n",
       "  </thead>\n",
       "  <tbody>\n",
       "    <tr>\n",
       "      <th>0</th>\n",
       "      <td>10</td>\n",
       "      <td>10</td>\n",
       "      <td>10</td>\n",
       "    </tr>\n",
       "    <tr>\n",
       "      <th>1</th>\n",
       "      <td>20</td>\n",
       "      <td>20</td>\n",
       "      <td>20</td>\n",
       "    </tr>\n",
       "    <tr>\n",
       "      <th>2</th>\n",
       "      <td>30</td>\n",
       "      <td>30</td>\n",
       "      <td>30</td>\n",
       "    </tr>\n",
       "    <tr>\n",
       "      <th>3</th>\n",
       "      <td>40</td>\n",
       "      <td>40</td>\n",
       "      <td>40</td>\n",
       "    </tr>\n",
       "  </tbody>\n",
       "</table>\n",
       "</div>"
      ],
      "text/plain": [
       "    X   Y   Z\n",
       "0  10  10  10\n",
       "1  20  20  20\n",
       "2  30  30  30\n",
       "3  40  40  40"
      ]
     },
     "execution_count": 93,
     "metadata": {},
     "output_type": "execute_result"
    }
   ],
   "source": [
    "df2.head()"
   ]
  },
  {
   "cell_type": "code",
   "execution_count": 95,
   "id": "612a53c2",
   "metadata": {},
   "outputs": [
    {
     "data": {
      "application/vnd.plotly.v1+json": {
       "config": {
        "linkText": "Export to plot.ly",
        "plotlyServerURL": "https://plot.ly",
        "showLink": true
       },
       "data": [
        {
         "colorscale": [
          [
           0,
           "rgb(255,255,217)"
          ],
          [
           0.125,
           "rgb(237,248,177)"
          ],
          [
           0.25,
           "rgb(199,233,180)"
          ],
          [
           0.375,
           "rgb(127,205,187)"
          ],
          [
           0.5,
           "rgb(65,182,196)"
          ],
          [
           0.625,
           "rgb(29,145,192)"
          ],
          [
           0.75,
           "rgb(34,94,168)"
          ],
          [
           0.875,
           "rgb(37,52,148)"
          ],
          [
           1,
           "rgb(8,29,88)"
          ]
         ],
         "type": "surface",
         "x": [
          0,
          1,
          2,
          3
         ],
         "y": [
          "X",
          "Y",
          "Z"
         ],
         "z": [
          [
           10,
           20,
           30,
           40
          ],
          [
           10,
           20,
           30,
           40
          ],
          [
           10,
           20,
           30,
           40
          ]
         ]
        }
       ],
       "layout": {
        "legend": {
         "bgcolor": "#151516",
         "font": {
          "color": "#D9D9D9"
         }
        },
        "paper_bgcolor": "#151516",
        "plot_bgcolor": "#151516",
        "template": {
         "data": {
          "bar": [
           {
            "error_x": {
             "color": "#2a3f5f"
            },
            "error_y": {
             "color": "#2a3f5f"
            },
            "marker": {
             "line": {
              "color": "#E5ECF6",
              "width": 0.5
             },
             "pattern": {
              "fillmode": "overlay",
              "size": 10,
              "solidity": 0.2
             }
            },
            "type": "bar"
           }
          ],
          "barpolar": [
           {
            "marker": {
             "line": {
              "color": "#E5ECF6",
              "width": 0.5
             },
             "pattern": {
              "fillmode": "overlay",
              "size": 10,
              "solidity": 0.2
             }
            },
            "type": "barpolar"
           }
          ],
          "carpet": [
           {
            "aaxis": {
             "endlinecolor": "#2a3f5f",
             "gridcolor": "white",
             "linecolor": "white",
             "minorgridcolor": "white",
             "startlinecolor": "#2a3f5f"
            },
            "baxis": {
             "endlinecolor": "#2a3f5f",
             "gridcolor": "white",
             "linecolor": "white",
             "minorgridcolor": "white",
             "startlinecolor": "#2a3f5f"
            },
            "type": "carpet"
           }
          ],
          "choropleth": [
           {
            "colorbar": {
             "outlinewidth": 0,
             "ticks": ""
            },
            "type": "choropleth"
           }
          ],
          "contour": [
           {
            "colorbar": {
             "outlinewidth": 0,
             "ticks": ""
            },
            "colorscale": [
             [
              0,
              "#0d0887"
             ],
             [
              0.1111111111111111,
              "#46039f"
             ],
             [
              0.2222222222222222,
              "#7201a8"
             ],
             [
              0.3333333333333333,
              "#9c179e"
             ],
             [
              0.4444444444444444,
              "#bd3786"
             ],
             [
              0.5555555555555556,
              "#d8576b"
             ],
             [
              0.6666666666666666,
              "#ed7953"
             ],
             [
              0.7777777777777778,
              "#fb9f3a"
             ],
             [
              0.8888888888888888,
              "#fdca26"
             ],
             [
              1,
              "#f0f921"
             ]
            ],
            "type": "contour"
           }
          ],
          "contourcarpet": [
           {
            "colorbar": {
             "outlinewidth": 0,
             "ticks": ""
            },
            "type": "contourcarpet"
           }
          ],
          "heatmap": [
           {
            "colorbar": {
             "outlinewidth": 0,
             "ticks": ""
            },
            "colorscale": [
             [
              0,
              "#0d0887"
             ],
             [
              0.1111111111111111,
              "#46039f"
             ],
             [
              0.2222222222222222,
              "#7201a8"
             ],
             [
              0.3333333333333333,
              "#9c179e"
             ],
             [
              0.4444444444444444,
              "#bd3786"
             ],
             [
              0.5555555555555556,
              "#d8576b"
             ],
             [
              0.6666666666666666,
              "#ed7953"
             ],
             [
              0.7777777777777778,
              "#fb9f3a"
             ],
             [
              0.8888888888888888,
              "#fdca26"
             ],
             [
              1,
              "#f0f921"
             ]
            ],
            "type": "heatmap"
           }
          ],
          "heatmapgl": [
           {
            "colorbar": {
             "outlinewidth": 0,
             "ticks": ""
            },
            "colorscale": [
             [
              0,
              "#0d0887"
             ],
             [
              0.1111111111111111,
              "#46039f"
             ],
             [
              0.2222222222222222,
              "#7201a8"
             ],
             [
              0.3333333333333333,
              "#9c179e"
             ],
             [
              0.4444444444444444,
              "#bd3786"
             ],
             [
              0.5555555555555556,
              "#d8576b"
             ],
             [
              0.6666666666666666,
              "#ed7953"
             ],
             [
              0.7777777777777778,
              "#fb9f3a"
             ],
             [
              0.8888888888888888,
              "#fdca26"
             ],
             [
              1,
              "#f0f921"
             ]
            ],
            "type": "heatmapgl"
           }
          ],
          "histogram": [
           {
            "marker": {
             "pattern": {
              "fillmode": "overlay",
              "size": 10,
              "solidity": 0.2
             }
            },
            "type": "histogram"
           }
          ],
          "histogram2d": [
           {
            "colorbar": {
             "outlinewidth": 0,
             "ticks": ""
            },
            "colorscale": [
             [
              0,
              "#0d0887"
             ],
             [
              0.1111111111111111,
              "#46039f"
             ],
             [
              0.2222222222222222,
              "#7201a8"
             ],
             [
              0.3333333333333333,
              "#9c179e"
             ],
             [
              0.4444444444444444,
              "#bd3786"
             ],
             [
              0.5555555555555556,
              "#d8576b"
             ],
             [
              0.6666666666666666,
              "#ed7953"
             ],
             [
              0.7777777777777778,
              "#fb9f3a"
             ],
             [
              0.8888888888888888,
              "#fdca26"
             ],
             [
              1,
              "#f0f921"
             ]
            ],
            "type": "histogram2d"
           }
          ],
          "histogram2dcontour": [
           {
            "colorbar": {
             "outlinewidth": 0,
             "ticks": ""
            },
            "colorscale": [
             [
              0,
              "#0d0887"
             ],
             [
              0.1111111111111111,
              "#46039f"
             ],
             [
              0.2222222222222222,
              "#7201a8"
             ],
             [
              0.3333333333333333,
              "#9c179e"
             ],
             [
              0.4444444444444444,
              "#bd3786"
             ],
             [
              0.5555555555555556,
              "#d8576b"
             ],
             [
              0.6666666666666666,
              "#ed7953"
             ],
             [
              0.7777777777777778,
              "#fb9f3a"
             ],
             [
              0.8888888888888888,
              "#fdca26"
             ],
             [
              1,
              "#f0f921"
             ]
            ],
            "type": "histogram2dcontour"
           }
          ],
          "mesh3d": [
           {
            "colorbar": {
             "outlinewidth": 0,
             "ticks": ""
            },
            "type": "mesh3d"
           }
          ],
          "parcoords": [
           {
            "line": {
             "colorbar": {
              "outlinewidth": 0,
              "ticks": ""
             }
            },
            "type": "parcoords"
           }
          ],
          "pie": [
           {
            "automargin": true,
            "type": "pie"
           }
          ],
          "scatter": [
           {
            "fillpattern": {
             "fillmode": "overlay",
             "size": 10,
             "solidity": 0.2
            },
            "type": "scatter"
           }
          ],
          "scatter3d": [
           {
            "line": {
             "colorbar": {
              "outlinewidth": 0,
              "ticks": ""
             }
            },
            "marker": {
             "colorbar": {
              "outlinewidth": 0,
              "ticks": ""
             }
            },
            "type": "scatter3d"
           }
          ],
          "scattercarpet": [
           {
            "marker": {
             "colorbar": {
              "outlinewidth": 0,
              "ticks": ""
             }
            },
            "type": "scattercarpet"
           }
          ],
          "scattergeo": [
           {
            "marker": {
             "colorbar": {
              "outlinewidth": 0,
              "ticks": ""
             }
            },
            "type": "scattergeo"
           }
          ],
          "scattergl": [
           {
            "marker": {
             "colorbar": {
              "outlinewidth": 0,
              "ticks": ""
             }
            },
            "type": "scattergl"
           }
          ],
          "scattermapbox": [
           {
            "marker": {
             "colorbar": {
              "outlinewidth": 0,
              "ticks": ""
             }
            },
            "type": "scattermapbox"
           }
          ],
          "scatterpolar": [
           {
            "marker": {
             "colorbar": {
              "outlinewidth": 0,
              "ticks": ""
             }
            },
            "type": "scatterpolar"
           }
          ],
          "scatterpolargl": [
           {
            "marker": {
             "colorbar": {
              "outlinewidth": 0,
              "ticks": ""
             }
            },
            "type": "scatterpolargl"
           }
          ],
          "scatterternary": [
           {
            "marker": {
             "colorbar": {
              "outlinewidth": 0,
              "ticks": ""
             }
            },
            "type": "scatterternary"
           }
          ],
          "surface": [
           {
            "colorbar": {
             "outlinewidth": 0,
             "ticks": ""
            },
            "colorscale": [
             [
              0,
              "#0d0887"
             ],
             [
              0.1111111111111111,
              "#46039f"
             ],
             [
              0.2222222222222222,
              "#7201a8"
             ],
             [
              0.3333333333333333,
              "#9c179e"
             ],
             [
              0.4444444444444444,
              "#bd3786"
             ],
             [
              0.5555555555555556,
              "#d8576b"
             ],
             [
              0.6666666666666666,
              "#ed7953"
             ],
             [
              0.7777777777777778,
              "#fb9f3a"
             ],
             [
              0.8888888888888888,
              "#fdca26"
             ],
             [
              1,
              "#f0f921"
             ]
            ],
            "type": "surface"
           }
          ],
          "table": [
           {
            "cells": {
             "fill": {
              "color": "#EBF0F8"
             },
             "line": {
              "color": "white"
             }
            },
            "header": {
             "fill": {
              "color": "#C8D4E3"
             },
             "line": {
              "color": "white"
             }
            },
            "type": "table"
           }
          ]
         },
         "layout": {
          "annotationdefaults": {
           "arrowcolor": "#2a3f5f",
           "arrowhead": 0,
           "arrowwidth": 1
          },
          "autotypenumbers": "strict",
          "coloraxis": {
           "colorbar": {
            "outlinewidth": 0,
            "ticks": ""
           }
          },
          "colorscale": {
           "diverging": [
            [
             0,
             "#8e0152"
            ],
            [
             0.1,
             "#c51b7d"
            ],
            [
             0.2,
             "#de77ae"
            ],
            [
             0.3,
             "#f1b6da"
            ],
            [
             0.4,
             "#fde0ef"
            ],
            [
             0.5,
             "#f7f7f7"
            ],
            [
             0.6,
             "#e6f5d0"
            ],
            [
             0.7,
             "#b8e186"
            ],
            [
             0.8,
             "#7fbc41"
            ],
            [
             0.9,
             "#4d9221"
            ],
            [
             1,
             "#276419"
            ]
           ],
           "sequential": [
            [
             0,
             "#0d0887"
            ],
            [
             0.1111111111111111,
             "#46039f"
            ],
            [
             0.2222222222222222,
             "#7201a8"
            ],
            [
             0.3333333333333333,
             "#9c179e"
            ],
            [
             0.4444444444444444,
             "#bd3786"
            ],
            [
             0.5555555555555556,
             "#d8576b"
            ],
            [
             0.6666666666666666,
             "#ed7953"
            ],
            [
             0.7777777777777778,
             "#fb9f3a"
            ],
            [
             0.8888888888888888,
             "#fdca26"
            ],
            [
             1,
             "#f0f921"
            ]
           ],
           "sequentialminus": [
            [
             0,
             "#0d0887"
            ],
            [
             0.1111111111111111,
             "#46039f"
            ],
            [
             0.2222222222222222,
             "#7201a8"
            ],
            [
             0.3333333333333333,
             "#9c179e"
            ],
            [
             0.4444444444444444,
             "#bd3786"
            ],
            [
             0.5555555555555556,
             "#d8576b"
            ],
            [
             0.6666666666666666,
             "#ed7953"
            ],
            [
             0.7777777777777778,
             "#fb9f3a"
            ],
            [
             0.8888888888888888,
             "#fdca26"
            ],
            [
             1,
             "#f0f921"
            ]
           ]
          },
          "colorway": [
           "#636efa",
           "#EF553B",
           "#00cc96",
           "#ab63fa",
           "#FFA15A",
           "#19d3f3",
           "#FF6692",
           "#B6E880",
           "#FF97FF",
           "#FECB52"
          ],
          "font": {
           "color": "#2a3f5f"
          },
          "geo": {
           "bgcolor": "white",
           "lakecolor": "white",
           "landcolor": "#E5ECF6",
           "showlakes": true,
           "showland": true,
           "subunitcolor": "white"
          },
          "hoverlabel": {
           "align": "left"
          },
          "hovermode": "closest",
          "mapbox": {
           "style": "light"
          },
          "paper_bgcolor": "white",
          "plot_bgcolor": "#E5ECF6",
          "polar": {
           "angularaxis": {
            "gridcolor": "white",
            "linecolor": "white",
            "ticks": ""
           },
           "bgcolor": "#E5ECF6",
           "radialaxis": {
            "gridcolor": "white",
            "linecolor": "white",
            "ticks": ""
           }
          },
          "scene": {
           "xaxis": {
            "backgroundcolor": "#E5ECF6",
            "gridcolor": "white",
            "gridwidth": 2,
            "linecolor": "white",
            "showbackground": true,
            "ticks": "",
            "zerolinecolor": "white"
           },
           "yaxis": {
            "backgroundcolor": "#E5ECF6",
            "gridcolor": "white",
            "gridwidth": 2,
            "linecolor": "white",
            "showbackground": true,
            "ticks": "",
            "zerolinecolor": "white"
           },
           "zaxis": {
            "backgroundcolor": "#E5ECF6",
            "gridcolor": "white",
            "gridwidth": 2,
            "linecolor": "white",
            "showbackground": true,
            "ticks": "",
            "zerolinecolor": "white"
           }
          },
          "shapedefaults": {
           "line": {
            "color": "#2a3f5f"
           }
          },
          "ternary": {
           "aaxis": {
            "gridcolor": "white",
            "linecolor": "white",
            "ticks": ""
           },
           "baxis": {
            "gridcolor": "white",
            "linecolor": "white",
            "ticks": ""
           },
           "bgcolor": "#E5ECF6",
           "caxis": {
            "gridcolor": "white",
            "linecolor": "white",
            "ticks": ""
           }
          },
          "title": {
           "x": 0.05
          },
          "xaxis": {
           "automargin": true,
           "gridcolor": "white",
           "linecolor": "white",
           "ticks": "",
           "title": {
            "standoff": 15
           },
           "zerolinecolor": "white",
           "zerolinewidth": 2
          },
          "yaxis": {
           "automargin": true,
           "gridcolor": "white",
           "linecolor": "white",
           "ticks": "",
           "title": {
            "standoff": 15
           },
           "zerolinecolor": "white",
           "zerolinewidth": 2
          }
         }
        },
        "title": {
         "font": {
          "color": "#D9D9D9"
         }
        },
        "xaxis": {
         "gridcolor": "#434343",
         "showgrid": true,
         "tickfont": {
          "color": "#C2C2C2"
         },
         "title": {
          "font": {
           "color": "#D9D9D9"
          },
          "text": ""
         },
         "zerolinecolor": "#666570"
        },
        "yaxis": {
         "gridcolor": "#434343",
         "showgrid": true,
         "tickfont": {
          "color": "#C2C2C2"
         },
         "title": {
          "font": {
           "color": "#D9D9D9"
          },
          "text": ""
         },
         "zerolinecolor": "#666570"
        }
       }
      },
      "text/html": [
       "<div>                            <div id=\"ae8a5584-c848-440b-875b-c9e62801a4c3\" class=\"plotly-graph-div\" style=\"height:525px; width:100%;\"></div>            <script type=\"text/javascript\">                require([\"plotly\"], function(Plotly) {                    window.PLOTLYENV=window.PLOTLYENV || {};\n",
       "                    window.PLOTLYENV.BASE_URL='https://plot.ly';                                    if (document.getElementById(\"ae8a5584-c848-440b-875b-c9e62801a4c3\")) {                    Plotly.newPlot(                        \"ae8a5584-c848-440b-875b-c9e62801a4c3\",                        [{\"colorscale\":[[0.0,\"rgb(255,255,217)\"],[0.125,\"rgb(237,248,177)\"],[0.25,\"rgb(199,233,180)\"],[0.375,\"rgb(127,205,187)\"],[0.5,\"rgb(65,182,196)\"],[0.625,\"rgb(29,145,192)\"],[0.75,\"rgb(34,94,168)\"],[0.875,\"rgb(37,52,148)\"],[1.0,\"rgb(8,29,88)\"]],\"x\":[0,1,2,3],\"y\":[\"X\",\"Y\",\"Z\"],\"z\":[[10,20,30,40],[10,20,30,40],[10,20,30,40]],\"type\":\"surface\"}],                        {\"legend\":{\"bgcolor\":\"#151516\",\"font\":{\"color\":\"#D9D9D9\"}},\"paper_bgcolor\":\"#151516\",\"plot_bgcolor\":\"#151516\",\"template\":{\"data\":{\"barpolar\":[{\"marker\":{\"line\":{\"color\":\"#E5ECF6\",\"width\":0.5},\"pattern\":{\"fillmode\":\"overlay\",\"size\":10,\"solidity\":0.2}},\"type\":\"barpolar\"}],\"bar\":[{\"error_x\":{\"color\":\"#2a3f5f\"},\"error_y\":{\"color\":\"#2a3f5f\"},\"marker\":{\"line\":{\"color\":\"#E5ECF6\",\"width\":0.5},\"pattern\":{\"fillmode\":\"overlay\",\"size\":10,\"solidity\":0.2}},\"type\":\"bar\"}],\"carpet\":[{\"aaxis\":{\"endlinecolor\":\"#2a3f5f\",\"gridcolor\":\"white\",\"linecolor\":\"white\",\"minorgridcolor\":\"white\",\"startlinecolor\":\"#2a3f5f\"},\"baxis\":{\"endlinecolor\":\"#2a3f5f\",\"gridcolor\":\"white\",\"linecolor\":\"white\",\"minorgridcolor\":\"white\",\"startlinecolor\":\"#2a3f5f\"},\"type\":\"carpet\"}],\"choropleth\":[{\"colorbar\":{\"outlinewidth\":0,\"ticks\":\"\"},\"type\":\"choropleth\"}],\"contourcarpet\":[{\"colorbar\":{\"outlinewidth\":0,\"ticks\":\"\"},\"type\":\"contourcarpet\"}],\"contour\":[{\"colorbar\":{\"outlinewidth\":0,\"ticks\":\"\"},\"colorscale\":[[0.0,\"#0d0887\"],[0.1111111111111111,\"#46039f\"],[0.2222222222222222,\"#7201a8\"],[0.3333333333333333,\"#9c179e\"],[0.4444444444444444,\"#bd3786\"],[0.5555555555555556,\"#d8576b\"],[0.6666666666666666,\"#ed7953\"],[0.7777777777777778,\"#fb9f3a\"],[0.8888888888888888,\"#fdca26\"],[1.0,\"#f0f921\"]],\"type\":\"contour\"}],\"heatmapgl\":[{\"colorbar\":{\"outlinewidth\":0,\"ticks\":\"\"},\"colorscale\":[[0.0,\"#0d0887\"],[0.1111111111111111,\"#46039f\"],[0.2222222222222222,\"#7201a8\"],[0.3333333333333333,\"#9c179e\"],[0.4444444444444444,\"#bd3786\"],[0.5555555555555556,\"#d8576b\"],[0.6666666666666666,\"#ed7953\"],[0.7777777777777778,\"#fb9f3a\"],[0.8888888888888888,\"#fdca26\"],[1.0,\"#f0f921\"]],\"type\":\"heatmapgl\"}],\"heatmap\":[{\"colorbar\":{\"outlinewidth\":0,\"ticks\":\"\"},\"colorscale\":[[0.0,\"#0d0887\"],[0.1111111111111111,\"#46039f\"],[0.2222222222222222,\"#7201a8\"],[0.3333333333333333,\"#9c179e\"],[0.4444444444444444,\"#bd3786\"],[0.5555555555555556,\"#d8576b\"],[0.6666666666666666,\"#ed7953\"],[0.7777777777777778,\"#fb9f3a\"],[0.8888888888888888,\"#fdca26\"],[1.0,\"#f0f921\"]],\"type\":\"heatmap\"}],\"histogram2dcontour\":[{\"colorbar\":{\"outlinewidth\":0,\"ticks\":\"\"},\"colorscale\":[[0.0,\"#0d0887\"],[0.1111111111111111,\"#46039f\"],[0.2222222222222222,\"#7201a8\"],[0.3333333333333333,\"#9c179e\"],[0.4444444444444444,\"#bd3786\"],[0.5555555555555556,\"#d8576b\"],[0.6666666666666666,\"#ed7953\"],[0.7777777777777778,\"#fb9f3a\"],[0.8888888888888888,\"#fdca26\"],[1.0,\"#f0f921\"]],\"type\":\"histogram2dcontour\"}],\"histogram2d\":[{\"colorbar\":{\"outlinewidth\":0,\"ticks\":\"\"},\"colorscale\":[[0.0,\"#0d0887\"],[0.1111111111111111,\"#46039f\"],[0.2222222222222222,\"#7201a8\"],[0.3333333333333333,\"#9c179e\"],[0.4444444444444444,\"#bd3786\"],[0.5555555555555556,\"#d8576b\"],[0.6666666666666666,\"#ed7953\"],[0.7777777777777778,\"#fb9f3a\"],[0.8888888888888888,\"#fdca26\"],[1.0,\"#f0f921\"]],\"type\":\"histogram2d\"}],\"histogram\":[{\"marker\":{\"pattern\":{\"fillmode\":\"overlay\",\"size\":10,\"solidity\":0.2}},\"type\":\"histogram\"}],\"mesh3d\":[{\"colorbar\":{\"outlinewidth\":0,\"ticks\":\"\"},\"type\":\"mesh3d\"}],\"parcoords\":[{\"line\":{\"colorbar\":{\"outlinewidth\":0,\"ticks\":\"\"}},\"type\":\"parcoords\"}],\"pie\":[{\"automargin\":true,\"type\":\"pie\"}],\"scatter3d\":[{\"line\":{\"colorbar\":{\"outlinewidth\":0,\"ticks\":\"\"}},\"marker\":{\"colorbar\":{\"outlinewidth\":0,\"ticks\":\"\"}},\"type\":\"scatter3d\"}],\"scattercarpet\":[{\"marker\":{\"colorbar\":{\"outlinewidth\":0,\"ticks\":\"\"}},\"type\":\"scattercarpet\"}],\"scattergeo\":[{\"marker\":{\"colorbar\":{\"outlinewidth\":0,\"ticks\":\"\"}},\"type\":\"scattergeo\"}],\"scattergl\":[{\"marker\":{\"colorbar\":{\"outlinewidth\":0,\"ticks\":\"\"}},\"type\":\"scattergl\"}],\"scattermapbox\":[{\"marker\":{\"colorbar\":{\"outlinewidth\":0,\"ticks\":\"\"}},\"type\":\"scattermapbox\"}],\"scatterpolargl\":[{\"marker\":{\"colorbar\":{\"outlinewidth\":0,\"ticks\":\"\"}},\"type\":\"scatterpolargl\"}],\"scatterpolar\":[{\"marker\":{\"colorbar\":{\"outlinewidth\":0,\"ticks\":\"\"}},\"type\":\"scatterpolar\"}],\"scatter\":[{\"fillpattern\":{\"fillmode\":\"overlay\",\"size\":10,\"solidity\":0.2},\"type\":\"scatter\"}],\"scatterternary\":[{\"marker\":{\"colorbar\":{\"outlinewidth\":0,\"ticks\":\"\"}},\"type\":\"scatterternary\"}],\"surface\":[{\"colorbar\":{\"outlinewidth\":0,\"ticks\":\"\"},\"colorscale\":[[0.0,\"#0d0887\"],[0.1111111111111111,\"#46039f\"],[0.2222222222222222,\"#7201a8\"],[0.3333333333333333,\"#9c179e\"],[0.4444444444444444,\"#bd3786\"],[0.5555555555555556,\"#d8576b\"],[0.6666666666666666,\"#ed7953\"],[0.7777777777777778,\"#fb9f3a\"],[0.8888888888888888,\"#fdca26\"],[1.0,\"#f0f921\"]],\"type\":\"surface\"}],\"table\":[{\"cells\":{\"fill\":{\"color\":\"#EBF0F8\"},\"line\":{\"color\":\"white\"}},\"header\":{\"fill\":{\"color\":\"#C8D4E3\"},\"line\":{\"color\":\"white\"}},\"type\":\"table\"}]},\"layout\":{\"annotationdefaults\":{\"arrowcolor\":\"#2a3f5f\",\"arrowhead\":0,\"arrowwidth\":1},\"autotypenumbers\":\"strict\",\"coloraxis\":{\"colorbar\":{\"outlinewidth\":0,\"ticks\":\"\"}},\"colorscale\":{\"diverging\":[[0,\"#8e0152\"],[0.1,\"#c51b7d\"],[0.2,\"#de77ae\"],[0.3,\"#f1b6da\"],[0.4,\"#fde0ef\"],[0.5,\"#f7f7f7\"],[0.6,\"#e6f5d0\"],[0.7,\"#b8e186\"],[0.8,\"#7fbc41\"],[0.9,\"#4d9221\"],[1,\"#276419\"]],\"sequential\":[[0.0,\"#0d0887\"],[0.1111111111111111,\"#46039f\"],[0.2222222222222222,\"#7201a8\"],[0.3333333333333333,\"#9c179e\"],[0.4444444444444444,\"#bd3786\"],[0.5555555555555556,\"#d8576b\"],[0.6666666666666666,\"#ed7953\"],[0.7777777777777778,\"#fb9f3a\"],[0.8888888888888888,\"#fdca26\"],[1.0,\"#f0f921\"]],\"sequentialminus\":[[0.0,\"#0d0887\"],[0.1111111111111111,\"#46039f\"],[0.2222222222222222,\"#7201a8\"],[0.3333333333333333,\"#9c179e\"],[0.4444444444444444,\"#bd3786\"],[0.5555555555555556,\"#d8576b\"],[0.6666666666666666,\"#ed7953\"],[0.7777777777777778,\"#fb9f3a\"],[0.8888888888888888,\"#fdca26\"],[1.0,\"#f0f921\"]]},\"colorway\":[\"#636efa\",\"#EF553B\",\"#00cc96\",\"#ab63fa\",\"#FFA15A\",\"#19d3f3\",\"#FF6692\",\"#B6E880\",\"#FF97FF\",\"#FECB52\"],\"font\":{\"color\":\"#2a3f5f\"},\"geo\":{\"bgcolor\":\"white\",\"lakecolor\":\"white\",\"landcolor\":\"#E5ECF6\",\"showlakes\":true,\"showland\":true,\"subunitcolor\":\"white\"},\"hoverlabel\":{\"align\":\"left\"},\"hovermode\":\"closest\",\"mapbox\":{\"style\":\"light\"},\"paper_bgcolor\":\"white\",\"plot_bgcolor\":\"#E5ECF6\",\"polar\":{\"angularaxis\":{\"gridcolor\":\"white\",\"linecolor\":\"white\",\"ticks\":\"\"},\"bgcolor\":\"#E5ECF6\",\"radialaxis\":{\"gridcolor\":\"white\",\"linecolor\":\"white\",\"ticks\":\"\"}},\"scene\":{\"xaxis\":{\"backgroundcolor\":\"#E5ECF6\",\"gridcolor\":\"white\",\"gridwidth\":2,\"linecolor\":\"white\",\"showbackground\":true,\"ticks\":\"\",\"zerolinecolor\":\"white\"},\"yaxis\":{\"backgroundcolor\":\"#E5ECF6\",\"gridcolor\":\"white\",\"gridwidth\":2,\"linecolor\":\"white\",\"showbackground\":true,\"ticks\":\"\",\"zerolinecolor\":\"white\"},\"zaxis\":{\"backgroundcolor\":\"#E5ECF6\",\"gridcolor\":\"white\",\"gridwidth\":2,\"linecolor\":\"white\",\"showbackground\":true,\"ticks\":\"\",\"zerolinecolor\":\"white\"}},\"shapedefaults\":{\"line\":{\"color\":\"#2a3f5f\"}},\"ternary\":{\"aaxis\":{\"gridcolor\":\"white\",\"linecolor\":\"white\",\"ticks\":\"\"},\"baxis\":{\"gridcolor\":\"white\",\"linecolor\":\"white\",\"ticks\":\"\"},\"bgcolor\":\"#E5ECF6\",\"caxis\":{\"gridcolor\":\"white\",\"linecolor\":\"white\",\"ticks\":\"\"}},\"title\":{\"x\":0.05},\"xaxis\":{\"automargin\":true,\"gridcolor\":\"white\",\"linecolor\":\"white\",\"ticks\":\"\",\"title\":{\"standoff\":15},\"zerolinecolor\":\"white\",\"zerolinewidth\":2},\"yaxis\":{\"automargin\":true,\"gridcolor\":\"white\",\"linecolor\":\"white\",\"ticks\":\"\",\"title\":{\"standoff\":15},\"zerolinecolor\":\"white\",\"zerolinewidth\":2}}},\"title\":{\"font\":{\"color\":\"#D9D9D9\"}},\"xaxis\":{\"gridcolor\":\"#434343\",\"showgrid\":true,\"tickfont\":{\"color\":\"#C2C2C2\"},\"title\":{\"font\":{\"color\":\"#D9D9D9\"},\"text\":\"\"},\"zerolinecolor\":\"#666570\"},\"yaxis\":{\"gridcolor\":\"#434343\",\"showgrid\":true,\"tickfont\":{\"color\":\"#C2C2C2\"},\"title\":{\"font\":{\"color\":\"#D9D9D9\"},\"text\":\"\"},\"zerolinecolor\":\"#666570\"}},                        {\"showLink\": true, \"linkText\": \"Export to plot.ly\", \"plotlyServerURL\": \"https://plot.ly\", \"responsive\": true}                    ).then(function(){\n",
       "                            \n",
       "var gd = document.getElementById('ae8a5584-c848-440b-875b-c9e62801a4c3');\n",
       "var x = new MutationObserver(function (mutations, observer) {{\n",
       "        var display = window.getComputedStyle(gd).display;\n",
       "        if (!display || display === 'none') {{\n",
       "            console.log([gd, 'removed!']);\n",
       "            Plotly.purge(gd);\n",
       "            observer.disconnect();\n",
       "        }}\n",
       "}});\n",
       "\n",
       "// Listen for the removal of the full notebook cells\n",
       "var notebookContainer = gd.closest('#notebook-container');\n",
       "if (notebookContainer) {{\n",
       "    x.observe(notebookContainer, {childList: true});\n",
       "}}\n",
       "\n",
       "// Listen for the clearing of the current output cell\n",
       "var outputEl = gd.closest('.output');\n",
       "if (outputEl) {{\n",
       "    x.observe(outputEl, {childList: true});\n",
       "}}\n",
       "\n",
       "                        })                };                });            </script>        </div>"
      ]
     },
     "metadata": {},
     "output_type": "display_data"
    }
   ],
   "source": [
    "df2.iplot(kind='surface',colorscale='YlGnBu')"
   ]
  },
  {
   "cell_type": "code",
   "execution_count": 96,
   "id": "4d590cc9",
   "metadata": {},
   "outputs": [
    {
     "name": "stderr",
     "output_type": "stream",
     "text": [
      "C:\\Users\\Muthu\\anaconda3\\lib\\site-packages\\cufflinks\\datagen.py:380: RuntimeWarning:\n",
      "\n",
      "invalid value encountered in divide\n",
      "\n"
     ]
    },
    {
     "data": {
      "application/vnd.plotly.v1+json": {
       "config": {
        "linkText": "Export to plot.ly",
        "plotlyServerURL": "https://plot.ly",
        "showLink": true
       },
       "data": [
        {
         "colorscale": [
          [
           0,
           "rgb(255, 153, 51)"
          ],
          [
           0.1111111111111111,
           "rgb(55, 128, 191)"
          ],
          [
           0.2222222222222222,
           "rgb(50, 171, 96)"
          ],
          [
           0.3333333333333333,
           "rgb(128, 0, 128)"
          ],
          [
           0.4444444444444444,
           "rgb(219, 64, 82)"
          ],
          [
           0.5555555555555556,
           "rgb(0, 128, 128)"
          ],
          [
           0.6666666666666666,
           "rgb(255, 255, 51)"
          ],
          [
           0.7777777777777778,
           "rgb(128, 128, 0)"
          ],
          [
           0.8888888888888888,
           "rgb(251, 128, 114)"
          ],
          [
           1,
           "rgb(128, 177, 211)"
          ]
         ],
         "type": "surface",
         "x": [
          -10,
          -9.75,
          -9.5,
          -9.25,
          -9,
          -8.75,
          -8.5,
          -8.25,
          -8,
          -7.75,
          -7.5,
          -7.25,
          -7,
          -6.75,
          -6.5,
          -6.25,
          -6,
          -5.75,
          -5.5,
          -5.25,
          -5,
          -4.75,
          -4.5,
          -4.25,
          -4,
          -3.75,
          -3.5,
          -3.25,
          -3,
          -2.75,
          -2.5,
          -2.25,
          -2,
          -1.75,
          -1.5,
          -1.25,
          -1,
          -0.75,
          -0.5,
          -0.25,
          0,
          0.25,
          0.5,
          0.75,
          1,
          1.25,
          1.5,
          1.75,
          2,
          2.25,
          2.5,
          2.75,
          3,
          3.25,
          3.5,
          3.75,
          4,
          4.25,
          4.5,
          4.75,
          5,
          5.25,
          5.5,
          5.75,
          6,
          6.25,
          6.5,
          6.75,
          7,
          7.25,
          7.5,
          7.75,
          8,
          8.25,
          8.5,
          8.75,
          9,
          9.25,
          9.5,
          9.75
         ],
         "y": [
          -10,
          -9.75,
          -9.5,
          -9.25,
          -9,
          -8.75,
          -8.5,
          -8.25,
          -8,
          -7.75,
          -7.5,
          -7.25,
          -7,
          -6.75,
          -6.5,
          -6.25,
          -6,
          -5.75,
          -5.5,
          -5.25,
          -5,
          -4.75,
          -4.5,
          -4.25,
          -4,
          -3.75,
          -3.5,
          -3.25,
          -3,
          -2.75,
          -2.5,
          -2.25,
          -2,
          -1.75,
          -1.5,
          -1.25,
          -1,
          -0.75,
          -0.5,
          -0.25,
          0,
          0.25,
          0.5,
          0.75,
          1,
          1.25,
          1.5,
          1.75,
          2,
          2.25,
          2.5,
          2.75,
          3,
          3.25,
          3.5,
          3.75,
          4,
          4.25,
          4.5,
          4.75,
          5,
          5.25,
          5.5,
          5.75,
          6,
          6.25,
          6.5,
          6.75,
          7,
          7.25,
          7.5,
          7.75,
          8,
          8.25,
          8.5,
          8.75,
          9,
          9.25,
          9.5,
          9.75
         ],
         "z": [
          [
           0.14141961054935853,
           0.14111903500315878,
           0.13650222610828716,
           0.12777380562398274,
           0.11526115097856117,
           0.0993958462307399,
           0.08069235790121831,
           0.059725017515438364,
           0.037104384846577534,
           0.013454008098850966,
           -0.01061150357619211,
           -0.0345063152690242,
           -0.05769048962428924,
           -0.07968395387291566,
           -0.10007704610444179,
           -0.11853755153953284,
           -0.13481430178982187,
           -0.1487375524385824,
           -0.16021647158282734,
           -0.16923416092386775,
           -0.17584069010379264,
           -0.1801446545297837,
           -0.18230376872794093,
           -0.18251498442862385,
           -0.18100457917857166,
           -0.17801860199902664,
           -0.1738139924448547,
           -0.16865061331126227,
           -0.16278435980926842,
           -0.15646143337355978,
           -0.1499137997580331,
           -0.14335579129849668,
           -0.13698176393514344,
           -0.13096468174943518,
           -0.1254554756233313,
           -0.12058300781296416,
           -0.1164544699167505,
           -0.1131560467581887,
           -0.1107536917561867,
           -0.10929387900894774,
           -0.10880422217787396,
           -0.10929387900894774,
           -0.1107536917561867,
           -0.1131560467581887,
           -0.1164544699167505,
           -0.12058300781296416,
           -0.1254554756233313,
           -0.13096468174943518,
           -0.13698176393514344,
           -0.14335579129849668,
           -0.1499137997580331,
           -0.15646143337355978,
           -0.16278435980926842,
           -0.16865061331126227,
           -0.1738139924448547,
           -0.17801860199902664,
           -0.18100457917857166,
           -0.18251498442862385,
           -0.18230376872794093,
           -0.1801446545297837,
           -0.17584069010379264,
           -0.16923416092386775,
           -0.16021647158282734,
           -0.1487375524385824,
           -0.13481430178982187,
           -0.11853755153953284,
           -0.10007704610444179,
           -0.07968395387291566,
           -0.05769048962428924,
           -0.0345063152690242,
           -0.01061150357619211,
           0.013454008098850966,
           0.037104384846577534,
           0.059725017515438364,
           0.08069235790121831,
           0.0993958462307399,
           0.11526115097856117,
           0.12777380562398274,
           0.13650222610828716,
           0.14111903500315878
          ],
          [
           0.14111903500315878,
           0.13632396086944565,
           0.12719030582037316,
           0.11405907878471819,
           0.09738828403656238,
           0.07773008237271903,
           0.05570574218106777,
           0.03197958453286062,
           0.007233082355737275,
           -0.017859822184363938,
           -0.042655257000177006,
           -0.06655906279410359,
           -0.08904297911487404,
           -0.10965701691843574,
           -0.12803786284735597,
           -0.14391335124448024,
           -0.15710321083861073,
           -0.16751643729146143,
           -0.1751457556394694,
           -0.1800597155006458,
           -0.18239300622958532,
           -0.18233559039097344,
           -0.18012123502583363,
           -0.1760159755489718,
           -0.17030698199702413,
           -0.16329221750830802,
           -0.15527119023634722,
           -0.14653700801271363,
           -0.13736985507049018,
           -0.12803192632998142,
           -0.11876378051842666,
           -0.10978201113265723,
           -0.10127808535368477,
           -0.09341816596346665,
           -0.08634370978474622,
           -0.08017262722723162,
           -0.0750007897964791,
           -0.07090368426500879,
           -0.06793803188546253,
           -0.06614321685638791,
           -0.06554239869174844,
           -0.06614321685638791,
           -0.06793803188546253,
           -0.07090368426500879,
           -0.0750007897964791,
           -0.08017262722723162,
           -0.08634370978474622,
           -0.09341816596346665,
           -0.10127808535368477,
           -0.10978201113265723,
           -0.11876378051842666,
           -0.12803192632998142,
           -0.13736985507049018,
           -0.14653700801271363,
           -0.15527119023634722,
           -0.16329221750830802,
           -0.17030698199702413,
           -0.1760159755489718,
           -0.18012123502583363,
           -0.18233559039097344,
           -0.18239300622958532,
           -0.1800597155006458,
           -0.1751457556394694,
           -0.16751643729146143,
           -0.15710321083861073,
           -0.14391335124448024,
           -0.12803786284735597,
           -0.10965701691843574,
           -0.08904297911487404,
           -0.06655906279410359,
           -0.042655257000177006,
           -0.017859822184363938,
           0.007233082355737275,
           0.03197958453286062,
           0.05570574218106777,
           0.07773008237271903,
           0.09738828403656238,
           0.11405907878471819,
           0.12719030582037316,
           0.13632396086944565
          ],
          [
           0.13650222610828716,
           0.12719030582037316,
           0.1136526088802527,
           0.09636827159298987,
           0.0759235678781371,
           0.05298490441364873,
           0.028270310898122826,
           0.0025207381574719806,
           -0.023527608249201665,
           -0.04916880920228074,
           -0.07374973820785838,
           -0.09668883252747353,
           -0.11749065565570795,
           -0.13575600794040762,
           -0.1511875643863488,
           -0.163591222139663,
           -0.17287351607260817,
           -0.17903560277058095,
           -0.1821644169794075,
           -0.18242166855756492,
           -0.1800313728705813,
           -0.1752665961050691,
           -0.16843605361995675,
           -0.15987112992755653,
           -0.1499137997580331,
           -0.13890582780165694,
           -0.1271795169340972,
           -0.11505016730310495,
           -0.10281030706494565,
           -0.0907256642328181,
           -0.07903277128303789,
           -0.06793803188546253,
           -0.05761803324395176,
           -0.04822085787410071,
           -0.039868134180728126,
           -0.032657564269347995,
           -0.026665677985416577,
           -0.021950582012676394,
           -0.01855449981019833,
           -0.016505930263581485,
           -0.015821288518275644,
           -0.016505930263581485,
           -0.01855449981019833,
           -0.021950582012676394,
           -0.026665677985416577,
           -0.032657564269347995,
           -0.039868134180728126,
           -0.04822085787410071,
           -0.05761803324395176,
           -0.06793803188546253,
           -0.07903277128303789,
           -0.0907256642328181,
           -0.10281030706494565,
           -0.11505016730310495,
           -0.1271795169340972,
           -0.13890582780165694,
           -0.1499137997580331,
           -0.15987112992755653,
           -0.16843605361995675,
           -0.1752665961050691,
           -0.1800313728705813,
           -0.18242166855756492,
           -0.1821644169794075,
           -0.17903560277058095,
           -0.17287351607260817,
           -0.163591222139663,
           -0.1511875643863488,
           -0.13575600794040762,
           -0.11749065565570795,
           -0.09668883252747353,
           -0.07374973820785838,
           -0.04916880920228074,
           -0.023527608249201665,
           0.0025207381574719806,
           0.028270310898122826,
           0.05298490441364873,
           0.0759235678781371,
           0.09636827159298987,
           0.1136526088802527,
           0.12719030582037316
          ],
          [
           0.12777380562398274,
           0.11405907878471819,
           0.09636827159298987,
           0.07531659368730659,
           0.05161237775613617,
           0.026026147564044762,
           -0.0006409754282528475,
           -0.027588123185645037,
           -0.054043516875550875,
           -0.07929019757294747,
           -0.10268778525178764,
           -0.12368964794720452,
           -0.14185512230149663,
           -0.15685668268767797,
           -0.16848219583369567,
           -0.17663261032673944,
           -0.18131560690315682,
           -0.1826358700412797,
           -0.18078273088932142,
           -0.1760159755489718,
           -0.16865061331126227,
           -0.15904136091487175,
           -0.14756752732225356,
           -0.13461888616197776,
           -0.12058300781296416,
           -0.10583439818051152,
           -0.0907256642328181,
           -0.07558080422426758,
           -0.060690608986011814,
           -0.046310064114579955,
           -0.032657564269347995,
           -0.019915691575644292,
           -0.00823327044894154,
           0.0022716100207446164,
           0.011507919583092052,
           0.019407660252202565,
           0.025921773001301992,
           0.031016232090896562,
           0.03466854669458865,
           0.03686485131708162,
           0.03759772656874239,
           0.03686485131708162,
           0.03466854669458865,
           0.031016232090896562,
           0.025921773001301992,
           0.019407660252202565,
           0.011507919583092052,
           0.0022716100207446164,
           -0.00823327044894154,
           -0.019915691575644292,
           -0.032657564269347995,
           -0.046310064114579955,
           -0.060690608986011814,
           -0.07558080422426758,
           -0.0907256642328181,
           -0.10583439818051152,
           -0.12058300781296416,
           -0.13461888616197776,
           -0.14756752732225356,
           -0.15904136091487175,
           -0.16865061331126227,
           -0.1760159755489718,
           -0.18078273088932142,
           -0.1826358700412797,
           -0.18131560690315682,
           -0.17663261032673944,
           -0.16848219583369567,
           -0.15685668268767797,
           -0.14185512230149663,
           -0.12368964794720452,
           -0.10268778525178764,
           -0.07929019757294747,
           -0.054043516875550875,
           -0.027588123185645037,
           -0.0006409754282528475,
           0.026026147564044762,
           0.05161237775613617,
           0.07531659368730659,
           0.09636827159298987,
           0.11405907878471819
          ],
          [
           0.11526115097856117,
           0.09738828403656238,
           0.0759235678781371,
           0.05161237775613617,
           0.025275083284098894,
           -0.0022274559793407315,
           -0.03002807965783915,
           -0.0572857273340844,
           -0.08321475815193494,
           -0.10711012813756442,
           -0.1283676319466868,
           -0.1464987033293174,
           -0.16113955966514656,
           -0.17205475511311313,
           -0.17913546063850083,
           -0.18239300622958532,
           -0.18194839266053625,
           -0.17801860199902664,
           -0.17090060569317098,
           -0.1609539875623888,
           -0.14858307017251748,
           -0.13421936300715656,
           -0.11830504740258321,
           -0.10127808535368477,
           -0.08355939645450051,
           -0.06554239869174844,
           -0.04758506314163741,
           -0.030004497243790427,
           -0.013073952151520388,
           0.0029779491154211806,
           0.017966041941118966,
           0.031745840459068614,
           0.044209509361482956,
           0.05528095770522729,
           0.0649104168254659,
           0.07306884206017318,
           0.07974244535617742,
           0.08492762656935865,
           0.08862652853638416,
           0.09084339726921295,
           0.09158188560927924,
           0.09084339726921295,
           0.08862652853638416,
           0.08492762656935865,
           0.07974244535617742,
           0.07306884206017318,
           0.0649104168254659,
           0.05528095770522729,
           0.044209509361482956,
           0.031745840459068614,
           0.017966041941118966,
           0.0029779491154211806,
           -0.013073952151520388,
           -0.030004497243790427,
           -0.04758506314163741,
           -0.06554239869174844,
           -0.08355939645450051,
           -0.10127808535368477,
           -0.11830504740258321,
           -0.13421936300715656,
           -0.14858307017251748,
           -0.1609539875623888,
           -0.17090060569317098,
           -0.17801860199902664,
           -0.18194839266053625,
           -0.18239300622958532,
           -0.17913546063850083,
           -0.17205475511311313,
           -0.16113955966514656,
           -0.1464987033293174,
           -0.1283676319466868,
           -0.10711012813756442,
           -0.08321475815193494,
           -0.0572857273340844,
           -0.03002807965783915,
           -0.0022274559793407315,
           0.025275083284098894,
           0.05161237775613617,
           0.0759235678781371,
           0.09738828403656238
          ],
          [
           0.0993958462307399,
           0.07773008237271903,
           0.05298490441364873,
           0.026026147564044762,
           -0.0022274559793407315,
           -0.030841885736018544,
           -0.05890402451081101,
           -0.08555491563889543,
           -0.11001880232017779,
           -0.1316269478872783,
           -0.14983554931501694,
           -0.1642373823959323,
           -0.17456713788189782,
           -0.1807007071005138,
           -0.18264893898060253,
           -0.18054660691367944,
           -0.17463748569481502,
           -0.16525654180237792,
           -0.1528102839666787,
           -0.1377563081818195,
           -0.12058300781296416,
           -0.10179031338845618,
           -0.08187218787401292,
           -0.061301442485772274,
           -0.040517266401149735,
           -0.019915691575644292,
           0.0001569493213448689,
           0.019407660252202565,
           0.03759772656874239,
           0.054541276561040686,
           0.07010183827093616,
           0.08418731130237875,
           0.09674378883254962,
           0.10774865812501504,
           0.11720338291232232,
           0.12512633286074154,
           0.13154597877649798,
           0.13649472168344115,
           0.14000357308347133,
           0.14209785531573388,
           0.14279404657238684,
           0.14209785531573388,
           0.14000357308347133,
           0.13649472168344115,
           0.13154597877649798,
           0.12512633286074154,
           0.11720338291232232,
           0.10774865812501504,
           0.09674378883254962,
           0.08418731130237875,
           0.07010183827093616,
           0.054541276561040686,
           0.03759772656874239,
           0.019407660252202565,
           0.0001569493213448689,
           -0.019915691575644292,
           -0.040517266401149735,
           -0.061301442485772274,
           -0.08187218787401292,
           -0.10179031338845618,
           -0.12058300781296416,
           -0.1377563081818195,
           -0.1528102839666787,
           -0.16525654180237792,
           -0.17463748569481502,
           -0.18054660691367944,
           -0.18264893898060253,
           -0.1807007071005138,
           -0.17456713788189782,
           -0.1642373823959323,
           -0.14983554931501694,
           -0.1316269478872783,
           -0.11001880232017779,
           -0.08555491563889543,
           -0.05890402451081101,
           -0.030841885736018544,
           -0.0022274559793407315,
           0.026026147564044762,
           0.05298490441364873,
           0.07773008237271903
          ],
          [
           0.08069235790121831,
           0.05570574218106777,
           0.028270310898122826,
           -0.0006409754282528475,
           -0.03002807965783915,
           -0.05890402451081101,
           -0.08633239590937543,
           -0.1114606806231028,
           -0.13354819579908725,
           -0.15198770280837584,
           -0.16632015713858264,
           -0.17624240938958516,
           -0.18160802037610754,
           -0.18242166855756492,
           -0.1788278960809016,
           -0.17109514979541934,
           -0.15959621882048483,
           -0.14478624788034108,
           -0.1271795169340972,
           -0.10732612754693129,
           -0.0857896329957062,
           -0.0631265026963309,
           -0.039868134180728126,
           -0.016505930263581485,
           0.0065202421682302655,
           0.02883009042098063,
           0.05010748884225075,
           0.07010183827093616,
           0.08862652853638416,
           0.10555493165712146,
           0.12081441070397907,
           0.13437885433763305,
           0.14626024334832619,
           0.15649972810645998,
           0.16515865057394133,
           0.17230988766358785,
           0.17802983029511174,
           0.18239124981424537,
           0.18545724476618586,
           0.18727640924644018,
           0.18787932061729182,
           0.18727640924644018,
           0.18545724476618586,
           0.18239124981424537,
           0.17802983029511174,
           0.17230988766358785,
           0.16515865057394133,
           0.15649972810645998,
           0.14626024334832619,
           0.13437885433763305,
           0.12081441070397907,
           0.10555493165712146,
           0.08862652853638416,
           0.07010183827093616,
           0.05010748884225075,
           0.02883009042098063,
           0.0065202421682302655,
           -0.016505930263581485,
           -0.039868134180728126,
           -0.0631265026963309,
           -0.0857896329957062,
           -0.10732612754693129,
           -0.1271795169340972,
           -0.14478624788034108,
           -0.15959621882048483,
           -0.17109514979541934,
           -0.1788278960809016,
           -0.18242166855756492,
           -0.18160802037610754,
           -0.17624240938958516,
           -0.16632015713858264,
           -0.15198770280837584,
           -0.13354819579908725,
           -0.1114606806231028,
           -0.08633239590937543,
           -0.05890402451081101,
           -0.03002807965783915,
           -0.0006409754282528475,
           0.028270310898122826,
           0.05570574218106777
          ],
          [
           0.059725017515438364,
           0.03197958453286062,
           0.0025207381574719806,
           -0.027588123185645037,
           -0.0572857273340844,
           -0.08555491563889543,
           -0.1114606806231028,
           -0.13418273806183595,
           -0.15304146672549196,
           -0.16751643729146143,
           -0.17725715646546372,
           -0.18208605074549258,
           -0.18199408570471504,
           -0.17712974307464055,
           -0.16778234479339135,
           -0.1543609103022869,
           -0.13736985507049018,
           -0.11738288358628372,
           -0.0950164022704569,
           -0.07090368426500879,
           -0.045670869380806056,
           -0.019915691575644292,
           0.0058103924762656495,
           0.031016232090896562,
           0.05528095770522729,
           0.07825990831739421,
           0.09968670899986165,
           0.11937185506223688,
           0.13719827990417027,
           0.15311446345017118,
           0.16712567793535366,
           0.1792839709402817,
           0.18967745729212915,
           0.19841943861188654,
           0.20563779959612533,
           0.21146505144444128,
           0.21602931256266372,
           0.21944644111666822,
           0.22181346801290225,
           0.2232034254780841,
           0.22366162672468853,
           0.2232034254780841,
           0.22181346801290225,
           0.21944644111666822,
           0.21602931256266372,
           0.21146505144444128,
           0.20563779959612533,
           0.19841943861188654,
           0.18967745729212915,
           0.1792839709402817,
           0.16712567793535366,
           0.15311446345017118,
           0.13719827990417027,
           0.11937185506223688,
           0.09968670899986165,
           0.07825990831739421,
           0.05528095770522729,
           0.031016232090896562,
           0.0058103924762656495,
           -0.019915691575644292,
           -0.045670869380806056,
           -0.07090368426500879,
           -0.0950164022704569,
           -0.11738288358628372,
           -0.13736985507049018,
           -0.1543609103022869,
           -0.16778234479339135,
           -0.17712974307464055,
           -0.18199408570471504,
           -0.18208605074549258,
           -0.17725715646546372,
           -0.16751643729146143,
           -0.15304146672549196,
           -0.13418273806183595,
           -0.1114606806231028,
           -0.08555491563889543,
           -0.0572857273340844,
           -0.027588123185645037,
           0.0025207381574719806,
           0.03197958453286062
          ],
          [
           0.037104384846577534,
           0.007233082355737275,
           -0.023527608249201665,
           -0.054043516875550875,
           -0.08321475815193494,
           -0.11001880232017779,
           -0.13354819579908725,
           -0.15304146672549196,
           -0.167906160972842,
           -0.17773339606034183,
           -0.18230376872794093,
           -0.18158488243001691,
           -0.17572115154133375,
           -0.16501687105976595,
           -0.1499137997580331,
           -0.13096468174943518,
           -0.10880422217787396,
           -0.08411903827788304,
           -0.05761803324395176,
           -0.030004497243790427,
           -0.001951040868825416,
           0.025921773001301992,
           0.05306249567952219,
           0.07900122348247962,
           0.10335731863015635,
           0.1258425822940911,
           0.14626024334832619,
           0.16450028494360933,
           0.18053174205108255,
           0.1943926655354523,
           0.2061784643801796,
           0.21602931256266372,
           0.22411724822563847,
           0.23063350923189954,
           0.23577655069724138,
           0.23974108638511749,
           0.242708395806646,
           0.24483804991090946,
           0.24626113579560338,
           0.24707500803079696,
           0.24733956165584545,
           0.24707500803079696,
           0.24626113579560338,
           0.24483804991090946,
           0.242708395806646,
           0.23974108638511749,
           0.23577655069724138,
           0.23063350923189954,
           0.22411724822563847,
           0.21602931256266372,
           0.2061784643801796,
           0.1943926655354523,
           0.18053174205108255,
           0.16450028494360933,
           0.14626024334832619,
           0.1258425822940911,
           0.10335731863015635,
           0.07900122348247962,
           0.05306249567952219,
           0.025921773001301992,
           -0.001951040868825416,
           -0.030004497243790427,
           -0.05761803324395176,
           -0.08411903827788304,
           -0.10880422217787396,
           -0.13096468174943518,
           -0.1499137997580331,
           -0.16501687105976595,
           -0.17572115154133375,
           -0.18158488243001691,
           -0.18230376872794093,
           -0.17773339606034183,
           -0.167906160972842,
           -0.15304146672549196,
           -0.13354819579908725,
           -0.11001880232017779,
           -0.08321475815193494,
           -0.054043516875550875,
           -0.023527608249201665,
           0.007233082355737275
          ],
          [
           0.013454008098850966,
           -0.017859822184363938,
           -0.04916880920228074,
           -0.07929019757294747,
           -0.10711012813756442,
           -0.1316269478872783,
           -0.15198770280837584,
           -0.16751643729146143,
           -0.17773339606034183,
           -0.18236471957976835,
           -0.18134271385500067,
           -0.1747972342928682,
           -0.16303912773542587,
           -0.14653700801271363,
           -0.1258888846262905,
           -0.10179031338845618,
           -0.0750007897964791,
           -0.046310064114579955,
           -0.016505930263581485,
           0.013655158230898757,
           0.043473546354522816,
           0.07232710218505171,
           0.09968670899986165,
           0.12512633286074154,
           0.14832776112580212,
           0.16908036038891633,
           0.18727640924644018,
           0.20290271423033404,
           0.21602931256266372,
           0.22679610352037188,
           0.23539823538075702,
           0.2420710146043941,
           0.24707500803079696,
           0.2506818889186662,
           0.2531614457800734,
           0.25477004091850136,
           0.2557406839380664,
           0.2562747828163765,
           0.25653555744366946,
           0.2566430509401283,
           0.2566706526738519,
           0.2566430509401283,
           0.25653555744366946,
           0.2562747828163765,
           0.2557406839380664,
           0.25477004091850136,
           0.2531614457800734,
           0.2506818889186662,
           0.24707500803079696,
           0.2420710146043941,
           0.23539823538075702,
           0.22679610352037188,
           0.21602931256266372,
           0.20290271423033404,
           0.18727640924644018,
           0.16908036038891633,
           0.14832776112580212,
           0.12512633286074154,
           0.09968670899986165,
           0.07232710218505171,
           0.043473546354522816,
           0.013655158230898757,
           -0.016505930263581485,
           -0.046310064114579955,
           -0.0750007897964791,
           -0.10179031338845618,
           -0.1258888846262905,
           -0.14653700801271363,
           -0.16303912773542587,
           -0.1747972342928682,
           -0.18134271385500067,
           -0.18236471957976835,
           -0.17773339606034183,
           -0.16751643729146143,
           -0.15198770280837584,
           -0.1316269478872783,
           -0.10711012813756442,
           -0.07929019757294747,
           -0.04916880920228074,
           -0.017859822184363938
          ],
          [
           -0.01061150357619211,
           -0.042655257000177006,
           -0.07374973820785838,
           -0.10268778525178764,
           -0.1283676319466868,
           -0.14983554931501694,
           -0.16632015713858264,
           -0.17725715646546372,
           -0.18230376872794093,
           -0.18134271385500067,
           -0.17447608825271163,
           -0.16200998595397612,
           -0.14443111863131364,
           -0.12237701362727325,
           -0.09660159075517502,
           -0.06793803188546253,
           -0.03726086233570953,
           -0.005449066140771361,
           0.026648129724923395,
           0.058241427706856384,
           0.08862652853638416,
           0.11720338291232232,
           0.14348926836260514,
           0.16712567793535366,
           0.18787932061729182,
           0.20563779959612533,
           0.22040074178662336,
           0.23226729318028777,
           0.24142096714711753,
           0.24811283911536614,
           0.25264402764959015,
           0.255348298963932,
           0.256575492104657,
           0.2566762997375786,
           0.2559887694405144,
           0.2548267267047997,
           0.25347017586536014,
           0.252157618714697,
           0.25108014921898075,
           0.25037713957121355,
           0.25013332713993036,
           0.25037713957121355,
           0.25108014921898075,
           0.252157618714697,
           0.25347017586536014,
           0.2548267267047997,
           0.2559887694405144,
           0.2566762997375786,
           0.256575492104657,
           0.255348298963932,
           0.25264402764959015,
           0.24811283911536614,
           0.24142096714711753,
           0.23226729318028777,
           0.22040074178662336,
           0.20563779959612533,
           0.18787932061729182,
           0.16712567793535366,
           0.14348926836260514,
           0.11720338291232232,
           0.08862652853638416,
           0.058241427706856384,
           0.026648129724923395,
           -0.005449066140771361,
           -0.03726086233570953,
           -0.06793803188546253,
           -0.09660159075517502,
           -0.12237701362727325,
           -0.14443111863131364,
           -0.16200998595397612,
           -0.17447608825271163,
           -0.18134271385500067,
           -0.18230376872794093,
           -0.17725715646546372,
           -0.16632015713858264,
           -0.14983554931501694,
           -0.1283676319466868,
           -0.10268778525178764,
           -0.07374973820785838,
           -0.042655257000177006
          ],
          [
           -0.0345063152690242,
           -0.06655906279410359,
           -0.09668883252747353,
           -0.12368964794720452,
           -0.1464987033293174,
           -0.1642373823959323,
           -0.17624240938958516,
           -0.18208605074549258,
           -0.18158488243001691,
           -0.1747972342928682,
           -0.16200998595397612,
           -0.1437158894806465,
           -0.12058300781296416,
           -0.09341816596346665,
           -0.0631265026963309,
           -0.03066927919323432,
           0.0029779491154211806,
           0.03686485131708162,
           0.07010183827093616,
           0.1018902143955224,
           0.13154597877649798,
           0.15851669454452746,
           0.18239124981424537,
           0.20290271423033404,
           0.21992483146863692,
           0.23346296309158113,
           0.24364050109720906,
           0.2506818889186662,
           0.254893432701845,
           0.2566430509401283,
           0.2563400102730029,
           0.25441554164532254,
           0.25130504004127213,
           0.24743234013685533,
           0.2431963471432226,
           0.23896010343988033,
           0.23504220166614895,
           0.2317103248693539,
           0.22917661128094333,
           0.22759450814784551,
           0.2270567942100705,
           0.22759450814784551,
           0.22917661128094333,
           0.2317103248693539,
           0.23504220166614895,
           0.23896010343988033,
           0.2431963471432226,
           0.24743234013685533,
           0.25130504004127213,
           0.25441554164532254,
           0.2563400102730029,
           0.2566430509401283,
           0.254893432701845,
           0.2506818889186662,
           0.24364050109720906,
           0.23346296309158113,
           0.21992483146863692,
           0.20290271423033404,
           0.18239124981424537,
           0.15851669454452746,
           0.13154597877649798,
           0.1018902143955224,
           0.07010183827093616,
           0.03686485131708162,
           0.0029779491154211806,
           -0.03066927919323432,
           -0.0631265026963309,
           -0.09341816596346665,
           -0.12058300781296416,
           -0.1437158894806465,
           -0.16200998595397612,
           -0.1747972342928682,
           -0.18158488243001691,
           -0.18208605074549258,
           -0.17624240938958516,
           -0.1642373823959323,
           -0.1464987033293174,
           -0.12368964794720452,
           -0.09668883252747353,
           -0.06655906279410359
          ],
          [
           -0.05769048962428924,
           -0.08904297911487404,
           -0.11749065565570795,
           -0.14185512230149663,
           -0.16113955966514656,
           -0.17456713788189782,
           -0.18160802037610754,
           -0.18199408570471504,
           -0.17572115154133375,
           -0.16303912773542587,
           -0.14443111863131364,
           -0.12058300781296416,
           -0.09234546620178369,
           -0.060690608986011814,
           -0.026665677985416577,
           0.008653858363151095,
           0.044209509361482956,
           0.07900122348247962,
           0.11212338767979044,
           0.14279404657238684,
           0.17037647050011584,
           0.1943926655354523,
           0.2145288714461612,
           0.23063350923189954,
           0.242708395806646,
           0.2508943222213973,
           0.2554522819126627,
           0.2567417315441088,
           0.25519727019112654,
           0.25130504004127213,
           0.2455799958764798,
           0.23854497801642713,
           0.23071227369415245,
           0.2225680860000738,
           0.21456006847846779,
           0.2070878465419809,
           0.20049625055173417,
           0.19507084218595108,
           0.19103523332295086,
           0.18854967763954522,
           0.18771045677679687,
           0.18854967763954522,
           0.19103523332295086,
           0.19507084218595108,
           0.20049625055173417,
           0.2070878465419809,
           0.21456006847846779,
           0.2225680860000738,
           0.23071227369415245,
           0.23854497801642713,
           0.2455799958764798,
           0.25130504004127213,
           0.25519727019112654,
           0.2567417315441088,
           0.2554522819126627,
           0.2508943222213973,
           0.242708395806646,
           0.23063350923189954,
           0.2145288714461612,
           0.1943926655354523,
           0.17037647050011584,
           0.14279404657238684,
           0.11212338767979044,
           0.07900122348247962,
           0.044209509361482956,
           0.008653858363151095,
           -0.026665677985416577,
           -0.060690608986011814,
           -0.09234546620178369,
           -0.12058300781296416,
           -0.14443111863131364,
           -0.16303912773542587,
           -0.17572115154133375,
           -0.18199408570471504,
           -0.18160802037610754,
           -0.17456713788189782,
           -0.16113955966514656,
           -0.14185512230149663,
           -0.11749065565570795,
           -0.08904297911487404
          ],
          [
           -0.07968395387291566,
           -0.10965701691843574,
           -0.13575600794040762,
           -0.15685668268767797,
           -0.17205475511311313,
           -0.1807007071005138,
           -0.18242166855756492,
           -0.17712974307464055,
           -0.16501687105976595,
           -0.14653700801271363,
           -0.12237701362727325,
           -0.09341816596346665,
           -0.060690608986011814,
           -0.02532329427921568,
           0.011507919583092052,
           0.04863139306208121,
           0.08492762656935865,
           0.11937185506223688,
           0.15106960365711752,
           0.1792839709402817,
           0.20345392533496165,
           0.2232034254780841,
           0.2383416766936446,
           0.24885528388828942,
           0.254893432701845,
           0.25674750760048576,
           0.2548267267047997,
           0.24963143467045815,
           0.24172565029557566,
           0.2317103248693539,
           0.22019854657881394,
           0.20779364608280457,
           0.19507084218595108,
           0.18256273925541686,
           0.17074867404778504,
           0.16004763127913005,
           0.15081422331281308,
           0.1433370736825879,
           0.13783886506830845,
           0.134477311926808,
           0.1333463922312941,
           0.134477311926808,
           0.13783886506830845,
           0.1433370736825879,
           0.15081422331281308,
           0.16004763127913005,
           0.17074867404778504,
           0.18256273925541686,
           0.19507084218595108,
           0.20779364608280457,
           0.22019854657881394,
           0.2317103248693539,
           0.24172565029557566,
           0.24963143467045815,
           0.2548267267047997,
           0.25674750760048576,
           0.254893432701845,
           0.24885528388828942,
           0.2383416766936446,
           0.2232034254780841,
           0.20345392533496165,
           0.1792839709402817,
           0.15106960365711752,
           0.11937185506223688,
           0.08492762656935865,
           0.04863139306208121,
           0.011507919583092052,
           -0.02532329427921568,
           -0.060690608986011814,
           -0.09341816596346665,
           -0.12237701362727325,
           -0.14653700801271363,
           -0.16501687105976595,
           -0.17712974307464055,
           -0.18242166855756492,
           -0.1807007071005138,
           -0.17205475511311313,
           -0.15685668268767797,
           -0.13575600794040762,
           -0.10965701691843574
          ],
          [
           -0.10007704610444179,
           -0.12803786284735597,
           -0.1511875643863488,
           -0.16848219583369567,
           -0.17913546063850083,
           -0.18264893898060253,
           -0.1788278960809016,
           -0.16778234479339135,
           -0.1499137997580331,
           -0.1258888846262905,
           -0.09660159075517502,
           -0.0631265026963309,
           -0.026665677985416577,
           0.011507919583092052,
           0.05010748884225075,
           0.0878871354792479,
           0.12369173187889267,
           0.15649972810645998,
           0.18545724476618586,
           0.20990234059772522,
           0.22937894091767205,
           0.24364050109720906,
           0.25264402764959015,
           0.25653555744366946,
           0.25562857790064414,
           0.25037713957121355,
           0.2413455569066888,
           0.22917661128094333,
           0.21456006847846779,
           0.1982031145119569,
           0.18080401871815463,
           0.1630299764243758,
           0.14549969299473817,
           0.12877087581897034,
           0.11333242903336226,
           0.09960082298540655,
           0.08791985781076668,
           0.07856287339249271,
           0.07173638515428266,
           0.06758414818694233,
           0.0661907655654817,
           0.06758414818694233,
           0.07173638515428266,
           0.07856287339249271,
           0.08791985781076668,
           0.09960082298540655,
           0.11333242903336226,
           0.12877087581897034,
           0.14549969299473817,
           0.1630299764243758,
           0.18080401871815463,
           0.1982031145119569,
           0.21456006847846779,
           0.22917661128094333,
           0.2413455569066888,
           0.25037713957121355,
           0.25562857790064414,
           0.25653555744366946,
           0.25264402764959015,
           0.24364050109720906,
           0.22937894091767205,
           0.20990234059772522,
           0.18545724476618586,
           0.15649972810645998,
           0.12369173187889267,
           0.0878871354792479,
           0.05010748884225075,
           0.011507919583092052,
           -0.026665677985416577,
           -0.0631265026963309,
           -0.09660159075517502,
           -0.1258888846262905,
           -0.1499137997580331,
           -0.16778234479339135,
           -0.1788278960809016,
           -0.18264893898060253,
           -0.17913546063850083,
           -0.16848219583369567,
           -0.1511875643863488,
           -0.12803786284735597
          ],
          [
           -0.11853755153953284,
           -0.14391335124448024,
           -0.163591222139663,
           -0.17663261032673944,
           -0.18239300622958532,
           -0.18054660691367944,
           -0.17109514979541934,
           -0.1543609103022869,
           -0.13096468174943518,
           -0.10179031338845618,
           -0.06793803188546253,
           -0.03066927919323432,
           0.008653858363151095,
           0.04863139306208121,
           0.0878871354792479,
           0.12512633286074154,
           0.15918658398472915,
           0.1890798565922851,
           0.21402402107025095,
           0.23346296309158113,
           0.24707500803079696,
           0.25477004091850136,
           0.2566762997375786,
           0.25311832399967577,
           0.24458792842044305,
           0.2317103248693539,
           0.2152076253393881,
           0.19586192453391038,
           0.17447999195279823,
           0.15186131748507978,
           0.12877087581897034,
           0.10591753298818528,
           0.08393854575868848,
           0.06339013493636744,
           0.044743679368913644,
           0.02838670735216783,
           0.014627580006334946,
           0.0037025838949493145,
           -0.004215913110515241,
           -0.009011537058698997,
           -0.010617349295218181,
           -0.009011537058698997,
           -0.004215913110515241,
           0.0037025838949493145,
           0.014627580006334946,
           0.02838670735216783,
           0.044743679368913644,
           0.06339013493636744,
           0.08393854575868848,
           0.10591753298818528,
           0.12877087581897034,
           0.15186131748507978,
           0.17447999195279823,
           0.19586192453391038,
           0.2152076253393881,
           0.2317103248693539,
           0.24458792842044305,
           0.25311832399967577,
           0.2566762997375786,
           0.25477004091850136,
           0.24707500803079696,
           0.23346296309158113,
           0.21402402107025095,
           0.1890798565922851,
           0.15918658398472915,
           0.12512633286074154,
           0.0878871354792479,
           0.04863139306208121,
           0.008653858363151095,
           -0.03066927919323432,
           -0.06793803188546253,
           -0.10179031338845618,
           -0.13096468174943518,
           -0.1543609103022869,
           -0.17109514979541934,
           -0.18054660691367944,
           -0.18239300622958532,
           -0.17663261032673944,
           -0.163591222139663,
           -0.14391335124448024
          ],
          [
           -0.13481430178982187,
           -0.15710321083861073,
           -0.17287351607260817,
           -0.18131560690315682,
           -0.18194839266053625,
           -0.17463748569481502,
           -0.15959621882048483,
           -0.13736985507049018,
           -0.10880422217787396,
           -0.0750007897964791,
           -0.03726086233570953,
           0.0029779491154211806,
           0.044209509361482956,
           0.08492762656935865,
           0.12369173187889267,
           0.15918658398472915,
           0.1902732638436695,
           0.21602931256266372,
           0.23577655069724138,
           0.24909585663212155,
           0.25582893038458626,
           0.2560677827399544,
           0.25013332713993036,
           0.23854497801642713,
           0.22198354690007724,
           0.20124995852555586,
           0.17722237538812438,
           0.15081422331281308,
           0.12293536517635703,
           0.09445829662141196,
           0.0661907655654817,
           0.03885568116655977,
           0.013078615468659323,
           -0.010617349295218181,
           -0.03181017613329085,
           -0.050171999808914604,
           -0.06545830501430487,
           -0.07749482277960204,
           -0.08616386191642225,
           -0.09139170665445415,
           -0.09313849939964196,
           -0.09139170665445415,
           -0.08616386191642225,
           -0.07749482277960204,
           -0.06545830501430487,
           -0.050171999808914604,
           -0.03181017613329085,
           -0.010617349295218181,
           0.013078615468659323,
           0.03885568116655977,
           0.0661907655654817,
           0.09445829662141196,
           0.12293536517635703,
           0.15081422331281308,
           0.17722237538812438,
           0.20124995852555586,
           0.22198354690007724,
           0.23854497801642713,
           0.25013332713993036,
           0.2560677827399544,
           0.25582893038458626,
           0.24909585663212155,
           0.23577655069724138,
           0.21602931256266372,
           0.1902732638436695,
           0.15918658398472915,
           0.12369173187889267,
           0.08492762656935865,
           0.044209509361482956,
           0.0029779491154211806,
           -0.03726086233570953,
           -0.0750007897964791,
           -0.10880422217787396,
           -0.13736985507049018,
           -0.15959621882048483,
           -0.17463748569481502,
           -0.18194839266053625,
           -0.18131560690315682,
           -0.17287351607260817,
           -0.15710321083861073
          ],
          [
           -0.1487375524385824,
           -0.16751643729146143,
           -0.17903560277058095,
           -0.1826358700412797,
           -0.17801860199902664,
           -0.16525654180237792,
           -0.14478624788034108,
           -0.11738288358628372,
           -0.08411903827788304,
           -0.046310064114579955,
           -0.005449066140771361,
           0.03686485131708162,
           0.07900122348247962,
           0.11937185506223688,
           0.15649972810645998,
           0.1890798565922851,
           0.21602931256266372,
           0.2365243422174828,
           0.25002327766855664,
           0.2562747828163765,
           0.2553118000893658,
           0.24743234013685533,
           0.23316893482082693,
           0.21324911772700825,
           0.18854967763954522,
           0.16004763127913005,
           0.12877087581897034,
           0.0957513146109,
           0.06198291759831892,
           0.02838670735216783,
           -0.004215913110515241,
           -0.03512071345143313,
           -0.06374895250625122,
           -0.08964697741323371,
           -0.11247819731414006,
           -0.132008995765264,
           -0.14809048863531396,
           -0.16063822727306362,
           -0.1696119802323752,
           -0.17499760171649797,
           -0.17679272260843765,
           -0.17499760171649797,
           -0.1696119802323752,
           -0.16063822727306362,
           -0.14809048863531396,
           -0.132008995765264,
           -0.11247819731414006,
           -0.08964697741323371,
           -0.06374895250625122,
           -0.03512071345143313,
           -0.004215913110515241,
           0.02838670735216783,
           0.06198291759831892,
           0.0957513146109,
           0.12877087581897034,
           0.16004763127913005,
           0.18854967763954522,
           0.21324911772700825,
           0.23316893482082693,
           0.24743234013685533,
           0.2553118000893658,
           0.2562747828163765,
           0.25002327766855664,
           0.2365243422174828,
           0.21602931256266372,
           0.1890798565922851,
           0.15649972810645998,
           0.11937185506223688,
           0.07900122348247962,
           0.03686485131708162,
           -0.005449066140771361,
           -0.046310064114579955,
           -0.08411903827788304,
           -0.11738288358628372,
           -0.14478624788034108,
           -0.16525654180237792,
           -0.17801860199902664,
           -0.1826358700412797,
           -0.17903560277058095,
           -0.16751643729146143
          ],
          [
           -0.16021647158282734,
           -0.1751457556394694,
           -0.1821644169794075,
           -0.18078273088932142,
           -0.17090060569317098,
           -0.1528102839666787,
           -0.1271795169340972,
           -0.0950164022704569,
           -0.05761803324395176,
           -0.016505930263581485,
           0.026648129724923395,
           0.07010183827093616,
           0.11212338767979044,
           0.15106960365711752,
           0.18545724476618586,
           0.21402402107025095,
           0.23577655069724138,
           0.25002327766855664,
           0.25639126767027576,
           0.2548267267047997,
           0.2455799958764798,
           0.22917661128094333,
           0.2063767337439853,
           0.17812580971586786,
           0.14549969299473817,
           0.1096476200446325,
           0.07173638515428266,
           0.032898814044057145,
           -0.005810793613848673,
           -0.043452159632214875,
           -0.0792240541655952,
           -0.11247819731414006,
           -0.1427221428215067,
           -0.1696119802323752,
           -0.1929363397545002,
           -0.2125937105436689,
           -0.22856545626592412,
           -0.24088710992360066,
           -0.24962054293732017,
           -0.254829433326894,
           -0.2565601183892334,
           -0.254829433326894,
           -0.24962054293732017,
           -0.24088710992360066,
           -0.22856545626592412,
           -0.2125937105436689,
           -0.1929363397545002,
           -0.1696119802323752,
           -0.1427221428215067,
           -0.11247819731414006,
           -0.0792240541655952,
           -0.043452159632214875,
           -0.005810793613848673,
           0.032898814044057145,
           0.07173638515428266,
           0.1096476200446325,
           0.14549969299473817,
           0.17812580971586786,
           0.2063767337439853,
           0.22917661128094333,
           0.2455799958764798,
           0.2548267267047997,
           0.25639126767027576,
           0.25002327766855664,
           0.23577655069724138,
           0.21402402107025095,
           0.18545724476618586,
           0.15106960365711752,
           0.11212338767979044,
           0.07010183827093616,
           0.026648129724923395,
           -0.016505930263581485,
           -0.05761803324395176,
           -0.0950164022704569,
           -0.1271795169340972,
           -0.1528102839666787,
           -0.17090060569317098,
           -0.18078273088932142,
           -0.1821644169794075,
           -0.1751457556394694
          ],
          [
           -0.16923416092386775,
           -0.1800597155006458,
           -0.18242166855756492,
           -0.1760159755489718,
           -0.1609539875623888,
           -0.1377563081818195,
           -0.10732612754693129,
           -0.07090368426500879,
           -0.030004497243790427,
           0.013655158230898757,
           0.058241427706856384,
           0.1018902143955224,
           0.14279404657238684,
           0.1792839709402817,
           0.20990234059772522,
           0.23346296309158113,
           0.24909585663212155,
           0.2562747828163765,
           0.2548267267047997,
           0.24492352037505036,
           0.2270567942100705,
           0.20199833430642128,
           0.17074867404778504,
           0.134477311926808,
           0.09445829662141196,
           0.05200503792795912,
           0.00840808631479302,
           -0.03512071345143313,
           -0.07749482277960204,
           -0.1177881852505473,
           -0.15525760655490364,
           -0.18935183535374994,
           -0.21970771693043264,
           -0.24613461781837798,
           -0.268589046149572,
           -0.28714197491104243,
           -0.30194177876754097,
           -0.31317589634427284,
           -0.3210343185560354,
           -0.32567778292945404,
           -0.32721314035298743,
           -0.32567778292945404,
           -0.3210343185560354,
           -0.31317589634427284,
           -0.30194177876754097,
           -0.28714197491104243,
           -0.268589046149572,
           -0.24613461781837798,
           -0.21970771693043264,
           -0.18935183535374994,
           -0.15525760655490364,
           -0.1177881852505473,
           -0.07749482277960204,
           -0.03512071345143313,
           0.00840808631479302,
           0.05200503792795912,
           0.09445829662141196,
           0.134477311926808,
           0.17074867404778504,
           0.20199833430642128,
           0.2270567942100705,
           0.24492352037505036,
           0.2548267267047997,
           0.2562747828163765,
           0.24909585663212155,
           0.23346296309158113,
           0.20990234059772522,
           0.1792839709402817,
           0.14279404657238684,
           0.1018902143955224,
           0.058241427706856384,
           0.013655158230898757,
           -0.030004497243790427,
           -0.07090368426500879,
           -0.10732612754693129,
           -0.1377563081818195,
           -0.1609539875623888,
           -0.1760159755489718,
           -0.18242166855756492,
           -0.1800597155006458
          ],
          [
           -0.17584069010379264,
           -0.18239300622958532,
           -0.1800313728705813,
           -0.16865061331126227,
           -0.14858307017251748,
           -0.12058300781296416,
           -0.0857896329957062,
           -0.045670869380806056,
           -0.001951040868825416,
           0.043473546354522816,
           0.08862652853638416,
           0.13154597877649798,
           0.17037647050011584,
           0.20345392533496165,
           0.22937894091767205,
           0.24707500803079696,
           0.25582893038458626,
           0.2553118000893658,
           0.2455799958764798,
           0.2270567942100705,
           0.20049625055173417,
           0.16693195814109418,
           0.12761407121954643,
           0.08393854575868848,
           0.037372873633869375,
           -0.010617349295218181,
           -0.05863687417657578,
           -0.10542055787501849,
           -0.14988136590815446,
           -0.19114437378651342,
           -0.22856545626592412,
           -0.2617343483375656,
           -0.29046275344788247,
           -0.31475910259630246,
           -0.33479237619194996,
           -0.35084804028714445,
           -0.3632795822101567,
           -0.37245933283868765,
           -0.3787322233669178,
           -0.382375848005458,
           -0.3835697098652554,
           -0.382375848005458,
           -0.3787322233669178,
           -0.37245933283868765,
           -0.3632795822101567,
           -0.35084804028714445,
           -0.33479237619194996,
           -0.31475910259630246,
           -0.29046275344788247,
           -0.2617343483375656,
           -0.22856545626592412,
           -0.19114437378651342,
           -0.14988136590815446,
           -0.10542055787501849,
           -0.05863687417657578,
           -0.010617349295218181,
           0.037372873633869375,
           0.08393854575868848,
           0.12761407121954643,
           0.16693195814109418,
           0.20049625055173417,
           0.2270567942100705,
           0.2455799958764798,
           0.2553118000893658,
           0.25582893038458626,
           0.24707500803079696,
           0.22937894091767205,
           0.20345392533496165,
           0.17037647050011584,
           0.13154597877649798,
           0.08862652853638416,
           0.043473546354522816,
           -0.001951040868825416,
           -0.045670869380806056,
           -0.0857896329957062,
           -0.12058300781296416,
           -0.14858307017251748,
           -0.16865061331126227,
           -0.1800313728705813,
           -0.18239300622958532
          ],
          [
           -0.1801446545297837,
           -0.18233559039097344,
           -0.1752665961050691,
           -0.15904136091487175,
           -0.13421936300715656,
           -0.10179031338845618,
           -0.0631265026963309,
           -0.019915691575644292,
           0.025921773001301992,
           0.07232710218505171,
           0.11720338291232232,
           0.15851669454452746,
           0.1943926655354523,
           0.2232034254780841,
           0.24364050109720906,
           0.25477004091850136,
           0.2560677827399544,
           0.24743234013685533,
           0.22917661128094333,
           0.20199833430642128,
           0.16693195814109418,
           0.12528500092613942,
           0.07856287339249271,
           0.02838670735216783,
           -0.02359098016854476,
           -0.0757679524450742,
           -0.12666669235949252,
           -0.17499760171649797,
           -0.21970771693043264,
           -0.26001264723920775,
           -0.29541051237375787,
           -0.32567778292945404,
           -0.35084804028714445,
           -0.37117570680030565,
           -0.38708768931988075,
           -0.3991265770886398,
           -0.407889497747319,
           -0.41396693622794944,
           -0.417885750201407,
           -0.4200602785751461,
           -0.4207548585159486,
           -0.4200602785751461,
           -0.417885750201407,
           -0.41396693622794944,
           -0.407889497747319,
           -0.3991265770886398,
           -0.38708768931988075,
           -0.37117570680030565,
           -0.35084804028714445,
           -0.32567778292945404,
           -0.29541051237375787,
           -0.26001264723920775,
           -0.21970771693043264,
           -0.17499760171649797,
           -0.12666669235949252,
           -0.0757679524450742,
           -0.02359098016854476,
           0.02838670735216783,
           0.07856287339249271,
           0.12528500092613942,
           0.16693195814109418,
           0.20199833430642128,
           0.22917661128094333,
           0.24743234013685533,
           0.2560677827399544,
           0.25477004091850136,
           0.24364050109720906,
           0.2232034254780841,
           0.1943926655354523,
           0.15851669454452746,
           0.11720338291232232,
           0.07232710218505171,
           0.025921773001301992,
           -0.019915691575644292,
           -0.0631265026963309,
           -0.10179031338845618,
           -0.13421936300715656,
           -0.15904136091487175,
           -0.1752665961050691,
           -0.18233559039097344
          ],
          [
           -0.18230376872794093,
           -0.18012123502583363,
           -0.16843605361995675,
           -0.14756752732225356,
           -0.11830504740258321,
           -0.08187218787401292,
           -0.039868134180728126,
           0.0058103924762656495,
           0.05306249567952219,
           0.09968670899986165,
           0.14348926836260514,
           0.18239124981424537,
           0.2145288714461612,
           0.2383416766936446,
           0.25264402764959015,
           0.2566762997375786,
           0.25013332713993036,
           0.23316893482082693,
           0.2063767337439853,
           0.17074867404778504,
           0.12761407121954643,
           0.07856287339249271,
           0.02535776443828009,
           -0.030159748399708135,
           -0.08616386191642225,
           -0.1409342819269669,
           -0.1929363397545002,
           -0.24088710992360066,
           -0.2838041182964338,
           -0.3210343185560354,
           -0.35226222727992795,
           -0.37749737145928347,
           -0.3970424421347404,
           -0.41144469052055266,
           -0.42143408131469146,
           -0.42785247459104203,
           -0.43157859884674826,
           -0.4334537754581445,
           -0.434213248547002,
           -0.43442757176285574,
           -0.43445783007337646,
           -0.43442757176285574,
           -0.434213248547002,
           -0.4334537754581445,
           -0.43157859884674826,
           -0.42785247459104203,
           -0.42143408131469146,
           -0.41144469052055266,
           -0.3970424421347404,
           -0.37749737145928347,
           -0.35226222727992795,
           -0.3210343185560354,
           -0.2838041182964338,
           -0.24088710992360066,
           -0.1929363397545002,
           -0.1409342819269669,
           -0.08616386191642225,
           -0.030159748399708135,
           0.02535776443828009,
           0.07856287339249271,
           0.12761407121954643,
           0.17074867404778504,
           0.2063767337439853,
           0.23316893482082693,
           0.25013332713993036,
           0.2566762997375786,
           0.25264402764959015,
           0.2383416766936446,
           0.2145288714461612,
           0.18239124981424537,
           0.14348926836260514,
           0.09968670899986165,
           0.05306249567952219,
           0.0058103924762656495,
           -0.039868134180728126,
           -0.08187218787401292,
           -0.11830504740258321,
           -0.14756752732225356,
           -0.16843605361995675,
           -0.18012123502583363
          ],
          [
           -0.18251498442862385,
           -0.1760159755489718,
           -0.15987112992755653,
           -0.13461888616197776,
           -0.10127808535368477,
           -0.061301442485772274,
           -0.016505930263581485,
           0.031016232090896562,
           0.07900122348247962,
           0.12512633286074154,
           0.16712567793535366,
           0.20290271423033404,
           0.23063350923189954,
           0.24885528388828942,
           0.25653555744366946,
           0.25311832399967577,
           0.23854497801642713,
           0.21324911772700825,
           0.17812580971586786,
           0.134477311926808,
           0.08393854575868848,
           0.02838670735216783,
           -0.030159748399708135,
           -0.08964697741323371,
           -0.14809048863531396,
           -0.2036729142303004,
           -0.254829433326894,
           -0.3003162506586467,
           -0.3392585664190622,
           -0.37117570680030565,
           -0.39598244357893553,
           -0.41396693622794944,
           -0.42574709936268906,
           -0.43220845214435083,
           -0.43442757176285574,
           -0.4335860886421158,
           -0.4308806796227811,
           -0.4274347075936389,
           -0.42421701152445723,
           -0.42197287899622543,
           -0.421171462695804,
           -0.42197287899622543,
           -0.42421701152445723,
           -0.4274347075936389,
           -0.4308806796227811,
           -0.4335860886421158,
           -0.43442757176285574,
           -0.43220845214435083,
           -0.42574709936268906,
           -0.41396693622794944,
           -0.39598244357893553,
           -0.37117570680030565,
           -0.3392585664190622,
           -0.3003162506586467,
           -0.254829433326894,
           -0.2036729142303004,
           -0.14809048863531396,
           -0.08964697741323371,
           -0.030159748399708135,
           0.02838670735216783,
           0.08393854575868848,
           0.134477311926808,
           0.17812580971586786,
           0.21324911772700825,
           0.23854497801642713,
           0.25311832399967577,
           0.25653555744366946,
           0.24885528388828942,
           0.23063350923189954,
           0.20290271423033404,
           0.16712567793535366,
           0.12512633286074154,
           0.07900122348247962,
           0.031016232090896562,
           -0.016505930263581485,
           -0.061301442485772274,
           -0.10127808535368477,
           -0.13461888616197776,
           -0.15987112992755653,
           -0.1760159755489718
          ],
          [
           -0.18100457917857166,
           -0.17030698199702413,
           -0.1499137997580331,
           -0.12058300781296416,
           -0.08355939645450051,
           -0.040517266401149735,
           0.0065202421682302655,
           0.05528095770522729,
           0.10335731863015635,
           0.14832776112580212,
           0.18787932061729182,
           0.21992483146863692,
           0.242708395806646,
           0.254893432701845,
           0.25562857790064414,
           0.24458792842044305,
           0.22198354690007724,
           0.18854967763954522,
           0.14549969299473817,
           0.09445829662141196,
           0.037372873633869375,
           -0.02359098016854476,
           -0.08616386191642225,
           -0.14809048863531396,
           -0.20724458052139974,
           -0.2617343483375656,
           -0.309992807249447,
           -0.35084804028714445,
           -0.3835697098652554,
           -0.407889497747319,
           -0.42399466300627076,
           -0.43249545715781157,
           -0.43436863670247905,
           -0.4308806796227811,
           -0.42349546556438716,
           -0.4137720534188708,
           -0.40325873487122593,
           -0.39338972722403176,
           -0.3853906832849483,
           -0.3801986514917913,
           -0.3784012476539641,
           -0.3801986514917913,
           -0.3853906832849483,
           -0.39338972722403176,
           -0.40325873487122593,
           -0.4137720534188708,
           -0.42349546556438716,
           -0.4308806796227811,
           -0.43436863670247905,
           -0.43249545715781157,
           -0.42399466300627076,
           -0.407889497747319,
           -0.3835697098652554,
           -0.35084804028714445,
           -0.309992807249447,
           -0.2617343483375656,
           -0.20724458052139974,
           -0.14809048863531396,
           -0.08616386191642225,
           -0.02359098016854476,
           0.037372873633869375,
           0.09445829662141196,
           0.14549969299473817,
           0.18854967763954522,
           0.22198354690007724,
           0.24458792842044305,
           0.25562857790064414,
           0.254893432701845,
           0.242708395806646,
           0.21992483146863692,
           0.18787932061729182,
           0.14832776112580212,
           0.10335731863015635,
           0.05528095770522729,
           0.0065202421682302655,
           -0.040517266401149735,
           -0.08355939645450051,
           -0.12058300781296416,
           -0.1499137997580331,
           -0.17030698199702413
          ],
          [
           -0.17801860199902664,
           -0.16329221750830802,
           -0.13890582780165694,
           -0.10583439818051152,
           -0.06554239869174844,
           -0.019915691575644292,
           0.02883009042098063,
           0.07825990831739421,
           0.1258425822940911,
           0.16908036038891633,
           0.20563779959612533,
           0.23346296309158113,
           0.2508943222213973,
           0.25674750760048576,
           0.25037713957121355,
           0.2317103248693539,
           0.20124995852555586,
           0.16004763127913005,
           0.1096476200446325,
           0.05200503792795912,
           -0.010617349295218181,
           -0.0757679524450742,
           -0.1409342819269669,
           -0.2036729142303004,
           -0.2617343483375656,
           -0.31317589634427284,
           -0.3564564355250057,
           -0.3905078789395116,
           -0.4147795406040892,
           -0.42925310491460716,
           -0.43442757176285574,
           -0.4312752446188071,
           -0.421171462695804,
           -0.40580225753498556,
           -0.38705535500366767,
           -0.36690087535799776,
           -0.3472686537517362,
           -0.32992927901128904,
           -0.3163857196862348,
           -0.3077817863653888,
           -0.30483270332925,
           -0.3077817863653888,
           -0.3163857196862348,
           -0.32992927901128904,
           -0.3472686537517362,
           -0.36690087535799776,
           -0.38705535500366767,
           -0.40580225753498556,
           -0.421171462695804,
           -0.4312752446188071,
           -0.43442757176285574,
           -0.42925310491460716,
           -0.4147795406040892,
           -0.3905078789395116,
           -0.3564564355250057,
           -0.31317589634427284,
           -0.2617343483375656,
           -0.2036729142303004,
           -0.1409342819269669,
           -0.0757679524450742,
           -0.010617349295218181,
           0.05200503792795912,
           0.1096476200446325,
           0.16004763127913005,
           0.20124995852555586,
           0.2317103248693539,
           0.25037713957121355,
           0.25674750760048576,
           0.2508943222213973,
           0.23346296309158113,
           0.20563779959612533,
           0.16908036038891633,
           0.1258425822940911,
           0.07825990831739421,
           0.02883009042098063,
           -0.019915691575644292,
           -0.06554239869174844,
           -0.10583439818051152,
           -0.13890582780165694,
           -0.16329221750830802
          ],
          [
           -0.1738139924448547,
           -0.15527119023634722,
           -0.1271795169340972,
           -0.0907256642328181,
           -0.04758506314163741,
           0.0001569493213448689,
           0.05010748884225075,
           0.09968670899986165,
           0.14626024334832619,
           0.18727640924644018,
           0.22040074178662336,
           0.24364050109720906,
           0.2554522819126627,
           0.2548267267047997,
           0.2413455569066888,
           0.2152076253393881,
           0.17722237538812438,
           0.12877087581897034,
           0.07173638515428266,
           0.00840808631479302,
           -0.05863687417657578,
           -0.12666669235949252,
           -0.1929363397545002,
           -0.254829433326894,
           -0.309992807249447,
           -0.3564564355250057,
           -0.39273214882544505,
           -0.417885750201407,
           -0.43157859884674826,
           -0.434076417833265,
           -0.42622489689420734,
           -0.4093935036702951,
           -0.3853906832849483,
           -0.35635521764627226,
           -0.324629843053556,
           -0.2926242127644853,
           -0.2626748843273063,
           -0.23691017597600564,
           -0.21712746254366178,
           -0.20468978410715197,
           -0.20044755867978276,
           -0.20468978410715197,
           -0.21712746254366178,
           -0.23691017597600564,
           -0.2626748843273063,
           -0.2926242127644853,
           -0.324629843053556,
           -0.35635521764627226,
           -0.3853906832849483,
           -0.4093935036702951,
           -0.42622489689420734,
           -0.434076417833265,
           -0.43157859884674826,
           -0.417885750201407,
           -0.39273214882544505,
           -0.3564564355250057,
           -0.309992807249447,
           -0.254829433326894,
           -0.1929363397545002,
           -0.12666669235949252,
           -0.05863687417657578,
           0.00840808631479302,
           0.07173638515428266,
           0.12877087581897034,
           0.17722237538812438,
           0.2152076253393881,
           0.2413455569066888,
           0.2548267267047997,
           0.2554522819126627,
           0.24364050109720906,
           0.22040074178662336,
           0.18727640924644018,
           0.14626024334832619,
           0.09968670899986165,
           0.05010748884225075,
           0.0001569493213448689,
           -0.04758506314163741,
           -0.0907256642328181,
           -0.1271795169340972,
           -0.15527119023634722
          ],
          [
           -0.16865061331126227,
           -0.14653700801271363,
           -0.11505016730310495,
           -0.07558080422426758,
           -0.030004497243790427,
           0.019407660252202565,
           0.07010183827093616,
           0.11937185506223688,
           0.16450028494360933,
           0.20290271423033404,
           0.23226729318028777,
           0.2506818889186662,
           0.2567417315441088,
           0.24963143467045815,
           0.22917661128094333,
           0.19586192453391038,
           0.15081422331281308,
           0.0957513146109,
           0.032898814044057145,
           -0.03512071345143313,
           -0.10542055787501849,
           -0.17499760171649797,
           -0.24088710992360066,
           -0.3003162506586467,
           -0.35084804028714445,
           -0.3905078789395116,
           -0.417885750201407,
           -0.43220845214435083,
           -0.4333778373354074,
           -0.42197287899622543,
           -0.39921534828629784,
           -0.36690087535799776,
           -0.32729906443176787,
           -0.28302803533990717,
           -0.23691017597600564,
           -0.19181693290541052,
           -0.15051108239111077,
           -0.11549507625799743,
           -0.08887373699192957,
           -0.0722388011028484,
           -0.06658162124929747,
           -0.0722388011028484,
           -0.08887373699192957,
           -0.11549507625799743,
           -0.15051108239111077,
           -0.19181693290541052,
           -0.23691017597600564,
           -0.28302803533990717,
           -0.32729906443176787,
           -0.36690087535799776,
           -0.39921534828629784,
           -0.42197287899622543,
           -0.4333778373354074,
           -0.43220845214435083,
           -0.417885750201407,
           -0.3905078789395116,
           -0.35084804028714445,
           -0.3003162506586467,
           -0.24088710992360066,
           -0.17499760171649797,
           -0.10542055787501849,
           -0.03512071345143313,
           0.032898814044057145,
           0.0957513146109,
           0.15081422331281308,
           0.19586192453391038,
           0.22917661128094333,
           0.24963143467045815,
           0.2567417315441088,
           0.2506818889186662,
           0.23226729318028777,
           0.20290271423033404,
           0.16450028494360933,
           0.11937185506223688,
           0.07010183827093616,
           0.019407660252202565,
           -0.030004497243790427,
           -0.07558080422426758,
           -0.11505016730310495,
           -0.14653700801271363
          ],
          [
           -0.16278435980926842,
           -0.13736985507049018,
           -0.10281030706494565,
           -0.060690608986011814,
           -0.013073952151520388,
           0.03759772656874239,
           0.08862652853638416,
           0.13719827990417027,
           0.18053174205108255,
           0.21602931256266372,
           0.24142096714711753,
           0.254893432701845,
           0.25519727019112654,
           0.24172565029557566,
           0.21456006847846779,
           0.17447999195279823,
           0.12293536517635703,
           0.06198291759831892,
           -0.005810793613848673,
           -0.07749482277960204,
           -0.14988136590815446,
           -0.21970771693043264,
           -0.2838041182964338,
           -0.3392585664190622,
           -0.3835697098652554,
           -0.4147795406040892,
           -0.43157859884674826,
           -0.4333778373354074,
           -0.4203430458705095,
           -0.39338972722403176,
           -0.3541384336243295,
           -0.30483270332925,
           -0.24822376277499153,
           -0.187427969950852,
           -0.1257644689695074,
           -0.06658162124929747,
           -0.0130814139378774,
           0.03184881503912622,
           0.0657883626364726,
           0.08691073780520595,
           0.0940800053732448,
           0.08691073780520595,
           0.0657883626364726,
           0.03184881503912622,
           -0.0130814139378774,
           -0.06658162124929747,
           -0.1257644689695074,
           -0.187427969950852,
           -0.24822376277499153,
           -0.30483270332925,
           -0.3541384336243295,
           -0.39338972722403176,
           -0.4203430458705095,
           -0.4333778373354074,
           -0.43157859884674826,
           -0.4147795406040892,
           -0.3835697098652554,
           -0.3392585664190622,
           -0.2838041182964338,
           -0.21970771693043264,
           -0.14988136590815446,
           -0.07749482277960204,
           -0.005810793613848673,
           0.06198291759831892,
           0.12293536517635703,
           0.17447999195279823,
           0.21456006847846779,
           0.24172565029557566,
           0.25519727019112654,
           0.254893432701845,
           0.24142096714711753,
           0.21602931256266372,
           0.18053174205108255,
           0.13719827990417027,
           0.08862652853638416,
           0.03759772656874239,
           -0.013073952151520388,
           -0.060690608986011814,
           -0.10281030706494565,
           -0.13736985507049018
          ],
          [
           -0.15646143337355978,
           -0.12803192632998142,
           -0.0907256642328181,
           -0.046310064114579955,
           0.0029779491154211806,
           0.054541276561040686,
           0.10555493165712146,
           0.15311446345017118,
           0.1943926655354523,
           0.22679610352037188,
           0.24811283911536614,
           0.2566430509401283,
           0.25130504004127213,
           0.2317103248693539,
           0.1982031145119569,
           0.15186131748507978,
           0.09445829662141196,
           0.02838670735216783,
           -0.043452159632214875,
           -0.1177881852505473,
           -0.19114437378651342,
           -0.26001264723920775,
           -0.3210343185560354,
           -0.37117570680030565,
           -0.407889497747319,
           -0.42925310491460716,
           -0.434076417833265,
           -0.42197287899622543,
           -0.39338972722403176,
           -0.3495953826561967,
           -0.2926242127644853,
           -0.22518118755916025,
           -0.15051108239111077,
           -0.0722388011028484,
           0.005811034304373925,
           0.07980593576993696,
           0.14609889758077332,
           0.20141317105264114,
           0.24300880867803662,
           0.2688222513075441,
           0.277571630583514,
           0.2688222513075441,
           0.24300880867803662,
           0.20141317105264114,
           0.14609889758077332,
           0.07980593576993696,
           0.005811034304373925,
           -0.0722388011028484,
           -0.15051108239111077,
           -0.22518118755916025,
           -0.2926242127644853,
           -0.3495953826561967,
           -0.39338972722403176,
           -0.42197287899622543,
           -0.434076417833265,
           -0.42925310491460716,
           -0.407889497747319,
           -0.37117570680030565,
           -0.3210343185560354,
           -0.26001264723920775,
           -0.19114437378651342,
           -0.1177881852505473,
           -0.043452159632214875,
           0.02838670735216783,
           0.09445829662141196,
           0.15186131748507978,
           0.1982031145119569,
           0.2317103248693539,
           0.25130504004127213,
           0.2566430509401283,
           0.24811283911536614,
           0.22679610352037188,
           0.1943926655354523,
           0.15311446345017118,
           0.10555493165712146,
           0.054541276561040686,
           0.0029779491154211806,
           -0.046310064114579955,
           -0.0907256642328181,
           -0.12803192632998142
          ],
          [
           -0.1499137997580331,
           -0.11876378051842666,
           -0.07903277128303789,
           -0.032657564269347995,
           0.017966041941118966,
           0.07010183827093616,
           0.12081441070397907,
           0.16712567793535366,
           0.2061784643801796,
           0.23539823538075702,
           0.25264402764959015,
           0.2563400102730029,
           0.2455799958764798,
           0.22019854657881394,
           0.18080401871815463,
           0.12877087581897034,
           0.0661907655654817,
           -0.004215913110515241,
           -0.0792240541655952,
           -0.15525760655490364,
           -0.22856545626592412,
           -0.29541051237375787,
           -0.35226222727992795,
           -0.39598244357893553,
           -0.42399466300627076,
           -0.43442757176285574,
           -0.42622489689420734,
           -0.39921534828629784,
           -0.3541384336243295,
           -0.2926242127644853,
           -0.21712746254366178,
           -0.13081912452072303,
           -0.03744017720227128,
           0.05887491198907235,
           0.1537963512162099,
           0.24300880867803662,
           0.32242214992953067,
           0.38837235101706136,
           0.43780226922078175,
           0.4684129583840573,
           0.47877771528316515,
           0.4684129583840573,
           0.43780226922078175,
           0.38837235101706136,
           0.32242214992953067,
           0.24300880867803662,
           0.1537963512162099,
           0.05887491198907235,
           -0.03744017720227128,
           -0.13081912452072303,
           -0.21712746254366178,
           -0.2926242127644853,
           -0.3541384336243295,
           -0.39921534828629784,
           -0.42622489689420734,
           -0.43442757176285574,
           -0.42399466300627076,
           -0.39598244357893553,
           -0.35226222727992795,
           -0.29541051237375787,
           -0.22856545626592412,
           -0.15525760655490364,
           -0.0792240541655952,
           -0.004215913110515241,
           0.0661907655654817,
           0.12877087581897034,
           0.18080401871815463,
           0.22019854657881394,
           0.2455799958764798,
           0.2563400102730029,
           0.25264402764959015,
           0.23539823538075702,
           0.2061784643801796,
           0.16712567793535366,
           0.12081441070397907,
           0.07010183827093616,
           0.017966041941118966,
           -0.032657564269347995,
           -0.07903277128303789,
           -0.11876378051842666
          ],
          [
           -0.14335579129849668,
           -0.10978201113265723,
           -0.06793803188546253,
           -0.019915691575644292,
           0.031745840459068614,
           0.08418731130237875,
           0.13437885433763305,
           0.1792839709402817,
           0.21602931256266372,
           0.2420710146043941,
           0.255348298963932,
           0.25441554164532254,
           0.23854497801642713,
           0.20779364608280457,
           0.1630299764243758,
           0.10591753298818528,
           0.03885568116655977,
           -0.03512071345143313,
           -0.11247819731414006,
           -0.18935183535374994,
           -0.2617343483375656,
           -0.32567778292945404,
           -0.37749737145928347,
           -0.41396693622794944,
           -0.43249545715781157,
           -0.4312752446188071,
           -0.4093935036702951,
           -0.36690087535799776,
           -0.30483270332925,
           -0.22518118755916025,
           -0.13081912452072303,
           -0.025378460035175753,
           0.08691073780520595,
           0.20141317105264114,
           0.3133036361206578,
           0.4177941096414197,
           0.5103612401471838,
           0.5869627944413911,
           0.6442321103834694,
           0.6796406846183429,
           0.69162061945593,
           0.6796406846183429,
           0.6442321103834694,
           0.5869627944413911,
           0.5103612401471838,
           0.4177941096414197,
           0.3133036361206578,
           0.20141317105264114,
           0.08691073780520595,
           -0.025378460035175753,
           -0.13081912452072303,
           -0.22518118755916025,
           -0.30483270332925,
           -0.36690087535799776,
           -0.4093935036702951,
           -0.4312752446188071,
           -0.43249545715781157,
           -0.41396693622794944,
           -0.37749737145928347,
           -0.32567778292945404,
           -0.2617343483375656,
           -0.18935183535374994,
           -0.11247819731414006,
           -0.03512071345143313,
           0.03885568116655977,
           0.10591753298818528,
           0.1630299764243758,
           0.20779364608280457,
           0.23854497801642713,
           0.25441554164532254,
           0.255348298963932,
           0.2420710146043941,
           0.21602931256266372,
           0.1792839709402817,
           0.13437885433763305,
           0.08418731130237875,
           0.031745840459068614,
           -0.019915691575644292,
           -0.06793803188546253,
           -0.10978201113265723
          ],
          [
           -0.13698176393514344,
           -0.10127808535368477,
           -0.05761803324395176,
           -0.00823327044894154,
           0.044209509361482956,
           0.09674378883254962,
           0.14626024334832619,
           0.18967745729212915,
           0.22411724822563847,
           0.24707500803079696,
           0.256575492104657,
           0.25130504004127213,
           0.23071227369415245,
           0.19507084218595108,
           0.14549969299473817,
           0.08393854575868848,
           0.013078615468659323,
           -0.06374895250625122,
           -0.1427221428215067,
           -0.21970771693043264,
           -0.29046275344788247,
           -0.35084804028714445,
           -0.3970424421347404,
           -0.42574709936268906,
           -0.43436863670247905,
           -0.421171462695804,
           -0.3853906832849483,
           -0.32729906443176787,
           -0.24822376277499153,
           -0.15051108239111077,
           -0.03744017720227128,
           0.08691073780520595,
           0.21783961811686398,
           0.35022902170777614,
           0.47877771528316515,
           0.5982441516081277,
           0.7036898157513979,
           0.7907103570985019,
           0.8556429685382863,
           0.8957396184216221,
           0.9092974268256817,
           0.8957396184216221,
           0.8556429685382863,
           0.7907103570985019,
           0.7036898157513979,
           0.5982441516081277,
           0.47877771528316515,
           0.35022902170777614,
           0.21783961811686398,
           0.08691073780520595,
           -0.03744017720227128,
           -0.15051108239111077,
           -0.24822376277499153,
           -0.32729906443176787,
           -0.3853906832849483,
           -0.421171462695804,
           -0.43436863670247905,
           -0.42574709936268906,
           -0.3970424421347404,
           -0.35084804028714445,
           -0.29046275344788247,
           -0.21970771693043264,
           -0.1427221428215067,
           -0.06374895250625122,
           0.013078615468659323,
           0.08393854575868848,
           0.14549969299473817,
           0.19507084218595108,
           0.23071227369415245,
           0.25130504004127213,
           0.256575492104657,
           0.24707500803079696,
           0.22411724822563847,
           0.18967745729212915,
           0.14626024334832619,
           0.09674378883254962,
           0.044209509361482956,
           -0.00823327044894154,
           -0.05761803324395176,
           -0.10127808535368477
          ],
          [
           -0.13096468174943518,
           -0.09341816596346665,
           -0.04822085787410071,
           0.0022716100207446164,
           0.05528095770522729,
           0.10774865812501504,
           0.15649972810645998,
           0.19841943861188654,
           0.23063350923189954,
           0.2506818889186662,
           0.2566762997375786,
           0.24743234013685533,
           0.2225680860000738,
           0.18256273925541686,
           0.12877087581897034,
           0.06339013493636744,
           -0.010617349295218181,
           -0.08964697741323371,
           -0.1696119802323752,
           -0.24613461781837798,
           -0.31475910259630246,
           -0.37117570680030565,
           -0.41144469052055266,
           -0.43220845214435083,
           -0.4308806796227811,
           -0.40580225753498556,
           -0.35635521764627226,
           -0.28302803533990717,
           -0.187427969950852,
           -0.0722388011028484,
           0.05887491198907235,
           0.20141317105264114,
           0.35022902170777614,
           0.49975144871271493,
           0.6442321103834694,
           0.7780040258931075,
           0.8957396184216221,
           0.992695449836068,
           1.0649315658049785,
           1.1094945766040856,
           1.124555367855928,
           1.1094945766040856,
           1.0649315658049785,
           0.992695449836068,
           0.8957396184216221,
           0.7780040258931075,
           0.6442321103834694,
           0.49975144871271493,
           0.35022902170777614,
           0.20141317105264114,
           0.05887491198907235,
           -0.0722388011028484,
           -0.187427969950852,
           -0.28302803533990717,
           -0.35635521764627226,
           -0.40580225753498556,
           -0.4308806796227811,
           -0.43220845214435083,
           -0.41144469052055266,
           -0.37117570680030565,
           -0.31475910259630246,
           -0.24613461781837798,
           -0.1696119802323752,
           -0.08964697741323371,
           -0.010617349295218181,
           0.06339013493636744,
           0.12877087581897034,
           0.18256273925541686,
           0.2225680860000738,
           0.24743234013685533,
           0.2566762997375786,
           0.2506818889186662,
           0.23063350923189954,
           0.19841943861188654,
           0.15649972810645998,
           0.10774865812501504,
           0.05528095770522729,
           0.0022716100207446164,
           -0.04822085787410071,
           -0.09341816596346665
          ],
          [
           -0.1254554756233313,
           -0.08634370978474622,
           -0.039868134180728126,
           0.011507919583092052,
           0.0649104168254659,
           0.11720338291232232,
           0.16515865057394133,
           0.20563779959612533,
           0.23577655069724138,
           0.2531614457800734,
           0.2559887694405144,
           0.2431963471432226,
           0.21456006847846779,
           0.17074867404778504,
           0.11333242903336226,
           0.044743679368913644,
           -0.03181017613329085,
           -0.11247819731414006,
           -0.1929363397545002,
           -0.268589046149572,
           -0.33479237619194996,
           -0.38708768931988075,
           -0.42143408131469146,
           -0.43442757176285574,
           -0.42349546556438716,
           -0.38705535500366767,
           -0.324629843053556,
           -0.23691017597600564,
           -0.1257644689695074,
           0.005811034304373925,
           0.1537963512162099,
           0.3133036361206578,
           0.47877771528316515,
           0.6442321103834694,
           0.803509484779075,
           0.9505541014891831,
           1.0796831610910465,
           1.1858438330909473,
           1.2648434125627805,
           1.3135412961886945,
           1.3299933154720727,
           1.3135412961886945,
           1.2648434125627805,
           1.1858438330909473,
           1.0796831610910465,
           0.9505541014891831,
           0.803509484779075,
           0.6442321103834694,
           0.47877771528316515,
           0.3133036361206578,
           0.1537963512162099,
           0.005811034304373925,
           -0.1257644689695074,
           -0.23691017597600564,
           -0.324629843053556,
           -0.38705535500366767,
           -0.42349546556438716,
           -0.43442757176285574,
           -0.42143408131469146,
           -0.38708768931988075,
           -0.33479237619194996,
           -0.268589046149572,
           -0.1929363397545002,
           -0.11247819731414006,
           -0.03181017613329085,
           0.044743679368913644,
           0.11333242903336226,
           0.17074867404778504,
           0.21456006847846779,
           0.2431963471432226,
           0.2559887694405144,
           0.2531614457800734,
           0.23577655069724138,
           0.20563779959612533,
           0.16515865057394133,
           0.11720338291232232,
           0.0649104168254659,
           0.011507919583092052,
           -0.039868134180728126,
           -0.08634370978474622
          ],
          [
           -0.12058300781296416,
           -0.08017262722723162,
           -0.032657564269347995,
           0.019407660252202565,
           0.07306884206017318,
           0.12512633286074154,
           0.17230988766358785,
           0.21146505144444128,
           0.23974108638511749,
           0.25477004091850136,
           0.2548267267047997,
           0.23896010343988033,
           0.2070878465419809,
           0.16004763127913005,
           0.09960082298540655,
           0.02838670735216783,
           -0.050171999808914604,
           -0.132008995765264,
           -0.2125937105436689,
           -0.28714197491104243,
           -0.35084804028714445,
           -0.3991265770886398,
           -0.42785247459104203,
           -0.4335860886421158,
           -0.4137720534188708,
           -0.36690087535799776,
           -0.2926242127644853,
           -0.19181693290541052,
           -0.06658162124929747,
           0.07980593576993696,
           0.24300880867803662,
           0.4177941096414197,
           0.5982441516081277,
           0.7780040258931075,
           0.9505541014891831,
           1.1094945766040856,
           1.2488284837498442,
           1.3632295064019535,
           1.4482816142111579,
           1.500678835049543,
           1.518375390968938,
           1.500678835049543,
           1.4482816142111579,
           1.3632295064019535,
           1.2488284837498442,
           1.1094945766040856,
           0.9505541014891831,
           0.7780040258931075,
           0.5982441516081277,
           0.4177941096414197,
           0.24300880867803662,
           0.07980593576993696,
           -0.06658162124929747,
           -0.19181693290541052,
           -0.2926242127644853,
           -0.36690087535799776,
           -0.4137720534188708,
           -0.4335860886421158,
           -0.42785247459104203,
           -0.3991265770886398,
           -0.35084804028714445,
           -0.28714197491104243,
           -0.2125937105436689,
           -0.132008995765264,
           -0.050171999808914604,
           0.02838670735216783,
           0.09960082298540655,
           0.16004763127913005,
           0.2070878465419809,
           0.23896010343988033,
           0.2548267267047997,
           0.25477004091850136,
           0.23974108638511749,
           0.21146505144444128,
           0.17230988766358785,
           0.12512633286074154,
           0.07306884206017318,
           0.019407660252202565,
           -0.032657564269347995,
           -0.08017262722723162
          ],
          [
           -0.1164544699167505,
           -0.0750007897964791,
           -0.026665677985416577,
           0.025921773001301992,
           0.07974244535617742,
           0.13154597877649798,
           0.17802983029511174,
           0.21602931256266372,
           0.242708395806646,
           0.2557406839380664,
           0.25347017586536014,
           0.23504220166614895,
           0.20049625055173417,
           0.15081422331281308,
           0.08791985781076668,
           0.014627580006334946,
           -0.06545830501430487,
           -0.14809048863531396,
           -0.22856545626592412,
           -0.30194177876754097,
           -0.3632795822101567,
           -0.407889497747319,
           -0.43157859884674826,
           -0.4308806796227811,
           -0.40325873487122593,
           -0.3472686537517362,
           -0.2626748843273063,
           -0.15051108239111077,
           -0.0130814139378774,
           0.14609889758077332,
           0.32242214992953067,
           0.5103612401471838,
           0.7036898157513979,
           0.8957396184216221,
           1.0796831610910465,
           1.2488284837498442,
           1.3969119972732167,
           1.518375390968938,
           1.608613254431116,
           1.6641794167481594,
           1.682941969615793,
           1.6641794167481594,
           1.608613254431116,
           1.518375390968938,
           1.3969119972732167,
           1.2488284837498442,
           1.0796831610910465,
           0.8957396184216221,
           0.7036898157513979,
           0.5103612401471838,
           0.32242214992953067,
           0.14609889758077332,
           -0.0130814139378774,
           -0.15051108239111077,
           -0.2626748843273063,
           -0.3472686537517362,
           -0.40325873487122593,
           -0.4308806796227811,
           -0.43157859884674826,
           -0.407889497747319,
           -0.3632795822101567,
           -0.30194177876754097,
           -0.22856545626592412,
           -0.14809048863531396,
           -0.06545830501430487,
           0.014627580006334946,
           0.08791985781076668,
           0.15081422331281308,
           0.20049625055173417,
           0.23504220166614895,
           0.25347017586536014,
           0.2557406839380664,
           0.242708395806646,
           0.21602931256266372,
           0.17802983029511174,
           0.13154597877649798,
           0.07974244535617742,
           0.025921773001301992,
           -0.026665677985416577,
           -0.0750007897964791
          ],
          [
           -0.1131560467581887,
           -0.07090368426500879,
           -0.021950582012676394,
           0.031016232090896562,
           0.08492762656935865,
           0.13649472168344115,
           0.18239124981424537,
           0.21944644111666822,
           0.24483804991090946,
           0.2562747828163765,
           0.252157618714697,
           0.2317103248693539,
           0.19507084218595108,
           0.1433370736825879,
           0.07856287339249271,
           0.0037025838949493145,
           -0.07749482277960204,
           -0.16063822727306362,
           -0.24088710992360066,
           -0.31317589634427284,
           -0.37245933283868765,
           -0.41396693622794944,
           -0.4334537754581445,
           -0.4274347075936389,
           -0.39338972722403176,
           -0.32992927901128904,
           -0.23691017597600564,
           -0.11549507625799743,
           0.03184881503912622,
           0.20141317105264114,
           0.38837235101706136,
           0.5869627944413911,
           0.7907103570985019,
           0.992695449836068,
           1.1858438330909473,
           1.3632295064019535,
           1.518375390968938,
           1.6455374774968983,
           1.7399588071171015,
           1.7980810383563555,
           1.8177033600622243,
           1.7980810383563555,
           1.7399588071171015,
           1.6455374774968983,
           1.518375390968938,
           1.3632295064019535,
           1.1858438330909473,
           0.992695449836068,
           0.7907103570985019,
           0.5869627944413911,
           0.38837235101706136,
           0.20141317105264114,
           0.03184881503912622,
           -0.11549507625799743,
           -0.23691017597600564,
           -0.32992927901128904,
           -0.39338972722403176,
           -0.4274347075936389,
           -0.4334537754581445,
           -0.41396693622794944,
           -0.37245933283868765,
           -0.31317589634427284,
           -0.24088710992360066,
           -0.16063822727306362,
           -0.07749482277960204,
           0.0037025838949493145,
           0.07856287339249271,
           0.1433370736825879,
           0.19507084218595108,
           0.2317103248693539,
           0.252157618714697,
           0.2562747828163765,
           0.24483804991090946,
           0.21944644111666822,
           0.18239124981424537,
           0.13649472168344115,
           0.08492762656935865,
           0.031016232090896562,
           -0.021950582012676394,
           -0.07090368426500879
          ],
          [
           -0.1107536917561867,
           -0.06793803188546253,
           -0.01855449981019833,
           0.03466854669458865,
           0.08862652853638416,
           0.14000357308347133,
           0.18545724476618586,
           0.22181346801290225,
           0.24626113579560338,
           0.25653555744366946,
           0.25108014921898075,
           0.22917661128094333,
           0.19103523332295086,
           0.13783886506830845,
           0.07173638515428266,
           -0.004215913110515241,
           -0.08616386191642225,
           -0.1696119802323752,
           -0.24962054293732017,
           -0.3210343185560354,
           -0.3787322233669178,
           -0.417885750201407,
           -0.434213248547002,
           -0.42421701152445723,
           -0.3853906832849483,
           -0.3163857196862348,
           -0.21712746254366178,
           -0.08887373699192957,
           0.0657883626364726,
           0.24300880867803662,
           0.43780226922078175,
           0.6442321103834694,
           0.8556429685382863,
           1.0649315658049785,
           1.2648434125627805,
           1.4482816142111579,
           1.608613254431116,
           1.7399588071171015,
           1.8374507397311368,
           1.8974488797623419,
           1.917702154416812,
           1.8974488797623419,
           1.8374507397311368,
           1.7399588071171015,
           1.608613254431116,
           1.4482816142111579,
           1.2648434125627805,
           1.0649315658049785,
           0.8556429685382863,
           0.6442321103834694,
           0.43780226922078175,
           0.24300880867803662,
           0.0657883626364726,
           -0.08887373699192957,
           -0.21712746254366178,
           -0.3163857196862348,
           -0.3853906832849483,
           -0.42421701152445723,
           -0.434213248547002,
           -0.417885750201407,
           -0.3787322233669178,
           -0.3210343185560354,
           -0.24962054293732017,
           -0.1696119802323752,
           -0.08616386191642225,
           -0.004215913110515241,
           0.07173638515428266,
           0.13783886506830845,
           0.19103523332295086,
           0.22917661128094333,
           0.25108014921898075,
           0.25653555744366946,
           0.24626113579560338,
           0.22181346801290225,
           0.18545724476618586,
           0.14000357308347133,
           0.08862652853638416,
           0.03466854669458865,
           -0.01855449981019833,
           -0.06793803188546253
          ],
          [
           -0.10929387900894774,
           -0.06614321685638791,
           -0.016505930263581485,
           0.03686485131708162,
           0.09084339726921295,
           0.14209785531573388,
           0.18727640924644018,
           0.2232034254780841,
           0.24707500803079696,
           0.2566430509401283,
           0.25037713957121355,
           0.22759450814784551,
           0.18854967763954522,
           0.134477311926808,
           0.06758414818694233,
           -0.009011537058698997,
           -0.09139170665445415,
           -0.17499760171649797,
           -0.254829433326894,
           -0.32567778292945404,
           -0.382375848005458,
           -0.4200602785751461,
           -0.43442757176285574,
           -0.42197287899622543,
           -0.3801986514917913,
           -0.3077817863653888,
           -0.20468978410715197,
           -0.0722388011028484,
           0.08691073780520595,
           0.2688222513075441,
           0.4684129583840573,
           0.6796406846183429,
           0.8957396184216221,
           1.1094945766040856,
           1.3135412961886945,
           1.500678835049543,
           1.6641794167481594,
           1.7980810383563555,
           1.8974488797623419,
           1.9585929762944412,
           1.9792316740361835,
           1.9585929762944412,
           1.8974488797623419,
           1.7980810383563555,
           1.6641794167481594,
           1.500678835049543,
           1.3135412961886945,
           1.1094945766040856,
           0.8957396184216221,
           0.6796406846183429,
           0.4684129583840573,
           0.2688222513075441,
           0.08691073780520595,
           -0.0722388011028484,
           -0.20468978410715197,
           -0.3077817863653888,
           -0.3801986514917913,
           -0.42197287899622543,
           -0.43442757176285574,
           -0.4200602785751461,
           -0.382375848005458,
           -0.32567778292945404,
           -0.254829433326894,
           -0.17499760171649797,
           -0.09139170665445415,
           -0.009011537058698997,
           0.06758414818694233,
           0.134477311926808,
           0.18854967763954522,
           0.22759450814784551,
           0.25037713957121355,
           0.2566430509401283,
           0.24707500803079696,
           0.2232034254780841,
           0.18727640924644018,
           0.14209785531573388,
           0.09084339726921295,
           0.03686485131708162,
           -0.016505930263581485,
           -0.06614321685638791
          ],
          [
           -0.10880422217787396,
           -0.06554239869174844,
           -0.015821288518275644,
           0.03759772656874239,
           0.09158188560927924,
           0.14279404657238684,
           0.18787932061729182,
           0.22366162672468853,
           0.24733956165584545,
           0.2566706526738519,
           0.25013332713993036,
           0.2270567942100705,
           0.18771045677679687,
           0.1333463922312941,
           0.0661907655654817,
           -0.010617349295218181,
           -0.09313849939964196,
           -0.17679272260843765,
           -0.2565601183892334,
           -0.32721314035298743,
           -0.3835697098652554,
           -0.4207548585159486,
           -0.43445783007337646,
           -0.421171462695804,
           -0.3784012476539641,
           -0.30483270332925,
           -0.20044755867978276,
           -0.06658162124929747,
           0.0940800053732448,
           0.277571630583514,
           0.47877771528316515,
           0.69162061945593,
           0.9092974268256817,
           1.124555367855928,
           1.3299933154720727,
           1.518375390968938,
           1.682941969615793,
           1.8177033600622243,
           1.917702154416812,
           1.9792316740361835,
           null,
           1.9792316740361835,
           1.917702154416812,
           1.8177033600622243,
           1.682941969615793,
           1.518375390968938,
           1.3299933154720727,
           1.124555367855928,
           0.9092974268256817,
           0.69162061945593,
           0.47877771528316515,
           0.277571630583514,
           0.0940800053732448,
           -0.06658162124929747,
           -0.20044755867978276,
           -0.30483270332925,
           -0.3784012476539641,
           -0.421171462695804,
           -0.43445783007337646,
           -0.4207548585159486,
           -0.3835697098652554,
           -0.32721314035298743,
           -0.2565601183892334,
           -0.17679272260843765,
           -0.09313849939964196,
           -0.010617349295218181,
           0.0661907655654817,
           0.1333463922312941,
           0.18771045677679687,
           0.2270567942100705,
           0.25013332713993036,
           0.2566706526738519,
           0.24733956165584545,
           0.22366162672468853,
           0.18787932061729182,
           0.14279404657238684,
           0.09158188560927924,
           0.03759772656874239,
           -0.015821288518275644,
           -0.06554239869174844
          ],
          [
           -0.10929387900894774,
           -0.06614321685638791,
           -0.016505930263581485,
           0.03686485131708162,
           0.09084339726921295,
           0.14209785531573388,
           0.18727640924644018,
           0.2232034254780841,
           0.24707500803079696,
           0.2566430509401283,
           0.25037713957121355,
           0.22759450814784551,
           0.18854967763954522,
           0.134477311926808,
           0.06758414818694233,
           -0.009011537058698997,
           -0.09139170665445415,
           -0.17499760171649797,
           -0.254829433326894,
           -0.32567778292945404,
           -0.382375848005458,
           -0.4200602785751461,
           -0.43442757176285574,
           -0.42197287899622543,
           -0.3801986514917913,
           -0.3077817863653888,
           -0.20468978410715197,
           -0.0722388011028484,
           0.08691073780520595,
           0.2688222513075441,
           0.4684129583840573,
           0.6796406846183429,
           0.8957396184216221,
           1.1094945766040856,
           1.3135412961886945,
           1.500678835049543,
           1.6641794167481594,
           1.7980810383563555,
           1.8974488797623419,
           1.9585929762944412,
           1.9792316740361835,
           1.9585929762944412,
           1.8974488797623419,
           1.7980810383563555,
           1.6641794167481594,
           1.500678835049543,
           1.3135412961886945,
           1.1094945766040856,
           0.8957396184216221,
           0.6796406846183429,
           0.4684129583840573,
           0.2688222513075441,
           0.08691073780520595,
           -0.0722388011028484,
           -0.20468978410715197,
           -0.3077817863653888,
           -0.3801986514917913,
           -0.42197287899622543,
           -0.43442757176285574,
           -0.4200602785751461,
           -0.382375848005458,
           -0.32567778292945404,
           -0.254829433326894,
           -0.17499760171649797,
           -0.09139170665445415,
           -0.009011537058698997,
           0.06758414818694233,
           0.134477311926808,
           0.18854967763954522,
           0.22759450814784551,
           0.25037713957121355,
           0.2566430509401283,
           0.24707500803079696,
           0.2232034254780841,
           0.18727640924644018,
           0.14209785531573388,
           0.09084339726921295,
           0.03686485131708162,
           -0.016505930263581485,
           -0.06614321685638791
          ],
          [
           -0.1107536917561867,
           -0.06793803188546253,
           -0.01855449981019833,
           0.03466854669458865,
           0.08862652853638416,
           0.14000357308347133,
           0.18545724476618586,
           0.22181346801290225,
           0.24626113579560338,
           0.25653555744366946,
           0.25108014921898075,
           0.22917661128094333,
           0.19103523332295086,
           0.13783886506830845,
           0.07173638515428266,
           -0.004215913110515241,
           -0.08616386191642225,
           -0.1696119802323752,
           -0.24962054293732017,
           -0.3210343185560354,
           -0.3787322233669178,
           -0.417885750201407,
           -0.434213248547002,
           -0.42421701152445723,
           -0.3853906832849483,
           -0.3163857196862348,
           -0.21712746254366178,
           -0.08887373699192957,
           0.0657883626364726,
           0.24300880867803662,
           0.43780226922078175,
           0.6442321103834694,
           0.8556429685382863,
           1.0649315658049785,
           1.2648434125627805,
           1.4482816142111579,
           1.608613254431116,
           1.7399588071171015,
           1.8374507397311368,
           1.8974488797623419,
           1.917702154416812,
           1.8974488797623419,
           1.8374507397311368,
           1.7399588071171015,
           1.608613254431116,
           1.4482816142111579,
           1.2648434125627805,
           1.0649315658049785,
           0.8556429685382863,
           0.6442321103834694,
           0.43780226922078175,
           0.24300880867803662,
           0.0657883626364726,
           -0.08887373699192957,
           -0.21712746254366178,
           -0.3163857196862348,
           -0.3853906832849483,
           -0.42421701152445723,
           -0.434213248547002,
           -0.417885750201407,
           -0.3787322233669178,
           -0.3210343185560354,
           -0.24962054293732017,
           -0.1696119802323752,
           -0.08616386191642225,
           -0.004215913110515241,
           0.07173638515428266,
           0.13783886506830845,
           0.19103523332295086,
           0.22917661128094333,
           0.25108014921898075,
           0.25653555744366946,
           0.24626113579560338,
           0.22181346801290225,
           0.18545724476618586,
           0.14000357308347133,
           0.08862652853638416,
           0.03466854669458865,
           -0.01855449981019833,
           -0.06793803188546253
          ],
          [
           -0.1131560467581887,
           -0.07090368426500879,
           -0.021950582012676394,
           0.031016232090896562,
           0.08492762656935865,
           0.13649472168344115,
           0.18239124981424537,
           0.21944644111666822,
           0.24483804991090946,
           0.2562747828163765,
           0.252157618714697,
           0.2317103248693539,
           0.19507084218595108,
           0.1433370736825879,
           0.07856287339249271,
           0.0037025838949493145,
           -0.07749482277960204,
           -0.16063822727306362,
           -0.24088710992360066,
           -0.31317589634427284,
           -0.37245933283868765,
           -0.41396693622794944,
           -0.4334537754581445,
           -0.4274347075936389,
           -0.39338972722403176,
           -0.32992927901128904,
           -0.23691017597600564,
           -0.11549507625799743,
           0.03184881503912622,
           0.20141317105264114,
           0.38837235101706136,
           0.5869627944413911,
           0.7907103570985019,
           0.992695449836068,
           1.1858438330909473,
           1.3632295064019535,
           1.518375390968938,
           1.6455374774968983,
           1.7399588071171015,
           1.7980810383563555,
           1.8177033600622243,
           1.7980810383563555,
           1.7399588071171015,
           1.6455374774968983,
           1.518375390968938,
           1.3632295064019535,
           1.1858438330909473,
           0.992695449836068,
           0.7907103570985019,
           0.5869627944413911,
           0.38837235101706136,
           0.20141317105264114,
           0.03184881503912622,
           -0.11549507625799743,
           -0.23691017597600564,
           -0.32992927901128904,
           -0.39338972722403176,
           -0.4274347075936389,
           -0.4334537754581445,
           -0.41396693622794944,
           -0.37245933283868765,
           -0.31317589634427284,
           -0.24088710992360066,
           -0.16063822727306362,
           -0.07749482277960204,
           0.0037025838949493145,
           0.07856287339249271,
           0.1433370736825879,
           0.19507084218595108,
           0.2317103248693539,
           0.252157618714697,
           0.2562747828163765,
           0.24483804991090946,
           0.21944644111666822,
           0.18239124981424537,
           0.13649472168344115,
           0.08492762656935865,
           0.031016232090896562,
           -0.021950582012676394,
           -0.07090368426500879
          ],
          [
           -0.1164544699167505,
           -0.0750007897964791,
           -0.026665677985416577,
           0.025921773001301992,
           0.07974244535617742,
           0.13154597877649798,
           0.17802983029511174,
           0.21602931256266372,
           0.242708395806646,
           0.2557406839380664,
           0.25347017586536014,
           0.23504220166614895,
           0.20049625055173417,
           0.15081422331281308,
           0.08791985781076668,
           0.014627580006334946,
           -0.06545830501430487,
           -0.14809048863531396,
           -0.22856545626592412,
           -0.30194177876754097,
           -0.3632795822101567,
           -0.407889497747319,
           -0.43157859884674826,
           -0.4308806796227811,
           -0.40325873487122593,
           -0.3472686537517362,
           -0.2626748843273063,
           -0.15051108239111077,
           -0.0130814139378774,
           0.14609889758077332,
           0.32242214992953067,
           0.5103612401471838,
           0.7036898157513979,
           0.8957396184216221,
           1.0796831610910465,
           1.2488284837498442,
           1.3969119972732167,
           1.518375390968938,
           1.608613254431116,
           1.6641794167481594,
           1.682941969615793,
           1.6641794167481594,
           1.608613254431116,
           1.518375390968938,
           1.3969119972732167,
           1.2488284837498442,
           1.0796831610910465,
           0.8957396184216221,
           0.7036898157513979,
           0.5103612401471838,
           0.32242214992953067,
           0.14609889758077332,
           -0.0130814139378774,
           -0.15051108239111077,
           -0.2626748843273063,
           -0.3472686537517362,
           -0.40325873487122593,
           -0.4308806796227811,
           -0.43157859884674826,
           -0.407889497747319,
           -0.3632795822101567,
           -0.30194177876754097,
           -0.22856545626592412,
           -0.14809048863531396,
           -0.06545830501430487,
           0.014627580006334946,
           0.08791985781076668,
           0.15081422331281308,
           0.20049625055173417,
           0.23504220166614895,
           0.25347017586536014,
           0.2557406839380664,
           0.242708395806646,
           0.21602931256266372,
           0.17802983029511174,
           0.13154597877649798,
           0.07974244535617742,
           0.025921773001301992,
           -0.026665677985416577,
           -0.0750007897964791
          ],
          [
           -0.12058300781296416,
           -0.08017262722723162,
           -0.032657564269347995,
           0.019407660252202565,
           0.07306884206017318,
           0.12512633286074154,
           0.17230988766358785,
           0.21146505144444128,
           0.23974108638511749,
           0.25477004091850136,
           0.2548267267047997,
           0.23896010343988033,
           0.2070878465419809,
           0.16004763127913005,
           0.09960082298540655,
           0.02838670735216783,
           -0.050171999808914604,
           -0.132008995765264,
           -0.2125937105436689,
           -0.28714197491104243,
           -0.35084804028714445,
           -0.3991265770886398,
           -0.42785247459104203,
           -0.4335860886421158,
           -0.4137720534188708,
           -0.36690087535799776,
           -0.2926242127644853,
           -0.19181693290541052,
           -0.06658162124929747,
           0.07980593576993696,
           0.24300880867803662,
           0.4177941096414197,
           0.5982441516081277,
           0.7780040258931075,
           0.9505541014891831,
           1.1094945766040856,
           1.2488284837498442,
           1.3632295064019535,
           1.4482816142111579,
           1.500678835049543,
           1.518375390968938,
           1.500678835049543,
           1.4482816142111579,
           1.3632295064019535,
           1.2488284837498442,
           1.1094945766040856,
           0.9505541014891831,
           0.7780040258931075,
           0.5982441516081277,
           0.4177941096414197,
           0.24300880867803662,
           0.07980593576993696,
           -0.06658162124929747,
           -0.19181693290541052,
           -0.2926242127644853,
           -0.36690087535799776,
           -0.4137720534188708,
           -0.4335860886421158,
           -0.42785247459104203,
           -0.3991265770886398,
           -0.35084804028714445,
           -0.28714197491104243,
           -0.2125937105436689,
           -0.132008995765264,
           -0.050171999808914604,
           0.02838670735216783,
           0.09960082298540655,
           0.16004763127913005,
           0.2070878465419809,
           0.23896010343988033,
           0.2548267267047997,
           0.25477004091850136,
           0.23974108638511749,
           0.21146505144444128,
           0.17230988766358785,
           0.12512633286074154,
           0.07306884206017318,
           0.019407660252202565,
           -0.032657564269347995,
           -0.08017262722723162
          ],
          [
           -0.1254554756233313,
           -0.08634370978474622,
           -0.039868134180728126,
           0.011507919583092052,
           0.0649104168254659,
           0.11720338291232232,
           0.16515865057394133,
           0.20563779959612533,
           0.23577655069724138,
           0.2531614457800734,
           0.2559887694405144,
           0.2431963471432226,
           0.21456006847846779,
           0.17074867404778504,
           0.11333242903336226,
           0.044743679368913644,
           -0.03181017613329085,
           -0.11247819731414006,
           -0.1929363397545002,
           -0.268589046149572,
           -0.33479237619194996,
           -0.38708768931988075,
           -0.42143408131469146,
           -0.43442757176285574,
           -0.42349546556438716,
           -0.38705535500366767,
           -0.324629843053556,
           -0.23691017597600564,
           -0.1257644689695074,
           0.005811034304373925,
           0.1537963512162099,
           0.3133036361206578,
           0.47877771528316515,
           0.6442321103834694,
           0.803509484779075,
           0.9505541014891831,
           1.0796831610910465,
           1.1858438330909473,
           1.2648434125627805,
           1.3135412961886945,
           1.3299933154720727,
           1.3135412961886945,
           1.2648434125627805,
           1.1858438330909473,
           1.0796831610910465,
           0.9505541014891831,
           0.803509484779075,
           0.6442321103834694,
           0.47877771528316515,
           0.3133036361206578,
           0.1537963512162099,
           0.005811034304373925,
           -0.1257644689695074,
           -0.23691017597600564,
           -0.324629843053556,
           -0.38705535500366767,
           -0.42349546556438716,
           -0.43442757176285574,
           -0.42143408131469146,
           -0.38708768931988075,
           -0.33479237619194996,
           -0.268589046149572,
           -0.1929363397545002,
           -0.11247819731414006,
           -0.03181017613329085,
           0.044743679368913644,
           0.11333242903336226,
           0.17074867404778504,
           0.21456006847846779,
           0.2431963471432226,
           0.2559887694405144,
           0.2531614457800734,
           0.23577655069724138,
           0.20563779959612533,
           0.16515865057394133,
           0.11720338291232232,
           0.0649104168254659,
           0.011507919583092052,
           -0.039868134180728126,
           -0.08634370978474622
          ],
          [
           -0.13096468174943518,
           -0.09341816596346665,
           -0.04822085787410071,
           0.0022716100207446164,
           0.05528095770522729,
           0.10774865812501504,
           0.15649972810645998,
           0.19841943861188654,
           0.23063350923189954,
           0.2506818889186662,
           0.2566762997375786,
           0.24743234013685533,
           0.2225680860000738,
           0.18256273925541686,
           0.12877087581897034,
           0.06339013493636744,
           -0.010617349295218181,
           -0.08964697741323371,
           -0.1696119802323752,
           -0.24613461781837798,
           -0.31475910259630246,
           -0.37117570680030565,
           -0.41144469052055266,
           -0.43220845214435083,
           -0.4308806796227811,
           -0.40580225753498556,
           -0.35635521764627226,
           -0.28302803533990717,
           -0.187427969950852,
           -0.0722388011028484,
           0.05887491198907235,
           0.20141317105264114,
           0.35022902170777614,
           0.49975144871271493,
           0.6442321103834694,
           0.7780040258931075,
           0.8957396184216221,
           0.992695449836068,
           1.0649315658049785,
           1.1094945766040856,
           1.124555367855928,
           1.1094945766040856,
           1.0649315658049785,
           0.992695449836068,
           0.8957396184216221,
           0.7780040258931075,
           0.6442321103834694,
           0.49975144871271493,
           0.35022902170777614,
           0.20141317105264114,
           0.05887491198907235,
           -0.0722388011028484,
           -0.187427969950852,
           -0.28302803533990717,
           -0.35635521764627226,
           -0.40580225753498556,
           -0.4308806796227811,
           -0.43220845214435083,
           -0.41144469052055266,
           -0.37117570680030565,
           -0.31475910259630246,
           -0.24613461781837798,
           -0.1696119802323752,
           -0.08964697741323371,
           -0.010617349295218181,
           0.06339013493636744,
           0.12877087581897034,
           0.18256273925541686,
           0.2225680860000738,
           0.24743234013685533,
           0.2566762997375786,
           0.2506818889186662,
           0.23063350923189954,
           0.19841943861188654,
           0.15649972810645998,
           0.10774865812501504,
           0.05528095770522729,
           0.0022716100207446164,
           -0.04822085787410071,
           -0.09341816596346665
          ],
          [
           -0.13698176393514344,
           -0.10127808535368477,
           -0.05761803324395176,
           -0.00823327044894154,
           0.044209509361482956,
           0.09674378883254962,
           0.14626024334832619,
           0.18967745729212915,
           0.22411724822563847,
           0.24707500803079696,
           0.256575492104657,
           0.25130504004127213,
           0.23071227369415245,
           0.19507084218595108,
           0.14549969299473817,
           0.08393854575868848,
           0.013078615468659323,
           -0.06374895250625122,
           -0.1427221428215067,
           -0.21970771693043264,
           -0.29046275344788247,
           -0.35084804028714445,
           -0.3970424421347404,
           -0.42574709936268906,
           -0.43436863670247905,
           -0.421171462695804,
           -0.3853906832849483,
           -0.32729906443176787,
           -0.24822376277499153,
           -0.15051108239111077,
           -0.03744017720227128,
           0.08691073780520595,
           0.21783961811686398,
           0.35022902170777614,
           0.47877771528316515,
           0.5982441516081277,
           0.7036898157513979,
           0.7907103570985019,
           0.8556429685382863,
           0.8957396184216221,
           0.9092974268256817,
           0.8957396184216221,
           0.8556429685382863,
           0.7907103570985019,
           0.7036898157513979,
           0.5982441516081277,
           0.47877771528316515,
           0.35022902170777614,
           0.21783961811686398,
           0.08691073780520595,
           -0.03744017720227128,
           -0.15051108239111077,
           -0.24822376277499153,
           -0.32729906443176787,
           -0.3853906832849483,
           -0.421171462695804,
           -0.43436863670247905,
           -0.42574709936268906,
           -0.3970424421347404,
           -0.35084804028714445,
           -0.29046275344788247,
           -0.21970771693043264,
           -0.1427221428215067,
           -0.06374895250625122,
           0.013078615468659323,
           0.08393854575868848,
           0.14549969299473817,
           0.19507084218595108,
           0.23071227369415245,
           0.25130504004127213,
           0.256575492104657,
           0.24707500803079696,
           0.22411724822563847,
           0.18967745729212915,
           0.14626024334832619,
           0.09674378883254962,
           0.044209509361482956,
           -0.00823327044894154,
           -0.05761803324395176,
           -0.10127808535368477
          ],
          [
           -0.14335579129849668,
           -0.10978201113265723,
           -0.06793803188546253,
           -0.019915691575644292,
           0.031745840459068614,
           0.08418731130237875,
           0.13437885433763305,
           0.1792839709402817,
           0.21602931256266372,
           0.2420710146043941,
           0.255348298963932,
           0.25441554164532254,
           0.23854497801642713,
           0.20779364608280457,
           0.1630299764243758,
           0.10591753298818528,
           0.03885568116655977,
           -0.03512071345143313,
           -0.11247819731414006,
           -0.18935183535374994,
           -0.2617343483375656,
           -0.32567778292945404,
           -0.37749737145928347,
           -0.41396693622794944,
           -0.43249545715781157,
           -0.4312752446188071,
           -0.4093935036702951,
           -0.36690087535799776,
           -0.30483270332925,
           -0.22518118755916025,
           -0.13081912452072303,
           -0.025378460035175753,
           0.08691073780520595,
           0.20141317105264114,
           0.3133036361206578,
           0.4177941096414197,
           0.5103612401471838,
           0.5869627944413911,
           0.6442321103834694,
           0.6796406846183429,
           0.69162061945593,
           0.6796406846183429,
           0.6442321103834694,
           0.5869627944413911,
           0.5103612401471838,
           0.4177941096414197,
           0.3133036361206578,
           0.20141317105264114,
           0.08691073780520595,
           -0.025378460035175753,
           -0.13081912452072303,
           -0.22518118755916025,
           -0.30483270332925,
           -0.36690087535799776,
           -0.4093935036702951,
           -0.4312752446188071,
           -0.43249545715781157,
           -0.41396693622794944,
           -0.37749737145928347,
           -0.32567778292945404,
           -0.2617343483375656,
           -0.18935183535374994,
           -0.11247819731414006,
           -0.03512071345143313,
           0.03885568116655977,
           0.10591753298818528,
           0.1630299764243758,
           0.20779364608280457,
           0.23854497801642713,
           0.25441554164532254,
           0.255348298963932,
           0.2420710146043941,
           0.21602931256266372,
           0.1792839709402817,
           0.13437885433763305,
           0.08418731130237875,
           0.031745840459068614,
           -0.019915691575644292,
           -0.06793803188546253,
           -0.10978201113265723
          ],
          [
           -0.1499137997580331,
           -0.11876378051842666,
           -0.07903277128303789,
           -0.032657564269347995,
           0.017966041941118966,
           0.07010183827093616,
           0.12081441070397907,
           0.16712567793535366,
           0.2061784643801796,
           0.23539823538075702,
           0.25264402764959015,
           0.2563400102730029,
           0.2455799958764798,
           0.22019854657881394,
           0.18080401871815463,
           0.12877087581897034,
           0.0661907655654817,
           -0.004215913110515241,
           -0.0792240541655952,
           -0.15525760655490364,
           -0.22856545626592412,
           -0.29541051237375787,
           -0.35226222727992795,
           -0.39598244357893553,
           -0.42399466300627076,
           -0.43442757176285574,
           -0.42622489689420734,
           -0.39921534828629784,
           -0.3541384336243295,
           -0.2926242127644853,
           -0.21712746254366178,
           -0.13081912452072303,
           -0.03744017720227128,
           0.05887491198907235,
           0.1537963512162099,
           0.24300880867803662,
           0.32242214992953067,
           0.38837235101706136,
           0.43780226922078175,
           0.4684129583840573,
           0.47877771528316515,
           0.4684129583840573,
           0.43780226922078175,
           0.38837235101706136,
           0.32242214992953067,
           0.24300880867803662,
           0.1537963512162099,
           0.05887491198907235,
           -0.03744017720227128,
           -0.13081912452072303,
           -0.21712746254366178,
           -0.2926242127644853,
           -0.3541384336243295,
           -0.39921534828629784,
           -0.42622489689420734,
           -0.43442757176285574,
           -0.42399466300627076,
           -0.39598244357893553,
           -0.35226222727992795,
           -0.29541051237375787,
           -0.22856545626592412,
           -0.15525760655490364,
           -0.0792240541655952,
           -0.004215913110515241,
           0.0661907655654817,
           0.12877087581897034,
           0.18080401871815463,
           0.22019854657881394,
           0.2455799958764798,
           0.2563400102730029,
           0.25264402764959015,
           0.23539823538075702,
           0.2061784643801796,
           0.16712567793535366,
           0.12081441070397907,
           0.07010183827093616,
           0.017966041941118966,
           -0.032657564269347995,
           -0.07903277128303789,
           -0.11876378051842666
          ],
          [
           -0.15646143337355978,
           -0.12803192632998142,
           -0.0907256642328181,
           -0.046310064114579955,
           0.0029779491154211806,
           0.054541276561040686,
           0.10555493165712146,
           0.15311446345017118,
           0.1943926655354523,
           0.22679610352037188,
           0.24811283911536614,
           0.2566430509401283,
           0.25130504004127213,
           0.2317103248693539,
           0.1982031145119569,
           0.15186131748507978,
           0.09445829662141196,
           0.02838670735216783,
           -0.043452159632214875,
           -0.1177881852505473,
           -0.19114437378651342,
           -0.26001264723920775,
           -0.3210343185560354,
           -0.37117570680030565,
           -0.407889497747319,
           -0.42925310491460716,
           -0.434076417833265,
           -0.42197287899622543,
           -0.39338972722403176,
           -0.3495953826561967,
           -0.2926242127644853,
           -0.22518118755916025,
           -0.15051108239111077,
           -0.0722388011028484,
           0.005811034304373925,
           0.07980593576993696,
           0.14609889758077332,
           0.20141317105264114,
           0.24300880867803662,
           0.2688222513075441,
           0.277571630583514,
           0.2688222513075441,
           0.24300880867803662,
           0.20141317105264114,
           0.14609889758077332,
           0.07980593576993696,
           0.005811034304373925,
           -0.0722388011028484,
           -0.15051108239111077,
           -0.22518118755916025,
           -0.2926242127644853,
           -0.3495953826561967,
           -0.39338972722403176,
           -0.42197287899622543,
           -0.434076417833265,
           -0.42925310491460716,
           -0.407889497747319,
           -0.37117570680030565,
           -0.3210343185560354,
           -0.26001264723920775,
           -0.19114437378651342,
           -0.1177881852505473,
           -0.043452159632214875,
           0.02838670735216783,
           0.09445829662141196,
           0.15186131748507978,
           0.1982031145119569,
           0.2317103248693539,
           0.25130504004127213,
           0.2566430509401283,
           0.24811283911536614,
           0.22679610352037188,
           0.1943926655354523,
           0.15311446345017118,
           0.10555493165712146,
           0.054541276561040686,
           0.0029779491154211806,
           -0.046310064114579955,
           -0.0907256642328181,
           -0.12803192632998142
          ],
          [
           -0.16278435980926842,
           -0.13736985507049018,
           -0.10281030706494565,
           -0.060690608986011814,
           -0.013073952151520388,
           0.03759772656874239,
           0.08862652853638416,
           0.13719827990417027,
           0.18053174205108255,
           0.21602931256266372,
           0.24142096714711753,
           0.254893432701845,
           0.25519727019112654,
           0.24172565029557566,
           0.21456006847846779,
           0.17447999195279823,
           0.12293536517635703,
           0.06198291759831892,
           -0.005810793613848673,
           -0.07749482277960204,
           -0.14988136590815446,
           -0.21970771693043264,
           -0.2838041182964338,
           -0.3392585664190622,
           -0.3835697098652554,
           -0.4147795406040892,
           -0.43157859884674826,
           -0.4333778373354074,
           -0.4203430458705095,
           -0.39338972722403176,
           -0.3541384336243295,
           -0.30483270332925,
           -0.24822376277499153,
           -0.187427969950852,
           -0.1257644689695074,
           -0.06658162124929747,
           -0.0130814139378774,
           0.03184881503912622,
           0.0657883626364726,
           0.08691073780520595,
           0.0940800053732448,
           0.08691073780520595,
           0.0657883626364726,
           0.03184881503912622,
           -0.0130814139378774,
           -0.06658162124929747,
           -0.1257644689695074,
           -0.187427969950852,
           -0.24822376277499153,
           -0.30483270332925,
           -0.3541384336243295,
           -0.39338972722403176,
           -0.4203430458705095,
           -0.4333778373354074,
           -0.43157859884674826,
           -0.4147795406040892,
           -0.3835697098652554,
           -0.3392585664190622,
           -0.2838041182964338,
           -0.21970771693043264,
           -0.14988136590815446,
           -0.07749482277960204,
           -0.005810793613848673,
           0.06198291759831892,
           0.12293536517635703,
           0.17447999195279823,
           0.21456006847846779,
           0.24172565029557566,
           0.25519727019112654,
           0.254893432701845,
           0.24142096714711753,
           0.21602931256266372,
           0.18053174205108255,
           0.13719827990417027,
           0.08862652853638416,
           0.03759772656874239,
           -0.013073952151520388,
           -0.060690608986011814,
           -0.10281030706494565,
           -0.13736985507049018
          ],
          [
           -0.16865061331126227,
           -0.14653700801271363,
           -0.11505016730310495,
           -0.07558080422426758,
           -0.030004497243790427,
           0.019407660252202565,
           0.07010183827093616,
           0.11937185506223688,
           0.16450028494360933,
           0.20290271423033404,
           0.23226729318028777,
           0.2506818889186662,
           0.2567417315441088,
           0.24963143467045815,
           0.22917661128094333,
           0.19586192453391038,
           0.15081422331281308,
           0.0957513146109,
           0.032898814044057145,
           -0.03512071345143313,
           -0.10542055787501849,
           -0.17499760171649797,
           -0.24088710992360066,
           -0.3003162506586467,
           -0.35084804028714445,
           -0.3905078789395116,
           -0.417885750201407,
           -0.43220845214435083,
           -0.4333778373354074,
           -0.42197287899622543,
           -0.39921534828629784,
           -0.36690087535799776,
           -0.32729906443176787,
           -0.28302803533990717,
           -0.23691017597600564,
           -0.19181693290541052,
           -0.15051108239111077,
           -0.11549507625799743,
           -0.08887373699192957,
           -0.0722388011028484,
           -0.06658162124929747,
           -0.0722388011028484,
           -0.08887373699192957,
           -0.11549507625799743,
           -0.15051108239111077,
           -0.19181693290541052,
           -0.23691017597600564,
           -0.28302803533990717,
           -0.32729906443176787,
           -0.36690087535799776,
           -0.39921534828629784,
           -0.42197287899622543,
           -0.4333778373354074,
           -0.43220845214435083,
           -0.417885750201407,
           -0.3905078789395116,
           -0.35084804028714445,
           -0.3003162506586467,
           -0.24088710992360066,
           -0.17499760171649797,
           -0.10542055787501849,
           -0.03512071345143313,
           0.032898814044057145,
           0.0957513146109,
           0.15081422331281308,
           0.19586192453391038,
           0.22917661128094333,
           0.24963143467045815,
           0.2567417315441088,
           0.2506818889186662,
           0.23226729318028777,
           0.20290271423033404,
           0.16450028494360933,
           0.11937185506223688,
           0.07010183827093616,
           0.019407660252202565,
           -0.030004497243790427,
           -0.07558080422426758,
           -0.11505016730310495,
           -0.14653700801271363
          ],
          [
           -0.1738139924448547,
           -0.15527119023634722,
           -0.1271795169340972,
           -0.0907256642328181,
           -0.04758506314163741,
           0.0001569493213448689,
           0.05010748884225075,
           0.09968670899986165,
           0.14626024334832619,
           0.18727640924644018,
           0.22040074178662336,
           0.24364050109720906,
           0.2554522819126627,
           0.2548267267047997,
           0.2413455569066888,
           0.2152076253393881,
           0.17722237538812438,
           0.12877087581897034,
           0.07173638515428266,
           0.00840808631479302,
           -0.05863687417657578,
           -0.12666669235949252,
           -0.1929363397545002,
           -0.254829433326894,
           -0.309992807249447,
           -0.3564564355250057,
           -0.39273214882544505,
           -0.417885750201407,
           -0.43157859884674826,
           -0.434076417833265,
           -0.42622489689420734,
           -0.4093935036702951,
           -0.3853906832849483,
           -0.35635521764627226,
           -0.324629843053556,
           -0.2926242127644853,
           -0.2626748843273063,
           -0.23691017597600564,
           -0.21712746254366178,
           -0.20468978410715197,
           -0.20044755867978276,
           -0.20468978410715197,
           -0.21712746254366178,
           -0.23691017597600564,
           -0.2626748843273063,
           -0.2926242127644853,
           -0.324629843053556,
           -0.35635521764627226,
           -0.3853906832849483,
           -0.4093935036702951,
           -0.42622489689420734,
           -0.434076417833265,
           -0.43157859884674826,
           -0.417885750201407,
           -0.39273214882544505,
           -0.3564564355250057,
           -0.309992807249447,
           -0.254829433326894,
           -0.1929363397545002,
           -0.12666669235949252,
           -0.05863687417657578,
           0.00840808631479302,
           0.07173638515428266,
           0.12877087581897034,
           0.17722237538812438,
           0.2152076253393881,
           0.2413455569066888,
           0.2548267267047997,
           0.2554522819126627,
           0.24364050109720906,
           0.22040074178662336,
           0.18727640924644018,
           0.14626024334832619,
           0.09968670899986165,
           0.05010748884225075,
           0.0001569493213448689,
           -0.04758506314163741,
           -0.0907256642328181,
           -0.1271795169340972,
           -0.15527119023634722
          ],
          [
           -0.17801860199902664,
           -0.16329221750830802,
           -0.13890582780165694,
           -0.10583439818051152,
           -0.06554239869174844,
           -0.019915691575644292,
           0.02883009042098063,
           0.07825990831739421,
           0.1258425822940911,
           0.16908036038891633,
           0.20563779959612533,
           0.23346296309158113,
           0.2508943222213973,
           0.25674750760048576,
           0.25037713957121355,
           0.2317103248693539,
           0.20124995852555586,
           0.16004763127913005,
           0.1096476200446325,
           0.05200503792795912,
           -0.010617349295218181,
           -0.0757679524450742,
           -0.1409342819269669,
           -0.2036729142303004,
           -0.2617343483375656,
           -0.31317589634427284,
           -0.3564564355250057,
           -0.3905078789395116,
           -0.4147795406040892,
           -0.42925310491460716,
           -0.43442757176285574,
           -0.4312752446188071,
           -0.421171462695804,
           -0.40580225753498556,
           -0.38705535500366767,
           -0.36690087535799776,
           -0.3472686537517362,
           -0.32992927901128904,
           -0.3163857196862348,
           -0.3077817863653888,
           -0.30483270332925,
           -0.3077817863653888,
           -0.3163857196862348,
           -0.32992927901128904,
           -0.3472686537517362,
           -0.36690087535799776,
           -0.38705535500366767,
           -0.40580225753498556,
           -0.421171462695804,
           -0.4312752446188071,
           -0.43442757176285574,
           -0.42925310491460716,
           -0.4147795406040892,
           -0.3905078789395116,
           -0.3564564355250057,
           -0.31317589634427284,
           -0.2617343483375656,
           -0.2036729142303004,
           -0.1409342819269669,
           -0.0757679524450742,
           -0.010617349295218181,
           0.05200503792795912,
           0.1096476200446325,
           0.16004763127913005,
           0.20124995852555586,
           0.2317103248693539,
           0.25037713957121355,
           0.25674750760048576,
           0.2508943222213973,
           0.23346296309158113,
           0.20563779959612533,
           0.16908036038891633,
           0.1258425822940911,
           0.07825990831739421,
           0.02883009042098063,
           -0.019915691575644292,
           -0.06554239869174844,
           -0.10583439818051152,
           -0.13890582780165694,
           -0.16329221750830802
          ],
          [
           -0.18100457917857166,
           -0.17030698199702413,
           -0.1499137997580331,
           -0.12058300781296416,
           -0.08355939645450051,
           -0.040517266401149735,
           0.0065202421682302655,
           0.05528095770522729,
           0.10335731863015635,
           0.14832776112580212,
           0.18787932061729182,
           0.21992483146863692,
           0.242708395806646,
           0.254893432701845,
           0.25562857790064414,
           0.24458792842044305,
           0.22198354690007724,
           0.18854967763954522,
           0.14549969299473817,
           0.09445829662141196,
           0.037372873633869375,
           -0.02359098016854476,
           -0.08616386191642225,
           -0.14809048863531396,
           -0.20724458052139974,
           -0.2617343483375656,
           -0.309992807249447,
           -0.35084804028714445,
           -0.3835697098652554,
           -0.407889497747319,
           -0.42399466300627076,
           -0.43249545715781157,
           -0.43436863670247905,
           -0.4308806796227811,
           -0.42349546556438716,
           -0.4137720534188708,
           -0.40325873487122593,
           -0.39338972722403176,
           -0.3853906832849483,
           -0.3801986514917913,
           -0.3784012476539641,
           -0.3801986514917913,
           -0.3853906832849483,
           -0.39338972722403176,
           -0.40325873487122593,
           -0.4137720534188708,
           -0.42349546556438716,
           -0.4308806796227811,
           -0.43436863670247905,
           -0.43249545715781157,
           -0.42399466300627076,
           -0.407889497747319,
           -0.3835697098652554,
           -0.35084804028714445,
           -0.309992807249447,
           -0.2617343483375656,
           -0.20724458052139974,
           -0.14809048863531396,
           -0.08616386191642225,
           -0.02359098016854476,
           0.037372873633869375,
           0.09445829662141196,
           0.14549969299473817,
           0.18854967763954522,
           0.22198354690007724,
           0.24458792842044305,
           0.25562857790064414,
           0.254893432701845,
           0.242708395806646,
           0.21992483146863692,
           0.18787932061729182,
           0.14832776112580212,
           0.10335731863015635,
           0.05528095770522729,
           0.0065202421682302655,
           -0.040517266401149735,
           -0.08355939645450051,
           -0.12058300781296416,
           -0.1499137997580331,
           -0.17030698199702413
          ],
          [
           -0.18251498442862385,
           -0.1760159755489718,
           -0.15987112992755653,
           -0.13461888616197776,
           -0.10127808535368477,
           -0.061301442485772274,
           -0.016505930263581485,
           0.031016232090896562,
           0.07900122348247962,
           0.12512633286074154,
           0.16712567793535366,
           0.20290271423033404,
           0.23063350923189954,
           0.24885528388828942,
           0.25653555744366946,
           0.25311832399967577,
           0.23854497801642713,
           0.21324911772700825,
           0.17812580971586786,
           0.134477311926808,
           0.08393854575868848,
           0.02838670735216783,
           -0.030159748399708135,
           -0.08964697741323371,
           -0.14809048863531396,
           -0.2036729142303004,
           -0.254829433326894,
           -0.3003162506586467,
           -0.3392585664190622,
           -0.37117570680030565,
           -0.39598244357893553,
           -0.41396693622794944,
           -0.42574709936268906,
           -0.43220845214435083,
           -0.43442757176285574,
           -0.4335860886421158,
           -0.4308806796227811,
           -0.4274347075936389,
           -0.42421701152445723,
           -0.42197287899622543,
           -0.421171462695804,
           -0.42197287899622543,
           -0.42421701152445723,
           -0.4274347075936389,
           -0.4308806796227811,
           -0.4335860886421158,
           -0.43442757176285574,
           -0.43220845214435083,
           -0.42574709936268906,
           -0.41396693622794944,
           -0.39598244357893553,
           -0.37117570680030565,
           -0.3392585664190622,
           -0.3003162506586467,
           -0.254829433326894,
           -0.2036729142303004,
           -0.14809048863531396,
           -0.08964697741323371,
           -0.030159748399708135,
           0.02838670735216783,
           0.08393854575868848,
           0.134477311926808,
           0.17812580971586786,
           0.21324911772700825,
           0.23854497801642713,
           0.25311832399967577,
           0.25653555744366946,
           0.24885528388828942,
           0.23063350923189954,
           0.20290271423033404,
           0.16712567793535366,
           0.12512633286074154,
           0.07900122348247962,
           0.031016232090896562,
           -0.016505930263581485,
           -0.061301442485772274,
           -0.10127808535368477,
           -0.13461888616197776,
           -0.15987112992755653,
           -0.1760159755489718
          ],
          [
           -0.18230376872794093,
           -0.18012123502583363,
           -0.16843605361995675,
           -0.14756752732225356,
           -0.11830504740258321,
           -0.08187218787401292,
           -0.039868134180728126,
           0.0058103924762656495,
           0.05306249567952219,
           0.09968670899986165,
           0.14348926836260514,
           0.18239124981424537,
           0.2145288714461612,
           0.2383416766936446,
           0.25264402764959015,
           0.2566762997375786,
           0.25013332713993036,
           0.23316893482082693,
           0.2063767337439853,
           0.17074867404778504,
           0.12761407121954643,
           0.07856287339249271,
           0.02535776443828009,
           -0.030159748399708135,
           -0.08616386191642225,
           -0.1409342819269669,
           -0.1929363397545002,
           -0.24088710992360066,
           -0.2838041182964338,
           -0.3210343185560354,
           -0.35226222727992795,
           -0.37749737145928347,
           -0.3970424421347404,
           -0.41144469052055266,
           -0.42143408131469146,
           -0.42785247459104203,
           -0.43157859884674826,
           -0.4334537754581445,
           -0.434213248547002,
           -0.43442757176285574,
           -0.43445783007337646,
           -0.43442757176285574,
           -0.434213248547002,
           -0.4334537754581445,
           -0.43157859884674826,
           -0.42785247459104203,
           -0.42143408131469146,
           -0.41144469052055266,
           -0.3970424421347404,
           -0.37749737145928347,
           -0.35226222727992795,
           -0.3210343185560354,
           -0.2838041182964338,
           -0.24088710992360066,
           -0.1929363397545002,
           -0.1409342819269669,
           -0.08616386191642225,
           -0.030159748399708135,
           0.02535776443828009,
           0.07856287339249271,
           0.12761407121954643,
           0.17074867404778504,
           0.2063767337439853,
           0.23316893482082693,
           0.25013332713993036,
           0.2566762997375786,
           0.25264402764959015,
           0.2383416766936446,
           0.2145288714461612,
           0.18239124981424537,
           0.14348926836260514,
           0.09968670899986165,
           0.05306249567952219,
           0.0058103924762656495,
           -0.039868134180728126,
           -0.08187218787401292,
           -0.11830504740258321,
           -0.14756752732225356,
           -0.16843605361995675,
           -0.18012123502583363
          ],
          [
           -0.1801446545297837,
           -0.18233559039097344,
           -0.1752665961050691,
           -0.15904136091487175,
           -0.13421936300715656,
           -0.10179031338845618,
           -0.0631265026963309,
           -0.019915691575644292,
           0.025921773001301992,
           0.07232710218505171,
           0.11720338291232232,
           0.15851669454452746,
           0.1943926655354523,
           0.2232034254780841,
           0.24364050109720906,
           0.25477004091850136,
           0.2560677827399544,
           0.24743234013685533,
           0.22917661128094333,
           0.20199833430642128,
           0.16693195814109418,
           0.12528500092613942,
           0.07856287339249271,
           0.02838670735216783,
           -0.02359098016854476,
           -0.0757679524450742,
           -0.12666669235949252,
           -0.17499760171649797,
           -0.21970771693043264,
           -0.26001264723920775,
           -0.29541051237375787,
           -0.32567778292945404,
           -0.35084804028714445,
           -0.37117570680030565,
           -0.38708768931988075,
           -0.3991265770886398,
           -0.407889497747319,
           -0.41396693622794944,
           -0.417885750201407,
           -0.4200602785751461,
           -0.4207548585159486,
           -0.4200602785751461,
           -0.417885750201407,
           -0.41396693622794944,
           -0.407889497747319,
           -0.3991265770886398,
           -0.38708768931988075,
           -0.37117570680030565,
           -0.35084804028714445,
           -0.32567778292945404,
           -0.29541051237375787,
           -0.26001264723920775,
           -0.21970771693043264,
           -0.17499760171649797,
           -0.12666669235949252,
           -0.0757679524450742,
           -0.02359098016854476,
           0.02838670735216783,
           0.07856287339249271,
           0.12528500092613942,
           0.16693195814109418,
           0.20199833430642128,
           0.22917661128094333,
           0.24743234013685533,
           0.2560677827399544,
           0.25477004091850136,
           0.24364050109720906,
           0.2232034254780841,
           0.1943926655354523,
           0.15851669454452746,
           0.11720338291232232,
           0.07232710218505171,
           0.025921773001301992,
           -0.019915691575644292,
           -0.0631265026963309,
           -0.10179031338845618,
           -0.13421936300715656,
           -0.15904136091487175,
           -0.1752665961050691,
           -0.18233559039097344
          ],
          [
           -0.17584069010379264,
           -0.18239300622958532,
           -0.1800313728705813,
           -0.16865061331126227,
           -0.14858307017251748,
           -0.12058300781296416,
           -0.0857896329957062,
           -0.045670869380806056,
           -0.001951040868825416,
           0.043473546354522816,
           0.08862652853638416,
           0.13154597877649798,
           0.17037647050011584,
           0.20345392533496165,
           0.22937894091767205,
           0.24707500803079696,
           0.25582893038458626,
           0.2553118000893658,
           0.2455799958764798,
           0.2270567942100705,
           0.20049625055173417,
           0.16693195814109418,
           0.12761407121954643,
           0.08393854575868848,
           0.037372873633869375,
           -0.010617349295218181,
           -0.05863687417657578,
           -0.10542055787501849,
           -0.14988136590815446,
           -0.19114437378651342,
           -0.22856545626592412,
           -0.2617343483375656,
           -0.29046275344788247,
           -0.31475910259630246,
           -0.33479237619194996,
           -0.35084804028714445,
           -0.3632795822101567,
           -0.37245933283868765,
           -0.3787322233669178,
           -0.382375848005458,
           -0.3835697098652554,
           -0.382375848005458,
           -0.3787322233669178,
           -0.37245933283868765,
           -0.3632795822101567,
           -0.35084804028714445,
           -0.33479237619194996,
           -0.31475910259630246,
           -0.29046275344788247,
           -0.2617343483375656,
           -0.22856545626592412,
           -0.19114437378651342,
           -0.14988136590815446,
           -0.10542055787501849,
           -0.05863687417657578,
           -0.010617349295218181,
           0.037372873633869375,
           0.08393854575868848,
           0.12761407121954643,
           0.16693195814109418,
           0.20049625055173417,
           0.2270567942100705,
           0.2455799958764798,
           0.2553118000893658,
           0.25582893038458626,
           0.24707500803079696,
           0.22937894091767205,
           0.20345392533496165,
           0.17037647050011584,
           0.13154597877649798,
           0.08862652853638416,
           0.043473546354522816,
           -0.001951040868825416,
           -0.045670869380806056,
           -0.0857896329957062,
           -0.12058300781296416,
           -0.14858307017251748,
           -0.16865061331126227,
           -0.1800313728705813,
           -0.18239300622958532
          ],
          [
           -0.16923416092386775,
           -0.1800597155006458,
           -0.18242166855756492,
           -0.1760159755489718,
           -0.1609539875623888,
           -0.1377563081818195,
           -0.10732612754693129,
           -0.07090368426500879,
           -0.030004497243790427,
           0.013655158230898757,
           0.058241427706856384,
           0.1018902143955224,
           0.14279404657238684,
           0.1792839709402817,
           0.20990234059772522,
           0.23346296309158113,
           0.24909585663212155,
           0.2562747828163765,
           0.2548267267047997,
           0.24492352037505036,
           0.2270567942100705,
           0.20199833430642128,
           0.17074867404778504,
           0.134477311926808,
           0.09445829662141196,
           0.05200503792795912,
           0.00840808631479302,
           -0.03512071345143313,
           -0.07749482277960204,
           -0.1177881852505473,
           -0.15525760655490364,
           -0.18935183535374994,
           -0.21970771693043264,
           -0.24613461781837798,
           -0.268589046149572,
           -0.28714197491104243,
           -0.30194177876754097,
           -0.31317589634427284,
           -0.3210343185560354,
           -0.32567778292945404,
           -0.32721314035298743,
           -0.32567778292945404,
           -0.3210343185560354,
           -0.31317589634427284,
           -0.30194177876754097,
           -0.28714197491104243,
           -0.268589046149572,
           -0.24613461781837798,
           -0.21970771693043264,
           -0.18935183535374994,
           -0.15525760655490364,
           -0.1177881852505473,
           -0.07749482277960204,
           -0.03512071345143313,
           0.00840808631479302,
           0.05200503792795912,
           0.09445829662141196,
           0.134477311926808,
           0.17074867404778504,
           0.20199833430642128,
           0.2270567942100705,
           0.24492352037505036,
           0.2548267267047997,
           0.2562747828163765,
           0.24909585663212155,
           0.23346296309158113,
           0.20990234059772522,
           0.1792839709402817,
           0.14279404657238684,
           0.1018902143955224,
           0.058241427706856384,
           0.013655158230898757,
           -0.030004497243790427,
           -0.07090368426500879,
           -0.10732612754693129,
           -0.1377563081818195,
           -0.1609539875623888,
           -0.1760159755489718,
           -0.18242166855756492,
           -0.1800597155006458
          ],
          [
           -0.16021647158282734,
           -0.1751457556394694,
           -0.1821644169794075,
           -0.18078273088932142,
           -0.17090060569317098,
           -0.1528102839666787,
           -0.1271795169340972,
           -0.0950164022704569,
           -0.05761803324395176,
           -0.016505930263581485,
           0.026648129724923395,
           0.07010183827093616,
           0.11212338767979044,
           0.15106960365711752,
           0.18545724476618586,
           0.21402402107025095,
           0.23577655069724138,
           0.25002327766855664,
           0.25639126767027576,
           0.2548267267047997,
           0.2455799958764798,
           0.22917661128094333,
           0.2063767337439853,
           0.17812580971586786,
           0.14549969299473817,
           0.1096476200446325,
           0.07173638515428266,
           0.032898814044057145,
           -0.005810793613848673,
           -0.043452159632214875,
           -0.0792240541655952,
           -0.11247819731414006,
           -0.1427221428215067,
           -0.1696119802323752,
           -0.1929363397545002,
           -0.2125937105436689,
           -0.22856545626592412,
           -0.24088710992360066,
           -0.24962054293732017,
           -0.254829433326894,
           -0.2565601183892334,
           -0.254829433326894,
           -0.24962054293732017,
           -0.24088710992360066,
           -0.22856545626592412,
           -0.2125937105436689,
           -0.1929363397545002,
           -0.1696119802323752,
           -0.1427221428215067,
           -0.11247819731414006,
           -0.0792240541655952,
           -0.043452159632214875,
           -0.005810793613848673,
           0.032898814044057145,
           0.07173638515428266,
           0.1096476200446325,
           0.14549969299473817,
           0.17812580971586786,
           0.2063767337439853,
           0.22917661128094333,
           0.2455799958764798,
           0.2548267267047997,
           0.25639126767027576,
           0.25002327766855664,
           0.23577655069724138,
           0.21402402107025095,
           0.18545724476618586,
           0.15106960365711752,
           0.11212338767979044,
           0.07010183827093616,
           0.026648129724923395,
           -0.016505930263581485,
           -0.05761803324395176,
           -0.0950164022704569,
           -0.1271795169340972,
           -0.1528102839666787,
           -0.17090060569317098,
           -0.18078273088932142,
           -0.1821644169794075,
           -0.1751457556394694
          ],
          [
           -0.1487375524385824,
           -0.16751643729146143,
           -0.17903560277058095,
           -0.1826358700412797,
           -0.17801860199902664,
           -0.16525654180237792,
           -0.14478624788034108,
           -0.11738288358628372,
           -0.08411903827788304,
           -0.046310064114579955,
           -0.005449066140771361,
           0.03686485131708162,
           0.07900122348247962,
           0.11937185506223688,
           0.15649972810645998,
           0.1890798565922851,
           0.21602931256266372,
           0.2365243422174828,
           0.25002327766855664,
           0.2562747828163765,
           0.2553118000893658,
           0.24743234013685533,
           0.23316893482082693,
           0.21324911772700825,
           0.18854967763954522,
           0.16004763127913005,
           0.12877087581897034,
           0.0957513146109,
           0.06198291759831892,
           0.02838670735216783,
           -0.004215913110515241,
           -0.03512071345143313,
           -0.06374895250625122,
           -0.08964697741323371,
           -0.11247819731414006,
           -0.132008995765264,
           -0.14809048863531396,
           -0.16063822727306362,
           -0.1696119802323752,
           -0.17499760171649797,
           -0.17679272260843765,
           -0.17499760171649797,
           -0.1696119802323752,
           -0.16063822727306362,
           -0.14809048863531396,
           -0.132008995765264,
           -0.11247819731414006,
           -0.08964697741323371,
           -0.06374895250625122,
           -0.03512071345143313,
           -0.004215913110515241,
           0.02838670735216783,
           0.06198291759831892,
           0.0957513146109,
           0.12877087581897034,
           0.16004763127913005,
           0.18854967763954522,
           0.21324911772700825,
           0.23316893482082693,
           0.24743234013685533,
           0.2553118000893658,
           0.2562747828163765,
           0.25002327766855664,
           0.2365243422174828,
           0.21602931256266372,
           0.1890798565922851,
           0.15649972810645998,
           0.11937185506223688,
           0.07900122348247962,
           0.03686485131708162,
           -0.005449066140771361,
           -0.046310064114579955,
           -0.08411903827788304,
           -0.11738288358628372,
           -0.14478624788034108,
           -0.16525654180237792,
           -0.17801860199902664,
           -0.1826358700412797,
           -0.17903560277058095,
           -0.16751643729146143
          ],
          [
           -0.13481430178982187,
           -0.15710321083861073,
           -0.17287351607260817,
           -0.18131560690315682,
           -0.18194839266053625,
           -0.17463748569481502,
           -0.15959621882048483,
           -0.13736985507049018,
           -0.10880422217787396,
           -0.0750007897964791,
           -0.03726086233570953,
           0.0029779491154211806,
           0.044209509361482956,
           0.08492762656935865,
           0.12369173187889267,
           0.15918658398472915,
           0.1902732638436695,
           0.21602931256266372,
           0.23577655069724138,
           0.24909585663212155,
           0.25582893038458626,
           0.2560677827399544,
           0.25013332713993036,
           0.23854497801642713,
           0.22198354690007724,
           0.20124995852555586,
           0.17722237538812438,
           0.15081422331281308,
           0.12293536517635703,
           0.09445829662141196,
           0.0661907655654817,
           0.03885568116655977,
           0.013078615468659323,
           -0.010617349295218181,
           -0.03181017613329085,
           -0.050171999808914604,
           -0.06545830501430487,
           -0.07749482277960204,
           -0.08616386191642225,
           -0.09139170665445415,
           -0.09313849939964196,
           -0.09139170665445415,
           -0.08616386191642225,
           -0.07749482277960204,
           -0.06545830501430487,
           -0.050171999808914604,
           -0.03181017613329085,
           -0.010617349295218181,
           0.013078615468659323,
           0.03885568116655977,
           0.0661907655654817,
           0.09445829662141196,
           0.12293536517635703,
           0.15081422331281308,
           0.17722237538812438,
           0.20124995852555586,
           0.22198354690007724,
           0.23854497801642713,
           0.25013332713993036,
           0.2560677827399544,
           0.25582893038458626,
           0.24909585663212155,
           0.23577655069724138,
           0.21602931256266372,
           0.1902732638436695,
           0.15918658398472915,
           0.12369173187889267,
           0.08492762656935865,
           0.044209509361482956,
           0.0029779491154211806,
           -0.03726086233570953,
           -0.0750007897964791,
           -0.10880422217787396,
           -0.13736985507049018,
           -0.15959621882048483,
           -0.17463748569481502,
           -0.18194839266053625,
           -0.18131560690315682,
           -0.17287351607260817,
           -0.15710321083861073
          ],
          [
           -0.11853755153953284,
           -0.14391335124448024,
           -0.163591222139663,
           -0.17663261032673944,
           -0.18239300622958532,
           -0.18054660691367944,
           -0.17109514979541934,
           -0.1543609103022869,
           -0.13096468174943518,
           -0.10179031338845618,
           -0.06793803188546253,
           -0.03066927919323432,
           0.008653858363151095,
           0.04863139306208121,
           0.0878871354792479,
           0.12512633286074154,
           0.15918658398472915,
           0.1890798565922851,
           0.21402402107025095,
           0.23346296309158113,
           0.24707500803079696,
           0.25477004091850136,
           0.2566762997375786,
           0.25311832399967577,
           0.24458792842044305,
           0.2317103248693539,
           0.2152076253393881,
           0.19586192453391038,
           0.17447999195279823,
           0.15186131748507978,
           0.12877087581897034,
           0.10591753298818528,
           0.08393854575868848,
           0.06339013493636744,
           0.044743679368913644,
           0.02838670735216783,
           0.014627580006334946,
           0.0037025838949493145,
           -0.004215913110515241,
           -0.009011537058698997,
           -0.010617349295218181,
           -0.009011537058698997,
           -0.004215913110515241,
           0.0037025838949493145,
           0.014627580006334946,
           0.02838670735216783,
           0.044743679368913644,
           0.06339013493636744,
           0.08393854575868848,
           0.10591753298818528,
           0.12877087581897034,
           0.15186131748507978,
           0.17447999195279823,
           0.19586192453391038,
           0.2152076253393881,
           0.2317103248693539,
           0.24458792842044305,
           0.25311832399967577,
           0.2566762997375786,
           0.25477004091850136,
           0.24707500803079696,
           0.23346296309158113,
           0.21402402107025095,
           0.1890798565922851,
           0.15918658398472915,
           0.12512633286074154,
           0.0878871354792479,
           0.04863139306208121,
           0.008653858363151095,
           -0.03066927919323432,
           -0.06793803188546253,
           -0.10179031338845618,
           -0.13096468174943518,
           -0.1543609103022869,
           -0.17109514979541934,
           -0.18054660691367944,
           -0.18239300622958532,
           -0.17663261032673944,
           -0.163591222139663,
           -0.14391335124448024
          ],
          [
           -0.10007704610444179,
           -0.12803786284735597,
           -0.1511875643863488,
           -0.16848219583369567,
           -0.17913546063850083,
           -0.18264893898060253,
           -0.1788278960809016,
           -0.16778234479339135,
           -0.1499137997580331,
           -0.1258888846262905,
           -0.09660159075517502,
           -0.0631265026963309,
           -0.026665677985416577,
           0.011507919583092052,
           0.05010748884225075,
           0.0878871354792479,
           0.12369173187889267,
           0.15649972810645998,
           0.18545724476618586,
           0.20990234059772522,
           0.22937894091767205,
           0.24364050109720906,
           0.25264402764959015,
           0.25653555744366946,
           0.25562857790064414,
           0.25037713957121355,
           0.2413455569066888,
           0.22917661128094333,
           0.21456006847846779,
           0.1982031145119569,
           0.18080401871815463,
           0.1630299764243758,
           0.14549969299473817,
           0.12877087581897034,
           0.11333242903336226,
           0.09960082298540655,
           0.08791985781076668,
           0.07856287339249271,
           0.07173638515428266,
           0.06758414818694233,
           0.0661907655654817,
           0.06758414818694233,
           0.07173638515428266,
           0.07856287339249271,
           0.08791985781076668,
           0.09960082298540655,
           0.11333242903336226,
           0.12877087581897034,
           0.14549969299473817,
           0.1630299764243758,
           0.18080401871815463,
           0.1982031145119569,
           0.21456006847846779,
           0.22917661128094333,
           0.2413455569066888,
           0.25037713957121355,
           0.25562857790064414,
           0.25653555744366946,
           0.25264402764959015,
           0.24364050109720906,
           0.22937894091767205,
           0.20990234059772522,
           0.18545724476618586,
           0.15649972810645998,
           0.12369173187889267,
           0.0878871354792479,
           0.05010748884225075,
           0.011507919583092052,
           -0.026665677985416577,
           -0.0631265026963309,
           -0.09660159075517502,
           -0.1258888846262905,
           -0.1499137997580331,
           -0.16778234479339135,
           -0.1788278960809016,
           -0.18264893898060253,
           -0.17913546063850083,
           -0.16848219583369567,
           -0.1511875643863488,
           -0.12803786284735597
          ],
          [
           -0.07968395387291566,
           -0.10965701691843574,
           -0.13575600794040762,
           -0.15685668268767797,
           -0.17205475511311313,
           -0.1807007071005138,
           -0.18242166855756492,
           -0.17712974307464055,
           -0.16501687105976595,
           -0.14653700801271363,
           -0.12237701362727325,
           -0.09341816596346665,
           -0.060690608986011814,
           -0.02532329427921568,
           0.011507919583092052,
           0.04863139306208121,
           0.08492762656935865,
           0.11937185506223688,
           0.15106960365711752,
           0.1792839709402817,
           0.20345392533496165,
           0.2232034254780841,
           0.2383416766936446,
           0.24885528388828942,
           0.254893432701845,
           0.25674750760048576,
           0.2548267267047997,
           0.24963143467045815,
           0.24172565029557566,
           0.2317103248693539,
           0.22019854657881394,
           0.20779364608280457,
           0.19507084218595108,
           0.18256273925541686,
           0.17074867404778504,
           0.16004763127913005,
           0.15081422331281308,
           0.1433370736825879,
           0.13783886506830845,
           0.134477311926808,
           0.1333463922312941,
           0.134477311926808,
           0.13783886506830845,
           0.1433370736825879,
           0.15081422331281308,
           0.16004763127913005,
           0.17074867404778504,
           0.18256273925541686,
           0.19507084218595108,
           0.20779364608280457,
           0.22019854657881394,
           0.2317103248693539,
           0.24172565029557566,
           0.24963143467045815,
           0.2548267267047997,
           0.25674750760048576,
           0.254893432701845,
           0.24885528388828942,
           0.2383416766936446,
           0.2232034254780841,
           0.20345392533496165,
           0.1792839709402817,
           0.15106960365711752,
           0.11937185506223688,
           0.08492762656935865,
           0.04863139306208121,
           0.011507919583092052,
           -0.02532329427921568,
           -0.060690608986011814,
           -0.09341816596346665,
           -0.12237701362727325,
           -0.14653700801271363,
           -0.16501687105976595,
           -0.17712974307464055,
           -0.18242166855756492,
           -0.1807007071005138,
           -0.17205475511311313,
           -0.15685668268767797,
           -0.13575600794040762,
           -0.10965701691843574
          ],
          [
           -0.05769048962428924,
           -0.08904297911487404,
           -0.11749065565570795,
           -0.14185512230149663,
           -0.16113955966514656,
           -0.17456713788189782,
           -0.18160802037610754,
           -0.18199408570471504,
           -0.17572115154133375,
           -0.16303912773542587,
           -0.14443111863131364,
           -0.12058300781296416,
           -0.09234546620178369,
           -0.060690608986011814,
           -0.026665677985416577,
           0.008653858363151095,
           0.044209509361482956,
           0.07900122348247962,
           0.11212338767979044,
           0.14279404657238684,
           0.17037647050011584,
           0.1943926655354523,
           0.2145288714461612,
           0.23063350923189954,
           0.242708395806646,
           0.2508943222213973,
           0.2554522819126627,
           0.2567417315441088,
           0.25519727019112654,
           0.25130504004127213,
           0.2455799958764798,
           0.23854497801642713,
           0.23071227369415245,
           0.2225680860000738,
           0.21456006847846779,
           0.2070878465419809,
           0.20049625055173417,
           0.19507084218595108,
           0.19103523332295086,
           0.18854967763954522,
           0.18771045677679687,
           0.18854967763954522,
           0.19103523332295086,
           0.19507084218595108,
           0.20049625055173417,
           0.2070878465419809,
           0.21456006847846779,
           0.2225680860000738,
           0.23071227369415245,
           0.23854497801642713,
           0.2455799958764798,
           0.25130504004127213,
           0.25519727019112654,
           0.2567417315441088,
           0.2554522819126627,
           0.2508943222213973,
           0.242708395806646,
           0.23063350923189954,
           0.2145288714461612,
           0.1943926655354523,
           0.17037647050011584,
           0.14279404657238684,
           0.11212338767979044,
           0.07900122348247962,
           0.044209509361482956,
           0.008653858363151095,
           -0.026665677985416577,
           -0.060690608986011814,
           -0.09234546620178369,
           -0.12058300781296416,
           -0.14443111863131364,
           -0.16303912773542587,
           -0.17572115154133375,
           -0.18199408570471504,
           -0.18160802037610754,
           -0.17456713788189782,
           -0.16113955966514656,
           -0.14185512230149663,
           -0.11749065565570795,
           -0.08904297911487404
          ],
          [
           -0.0345063152690242,
           -0.06655906279410359,
           -0.09668883252747353,
           -0.12368964794720452,
           -0.1464987033293174,
           -0.1642373823959323,
           -0.17624240938958516,
           -0.18208605074549258,
           -0.18158488243001691,
           -0.1747972342928682,
           -0.16200998595397612,
           -0.1437158894806465,
           -0.12058300781296416,
           -0.09341816596346665,
           -0.0631265026963309,
           -0.03066927919323432,
           0.0029779491154211806,
           0.03686485131708162,
           0.07010183827093616,
           0.1018902143955224,
           0.13154597877649798,
           0.15851669454452746,
           0.18239124981424537,
           0.20290271423033404,
           0.21992483146863692,
           0.23346296309158113,
           0.24364050109720906,
           0.2506818889186662,
           0.254893432701845,
           0.2566430509401283,
           0.2563400102730029,
           0.25441554164532254,
           0.25130504004127213,
           0.24743234013685533,
           0.2431963471432226,
           0.23896010343988033,
           0.23504220166614895,
           0.2317103248693539,
           0.22917661128094333,
           0.22759450814784551,
           0.2270567942100705,
           0.22759450814784551,
           0.22917661128094333,
           0.2317103248693539,
           0.23504220166614895,
           0.23896010343988033,
           0.2431963471432226,
           0.24743234013685533,
           0.25130504004127213,
           0.25441554164532254,
           0.2563400102730029,
           0.2566430509401283,
           0.254893432701845,
           0.2506818889186662,
           0.24364050109720906,
           0.23346296309158113,
           0.21992483146863692,
           0.20290271423033404,
           0.18239124981424537,
           0.15851669454452746,
           0.13154597877649798,
           0.1018902143955224,
           0.07010183827093616,
           0.03686485131708162,
           0.0029779491154211806,
           -0.03066927919323432,
           -0.0631265026963309,
           -0.09341816596346665,
           -0.12058300781296416,
           -0.1437158894806465,
           -0.16200998595397612,
           -0.1747972342928682,
           -0.18158488243001691,
           -0.18208605074549258,
           -0.17624240938958516,
           -0.1642373823959323,
           -0.1464987033293174,
           -0.12368964794720452,
           -0.09668883252747353,
           -0.06655906279410359
          ],
          [
           -0.01061150357619211,
           -0.042655257000177006,
           -0.07374973820785838,
           -0.10268778525178764,
           -0.1283676319466868,
           -0.14983554931501694,
           -0.16632015713858264,
           -0.17725715646546372,
           -0.18230376872794093,
           -0.18134271385500067,
           -0.17447608825271163,
           -0.16200998595397612,
           -0.14443111863131364,
           -0.12237701362727325,
           -0.09660159075517502,
           -0.06793803188546253,
           -0.03726086233570953,
           -0.005449066140771361,
           0.026648129724923395,
           0.058241427706856384,
           0.08862652853638416,
           0.11720338291232232,
           0.14348926836260514,
           0.16712567793535366,
           0.18787932061729182,
           0.20563779959612533,
           0.22040074178662336,
           0.23226729318028777,
           0.24142096714711753,
           0.24811283911536614,
           0.25264402764959015,
           0.255348298963932,
           0.256575492104657,
           0.2566762997375786,
           0.2559887694405144,
           0.2548267267047997,
           0.25347017586536014,
           0.252157618714697,
           0.25108014921898075,
           0.25037713957121355,
           0.25013332713993036,
           0.25037713957121355,
           0.25108014921898075,
           0.252157618714697,
           0.25347017586536014,
           0.2548267267047997,
           0.2559887694405144,
           0.2566762997375786,
           0.256575492104657,
           0.255348298963932,
           0.25264402764959015,
           0.24811283911536614,
           0.24142096714711753,
           0.23226729318028777,
           0.22040074178662336,
           0.20563779959612533,
           0.18787932061729182,
           0.16712567793535366,
           0.14348926836260514,
           0.11720338291232232,
           0.08862652853638416,
           0.058241427706856384,
           0.026648129724923395,
           -0.005449066140771361,
           -0.03726086233570953,
           -0.06793803188546253,
           -0.09660159075517502,
           -0.12237701362727325,
           -0.14443111863131364,
           -0.16200998595397612,
           -0.17447608825271163,
           -0.18134271385500067,
           -0.18230376872794093,
           -0.17725715646546372,
           -0.16632015713858264,
           -0.14983554931501694,
           -0.1283676319466868,
           -0.10268778525178764,
           -0.07374973820785838,
           -0.042655257000177006
          ],
          [
           0.013454008098850966,
           -0.017859822184363938,
           -0.04916880920228074,
           -0.07929019757294747,
           -0.10711012813756442,
           -0.1316269478872783,
           -0.15198770280837584,
           -0.16751643729146143,
           -0.17773339606034183,
           -0.18236471957976835,
           -0.18134271385500067,
           -0.1747972342928682,
           -0.16303912773542587,
           -0.14653700801271363,
           -0.1258888846262905,
           -0.10179031338845618,
           -0.0750007897964791,
           -0.046310064114579955,
           -0.016505930263581485,
           0.013655158230898757,
           0.043473546354522816,
           0.07232710218505171,
           0.09968670899986165,
           0.12512633286074154,
           0.14832776112580212,
           0.16908036038891633,
           0.18727640924644018,
           0.20290271423033404,
           0.21602931256266372,
           0.22679610352037188,
           0.23539823538075702,
           0.2420710146043941,
           0.24707500803079696,
           0.2506818889186662,
           0.2531614457800734,
           0.25477004091850136,
           0.2557406839380664,
           0.2562747828163765,
           0.25653555744366946,
           0.2566430509401283,
           0.2566706526738519,
           0.2566430509401283,
           0.25653555744366946,
           0.2562747828163765,
           0.2557406839380664,
           0.25477004091850136,
           0.2531614457800734,
           0.2506818889186662,
           0.24707500803079696,
           0.2420710146043941,
           0.23539823538075702,
           0.22679610352037188,
           0.21602931256266372,
           0.20290271423033404,
           0.18727640924644018,
           0.16908036038891633,
           0.14832776112580212,
           0.12512633286074154,
           0.09968670899986165,
           0.07232710218505171,
           0.043473546354522816,
           0.013655158230898757,
           -0.016505930263581485,
           -0.046310064114579955,
           -0.0750007897964791,
           -0.10179031338845618,
           -0.1258888846262905,
           -0.14653700801271363,
           -0.16303912773542587,
           -0.1747972342928682,
           -0.18134271385500067,
           -0.18236471957976835,
           -0.17773339606034183,
           -0.16751643729146143,
           -0.15198770280837584,
           -0.1316269478872783,
           -0.10711012813756442,
           -0.07929019757294747,
           -0.04916880920228074,
           -0.017859822184363938
          ],
          [
           0.037104384846577534,
           0.007233082355737275,
           -0.023527608249201665,
           -0.054043516875550875,
           -0.08321475815193494,
           -0.11001880232017779,
           -0.13354819579908725,
           -0.15304146672549196,
           -0.167906160972842,
           -0.17773339606034183,
           -0.18230376872794093,
           -0.18158488243001691,
           -0.17572115154133375,
           -0.16501687105976595,
           -0.1499137997580331,
           -0.13096468174943518,
           -0.10880422217787396,
           -0.08411903827788304,
           -0.05761803324395176,
           -0.030004497243790427,
           -0.001951040868825416,
           0.025921773001301992,
           0.05306249567952219,
           0.07900122348247962,
           0.10335731863015635,
           0.1258425822940911,
           0.14626024334832619,
           0.16450028494360933,
           0.18053174205108255,
           0.1943926655354523,
           0.2061784643801796,
           0.21602931256266372,
           0.22411724822563847,
           0.23063350923189954,
           0.23577655069724138,
           0.23974108638511749,
           0.242708395806646,
           0.24483804991090946,
           0.24626113579560338,
           0.24707500803079696,
           0.24733956165584545,
           0.24707500803079696,
           0.24626113579560338,
           0.24483804991090946,
           0.242708395806646,
           0.23974108638511749,
           0.23577655069724138,
           0.23063350923189954,
           0.22411724822563847,
           0.21602931256266372,
           0.2061784643801796,
           0.1943926655354523,
           0.18053174205108255,
           0.16450028494360933,
           0.14626024334832619,
           0.1258425822940911,
           0.10335731863015635,
           0.07900122348247962,
           0.05306249567952219,
           0.025921773001301992,
           -0.001951040868825416,
           -0.030004497243790427,
           -0.05761803324395176,
           -0.08411903827788304,
           -0.10880422217787396,
           -0.13096468174943518,
           -0.1499137997580331,
           -0.16501687105976595,
           -0.17572115154133375,
           -0.18158488243001691,
           -0.18230376872794093,
           -0.17773339606034183,
           -0.167906160972842,
           -0.15304146672549196,
           -0.13354819579908725,
           -0.11001880232017779,
           -0.08321475815193494,
           -0.054043516875550875,
           -0.023527608249201665,
           0.007233082355737275
          ],
          [
           0.059725017515438364,
           0.03197958453286062,
           0.0025207381574719806,
           -0.027588123185645037,
           -0.0572857273340844,
           -0.08555491563889543,
           -0.1114606806231028,
           -0.13418273806183595,
           -0.15304146672549196,
           -0.16751643729146143,
           -0.17725715646546372,
           -0.18208605074549258,
           -0.18199408570471504,
           -0.17712974307464055,
           -0.16778234479339135,
           -0.1543609103022869,
           -0.13736985507049018,
           -0.11738288358628372,
           -0.0950164022704569,
           -0.07090368426500879,
           -0.045670869380806056,
           -0.019915691575644292,
           0.0058103924762656495,
           0.031016232090896562,
           0.05528095770522729,
           0.07825990831739421,
           0.09968670899986165,
           0.11937185506223688,
           0.13719827990417027,
           0.15311446345017118,
           0.16712567793535366,
           0.1792839709402817,
           0.18967745729212915,
           0.19841943861188654,
           0.20563779959612533,
           0.21146505144444128,
           0.21602931256266372,
           0.21944644111666822,
           0.22181346801290225,
           0.2232034254780841,
           0.22366162672468853,
           0.2232034254780841,
           0.22181346801290225,
           0.21944644111666822,
           0.21602931256266372,
           0.21146505144444128,
           0.20563779959612533,
           0.19841943861188654,
           0.18967745729212915,
           0.1792839709402817,
           0.16712567793535366,
           0.15311446345017118,
           0.13719827990417027,
           0.11937185506223688,
           0.09968670899986165,
           0.07825990831739421,
           0.05528095770522729,
           0.031016232090896562,
           0.0058103924762656495,
           -0.019915691575644292,
           -0.045670869380806056,
           -0.07090368426500879,
           -0.0950164022704569,
           -0.11738288358628372,
           -0.13736985507049018,
           -0.1543609103022869,
           -0.16778234479339135,
           -0.17712974307464055,
           -0.18199408570471504,
           -0.18208605074549258,
           -0.17725715646546372,
           -0.16751643729146143,
           -0.15304146672549196,
           -0.13418273806183595,
           -0.1114606806231028,
           -0.08555491563889543,
           -0.0572857273340844,
           -0.027588123185645037,
           0.0025207381574719806,
           0.03197958453286062
          ],
          [
           0.08069235790121831,
           0.05570574218106777,
           0.028270310898122826,
           -0.0006409754282528475,
           -0.03002807965783915,
           -0.05890402451081101,
           -0.08633239590937543,
           -0.1114606806231028,
           -0.13354819579908725,
           -0.15198770280837584,
           -0.16632015713858264,
           -0.17624240938958516,
           -0.18160802037610754,
           -0.18242166855756492,
           -0.1788278960809016,
           -0.17109514979541934,
           -0.15959621882048483,
           -0.14478624788034108,
           -0.1271795169340972,
           -0.10732612754693129,
           -0.0857896329957062,
           -0.0631265026963309,
           -0.039868134180728126,
           -0.016505930263581485,
           0.0065202421682302655,
           0.02883009042098063,
           0.05010748884225075,
           0.07010183827093616,
           0.08862652853638416,
           0.10555493165712146,
           0.12081441070397907,
           0.13437885433763305,
           0.14626024334832619,
           0.15649972810645998,
           0.16515865057394133,
           0.17230988766358785,
           0.17802983029511174,
           0.18239124981424537,
           0.18545724476618586,
           0.18727640924644018,
           0.18787932061729182,
           0.18727640924644018,
           0.18545724476618586,
           0.18239124981424537,
           0.17802983029511174,
           0.17230988766358785,
           0.16515865057394133,
           0.15649972810645998,
           0.14626024334832619,
           0.13437885433763305,
           0.12081441070397907,
           0.10555493165712146,
           0.08862652853638416,
           0.07010183827093616,
           0.05010748884225075,
           0.02883009042098063,
           0.0065202421682302655,
           -0.016505930263581485,
           -0.039868134180728126,
           -0.0631265026963309,
           -0.0857896329957062,
           -0.10732612754693129,
           -0.1271795169340972,
           -0.14478624788034108,
           -0.15959621882048483,
           -0.17109514979541934,
           -0.1788278960809016,
           -0.18242166855756492,
           -0.18160802037610754,
           -0.17624240938958516,
           -0.16632015713858264,
           -0.15198770280837584,
           -0.13354819579908725,
           -0.1114606806231028,
           -0.08633239590937543,
           -0.05890402451081101,
           -0.03002807965783915,
           -0.0006409754282528475,
           0.028270310898122826,
           0.05570574218106777
          ],
          [
           0.0993958462307399,
           0.07773008237271903,
           0.05298490441364873,
           0.026026147564044762,
           -0.0022274559793407315,
           -0.030841885736018544,
           -0.05890402451081101,
           -0.08555491563889543,
           -0.11001880232017779,
           -0.1316269478872783,
           -0.14983554931501694,
           -0.1642373823959323,
           -0.17456713788189782,
           -0.1807007071005138,
           -0.18264893898060253,
           -0.18054660691367944,
           -0.17463748569481502,
           -0.16525654180237792,
           -0.1528102839666787,
           -0.1377563081818195,
           -0.12058300781296416,
           -0.10179031338845618,
           -0.08187218787401292,
           -0.061301442485772274,
           -0.040517266401149735,
           -0.019915691575644292,
           0.0001569493213448689,
           0.019407660252202565,
           0.03759772656874239,
           0.054541276561040686,
           0.07010183827093616,
           0.08418731130237875,
           0.09674378883254962,
           0.10774865812501504,
           0.11720338291232232,
           0.12512633286074154,
           0.13154597877649798,
           0.13649472168344115,
           0.14000357308347133,
           0.14209785531573388,
           0.14279404657238684,
           0.14209785531573388,
           0.14000357308347133,
           0.13649472168344115,
           0.13154597877649798,
           0.12512633286074154,
           0.11720338291232232,
           0.10774865812501504,
           0.09674378883254962,
           0.08418731130237875,
           0.07010183827093616,
           0.054541276561040686,
           0.03759772656874239,
           0.019407660252202565,
           0.0001569493213448689,
           -0.019915691575644292,
           -0.040517266401149735,
           -0.061301442485772274,
           -0.08187218787401292,
           -0.10179031338845618,
           -0.12058300781296416,
           -0.1377563081818195,
           -0.1528102839666787,
           -0.16525654180237792,
           -0.17463748569481502,
           -0.18054660691367944,
           -0.18264893898060253,
           -0.1807007071005138,
           -0.17456713788189782,
           -0.1642373823959323,
           -0.14983554931501694,
           -0.1316269478872783,
           -0.11001880232017779,
           -0.08555491563889543,
           -0.05890402451081101,
           -0.030841885736018544,
           -0.0022274559793407315,
           0.026026147564044762,
           0.05298490441364873,
           0.07773008237271903
          ],
          [
           0.11526115097856117,
           0.09738828403656238,
           0.0759235678781371,
           0.05161237775613617,
           0.025275083284098894,
           -0.0022274559793407315,
           -0.03002807965783915,
           -0.0572857273340844,
           -0.08321475815193494,
           -0.10711012813756442,
           -0.1283676319466868,
           -0.1464987033293174,
           -0.16113955966514656,
           -0.17205475511311313,
           -0.17913546063850083,
           -0.18239300622958532,
           -0.18194839266053625,
           -0.17801860199902664,
           -0.17090060569317098,
           -0.1609539875623888,
           -0.14858307017251748,
           -0.13421936300715656,
           -0.11830504740258321,
           -0.10127808535368477,
           -0.08355939645450051,
           -0.06554239869174844,
           -0.04758506314163741,
           -0.030004497243790427,
           -0.013073952151520388,
           0.0029779491154211806,
           0.017966041941118966,
           0.031745840459068614,
           0.044209509361482956,
           0.05528095770522729,
           0.0649104168254659,
           0.07306884206017318,
           0.07974244535617742,
           0.08492762656935865,
           0.08862652853638416,
           0.09084339726921295,
           0.09158188560927924,
           0.09084339726921295,
           0.08862652853638416,
           0.08492762656935865,
           0.07974244535617742,
           0.07306884206017318,
           0.0649104168254659,
           0.05528095770522729,
           0.044209509361482956,
           0.031745840459068614,
           0.017966041941118966,
           0.0029779491154211806,
           -0.013073952151520388,
           -0.030004497243790427,
           -0.04758506314163741,
           -0.06554239869174844,
           -0.08355939645450051,
           -0.10127808535368477,
           -0.11830504740258321,
           -0.13421936300715656,
           -0.14858307017251748,
           -0.1609539875623888,
           -0.17090060569317098,
           -0.17801860199902664,
           -0.18194839266053625,
           -0.18239300622958532,
           -0.17913546063850083,
           -0.17205475511311313,
           -0.16113955966514656,
           -0.1464987033293174,
           -0.1283676319466868,
           -0.10711012813756442,
           -0.08321475815193494,
           -0.0572857273340844,
           -0.03002807965783915,
           -0.0022274559793407315,
           0.025275083284098894,
           0.05161237775613617,
           0.0759235678781371,
           0.09738828403656238
          ],
          [
           0.12777380562398274,
           0.11405907878471819,
           0.09636827159298987,
           0.07531659368730659,
           0.05161237775613617,
           0.026026147564044762,
           -0.0006409754282528475,
           -0.027588123185645037,
           -0.054043516875550875,
           -0.07929019757294747,
           -0.10268778525178764,
           -0.12368964794720452,
           -0.14185512230149663,
           -0.15685668268767797,
           -0.16848219583369567,
           -0.17663261032673944,
           -0.18131560690315682,
           -0.1826358700412797,
           -0.18078273088932142,
           -0.1760159755489718,
           -0.16865061331126227,
           -0.15904136091487175,
           -0.14756752732225356,
           -0.13461888616197776,
           -0.12058300781296416,
           -0.10583439818051152,
           -0.0907256642328181,
           -0.07558080422426758,
           -0.060690608986011814,
           -0.046310064114579955,
           -0.032657564269347995,
           -0.019915691575644292,
           -0.00823327044894154,
           0.0022716100207446164,
           0.011507919583092052,
           0.019407660252202565,
           0.025921773001301992,
           0.031016232090896562,
           0.03466854669458865,
           0.03686485131708162,
           0.03759772656874239,
           0.03686485131708162,
           0.03466854669458865,
           0.031016232090896562,
           0.025921773001301992,
           0.019407660252202565,
           0.011507919583092052,
           0.0022716100207446164,
           -0.00823327044894154,
           -0.019915691575644292,
           -0.032657564269347995,
           -0.046310064114579955,
           -0.060690608986011814,
           -0.07558080422426758,
           -0.0907256642328181,
           -0.10583439818051152,
           -0.12058300781296416,
           -0.13461888616197776,
           -0.14756752732225356,
           -0.15904136091487175,
           -0.16865061331126227,
           -0.1760159755489718,
           -0.18078273088932142,
           -0.1826358700412797,
           -0.18131560690315682,
           -0.17663261032673944,
           -0.16848219583369567,
           -0.15685668268767797,
           -0.14185512230149663,
           -0.12368964794720452,
           -0.10268778525178764,
           -0.07929019757294747,
           -0.054043516875550875,
           -0.027588123185645037,
           -0.0006409754282528475,
           0.026026147564044762,
           0.05161237775613617,
           0.07531659368730659,
           0.09636827159298987,
           0.11405907878471819
          ],
          [
           0.13650222610828716,
           0.12719030582037316,
           0.1136526088802527,
           0.09636827159298987,
           0.0759235678781371,
           0.05298490441364873,
           0.028270310898122826,
           0.0025207381574719806,
           -0.023527608249201665,
           -0.04916880920228074,
           -0.07374973820785838,
           -0.09668883252747353,
           -0.11749065565570795,
           -0.13575600794040762,
           -0.1511875643863488,
           -0.163591222139663,
           -0.17287351607260817,
           -0.17903560277058095,
           -0.1821644169794075,
           -0.18242166855756492,
           -0.1800313728705813,
           -0.1752665961050691,
           -0.16843605361995675,
           -0.15987112992755653,
           -0.1499137997580331,
           -0.13890582780165694,
           -0.1271795169340972,
           -0.11505016730310495,
           -0.10281030706494565,
           -0.0907256642328181,
           -0.07903277128303789,
           -0.06793803188546253,
           -0.05761803324395176,
           -0.04822085787410071,
           -0.039868134180728126,
           -0.032657564269347995,
           -0.026665677985416577,
           -0.021950582012676394,
           -0.01855449981019833,
           -0.016505930263581485,
           -0.015821288518275644,
           -0.016505930263581485,
           -0.01855449981019833,
           -0.021950582012676394,
           -0.026665677985416577,
           -0.032657564269347995,
           -0.039868134180728126,
           -0.04822085787410071,
           -0.05761803324395176,
           -0.06793803188546253,
           -0.07903277128303789,
           -0.0907256642328181,
           -0.10281030706494565,
           -0.11505016730310495,
           -0.1271795169340972,
           -0.13890582780165694,
           -0.1499137997580331,
           -0.15987112992755653,
           -0.16843605361995675,
           -0.1752665961050691,
           -0.1800313728705813,
           -0.18242166855756492,
           -0.1821644169794075,
           -0.17903560277058095,
           -0.17287351607260817,
           -0.163591222139663,
           -0.1511875643863488,
           -0.13575600794040762,
           -0.11749065565570795,
           -0.09668883252747353,
           -0.07374973820785838,
           -0.04916880920228074,
           -0.023527608249201665,
           0.0025207381574719806,
           0.028270310898122826,
           0.05298490441364873,
           0.0759235678781371,
           0.09636827159298987,
           0.1136526088802527,
           0.12719030582037316
          ],
          [
           0.14111903500315878,
           0.13632396086944565,
           0.12719030582037316,
           0.11405907878471819,
           0.09738828403656238,
           0.07773008237271903,
           0.05570574218106777,
           0.03197958453286062,
           0.007233082355737275,
           -0.017859822184363938,
           -0.042655257000177006,
           -0.06655906279410359,
           -0.08904297911487404,
           -0.10965701691843574,
           -0.12803786284735597,
           -0.14391335124448024,
           -0.15710321083861073,
           -0.16751643729146143,
           -0.1751457556394694,
           -0.1800597155006458,
           -0.18239300622958532,
           -0.18233559039097344,
           -0.18012123502583363,
           -0.1760159755489718,
           -0.17030698199702413,
           -0.16329221750830802,
           -0.15527119023634722,
           -0.14653700801271363,
           -0.13736985507049018,
           -0.12803192632998142,
           -0.11876378051842666,
           -0.10978201113265723,
           -0.10127808535368477,
           -0.09341816596346665,
           -0.08634370978474622,
           -0.08017262722723162,
           -0.0750007897964791,
           -0.07090368426500879,
           -0.06793803188546253,
           -0.06614321685638791,
           -0.06554239869174844,
           -0.06614321685638791,
           -0.06793803188546253,
           -0.07090368426500879,
           -0.0750007897964791,
           -0.08017262722723162,
           -0.08634370978474622,
           -0.09341816596346665,
           -0.10127808535368477,
           -0.10978201113265723,
           -0.11876378051842666,
           -0.12803192632998142,
           -0.13736985507049018,
           -0.14653700801271363,
           -0.15527119023634722,
           -0.16329221750830802,
           -0.17030698199702413,
           -0.1760159755489718,
           -0.18012123502583363,
           -0.18233559039097344,
           -0.18239300622958532,
           -0.1800597155006458,
           -0.1751457556394694,
           -0.16751643729146143,
           -0.15710321083861073,
           -0.14391335124448024,
           -0.12803786284735597,
           -0.10965701691843574,
           -0.08904297911487404,
           -0.06655906279410359,
           -0.042655257000177006,
           -0.017859822184363938,
           0.007233082355737275,
           0.03197958453286062,
           0.05570574218106777,
           0.07773008237271903,
           0.09738828403656238,
           0.11405907878471819,
           0.12719030582037316,
           0.13632396086944565
          ]
         ]
        }
       ],
       "layout": {
        "legend": {
         "bgcolor": "#151516",
         "font": {
          "color": "#D9D9D9"
         }
        },
        "paper_bgcolor": "#151516",
        "plot_bgcolor": "#151516",
        "template": {
         "data": {
          "bar": [
           {
            "error_x": {
             "color": "#2a3f5f"
            },
            "error_y": {
             "color": "#2a3f5f"
            },
            "marker": {
             "line": {
              "color": "#E5ECF6",
              "width": 0.5
             },
             "pattern": {
              "fillmode": "overlay",
              "size": 10,
              "solidity": 0.2
             }
            },
            "type": "bar"
           }
          ],
          "barpolar": [
           {
            "marker": {
             "line": {
              "color": "#E5ECF6",
              "width": 0.5
             },
             "pattern": {
              "fillmode": "overlay",
              "size": 10,
              "solidity": 0.2
             }
            },
            "type": "barpolar"
           }
          ],
          "carpet": [
           {
            "aaxis": {
             "endlinecolor": "#2a3f5f",
             "gridcolor": "white",
             "linecolor": "white",
             "minorgridcolor": "white",
             "startlinecolor": "#2a3f5f"
            },
            "baxis": {
             "endlinecolor": "#2a3f5f",
             "gridcolor": "white",
             "linecolor": "white",
             "minorgridcolor": "white",
             "startlinecolor": "#2a3f5f"
            },
            "type": "carpet"
           }
          ],
          "choropleth": [
           {
            "colorbar": {
             "outlinewidth": 0,
             "ticks": ""
            },
            "type": "choropleth"
           }
          ],
          "contour": [
           {
            "colorbar": {
             "outlinewidth": 0,
             "ticks": ""
            },
            "colorscale": [
             [
              0,
              "#0d0887"
             ],
             [
              0.1111111111111111,
              "#46039f"
             ],
             [
              0.2222222222222222,
              "#7201a8"
             ],
             [
              0.3333333333333333,
              "#9c179e"
             ],
             [
              0.4444444444444444,
              "#bd3786"
             ],
             [
              0.5555555555555556,
              "#d8576b"
             ],
             [
              0.6666666666666666,
              "#ed7953"
             ],
             [
              0.7777777777777778,
              "#fb9f3a"
             ],
             [
              0.8888888888888888,
              "#fdca26"
             ],
             [
              1,
              "#f0f921"
             ]
            ],
            "type": "contour"
           }
          ],
          "contourcarpet": [
           {
            "colorbar": {
             "outlinewidth": 0,
             "ticks": ""
            },
            "type": "contourcarpet"
           }
          ],
          "heatmap": [
           {
            "colorbar": {
             "outlinewidth": 0,
             "ticks": ""
            },
            "colorscale": [
             [
              0,
              "#0d0887"
             ],
             [
              0.1111111111111111,
              "#46039f"
             ],
             [
              0.2222222222222222,
              "#7201a8"
             ],
             [
              0.3333333333333333,
              "#9c179e"
             ],
             [
              0.4444444444444444,
              "#bd3786"
             ],
             [
              0.5555555555555556,
              "#d8576b"
             ],
             [
              0.6666666666666666,
              "#ed7953"
             ],
             [
              0.7777777777777778,
              "#fb9f3a"
             ],
             [
              0.8888888888888888,
              "#fdca26"
             ],
             [
              1,
              "#f0f921"
             ]
            ],
            "type": "heatmap"
           }
          ],
          "heatmapgl": [
           {
            "colorbar": {
             "outlinewidth": 0,
             "ticks": ""
            },
            "colorscale": [
             [
              0,
              "#0d0887"
             ],
             [
              0.1111111111111111,
              "#46039f"
             ],
             [
              0.2222222222222222,
              "#7201a8"
             ],
             [
              0.3333333333333333,
              "#9c179e"
             ],
             [
              0.4444444444444444,
              "#bd3786"
             ],
             [
              0.5555555555555556,
              "#d8576b"
             ],
             [
              0.6666666666666666,
              "#ed7953"
             ],
             [
              0.7777777777777778,
              "#fb9f3a"
             ],
             [
              0.8888888888888888,
              "#fdca26"
             ],
             [
              1,
              "#f0f921"
             ]
            ],
            "type": "heatmapgl"
           }
          ],
          "histogram": [
           {
            "marker": {
             "pattern": {
              "fillmode": "overlay",
              "size": 10,
              "solidity": 0.2
             }
            },
            "type": "histogram"
           }
          ],
          "histogram2d": [
           {
            "colorbar": {
             "outlinewidth": 0,
             "ticks": ""
            },
            "colorscale": [
             [
              0,
              "#0d0887"
             ],
             [
              0.1111111111111111,
              "#46039f"
             ],
             [
              0.2222222222222222,
              "#7201a8"
             ],
             [
              0.3333333333333333,
              "#9c179e"
             ],
             [
              0.4444444444444444,
              "#bd3786"
             ],
             [
              0.5555555555555556,
              "#d8576b"
             ],
             [
              0.6666666666666666,
              "#ed7953"
             ],
             [
              0.7777777777777778,
              "#fb9f3a"
             ],
             [
              0.8888888888888888,
              "#fdca26"
             ],
             [
              1,
              "#f0f921"
             ]
            ],
            "type": "histogram2d"
           }
          ],
          "histogram2dcontour": [
           {
            "colorbar": {
             "outlinewidth": 0,
             "ticks": ""
            },
            "colorscale": [
             [
              0,
              "#0d0887"
             ],
             [
              0.1111111111111111,
              "#46039f"
             ],
             [
              0.2222222222222222,
              "#7201a8"
             ],
             [
              0.3333333333333333,
              "#9c179e"
             ],
             [
              0.4444444444444444,
              "#bd3786"
             ],
             [
              0.5555555555555556,
              "#d8576b"
             ],
             [
              0.6666666666666666,
              "#ed7953"
             ],
             [
              0.7777777777777778,
              "#fb9f3a"
             ],
             [
              0.8888888888888888,
              "#fdca26"
             ],
             [
              1,
              "#f0f921"
             ]
            ],
            "type": "histogram2dcontour"
           }
          ],
          "mesh3d": [
           {
            "colorbar": {
             "outlinewidth": 0,
             "ticks": ""
            },
            "type": "mesh3d"
           }
          ],
          "parcoords": [
           {
            "line": {
             "colorbar": {
              "outlinewidth": 0,
              "ticks": ""
             }
            },
            "type": "parcoords"
           }
          ],
          "pie": [
           {
            "automargin": true,
            "type": "pie"
           }
          ],
          "scatter": [
           {
            "fillpattern": {
             "fillmode": "overlay",
             "size": 10,
             "solidity": 0.2
            },
            "type": "scatter"
           }
          ],
          "scatter3d": [
           {
            "line": {
             "colorbar": {
              "outlinewidth": 0,
              "ticks": ""
             }
            },
            "marker": {
             "colorbar": {
              "outlinewidth": 0,
              "ticks": ""
             }
            },
            "type": "scatter3d"
           }
          ],
          "scattercarpet": [
           {
            "marker": {
             "colorbar": {
              "outlinewidth": 0,
              "ticks": ""
             }
            },
            "type": "scattercarpet"
           }
          ],
          "scattergeo": [
           {
            "marker": {
             "colorbar": {
              "outlinewidth": 0,
              "ticks": ""
             }
            },
            "type": "scattergeo"
           }
          ],
          "scattergl": [
           {
            "marker": {
             "colorbar": {
              "outlinewidth": 0,
              "ticks": ""
             }
            },
            "type": "scattergl"
           }
          ],
          "scattermapbox": [
           {
            "marker": {
             "colorbar": {
              "outlinewidth": 0,
              "ticks": ""
             }
            },
            "type": "scattermapbox"
           }
          ],
          "scatterpolar": [
           {
            "marker": {
             "colorbar": {
              "outlinewidth": 0,
              "ticks": ""
             }
            },
            "type": "scatterpolar"
           }
          ],
          "scatterpolargl": [
           {
            "marker": {
             "colorbar": {
              "outlinewidth": 0,
              "ticks": ""
             }
            },
            "type": "scatterpolargl"
           }
          ],
          "scatterternary": [
           {
            "marker": {
             "colorbar": {
              "outlinewidth": 0,
              "ticks": ""
             }
            },
            "type": "scatterternary"
           }
          ],
          "surface": [
           {
            "colorbar": {
             "outlinewidth": 0,
             "ticks": ""
            },
            "colorscale": [
             [
              0,
              "#0d0887"
             ],
             [
              0.1111111111111111,
              "#46039f"
             ],
             [
              0.2222222222222222,
              "#7201a8"
             ],
             [
              0.3333333333333333,
              "#9c179e"
             ],
             [
              0.4444444444444444,
              "#bd3786"
             ],
             [
              0.5555555555555556,
              "#d8576b"
             ],
             [
              0.6666666666666666,
              "#ed7953"
             ],
             [
              0.7777777777777778,
              "#fb9f3a"
             ],
             [
              0.8888888888888888,
              "#fdca26"
             ],
             [
              1,
              "#f0f921"
             ]
            ],
            "type": "surface"
           }
          ],
          "table": [
           {
            "cells": {
             "fill": {
              "color": "#EBF0F8"
             },
             "line": {
              "color": "white"
             }
            },
            "header": {
             "fill": {
              "color": "#C8D4E3"
             },
             "line": {
              "color": "white"
             }
            },
            "type": "table"
           }
          ]
         },
         "layout": {
          "annotationdefaults": {
           "arrowcolor": "#2a3f5f",
           "arrowhead": 0,
           "arrowwidth": 1
          },
          "autotypenumbers": "strict",
          "coloraxis": {
           "colorbar": {
            "outlinewidth": 0,
            "ticks": ""
           }
          },
          "colorscale": {
           "diverging": [
            [
             0,
             "#8e0152"
            ],
            [
             0.1,
             "#c51b7d"
            ],
            [
             0.2,
             "#de77ae"
            ],
            [
             0.3,
             "#f1b6da"
            ],
            [
             0.4,
             "#fde0ef"
            ],
            [
             0.5,
             "#f7f7f7"
            ],
            [
             0.6,
             "#e6f5d0"
            ],
            [
             0.7,
             "#b8e186"
            ],
            [
             0.8,
             "#7fbc41"
            ],
            [
             0.9,
             "#4d9221"
            ],
            [
             1,
             "#276419"
            ]
           ],
           "sequential": [
            [
             0,
             "#0d0887"
            ],
            [
             0.1111111111111111,
             "#46039f"
            ],
            [
             0.2222222222222222,
             "#7201a8"
            ],
            [
             0.3333333333333333,
             "#9c179e"
            ],
            [
             0.4444444444444444,
             "#bd3786"
            ],
            [
             0.5555555555555556,
             "#d8576b"
            ],
            [
             0.6666666666666666,
             "#ed7953"
            ],
            [
             0.7777777777777778,
             "#fb9f3a"
            ],
            [
             0.8888888888888888,
             "#fdca26"
            ],
            [
             1,
             "#f0f921"
            ]
           ],
           "sequentialminus": [
            [
             0,
             "#0d0887"
            ],
            [
             0.1111111111111111,
             "#46039f"
            ],
            [
             0.2222222222222222,
             "#7201a8"
            ],
            [
             0.3333333333333333,
             "#9c179e"
            ],
            [
             0.4444444444444444,
             "#bd3786"
            ],
            [
             0.5555555555555556,
             "#d8576b"
            ],
            [
             0.6666666666666666,
             "#ed7953"
            ],
            [
             0.7777777777777778,
             "#fb9f3a"
            ],
            [
             0.8888888888888888,
             "#fdca26"
            ],
            [
             1,
             "#f0f921"
            ]
           ]
          },
          "colorway": [
           "#636efa",
           "#EF553B",
           "#00cc96",
           "#ab63fa",
           "#FFA15A",
           "#19d3f3",
           "#FF6692",
           "#B6E880",
           "#FF97FF",
           "#FECB52"
          ],
          "font": {
           "color": "#2a3f5f"
          },
          "geo": {
           "bgcolor": "white",
           "lakecolor": "white",
           "landcolor": "#E5ECF6",
           "showlakes": true,
           "showland": true,
           "subunitcolor": "white"
          },
          "hoverlabel": {
           "align": "left"
          },
          "hovermode": "closest",
          "mapbox": {
           "style": "light"
          },
          "paper_bgcolor": "white",
          "plot_bgcolor": "#E5ECF6",
          "polar": {
           "angularaxis": {
            "gridcolor": "white",
            "linecolor": "white",
            "ticks": ""
           },
           "bgcolor": "#E5ECF6",
           "radialaxis": {
            "gridcolor": "white",
            "linecolor": "white",
            "ticks": ""
           }
          },
          "scene": {
           "xaxis": {
            "backgroundcolor": "#E5ECF6",
            "gridcolor": "white",
            "gridwidth": 2,
            "linecolor": "white",
            "showbackground": true,
            "ticks": "",
            "zerolinecolor": "white"
           },
           "yaxis": {
            "backgroundcolor": "#E5ECF6",
            "gridcolor": "white",
            "gridwidth": 2,
            "linecolor": "white",
            "showbackground": true,
            "ticks": "",
            "zerolinecolor": "white"
           },
           "zaxis": {
            "backgroundcolor": "#E5ECF6",
            "gridcolor": "white",
            "gridwidth": 2,
            "linecolor": "white",
            "showbackground": true,
            "ticks": "",
            "zerolinecolor": "white"
           }
          },
          "shapedefaults": {
           "line": {
            "color": "#2a3f5f"
           }
          },
          "ternary": {
           "aaxis": {
            "gridcolor": "white",
            "linecolor": "white",
            "ticks": ""
           },
           "baxis": {
            "gridcolor": "white",
            "linecolor": "white",
            "ticks": ""
           },
           "bgcolor": "#E5ECF6",
           "caxis": {
            "gridcolor": "white",
            "linecolor": "white",
            "ticks": ""
           }
          },
          "title": {
           "x": 0.05
          },
          "xaxis": {
           "automargin": true,
           "gridcolor": "white",
           "linecolor": "white",
           "ticks": "",
           "title": {
            "standoff": 15
           },
           "zerolinecolor": "white",
           "zerolinewidth": 2
          },
          "yaxis": {
           "automargin": true,
           "gridcolor": "white",
           "linecolor": "white",
           "ticks": "",
           "title": {
            "standoff": 15
           },
           "zerolinecolor": "white",
           "zerolinewidth": 2
          }
         }
        },
        "title": {
         "font": {
          "color": "#D9D9D9"
         }
        },
        "xaxis": {
         "gridcolor": "#434343",
         "showgrid": true,
         "tickfont": {
          "color": "#C2C2C2"
         },
         "title": {
          "font": {
           "color": "#D9D9D9"
          },
          "text": ""
         },
         "zerolinecolor": "#666570"
        },
        "yaxis": {
         "gridcolor": "#434343",
         "showgrid": true,
         "tickfont": {
          "color": "#C2C2C2"
         },
         "title": {
          "font": {
           "color": "#D9D9D9"
          },
          "text": ""
         },
         "zerolinecolor": "#666570"
        }
       }
      },
      "text/html": [
       "<div>                            <div id=\"93843e73-41dd-4e0f-b622-b292fd846b99\" class=\"plotly-graph-div\" style=\"height:525px; width:100%;\"></div>            <script type=\"text/javascript\">                require([\"plotly\"], function(Plotly) {                    window.PLOTLYENV=window.PLOTLYENV || {};\n",
       "                    window.PLOTLYENV.BASE_URL='https://plot.ly';                                    if (document.getElementById(\"93843e73-41dd-4e0f-b622-b292fd846b99\")) {                    Plotly.newPlot(                        \"93843e73-41dd-4e0f-b622-b292fd846b99\",                        [{\"colorscale\":[[0.0,\"rgb(255, 153, 51)\"],[0.1111111111111111,\"rgb(55, 128, 191)\"],[0.2222222222222222,\"rgb(50, 171, 96)\"],[0.3333333333333333,\"rgb(128, 0, 128)\"],[0.4444444444444444,\"rgb(219, 64, 82)\"],[0.5555555555555556,\"rgb(0, 128, 128)\"],[0.6666666666666666,\"rgb(255, 255, 51)\"],[0.7777777777777778,\"rgb(128, 128, 0)\"],[0.8888888888888888,\"rgb(251, 128, 114)\"],[1.0,\"rgb(128, 177, 211)\"]],\"x\":[-10.0,-9.75,-9.5,-9.25,-9.0,-8.75,-8.5,-8.25,-8.0,-7.75,-7.5,-7.25,-7.0,-6.75,-6.5,-6.25,-6.0,-5.75,-5.5,-5.25,-5.0,-4.75,-4.5,-4.25,-4.0,-3.75,-3.5,-3.25,-3.0,-2.75,-2.5,-2.25,-2.0,-1.75,-1.5,-1.25,-1.0,-0.75,-0.5,-0.25,0.0,0.25,0.5,0.75,1.0,1.25,1.5,1.75,2.0,2.25,2.5,2.75,3.0,3.25,3.5,3.75,4.0,4.25,4.5,4.75,5.0,5.25,5.5,5.75,6.0,6.25,6.5,6.75,7.0,7.25,7.5,7.75,8.0,8.25,8.5,8.75,9.0,9.25,9.5,9.75],\"y\":[-10.0,-9.75,-9.5,-9.25,-9.0,-8.75,-8.5,-8.25,-8.0,-7.75,-7.5,-7.25,-7.0,-6.75,-6.5,-6.25,-6.0,-5.75,-5.5,-5.25,-5.0,-4.75,-4.5,-4.25,-4.0,-3.75,-3.5,-3.25,-3.0,-2.75,-2.5,-2.25,-2.0,-1.75,-1.5,-1.25,-1.0,-0.75,-0.5,-0.25,0.0,0.25,0.5,0.75,1.0,1.25,1.5,1.75,2.0,2.25,2.5,2.75,3.0,3.25,3.5,3.75,4.0,4.25,4.5,4.75,5.0,5.25,5.5,5.75,6.0,6.25,6.5,6.75,7.0,7.25,7.5,7.75,8.0,8.25,8.5,8.75,9.0,9.25,9.5,9.75],\"z\":[[0.14141961054935853,0.14111903500315878,0.13650222610828716,0.12777380562398274,0.11526115097856117,0.0993958462307399,0.08069235790121831,0.059725017515438364,0.037104384846577534,0.013454008098850966,-0.01061150357619211,-0.0345063152690242,-0.05769048962428924,-0.07968395387291566,-0.10007704610444179,-0.11853755153953284,-0.13481430178982187,-0.1487375524385824,-0.16021647158282734,-0.16923416092386775,-0.17584069010379264,-0.1801446545297837,-0.18230376872794093,-0.18251498442862385,-0.18100457917857166,-0.17801860199902664,-0.1738139924448547,-0.16865061331126227,-0.16278435980926842,-0.15646143337355978,-0.1499137997580331,-0.14335579129849668,-0.13698176393514344,-0.13096468174943518,-0.1254554756233313,-0.12058300781296416,-0.1164544699167505,-0.1131560467581887,-0.1107536917561867,-0.10929387900894774,-0.10880422217787396,-0.10929387900894774,-0.1107536917561867,-0.1131560467581887,-0.1164544699167505,-0.12058300781296416,-0.1254554756233313,-0.13096468174943518,-0.13698176393514344,-0.14335579129849668,-0.1499137997580331,-0.15646143337355978,-0.16278435980926842,-0.16865061331126227,-0.1738139924448547,-0.17801860199902664,-0.18100457917857166,-0.18251498442862385,-0.18230376872794093,-0.1801446545297837,-0.17584069010379264,-0.16923416092386775,-0.16021647158282734,-0.1487375524385824,-0.13481430178982187,-0.11853755153953284,-0.10007704610444179,-0.07968395387291566,-0.05769048962428924,-0.0345063152690242,-0.01061150357619211,0.013454008098850966,0.037104384846577534,0.059725017515438364,0.08069235790121831,0.0993958462307399,0.11526115097856117,0.12777380562398274,0.13650222610828716,0.14111903500315878],[0.14111903500315878,0.13632396086944565,0.12719030582037316,0.11405907878471819,0.09738828403656238,0.07773008237271903,0.05570574218106777,0.03197958453286062,0.007233082355737275,-0.017859822184363938,-0.042655257000177006,-0.06655906279410359,-0.08904297911487404,-0.10965701691843574,-0.12803786284735597,-0.14391335124448024,-0.15710321083861073,-0.16751643729146143,-0.1751457556394694,-0.1800597155006458,-0.18239300622958532,-0.18233559039097344,-0.18012123502583363,-0.1760159755489718,-0.17030698199702413,-0.16329221750830802,-0.15527119023634722,-0.14653700801271363,-0.13736985507049018,-0.12803192632998142,-0.11876378051842666,-0.10978201113265723,-0.10127808535368477,-0.09341816596346665,-0.08634370978474622,-0.08017262722723162,-0.0750007897964791,-0.07090368426500879,-0.06793803188546253,-0.06614321685638791,-0.06554239869174844,-0.06614321685638791,-0.06793803188546253,-0.07090368426500879,-0.0750007897964791,-0.08017262722723162,-0.08634370978474622,-0.09341816596346665,-0.10127808535368477,-0.10978201113265723,-0.11876378051842666,-0.12803192632998142,-0.13736985507049018,-0.14653700801271363,-0.15527119023634722,-0.16329221750830802,-0.17030698199702413,-0.1760159755489718,-0.18012123502583363,-0.18233559039097344,-0.18239300622958532,-0.1800597155006458,-0.1751457556394694,-0.16751643729146143,-0.15710321083861073,-0.14391335124448024,-0.12803786284735597,-0.10965701691843574,-0.08904297911487404,-0.06655906279410359,-0.042655257000177006,-0.017859822184363938,0.007233082355737275,0.03197958453286062,0.05570574218106777,0.07773008237271903,0.09738828403656238,0.11405907878471819,0.12719030582037316,0.13632396086944565],[0.13650222610828716,0.12719030582037316,0.1136526088802527,0.09636827159298987,0.0759235678781371,0.05298490441364873,0.028270310898122826,0.0025207381574719806,-0.023527608249201665,-0.04916880920228074,-0.07374973820785838,-0.09668883252747353,-0.11749065565570795,-0.13575600794040762,-0.1511875643863488,-0.163591222139663,-0.17287351607260817,-0.17903560277058095,-0.1821644169794075,-0.18242166855756492,-0.1800313728705813,-0.1752665961050691,-0.16843605361995675,-0.15987112992755653,-0.1499137997580331,-0.13890582780165694,-0.1271795169340972,-0.11505016730310495,-0.10281030706494565,-0.0907256642328181,-0.07903277128303789,-0.06793803188546253,-0.05761803324395176,-0.04822085787410071,-0.039868134180728126,-0.032657564269347995,-0.026665677985416577,-0.021950582012676394,-0.01855449981019833,-0.016505930263581485,-0.015821288518275644,-0.016505930263581485,-0.01855449981019833,-0.021950582012676394,-0.026665677985416577,-0.032657564269347995,-0.039868134180728126,-0.04822085787410071,-0.05761803324395176,-0.06793803188546253,-0.07903277128303789,-0.0907256642328181,-0.10281030706494565,-0.11505016730310495,-0.1271795169340972,-0.13890582780165694,-0.1499137997580331,-0.15987112992755653,-0.16843605361995675,-0.1752665961050691,-0.1800313728705813,-0.18242166855756492,-0.1821644169794075,-0.17903560277058095,-0.17287351607260817,-0.163591222139663,-0.1511875643863488,-0.13575600794040762,-0.11749065565570795,-0.09668883252747353,-0.07374973820785838,-0.04916880920228074,-0.023527608249201665,0.0025207381574719806,0.028270310898122826,0.05298490441364873,0.0759235678781371,0.09636827159298987,0.1136526088802527,0.12719030582037316],[0.12777380562398274,0.11405907878471819,0.09636827159298987,0.07531659368730659,0.05161237775613617,0.026026147564044762,-0.0006409754282528475,-0.027588123185645037,-0.054043516875550875,-0.07929019757294747,-0.10268778525178764,-0.12368964794720452,-0.14185512230149663,-0.15685668268767797,-0.16848219583369567,-0.17663261032673944,-0.18131560690315682,-0.1826358700412797,-0.18078273088932142,-0.1760159755489718,-0.16865061331126227,-0.15904136091487175,-0.14756752732225356,-0.13461888616197776,-0.12058300781296416,-0.10583439818051152,-0.0907256642328181,-0.07558080422426758,-0.060690608986011814,-0.046310064114579955,-0.032657564269347995,-0.019915691575644292,-0.00823327044894154,0.0022716100207446164,0.011507919583092052,0.019407660252202565,0.025921773001301992,0.031016232090896562,0.03466854669458865,0.03686485131708162,0.03759772656874239,0.03686485131708162,0.03466854669458865,0.031016232090896562,0.025921773001301992,0.019407660252202565,0.011507919583092052,0.0022716100207446164,-0.00823327044894154,-0.019915691575644292,-0.032657564269347995,-0.046310064114579955,-0.060690608986011814,-0.07558080422426758,-0.0907256642328181,-0.10583439818051152,-0.12058300781296416,-0.13461888616197776,-0.14756752732225356,-0.15904136091487175,-0.16865061331126227,-0.1760159755489718,-0.18078273088932142,-0.1826358700412797,-0.18131560690315682,-0.17663261032673944,-0.16848219583369567,-0.15685668268767797,-0.14185512230149663,-0.12368964794720452,-0.10268778525178764,-0.07929019757294747,-0.054043516875550875,-0.027588123185645037,-0.0006409754282528475,0.026026147564044762,0.05161237775613617,0.07531659368730659,0.09636827159298987,0.11405907878471819],[0.11526115097856117,0.09738828403656238,0.0759235678781371,0.05161237775613617,0.025275083284098894,-0.0022274559793407315,-0.03002807965783915,-0.0572857273340844,-0.08321475815193494,-0.10711012813756442,-0.1283676319466868,-0.1464987033293174,-0.16113955966514656,-0.17205475511311313,-0.17913546063850083,-0.18239300622958532,-0.18194839266053625,-0.17801860199902664,-0.17090060569317098,-0.1609539875623888,-0.14858307017251748,-0.13421936300715656,-0.11830504740258321,-0.10127808535368477,-0.08355939645450051,-0.06554239869174844,-0.04758506314163741,-0.030004497243790427,-0.013073952151520388,0.0029779491154211806,0.017966041941118966,0.031745840459068614,0.044209509361482956,0.05528095770522729,0.0649104168254659,0.07306884206017318,0.07974244535617742,0.08492762656935865,0.08862652853638416,0.09084339726921295,0.09158188560927924,0.09084339726921295,0.08862652853638416,0.08492762656935865,0.07974244535617742,0.07306884206017318,0.0649104168254659,0.05528095770522729,0.044209509361482956,0.031745840459068614,0.017966041941118966,0.0029779491154211806,-0.013073952151520388,-0.030004497243790427,-0.04758506314163741,-0.06554239869174844,-0.08355939645450051,-0.10127808535368477,-0.11830504740258321,-0.13421936300715656,-0.14858307017251748,-0.1609539875623888,-0.17090060569317098,-0.17801860199902664,-0.18194839266053625,-0.18239300622958532,-0.17913546063850083,-0.17205475511311313,-0.16113955966514656,-0.1464987033293174,-0.1283676319466868,-0.10711012813756442,-0.08321475815193494,-0.0572857273340844,-0.03002807965783915,-0.0022274559793407315,0.025275083284098894,0.05161237775613617,0.0759235678781371,0.09738828403656238],[0.0993958462307399,0.07773008237271903,0.05298490441364873,0.026026147564044762,-0.0022274559793407315,-0.030841885736018544,-0.05890402451081101,-0.08555491563889543,-0.11001880232017779,-0.1316269478872783,-0.14983554931501694,-0.1642373823959323,-0.17456713788189782,-0.1807007071005138,-0.18264893898060253,-0.18054660691367944,-0.17463748569481502,-0.16525654180237792,-0.1528102839666787,-0.1377563081818195,-0.12058300781296416,-0.10179031338845618,-0.08187218787401292,-0.061301442485772274,-0.040517266401149735,-0.019915691575644292,0.0001569493213448689,0.019407660252202565,0.03759772656874239,0.054541276561040686,0.07010183827093616,0.08418731130237875,0.09674378883254962,0.10774865812501504,0.11720338291232232,0.12512633286074154,0.13154597877649798,0.13649472168344115,0.14000357308347133,0.14209785531573388,0.14279404657238684,0.14209785531573388,0.14000357308347133,0.13649472168344115,0.13154597877649798,0.12512633286074154,0.11720338291232232,0.10774865812501504,0.09674378883254962,0.08418731130237875,0.07010183827093616,0.054541276561040686,0.03759772656874239,0.019407660252202565,0.0001569493213448689,-0.019915691575644292,-0.040517266401149735,-0.061301442485772274,-0.08187218787401292,-0.10179031338845618,-0.12058300781296416,-0.1377563081818195,-0.1528102839666787,-0.16525654180237792,-0.17463748569481502,-0.18054660691367944,-0.18264893898060253,-0.1807007071005138,-0.17456713788189782,-0.1642373823959323,-0.14983554931501694,-0.1316269478872783,-0.11001880232017779,-0.08555491563889543,-0.05890402451081101,-0.030841885736018544,-0.0022274559793407315,0.026026147564044762,0.05298490441364873,0.07773008237271903],[0.08069235790121831,0.05570574218106777,0.028270310898122826,-0.0006409754282528475,-0.03002807965783915,-0.05890402451081101,-0.08633239590937543,-0.1114606806231028,-0.13354819579908725,-0.15198770280837584,-0.16632015713858264,-0.17624240938958516,-0.18160802037610754,-0.18242166855756492,-0.1788278960809016,-0.17109514979541934,-0.15959621882048483,-0.14478624788034108,-0.1271795169340972,-0.10732612754693129,-0.0857896329957062,-0.0631265026963309,-0.039868134180728126,-0.016505930263581485,0.0065202421682302655,0.02883009042098063,0.05010748884225075,0.07010183827093616,0.08862652853638416,0.10555493165712146,0.12081441070397907,0.13437885433763305,0.14626024334832619,0.15649972810645998,0.16515865057394133,0.17230988766358785,0.17802983029511174,0.18239124981424537,0.18545724476618586,0.18727640924644018,0.18787932061729182,0.18727640924644018,0.18545724476618586,0.18239124981424537,0.17802983029511174,0.17230988766358785,0.16515865057394133,0.15649972810645998,0.14626024334832619,0.13437885433763305,0.12081441070397907,0.10555493165712146,0.08862652853638416,0.07010183827093616,0.05010748884225075,0.02883009042098063,0.0065202421682302655,-0.016505930263581485,-0.039868134180728126,-0.0631265026963309,-0.0857896329957062,-0.10732612754693129,-0.1271795169340972,-0.14478624788034108,-0.15959621882048483,-0.17109514979541934,-0.1788278960809016,-0.18242166855756492,-0.18160802037610754,-0.17624240938958516,-0.16632015713858264,-0.15198770280837584,-0.13354819579908725,-0.1114606806231028,-0.08633239590937543,-0.05890402451081101,-0.03002807965783915,-0.0006409754282528475,0.028270310898122826,0.05570574218106777],[0.059725017515438364,0.03197958453286062,0.0025207381574719806,-0.027588123185645037,-0.0572857273340844,-0.08555491563889543,-0.1114606806231028,-0.13418273806183595,-0.15304146672549196,-0.16751643729146143,-0.17725715646546372,-0.18208605074549258,-0.18199408570471504,-0.17712974307464055,-0.16778234479339135,-0.1543609103022869,-0.13736985507049018,-0.11738288358628372,-0.0950164022704569,-0.07090368426500879,-0.045670869380806056,-0.019915691575644292,0.0058103924762656495,0.031016232090896562,0.05528095770522729,0.07825990831739421,0.09968670899986165,0.11937185506223688,0.13719827990417027,0.15311446345017118,0.16712567793535366,0.1792839709402817,0.18967745729212915,0.19841943861188654,0.20563779959612533,0.21146505144444128,0.21602931256266372,0.21944644111666822,0.22181346801290225,0.2232034254780841,0.22366162672468853,0.2232034254780841,0.22181346801290225,0.21944644111666822,0.21602931256266372,0.21146505144444128,0.20563779959612533,0.19841943861188654,0.18967745729212915,0.1792839709402817,0.16712567793535366,0.15311446345017118,0.13719827990417027,0.11937185506223688,0.09968670899986165,0.07825990831739421,0.05528095770522729,0.031016232090896562,0.0058103924762656495,-0.019915691575644292,-0.045670869380806056,-0.07090368426500879,-0.0950164022704569,-0.11738288358628372,-0.13736985507049018,-0.1543609103022869,-0.16778234479339135,-0.17712974307464055,-0.18199408570471504,-0.18208605074549258,-0.17725715646546372,-0.16751643729146143,-0.15304146672549196,-0.13418273806183595,-0.1114606806231028,-0.08555491563889543,-0.0572857273340844,-0.027588123185645037,0.0025207381574719806,0.03197958453286062],[0.037104384846577534,0.007233082355737275,-0.023527608249201665,-0.054043516875550875,-0.08321475815193494,-0.11001880232017779,-0.13354819579908725,-0.15304146672549196,-0.167906160972842,-0.17773339606034183,-0.18230376872794093,-0.18158488243001691,-0.17572115154133375,-0.16501687105976595,-0.1499137997580331,-0.13096468174943518,-0.10880422217787396,-0.08411903827788304,-0.05761803324395176,-0.030004497243790427,-0.001951040868825416,0.025921773001301992,0.05306249567952219,0.07900122348247962,0.10335731863015635,0.1258425822940911,0.14626024334832619,0.16450028494360933,0.18053174205108255,0.1943926655354523,0.2061784643801796,0.21602931256266372,0.22411724822563847,0.23063350923189954,0.23577655069724138,0.23974108638511749,0.242708395806646,0.24483804991090946,0.24626113579560338,0.24707500803079696,0.24733956165584545,0.24707500803079696,0.24626113579560338,0.24483804991090946,0.242708395806646,0.23974108638511749,0.23577655069724138,0.23063350923189954,0.22411724822563847,0.21602931256266372,0.2061784643801796,0.1943926655354523,0.18053174205108255,0.16450028494360933,0.14626024334832619,0.1258425822940911,0.10335731863015635,0.07900122348247962,0.05306249567952219,0.025921773001301992,-0.001951040868825416,-0.030004497243790427,-0.05761803324395176,-0.08411903827788304,-0.10880422217787396,-0.13096468174943518,-0.1499137997580331,-0.16501687105976595,-0.17572115154133375,-0.18158488243001691,-0.18230376872794093,-0.17773339606034183,-0.167906160972842,-0.15304146672549196,-0.13354819579908725,-0.11001880232017779,-0.08321475815193494,-0.054043516875550875,-0.023527608249201665,0.007233082355737275],[0.013454008098850966,-0.017859822184363938,-0.04916880920228074,-0.07929019757294747,-0.10711012813756442,-0.1316269478872783,-0.15198770280837584,-0.16751643729146143,-0.17773339606034183,-0.18236471957976835,-0.18134271385500067,-0.1747972342928682,-0.16303912773542587,-0.14653700801271363,-0.1258888846262905,-0.10179031338845618,-0.0750007897964791,-0.046310064114579955,-0.016505930263581485,0.013655158230898757,0.043473546354522816,0.07232710218505171,0.09968670899986165,0.12512633286074154,0.14832776112580212,0.16908036038891633,0.18727640924644018,0.20290271423033404,0.21602931256266372,0.22679610352037188,0.23539823538075702,0.2420710146043941,0.24707500803079696,0.2506818889186662,0.2531614457800734,0.25477004091850136,0.2557406839380664,0.2562747828163765,0.25653555744366946,0.2566430509401283,0.2566706526738519,0.2566430509401283,0.25653555744366946,0.2562747828163765,0.2557406839380664,0.25477004091850136,0.2531614457800734,0.2506818889186662,0.24707500803079696,0.2420710146043941,0.23539823538075702,0.22679610352037188,0.21602931256266372,0.20290271423033404,0.18727640924644018,0.16908036038891633,0.14832776112580212,0.12512633286074154,0.09968670899986165,0.07232710218505171,0.043473546354522816,0.013655158230898757,-0.016505930263581485,-0.046310064114579955,-0.0750007897964791,-0.10179031338845618,-0.1258888846262905,-0.14653700801271363,-0.16303912773542587,-0.1747972342928682,-0.18134271385500067,-0.18236471957976835,-0.17773339606034183,-0.16751643729146143,-0.15198770280837584,-0.1316269478872783,-0.10711012813756442,-0.07929019757294747,-0.04916880920228074,-0.017859822184363938],[-0.01061150357619211,-0.042655257000177006,-0.07374973820785838,-0.10268778525178764,-0.1283676319466868,-0.14983554931501694,-0.16632015713858264,-0.17725715646546372,-0.18230376872794093,-0.18134271385500067,-0.17447608825271163,-0.16200998595397612,-0.14443111863131364,-0.12237701362727325,-0.09660159075517502,-0.06793803188546253,-0.03726086233570953,-0.005449066140771361,0.026648129724923395,0.058241427706856384,0.08862652853638416,0.11720338291232232,0.14348926836260514,0.16712567793535366,0.18787932061729182,0.20563779959612533,0.22040074178662336,0.23226729318028777,0.24142096714711753,0.24811283911536614,0.25264402764959015,0.255348298963932,0.256575492104657,0.2566762997375786,0.2559887694405144,0.2548267267047997,0.25347017586536014,0.252157618714697,0.25108014921898075,0.25037713957121355,0.25013332713993036,0.25037713957121355,0.25108014921898075,0.252157618714697,0.25347017586536014,0.2548267267047997,0.2559887694405144,0.2566762997375786,0.256575492104657,0.255348298963932,0.25264402764959015,0.24811283911536614,0.24142096714711753,0.23226729318028777,0.22040074178662336,0.20563779959612533,0.18787932061729182,0.16712567793535366,0.14348926836260514,0.11720338291232232,0.08862652853638416,0.058241427706856384,0.026648129724923395,-0.005449066140771361,-0.03726086233570953,-0.06793803188546253,-0.09660159075517502,-0.12237701362727325,-0.14443111863131364,-0.16200998595397612,-0.17447608825271163,-0.18134271385500067,-0.18230376872794093,-0.17725715646546372,-0.16632015713858264,-0.14983554931501694,-0.1283676319466868,-0.10268778525178764,-0.07374973820785838,-0.042655257000177006],[-0.0345063152690242,-0.06655906279410359,-0.09668883252747353,-0.12368964794720452,-0.1464987033293174,-0.1642373823959323,-0.17624240938958516,-0.18208605074549258,-0.18158488243001691,-0.1747972342928682,-0.16200998595397612,-0.1437158894806465,-0.12058300781296416,-0.09341816596346665,-0.0631265026963309,-0.03066927919323432,0.0029779491154211806,0.03686485131708162,0.07010183827093616,0.1018902143955224,0.13154597877649798,0.15851669454452746,0.18239124981424537,0.20290271423033404,0.21992483146863692,0.23346296309158113,0.24364050109720906,0.2506818889186662,0.254893432701845,0.2566430509401283,0.2563400102730029,0.25441554164532254,0.25130504004127213,0.24743234013685533,0.2431963471432226,0.23896010343988033,0.23504220166614895,0.2317103248693539,0.22917661128094333,0.22759450814784551,0.2270567942100705,0.22759450814784551,0.22917661128094333,0.2317103248693539,0.23504220166614895,0.23896010343988033,0.2431963471432226,0.24743234013685533,0.25130504004127213,0.25441554164532254,0.2563400102730029,0.2566430509401283,0.254893432701845,0.2506818889186662,0.24364050109720906,0.23346296309158113,0.21992483146863692,0.20290271423033404,0.18239124981424537,0.15851669454452746,0.13154597877649798,0.1018902143955224,0.07010183827093616,0.03686485131708162,0.0029779491154211806,-0.03066927919323432,-0.0631265026963309,-0.09341816596346665,-0.12058300781296416,-0.1437158894806465,-0.16200998595397612,-0.1747972342928682,-0.18158488243001691,-0.18208605074549258,-0.17624240938958516,-0.1642373823959323,-0.1464987033293174,-0.12368964794720452,-0.09668883252747353,-0.06655906279410359],[-0.05769048962428924,-0.08904297911487404,-0.11749065565570795,-0.14185512230149663,-0.16113955966514656,-0.17456713788189782,-0.18160802037610754,-0.18199408570471504,-0.17572115154133375,-0.16303912773542587,-0.14443111863131364,-0.12058300781296416,-0.09234546620178369,-0.060690608986011814,-0.026665677985416577,0.008653858363151095,0.044209509361482956,0.07900122348247962,0.11212338767979044,0.14279404657238684,0.17037647050011584,0.1943926655354523,0.2145288714461612,0.23063350923189954,0.242708395806646,0.2508943222213973,0.2554522819126627,0.2567417315441088,0.25519727019112654,0.25130504004127213,0.2455799958764798,0.23854497801642713,0.23071227369415245,0.2225680860000738,0.21456006847846779,0.2070878465419809,0.20049625055173417,0.19507084218595108,0.19103523332295086,0.18854967763954522,0.18771045677679687,0.18854967763954522,0.19103523332295086,0.19507084218595108,0.20049625055173417,0.2070878465419809,0.21456006847846779,0.2225680860000738,0.23071227369415245,0.23854497801642713,0.2455799958764798,0.25130504004127213,0.25519727019112654,0.2567417315441088,0.2554522819126627,0.2508943222213973,0.242708395806646,0.23063350923189954,0.2145288714461612,0.1943926655354523,0.17037647050011584,0.14279404657238684,0.11212338767979044,0.07900122348247962,0.044209509361482956,0.008653858363151095,-0.026665677985416577,-0.060690608986011814,-0.09234546620178369,-0.12058300781296416,-0.14443111863131364,-0.16303912773542587,-0.17572115154133375,-0.18199408570471504,-0.18160802037610754,-0.17456713788189782,-0.16113955966514656,-0.14185512230149663,-0.11749065565570795,-0.08904297911487404],[-0.07968395387291566,-0.10965701691843574,-0.13575600794040762,-0.15685668268767797,-0.17205475511311313,-0.1807007071005138,-0.18242166855756492,-0.17712974307464055,-0.16501687105976595,-0.14653700801271363,-0.12237701362727325,-0.09341816596346665,-0.060690608986011814,-0.02532329427921568,0.011507919583092052,0.04863139306208121,0.08492762656935865,0.11937185506223688,0.15106960365711752,0.1792839709402817,0.20345392533496165,0.2232034254780841,0.2383416766936446,0.24885528388828942,0.254893432701845,0.25674750760048576,0.2548267267047997,0.24963143467045815,0.24172565029557566,0.2317103248693539,0.22019854657881394,0.20779364608280457,0.19507084218595108,0.18256273925541686,0.17074867404778504,0.16004763127913005,0.15081422331281308,0.1433370736825879,0.13783886506830845,0.134477311926808,0.1333463922312941,0.134477311926808,0.13783886506830845,0.1433370736825879,0.15081422331281308,0.16004763127913005,0.17074867404778504,0.18256273925541686,0.19507084218595108,0.20779364608280457,0.22019854657881394,0.2317103248693539,0.24172565029557566,0.24963143467045815,0.2548267267047997,0.25674750760048576,0.254893432701845,0.24885528388828942,0.2383416766936446,0.2232034254780841,0.20345392533496165,0.1792839709402817,0.15106960365711752,0.11937185506223688,0.08492762656935865,0.04863139306208121,0.011507919583092052,-0.02532329427921568,-0.060690608986011814,-0.09341816596346665,-0.12237701362727325,-0.14653700801271363,-0.16501687105976595,-0.17712974307464055,-0.18242166855756492,-0.1807007071005138,-0.17205475511311313,-0.15685668268767797,-0.13575600794040762,-0.10965701691843574],[-0.10007704610444179,-0.12803786284735597,-0.1511875643863488,-0.16848219583369567,-0.17913546063850083,-0.18264893898060253,-0.1788278960809016,-0.16778234479339135,-0.1499137997580331,-0.1258888846262905,-0.09660159075517502,-0.0631265026963309,-0.026665677985416577,0.011507919583092052,0.05010748884225075,0.0878871354792479,0.12369173187889267,0.15649972810645998,0.18545724476618586,0.20990234059772522,0.22937894091767205,0.24364050109720906,0.25264402764959015,0.25653555744366946,0.25562857790064414,0.25037713957121355,0.2413455569066888,0.22917661128094333,0.21456006847846779,0.1982031145119569,0.18080401871815463,0.1630299764243758,0.14549969299473817,0.12877087581897034,0.11333242903336226,0.09960082298540655,0.08791985781076668,0.07856287339249271,0.07173638515428266,0.06758414818694233,0.0661907655654817,0.06758414818694233,0.07173638515428266,0.07856287339249271,0.08791985781076668,0.09960082298540655,0.11333242903336226,0.12877087581897034,0.14549969299473817,0.1630299764243758,0.18080401871815463,0.1982031145119569,0.21456006847846779,0.22917661128094333,0.2413455569066888,0.25037713957121355,0.25562857790064414,0.25653555744366946,0.25264402764959015,0.24364050109720906,0.22937894091767205,0.20990234059772522,0.18545724476618586,0.15649972810645998,0.12369173187889267,0.0878871354792479,0.05010748884225075,0.011507919583092052,-0.026665677985416577,-0.0631265026963309,-0.09660159075517502,-0.1258888846262905,-0.1499137997580331,-0.16778234479339135,-0.1788278960809016,-0.18264893898060253,-0.17913546063850083,-0.16848219583369567,-0.1511875643863488,-0.12803786284735597],[-0.11853755153953284,-0.14391335124448024,-0.163591222139663,-0.17663261032673944,-0.18239300622958532,-0.18054660691367944,-0.17109514979541934,-0.1543609103022869,-0.13096468174943518,-0.10179031338845618,-0.06793803188546253,-0.03066927919323432,0.008653858363151095,0.04863139306208121,0.0878871354792479,0.12512633286074154,0.15918658398472915,0.1890798565922851,0.21402402107025095,0.23346296309158113,0.24707500803079696,0.25477004091850136,0.2566762997375786,0.25311832399967577,0.24458792842044305,0.2317103248693539,0.2152076253393881,0.19586192453391038,0.17447999195279823,0.15186131748507978,0.12877087581897034,0.10591753298818528,0.08393854575868848,0.06339013493636744,0.044743679368913644,0.02838670735216783,0.014627580006334946,0.0037025838949493145,-0.004215913110515241,-0.009011537058698997,-0.010617349295218181,-0.009011537058698997,-0.004215913110515241,0.0037025838949493145,0.014627580006334946,0.02838670735216783,0.044743679368913644,0.06339013493636744,0.08393854575868848,0.10591753298818528,0.12877087581897034,0.15186131748507978,0.17447999195279823,0.19586192453391038,0.2152076253393881,0.2317103248693539,0.24458792842044305,0.25311832399967577,0.2566762997375786,0.25477004091850136,0.24707500803079696,0.23346296309158113,0.21402402107025095,0.1890798565922851,0.15918658398472915,0.12512633286074154,0.0878871354792479,0.04863139306208121,0.008653858363151095,-0.03066927919323432,-0.06793803188546253,-0.10179031338845618,-0.13096468174943518,-0.1543609103022869,-0.17109514979541934,-0.18054660691367944,-0.18239300622958532,-0.17663261032673944,-0.163591222139663,-0.14391335124448024],[-0.13481430178982187,-0.15710321083861073,-0.17287351607260817,-0.18131560690315682,-0.18194839266053625,-0.17463748569481502,-0.15959621882048483,-0.13736985507049018,-0.10880422217787396,-0.0750007897964791,-0.03726086233570953,0.0029779491154211806,0.044209509361482956,0.08492762656935865,0.12369173187889267,0.15918658398472915,0.1902732638436695,0.21602931256266372,0.23577655069724138,0.24909585663212155,0.25582893038458626,0.2560677827399544,0.25013332713993036,0.23854497801642713,0.22198354690007724,0.20124995852555586,0.17722237538812438,0.15081422331281308,0.12293536517635703,0.09445829662141196,0.0661907655654817,0.03885568116655977,0.013078615468659323,-0.010617349295218181,-0.03181017613329085,-0.050171999808914604,-0.06545830501430487,-0.07749482277960204,-0.08616386191642225,-0.09139170665445415,-0.09313849939964196,-0.09139170665445415,-0.08616386191642225,-0.07749482277960204,-0.06545830501430487,-0.050171999808914604,-0.03181017613329085,-0.010617349295218181,0.013078615468659323,0.03885568116655977,0.0661907655654817,0.09445829662141196,0.12293536517635703,0.15081422331281308,0.17722237538812438,0.20124995852555586,0.22198354690007724,0.23854497801642713,0.25013332713993036,0.2560677827399544,0.25582893038458626,0.24909585663212155,0.23577655069724138,0.21602931256266372,0.1902732638436695,0.15918658398472915,0.12369173187889267,0.08492762656935865,0.044209509361482956,0.0029779491154211806,-0.03726086233570953,-0.0750007897964791,-0.10880422217787396,-0.13736985507049018,-0.15959621882048483,-0.17463748569481502,-0.18194839266053625,-0.18131560690315682,-0.17287351607260817,-0.15710321083861073],[-0.1487375524385824,-0.16751643729146143,-0.17903560277058095,-0.1826358700412797,-0.17801860199902664,-0.16525654180237792,-0.14478624788034108,-0.11738288358628372,-0.08411903827788304,-0.046310064114579955,-0.005449066140771361,0.03686485131708162,0.07900122348247962,0.11937185506223688,0.15649972810645998,0.1890798565922851,0.21602931256266372,0.2365243422174828,0.25002327766855664,0.2562747828163765,0.2553118000893658,0.24743234013685533,0.23316893482082693,0.21324911772700825,0.18854967763954522,0.16004763127913005,0.12877087581897034,0.0957513146109,0.06198291759831892,0.02838670735216783,-0.004215913110515241,-0.03512071345143313,-0.06374895250625122,-0.08964697741323371,-0.11247819731414006,-0.132008995765264,-0.14809048863531396,-0.16063822727306362,-0.1696119802323752,-0.17499760171649797,-0.17679272260843765,-0.17499760171649797,-0.1696119802323752,-0.16063822727306362,-0.14809048863531396,-0.132008995765264,-0.11247819731414006,-0.08964697741323371,-0.06374895250625122,-0.03512071345143313,-0.004215913110515241,0.02838670735216783,0.06198291759831892,0.0957513146109,0.12877087581897034,0.16004763127913005,0.18854967763954522,0.21324911772700825,0.23316893482082693,0.24743234013685533,0.2553118000893658,0.2562747828163765,0.25002327766855664,0.2365243422174828,0.21602931256266372,0.1890798565922851,0.15649972810645998,0.11937185506223688,0.07900122348247962,0.03686485131708162,-0.005449066140771361,-0.046310064114579955,-0.08411903827788304,-0.11738288358628372,-0.14478624788034108,-0.16525654180237792,-0.17801860199902664,-0.1826358700412797,-0.17903560277058095,-0.16751643729146143],[-0.16021647158282734,-0.1751457556394694,-0.1821644169794075,-0.18078273088932142,-0.17090060569317098,-0.1528102839666787,-0.1271795169340972,-0.0950164022704569,-0.05761803324395176,-0.016505930263581485,0.026648129724923395,0.07010183827093616,0.11212338767979044,0.15106960365711752,0.18545724476618586,0.21402402107025095,0.23577655069724138,0.25002327766855664,0.25639126767027576,0.2548267267047997,0.2455799958764798,0.22917661128094333,0.2063767337439853,0.17812580971586786,0.14549969299473817,0.1096476200446325,0.07173638515428266,0.032898814044057145,-0.005810793613848673,-0.043452159632214875,-0.0792240541655952,-0.11247819731414006,-0.1427221428215067,-0.1696119802323752,-0.1929363397545002,-0.2125937105436689,-0.22856545626592412,-0.24088710992360066,-0.24962054293732017,-0.254829433326894,-0.2565601183892334,-0.254829433326894,-0.24962054293732017,-0.24088710992360066,-0.22856545626592412,-0.2125937105436689,-0.1929363397545002,-0.1696119802323752,-0.1427221428215067,-0.11247819731414006,-0.0792240541655952,-0.043452159632214875,-0.005810793613848673,0.032898814044057145,0.07173638515428266,0.1096476200446325,0.14549969299473817,0.17812580971586786,0.2063767337439853,0.22917661128094333,0.2455799958764798,0.2548267267047997,0.25639126767027576,0.25002327766855664,0.23577655069724138,0.21402402107025095,0.18545724476618586,0.15106960365711752,0.11212338767979044,0.07010183827093616,0.026648129724923395,-0.016505930263581485,-0.05761803324395176,-0.0950164022704569,-0.1271795169340972,-0.1528102839666787,-0.17090060569317098,-0.18078273088932142,-0.1821644169794075,-0.1751457556394694],[-0.16923416092386775,-0.1800597155006458,-0.18242166855756492,-0.1760159755489718,-0.1609539875623888,-0.1377563081818195,-0.10732612754693129,-0.07090368426500879,-0.030004497243790427,0.013655158230898757,0.058241427706856384,0.1018902143955224,0.14279404657238684,0.1792839709402817,0.20990234059772522,0.23346296309158113,0.24909585663212155,0.2562747828163765,0.2548267267047997,0.24492352037505036,0.2270567942100705,0.20199833430642128,0.17074867404778504,0.134477311926808,0.09445829662141196,0.05200503792795912,0.00840808631479302,-0.03512071345143313,-0.07749482277960204,-0.1177881852505473,-0.15525760655490364,-0.18935183535374994,-0.21970771693043264,-0.24613461781837798,-0.268589046149572,-0.28714197491104243,-0.30194177876754097,-0.31317589634427284,-0.3210343185560354,-0.32567778292945404,-0.32721314035298743,-0.32567778292945404,-0.3210343185560354,-0.31317589634427284,-0.30194177876754097,-0.28714197491104243,-0.268589046149572,-0.24613461781837798,-0.21970771693043264,-0.18935183535374994,-0.15525760655490364,-0.1177881852505473,-0.07749482277960204,-0.03512071345143313,0.00840808631479302,0.05200503792795912,0.09445829662141196,0.134477311926808,0.17074867404778504,0.20199833430642128,0.2270567942100705,0.24492352037505036,0.2548267267047997,0.2562747828163765,0.24909585663212155,0.23346296309158113,0.20990234059772522,0.1792839709402817,0.14279404657238684,0.1018902143955224,0.058241427706856384,0.013655158230898757,-0.030004497243790427,-0.07090368426500879,-0.10732612754693129,-0.1377563081818195,-0.1609539875623888,-0.1760159755489718,-0.18242166855756492,-0.1800597155006458],[-0.17584069010379264,-0.18239300622958532,-0.1800313728705813,-0.16865061331126227,-0.14858307017251748,-0.12058300781296416,-0.0857896329957062,-0.045670869380806056,-0.001951040868825416,0.043473546354522816,0.08862652853638416,0.13154597877649798,0.17037647050011584,0.20345392533496165,0.22937894091767205,0.24707500803079696,0.25582893038458626,0.2553118000893658,0.2455799958764798,0.2270567942100705,0.20049625055173417,0.16693195814109418,0.12761407121954643,0.08393854575868848,0.037372873633869375,-0.010617349295218181,-0.05863687417657578,-0.10542055787501849,-0.14988136590815446,-0.19114437378651342,-0.22856545626592412,-0.2617343483375656,-0.29046275344788247,-0.31475910259630246,-0.33479237619194996,-0.35084804028714445,-0.3632795822101567,-0.37245933283868765,-0.3787322233669178,-0.382375848005458,-0.3835697098652554,-0.382375848005458,-0.3787322233669178,-0.37245933283868765,-0.3632795822101567,-0.35084804028714445,-0.33479237619194996,-0.31475910259630246,-0.29046275344788247,-0.2617343483375656,-0.22856545626592412,-0.19114437378651342,-0.14988136590815446,-0.10542055787501849,-0.05863687417657578,-0.010617349295218181,0.037372873633869375,0.08393854575868848,0.12761407121954643,0.16693195814109418,0.20049625055173417,0.2270567942100705,0.2455799958764798,0.2553118000893658,0.25582893038458626,0.24707500803079696,0.22937894091767205,0.20345392533496165,0.17037647050011584,0.13154597877649798,0.08862652853638416,0.043473546354522816,-0.001951040868825416,-0.045670869380806056,-0.0857896329957062,-0.12058300781296416,-0.14858307017251748,-0.16865061331126227,-0.1800313728705813,-0.18239300622958532],[-0.1801446545297837,-0.18233559039097344,-0.1752665961050691,-0.15904136091487175,-0.13421936300715656,-0.10179031338845618,-0.0631265026963309,-0.019915691575644292,0.025921773001301992,0.07232710218505171,0.11720338291232232,0.15851669454452746,0.1943926655354523,0.2232034254780841,0.24364050109720906,0.25477004091850136,0.2560677827399544,0.24743234013685533,0.22917661128094333,0.20199833430642128,0.16693195814109418,0.12528500092613942,0.07856287339249271,0.02838670735216783,-0.02359098016854476,-0.0757679524450742,-0.12666669235949252,-0.17499760171649797,-0.21970771693043264,-0.26001264723920775,-0.29541051237375787,-0.32567778292945404,-0.35084804028714445,-0.37117570680030565,-0.38708768931988075,-0.3991265770886398,-0.407889497747319,-0.41396693622794944,-0.417885750201407,-0.4200602785751461,-0.4207548585159486,-0.4200602785751461,-0.417885750201407,-0.41396693622794944,-0.407889497747319,-0.3991265770886398,-0.38708768931988075,-0.37117570680030565,-0.35084804028714445,-0.32567778292945404,-0.29541051237375787,-0.26001264723920775,-0.21970771693043264,-0.17499760171649797,-0.12666669235949252,-0.0757679524450742,-0.02359098016854476,0.02838670735216783,0.07856287339249271,0.12528500092613942,0.16693195814109418,0.20199833430642128,0.22917661128094333,0.24743234013685533,0.2560677827399544,0.25477004091850136,0.24364050109720906,0.2232034254780841,0.1943926655354523,0.15851669454452746,0.11720338291232232,0.07232710218505171,0.025921773001301992,-0.019915691575644292,-0.0631265026963309,-0.10179031338845618,-0.13421936300715656,-0.15904136091487175,-0.1752665961050691,-0.18233559039097344],[-0.18230376872794093,-0.18012123502583363,-0.16843605361995675,-0.14756752732225356,-0.11830504740258321,-0.08187218787401292,-0.039868134180728126,0.0058103924762656495,0.05306249567952219,0.09968670899986165,0.14348926836260514,0.18239124981424537,0.2145288714461612,0.2383416766936446,0.25264402764959015,0.2566762997375786,0.25013332713993036,0.23316893482082693,0.2063767337439853,0.17074867404778504,0.12761407121954643,0.07856287339249271,0.02535776443828009,-0.030159748399708135,-0.08616386191642225,-0.1409342819269669,-0.1929363397545002,-0.24088710992360066,-0.2838041182964338,-0.3210343185560354,-0.35226222727992795,-0.37749737145928347,-0.3970424421347404,-0.41144469052055266,-0.42143408131469146,-0.42785247459104203,-0.43157859884674826,-0.4334537754581445,-0.434213248547002,-0.43442757176285574,-0.43445783007337646,-0.43442757176285574,-0.434213248547002,-0.4334537754581445,-0.43157859884674826,-0.42785247459104203,-0.42143408131469146,-0.41144469052055266,-0.3970424421347404,-0.37749737145928347,-0.35226222727992795,-0.3210343185560354,-0.2838041182964338,-0.24088710992360066,-0.1929363397545002,-0.1409342819269669,-0.08616386191642225,-0.030159748399708135,0.02535776443828009,0.07856287339249271,0.12761407121954643,0.17074867404778504,0.2063767337439853,0.23316893482082693,0.25013332713993036,0.2566762997375786,0.25264402764959015,0.2383416766936446,0.2145288714461612,0.18239124981424537,0.14348926836260514,0.09968670899986165,0.05306249567952219,0.0058103924762656495,-0.039868134180728126,-0.08187218787401292,-0.11830504740258321,-0.14756752732225356,-0.16843605361995675,-0.18012123502583363],[-0.18251498442862385,-0.1760159755489718,-0.15987112992755653,-0.13461888616197776,-0.10127808535368477,-0.061301442485772274,-0.016505930263581485,0.031016232090896562,0.07900122348247962,0.12512633286074154,0.16712567793535366,0.20290271423033404,0.23063350923189954,0.24885528388828942,0.25653555744366946,0.25311832399967577,0.23854497801642713,0.21324911772700825,0.17812580971586786,0.134477311926808,0.08393854575868848,0.02838670735216783,-0.030159748399708135,-0.08964697741323371,-0.14809048863531396,-0.2036729142303004,-0.254829433326894,-0.3003162506586467,-0.3392585664190622,-0.37117570680030565,-0.39598244357893553,-0.41396693622794944,-0.42574709936268906,-0.43220845214435083,-0.43442757176285574,-0.4335860886421158,-0.4308806796227811,-0.4274347075936389,-0.42421701152445723,-0.42197287899622543,-0.421171462695804,-0.42197287899622543,-0.42421701152445723,-0.4274347075936389,-0.4308806796227811,-0.4335860886421158,-0.43442757176285574,-0.43220845214435083,-0.42574709936268906,-0.41396693622794944,-0.39598244357893553,-0.37117570680030565,-0.3392585664190622,-0.3003162506586467,-0.254829433326894,-0.2036729142303004,-0.14809048863531396,-0.08964697741323371,-0.030159748399708135,0.02838670735216783,0.08393854575868848,0.134477311926808,0.17812580971586786,0.21324911772700825,0.23854497801642713,0.25311832399967577,0.25653555744366946,0.24885528388828942,0.23063350923189954,0.20290271423033404,0.16712567793535366,0.12512633286074154,0.07900122348247962,0.031016232090896562,-0.016505930263581485,-0.061301442485772274,-0.10127808535368477,-0.13461888616197776,-0.15987112992755653,-0.1760159755489718],[-0.18100457917857166,-0.17030698199702413,-0.1499137997580331,-0.12058300781296416,-0.08355939645450051,-0.040517266401149735,0.0065202421682302655,0.05528095770522729,0.10335731863015635,0.14832776112580212,0.18787932061729182,0.21992483146863692,0.242708395806646,0.254893432701845,0.25562857790064414,0.24458792842044305,0.22198354690007724,0.18854967763954522,0.14549969299473817,0.09445829662141196,0.037372873633869375,-0.02359098016854476,-0.08616386191642225,-0.14809048863531396,-0.20724458052139974,-0.2617343483375656,-0.309992807249447,-0.35084804028714445,-0.3835697098652554,-0.407889497747319,-0.42399466300627076,-0.43249545715781157,-0.43436863670247905,-0.4308806796227811,-0.42349546556438716,-0.4137720534188708,-0.40325873487122593,-0.39338972722403176,-0.3853906832849483,-0.3801986514917913,-0.3784012476539641,-0.3801986514917913,-0.3853906832849483,-0.39338972722403176,-0.40325873487122593,-0.4137720534188708,-0.42349546556438716,-0.4308806796227811,-0.43436863670247905,-0.43249545715781157,-0.42399466300627076,-0.407889497747319,-0.3835697098652554,-0.35084804028714445,-0.309992807249447,-0.2617343483375656,-0.20724458052139974,-0.14809048863531396,-0.08616386191642225,-0.02359098016854476,0.037372873633869375,0.09445829662141196,0.14549969299473817,0.18854967763954522,0.22198354690007724,0.24458792842044305,0.25562857790064414,0.254893432701845,0.242708395806646,0.21992483146863692,0.18787932061729182,0.14832776112580212,0.10335731863015635,0.05528095770522729,0.0065202421682302655,-0.040517266401149735,-0.08355939645450051,-0.12058300781296416,-0.1499137997580331,-0.17030698199702413],[-0.17801860199902664,-0.16329221750830802,-0.13890582780165694,-0.10583439818051152,-0.06554239869174844,-0.019915691575644292,0.02883009042098063,0.07825990831739421,0.1258425822940911,0.16908036038891633,0.20563779959612533,0.23346296309158113,0.2508943222213973,0.25674750760048576,0.25037713957121355,0.2317103248693539,0.20124995852555586,0.16004763127913005,0.1096476200446325,0.05200503792795912,-0.010617349295218181,-0.0757679524450742,-0.1409342819269669,-0.2036729142303004,-0.2617343483375656,-0.31317589634427284,-0.3564564355250057,-0.3905078789395116,-0.4147795406040892,-0.42925310491460716,-0.43442757176285574,-0.4312752446188071,-0.421171462695804,-0.40580225753498556,-0.38705535500366767,-0.36690087535799776,-0.3472686537517362,-0.32992927901128904,-0.3163857196862348,-0.3077817863653888,-0.30483270332925,-0.3077817863653888,-0.3163857196862348,-0.32992927901128904,-0.3472686537517362,-0.36690087535799776,-0.38705535500366767,-0.40580225753498556,-0.421171462695804,-0.4312752446188071,-0.43442757176285574,-0.42925310491460716,-0.4147795406040892,-0.3905078789395116,-0.3564564355250057,-0.31317589634427284,-0.2617343483375656,-0.2036729142303004,-0.1409342819269669,-0.0757679524450742,-0.010617349295218181,0.05200503792795912,0.1096476200446325,0.16004763127913005,0.20124995852555586,0.2317103248693539,0.25037713957121355,0.25674750760048576,0.2508943222213973,0.23346296309158113,0.20563779959612533,0.16908036038891633,0.1258425822940911,0.07825990831739421,0.02883009042098063,-0.019915691575644292,-0.06554239869174844,-0.10583439818051152,-0.13890582780165694,-0.16329221750830802],[-0.1738139924448547,-0.15527119023634722,-0.1271795169340972,-0.0907256642328181,-0.04758506314163741,0.0001569493213448689,0.05010748884225075,0.09968670899986165,0.14626024334832619,0.18727640924644018,0.22040074178662336,0.24364050109720906,0.2554522819126627,0.2548267267047997,0.2413455569066888,0.2152076253393881,0.17722237538812438,0.12877087581897034,0.07173638515428266,0.00840808631479302,-0.05863687417657578,-0.12666669235949252,-0.1929363397545002,-0.254829433326894,-0.309992807249447,-0.3564564355250057,-0.39273214882544505,-0.417885750201407,-0.43157859884674826,-0.434076417833265,-0.42622489689420734,-0.4093935036702951,-0.3853906832849483,-0.35635521764627226,-0.324629843053556,-0.2926242127644853,-0.2626748843273063,-0.23691017597600564,-0.21712746254366178,-0.20468978410715197,-0.20044755867978276,-0.20468978410715197,-0.21712746254366178,-0.23691017597600564,-0.2626748843273063,-0.2926242127644853,-0.324629843053556,-0.35635521764627226,-0.3853906832849483,-0.4093935036702951,-0.42622489689420734,-0.434076417833265,-0.43157859884674826,-0.417885750201407,-0.39273214882544505,-0.3564564355250057,-0.309992807249447,-0.254829433326894,-0.1929363397545002,-0.12666669235949252,-0.05863687417657578,0.00840808631479302,0.07173638515428266,0.12877087581897034,0.17722237538812438,0.2152076253393881,0.2413455569066888,0.2548267267047997,0.2554522819126627,0.24364050109720906,0.22040074178662336,0.18727640924644018,0.14626024334832619,0.09968670899986165,0.05010748884225075,0.0001569493213448689,-0.04758506314163741,-0.0907256642328181,-0.1271795169340972,-0.15527119023634722],[-0.16865061331126227,-0.14653700801271363,-0.11505016730310495,-0.07558080422426758,-0.030004497243790427,0.019407660252202565,0.07010183827093616,0.11937185506223688,0.16450028494360933,0.20290271423033404,0.23226729318028777,0.2506818889186662,0.2567417315441088,0.24963143467045815,0.22917661128094333,0.19586192453391038,0.15081422331281308,0.0957513146109,0.032898814044057145,-0.03512071345143313,-0.10542055787501849,-0.17499760171649797,-0.24088710992360066,-0.3003162506586467,-0.35084804028714445,-0.3905078789395116,-0.417885750201407,-0.43220845214435083,-0.4333778373354074,-0.42197287899622543,-0.39921534828629784,-0.36690087535799776,-0.32729906443176787,-0.28302803533990717,-0.23691017597600564,-0.19181693290541052,-0.15051108239111077,-0.11549507625799743,-0.08887373699192957,-0.0722388011028484,-0.06658162124929747,-0.0722388011028484,-0.08887373699192957,-0.11549507625799743,-0.15051108239111077,-0.19181693290541052,-0.23691017597600564,-0.28302803533990717,-0.32729906443176787,-0.36690087535799776,-0.39921534828629784,-0.42197287899622543,-0.4333778373354074,-0.43220845214435083,-0.417885750201407,-0.3905078789395116,-0.35084804028714445,-0.3003162506586467,-0.24088710992360066,-0.17499760171649797,-0.10542055787501849,-0.03512071345143313,0.032898814044057145,0.0957513146109,0.15081422331281308,0.19586192453391038,0.22917661128094333,0.24963143467045815,0.2567417315441088,0.2506818889186662,0.23226729318028777,0.20290271423033404,0.16450028494360933,0.11937185506223688,0.07010183827093616,0.019407660252202565,-0.030004497243790427,-0.07558080422426758,-0.11505016730310495,-0.14653700801271363],[-0.16278435980926842,-0.13736985507049018,-0.10281030706494565,-0.060690608986011814,-0.013073952151520388,0.03759772656874239,0.08862652853638416,0.13719827990417027,0.18053174205108255,0.21602931256266372,0.24142096714711753,0.254893432701845,0.25519727019112654,0.24172565029557566,0.21456006847846779,0.17447999195279823,0.12293536517635703,0.06198291759831892,-0.005810793613848673,-0.07749482277960204,-0.14988136590815446,-0.21970771693043264,-0.2838041182964338,-0.3392585664190622,-0.3835697098652554,-0.4147795406040892,-0.43157859884674826,-0.4333778373354074,-0.4203430458705095,-0.39338972722403176,-0.3541384336243295,-0.30483270332925,-0.24822376277499153,-0.187427969950852,-0.1257644689695074,-0.06658162124929747,-0.0130814139378774,0.03184881503912622,0.0657883626364726,0.08691073780520595,0.0940800053732448,0.08691073780520595,0.0657883626364726,0.03184881503912622,-0.0130814139378774,-0.06658162124929747,-0.1257644689695074,-0.187427969950852,-0.24822376277499153,-0.30483270332925,-0.3541384336243295,-0.39338972722403176,-0.4203430458705095,-0.4333778373354074,-0.43157859884674826,-0.4147795406040892,-0.3835697098652554,-0.3392585664190622,-0.2838041182964338,-0.21970771693043264,-0.14988136590815446,-0.07749482277960204,-0.005810793613848673,0.06198291759831892,0.12293536517635703,0.17447999195279823,0.21456006847846779,0.24172565029557566,0.25519727019112654,0.254893432701845,0.24142096714711753,0.21602931256266372,0.18053174205108255,0.13719827990417027,0.08862652853638416,0.03759772656874239,-0.013073952151520388,-0.060690608986011814,-0.10281030706494565,-0.13736985507049018],[-0.15646143337355978,-0.12803192632998142,-0.0907256642328181,-0.046310064114579955,0.0029779491154211806,0.054541276561040686,0.10555493165712146,0.15311446345017118,0.1943926655354523,0.22679610352037188,0.24811283911536614,0.2566430509401283,0.25130504004127213,0.2317103248693539,0.1982031145119569,0.15186131748507978,0.09445829662141196,0.02838670735216783,-0.043452159632214875,-0.1177881852505473,-0.19114437378651342,-0.26001264723920775,-0.3210343185560354,-0.37117570680030565,-0.407889497747319,-0.42925310491460716,-0.434076417833265,-0.42197287899622543,-0.39338972722403176,-0.3495953826561967,-0.2926242127644853,-0.22518118755916025,-0.15051108239111077,-0.0722388011028484,0.005811034304373925,0.07980593576993696,0.14609889758077332,0.20141317105264114,0.24300880867803662,0.2688222513075441,0.277571630583514,0.2688222513075441,0.24300880867803662,0.20141317105264114,0.14609889758077332,0.07980593576993696,0.005811034304373925,-0.0722388011028484,-0.15051108239111077,-0.22518118755916025,-0.2926242127644853,-0.3495953826561967,-0.39338972722403176,-0.42197287899622543,-0.434076417833265,-0.42925310491460716,-0.407889497747319,-0.37117570680030565,-0.3210343185560354,-0.26001264723920775,-0.19114437378651342,-0.1177881852505473,-0.043452159632214875,0.02838670735216783,0.09445829662141196,0.15186131748507978,0.1982031145119569,0.2317103248693539,0.25130504004127213,0.2566430509401283,0.24811283911536614,0.22679610352037188,0.1943926655354523,0.15311446345017118,0.10555493165712146,0.054541276561040686,0.0029779491154211806,-0.046310064114579955,-0.0907256642328181,-0.12803192632998142],[-0.1499137997580331,-0.11876378051842666,-0.07903277128303789,-0.032657564269347995,0.017966041941118966,0.07010183827093616,0.12081441070397907,0.16712567793535366,0.2061784643801796,0.23539823538075702,0.25264402764959015,0.2563400102730029,0.2455799958764798,0.22019854657881394,0.18080401871815463,0.12877087581897034,0.0661907655654817,-0.004215913110515241,-0.0792240541655952,-0.15525760655490364,-0.22856545626592412,-0.29541051237375787,-0.35226222727992795,-0.39598244357893553,-0.42399466300627076,-0.43442757176285574,-0.42622489689420734,-0.39921534828629784,-0.3541384336243295,-0.2926242127644853,-0.21712746254366178,-0.13081912452072303,-0.03744017720227128,0.05887491198907235,0.1537963512162099,0.24300880867803662,0.32242214992953067,0.38837235101706136,0.43780226922078175,0.4684129583840573,0.47877771528316515,0.4684129583840573,0.43780226922078175,0.38837235101706136,0.32242214992953067,0.24300880867803662,0.1537963512162099,0.05887491198907235,-0.03744017720227128,-0.13081912452072303,-0.21712746254366178,-0.2926242127644853,-0.3541384336243295,-0.39921534828629784,-0.42622489689420734,-0.43442757176285574,-0.42399466300627076,-0.39598244357893553,-0.35226222727992795,-0.29541051237375787,-0.22856545626592412,-0.15525760655490364,-0.0792240541655952,-0.004215913110515241,0.0661907655654817,0.12877087581897034,0.18080401871815463,0.22019854657881394,0.2455799958764798,0.2563400102730029,0.25264402764959015,0.23539823538075702,0.2061784643801796,0.16712567793535366,0.12081441070397907,0.07010183827093616,0.017966041941118966,-0.032657564269347995,-0.07903277128303789,-0.11876378051842666],[-0.14335579129849668,-0.10978201113265723,-0.06793803188546253,-0.019915691575644292,0.031745840459068614,0.08418731130237875,0.13437885433763305,0.1792839709402817,0.21602931256266372,0.2420710146043941,0.255348298963932,0.25441554164532254,0.23854497801642713,0.20779364608280457,0.1630299764243758,0.10591753298818528,0.03885568116655977,-0.03512071345143313,-0.11247819731414006,-0.18935183535374994,-0.2617343483375656,-0.32567778292945404,-0.37749737145928347,-0.41396693622794944,-0.43249545715781157,-0.4312752446188071,-0.4093935036702951,-0.36690087535799776,-0.30483270332925,-0.22518118755916025,-0.13081912452072303,-0.025378460035175753,0.08691073780520595,0.20141317105264114,0.3133036361206578,0.4177941096414197,0.5103612401471838,0.5869627944413911,0.6442321103834694,0.6796406846183429,0.69162061945593,0.6796406846183429,0.6442321103834694,0.5869627944413911,0.5103612401471838,0.4177941096414197,0.3133036361206578,0.20141317105264114,0.08691073780520595,-0.025378460035175753,-0.13081912452072303,-0.22518118755916025,-0.30483270332925,-0.36690087535799776,-0.4093935036702951,-0.4312752446188071,-0.43249545715781157,-0.41396693622794944,-0.37749737145928347,-0.32567778292945404,-0.2617343483375656,-0.18935183535374994,-0.11247819731414006,-0.03512071345143313,0.03885568116655977,0.10591753298818528,0.1630299764243758,0.20779364608280457,0.23854497801642713,0.25441554164532254,0.255348298963932,0.2420710146043941,0.21602931256266372,0.1792839709402817,0.13437885433763305,0.08418731130237875,0.031745840459068614,-0.019915691575644292,-0.06793803188546253,-0.10978201113265723],[-0.13698176393514344,-0.10127808535368477,-0.05761803324395176,-0.00823327044894154,0.044209509361482956,0.09674378883254962,0.14626024334832619,0.18967745729212915,0.22411724822563847,0.24707500803079696,0.256575492104657,0.25130504004127213,0.23071227369415245,0.19507084218595108,0.14549969299473817,0.08393854575868848,0.013078615468659323,-0.06374895250625122,-0.1427221428215067,-0.21970771693043264,-0.29046275344788247,-0.35084804028714445,-0.3970424421347404,-0.42574709936268906,-0.43436863670247905,-0.421171462695804,-0.3853906832849483,-0.32729906443176787,-0.24822376277499153,-0.15051108239111077,-0.03744017720227128,0.08691073780520595,0.21783961811686398,0.35022902170777614,0.47877771528316515,0.5982441516081277,0.7036898157513979,0.7907103570985019,0.8556429685382863,0.8957396184216221,0.9092974268256817,0.8957396184216221,0.8556429685382863,0.7907103570985019,0.7036898157513979,0.5982441516081277,0.47877771528316515,0.35022902170777614,0.21783961811686398,0.08691073780520595,-0.03744017720227128,-0.15051108239111077,-0.24822376277499153,-0.32729906443176787,-0.3853906832849483,-0.421171462695804,-0.43436863670247905,-0.42574709936268906,-0.3970424421347404,-0.35084804028714445,-0.29046275344788247,-0.21970771693043264,-0.1427221428215067,-0.06374895250625122,0.013078615468659323,0.08393854575868848,0.14549969299473817,0.19507084218595108,0.23071227369415245,0.25130504004127213,0.256575492104657,0.24707500803079696,0.22411724822563847,0.18967745729212915,0.14626024334832619,0.09674378883254962,0.044209509361482956,-0.00823327044894154,-0.05761803324395176,-0.10127808535368477],[-0.13096468174943518,-0.09341816596346665,-0.04822085787410071,0.0022716100207446164,0.05528095770522729,0.10774865812501504,0.15649972810645998,0.19841943861188654,0.23063350923189954,0.2506818889186662,0.2566762997375786,0.24743234013685533,0.2225680860000738,0.18256273925541686,0.12877087581897034,0.06339013493636744,-0.010617349295218181,-0.08964697741323371,-0.1696119802323752,-0.24613461781837798,-0.31475910259630246,-0.37117570680030565,-0.41144469052055266,-0.43220845214435083,-0.4308806796227811,-0.40580225753498556,-0.35635521764627226,-0.28302803533990717,-0.187427969950852,-0.0722388011028484,0.05887491198907235,0.20141317105264114,0.35022902170777614,0.49975144871271493,0.6442321103834694,0.7780040258931075,0.8957396184216221,0.992695449836068,1.0649315658049785,1.1094945766040856,1.124555367855928,1.1094945766040856,1.0649315658049785,0.992695449836068,0.8957396184216221,0.7780040258931075,0.6442321103834694,0.49975144871271493,0.35022902170777614,0.20141317105264114,0.05887491198907235,-0.0722388011028484,-0.187427969950852,-0.28302803533990717,-0.35635521764627226,-0.40580225753498556,-0.4308806796227811,-0.43220845214435083,-0.41144469052055266,-0.37117570680030565,-0.31475910259630246,-0.24613461781837798,-0.1696119802323752,-0.08964697741323371,-0.010617349295218181,0.06339013493636744,0.12877087581897034,0.18256273925541686,0.2225680860000738,0.24743234013685533,0.2566762997375786,0.2506818889186662,0.23063350923189954,0.19841943861188654,0.15649972810645998,0.10774865812501504,0.05528095770522729,0.0022716100207446164,-0.04822085787410071,-0.09341816596346665],[-0.1254554756233313,-0.08634370978474622,-0.039868134180728126,0.011507919583092052,0.0649104168254659,0.11720338291232232,0.16515865057394133,0.20563779959612533,0.23577655069724138,0.2531614457800734,0.2559887694405144,0.2431963471432226,0.21456006847846779,0.17074867404778504,0.11333242903336226,0.044743679368913644,-0.03181017613329085,-0.11247819731414006,-0.1929363397545002,-0.268589046149572,-0.33479237619194996,-0.38708768931988075,-0.42143408131469146,-0.43442757176285574,-0.42349546556438716,-0.38705535500366767,-0.324629843053556,-0.23691017597600564,-0.1257644689695074,0.005811034304373925,0.1537963512162099,0.3133036361206578,0.47877771528316515,0.6442321103834694,0.803509484779075,0.9505541014891831,1.0796831610910465,1.1858438330909473,1.2648434125627805,1.3135412961886945,1.3299933154720727,1.3135412961886945,1.2648434125627805,1.1858438330909473,1.0796831610910465,0.9505541014891831,0.803509484779075,0.6442321103834694,0.47877771528316515,0.3133036361206578,0.1537963512162099,0.005811034304373925,-0.1257644689695074,-0.23691017597600564,-0.324629843053556,-0.38705535500366767,-0.42349546556438716,-0.43442757176285574,-0.42143408131469146,-0.38708768931988075,-0.33479237619194996,-0.268589046149572,-0.1929363397545002,-0.11247819731414006,-0.03181017613329085,0.044743679368913644,0.11333242903336226,0.17074867404778504,0.21456006847846779,0.2431963471432226,0.2559887694405144,0.2531614457800734,0.23577655069724138,0.20563779959612533,0.16515865057394133,0.11720338291232232,0.0649104168254659,0.011507919583092052,-0.039868134180728126,-0.08634370978474622],[-0.12058300781296416,-0.08017262722723162,-0.032657564269347995,0.019407660252202565,0.07306884206017318,0.12512633286074154,0.17230988766358785,0.21146505144444128,0.23974108638511749,0.25477004091850136,0.2548267267047997,0.23896010343988033,0.2070878465419809,0.16004763127913005,0.09960082298540655,0.02838670735216783,-0.050171999808914604,-0.132008995765264,-0.2125937105436689,-0.28714197491104243,-0.35084804028714445,-0.3991265770886398,-0.42785247459104203,-0.4335860886421158,-0.4137720534188708,-0.36690087535799776,-0.2926242127644853,-0.19181693290541052,-0.06658162124929747,0.07980593576993696,0.24300880867803662,0.4177941096414197,0.5982441516081277,0.7780040258931075,0.9505541014891831,1.1094945766040856,1.2488284837498442,1.3632295064019535,1.4482816142111579,1.500678835049543,1.518375390968938,1.500678835049543,1.4482816142111579,1.3632295064019535,1.2488284837498442,1.1094945766040856,0.9505541014891831,0.7780040258931075,0.5982441516081277,0.4177941096414197,0.24300880867803662,0.07980593576993696,-0.06658162124929747,-0.19181693290541052,-0.2926242127644853,-0.36690087535799776,-0.4137720534188708,-0.4335860886421158,-0.42785247459104203,-0.3991265770886398,-0.35084804028714445,-0.28714197491104243,-0.2125937105436689,-0.132008995765264,-0.050171999808914604,0.02838670735216783,0.09960082298540655,0.16004763127913005,0.2070878465419809,0.23896010343988033,0.2548267267047997,0.25477004091850136,0.23974108638511749,0.21146505144444128,0.17230988766358785,0.12512633286074154,0.07306884206017318,0.019407660252202565,-0.032657564269347995,-0.08017262722723162],[-0.1164544699167505,-0.0750007897964791,-0.026665677985416577,0.025921773001301992,0.07974244535617742,0.13154597877649798,0.17802983029511174,0.21602931256266372,0.242708395806646,0.2557406839380664,0.25347017586536014,0.23504220166614895,0.20049625055173417,0.15081422331281308,0.08791985781076668,0.014627580006334946,-0.06545830501430487,-0.14809048863531396,-0.22856545626592412,-0.30194177876754097,-0.3632795822101567,-0.407889497747319,-0.43157859884674826,-0.4308806796227811,-0.40325873487122593,-0.3472686537517362,-0.2626748843273063,-0.15051108239111077,-0.0130814139378774,0.14609889758077332,0.32242214992953067,0.5103612401471838,0.7036898157513979,0.8957396184216221,1.0796831610910465,1.2488284837498442,1.3969119972732167,1.518375390968938,1.608613254431116,1.6641794167481594,1.682941969615793,1.6641794167481594,1.608613254431116,1.518375390968938,1.3969119972732167,1.2488284837498442,1.0796831610910465,0.8957396184216221,0.7036898157513979,0.5103612401471838,0.32242214992953067,0.14609889758077332,-0.0130814139378774,-0.15051108239111077,-0.2626748843273063,-0.3472686537517362,-0.40325873487122593,-0.4308806796227811,-0.43157859884674826,-0.407889497747319,-0.3632795822101567,-0.30194177876754097,-0.22856545626592412,-0.14809048863531396,-0.06545830501430487,0.014627580006334946,0.08791985781076668,0.15081422331281308,0.20049625055173417,0.23504220166614895,0.25347017586536014,0.2557406839380664,0.242708395806646,0.21602931256266372,0.17802983029511174,0.13154597877649798,0.07974244535617742,0.025921773001301992,-0.026665677985416577,-0.0750007897964791],[-0.1131560467581887,-0.07090368426500879,-0.021950582012676394,0.031016232090896562,0.08492762656935865,0.13649472168344115,0.18239124981424537,0.21944644111666822,0.24483804991090946,0.2562747828163765,0.252157618714697,0.2317103248693539,0.19507084218595108,0.1433370736825879,0.07856287339249271,0.0037025838949493145,-0.07749482277960204,-0.16063822727306362,-0.24088710992360066,-0.31317589634427284,-0.37245933283868765,-0.41396693622794944,-0.4334537754581445,-0.4274347075936389,-0.39338972722403176,-0.32992927901128904,-0.23691017597600564,-0.11549507625799743,0.03184881503912622,0.20141317105264114,0.38837235101706136,0.5869627944413911,0.7907103570985019,0.992695449836068,1.1858438330909473,1.3632295064019535,1.518375390968938,1.6455374774968983,1.7399588071171015,1.7980810383563555,1.8177033600622243,1.7980810383563555,1.7399588071171015,1.6455374774968983,1.518375390968938,1.3632295064019535,1.1858438330909473,0.992695449836068,0.7907103570985019,0.5869627944413911,0.38837235101706136,0.20141317105264114,0.03184881503912622,-0.11549507625799743,-0.23691017597600564,-0.32992927901128904,-0.39338972722403176,-0.4274347075936389,-0.4334537754581445,-0.41396693622794944,-0.37245933283868765,-0.31317589634427284,-0.24088710992360066,-0.16063822727306362,-0.07749482277960204,0.0037025838949493145,0.07856287339249271,0.1433370736825879,0.19507084218595108,0.2317103248693539,0.252157618714697,0.2562747828163765,0.24483804991090946,0.21944644111666822,0.18239124981424537,0.13649472168344115,0.08492762656935865,0.031016232090896562,-0.021950582012676394,-0.07090368426500879],[-0.1107536917561867,-0.06793803188546253,-0.01855449981019833,0.03466854669458865,0.08862652853638416,0.14000357308347133,0.18545724476618586,0.22181346801290225,0.24626113579560338,0.25653555744366946,0.25108014921898075,0.22917661128094333,0.19103523332295086,0.13783886506830845,0.07173638515428266,-0.004215913110515241,-0.08616386191642225,-0.1696119802323752,-0.24962054293732017,-0.3210343185560354,-0.3787322233669178,-0.417885750201407,-0.434213248547002,-0.42421701152445723,-0.3853906832849483,-0.3163857196862348,-0.21712746254366178,-0.08887373699192957,0.0657883626364726,0.24300880867803662,0.43780226922078175,0.6442321103834694,0.8556429685382863,1.0649315658049785,1.2648434125627805,1.4482816142111579,1.608613254431116,1.7399588071171015,1.8374507397311368,1.8974488797623419,1.917702154416812,1.8974488797623419,1.8374507397311368,1.7399588071171015,1.608613254431116,1.4482816142111579,1.2648434125627805,1.0649315658049785,0.8556429685382863,0.6442321103834694,0.43780226922078175,0.24300880867803662,0.0657883626364726,-0.08887373699192957,-0.21712746254366178,-0.3163857196862348,-0.3853906832849483,-0.42421701152445723,-0.434213248547002,-0.417885750201407,-0.3787322233669178,-0.3210343185560354,-0.24962054293732017,-0.1696119802323752,-0.08616386191642225,-0.004215913110515241,0.07173638515428266,0.13783886506830845,0.19103523332295086,0.22917661128094333,0.25108014921898075,0.25653555744366946,0.24626113579560338,0.22181346801290225,0.18545724476618586,0.14000357308347133,0.08862652853638416,0.03466854669458865,-0.01855449981019833,-0.06793803188546253],[-0.10929387900894774,-0.06614321685638791,-0.016505930263581485,0.03686485131708162,0.09084339726921295,0.14209785531573388,0.18727640924644018,0.2232034254780841,0.24707500803079696,0.2566430509401283,0.25037713957121355,0.22759450814784551,0.18854967763954522,0.134477311926808,0.06758414818694233,-0.009011537058698997,-0.09139170665445415,-0.17499760171649797,-0.254829433326894,-0.32567778292945404,-0.382375848005458,-0.4200602785751461,-0.43442757176285574,-0.42197287899622543,-0.3801986514917913,-0.3077817863653888,-0.20468978410715197,-0.0722388011028484,0.08691073780520595,0.2688222513075441,0.4684129583840573,0.6796406846183429,0.8957396184216221,1.1094945766040856,1.3135412961886945,1.500678835049543,1.6641794167481594,1.7980810383563555,1.8974488797623419,1.9585929762944412,1.9792316740361835,1.9585929762944412,1.8974488797623419,1.7980810383563555,1.6641794167481594,1.500678835049543,1.3135412961886945,1.1094945766040856,0.8957396184216221,0.6796406846183429,0.4684129583840573,0.2688222513075441,0.08691073780520595,-0.0722388011028484,-0.20468978410715197,-0.3077817863653888,-0.3801986514917913,-0.42197287899622543,-0.43442757176285574,-0.4200602785751461,-0.382375848005458,-0.32567778292945404,-0.254829433326894,-0.17499760171649797,-0.09139170665445415,-0.009011537058698997,0.06758414818694233,0.134477311926808,0.18854967763954522,0.22759450814784551,0.25037713957121355,0.2566430509401283,0.24707500803079696,0.2232034254780841,0.18727640924644018,0.14209785531573388,0.09084339726921295,0.03686485131708162,-0.016505930263581485,-0.06614321685638791],[-0.10880422217787396,-0.06554239869174844,-0.015821288518275644,0.03759772656874239,0.09158188560927924,0.14279404657238684,0.18787932061729182,0.22366162672468853,0.24733956165584545,0.2566706526738519,0.25013332713993036,0.2270567942100705,0.18771045677679687,0.1333463922312941,0.0661907655654817,-0.010617349295218181,-0.09313849939964196,-0.17679272260843765,-0.2565601183892334,-0.32721314035298743,-0.3835697098652554,-0.4207548585159486,-0.43445783007337646,-0.421171462695804,-0.3784012476539641,-0.30483270332925,-0.20044755867978276,-0.06658162124929747,0.0940800053732448,0.277571630583514,0.47877771528316515,0.69162061945593,0.9092974268256817,1.124555367855928,1.3299933154720727,1.518375390968938,1.682941969615793,1.8177033600622243,1.917702154416812,1.9792316740361835,null,1.9792316740361835,1.917702154416812,1.8177033600622243,1.682941969615793,1.518375390968938,1.3299933154720727,1.124555367855928,0.9092974268256817,0.69162061945593,0.47877771528316515,0.277571630583514,0.0940800053732448,-0.06658162124929747,-0.20044755867978276,-0.30483270332925,-0.3784012476539641,-0.421171462695804,-0.43445783007337646,-0.4207548585159486,-0.3835697098652554,-0.32721314035298743,-0.2565601183892334,-0.17679272260843765,-0.09313849939964196,-0.010617349295218181,0.0661907655654817,0.1333463922312941,0.18771045677679687,0.2270567942100705,0.25013332713993036,0.2566706526738519,0.24733956165584545,0.22366162672468853,0.18787932061729182,0.14279404657238684,0.09158188560927924,0.03759772656874239,-0.015821288518275644,-0.06554239869174844],[-0.10929387900894774,-0.06614321685638791,-0.016505930263581485,0.03686485131708162,0.09084339726921295,0.14209785531573388,0.18727640924644018,0.2232034254780841,0.24707500803079696,0.2566430509401283,0.25037713957121355,0.22759450814784551,0.18854967763954522,0.134477311926808,0.06758414818694233,-0.009011537058698997,-0.09139170665445415,-0.17499760171649797,-0.254829433326894,-0.32567778292945404,-0.382375848005458,-0.4200602785751461,-0.43442757176285574,-0.42197287899622543,-0.3801986514917913,-0.3077817863653888,-0.20468978410715197,-0.0722388011028484,0.08691073780520595,0.2688222513075441,0.4684129583840573,0.6796406846183429,0.8957396184216221,1.1094945766040856,1.3135412961886945,1.500678835049543,1.6641794167481594,1.7980810383563555,1.8974488797623419,1.9585929762944412,1.9792316740361835,1.9585929762944412,1.8974488797623419,1.7980810383563555,1.6641794167481594,1.500678835049543,1.3135412961886945,1.1094945766040856,0.8957396184216221,0.6796406846183429,0.4684129583840573,0.2688222513075441,0.08691073780520595,-0.0722388011028484,-0.20468978410715197,-0.3077817863653888,-0.3801986514917913,-0.42197287899622543,-0.43442757176285574,-0.4200602785751461,-0.382375848005458,-0.32567778292945404,-0.254829433326894,-0.17499760171649797,-0.09139170665445415,-0.009011537058698997,0.06758414818694233,0.134477311926808,0.18854967763954522,0.22759450814784551,0.25037713957121355,0.2566430509401283,0.24707500803079696,0.2232034254780841,0.18727640924644018,0.14209785531573388,0.09084339726921295,0.03686485131708162,-0.016505930263581485,-0.06614321685638791],[-0.1107536917561867,-0.06793803188546253,-0.01855449981019833,0.03466854669458865,0.08862652853638416,0.14000357308347133,0.18545724476618586,0.22181346801290225,0.24626113579560338,0.25653555744366946,0.25108014921898075,0.22917661128094333,0.19103523332295086,0.13783886506830845,0.07173638515428266,-0.004215913110515241,-0.08616386191642225,-0.1696119802323752,-0.24962054293732017,-0.3210343185560354,-0.3787322233669178,-0.417885750201407,-0.434213248547002,-0.42421701152445723,-0.3853906832849483,-0.3163857196862348,-0.21712746254366178,-0.08887373699192957,0.0657883626364726,0.24300880867803662,0.43780226922078175,0.6442321103834694,0.8556429685382863,1.0649315658049785,1.2648434125627805,1.4482816142111579,1.608613254431116,1.7399588071171015,1.8374507397311368,1.8974488797623419,1.917702154416812,1.8974488797623419,1.8374507397311368,1.7399588071171015,1.608613254431116,1.4482816142111579,1.2648434125627805,1.0649315658049785,0.8556429685382863,0.6442321103834694,0.43780226922078175,0.24300880867803662,0.0657883626364726,-0.08887373699192957,-0.21712746254366178,-0.3163857196862348,-0.3853906832849483,-0.42421701152445723,-0.434213248547002,-0.417885750201407,-0.3787322233669178,-0.3210343185560354,-0.24962054293732017,-0.1696119802323752,-0.08616386191642225,-0.004215913110515241,0.07173638515428266,0.13783886506830845,0.19103523332295086,0.22917661128094333,0.25108014921898075,0.25653555744366946,0.24626113579560338,0.22181346801290225,0.18545724476618586,0.14000357308347133,0.08862652853638416,0.03466854669458865,-0.01855449981019833,-0.06793803188546253],[-0.1131560467581887,-0.07090368426500879,-0.021950582012676394,0.031016232090896562,0.08492762656935865,0.13649472168344115,0.18239124981424537,0.21944644111666822,0.24483804991090946,0.2562747828163765,0.252157618714697,0.2317103248693539,0.19507084218595108,0.1433370736825879,0.07856287339249271,0.0037025838949493145,-0.07749482277960204,-0.16063822727306362,-0.24088710992360066,-0.31317589634427284,-0.37245933283868765,-0.41396693622794944,-0.4334537754581445,-0.4274347075936389,-0.39338972722403176,-0.32992927901128904,-0.23691017597600564,-0.11549507625799743,0.03184881503912622,0.20141317105264114,0.38837235101706136,0.5869627944413911,0.7907103570985019,0.992695449836068,1.1858438330909473,1.3632295064019535,1.518375390968938,1.6455374774968983,1.7399588071171015,1.7980810383563555,1.8177033600622243,1.7980810383563555,1.7399588071171015,1.6455374774968983,1.518375390968938,1.3632295064019535,1.1858438330909473,0.992695449836068,0.7907103570985019,0.5869627944413911,0.38837235101706136,0.20141317105264114,0.03184881503912622,-0.11549507625799743,-0.23691017597600564,-0.32992927901128904,-0.39338972722403176,-0.4274347075936389,-0.4334537754581445,-0.41396693622794944,-0.37245933283868765,-0.31317589634427284,-0.24088710992360066,-0.16063822727306362,-0.07749482277960204,0.0037025838949493145,0.07856287339249271,0.1433370736825879,0.19507084218595108,0.2317103248693539,0.252157618714697,0.2562747828163765,0.24483804991090946,0.21944644111666822,0.18239124981424537,0.13649472168344115,0.08492762656935865,0.031016232090896562,-0.021950582012676394,-0.07090368426500879],[-0.1164544699167505,-0.0750007897964791,-0.026665677985416577,0.025921773001301992,0.07974244535617742,0.13154597877649798,0.17802983029511174,0.21602931256266372,0.242708395806646,0.2557406839380664,0.25347017586536014,0.23504220166614895,0.20049625055173417,0.15081422331281308,0.08791985781076668,0.014627580006334946,-0.06545830501430487,-0.14809048863531396,-0.22856545626592412,-0.30194177876754097,-0.3632795822101567,-0.407889497747319,-0.43157859884674826,-0.4308806796227811,-0.40325873487122593,-0.3472686537517362,-0.2626748843273063,-0.15051108239111077,-0.0130814139378774,0.14609889758077332,0.32242214992953067,0.5103612401471838,0.7036898157513979,0.8957396184216221,1.0796831610910465,1.2488284837498442,1.3969119972732167,1.518375390968938,1.608613254431116,1.6641794167481594,1.682941969615793,1.6641794167481594,1.608613254431116,1.518375390968938,1.3969119972732167,1.2488284837498442,1.0796831610910465,0.8957396184216221,0.7036898157513979,0.5103612401471838,0.32242214992953067,0.14609889758077332,-0.0130814139378774,-0.15051108239111077,-0.2626748843273063,-0.3472686537517362,-0.40325873487122593,-0.4308806796227811,-0.43157859884674826,-0.407889497747319,-0.3632795822101567,-0.30194177876754097,-0.22856545626592412,-0.14809048863531396,-0.06545830501430487,0.014627580006334946,0.08791985781076668,0.15081422331281308,0.20049625055173417,0.23504220166614895,0.25347017586536014,0.2557406839380664,0.242708395806646,0.21602931256266372,0.17802983029511174,0.13154597877649798,0.07974244535617742,0.025921773001301992,-0.026665677985416577,-0.0750007897964791],[-0.12058300781296416,-0.08017262722723162,-0.032657564269347995,0.019407660252202565,0.07306884206017318,0.12512633286074154,0.17230988766358785,0.21146505144444128,0.23974108638511749,0.25477004091850136,0.2548267267047997,0.23896010343988033,0.2070878465419809,0.16004763127913005,0.09960082298540655,0.02838670735216783,-0.050171999808914604,-0.132008995765264,-0.2125937105436689,-0.28714197491104243,-0.35084804028714445,-0.3991265770886398,-0.42785247459104203,-0.4335860886421158,-0.4137720534188708,-0.36690087535799776,-0.2926242127644853,-0.19181693290541052,-0.06658162124929747,0.07980593576993696,0.24300880867803662,0.4177941096414197,0.5982441516081277,0.7780040258931075,0.9505541014891831,1.1094945766040856,1.2488284837498442,1.3632295064019535,1.4482816142111579,1.500678835049543,1.518375390968938,1.500678835049543,1.4482816142111579,1.3632295064019535,1.2488284837498442,1.1094945766040856,0.9505541014891831,0.7780040258931075,0.5982441516081277,0.4177941096414197,0.24300880867803662,0.07980593576993696,-0.06658162124929747,-0.19181693290541052,-0.2926242127644853,-0.36690087535799776,-0.4137720534188708,-0.4335860886421158,-0.42785247459104203,-0.3991265770886398,-0.35084804028714445,-0.28714197491104243,-0.2125937105436689,-0.132008995765264,-0.050171999808914604,0.02838670735216783,0.09960082298540655,0.16004763127913005,0.2070878465419809,0.23896010343988033,0.2548267267047997,0.25477004091850136,0.23974108638511749,0.21146505144444128,0.17230988766358785,0.12512633286074154,0.07306884206017318,0.019407660252202565,-0.032657564269347995,-0.08017262722723162],[-0.1254554756233313,-0.08634370978474622,-0.039868134180728126,0.011507919583092052,0.0649104168254659,0.11720338291232232,0.16515865057394133,0.20563779959612533,0.23577655069724138,0.2531614457800734,0.2559887694405144,0.2431963471432226,0.21456006847846779,0.17074867404778504,0.11333242903336226,0.044743679368913644,-0.03181017613329085,-0.11247819731414006,-0.1929363397545002,-0.268589046149572,-0.33479237619194996,-0.38708768931988075,-0.42143408131469146,-0.43442757176285574,-0.42349546556438716,-0.38705535500366767,-0.324629843053556,-0.23691017597600564,-0.1257644689695074,0.005811034304373925,0.1537963512162099,0.3133036361206578,0.47877771528316515,0.6442321103834694,0.803509484779075,0.9505541014891831,1.0796831610910465,1.1858438330909473,1.2648434125627805,1.3135412961886945,1.3299933154720727,1.3135412961886945,1.2648434125627805,1.1858438330909473,1.0796831610910465,0.9505541014891831,0.803509484779075,0.6442321103834694,0.47877771528316515,0.3133036361206578,0.1537963512162099,0.005811034304373925,-0.1257644689695074,-0.23691017597600564,-0.324629843053556,-0.38705535500366767,-0.42349546556438716,-0.43442757176285574,-0.42143408131469146,-0.38708768931988075,-0.33479237619194996,-0.268589046149572,-0.1929363397545002,-0.11247819731414006,-0.03181017613329085,0.044743679368913644,0.11333242903336226,0.17074867404778504,0.21456006847846779,0.2431963471432226,0.2559887694405144,0.2531614457800734,0.23577655069724138,0.20563779959612533,0.16515865057394133,0.11720338291232232,0.0649104168254659,0.011507919583092052,-0.039868134180728126,-0.08634370978474622],[-0.13096468174943518,-0.09341816596346665,-0.04822085787410071,0.0022716100207446164,0.05528095770522729,0.10774865812501504,0.15649972810645998,0.19841943861188654,0.23063350923189954,0.2506818889186662,0.2566762997375786,0.24743234013685533,0.2225680860000738,0.18256273925541686,0.12877087581897034,0.06339013493636744,-0.010617349295218181,-0.08964697741323371,-0.1696119802323752,-0.24613461781837798,-0.31475910259630246,-0.37117570680030565,-0.41144469052055266,-0.43220845214435083,-0.4308806796227811,-0.40580225753498556,-0.35635521764627226,-0.28302803533990717,-0.187427969950852,-0.0722388011028484,0.05887491198907235,0.20141317105264114,0.35022902170777614,0.49975144871271493,0.6442321103834694,0.7780040258931075,0.8957396184216221,0.992695449836068,1.0649315658049785,1.1094945766040856,1.124555367855928,1.1094945766040856,1.0649315658049785,0.992695449836068,0.8957396184216221,0.7780040258931075,0.6442321103834694,0.49975144871271493,0.35022902170777614,0.20141317105264114,0.05887491198907235,-0.0722388011028484,-0.187427969950852,-0.28302803533990717,-0.35635521764627226,-0.40580225753498556,-0.4308806796227811,-0.43220845214435083,-0.41144469052055266,-0.37117570680030565,-0.31475910259630246,-0.24613461781837798,-0.1696119802323752,-0.08964697741323371,-0.010617349295218181,0.06339013493636744,0.12877087581897034,0.18256273925541686,0.2225680860000738,0.24743234013685533,0.2566762997375786,0.2506818889186662,0.23063350923189954,0.19841943861188654,0.15649972810645998,0.10774865812501504,0.05528095770522729,0.0022716100207446164,-0.04822085787410071,-0.09341816596346665],[-0.13698176393514344,-0.10127808535368477,-0.05761803324395176,-0.00823327044894154,0.044209509361482956,0.09674378883254962,0.14626024334832619,0.18967745729212915,0.22411724822563847,0.24707500803079696,0.256575492104657,0.25130504004127213,0.23071227369415245,0.19507084218595108,0.14549969299473817,0.08393854575868848,0.013078615468659323,-0.06374895250625122,-0.1427221428215067,-0.21970771693043264,-0.29046275344788247,-0.35084804028714445,-0.3970424421347404,-0.42574709936268906,-0.43436863670247905,-0.421171462695804,-0.3853906832849483,-0.32729906443176787,-0.24822376277499153,-0.15051108239111077,-0.03744017720227128,0.08691073780520595,0.21783961811686398,0.35022902170777614,0.47877771528316515,0.5982441516081277,0.7036898157513979,0.7907103570985019,0.8556429685382863,0.8957396184216221,0.9092974268256817,0.8957396184216221,0.8556429685382863,0.7907103570985019,0.7036898157513979,0.5982441516081277,0.47877771528316515,0.35022902170777614,0.21783961811686398,0.08691073780520595,-0.03744017720227128,-0.15051108239111077,-0.24822376277499153,-0.32729906443176787,-0.3853906832849483,-0.421171462695804,-0.43436863670247905,-0.42574709936268906,-0.3970424421347404,-0.35084804028714445,-0.29046275344788247,-0.21970771693043264,-0.1427221428215067,-0.06374895250625122,0.013078615468659323,0.08393854575868848,0.14549969299473817,0.19507084218595108,0.23071227369415245,0.25130504004127213,0.256575492104657,0.24707500803079696,0.22411724822563847,0.18967745729212915,0.14626024334832619,0.09674378883254962,0.044209509361482956,-0.00823327044894154,-0.05761803324395176,-0.10127808535368477],[-0.14335579129849668,-0.10978201113265723,-0.06793803188546253,-0.019915691575644292,0.031745840459068614,0.08418731130237875,0.13437885433763305,0.1792839709402817,0.21602931256266372,0.2420710146043941,0.255348298963932,0.25441554164532254,0.23854497801642713,0.20779364608280457,0.1630299764243758,0.10591753298818528,0.03885568116655977,-0.03512071345143313,-0.11247819731414006,-0.18935183535374994,-0.2617343483375656,-0.32567778292945404,-0.37749737145928347,-0.41396693622794944,-0.43249545715781157,-0.4312752446188071,-0.4093935036702951,-0.36690087535799776,-0.30483270332925,-0.22518118755916025,-0.13081912452072303,-0.025378460035175753,0.08691073780520595,0.20141317105264114,0.3133036361206578,0.4177941096414197,0.5103612401471838,0.5869627944413911,0.6442321103834694,0.6796406846183429,0.69162061945593,0.6796406846183429,0.6442321103834694,0.5869627944413911,0.5103612401471838,0.4177941096414197,0.3133036361206578,0.20141317105264114,0.08691073780520595,-0.025378460035175753,-0.13081912452072303,-0.22518118755916025,-0.30483270332925,-0.36690087535799776,-0.4093935036702951,-0.4312752446188071,-0.43249545715781157,-0.41396693622794944,-0.37749737145928347,-0.32567778292945404,-0.2617343483375656,-0.18935183535374994,-0.11247819731414006,-0.03512071345143313,0.03885568116655977,0.10591753298818528,0.1630299764243758,0.20779364608280457,0.23854497801642713,0.25441554164532254,0.255348298963932,0.2420710146043941,0.21602931256266372,0.1792839709402817,0.13437885433763305,0.08418731130237875,0.031745840459068614,-0.019915691575644292,-0.06793803188546253,-0.10978201113265723],[-0.1499137997580331,-0.11876378051842666,-0.07903277128303789,-0.032657564269347995,0.017966041941118966,0.07010183827093616,0.12081441070397907,0.16712567793535366,0.2061784643801796,0.23539823538075702,0.25264402764959015,0.2563400102730029,0.2455799958764798,0.22019854657881394,0.18080401871815463,0.12877087581897034,0.0661907655654817,-0.004215913110515241,-0.0792240541655952,-0.15525760655490364,-0.22856545626592412,-0.29541051237375787,-0.35226222727992795,-0.39598244357893553,-0.42399466300627076,-0.43442757176285574,-0.42622489689420734,-0.39921534828629784,-0.3541384336243295,-0.2926242127644853,-0.21712746254366178,-0.13081912452072303,-0.03744017720227128,0.05887491198907235,0.1537963512162099,0.24300880867803662,0.32242214992953067,0.38837235101706136,0.43780226922078175,0.4684129583840573,0.47877771528316515,0.4684129583840573,0.43780226922078175,0.38837235101706136,0.32242214992953067,0.24300880867803662,0.1537963512162099,0.05887491198907235,-0.03744017720227128,-0.13081912452072303,-0.21712746254366178,-0.2926242127644853,-0.3541384336243295,-0.39921534828629784,-0.42622489689420734,-0.43442757176285574,-0.42399466300627076,-0.39598244357893553,-0.35226222727992795,-0.29541051237375787,-0.22856545626592412,-0.15525760655490364,-0.0792240541655952,-0.004215913110515241,0.0661907655654817,0.12877087581897034,0.18080401871815463,0.22019854657881394,0.2455799958764798,0.2563400102730029,0.25264402764959015,0.23539823538075702,0.2061784643801796,0.16712567793535366,0.12081441070397907,0.07010183827093616,0.017966041941118966,-0.032657564269347995,-0.07903277128303789,-0.11876378051842666],[-0.15646143337355978,-0.12803192632998142,-0.0907256642328181,-0.046310064114579955,0.0029779491154211806,0.054541276561040686,0.10555493165712146,0.15311446345017118,0.1943926655354523,0.22679610352037188,0.24811283911536614,0.2566430509401283,0.25130504004127213,0.2317103248693539,0.1982031145119569,0.15186131748507978,0.09445829662141196,0.02838670735216783,-0.043452159632214875,-0.1177881852505473,-0.19114437378651342,-0.26001264723920775,-0.3210343185560354,-0.37117570680030565,-0.407889497747319,-0.42925310491460716,-0.434076417833265,-0.42197287899622543,-0.39338972722403176,-0.3495953826561967,-0.2926242127644853,-0.22518118755916025,-0.15051108239111077,-0.0722388011028484,0.005811034304373925,0.07980593576993696,0.14609889758077332,0.20141317105264114,0.24300880867803662,0.2688222513075441,0.277571630583514,0.2688222513075441,0.24300880867803662,0.20141317105264114,0.14609889758077332,0.07980593576993696,0.005811034304373925,-0.0722388011028484,-0.15051108239111077,-0.22518118755916025,-0.2926242127644853,-0.3495953826561967,-0.39338972722403176,-0.42197287899622543,-0.434076417833265,-0.42925310491460716,-0.407889497747319,-0.37117570680030565,-0.3210343185560354,-0.26001264723920775,-0.19114437378651342,-0.1177881852505473,-0.043452159632214875,0.02838670735216783,0.09445829662141196,0.15186131748507978,0.1982031145119569,0.2317103248693539,0.25130504004127213,0.2566430509401283,0.24811283911536614,0.22679610352037188,0.1943926655354523,0.15311446345017118,0.10555493165712146,0.054541276561040686,0.0029779491154211806,-0.046310064114579955,-0.0907256642328181,-0.12803192632998142],[-0.16278435980926842,-0.13736985507049018,-0.10281030706494565,-0.060690608986011814,-0.013073952151520388,0.03759772656874239,0.08862652853638416,0.13719827990417027,0.18053174205108255,0.21602931256266372,0.24142096714711753,0.254893432701845,0.25519727019112654,0.24172565029557566,0.21456006847846779,0.17447999195279823,0.12293536517635703,0.06198291759831892,-0.005810793613848673,-0.07749482277960204,-0.14988136590815446,-0.21970771693043264,-0.2838041182964338,-0.3392585664190622,-0.3835697098652554,-0.4147795406040892,-0.43157859884674826,-0.4333778373354074,-0.4203430458705095,-0.39338972722403176,-0.3541384336243295,-0.30483270332925,-0.24822376277499153,-0.187427969950852,-0.1257644689695074,-0.06658162124929747,-0.0130814139378774,0.03184881503912622,0.0657883626364726,0.08691073780520595,0.0940800053732448,0.08691073780520595,0.0657883626364726,0.03184881503912622,-0.0130814139378774,-0.06658162124929747,-0.1257644689695074,-0.187427969950852,-0.24822376277499153,-0.30483270332925,-0.3541384336243295,-0.39338972722403176,-0.4203430458705095,-0.4333778373354074,-0.43157859884674826,-0.4147795406040892,-0.3835697098652554,-0.3392585664190622,-0.2838041182964338,-0.21970771693043264,-0.14988136590815446,-0.07749482277960204,-0.005810793613848673,0.06198291759831892,0.12293536517635703,0.17447999195279823,0.21456006847846779,0.24172565029557566,0.25519727019112654,0.254893432701845,0.24142096714711753,0.21602931256266372,0.18053174205108255,0.13719827990417027,0.08862652853638416,0.03759772656874239,-0.013073952151520388,-0.060690608986011814,-0.10281030706494565,-0.13736985507049018],[-0.16865061331126227,-0.14653700801271363,-0.11505016730310495,-0.07558080422426758,-0.030004497243790427,0.019407660252202565,0.07010183827093616,0.11937185506223688,0.16450028494360933,0.20290271423033404,0.23226729318028777,0.2506818889186662,0.2567417315441088,0.24963143467045815,0.22917661128094333,0.19586192453391038,0.15081422331281308,0.0957513146109,0.032898814044057145,-0.03512071345143313,-0.10542055787501849,-0.17499760171649797,-0.24088710992360066,-0.3003162506586467,-0.35084804028714445,-0.3905078789395116,-0.417885750201407,-0.43220845214435083,-0.4333778373354074,-0.42197287899622543,-0.39921534828629784,-0.36690087535799776,-0.32729906443176787,-0.28302803533990717,-0.23691017597600564,-0.19181693290541052,-0.15051108239111077,-0.11549507625799743,-0.08887373699192957,-0.0722388011028484,-0.06658162124929747,-0.0722388011028484,-0.08887373699192957,-0.11549507625799743,-0.15051108239111077,-0.19181693290541052,-0.23691017597600564,-0.28302803533990717,-0.32729906443176787,-0.36690087535799776,-0.39921534828629784,-0.42197287899622543,-0.4333778373354074,-0.43220845214435083,-0.417885750201407,-0.3905078789395116,-0.35084804028714445,-0.3003162506586467,-0.24088710992360066,-0.17499760171649797,-0.10542055787501849,-0.03512071345143313,0.032898814044057145,0.0957513146109,0.15081422331281308,0.19586192453391038,0.22917661128094333,0.24963143467045815,0.2567417315441088,0.2506818889186662,0.23226729318028777,0.20290271423033404,0.16450028494360933,0.11937185506223688,0.07010183827093616,0.019407660252202565,-0.030004497243790427,-0.07558080422426758,-0.11505016730310495,-0.14653700801271363],[-0.1738139924448547,-0.15527119023634722,-0.1271795169340972,-0.0907256642328181,-0.04758506314163741,0.0001569493213448689,0.05010748884225075,0.09968670899986165,0.14626024334832619,0.18727640924644018,0.22040074178662336,0.24364050109720906,0.2554522819126627,0.2548267267047997,0.2413455569066888,0.2152076253393881,0.17722237538812438,0.12877087581897034,0.07173638515428266,0.00840808631479302,-0.05863687417657578,-0.12666669235949252,-0.1929363397545002,-0.254829433326894,-0.309992807249447,-0.3564564355250057,-0.39273214882544505,-0.417885750201407,-0.43157859884674826,-0.434076417833265,-0.42622489689420734,-0.4093935036702951,-0.3853906832849483,-0.35635521764627226,-0.324629843053556,-0.2926242127644853,-0.2626748843273063,-0.23691017597600564,-0.21712746254366178,-0.20468978410715197,-0.20044755867978276,-0.20468978410715197,-0.21712746254366178,-0.23691017597600564,-0.2626748843273063,-0.2926242127644853,-0.324629843053556,-0.35635521764627226,-0.3853906832849483,-0.4093935036702951,-0.42622489689420734,-0.434076417833265,-0.43157859884674826,-0.417885750201407,-0.39273214882544505,-0.3564564355250057,-0.309992807249447,-0.254829433326894,-0.1929363397545002,-0.12666669235949252,-0.05863687417657578,0.00840808631479302,0.07173638515428266,0.12877087581897034,0.17722237538812438,0.2152076253393881,0.2413455569066888,0.2548267267047997,0.2554522819126627,0.24364050109720906,0.22040074178662336,0.18727640924644018,0.14626024334832619,0.09968670899986165,0.05010748884225075,0.0001569493213448689,-0.04758506314163741,-0.0907256642328181,-0.1271795169340972,-0.15527119023634722],[-0.17801860199902664,-0.16329221750830802,-0.13890582780165694,-0.10583439818051152,-0.06554239869174844,-0.019915691575644292,0.02883009042098063,0.07825990831739421,0.1258425822940911,0.16908036038891633,0.20563779959612533,0.23346296309158113,0.2508943222213973,0.25674750760048576,0.25037713957121355,0.2317103248693539,0.20124995852555586,0.16004763127913005,0.1096476200446325,0.05200503792795912,-0.010617349295218181,-0.0757679524450742,-0.1409342819269669,-0.2036729142303004,-0.2617343483375656,-0.31317589634427284,-0.3564564355250057,-0.3905078789395116,-0.4147795406040892,-0.42925310491460716,-0.43442757176285574,-0.4312752446188071,-0.421171462695804,-0.40580225753498556,-0.38705535500366767,-0.36690087535799776,-0.3472686537517362,-0.32992927901128904,-0.3163857196862348,-0.3077817863653888,-0.30483270332925,-0.3077817863653888,-0.3163857196862348,-0.32992927901128904,-0.3472686537517362,-0.36690087535799776,-0.38705535500366767,-0.40580225753498556,-0.421171462695804,-0.4312752446188071,-0.43442757176285574,-0.42925310491460716,-0.4147795406040892,-0.3905078789395116,-0.3564564355250057,-0.31317589634427284,-0.2617343483375656,-0.2036729142303004,-0.1409342819269669,-0.0757679524450742,-0.010617349295218181,0.05200503792795912,0.1096476200446325,0.16004763127913005,0.20124995852555586,0.2317103248693539,0.25037713957121355,0.25674750760048576,0.2508943222213973,0.23346296309158113,0.20563779959612533,0.16908036038891633,0.1258425822940911,0.07825990831739421,0.02883009042098063,-0.019915691575644292,-0.06554239869174844,-0.10583439818051152,-0.13890582780165694,-0.16329221750830802],[-0.18100457917857166,-0.17030698199702413,-0.1499137997580331,-0.12058300781296416,-0.08355939645450051,-0.040517266401149735,0.0065202421682302655,0.05528095770522729,0.10335731863015635,0.14832776112580212,0.18787932061729182,0.21992483146863692,0.242708395806646,0.254893432701845,0.25562857790064414,0.24458792842044305,0.22198354690007724,0.18854967763954522,0.14549969299473817,0.09445829662141196,0.037372873633869375,-0.02359098016854476,-0.08616386191642225,-0.14809048863531396,-0.20724458052139974,-0.2617343483375656,-0.309992807249447,-0.35084804028714445,-0.3835697098652554,-0.407889497747319,-0.42399466300627076,-0.43249545715781157,-0.43436863670247905,-0.4308806796227811,-0.42349546556438716,-0.4137720534188708,-0.40325873487122593,-0.39338972722403176,-0.3853906832849483,-0.3801986514917913,-0.3784012476539641,-0.3801986514917913,-0.3853906832849483,-0.39338972722403176,-0.40325873487122593,-0.4137720534188708,-0.42349546556438716,-0.4308806796227811,-0.43436863670247905,-0.43249545715781157,-0.42399466300627076,-0.407889497747319,-0.3835697098652554,-0.35084804028714445,-0.309992807249447,-0.2617343483375656,-0.20724458052139974,-0.14809048863531396,-0.08616386191642225,-0.02359098016854476,0.037372873633869375,0.09445829662141196,0.14549969299473817,0.18854967763954522,0.22198354690007724,0.24458792842044305,0.25562857790064414,0.254893432701845,0.242708395806646,0.21992483146863692,0.18787932061729182,0.14832776112580212,0.10335731863015635,0.05528095770522729,0.0065202421682302655,-0.040517266401149735,-0.08355939645450051,-0.12058300781296416,-0.1499137997580331,-0.17030698199702413],[-0.18251498442862385,-0.1760159755489718,-0.15987112992755653,-0.13461888616197776,-0.10127808535368477,-0.061301442485772274,-0.016505930263581485,0.031016232090896562,0.07900122348247962,0.12512633286074154,0.16712567793535366,0.20290271423033404,0.23063350923189954,0.24885528388828942,0.25653555744366946,0.25311832399967577,0.23854497801642713,0.21324911772700825,0.17812580971586786,0.134477311926808,0.08393854575868848,0.02838670735216783,-0.030159748399708135,-0.08964697741323371,-0.14809048863531396,-0.2036729142303004,-0.254829433326894,-0.3003162506586467,-0.3392585664190622,-0.37117570680030565,-0.39598244357893553,-0.41396693622794944,-0.42574709936268906,-0.43220845214435083,-0.43442757176285574,-0.4335860886421158,-0.4308806796227811,-0.4274347075936389,-0.42421701152445723,-0.42197287899622543,-0.421171462695804,-0.42197287899622543,-0.42421701152445723,-0.4274347075936389,-0.4308806796227811,-0.4335860886421158,-0.43442757176285574,-0.43220845214435083,-0.42574709936268906,-0.41396693622794944,-0.39598244357893553,-0.37117570680030565,-0.3392585664190622,-0.3003162506586467,-0.254829433326894,-0.2036729142303004,-0.14809048863531396,-0.08964697741323371,-0.030159748399708135,0.02838670735216783,0.08393854575868848,0.134477311926808,0.17812580971586786,0.21324911772700825,0.23854497801642713,0.25311832399967577,0.25653555744366946,0.24885528388828942,0.23063350923189954,0.20290271423033404,0.16712567793535366,0.12512633286074154,0.07900122348247962,0.031016232090896562,-0.016505930263581485,-0.061301442485772274,-0.10127808535368477,-0.13461888616197776,-0.15987112992755653,-0.1760159755489718],[-0.18230376872794093,-0.18012123502583363,-0.16843605361995675,-0.14756752732225356,-0.11830504740258321,-0.08187218787401292,-0.039868134180728126,0.0058103924762656495,0.05306249567952219,0.09968670899986165,0.14348926836260514,0.18239124981424537,0.2145288714461612,0.2383416766936446,0.25264402764959015,0.2566762997375786,0.25013332713993036,0.23316893482082693,0.2063767337439853,0.17074867404778504,0.12761407121954643,0.07856287339249271,0.02535776443828009,-0.030159748399708135,-0.08616386191642225,-0.1409342819269669,-0.1929363397545002,-0.24088710992360066,-0.2838041182964338,-0.3210343185560354,-0.35226222727992795,-0.37749737145928347,-0.3970424421347404,-0.41144469052055266,-0.42143408131469146,-0.42785247459104203,-0.43157859884674826,-0.4334537754581445,-0.434213248547002,-0.43442757176285574,-0.43445783007337646,-0.43442757176285574,-0.434213248547002,-0.4334537754581445,-0.43157859884674826,-0.42785247459104203,-0.42143408131469146,-0.41144469052055266,-0.3970424421347404,-0.37749737145928347,-0.35226222727992795,-0.3210343185560354,-0.2838041182964338,-0.24088710992360066,-0.1929363397545002,-0.1409342819269669,-0.08616386191642225,-0.030159748399708135,0.02535776443828009,0.07856287339249271,0.12761407121954643,0.17074867404778504,0.2063767337439853,0.23316893482082693,0.25013332713993036,0.2566762997375786,0.25264402764959015,0.2383416766936446,0.2145288714461612,0.18239124981424537,0.14348926836260514,0.09968670899986165,0.05306249567952219,0.0058103924762656495,-0.039868134180728126,-0.08187218787401292,-0.11830504740258321,-0.14756752732225356,-0.16843605361995675,-0.18012123502583363],[-0.1801446545297837,-0.18233559039097344,-0.1752665961050691,-0.15904136091487175,-0.13421936300715656,-0.10179031338845618,-0.0631265026963309,-0.019915691575644292,0.025921773001301992,0.07232710218505171,0.11720338291232232,0.15851669454452746,0.1943926655354523,0.2232034254780841,0.24364050109720906,0.25477004091850136,0.2560677827399544,0.24743234013685533,0.22917661128094333,0.20199833430642128,0.16693195814109418,0.12528500092613942,0.07856287339249271,0.02838670735216783,-0.02359098016854476,-0.0757679524450742,-0.12666669235949252,-0.17499760171649797,-0.21970771693043264,-0.26001264723920775,-0.29541051237375787,-0.32567778292945404,-0.35084804028714445,-0.37117570680030565,-0.38708768931988075,-0.3991265770886398,-0.407889497747319,-0.41396693622794944,-0.417885750201407,-0.4200602785751461,-0.4207548585159486,-0.4200602785751461,-0.417885750201407,-0.41396693622794944,-0.407889497747319,-0.3991265770886398,-0.38708768931988075,-0.37117570680030565,-0.35084804028714445,-0.32567778292945404,-0.29541051237375787,-0.26001264723920775,-0.21970771693043264,-0.17499760171649797,-0.12666669235949252,-0.0757679524450742,-0.02359098016854476,0.02838670735216783,0.07856287339249271,0.12528500092613942,0.16693195814109418,0.20199833430642128,0.22917661128094333,0.24743234013685533,0.2560677827399544,0.25477004091850136,0.24364050109720906,0.2232034254780841,0.1943926655354523,0.15851669454452746,0.11720338291232232,0.07232710218505171,0.025921773001301992,-0.019915691575644292,-0.0631265026963309,-0.10179031338845618,-0.13421936300715656,-0.15904136091487175,-0.1752665961050691,-0.18233559039097344],[-0.17584069010379264,-0.18239300622958532,-0.1800313728705813,-0.16865061331126227,-0.14858307017251748,-0.12058300781296416,-0.0857896329957062,-0.045670869380806056,-0.001951040868825416,0.043473546354522816,0.08862652853638416,0.13154597877649798,0.17037647050011584,0.20345392533496165,0.22937894091767205,0.24707500803079696,0.25582893038458626,0.2553118000893658,0.2455799958764798,0.2270567942100705,0.20049625055173417,0.16693195814109418,0.12761407121954643,0.08393854575868848,0.037372873633869375,-0.010617349295218181,-0.05863687417657578,-0.10542055787501849,-0.14988136590815446,-0.19114437378651342,-0.22856545626592412,-0.2617343483375656,-0.29046275344788247,-0.31475910259630246,-0.33479237619194996,-0.35084804028714445,-0.3632795822101567,-0.37245933283868765,-0.3787322233669178,-0.382375848005458,-0.3835697098652554,-0.382375848005458,-0.3787322233669178,-0.37245933283868765,-0.3632795822101567,-0.35084804028714445,-0.33479237619194996,-0.31475910259630246,-0.29046275344788247,-0.2617343483375656,-0.22856545626592412,-0.19114437378651342,-0.14988136590815446,-0.10542055787501849,-0.05863687417657578,-0.010617349295218181,0.037372873633869375,0.08393854575868848,0.12761407121954643,0.16693195814109418,0.20049625055173417,0.2270567942100705,0.2455799958764798,0.2553118000893658,0.25582893038458626,0.24707500803079696,0.22937894091767205,0.20345392533496165,0.17037647050011584,0.13154597877649798,0.08862652853638416,0.043473546354522816,-0.001951040868825416,-0.045670869380806056,-0.0857896329957062,-0.12058300781296416,-0.14858307017251748,-0.16865061331126227,-0.1800313728705813,-0.18239300622958532],[-0.16923416092386775,-0.1800597155006458,-0.18242166855756492,-0.1760159755489718,-0.1609539875623888,-0.1377563081818195,-0.10732612754693129,-0.07090368426500879,-0.030004497243790427,0.013655158230898757,0.058241427706856384,0.1018902143955224,0.14279404657238684,0.1792839709402817,0.20990234059772522,0.23346296309158113,0.24909585663212155,0.2562747828163765,0.2548267267047997,0.24492352037505036,0.2270567942100705,0.20199833430642128,0.17074867404778504,0.134477311926808,0.09445829662141196,0.05200503792795912,0.00840808631479302,-0.03512071345143313,-0.07749482277960204,-0.1177881852505473,-0.15525760655490364,-0.18935183535374994,-0.21970771693043264,-0.24613461781837798,-0.268589046149572,-0.28714197491104243,-0.30194177876754097,-0.31317589634427284,-0.3210343185560354,-0.32567778292945404,-0.32721314035298743,-0.32567778292945404,-0.3210343185560354,-0.31317589634427284,-0.30194177876754097,-0.28714197491104243,-0.268589046149572,-0.24613461781837798,-0.21970771693043264,-0.18935183535374994,-0.15525760655490364,-0.1177881852505473,-0.07749482277960204,-0.03512071345143313,0.00840808631479302,0.05200503792795912,0.09445829662141196,0.134477311926808,0.17074867404778504,0.20199833430642128,0.2270567942100705,0.24492352037505036,0.2548267267047997,0.2562747828163765,0.24909585663212155,0.23346296309158113,0.20990234059772522,0.1792839709402817,0.14279404657238684,0.1018902143955224,0.058241427706856384,0.013655158230898757,-0.030004497243790427,-0.07090368426500879,-0.10732612754693129,-0.1377563081818195,-0.1609539875623888,-0.1760159755489718,-0.18242166855756492,-0.1800597155006458],[-0.16021647158282734,-0.1751457556394694,-0.1821644169794075,-0.18078273088932142,-0.17090060569317098,-0.1528102839666787,-0.1271795169340972,-0.0950164022704569,-0.05761803324395176,-0.016505930263581485,0.026648129724923395,0.07010183827093616,0.11212338767979044,0.15106960365711752,0.18545724476618586,0.21402402107025095,0.23577655069724138,0.25002327766855664,0.25639126767027576,0.2548267267047997,0.2455799958764798,0.22917661128094333,0.2063767337439853,0.17812580971586786,0.14549969299473817,0.1096476200446325,0.07173638515428266,0.032898814044057145,-0.005810793613848673,-0.043452159632214875,-0.0792240541655952,-0.11247819731414006,-0.1427221428215067,-0.1696119802323752,-0.1929363397545002,-0.2125937105436689,-0.22856545626592412,-0.24088710992360066,-0.24962054293732017,-0.254829433326894,-0.2565601183892334,-0.254829433326894,-0.24962054293732017,-0.24088710992360066,-0.22856545626592412,-0.2125937105436689,-0.1929363397545002,-0.1696119802323752,-0.1427221428215067,-0.11247819731414006,-0.0792240541655952,-0.043452159632214875,-0.005810793613848673,0.032898814044057145,0.07173638515428266,0.1096476200446325,0.14549969299473817,0.17812580971586786,0.2063767337439853,0.22917661128094333,0.2455799958764798,0.2548267267047997,0.25639126767027576,0.25002327766855664,0.23577655069724138,0.21402402107025095,0.18545724476618586,0.15106960365711752,0.11212338767979044,0.07010183827093616,0.026648129724923395,-0.016505930263581485,-0.05761803324395176,-0.0950164022704569,-0.1271795169340972,-0.1528102839666787,-0.17090060569317098,-0.18078273088932142,-0.1821644169794075,-0.1751457556394694],[-0.1487375524385824,-0.16751643729146143,-0.17903560277058095,-0.1826358700412797,-0.17801860199902664,-0.16525654180237792,-0.14478624788034108,-0.11738288358628372,-0.08411903827788304,-0.046310064114579955,-0.005449066140771361,0.03686485131708162,0.07900122348247962,0.11937185506223688,0.15649972810645998,0.1890798565922851,0.21602931256266372,0.2365243422174828,0.25002327766855664,0.2562747828163765,0.2553118000893658,0.24743234013685533,0.23316893482082693,0.21324911772700825,0.18854967763954522,0.16004763127913005,0.12877087581897034,0.0957513146109,0.06198291759831892,0.02838670735216783,-0.004215913110515241,-0.03512071345143313,-0.06374895250625122,-0.08964697741323371,-0.11247819731414006,-0.132008995765264,-0.14809048863531396,-0.16063822727306362,-0.1696119802323752,-0.17499760171649797,-0.17679272260843765,-0.17499760171649797,-0.1696119802323752,-0.16063822727306362,-0.14809048863531396,-0.132008995765264,-0.11247819731414006,-0.08964697741323371,-0.06374895250625122,-0.03512071345143313,-0.004215913110515241,0.02838670735216783,0.06198291759831892,0.0957513146109,0.12877087581897034,0.16004763127913005,0.18854967763954522,0.21324911772700825,0.23316893482082693,0.24743234013685533,0.2553118000893658,0.2562747828163765,0.25002327766855664,0.2365243422174828,0.21602931256266372,0.1890798565922851,0.15649972810645998,0.11937185506223688,0.07900122348247962,0.03686485131708162,-0.005449066140771361,-0.046310064114579955,-0.08411903827788304,-0.11738288358628372,-0.14478624788034108,-0.16525654180237792,-0.17801860199902664,-0.1826358700412797,-0.17903560277058095,-0.16751643729146143],[-0.13481430178982187,-0.15710321083861073,-0.17287351607260817,-0.18131560690315682,-0.18194839266053625,-0.17463748569481502,-0.15959621882048483,-0.13736985507049018,-0.10880422217787396,-0.0750007897964791,-0.03726086233570953,0.0029779491154211806,0.044209509361482956,0.08492762656935865,0.12369173187889267,0.15918658398472915,0.1902732638436695,0.21602931256266372,0.23577655069724138,0.24909585663212155,0.25582893038458626,0.2560677827399544,0.25013332713993036,0.23854497801642713,0.22198354690007724,0.20124995852555586,0.17722237538812438,0.15081422331281308,0.12293536517635703,0.09445829662141196,0.0661907655654817,0.03885568116655977,0.013078615468659323,-0.010617349295218181,-0.03181017613329085,-0.050171999808914604,-0.06545830501430487,-0.07749482277960204,-0.08616386191642225,-0.09139170665445415,-0.09313849939964196,-0.09139170665445415,-0.08616386191642225,-0.07749482277960204,-0.06545830501430487,-0.050171999808914604,-0.03181017613329085,-0.010617349295218181,0.013078615468659323,0.03885568116655977,0.0661907655654817,0.09445829662141196,0.12293536517635703,0.15081422331281308,0.17722237538812438,0.20124995852555586,0.22198354690007724,0.23854497801642713,0.25013332713993036,0.2560677827399544,0.25582893038458626,0.24909585663212155,0.23577655069724138,0.21602931256266372,0.1902732638436695,0.15918658398472915,0.12369173187889267,0.08492762656935865,0.044209509361482956,0.0029779491154211806,-0.03726086233570953,-0.0750007897964791,-0.10880422217787396,-0.13736985507049018,-0.15959621882048483,-0.17463748569481502,-0.18194839266053625,-0.18131560690315682,-0.17287351607260817,-0.15710321083861073],[-0.11853755153953284,-0.14391335124448024,-0.163591222139663,-0.17663261032673944,-0.18239300622958532,-0.18054660691367944,-0.17109514979541934,-0.1543609103022869,-0.13096468174943518,-0.10179031338845618,-0.06793803188546253,-0.03066927919323432,0.008653858363151095,0.04863139306208121,0.0878871354792479,0.12512633286074154,0.15918658398472915,0.1890798565922851,0.21402402107025095,0.23346296309158113,0.24707500803079696,0.25477004091850136,0.2566762997375786,0.25311832399967577,0.24458792842044305,0.2317103248693539,0.2152076253393881,0.19586192453391038,0.17447999195279823,0.15186131748507978,0.12877087581897034,0.10591753298818528,0.08393854575868848,0.06339013493636744,0.044743679368913644,0.02838670735216783,0.014627580006334946,0.0037025838949493145,-0.004215913110515241,-0.009011537058698997,-0.010617349295218181,-0.009011537058698997,-0.004215913110515241,0.0037025838949493145,0.014627580006334946,0.02838670735216783,0.044743679368913644,0.06339013493636744,0.08393854575868848,0.10591753298818528,0.12877087581897034,0.15186131748507978,0.17447999195279823,0.19586192453391038,0.2152076253393881,0.2317103248693539,0.24458792842044305,0.25311832399967577,0.2566762997375786,0.25477004091850136,0.24707500803079696,0.23346296309158113,0.21402402107025095,0.1890798565922851,0.15918658398472915,0.12512633286074154,0.0878871354792479,0.04863139306208121,0.008653858363151095,-0.03066927919323432,-0.06793803188546253,-0.10179031338845618,-0.13096468174943518,-0.1543609103022869,-0.17109514979541934,-0.18054660691367944,-0.18239300622958532,-0.17663261032673944,-0.163591222139663,-0.14391335124448024],[-0.10007704610444179,-0.12803786284735597,-0.1511875643863488,-0.16848219583369567,-0.17913546063850083,-0.18264893898060253,-0.1788278960809016,-0.16778234479339135,-0.1499137997580331,-0.1258888846262905,-0.09660159075517502,-0.0631265026963309,-0.026665677985416577,0.011507919583092052,0.05010748884225075,0.0878871354792479,0.12369173187889267,0.15649972810645998,0.18545724476618586,0.20990234059772522,0.22937894091767205,0.24364050109720906,0.25264402764959015,0.25653555744366946,0.25562857790064414,0.25037713957121355,0.2413455569066888,0.22917661128094333,0.21456006847846779,0.1982031145119569,0.18080401871815463,0.1630299764243758,0.14549969299473817,0.12877087581897034,0.11333242903336226,0.09960082298540655,0.08791985781076668,0.07856287339249271,0.07173638515428266,0.06758414818694233,0.0661907655654817,0.06758414818694233,0.07173638515428266,0.07856287339249271,0.08791985781076668,0.09960082298540655,0.11333242903336226,0.12877087581897034,0.14549969299473817,0.1630299764243758,0.18080401871815463,0.1982031145119569,0.21456006847846779,0.22917661128094333,0.2413455569066888,0.25037713957121355,0.25562857790064414,0.25653555744366946,0.25264402764959015,0.24364050109720906,0.22937894091767205,0.20990234059772522,0.18545724476618586,0.15649972810645998,0.12369173187889267,0.0878871354792479,0.05010748884225075,0.011507919583092052,-0.026665677985416577,-0.0631265026963309,-0.09660159075517502,-0.1258888846262905,-0.1499137997580331,-0.16778234479339135,-0.1788278960809016,-0.18264893898060253,-0.17913546063850083,-0.16848219583369567,-0.1511875643863488,-0.12803786284735597],[-0.07968395387291566,-0.10965701691843574,-0.13575600794040762,-0.15685668268767797,-0.17205475511311313,-0.1807007071005138,-0.18242166855756492,-0.17712974307464055,-0.16501687105976595,-0.14653700801271363,-0.12237701362727325,-0.09341816596346665,-0.060690608986011814,-0.02532329427921568,0.011507919583092052,0.04863139306208121,0.08492762656935865,0.11937185506223688,0.15106960365711752,0.1792839709402817,0.20345392533496165,0.2232034254780841,0.2383416766936446,0.24885528388828942,0.254893432701845,0.25674750760048576,0.2548267267047997,0.24963143467045815,0.24172565029557566,0.2317103248693539,0.22019854657881394,0.20779364608280457,0.19507084218595108,0.18256273925541686,0.17074867404778504,0.16004763127913005,0.15081422331281308,0.1433370736825879,0.13783886506830845,0.134477311926808,0.1333463922312941,0.134477311926808,0.13783886506830845,0.1433370736825879,0.15081422331281308,0.16004763127913005,0.17074867404778504,0.18256273925541686,0.19507084218595108,0.20779364608280457,0.22019854657881394,0.2317103248693539,0.24172565029557566,0.24963143467045815,0.2548267267047997,0.25674750760048576,0.254893432701845,0.24885528388828942,0.2383416766936446,0.2232034254780841,0.20345392533496165,0.1792839709402817,0.15106960365711752,0.11937185506223688,0.08492762656935865,0.04863139306208121,0.011507919583092052,-0.02532329427921568,-0.060690608986011814,-0.09341816596346665,-0.12237701362727325,-0.14653700801271363,-0.16501687105976595,-0.17712974307464055,-0.18242166855756492,-0.1807007071005138,-0.17205475511311313,-0.15685668268767797,-0.13575600794040762,-0.10965701691843574],[-0.05769048962428924,-0.08904297911487404,-0.11749065565570795,-0.14185512230149663,-0.16113955966514656,-0.17456713788189782,-0.18160802037610754,-0.18199408570471504,-0.17572115154133375,-0.16303912773542587,-0.14443111863131364,-0.12058300781296416,-0.09234546620178369,-0.060690608986011814,-0.026665677985416577,0.008653858363151095,0.044209509361482956,0.07900122348247962,0.11212338767979044,0.14279404657238684,0.17037647050011584,0.1943926655354523,0.2145288714461612,0.23063350923189954,0.242708395806646,0.2508943222213973,0.2554522819126627,0.2567417315441088,0.25519727019112654,0.25130504004127213,0.2455799958764798,0.23854497801642713,0.23071227369415245,0.2225680860000738,0.21456006847846779,0.2070878465419809,0.20049625055173417,0.19507084218595108,0.19103523332295086,0.18854967763954522,0.18771045677679687,0.18854967763954522,0.19103523332295086,0.19507084218595108,0.20049625055173417,0.2070878465419809,0.21456006847846779,0.2225680860000738,0.23071227369415245,0.23854497801642713,0.2455799958764798,0.25130504004127213,0.25519727019112654,0.2567417315441088,0.2554522819126627,0.2508943222213973,0.242708395806646,0.23063350923189954,0.2145288714461612,0.1943926655354523,0.17037647050011584,0.14279404657238684,0.11212338767979044,0.07900122348247962,0.044209509361482956,0.008653858363151095,-0.026665677985416577,-0.060690608986011814,-0.09234546620178369,-0.12058300781296416,-0.14443111863131364,-0.16303912773542587,-0.17572115154133375,-0.18199408570471504,-0.18160802037610754,-0.17456713788189782,-0.16113955966514656,-0.14185512230149663,-0.11749065565570795,-0.08904297911487404],[-0.0345063152690242,-0.06655906279410359,-0.09668883252747353,-0.12368964794720452,-0.1464987033293174,-0.1642373823959323,-0.17624240938958516,-0.18208605074549258,-0.18158488243001691,-0.1747972342928682,-0.16200998595397612,-0.1437158894806465,-0.12058300781296416,-0.09341816596346665,-0.0631265026963309,-0.03066927919323432,0.0029779491154211806,0.03686485131708162,0.07010183827093616,0.1018902143955224,0.13154597877649798,0.15851669454452746,0.18239124981424537,0.20290271423033404,0.21992483146863692,0.23346296309158113,0.24364050109720906,0.2506818889186662,0.254893432701845,0.2566430509401283,0.2563400102730029,0.25441554164532254,0.25130504004127213,0.24743234013685533,0.2431963471432226,0.23896010343988033,0.23504220166614895,0.2317103248693539,0.22917661128094333,0.22759450814784551,0.2270567942100705,0.22759450814784551,0.22917661128094333,0.2317103248693539,0.23504220166614895,0.23896010343988033,0.2431963471432226,0.24743234013685533,0.25130504004127213,0.25441554164532254,0.2563400102730029,0.2566430509401283,0.254893432701845,0.2506818889186662,0.24364050109720906,0.23346296309158113,0.21992483146863692,0.20290271423033404,0.18239124981424537,0.15851669454452746,0.13154597877649798,0.1018902143955224,0.07010183827093616,0.03686485131708162,0.0029779491154211806,-0.03066927919323432,-0.0631265026963309,-0.09341816596346665,-0.12058300781296416,-0.1437158894806465,-0.16200998595397612,-0.1747972342928682,-0.18158488243001691,-0.18208605074549258,-0.17624240938958516,-0.1642373823959323,-0.1464987033293174,-0.12368964794720452,-0.09668883252747353,-0.06655906279410359],[-0.01061150357619211,-0.042655257000177006,-0.07374973820785838,-0.10268778525178764,-0.1283676319466868,-0.14983554931501694,-0.16632015713858264,-0.17725715646546372,-0.18230376872794093,-0.18134271385500067,-0.17447608825271163,-0.16200998595397612,-0.14443111863131364,-0.12237701362727325,-0.09660159075517502,-0.06793803188546253,-0.03726086233570953,-0.005449066140771361,0.026648129724923395,0.058241427706856384,0.08862652853638416,0.11720338291232232,0.14348926836260514,0.16712567793535366,0.18787932061729182,0.20563779959612533,0.22040074178662336,0.23226729318028777,0.24142096714711753,0.24811283911536614,0.25264402764959015,0.255348298963932,0.256575492104657,0.2566762997375786,0.2559887694405144,0.2548267267047997,0.25347017586536014,0.252157618714697,0.25108014921898075,0.25037713957121355,0.25013332713993036,0.25037713957121355,0.25108014921898075,0.252157618714697,0.25347017586536014,0.2548267267047997,0.2559887694405144,0.2566762997375786,0.256575492104657,0.255348298963932,0.25264402764959015,0.24811283911536614,0.24142096714711753,0.23226729318028777,0.22040074178662336,0.20563779959612533,0.18787932061729182,0.16712567793535366,0.14348926836260514,0.11720338291232232,0.08862652853638416,0.058241427706856384,0.026648129724923395,-0.005449066140771361,-0.03726086233570953,-0.06793803188546253,-0.09660159075517502,-0.12237701362727325,-0.14443111863131364,-0.16200998595397612,-0.17447608825271163,-0.18134271385500067,-0.18230376872794093,-0.17725715646546372,-0.16632015713858264,-0.14983554931501694,-0.1283676319466868,-0.10268778525178764,-0.07374973820785838,-0.042655257000177006],[0.013454008098850966,-0.017859822184363938,-0.04916880920228074,-0.07929019757294747,-0.10711012813756442,-0.1316269478872783,-0.15198770280837584,-0.16751643729146143,-0.17773339606034183,-0.18236471957976835,-0.18134271385500067,-0.1747972342928682,-0.16303912773542587,-0.14653700801271363,-0.1258888846262905,-0.10179031338845618,-0.0750007897964791,-0.046310064114579955,-0.016505930263581485,0.013655158230898757,0.043473546354522816,0.07232710218505171,0.09968670899986165,0.12512633286074154,0.14832776112580212,0.16908036038891633,0.18727640924644018,0.20290271423033404,0.21602931256266372,0.22679610352037188,0.23539823538075702,0.2420710146043941,0.24707500803079696,0.2506818889186662,0.2531614457800734,0.25477004091850136,0.2557406839380664,0.2562747828163765,0.25653555744366946,0.2566430509401283,0.2566706526738519,0.2566430509401283,0.25653555744366946,0.2562747828163765,0.2557406839380664,0.25477004091850136,0.2531614457800734,0.2506818889186662,0.24707500803079696,0.2420710146043941,0.23539823538075702,0.22679610352037188,0.21602931256266372,0.20290271423033404,0.18727640924644018,0.16908036038891633,0.14832776112580212,0.12512633286074154,0.09968670899986165,0.07232710218505171,0.043473546354522816,0.013655158230898757,-0.016505930263581485,-0.046310064114579955,-0.0750007897964791,-0.10179031338845618,-0.1258888846262905,-0.14653700801271363,-0.16303912773542587,-0.1747972342928682,-0.18134271385500067,-0.18236471957976835,-0.17773339606034183,-0.16751643729146143,-0.15198770280837584,-0.1316269478872783,-0.10711012813756442,-0.07929019757294747,-0.04916880920228074,-0.017859822184363938],[0.037104384846577534,0.007233082355737275,-0.023527608249201665,-0.054043516875550875,-0.08321475815193494,-0.11001880232017779,-0.13354819579908725,-0.15304146672549196,-0.167906160972842,-0.17773339606034183,-0.18230376872794093,-0.18158488243001691,-0.17572115154133375,-0.16501687105976595,-0.1499137997580331,-0.13096468174943518,-0.10880422217787396,-0.08411903827788304,-0.05761803324395176,-0.030004497243790427,-0.001951040868825416,0.025921773001301992,0.05306249567952219,0.07900122348247962,0.10335731863015635,0.1258425822940911,0.14626024334832619,0.16450028494360933,0.18053174205108255,0.1943926655354523,0.2061784643801796,0.21602931256266372,0.22411724822563847,0.23063350923189954,0.23577655069724138,0.23974108638511749,0.242708395806646,0.24483804991090946,0.24626113579560338,0.24707500803079696,0.24733956165584545,0.24707500803079696,0.24626113579560338,0.24483804991090946,0.242708395806646,0.23974108638511749,0.23577655069724138,0.23063350923189954,0.22411724822563847,0.21602931256266372,0.2061784643801796,0.1943926655354523,0.18053174205108255,0.16450028494360933,0.14626024334832619,0.1258425822940911,0.10335731863015635,0.07900122348247962,0.05306249567952219,0.025921773001301992,-0.001951040868825416,-0.030004497243790427,-0.05761803324395176,-0.08411903827788304,-0.10880422217787396,-0.13096468174943518,-0.1499137997580331,-0.16501687105976595,-0.17572115154133375,-0.18158488243001691,-0.18230376872794093,-0.17773339606034183,-0.167906160972842,-0.15304146672549196,-0.13354819579908725,-0.11001880232017779,-0.08321475815193494,-0.054043516875550875,-0.023527608249201665,0.007233082355737275],[0.059725017515438364,0.03197958453286062,0.0025207381574719806,-0.027588123185645037,-0.0572857273340844,-0.08555491563889543,-0.1114606806231028,-0.13418273806183595,-0.15304146672549196,-0.16751643729146143,-0.17725715646546372,-0.18208605074549258,-0.18199408570471504,-0.17712974307464055,-0.16778234479339135,-0.1543609103022869,-0.13736985507049018,-0.11738288358628372,-0.0950164022704569,-0.07090368426500879,-0.045670869380806056,-0.019915691575644292,0.0058103924762656495,0.031016232090896562,0.05528095770522729,0.07825990831739421,0.09968670899986165,0.11937185506223688,0.13719827990417027,0.15311446345017118,0.16712567793535366,0.1792839709402817,0.18967745729212915,0.19841943861188654,0.20563779959612533,0.21146505144444128,0.21602931256266372,0.21944644111666822,0.22181346801290225,0.2232034254780841,0.22366162672468853,0.2232034254780841,0.22181346801290225,0.21944644111666822,0.21602931256266372,0.21146505144444128,0.20563779959612533,0.19841943861188654,0.18967745729212915,0.1792839709402817,0.16712567793535366,0.15311446345017118,0.13719827990417027,0.11937185506223688,0.09968670899986165,0.07825990831739421,0.05528095770522729,0.031016232090896562,0.0058103924762656495,-0.019915691575644292,-0.045670869380806056,-0.07090368426500879,-0.0950164022704569,-0.11738288358628372,-0.13736985507049018,-0.1543609103022869,-0.16778234479339135,-0.17712974307464055,-0.18199408570471504,-0.18208605074549258,-0.17725715646546372,-0.16751643729146143,-0.15304146672549196,-0.13418273806183595,-0.1114606806231028,-0.08555491563889543,-0.0572857273340844,-0.027588123185645037,0.0025207381574719806,0.03197958453286062],[0.08069235790121831,0.05570574218106777,0.028270310898122826,-0.0006409754282528475,-0.03002807965783915,-0.05890402451081101,-0.08633239590937543,-0.1114606806231028,-0.13354819579908725,-0.15198770280837584,-0.16632015713858264,-0.17624240938958516,-0.18160802037610754,-0.18242166855756492,-0.1788278960809016,-0.17109514979541934,-0.15959621882048483,-0.14478624788034108,-0.1271795169340972,-0.10732612754693129,-0.0857896329957062,-0.0631265026963309,-0.039868134180728126,-0.016505930263581485,0.0065202421682302655,0.02883009042098063,0.05010748884225075,0.07010183827093616,0.08862652853638416,0.10555493165712146,0.12081441070397907,0.13437885433763305,0.14626024334832619,0.15649972810645998,0.16515865057394133,0.17230988766358785,0.17802983029511174,0.18239124981424537,0.18545724476618586,0.18727640924644018,0.18787932061729182,0.18727640924644018,0.18545724476618586,0.18239124981424537,0.17802983029511174,0.17230988766358785,0.16515865057394133,0.15649972810645998,0.14626024334832619,0.13437885433763305,0.12081441070397907,0.10555493165712146,0.08862652853638416,0.07010183827093616,0.05010748884225075,0.02883009042098063,0.0065202421682302655,-0.016505930263581485,-0.039868134180728126,-0.0631265026963309,-0.0857896329957062,-0.10732612754693129,-0.1271795169340972,-0.14478624788034108,-0.15959621882048483,-0.17109514979541934,-0.1788278960809016,-0.18242166855756492,-0.18160802037610754,-0.17624240938958516,-0.16632015713858264,-0.15198770280837584,-0.13354819579908725,-0.1114606806231028,-0.08633239590937543,-0.05890402451081101,-0.03002807965783915,-0.0006409754282528475,0.028270310898122826,0.05570574218106777],[0.0993958462307399,0.07773008237271903,0.05298490441364873,0.026026147564044762,-0.0022274559793407315,-0.030841885736018544,-0.05890402451081101,-0.08555491563889543,-0.11001880232017779,-0.1316269478872783,-0.14983554931501694,-0.1642373823959323,-0.17456713788189782,-0.1807007071005138,-0.18264893898060253,-0.18054660691367944,-0.17463748569481502,-0.16525654180237792,-0.1528102839666787,-0.1377563081818195,-0.12058300781296416,-0.10179031338845618,-0.08187218787401292,-0.061301442485772274,-0.040517266401149735,-0.019915691575644292,0.0001569493213448689,0.019407660252202565,0.03759772656874239,0.054541276561040686,0.07010183827093616,0.08418731130237875,0.09674378883254962,0.10774865812501504,0.11720338291232232,0.12512633286074154,0.13154597877649798,0.13649472168344115,0.14000357308347133,0.14209785531573388,0.14279404657238684,0.14209785531573388,0.14000357308347133,0.13649472168344115,0.13154597877649798,0.12512633286074154,0.11720338291232232,0.10774865812501504,0.09674378883254962,0.08418731130237875,0.07010183827093616,0.054541276561040686,0.03759772656874239,0.019407660252202565,0.0001569493213448689,-0.019915691575644292,-0.040517266401149735,-0.061301442485772274,-0.08187218787401292,-0.10179031338845618,-0.12058300781296416,-0.1377563081818195,-0.1528102839666787,-0.16525654180237792,-0.17463748569481502,-0.18054660691367944,-0.18264893898060253,-0.1807007071005138,-0.17456713788189782,-0.1642373823959323,-0.14983554931501694,-0.1316269478872783,-0.11001880232017779,-0.08555491563889543,-0.05890402451081101,-0.030841885736018544,-0.0022274559793407315,0.026026147564044762,0.05298490441364873,0.07773008237271903],[0.11526115097856117,0.09738828403656238,0.0759235678781371,0.05161237775613617,0.025275083284098894,-0.0022274559793407315,-0.03002807965783915,-0.0572857273340844,-0.08321475815193494,-0.10711012813756442,-0.1283676319466868,-0.1464987033293174,-0.16113955966514656,-0.17205475511311313,-0.17913546063850083,-0.18239300622958532,-0.18194839266053625,-0.17801860199902664,-0.17090060569317098,-0.1609539875623888,-0.14858307017251748,-0.13421936300715656,-0.11830504740258321,-0.10127808535368477,-0.08355939645450051,-0.06554239869174844,-0.04758506314163741,-0.030004497243790427,-0.013073952151520388,0.0029779491154211806,0.017966041941118966,0.031745840459068614,0.044209509361482956,0.05528095770522729,0.0649104168254659,0.07306884206017318,0.07974244535617742,0.08492762656935865,0.08862652853638416,0.09084339726921295,0.09158188560927924,0.09084339726921295,0.08862652853638416,0.08492762656935865,0.07974244535617742,0.07306884206017318,0.0649104168254659,0.05528095770522729,0.044209509361482956,0.031745840459068614,0.017966041941118966,0.0029779491154211806,-0.013073952151520388,-0.030004497243790427,-0.04758506314163741,-0.06554239869174844,-0.08355939645450051,-0.10127808535368477,-0.11830504740258321,-0.13421936300715656,-0.14858307017251748,-0.1609539875623888,-0.17090060569317098,-0.17801860199902664,-0.18194839266053625,-0.18239300622958532,-0.17913546063850083,-0.17205475511311313,-0.16113955966514656,-0.1464987033293174,-0.1283676319466868,-0.10711012813756442,-0.08321475815193494,-0.0572857273340844,-0.03002807965783915,-0.0022274559793407315,0.025275083284098894,0.05161237775613617,0.0759235678781371,0.09738828403656238],[0.12777380562398274,0.11405907878471819,0.09636827159298987,0.07531659368730659,0.05161237775613617,0.026026147564044762,-0.0006409754282528475,-0.027588123185645037,-0.054043516875550875,-0.07929019757294747,-0.10268778525178764,-0.12368964794720452,-0.14185512230149663,-0.15685668268767797,-0.16848219583369567,-0.17663261032673944,-0.18131560690315682,-0.1826358700412797,-0.18078273088932142,-0.1760159755489718,-0.16865061331126227,-0.15904136091487175,-0.14756752732225356,-0.13461888616197776,-0.12058300781296416,-0.10583439818051152,-0.0907256642328181,-0.07558080422426758,-0.060690608986011814,-0.046310064114579955,-0.032657564269347995,-0.019915691575644292,-0.00823327044894154,0.0022716100207446164,0.011507919583092052,0.019407660252202565,0.025921773001301992,0.031016232090896562,0.03466854669458865,0.03686485131708162,0.03759772656874239,0.03686485131708162,0.03466854669458865,0.031016232090896562,0.025921773001301992,0.019407660252202565,0.011507919583092052,0.0022716100207446164,-0.00823327044894154,-0.019915691575644292,-0.032657564269347995,-0.046310064114579955,-0.060690608986011814,-0.07558080422426758,-0.0907256642328181,-0.10583439818051152,-0.12058300781296416,-0.13461888616197776,-0.14756752732225356,-0.15904136091487175,-0.16865061331126227,-0.1760159755489718,-0.18078273088932142,-0.1826358700412797,-0.18131560690315682,-0.17663261032673944,-0.16848219583369567,-0.15685668268767797,-0.14185512230149663,-0.12368964794720452,-0.10268778525178764,-0.07929019757294747,-0.054043516875550875,-0.027588123185645037,-0.0006409754282528475,0.026026147564044762,0.05161237775613617,0.07531659368730659,0.09636827159298987,0.11405907878471819],[0.13650222610828716,0.12719030582037316,0.1136526088802527,0.09636827159298987,0.0759235678781371,0.05298490441364873,0.028270310898122826,0.0025207381574719806,-0.023527608249201665,-0.04916880920228074,-0.07374973820785838,-0.09668883252747353,-0.11749065565570795,-0.13575600794040762,-0.1511875643863488,-0.163591222139663,-0.17287351607260817,-0.17903560277058095,-0.1821644169794075,-0.18242166855756492,-0.1800313728705813,-0.1752665961050691,-0.16843605361995675,-0.15987112992755653,-0.1499137997580331,-0.13890582780165694,-0.1271795169340972,-0.11505016730310495,-0.10281030706494565,-0.0907256642328181,-0.07903277128303789,-0.06793803188546253,-0.05761803324395176,-0.04822085787410071,-0.039868134180728126,-0.032657564269347995,-0.026665677985416577,-0.021950582012676394,-0.01855449981019833,-0.016505930263581485,-0.015821288518275644,-0.016505930263581485,-0.01855449981019833,-0.021950582012676394,-0.026665677985416577,-0.032657564269347995,-0.039868134180728126,-0.04822085787410071,-0.05761803324395176,-0.06793803188546253,-0.07903277128303789,-0.0907256642328181,-0.10281030706494565,-0.11505016730310495,-0.1271795169340972,-0.13890582780165694,-0.1499137997580331,-0.15987112992755653,-0.16843605361995675,-0.1752665961050691,-0.1800313728705813,-0.18242166855756492,-0.1821644169794075,-0.17903560277058095,-0.17287351607260817,-0.163591222139663,-0.1511875643863488,-0.13575600794040762,-0.11749065565570795,-0.09668883252747353,-0.07374973820785838,-0.04916880920228074,-0.023527608249201665,0.0025207381574719806,0.028270310898122826,0.05298490441364873,0.0759235678781371,0.09636827159298987,0.1136526088802527,0.12719030582037316],[0.14111903500315878,0.13632396086944565,0.12719030582037316,0.11405907878471819,0.09738828403656238,0.07773008237271903,0.05570574218106777,0.03197958453286062,0.007233082355737275,-0.017859822184363938,-0.042655257000177006,-0.06655906279410359,-0.08904297911487404,-0.10965701691843574,-0.12803786284735597,-0.14391335124448024,-0.15710321083861073,-0.16751643729146143,-0.1751457556394694,-0.1800597155006458,-0.18239300622958532,-0.18233559039097344,-0.18012123502583363,-0.1760159755489718,-0.17030698199702413,-0.16329221750830802,-0.15527119023634722,-0.14653700801271363,-0.13736985507049018,-0.12803192632998142,-0.11876378051842666,-0.10978201113265723,-0.10127808535368477,-0.09341816596346665,-0.08634370978474622,-0.08017262722723162,-0.0750007897964791,-0.07090368426500879,-0.06793803188546253,-0.06614321685638791,-0.06554239869174844,-0.06614321685638791,-0.06793803188546253,-0.07090368426500879,-0.0750007897964791,-0.08017262722723162,-0.08634370978474622,-0.09341816596346665,-0.10127808535368477,-0.10978201113265723,-0.11876378051842666,-0.12803192632998142,-0.13736985507049018,-0.14653700801271363,-0.15527119023634722,-0.16329221750830802,-0.17030698199702413,-0.1760159755489718,-0.18012123502583363,-0.18233559039097344,-0.18239300622958532,-0.1800597155006458,-0.1751457556394694,-0.16751643729146143,-0.15710321083861073,-0.14391335124448024,-0.12803786284735597,-0.10965701691843574,-0.08904297911487404,-0.06655906279410359,-0.042655257000177006,-0.017859822184363938,0.007233082355737275,0.03197958453286062,0.05570574218106777,0.07773008237271903,0.09738828403656238,0.11405907878471819,0.12719030582037316,0.13632396086944565]],\"type\":\"surface\"}],                        {\"legend\":{\"bgcolor\":\"#151516\",\"font\":{\"color\":\"#D9D9D9\"}},\"paper_bgcolor\":\"#151516\",\"plot_bgcolor\":\"#151516\",\"template\":{\"data\":{\"barpolar\":[{\"marker\":{\"line\":{\"color\":\"#E5ECF6\",\"width\":0.5},\"pattern\":{\"fillmode\":\"overlay\",\"size\":10,\"solidity\":0.2}},\"type\":\"barpolar\"}],\"bar\":[{\"error_x\":{\"color\":\"#2a3f5f\"},\"error_y\":{\"color\":\"#2a3f5f\"},\"marker\":{\"line\":{\"color\":\"#E5ECF6\",\"width\":0.5},\"pattern\":{\"fillmode\":\"overlay\",\"size\":10,\"solidity\":0.2}},\"type\":\"bar\"}],\"carpet\":[{\"aaxis\":{\"endlinecolor\":\"#2a3f5f\",\"gridcolor\":\"white\",\"linecolor\":\"white\",\"minorgridcolor\":\"white\",\"startlinecolor\":\"#2a3f5f\"},\"baxis\":{\"endlinecolor\":\"#2a3f5f\",\"gridcolor\":\"white\",\"linecolor\":\"white\",\"minorgridcolor\":\"white\",\"startlinecolor\":\"#2a3f5f\"},\"type\":\"carpet\"}],\"choropleth\":[{\"colorbar\":{\"outlinewidth\":0,\"ticks\":\"\"},\"type\":\"choropleth\"}],\"contourcarpet\":[{\"colorbar\":{\"outlinewidth\":0,\"ticks\":\"\"},\"type\":\"contourcarpet\"}],\"contour\":[{\"colorbar\":{\"outlinewidth\":0,\"ticks\":\"\"},\"colorscale\":[[0.0,\"#0d0887\"],[0.1111111111111111,\"#46039f\"],[0.2222222222222222,\"#7201a8\"],[0.3333333333333333,\"#9c179e\"],[0.4444444444444444,\"#bd3786\"],[0.5555555555555556,\"#d8576b\"],[0.6666666666666666,\"#ed7953\"],[0.7777777777777778,\"#fb9f3a\"],[0.8888888888888888,\"#fdca26\"],[1.0,\"#f0f921\"]],\"type\":\"contour\"}],\"heatmapgl\":[{\"colorbar\":{\"outlinewidth\":0,\"ticks\":\"\"},\"colorscale\":[[0.0,\"#0d0887\"],[0.1111111111111111,\"#46039f\"],[0.2222222222222222,\"#7201a8\"],[0.3333333333333333,\"#9c179e\"],[0.4444444444444444,\"#bd3786\"],[0.5555555555555556,\"#d8576b\"],[0.6666666666666666,\"#ed7953\"],[0.7777777777777778,\"#fb9f3a\"],[0.8888888888888888,\"#fdca26\"],[1.0,\"#f0f921\"]],\"type\":\"heatmapgl\"}],\"heatmap\":[{\"colorbar\":{\"outlinewidth\":0,\"ticks\":\"\"},\"colorscale\":[[0.0,\"#0d0887\"],[0.1111111111111111,\"#46039f\"],[0.2222222222222222,\"#7201a8\"],[0.3333333333333333,\"#9c179e\"],[0.4444444444444444,\"#bd3786\"],[0.5555555555555556,\"#d8576b\"],[0.6666666666666666,\"#ed7953\"],[0.7777777777777778,\"#fb9f3a\"],[0.8888888888888888,\"#fdca26\"],[1.0,\"#f0f921\"]],\"type\":\"heatmap\"}],\"histogram2dcontour\":[{\"colorbar\":{\"outlinewidth\":0,\"ticks\":\"\"},\"colorscale\":[[0.0,\"#0d0887\"],[0.1111111111111111,\"#46039f\"],[0.2222222222222222,\"#7201a8\"],[0.3333333333333333,\"#9c179e\"],[0.4444444444444444,\"#bd3786\"],[0.5555555555555556,\"#d8576b\"],[0.6666666666666666,\"#ed7953\"],[0.7777777777777778,\"#fb9f3a\"],[0.8888888888888888,\"#fdca26\"],[1.0,\"#f0f921\"]],\"type\":\"histogram2dcontour\"}],\"histogram2d\":[{\"colorbar\":{\"outlinewidth\":0,\"ticks\":\"\"},\"colorscale\":[[0.0,\"#0d0887\"],[0.1111111111111111,\"#46039f\"],[0.2222222222222222,\"#7201a8\"],[0.3333333333333333,\"#9c179e\"],[0.4444444444444444,\"#bd3786\"],[0.5555555555555556,\"#d8576b\"],[0.6666666666666666,\"#ed7953\"],[0.7777777777777778,\"#fb9f3a\"],[0.8888888888888888,\"#fdca26\"],[1.0,\"#f0f921\"]],\"type\":\"histogram2d\"}],\"histogram\":[{\"marker\":{\"pattern\":{\"fillmode\":\"overlay\",\"size\":10,\"solidity\":0.2}},\"type\":\"histogram\"}],\"mesh3d\":[{\"colorbar\":{\"outlinewidth\":0,\"ticks\":\"\"},\"type\":\"mesh3d\"}],\"parcoords\":[{\"line\":{\"colorbar\":{\"outlinewidth\":0,\"ticks\":\"\"}},\"type\":\"parcoords\"}],\"pie\":[{\"automargin\":true,\"type\":\"pie\"}],\"scatter3d\":[{\"line\":{\"colorbar\":{\"outlinewidth\":0,\"ticks\":\"\"}},\"marker\":{\"colorbar\":{\"outlinewidth\":0,\"ticks\":\"\"}},\"type\":\"scatter3d\"}],\"scattercarpet\":[{\"marker\":{\"colorbar\":{\"outlinewidth\":0,\"ticks\":\"\"}},\"type\":\"scattercarpet\"}],\"scattergeo\":[{\"marker\":{\"colorbar\":{\"outlinewidth\":0,\"ticks\":\"\"}},\"type\":\"scattergeo\"}],\"scattergl\":[{\"marker\":{\"colorbar\":{\"outlinewidth\":0,\"ticks\":\"\"}},\"type\":\"scattergl\"}],\"scattermapbox\":[{\"marker\":{\"colorbar\":{\"outlinewidth\":0,\"ticks\":\"\"}},\"type\":\"scattermapbox\"}],\"scatterpolargl\":[{\"marker\":{\"colorbar\":{\"outlinewidth\":0,\"ticks\":\"\"}},\"type\":\"scatterpolargl\"}],\"scatterpolar\":[{\"marker\":{\"colorbar\":{\"outlinewidth\":0,\"ticks\":\"\"}},\"type\":\"scatterpolar\"}],\"scatter\":[{\"fillpattern\":{\"fillmode\":\"overlay\",\"size\":10,\"solidity\":0.2},\"type\":\"scatter\"}],\"scatterternary\":[{\"marker\":{\"colorbar\":{\"outlinewidth\":0,\"ticks\":\"\"}},\"type\":\"scatterternary\"}],\"surface\":[{\"colorbar\":{\"outlinewidth\":0,\"ticks\":\"\"},\"colorscale\":[[0.0,\"#0d0887\"],[0.1111111111111111,\"#46039f\"],[0.2222222222222222,\"#7201a8\"],[0.3333333333333333,\"#9c179e\"],[0.4444444444444444,\"#bd3786\"],[0.5555555555555556,\"#d8576b\"],[0.6666666666666666,\"#ed7953\"],[0.7777777777777778,\"#fb9f3a\"],[0.8888888888888888,\"#fdca26\"],[1.0,\"#f0f921\"]],\"type\":\"surface\"}],\"table\":[{\"cells\":{\"fill\":{\"color\":\"#EBF0F8\"},\"line\":{\"color\":\"white\"}},\"header\":{\"fill\":{\"color\":\"#C8D4E3\"},\"line\":{\"color\":\"white\"}},\"type\":\"table\"}]},\"layout\":{\"annotationdefaults\":{\"arrowcolor\":\"#2a3f5f\",\"arrowhead\":0,\"arrowwidth\":1},\"autotypenumbers\":\"strict\",\"coloraxis\":{\"colorbar\":{\"outlinewidth\":0,\"ticks\":\"\"}},\"colorscale\":{\"diverging\":[[0,\"#8e0152\"],[0.1,\"#c51b7d\"],[0.2,\"#de77ae\"],[0.3,\"#f1b6da\"],[0.4,\"#fde0ef\"],[0.5,\"#f7f7f7\"],[0.6,\"#e6f5d0\"],[0.7,\"#b8e186\"],[0.8,\"#7fbc41\"],[0.9,\"#4d9221\"],[1,\"#276419\"]],\"sequential\":[[0.0,\"#0d0887\"],[0.1111111111111111,\"#46039f\"],[0.2222222222222222,\"#7201a8\"],[0.3333333333333333,\"#9c179e\"],[0.4444444444444444,\"#bd3786\"],[0.5555555555555556,\"#d8576b\"],[0.6666666666666666,\"#ed7953\"],[0.7777777777777778,\"#fb9f3a\"],[0.8888888888888888,\"#fdca26\"],[1.0,\"#f0f921\"]],\"sequentialminus\":[[0.0,\"#0d0887\"],[0.1111111111111111,\"#46039f\"],[0.2222222222222222,\"#7201a8\"],[0.3333333333333333,\"#9c179e\"],[0.4444444444444444,\"#bd3786\"],[0.5555555555555556,\"#d8576b\"],[0.6666666666666666,\"#ed7953\"],[0.7777777777777778,\"#fb9f3a\"],[0.8888888888888888,\"#fdca26\"],[1.0,\"#f0f921\"]]},\"colorway\":[\"#636efa\",\"#EF553B\",\"#00cc96\",\"#ab63fa\",\"#FFA15A\",\"#19d3f3\",\"#FF6692\",\"#B6E880\",\"#FF97FF\",\"#FECB52\"],\"font\":{\"color\":\"#2a3f5f\"},\"geo\":{\"bgcolor\":\"white\",\"lakecolor\":\"white\",\"landcolor\":\"#E5ECF6\",\"showlakes\":true,\"showland\":true,\"subunitcolor\":\"white\"},\"hoverlabel\":{\"align\":\"left\"},\"hovermode\":\"closest\",\"mapbox\":{\"style\":\"light\"},\"paper_bgcolor\":\"white\",\"plot_bgcolor\":\"#E5ECF6\",\"polar\":{\"angularaxis\":{\"gridcolor\":\"white\",\"linecolor\":\"white\",\"ticks\":\"\"},\"bgcolor\":\"#E5ECF6\",\"radialaxis\":{\"gridcolor\":\"white\",\"linecolor\":\"white\",\"ticks\":\"\"}},\"scene\":{\"xaxis\":{\"backgroundcolor\":\"#E5ECF6\",\"gridcolor\":\"white\",\"gridwidth\":2,\"linecolor\":\"white\",\"showbackground\":true,\"ticks\":\"\",\"zerolinecolor\":\"white\"},\"yaxis\":{\"backgroundcolor\":\"#E5ECF6\",\"gridcolor\":\"white\",\"gridwidth\":2,\"linecolor\":\"white\",\"showbackground\":true,\"ticks\":\"\",\"zerolinecolor\":\"white\"},\"zaxis\":{\"backgroundcolor\":\"#E5ECF6\",\"gridcolor\":\"white\",\"gridwidth\":2,\"linecolor\":\"white\",\"showbackground\":true,\"ticks\":\"\",\"zerolinecolor\":\"white\"}},\"shapedefaults\":{\"line\":{\"color\":\"#2a3f5f\"}},\"ternary\":{\"aaxis\":{\"gridcolor\":\"white\",\"linecolor\":\"white\",\"ticks\":\"\"},\"baxis\":{\"gridcolor\":\"white\",\"linecolor\":\"white\",\"ticks\":\"\"},\"bgcolor\":\"#E5ECF6\",\"caxis\":{\"gridcolor\":\"white\",\"linecolor\":\"white\",\"ticks\":\"\"}},\"title\":{\"x\":0.05},\"xaxis\":{\"automargin\":true,\"gridcolor\":\"white\",\"linecolor\":\"white\",\"ticks\":\"\",\"title\":{\"standoff\":15},\"zerolinecolor\":\"white\",\"zerolinewidth\":2},\"yaxis\":{\"automargin\":true,\"gridcolor\":\"white\",\"linecolor\":\"white\",\"ticks\":\"\",\"title\":{\"standoff\":15},\"zerolinecolor\":\"white\",\"zerolinewidth\":2}}},\"title\":{\"font\":{\"color\":\"#D9D9D9\"}},\"xaxis\":{\"gridcolor\":\"#434343\",\"showgrid\":true,\"tickfont\":{\"color\":\"#C2C2C2\"},\"title\":{\"font\":{\"color\":\"#D9D9D9\"},\"text\":\"\"},\"zerolinecolor\":\"#666570\"},\"yaxis\":{\"gridcolor\":\"#434343\",\"showgrid\":true,\"tickfont\":{\"color\":\"#C2C2C2\"},\"title\":{\"font\":{\"color\":\"#D9D9D9\"},\"text\":\"\"},\"zerolinecolor\":\"#666570\"}},                        {\"showLink\": true, \"linkText\": \"Export to plot.ly\", \"plotlyServerURL\": \"https://plot.ly\", \"responsive\": true}                    ).then(function(){\n",
       "                            \n",
       "var gd = document.getElementById('93843e73-41dd-4e0f-b622-b292fd846b99');\n",
       "var x = new MutationObserver(function (mutations, observer) {{\n",
       "        var display = window.getComputedStyle(gd).display;\n",
       "        if (!display || display === 'none') {{\n",
       "            console.log([gd, 'removed!']);\n",
       "            Plotly.purge(gd);\n",
       "            observer.disconnect();\n",
       "        }}\n",
       "}});\n",
       "\n",
       "// Listen for the removal of the full notebook cells\n",
       "var notebookContainer = gd.closest('#notebook-container');\n",
       "if (notebookContainer) {{\n",
       "    x.observe(notebookContainer, {childList: true});\n",
       "}}\n",
       "\n",
       "// Listen for the clearing of the current output cell\n",
       "var outputEl = gd.closest('.output');\n",
       "if (outputEl) {{\n",
       "    x.observe(outputEl, {childList: true});\n",
       "}}\n",
       "\n",
       "                        })                };                });            </script>        </div>"
      ]
     },
     "metadata": {},
     "output_type": "display_data"
    }
   ],
   "source": [
    "cf.datagen.sinwave(10,0.25).iplot(kind='surface')"
   ]
  },
  {
   "cell_type": "code",
   "execution_count": null,
   "id": "c3ce6a29",
   "metadata": {},
   "outputs": [],
   "source": []
  }
 ],
 "metadata": {
  "kernelspec": {
   "display_name": "Python 3 (ipykernel)",
   "language": "python",
   "name": "python3"
  },
  "language_info": {
   "codemirror_mode": {
    "name": "ipython",
    "version": 3
   },
   "file_extension": ".py",
   "mimetype": "text/x-python",
   "name": "python",
   "nbconvert_exporter": "python",
   "pygments_lexer": "ipython3",
   "version": "3.9.13"
  }
 },
 "nbformat": 4,
 "nbformat_minor": 5
}
