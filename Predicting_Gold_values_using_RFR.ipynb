{
  "nbformat": 4,
  "nbformat_minor": 0,
  "metadata": {
    "colab": {
      "provenance": []
    },
    "kernelspec": {
      "name": "python3",
      "display_name": "Python 3"
    },
    "language_info": {
      "name": "python"
    }
  },
  "cells": [
    {
      "cell_type": "code",
      "execution_count": 63,
      "metadata": {
        "id": "0WaK4ennJEUR"
      },
      "outputs": [],
      "source": [
        "import numpy as np\n",
        "import matplotlib.pyplot as plt\n",
        "import pandas as pd"
      ]
    },
    {
      "cell_type": "code",
      "source": [
        "gold_dataset=pd.read_csv('gld_price_data.csv')\n",
        "x=gold_dataset.iloc[:,1:-1].values\n",
        "y=gold_dataset.iloc[:,-1].values"
      ],
      "metadata": {
        "id": "mW-fqyRiLFSF"
      },
      "execution_count": 64,
      "outputs": []
    },
    {
      "cell_type": "code",
      "source": [
        "gold_dataset.head()"
      ],
      "metadata": {
        "colab": {
          "base_uri": "https://localhost:8080/",
          "height": 206
        },
        "id": "1E068hjMLXf_",
        "outputId": "e8f22016-3877-4b47-b686-b5eea9863306"
      },
      "execution_count": 65,
      "outputs": [
        {
          "output_type": "execute_result",
          "data": {
            "text/plain": [
              "       Date          SPX        GLD        USO     SLV   EUR/USD\n",
              "0  1/2/2008  1447.160034  84.860001  78.470001  15.180  1.471692\n",
              "1  1/3/2008  1447.160034  85.570000  78.370003  15.285  1.474491\n",
              "2  1/4/2008  1411.630005  85.129997  77.309998  15.167  1.475492\n",
              "3  1/7/2008  1416.180054  84.769997  75.500000  15.053  1.468299\n",
              "4  1/8/2008  1390.189941  86.779999  76.059998  15.590  1.557099"
            ],
            "text/html": [
              "\n",
              "  <div id=\"df-25b58df7-4fb4-47c4-8225-1caa568a875e\">\n",
              "    <div class=\"colab-df-container\">\n",
              "      <div>\n",
              "<style scoped>\n",
              "    .dataframe tbody tr th:only-of-type {\n",
              "        vertical-align: middle;\n",
              "    }\n",
              "\n",
              "    .dataframe tbody tr th {\n",
              "        vertical-align: top;\n",
              "    }\n",
              "\n",
              "    .dataframe thead th {\n",
              "        text-align: right;\n",
              "    }\n",
              "</style>\n",
              "<table border=\"1\" class=\"dataframe\">\n",
              "  <thead>\n",
              "    <tr style=\"text-align: right;\">\n",
              "      <th></th>\n",
              "      <th>Date</th>\n",
              "      <th>SPX</th>\n",
              "      <th>GLD</th>\n",
              "      <th>USO</th>\n",
              "      <th>SLV</th>\n",
              "      <th>EUR/USD</th>\n",
              "    </tr>\n",
              "  </thead>\n",
              "  <tbody>\n",
              "    <tr>\n",
              "      <th>0</th>\n",
              "      <td>1/2/2008</td>\n",
              "      <td>1447.160034</td>\n",
              "      <td>84.860001</td>\n",
              "      <td>78.470001</td>\n",
              "      <td>15.180</td>\n",
              "      <td>1.471692</td>\n",
              "    </tr>\n",
              "    <tr>\n",
              "      <th>1</th>\n",
              "      <td>1/3/2008</td>\n",
              "      <td>1447.160034</td>\n",
              "      <td>85.570000</td>\n",
              "      <td>78.370003</td>\n",
              "      <td>15.285</td>\n",
              "      <td>1.474491</td>\n",
              "    </tr>\n",
              "    <tr>\n",
              "      <th>2</th>\n",
              "      <td>1/4/2008</td>\n",
              "      <td>1411.630005</td>\n",
              "      <td>85.129997</td>\n",
              "      <td>77.309998</td>\n",
              "      <td>15.167</td>\n",
              "      <td>1.475492</td>\n",
              "    </tr>\n",
              "    <tr>\n",
              "      <th>3</th>\n",
              "      <td>1/7/2008</td>\n",
              "      <td>1416.180054</td>\n",
              "      <td>84.769997</td>\n",
              "      <td>75.500000</td>\n",
              "      <td>15.053</td>\n",
              "      <td>1.468299</td>\n",
              "    </tr>\n",
              "    <tr>\n",
              "      <th>4</th>\n",
              "      <td>1/8/2008</td>\n",
              "      <td>1390.189941</td>\n",
              "      <td>86.779999</td>\n",
              "      <td>76.059998</td>\n",
              "      <td>15.590</td>\n",
              "      <td>1.557099</td>\n",
              "    </tr>\n",
              "  </tbody>\n",
              "</table>\n",
              "</div>\n",
              "      <button class=\"colab-df-convert\" onclick=\"convertToInteractive('df-25b58df7-4fb4-47c4-8225-1caa568a875e')\"\n",
              "              title=\"Convert this dataframe to an interactive table.\"\n",
              "              style=\"display:none;\">\n",
              "        \n",
              "  <svg xmlns=\"http://www.w3.org/2000/svg\" height=\"24px\"viewBox=\"0 0 24 24\"\n",
              "       width=\"24px\">\n",
              "    <path d=\"M0 0h24v24H0V0z\" fill=\"none\"/>\n",
              "    <path d=\"M18.56 5.44l.94 2.06.94-2.06 2.06-.94-2.06-.94-.94-2.06-.94 2.06-2.06.94zm-11 1L8.5 8.5l.94-2.06 2.06-.94-2.06-.94L8.5 2.5l-.94 2.06-2.06.94zm10 10l.94 2.06.94-2.06 2.06-.94-2.06-.94-.94-2.06-.94 2.06-2.06.94z\"/><path d=\"M17.41 7.96l-1.37-1.37c-.4-.4-.92-.59-1.43-.59-.52 0-1.04.2-1.43.59L10.3 9.45l-7.72 7.72c-.78.78-.78 2.05 0 2.83L4 21.41c.39.39.9.59 1.41.59.51 0 1.02-.2 1.41-.59l7.78-7.78 2.81-2.81c.8-.78.8-2.07 0-2.86zM5.41 20L4 18.59l7.72-7.72 1.47 1.35L5.41 20z\"/>\n",
              "  </svg>\n",
              "      </button>\n",
              "      \n",
              "  <style>\n",
              "    .colab-df-container {\n",
              "      display:flex;\n",
              "      flex-wrap:wrap;\n",
              "      gap: 12px;\n",
              "    }\n",
              "\n",
              "    .colab-df-convert {\n",
              "      background-color: #E8F0FE;\n",
              "      border: none;\n",
              "      border-radius: 50%;\n",
              "      cursor: pointer;\n",
              "      display: none;\n",
              "      fill: #1967D2;\n",
              "      height: 32px;\n",
              "      padding: 0 0 0 0;\n",
              "      width: 32px;\n",
              "    }\n",
              "\n",
              "    .colab-df-convert:hover {\n",
              "      background-color: #E2EBFA;\n",
              "      box-shadow: 0px 1px 2px rgba(60, 64, 67, 0.3), 0px 1px 3px 1px rgba(60, 64, 67, 0.15);\n",
              "      fill: #174EA6;\n",
              "    }\n",
              "\n",
              "    [theme=dark] .colab-df-convert {\n",
              "      background-color: #3B4455;\n",
              "      fill: #D2E3FC;\n",
              "    }\n",
              "\n",
              "    [theme=dark] .colab-df-convert:hover {\n",
              "      background-color: #434B5C;\n",
              "      box-shadow: 0px 1px 3px 1px rgba(0, 0, 0, 0.15);\n",
              "      filter: drop-shadow(0px 1px 2px rgba(0, 0, 0, 0.3));\n",
              "      fill: #FFFFFF;\n",
              "    }\n",
              "  </style>\n",
              "\n",
              "      <script>\n",
              "        const buttonEl =\n",
              "          document.querySelector('#df-25b58df7-4fb4-47c4-8225-1caa568a875e button.colab-df-convert');\n",
              "        buttonEl.style.display =\n",
              "          google.colab.kernel.accessAllowed ? 'block' : 'none';\n",
              "\n",
              "        async function convertToInteractive(key) {\n",
              "          const element = document.querySelector('#df-25b58df7-4fb4-47c4-8225-1caa568a875e');\n",
              "          const dataTable =\n",
              "            await google.colab.kernel.invokeFunction('convertToInteractive',\n",
              "                                                     [key], {});\n",
              "          if (!dataTable) return;\n",
              "\n",
              "          const docLinkHtml = 'Like what you see? Visit the ' +\n",
              "            '<a target=\"_blank\" href=https://colab.research.google.com/notebooks/data_table.ipynb>data table notebook</a>'\n",
              "            + ' to learn more about interactive tables.';\n",
              "          element.innerHTML = '';\n",
              "          dataTable['output_type'] = 'display_data';\n",
              "          await google.colab.output.renderOutput(dataTable, element);\n",
              "          const docLink = document.createElement('div');\n",
              "          docLink.innerHTML = docLinkHtml;\n",
              "          element.appendChild(docLink);\n",
              "        }\n",
              "      </script>\n",
              "    </div>\n",
              "  </div>\n",
              "  "
            ]
          },
          "metadata": {},
          "execution_count": 65
        }
      ]
    },
    {
      "cell_type": "code",
      "source": [
        "gold_dataset.tail()"
      ],
      "metadata": {
        "colab": {
          "base_uri": "https://localhost:8080/",
          "height": 206
        },
        "id": "qN7mAeMGqtug",
        "outputId": "f3c64e79-0a34-4fb3-fb78-a92d5eb8d06c"
      },
      "execution_count": 93,
      "outputs": [
        {
          "output_type": "execute_result",
          "data": {
            "text/plain": [
              "           Date          SPX         GLD      USO      SLV   EUR/USD\n",
              "2285   5/8/2018  2671.919922  124.589996  14.0600  15.5100  1.186789\n",
              "2286   5/9/2018  2697.790039  124.330002  14.3700  15.5300  1.184722\n",
              "2287  5/10/2018  2723.070068  125.180000  14.4100  15.7400  1.191753\n",
              "2288  5/14/2018  2730.129883  124.489998  14.3800  15.5600  1.193118\n",
              "2289  5/16/2018  2725.780029  122.543800  14.4058  15.4542  1.182033"
            ],
            "text/html": [
              "\n",
              "  <div id=\"df-fad8f824-e7c5-42e1-b287-bce98d9acb9a\">\n",
              "    <div class=\"colab-df-container\">\n",
              "      <div>\n",
              "<style scoped>\n",
              "    .dataframe tbody tr th:only-of-type {\n",
              "        vertical-align: middle;\n",
              "    }\n",
              "\n",
              "    .dataframe tbody tr th {\n",
              "        vertical-align: top;\n",
              "    }\n",
              "\n",
              "    .dataframe thead th {\n",
              "        text-align: right;\n",
              "    }\n",
              "</style>\n",
              "<table border=\"1\" class=\"dataframe\">\n",
              "  <thead>\n",
              "    <tr style=\"text-align: right;\">\n",
              "      <th></th>\n",
              "      <th>Date</th>\n",
              "      <th>SPX</th>\n",
              "      <th>GLD</th>\n",
              "      <th>USO</th>\n",
              "      <th>SLV</th>\n",
              "      <th>EUR/USD</th>\n",
              "    </tr>\n",
              "  </thead>\n",
              "  <tbody>\n",
              "    <tr>\n",
              "      <th>2285</th>\n",
              "      <td>5/8/2018</td>\n",
              "      <td>2671.919922</td>\n",
              "      <td>124.589996</td>\n",
              "      <td>14.0600</td>\n",
              "      <td>15.5100</td>\n",
              "      <td>1.186789</td>\n",
              "    </tr>\n",
              "    <tr>\n",
              "      <th>2286</th>\n",
              "      <td>5/9/2018</td>\n",
              "      <td>2697.790039</td>\n",
              "      <td>124.330002</td>\n",
              "      <td>14.3700</td>\n",
              "      <td>15.5300</td>\n",
              "      <td>1.184722</td>\n",
              "    </tr>\n",
              "    <tr>\n",
              "      <th>2287</th>\n",
              "      <td>5/10/2018</td>\n",
              "      <td>2723.070068</td>\n",
              "      <td>125.180000</td>\n",
              "      <td>14.4100</td>\n",
              "      <td>15.7400</td>\n",
              "      <td>1.191753</td>\n",
              "    </tr>\n",
              "    <tr>\n",
              "      <th>2288</th>\n",
              "      <td>5/14/2018</td>\n",
              "      <td>2730.129883</td>\n",
              "      <td>124.489998</td>\n",
              "      <td>14.3800</td>\n",
              "      <td>15.5600</td>\n",
              "      <td>1.193118</td>\n",
              "    </tr>\n",
              "    <tr>\n",
              "      <th>2289</th>\n",
              "      <td>5/16/2018</td>\n",
              "      <td>2725.780029</td>\n",
              "      <td>122.543800</td>\n",
              "      <td>14.4058</td>\n",
              "      <td>15.4542</td>\n",
              "      <td>1.182033</td>\n",
              "    </tr>\n",
              "  </tbody>\n",
              "</table>\n",
              "</div>\n",
              "      <button class=\"colab-df-convert\" onclick=\"convertToInteractive('df-fad8f824-e7c5-42e1-b287-bce98d9acb9a')\"\n",
              "              title=\"Convert this dataframe to an interactive table.\"\n",
              "              style=\"display:none;\">\n",
              "        \n",
              "  <svg xmlns=\"http://www.w3.org/2000/svg\" height=\"24px\"viewBox=\"0 0 24 24\"\n",
              "       width=\"24px\">\n",
              "    <path d=\"M0 0h24v24H0V0z\" fill=\"none\"/>\n",
              "    <path d=\"M18.56 5.44l.94 2.06.94-2.06 2.06-.94-2.06-.94-.94-2.06-.94 2.06-2.06.94zm-11 1L8.5 8.5l.94-2.06 2.06-.94-2.06-.94L8.5 2.5l-.94 2.06-2.06.94zm10 10l.94 2.06.94-2.06 2.06-.94-2.06-.94-.94-2.06-.94 2.06-2.06.94z\"/><path d=\"M17.41 7.96l-1.37-1.37c-.4-.4-.92-.59-1.43-.59-.52 0-1.04.2-1.43.59L10.3 9.45l-7.72 7.72c-.78.78-.78 2.05 0 2.83L4 21.41c.39.39.9.59 1.41.59.51 0 1.02-.2 1.41-.59l7.78-7.78 2.81-2.81c.8-.78.8-2.07 0-2.86zM5.41 20L4 18.59l7.72-7.72 1.47 1.35L5.41 20z\"/>\n",
              "  </svg>\n",
              "      </button>\n",
              "      \n",
              "  <style>\n",
              "    .colab-df-container {\n",
              "      display:flex;\n",
              "      flex-wrap:wrap;\n",
              "      gap: 12px;\n",
              "    }\n",
              "\n",
              "    .colab-df-convert {\n",
              "      background-color: #E8F0FE;\n",
              "      border: none;\n",
              "      border-radius: 50%;\n",
              "      cursor: pointer;\n",
              "      display: none;\n",
              "      fill: #1967D2;\n",
              "      height: 32px;\n",
              "      padding: 0 0 0 0;\n",
              "      width: 32px;\n",
              "    }\n",
              "\n",
              "    .colab-df-convert:hover {\n",
              "      background-color: #E2EBFA;\n",
              "      box-shadow: 0px 1px 2px rgba(60, 64, 67, 0.3), 0px 1px 3px 1px rgba(60, 64, 67, 0.15);\n",
              "      fill: #174EA6;\n",
              "    }\n",
              "\n",
              "    [theme=dark] .colab-df-convert {\n",
              "      background-color: #3B4455;\n",
              "      fill: #D2E3FC;\n",
              "    }\n",
              "\n",
              "    [theme=dark] .colab-df-convert:hover {\n",
              "      background-color: #434B5C;\n",
              "      box-shadow: 0px 1px 3px 1px rgba(0, 0, 0, 0.15);\n",
              "      filter: drop-shadow(0px 1px 2px rgba(0, 0, 0, 0.3));\n",
              "      fill: #FFFFFF;\n",
              "    }\n",
              "  </style>\n",
              "\n",
              "      <script>\n",
              "        const buttonEl =\n",
              "          document.querySelector('#df-fad8f824-e7c5-42e1-b287-bce98d9acb9a button.colab-df-convert');\n",
              "        buttonEl.style.display =\n",
              "          google.colab.kernel.accessAllowed ? 'block' : 'none';\n",
              "\n",
              "        async function convertToInteractive(key) {\n",
              "          const element = document.querySelector('#df-fad8f824-e7c5-42e1-b287-bce98d9acb9a');\n",
              "          const dataTable =\n",
              "            await google.colab.kernel.invokeFunction('convertToInteractive',\n",
              "                                                     [key], {});\n",
              "          if (!dataTable) return;\n",
              "\n",
              "          const docLinkHtml = 'Like what you see? Visit the ' +\n",
              "            '<a target=\"_blank\" href=https://colab.research.google.com/notebooks/data_table.ipynb>data table notebook</a>'\n",
              "            + ' to learn more about interactive tables.';\n",
              "          element.innerHTML = '';\n",
              "          dataTable['output_type'] = 'display_data';\n",
              "          await google.colab.output.renderOutput(dataTable, element);\n",
              "          const docLink = document.createElement('div');\n",
              "          docLink.innerHTML = docLinkHtml;\n",
              "          element.appendChild(docLink);\n",
              "        }\n",
              "      </script>\n",
              "    </div>\n",
              "  </div>\n",
              "  "
            ]
          },
          "metadata": {},
          "execution_count": 93
        }
      ]
    },
    {
      "cell_type": "code",
      "source": [
        "gold_dataset.describe()"
      ],
      "metadata": {
        "colab": {
          "base_uri": "https://localhost:8080/",
          "height": 300
        },
        "id": "UEUCQCfaLcKW",
        "outputId": "4d5c6b82-bd9c-4dcc-a711-8d4dd80b0bbf"
      },
      "execution_count": 66,
      "outputs": [
        {
          "output_type": "execute_result",
          "data": {
            "text/plain": [
              "               SPX          GLD          USO          SLV      EUR/USD\n",
              "count  2290.000000  2290.000000  2290.000000  2290.000000  2290.000000\n",
              "mean   1654.315776   122.732875    31.842221    20.084997     1.283653\n",
              "std     519.111540    23.283346    19.523517     7.092566     0.131547\n",
              "min     676.530029    70.000000     7.960000     8.850000     1.039047\n",
              "25%    1239.874969   109.725000    14.380000    15.570000     1.171313\n",
              "50%    1551.434998   120.580002    33.869999    17.268500     1.303297\n",
              "75%    2073.010070   132.840004    37.827501    22.882500     1.369971\n",
              "max    2872.870117   184.589996   117.480003    47.259998     1.598798"
            ],
            "text/html": [
              "\n",
              "  <div id=\"df-c65013d4-8c50-4a9f-ba9d-a0deddc5c72f\">\n",
              "    <div class=\"colab-df-container\">\n",
              "      <div>\n",
              "<style scoped>\n",
              "    .dataframe tbody tr th:only-of-type {\n",
              "        vertical-align: middle;\n",
              "    }\n",
              "\n",
              "    .dataframe tbody tr th {\n",
              "        vertical-align: top;\n",
              "    }\n",
              "\n",
              "    .dataframe thead th {\n",
              "        text-align: right;\n",
              "    }\n",
              "</style>\n",
              "<table border=\"1\" class=\"dataframe\">\n",
              "  <thead>\n",
              "    <tr style=\"text-align: right;\">\n",
              "      <th></th>\n",
              "      <th>SPX</th>\n",
              "      <th>GLD</th>\n",
              "      <th>USO</th>\n",
              "      <th>SLV</th>\n",
              "      <th>EUR/USD</th>\n",
              "    </tr>\n",
              "  </thead>\n",
              "  <tbody>\n",
              "    <tr>\n",
              "      <th>count</th>\n",
              "      <td>2290.000000</td>\n",
              "      <td>2290.000000</td>\n",
              "      <td>2290.000000</td>\n",
              "      <td>2290.000000</td>\n",
              "      <td>2290.000000</td>\n",
              "    </tr>\n",
              "    <tr>\n",
              "      <th>mean</th>\n",
              "      <td>1654.315776</td>\n",
              "      <td>122.732875</td>\n",
              "      <td>31.842221</td>\n",
              "      <td>20.084997</td>\n",
              "      <td>1.283653</td>\n",
              "    </tr>\n",
              "    <tr>\n",
              "      <th>std</th>\n",
              "      <td>519.111540</td>\n",
              "      <td>23.283346</td>\n",
              "      <td>19.523517</td>\n",
              "      <td>7.092566</td>\n",
              "      <td>0.131547</td>\n",
              "    </tr>\n",
              "    <tr>\n",
              "      <th>min</th>\n",
              "      <td>676.530029</td>\n",
              "      <td>70.000000</td>\n",
              "      <td>7.960000</td>\n",
              "      <td>8.850000</td>\n",
              "      <td>1.039047</td>\n",
              "    </tr>\n",
              "    <tr>\n",
              "      <th>25%</th>\n",
              "      <td>1239.874969</td>\n",
              "      <td>109.725000</td>\n",
              "      <td>14.380000</td>\n",
              "      <td>15.570000</td>\n",
              "      <td>1.171313</td>\n",
              "    </tr>\n",
              "    <tr>\n",
              "      <th>50%</th>\n",
              "      <td>1551.434998</td>\n",
              "      <td>120.580002</td>\n",
              "      <td>33.869999</td>\n",
              "      <td>17.268500</td>\n",
              "      <td>1.303297</td>\n",
              "    </tr>\n",
              "    <tr>\n",
              "      <th>75%</th>\n",
              "      <td>2073.010070</td>\n",
              "      <td>132.840004</td>\n",
              "      <td>37.827501</td>\n",
              "      <td>22.882500</td>\n",
              "      <td>1.369971</td>\n",
              "    </tr>\n",
              "    <tr>\n",
              "      <th>max</th>\n",
              "      <td>2872.870117</td>\n",
              "      <td>184.589996</td>\n",
              "      <td>117.480003</td>\n",
              "      <td>47.259998</td>\n",
              "      <td>1.598798</td>\n",
              "    </tr>\n",
              "  </tbody>\n",
              "</table>\n",
              "</div>\n",
              "      <button class=\"colab-df-convert\" onclick=\"convertToInteractive('df-c65013d4-8c50-4a9f-ba9d-a0deddc5c72f')\"\n",
              "              title=\"Convert this dataframe to an interactive table.\"\n",
              "              style=\"display:none;\">\n",
              "        \n",
              "  <svg xmlns=\"http://www.w3.org/2000/svg\" height=\"24px\"viewBox=\"0 0 24 24\"\n",
              "       width=\"24px\">\n",
              "    <path d=\"M0 0h24v24H0V0z\" fill=\"none\"/>\n",
              "    <path d=\"M18.56 5.44l.94 2.06.94-2.06 2.06-.94-2.06-.94-.94-2.06-.94 2.06-2.06.94zm-11 1L8.5 8.5l.94-2.06 2.06-.94-2.06-.94L8.5 2.5l-.94 2.06-2.06.94zm10 10l.94 2.06.94-2.06 2.06-.94-2.06-.94-.94-2.06-.94 2.06-2.06.94z\"/><path d=\"M17.41 7.96l-1.37-1.37c-.4-.4-.92-.59-1.43-.59-.52 0-1.04.2-1.43.59L10.3 9.45l-7.72 7.72c-.78.78-.78 2.05 0 2.83L4 21.41c.39.39.9.59 1.41.59.51 0 1.02-.2 1.41-.59l7.78-7.78 2.81-2.81c.8-.78.8-2.07 0-2.86zM5.41 20L4 18.59l7.72-7.72 1.47 1.35L5.41 20z\"/>\n",
              "  </svg>\n",
              "      </button>\n",
              "      \n",
              "  <style>\n",
              "    .colab-df-container {\n",
              "      display:flex;\n",
              "      flex-wrap:wrap;\n",
              "      gap: 12px;\n",
              "    }\n",
              "\n",
              "    .colab-df-convert {\n",
              "      background-color: #E8F0FE;\n",
              "      border: none;\n",
              "      border-radius: 50%;\n",
              "      cursor: pointer;\n",
              "      display: none;\n",
              "      fill: #1967D2;\n",
              "      height: 32px;\n",
              "      padding: 0 0 0 0;\n",
              "      width: 32px;\n",
              "    }\n",
              "\n",
              "    .colab-df-convert:hover {\n",
              "      background-color: #E2EBFA;\n",
              "      box-shadow: 0px 1px 2px rgba(60, 64, 67, 0.3), 0px 1px 3px 1px rgba(60, 64, 67, 0.15);\n",
              "      fill: #174EA6;\n",
              "    }\n",
              "\n",
              "    [theme=dark] .colab-df-convert {\n",
              "      background-color: #3B4455;\n",
              "      fill: #D2E3FC;\n",
              "    }\n",
              "\n",
              "    [theme=dark] .colab-df-convert:hover {\n",
              "      background-color: #434B5C;\n",
              "      box-shadow: 0px 1px 3px 1px rgba(0, 0, 0, 0.15);\n",
              "      filter: drop-shadow(0px 1px 2px rgba(0, 0, 0, 0.3));\n",
              "      fill: #FFFFFF;\n",
              "    }\n",
              "  </style>\n",
              "\n",
              "      <script>\n",
              "        const buttonEl =\n",
              "          document.querySelector('#df-c65013d4-8c50-4a9f-ba9d-a0deddc5c72f button.colab-df-convert');\n",
              "        buttonEl.style.display =\n",
              "          google.colab.kernel.accessAllowed ? 'block' : 'none';\n",
              "\n",
              "        async function convertToInteractive(key) {\n",
              "          const element = document.querySelector('#df-c65013d4-8c50-4a9f-ba9d-a0deddc5c72f');\n",
              "          const dataTable =\n",
              "            await google.colab.kernel.invokeFunction('convertToInteractive',\n",
              "                                                     [key], {});\n",
              "          if (!dataTable) return;\n",
              "\n",
              "          const docLinkHtml = 'Like what you see? Visit the ' +\n",
              "            '<a target=\"_blank\" href=https://colab.research.google.com/notebooks/data_table.ipynb>data table notebook</a>'\n",
              "            + ' to learn more about interactive tables.';\n",
              "          element.innerHTML = '';\n",
              "          dataTable['output_type'] = 'display_data';\n",
              "          await google.colab.output.renderOutput(dataTable, element);\n",
              "          const docLink = document.createElement('div');\n",
              "          docLink.innerHTML = docLinkHtml;\n",
              "          element.appendChild(docLink);\n",
              "        }\n",
              "      </script>\n",
              "    </div>\n",
              "  </div>\n",
              "  "
            ]
          },
          "metadata": {},
          "execution_count": 66
        }
      ]
    },
    {
      "cell_type": "code",
      "source": [
        "gold_dataset.info()"
      ],
      "metadata": {
        "colab": {
          "base_uri": "https://localhost:8080/"
        },
        "id": "___3M2pbLoFH",
        "outputId": "c965e74f-e40f-4bff-dc61-dff3dd225be5"
      },
      "execution_count": 67,
      "outputs": [
        {
          "output_type": "stream",
          "name": "stdout",
          "text": [
            "<class 'pandas.core.frame.DataFrame'>\n",
            "RangeIndex: 2290 entries, 0 to 2289\n",
            "Data columns (total 6 columns):\n",
            " #   Column   Non-Null Count  Dtype  \n",
            "---  ------   --------------  -----  \n",
            " 0   Date     2290 non-null   object \n",
            " 1   SPX      2290 non-null   float64\n",
            " 2   GLD      2290 non-null   float64\n",
            " 3   USO      2290 non-null   float64\n",
            " 4   SLV      2290 non-null   float64\n",
            " 5   EUR/USD  2290 non-null   float64\n",
            "dtypes: float64(5), object(1)\n",
            "memory usage: 107.5+ KB\n"
          ]
        }
      ]
    },
    {
      "cell_type": "code",
      "source": [
        "gold_dataset.shape"
      ],
      "metadata": {
        "colab": {
          "base_uri": "https://localhost:8080/"
        },
        "id": "A2qQy-cULsBD",
        "outputId": "6b246b89-cdf1-43ca-ff24-57312fcfa53c"
      },
      "execution_count": 68,
      "outputs": [
        {
          "output_type": "execute_result",
          "data": {
            "text/plain": [
              "(2290, 6)"
            ]
          },
          "metadata": {},
          "execution_count": 68
        }
      ]
    },
    {
      "cell_type": "code",
      "source": [
        "df = pd.DataFrame(gold_dataset)\n",
        "correlation_matrix=df.corr()\n"
      ],
      "metadata": {
        "colab": {
          "base_uri": "https://localhost:8080/"
        },
        "id": "I5KTVKvOiskn",
        "outputId": "48ce4e5e-ad89-46ab-a850-5d72d66a1788"
      },
      "execution_count": 69,
      "outputs": [
        {
          "output_type": "stream",
          "name": "stderr",
          "text": [
            "<ipython-input-69-cf2dee7edd8c>:2: FutureWarning: The default value of numeric_only in DataFrame.corr is deprecated. In a future version, it will default to False. Select only valid columns or specify the value of numeric_only to silence this warning.\n",
            "  correlation_matrix=df.corr()\n"
          ]
        }
      ]
    },
    {
      "cell_type": "code",
      "source": [
        "print(correlation_matrix)"
      ],
      "metadata": {
        "colab": {
          "base_uri": "https://localhost:8080/"
        },
        "id": "6hrLp9aflcb9",
        "outputId": "ca1ebd02-ea88-4b85-c086-468fe94c81af"
      },
      "execution_count": 70,
      "outputs": [
        {
          "output_type": "stream",
          "name": "stdout",
          "text": [
            "              SPX       GLD       USO       SLV   EUR/USD\n",
            "SPX      1.000000  0.049345 -0.591573 -0.274055 -0.672017\n",
            "GLD      0.049345  1.000000 -0.186360  0.866632 -0.024375\n",
            "USO     -0.591573 -0.186360  1.000000  0.167547  0.829317\n",
            "SLV     -0.274055  0.866632  0.167547  1.000000  0.321631\n",
            "EUR/USD -0.672017 -0.024375  0.829317  0.321631  1.000000\n"
          ]
        }
      ]
    },
    {
      "cell_type": "code",
      "source": [
        "import seaborn as sns\n",
        "plt.figure(figsize=(8,8))\n",
        "sns.heatmap(correlation_matrix, cbar=True, square=True, fmt='.1f',annot=True, annot_kws={'size':8}, cmap=sns.cubehelix_palette(as_cmap=True))"
      ],
      "metadata": {
        "colab": {
          "base_uri": "https://localhost:8080/",
          "height": 675
        },
        "id": "MkOzNEXTi5fK",
        "outputId": "06459935-d027-4df5-9775-33dc6d9e3374"
      },
      "execution_count": 81,
      "outputs": [
        {
          "output_type": "execute_result",
          "data": {
            "text/plain": [
              "<Axes: >"
            ]
          },
          "metadata": {},
          "execution_count": 81
        },
        {
          "output_type": "display_data",
          "data": {
            "text/plain": [
              "<Figure size 800x800 with 2 Axes>"
            ],
            "image/png": "[encoded data removed]"
          },
          "metadata": {}
        }
      ]
    },
    {
      "cell_type": "code",
      "source": [
        "print(correlation_matrix['GLD'])"
      ],
      "metadata": {
        "colab": {
          "base_uri": "https://localhost:8080/"
        },
        "id": "JZV0gTcro7zS",
        "outputId": "88e305e2-b961-4622-9d7c-9669024e75d4"
      },
      "execution_count": 83,
      "outputs": [
        {
          "output_type": "stream",
          "name": "stdout",
          "text": [
            "SPX        0.049345\n",
            "GLD        1.000000\n",
            "USO       -0.186360\n",
            "SLV        0.866632\n",
            "EUR/USD   -0.024375\n",
            "Name: GLD, dtype: float64\n"
          ]
        }
      ]
    },
    {
      "cell_type": "code",
      "source": [
        "sns.distplot(gold_dataset['GLD'],color='Blue')"
      ],
      "metadata": {
        "colab": {
          "base_uri": "https://localhost:8080/",
          "height": 662
        },
        "id": "YYca1-jbpGN-",
        "outputId": "57cc6216-1021-4445-8e37-b5b48a9cb89a"
      },
      "execution_count": 88,
      "outputs": [
        {
          "output_type": "stream",
          "name": "stderr",
          "text": [
            "<ipython-input-88-f7224d55be92>:1: UserWarning: \n",
            "\n",
            "`distplot` is a deprecated function and will be removed in seaborn v0.14.0.\n",
            "\n",
            "Please adapt your code to use either `displot` (a figure-level function with\n",
            "similar flexibility) or `histplot` (an axes-level function for histograms).\n",
            "\n",
            "For a guide to updating your code to use the new functions, please see\n",
            "https://gist.github.com/mwaskom/de44147ed2974457ad6372750bbe5751\n",
            "\n",
            "  sns.distplot(gold_dataset['GLD'],color='Blue')\n"
          ]
        },
        {
          "output_type": "execute_result",
          "data": {
            "text/plain": [
              "<Axes: xlabel='GLD', ylabel='Density'>"
            ]
          },
          "metadata": {},
          "execution_count": 88
        },
        {
          "output_type": "display_data",
          "data": {
            "text/plain": [
              "<Figure size 640x480 with 1 Axes>"
            ],
            "image/png": "[encoded data removed]"
          },
          "metadata": {}
        }
      ]
    },
    {
      "cell_type": "code",
      "source": [
        "from sklearn.model_selection import train_test_split\n",
        "x_train,x_test,y_train,y_test=train_test_split(x,y,test_size=0.2,random_state=0)"
      ],
      "metadata": {
        "id": "vbNSv4o5Lvmp"
      },
      "execution_count": 72,
      "outputs": []
    },
    {
      "cell_type": "code",
      "source": [
        "x_train"
      ],
      "metadata": {
        "colab": {
          "base_uri": "https://localhost:8080/"
        },
        "id": "ylILMohuMCVh",
        "outputId": "b6c98f6c-d710-4a9f-a524-5d6e7052b563"
      },
      "execution_count": 73,
      "outputs": [
        {
          "output_type": "execute_result",
          "data": {
            "text/plain": [
              "array([[1165.81,  107.75,   39.56,   16.6 ],\n",
              "       [1349.99,   89.15,   75.93,   16.95],\n",
              "       [2041.89,  100.5 ,   10.74,   13.08],\n",
              "       ...,\n",
              "       [1283.5 ,  148.34,   36.01,   34.37],\n",
              "       [1218.28,  167.38,   35.2 ,   32.33],\n",
              "       [2077.42,  111.98,   19.1 ,   14.9 ]])"
            ]
          },
          "metadata": {},
          "execution_count": 73
        }
      ]
    },
    {
      "cell_type": "code",
      "source": [
        "x_test"
      ],
      "metadata": {
        "colab": {
          "base_uri": "https://localhost:8080/"
        },
        "id": "JkZtaiFDMMTU",
        "outputId": "5e95a6af-2e74-425c-a9f4-b9ffa81cbfa3"
      },
      "execution_count": 74,
      "outputs": [
        {
          "output_type": "execute_result",
          "data": {
            "text/plain": [
              "array([[1692.77,  128.79,   36.88,   20.98],\n",
              "       [2425.53,  115.62,    9.27,   14.99],\n",
              "       [1309.66,  139.22,   42.05,   36.12],\n",
              "       ...,\n",
              "       [1209.88,  159.87,   33.31,   30.23],\n",
              "       [1089.47,  117.34,   34.74,   17.53],\n",
              "       [1952.29,  106.38,   14.93,   13.99]])"
            ]
          },
          "metadata": {},
          "execution_count": 74
        }
      ]
    },
    {
      "cell_type": "code",
      "source": [
        "y_test"
      ],
      "metadata": {
        "colab": {
          "base_uri": "https://localhost:8080/"
        },
        "id": "o1zdLRfFMO0b",
        "outputId": "625428d8-0208-4fe0-9e3d-9a8c346b5ef2"
      },
      "execution_count": 75,
      "outputs": [
        {
          "output_type": "execute_result",
          "data": {
            "text/plain": [
              "array([1.35, 1.15, 1.41, 1.36, 1.56, 1.28, 1.06, 1.36, 1.27, 1.09, 1.07,\n",
              "       1.11, 1.41, 1.28, 1.16, 1.19, 1.32, 1.39, 1.59, 1.38, 1.45, 1.13,\n",
              "       1.35, 1.37, 1.41, 1.41, 1.11, 1.31, 1.29, 1.11, 1.05, 1.09, 1.37,\n",
              "       1.18, 1.46, 1.37, 1.4 , 1.12, 1.25, 1.42, 1.5 , 1.37, 1.35, 1.33,\n",
              "       1.34, 1.44, 1.18, 1.33, 1.36, 1.23, 1.31, 1.28, 1.39, 1.21, 1.23,\n",
              "       1.27, 1.08, 1.56, 1.23, 1.11, 1.47, 1.12, 1.34, 1.46, 1.38, 1.35,\n",
              "       1.23, 1.23, 1.32, 1.16, 1.23, 1.36, 1.28, 1.33, 1.25, 1.11, 1.24,\n",
              "       1.04, 1.06, 1.33, 1.36, 1.34, 1.28, 1.38, 1.45, 1.31, 1.09, 1.12,\n",
              "       1.34, 1.52, 1.13, 1.25, 1.33, 1.32, 1.2 , 1.36, 1.57, 1.38, 1.32,\n",
              "       1.25, 1.25, 1.12, 1.11, 1.13, 1.32, 1.38, 1.33, 1.3 , 1.09, 1.26,\n",
              "       1.08, 1.38, 1.25, 1.36, 1.58, 1.3 , 1.08, 1.38, 1.29, 1.06, 1.29,\n",
              "       1.56, 1.26, 1.18, 1.1 , 1.07, 1.27, 1.33, 1.2 , 1.5 , 1.41, 1.11,\n",
              "       1.27, 1.19, 1.1 , 1.49, 1.26, 1.23, 1.41, 1.24, 1.14, 1.3 , 1.39,\n",
              "       1.43, 1.29, 1.29, 1.38, 1.18, 1.2 , 1.19, 1.31, 1.08, 1.07, 1.58,\n",
              "       1.37, 1.49, 1.47, 1.29, 1.11, 1.56, 1.35, 1.45, 1.37, 1.24, 1.13,\n",
              "       1.14, 1.37, 1.09, 1.09, 1.13, 1.27, 1.18, 1.36, 1.27, 1.09, 1.19,\n",
              "       1.49, 1.1 , 1.17, 1.21, 1.46, 1.44, 1.17, 1.18, 1.33, 1.24, 1.45,\n",
              "       1.38, 1.34, 1.36, 1.29, 1.31, 1.3 , 1.14, 1.33, 1.32, 1.38, 1.34,\n",
              "       1.39, 1.25, 1.34, 1.58, 1.39, 1.42, 1.55, 1.33, 1.36, 1.45, 1.33,\n",
              "       1.25, 1.3 , 1.06, 1.32, 1.06, 1.13, 1.35, 1.08, 1.23, 1.33, 1.09,\n",
              "       1.32, 1.27, 1.36, 1.31, 1.14, 1.41, 1.28, 1.39, 1.3 , 1.38, 1.34,\n",
              "       1.37, 1.32, 1.31, 1.32, 1.27, 1.36, 1.32, 1.36, 1.33, 1.29, 1.27,\n",
              "       1.4 , 1.28, 1.21, 1.32, 1.38, 1.26, 1.45, 1.12, 1.33, 1.14, 1.07,\n",
              "       1.31, 1.27, 1.09, 1.2 , 1.32, 1.25, 1.13, 1.43, 1.38, 1.23, 1.35,\n",
              "       1.36, 1.44, 1.3 , 1.32, 1.43, 1.44, 1.36, 1.09, 1.46, 1.12, 1.23,\n",
              "       1.31, 1.37, 1.35, 1.09, 1.34, 1.14, 1.12, 1.11, 1.48, 1.28, 1.43,\n",
              "       1.3 , 1.35, 1.29, 1.53, 1.47, 1.3 , 1.25, 1.17, 1.1 , 1.48, 1.43,\n",
              "       1.13, 1.1 , 1.19, 1.4 , 1.46, 1.38, 1.24, 1.29, 1.4 , 1.3 , 1.34,\n",
              "       1.13, 1.14, 1.23, 1.29, 1.42, 1.14, 1.11, 1.38, 1.22, 1.3 , 1.46,\n",
              "       1.09, 1.4 , 1.27, 1.3 , 1.07, 1.49, 1.48, 1.43, 1.25, 1.13, 1.31,\n",
              "       1.2 , 1.35, 1.33, 1.43, 1.27, 1.32, 1.24, 1.38, 1.06, 1.31, 1.12,\n",
              "       1.35, 1.13, 1.34, 1.17, 1.35, 1.36, 1.19, 1.48, 1.48, 1.08, 1.13,\n",
              "       1.06, 1.26, 1.44, 1.47, 1.14, 1.26, 1.28, 1.23, 1.23, 1.34, 1.19,\n",
              "       1.36, 1.37, 1.29, 1.5 , 1.25, 1.27, 1.05, 1.09, 1.12, 1.24, 1.22,\n",
              "       1.11, 1.1 , 1.49, 1.36, 1.11, 1.48, 1.35, 1.36, 1.24, 1.42, 1.31,\n",
              "       1.35, 1.37, 1.37, 1.39, 1.06, 1.07, 1.41, 1.42, 1.08, 1.37, 1.11,\n",
              "       1.33, 1.17, 1.48, 1.13, 1.2 , 1.46, 1.34, 1.33, 1.24, 1.34, 1.36,\n",
              "       1.37, 1.55, 1.37, 1.14, 1.23, 1.1 , 1.31, 1.4 , 1.07, 1.37, 1.08,\n",
              "       1.23, 1.29, 1.28, 1.36, 1.35, 1.28, 1.33, 1.19, 1.06, 1.47, 1.09,\n",
              "       1.27, 1.12, 1.19, 1.35, 1.12, 1.43, 1.32, 1.12, 1.52, 1.38, 1.25,\n",
              "       1.3 , 1.31, 1.28, 1.26, 1.28, 1.32, 1.29, 1.3 , 1.34, 1.36, 1.18,\n",
              "       1.4 , 1.07, 1.12, 1.39, 1.38, 1.28, 1.13])"
            ]
          },
          "metadata": {},
          "execution_count": 75
        }
      ]
    },
    {
      "cell_type": "code",
      "source": [
        "y_train"
      ],
      "metadata": {
        "colab": {
          "base_uri": "https://localhost:8080/"
        },
        "id": "rvjI4sbWMP3a",
        "outputId": "5eb4f730-7b61-47c6-b894-e6464c08501f"
      },
      "execution_count": 76,
      "outputs": [
        {
          "output_type": "execute_result",
          "data": {
            "text/plain": [
              "array([1.36, 1.47, 1.09, ..., 1.43, 1.39, 1.1 ])"
            ]
          },
          "metadata": {},
          "execution_count": 76
        }
      ]
    },
    {
      "cell_type": "code",
      "source": [
        "from sklearn.ensemble import RandomForestRegressor\n",
        "regressor=RandomForestRegressor(n_estimators=10,random_state=0)\n",
        "regressor.fit(x_train,y_train)\n",
        "y_pred=regressor.predict(x_test)"
      ],
      "metadata": {
        "id": "NO7gAbyVMQu_"
      },
      "execution_count": 77,
      "outputs": []
    },
    {
      "cell_type": "code",
      "source": [
        "np.set_printoptions(precision=2)\n",
        "print(np.concatenate((y_pred.reshape(len(y_pred),1),y_test.reshape(len(y_test),1)),1))"
      ],
      "metadata": {
        "colab": {
          "base_uri": "https://localhost:8080/"
        },
        "id": "NYPYuUvlNdaF",
        "outputId": "11838b4d-db33-495f-ca40-61abd7864e36"
      },
      "execution_count": 78,
      "outputs": [
        {
          "output_type": "stream",
          "name": "stdout",
          "text": [
            "[[1.35 1.35]\n",
            " [1.14 1.15]\n",
            " [1.41 1.41]\n",
            " [1.36 1.36]\n",
            " [1.57 1.56]\n",
            " [1.27 1.28]\n",
            " [1.06 1.06]\n",
            " [1.34 1.36]\n",
            " [1.27 1.27]\n",
            " [1.1  1.09]\n",
            " [1.07 1.07]\n",
            " [1.11 1.11]\n",
            " [1.4  1.41]\n",
            " [1.28 1.28]\n",
            " [1.17 1.16]\n",
            " [1.18 1.19]\n",
            " [1.31 1.32]\n",
            " [1.39 1.39]\n",
            " [1.58 1.59]\n",
            " [1.37 1.38]\n",
            " [1.45 1.45]\n",
            " [1.13 1.13]\n",
            " [1.36 1.35]\n",
            " [1.4  1.37]\n",
            " [1.4  1.41]\n",
            " [1.41 1.41]\n",
            " [1.12 1.11]\n",
            " [1.31 1.31]\n",
            " [1.3  1.29]\n",
            " [1.12 1.11]\n",
            " [1.05 1.05]\n",
            " [1.09 1.09]\n",
            " [1.38 1.37]\n",
            " [1.16 1.18]\n",
            " [1.47 1.46]\n",
            " [1.36 1.37]\n",
            " [1.42 1.4 ]\n",
            " [1.13 1.12]\n",
            " [1.24 1.25]\n",
            " [1.41 1.42]\n",
            " [1.5  1.5 ]\n",
            " [1.36 1.37]\n",
            " [1.35 1.35]\n",
            " [1.32 1.33]\n",
            " [1.35 1.34]\n",
            " [1.42 1.44]\n",
            " [1.18 1.18]\n",
            " [1.36 1.33]\n",
            " [1.35 1.36]\n",
            " [1.24 1.23]\n",
            " [1.31 1.31]\n",
            " [1.3  1.28]\n",
            " [1.38 1.39]\n",
            " [1.22 1.21]\n",
            " [1.24 1.23]\n",
            " [1.28 1.27]\n",
            " [1.11 1.08]\n",
            " [1.55 1.56]\n",
            " [1.25 1.23]\n",
            " [1.08 1.11]\n",
            " [1.5  1.47]\n",
            " [1.16 1.12]\n",
            " [1.38 1.34]\n",
            " [1.46 1.46]\n",
            " [1.37 1.38]\n",
            " [1.35 1.35]\n",
            " [1.23 1.23]\n",
            " [1.25 1.23]\n",
            " [1.31 1.32]\n",
            " [1.17 1.16]\n",
            " [1.23 1.23]\n",
            " [1.4  1.36]\n",
            " [1.28 1.28]\n",
            " [1.36 1.33]\n",
            " [1.26 1.25]\n",
            " [1.11 1.11]\n",
            " [1.24 1.24]\n",
            " [1.04 1.04]\n",
            " [1.11 1.06]\n",
            " [1.32 1.33]\n",
            " [1.36 1.36]\n",
            " [1.34 1.34]\n",
            " [1.24 1.28]\n",
            " [1.37 1.38]\n",
            " [1.42 1.45]\n",
            " [1.31 1.31]\n",
            " [1.1  1.09]\n",
            " [1.12 1.12]\n",
            " [1.34 1.34]\n",
            " [1.53 1.52]\n",
            " [1.09 1.13]\n",
            " [1.25 1.25]\n",
            " [1.31 1.33]\n",
            " [1.32 1.32]\n",
            " [1.24 1.2 ]\n",
            " [1.36 1.36]\n",
            " [1.58 1.57]\n",
            " [1.37 1.38]\n",
            " [1.32 1.32]\n",
            " [1.28 1.25]\n",
            " [1.25 1.25]\n",
            " [1.1  1.12]\n",
            " [1.11 1.11]\n",
            " [1.19 1.13]\n",
            " [1.33 1.32]\n",
            " [1.38 1.38]\n",
            " [1.32 1.33]\n",
            " [1.32 1.3 ]\n",
            " [1.11 1.09]\n",
            " [1.3  1.26]\n",
            " [1.08 1.08]\n",
            " [1.38 1.38]\n",
            " [1.25 1.25]\n",
            " [1.35 1.36]\n",
            " [1.57 1.58]\n",
            " [1.3  1.3 ]\n",
            " [1.07 1.08]\n",
            " [1.36 1.38]\n",
            " [1.32 1.29]\n",
            " [1.05 1.06]\n",
            " [1.3  1.29]\n",
            " [1.58 1.56]\n",
            " [1.28 1.26]\n",
            " [1.18 1.18]\n",
            " [1.09 1.1 ]\n",
            " [1.08 1.07]\n",
            " [1.29 1.27]\n",
            " [1.32 1.33]\n",
            " [1.23 1.2 ]\n",
            " [1.49 1.5 ]\n",
            " [1.43 1.41]\n",
            " [1.12 1.11]\n",
            " [1.29 1.27]\n",
            " [1.19 1.19]\n",
            " [1.1  1.1 ]\n",
            " [1.5  1.49]\n",
            " [1.29 1.26]\n",
            " [1.22 1.23]\n",
            " [1.43 1.41]\n",
            " [1.24 1.24]\n",
            " [1.11 1.14]\n",
            " [1.3  1.3 ]\n",
            " [1.39 1.39]\n",
            " [1.41 1.43]\n",
            " [1.3  1.29]\n",
            " [1.32 1.29]\n",
            " [1.37 1.38]\n",
            " [1.18 1.18]\n",
            " [1.19 1.2 ]\n",
            " [1.18 1.19]\n",
            " [1.31 1.31]\n",
            " [1.09 1.08]\n",
            " [1.07 1.07]\n",
            " [1.56 1.58]\n",
            " [1.32 1.37]\n",
            " [1.49 1.49]\n",
            " [1.47 1.47]\n",
            " [1.28 1.29]\n",
            " [1.11 1.11]\n",
            " [1.55 1.56]\n",
            " [1.35 1.35]\n",
            " [1.46 1.45]\n",
            " [1.36 1.37]\n",
            " [1.24 1.24]\n",
            " [1.12 1.13]\n",
            " [1.13 1.14]\n",
            " [1.38 1.37]\n",
            " [1.08 1.09]\n",
            " [1.08 1.09]\n",
            " [1.12 1.13]\n",
            " [1.25 1.27]\n",
            " [1.18 1.18]\n",
            " [1.37 1.36]\n",
            " [1.25 1.27]\n",
            " [1.1  1.09]\n",
            " [1.19 1.19]\n",
            " [1.48 1.49]\n",
            " [1.1  1.1 ]\n",
            " [1.18 1.17]\n",
            " [1.22 1.21]\n",
            " [1.45 1.46]\n",
            " [1.4  1.44]\n",
            " [1.18 1.17]\n",
            " [1.16 1.18]\n",
            " [1.33 1.33]\n",
            " [1.34 1.24]\n",
            " [1.43 1.45]\n",
            " [1.38 1.38]\n",
            " [1.33 1.34]\n",
            " [1.37 1.36]\n",
            " [1.3  1.29]\n",
            " [1.31 1.31]\n",
            " [1.31 1.3 ]\n",
            " [1.15 1.14]\n",
            " [1.32 1.33]\n",
            " [1.33 1.32]\n",
            " [1.38 1.38]\n",
            " [1.35 1.34]\n",
            " [1.41 1.39]\n",
            " [1.35 1.25]\n",
            " [1.35 1.34]\n",
            " [1.59 1.58]\n",
            " [1.39 1.39]\n",
            " [1.42 1.42]\n",
            " [1.55 1.55]\n",
            " [1.35 1.33]\n",
            " [1.38 1.36]\n",
            " [1.44 1.45]\n",
            " [1.31 1.33]\n",
            " [1.27 1.25]\n",
            " [1.3  1.3 ]\n",
            " [1.06 1.06]\n",
            " [1.32 1.32]\n",
            " [1.06 1.06]\n",
            " [1.13 1.13]\n",
            " [1.33 1.35]\n",
            " [1.09 1.08]\n",
            " [1.23 1.23]\n",
            " [1.4  1.33]\n",
            " [1.09 1.09]\n",
            " [1.34 1.32]\n",
            " [1.35 1.27]\n",
            " [1.36 1.36]\n",
            " [1.31 1.31]\n",
            " [1.11 1.14]\n",
            " [1.43 1.41]\n",
            " [1.27 1.28]\n",
            " [1.39 1.39]\n",
            " [1.29 1.3 ]\n",
            " [1.38 1.38]\n",
            " [1.35 1.34]\n",
            " [1.37 1.37]\n",
            " [1.31 1.32]\n",
            " [1.31 1.31]\n",
            " [1.32 1.32]\n",
            " [1.26 1.27]\n",
            " [1.36 1.36]\n",
            " [1.32 1.32]\n",
            " [1.35 1.36]\n",
            " [1.4  1.33]\n",
            " [1.3  1.29]\n",
            " [1.27 1.27]\n",
            " [1.38 1.4 ]\n",
            " [1.31 1.28]\n",
            " [1.22 1.21]\n",
            " [1.31 1.32]\n",
            " [1.38 1.38]\n",
            " [1.28 1.26]\n",
            " [1.5  1.45]\n",
            " [1.12 1.12]\n",
            " [1.34 1.33]\n",
            " [1.11 1.14]\n",
            " [1.08 1.07]\n",
            " [1.29 1.31]\n",
            " [1.27 1.27]\n",
            " [1.1  1.09]\n",
            " [1.26 1.2 ]\n",
            " [1.3  1.32]\n",
            " [1.25 1.25]\n",
            " [1.13 1.13]\n",
            " [1.44 1.43]\n",
            " [1.38 1.38]\n",
            " [1.23 1.23]\n",
            " [1.34 1.35]\n",
            " [1.35 1.36]\n",
            " [1.43 1.44]\n",
            " [1.3  1.3 ]\n",
            " [1.32 1.32]\n",
            " [1.43 1.43]\n",
            " [1.4  1.44]\n",
            " [1.38 1.36]\n",
            " [1.1  1.09]\n",
            " [1.47 1.46]\n",
            " [1.12 1.12]\n",
            " [1.25 1.23]\n",
            " [1.3  1.31]\n",
            " [1.36 1.37]\n",
            " [1.32 1.35]\n",
            " [1.09 1.09]\n",
            " [1.34 1.34]\n",
            " [1.14 1.14]\n",
            " [1.11 1.12]\n",
            " [1.12 1.11]\n",
            " [1.5  1.48]\n",
            " [1.29 1.28]\n",
            " [1.39 1.43]\n",
            " [1.3  1.3 ]\n",
            " [1.35 1.35]\n",
            " [1.25 1.29]\n",
            " [1.55 1.53]\n",
            " [1.46 1.47]\n",
            " [1.45 1.3 ]\n",
            " [1.26 1.25]\n",
            " [1.18 1.17]\n",
            " [1.1  1.1 ]\n",
            " [1.49 1.48]\n",
            " [1.43 1.43]\n",
            " [1.13 1.13]\n",
            " [1.12 1.1 ]\n",
            " [1.19 1.19]\n",
            " [1.43 1.4 ]\n",
            " [1.47 1.46]\n",
            " [1.39 1.38]\n",
            " [1.25 1.24]\n",
            " [1.3  1.29]\n",
            " [1.44 1.4 ]\n",
            " [1.29 1.3 ]\n",
            " [1.34 1.34]\n",
            " [1.12 1.13]\n",
            " [1.12 1.14]\n",
            " [1.23 1.23]\n",
            " [1.31 1.29]\n",
            " [1.41 1.42]\n",
            " [1.14 1.14]\n",
            " [1.12 1.11]\n",
            " [1.38 1.38]\n",
            " [1.14 1.22]\n",
            " [1.31 1.3 ]\n",
            " [1.46 1.46]\n",
            " [1.1  1.09]\n",
            " [1.38 1.4 ]\n",
            " [1.26 1.27]\n",
            " [1.32 1.3 ]\n",
            " [1.08 1.07]\n",
            " [1.47 1.49]\n",
            " [1.44 1.48]\n",
            " [1.43 1.43]\n",
            " [1.25 1.25]\n",
            " [1.1  1.13]\n",
            " [1.34 1.31]\n",
            " [1.2  1.2 ]\n",
            " [1.35 1.35]\n",
            " [1.31 1.33]\n",
            " [1.4  1.43]\n",
            " [1.27 1.27]\n",
            " [1.33 1.32]\n",
            " [1.25 1.24]\n",
            " [1.43 1.38]\n",
            " [1.07 1.06]\n",
            " [1.3  1.31]\n",
            " [1.12 1.12]\n",
            " [1.35 1.35]\n",
            " [1.13 1.13]\n",
            " [1.34 1.34]\n",
            " [1.16 1.17]\n",
            " [1.36 1.35]\n",
            " [1.35 1.36]\n",
            " [1.2  1.19]\n",
            " [1.5  1.48]\n",
            " [1.44 1.48]\n",
            " [1.08 1.08]\n",
            " [1.13 1.13]\n",
            " [1.06 1.06]\n",
            " [1.25 1.26]\n",
            " [1.43 1.44]\n",
            " [1.51 1.47]\n",
            " [1.13 1.14]\n",
            " [1.26 1.26]\n",
            " [1.23 1.28]\n",
            " [1.23 1.23]\n",
            " [1.23 1.23]\n",
            " [1.33 1.34]\n",
            " [1.18 1.19]\n",
            " [1.36 1.36]\n",
            " [1.36 1.37]\n",
            " [1.28 1.29]\n",
            " [1.54 1.5 ]\n",
            " [1.28 1.25]\n",
            " [1.28 1.27]\n",
            " [1.07 1.05]\n",
            " [1.09 1.09]\n",
            " [1.13 1.12]\n",
            " [1.24 1.24]\n",
            " [1.23 1.22]\n",
            " [1.1  1.11]\n",
            " [1.11 1.1 ]\n",
            " [1.49 1.49]\n",
            " [1.4  1.36]\n",
            " [1.09 1.11]\n",
            " [1.48 1.48]\n",
            " [1.36 1.35]\n",
            " [1.35 1.36]\n",
            " [1.23 1.24]\n",
            " [1.39 1.42]\n",
            " [1.31 1.31]\n",
            " [1.36 1.35]\n",
            " [1.36 1.37]\n",
            " [1.39 1.37]\n",
            " [1.42 1.39]\n",
            " [1.06 1.06]\n",
            " [1.07 1.07]\n",
            " [1.42 1.41]\n",
            " [1.44 1.42]\n",
            " [1.09 1.08]\n",
            " [1.37 1.37]\n",
            " [1.11 1.11]\n",
            " [1.33 1.33]\n",
            " [1.18 1.17]\n",
            " [1.48 1.48]\n",
            " [1.13 1.13]\n",
            " [1.19 1.2 ]\n",
            " [1.46 1.46]\n",
            " [1.37 1.34]\n",
            " [1.33 1.33]\n",
            " [1.23 1.24]\n",
            " [1.32 1.34]\n",
            " [1.35 1.36]\n",
            " [1.36 1.37]\n",
            " [1.54 1.55]\n",
            " [1.38 1.37]\n",
            " [1.13 1.14]\n",
            " [1.25 1.23]\n",
            " [1.09 1.1 ]\n",
            " [1.31 1.31]\n",
            " [1.39 1.4 ]\n",
            " [1.07 1.07]\n",
            " [1.37 1.37]\n",
            " [1.12 1.08]\n",
            " [1.24 1.23]\n",
            " [1.31 1.29]\n",
            " [1.24 1.28]\n",
            " [1.38 1.36]\n",
            " [1.36 1.35]\n",
            " [1.31 1.28]\n",
            " [1.33 1.33]\n",
            " [1.18 1.19]\n",
            " [1.06 1.06]\n",
            " [1.42 1.47]\n",
            " [1.09 1.09]\n",
            " [1.29 1.27]\n",
            " [1.12 1.12]\n",
            " [1.19 1.19]\n",
            " [1.35 1.35]\n",
            " [1.12 1.12]\n",
            " [1.41 1.43]\n",
            " [1.31 1.32]\n",
            " [1.12 1.12]\n",
            " [1.53 1.52]\n",
            " [1.35 1.38]\n",
            " [1.23 1.25]\n",
            " [1.33 1.3 ]\n",
            " [1.32 1.31]\n",
            " [1.32 1.28]\n",
            " [1.32 1.26]\n",
            " [1.29 1.28]\n",
            " [1.32 1.32]\n",
            " [1.3  1.29]\n",
            " [1.3  1.3 ]\n",
            " [1.35 1.34]\n",
            " [1.36 1.36]\n",
            " [1.17 1.18]\n",
            " [1.39 1.4 ]\n",
            " [1.07 1.07]\n",
            " [1.12 1.12]\n",
            " [1.38 1.39]\n",
            " [1.38 1.38]\n",
            " [1.27 1.28]\n",
            " [1.13 1.13]]\n"
          ]
        }
      ]
    },
    {
      "cell_type": "code",
      "source": [
        "from sklearn.metrics import r2_score\n",
        "print(r2_score(y_test,y_pred))"
      ],
      "metadata": {
        "colab": {
          "base_uri": "https://localhost:8080/"
        },
        "id": "Uu0MJWW_OYuv",
        "outputId": "0bf985e3-c86a-41c0-a811-156c201cba25"
      },
      "execution_count": 79,
      "outputs": [
        {
          "output_type": "stream",
          "name": "stdout",
          "text": [
            "0.9755404154146976\n"
          ]
        }
      ]
    },
    {
      "cell_type": "code",
      "source": [
        "y_test=list(y_test)\n",
        "plt.plot(y_test,color='red',label='Actual values')\n",
        "plt.plot(y_pred,color='blue',label='Predicted values')\n",
        "plt.title('Actual values vs Predicted values')\n",
        "plt.ylabel('Gold Prices')\n",
        "plt.xlabel('Density')\n",
        "plt.legend()\n",
        "plt.show()\n"
      ],
      "metadata": {
        "id": "r3yb9_3IOqy_",
        "colab": {
          "base_uri": "https://localhost:8080/",
          "height": 472
        },
        "outputId": "83ba21ca-e9ad-4cd6-9129-daeaff5983a7"
      },
      "execution_count": 92,
      "outputs": [
        {
          "output_type": "display_data",
          "data": {
            "text/plain": [
              "<Figure size 640x480 with 1 Axes>"
            ],
            "image/png": "[encoded data removed]"
          },
          "metadata": {}
        }
      ]
    },
    {
      "cell_type": "code",
      "source": [],
      "metadata": {
        "id": "KUyEm7B6pc-D"
      },
      "execution_count": null,
      "outputs": []
    }
  ]
}